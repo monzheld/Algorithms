{
 "cells": [
  {
   "attachments": {},
   "cell_type": "markdown",
   "metadata": {},
   "source": [
    "[문제](https://school.programmers.co.kr/learn/courses/30/lessons/42748)"
   ]
  },
  {
   "attachments": {},
   "cell_type": "markdown",
   "metadata": {},
   "source": [
    "### 정렬"
   ]
  },
  {
   "attachments": {},
   "cell_type": "markdown",
   "metadata": {},
   "source": [
    "- 배열 **array의 i번째 숫자부터 j번째 숫자까지 자르고 정렬했을 때, k번째에 있는 수** 구하기\n",
    "\n",
    "    - ex) array가 [1, 5, 2, 6, 3, 7, 4], i = 2, j = 5, k = 3이라면\n",
    "        - 1) array의 2번째부터 5번째까지 자르면 [5, 2, 6, 3]\n",
    "        - 2) 1에서 나온 배열을 정렬하면 [2, 3, 5, 6]\n",
    "        - 3) 2에서 나온 배열의 3번째 숫자는 5\n",
    "\n",
    "- commands: 배열 array, [i, j, k]를 원소로 가진 2차원 배열\n",
    "- **commands의 모든 원소에 대해 앞서 설명한 연산을 적용했을 때 나온 결과를 배열에 담아** return"
   ]
  },
  {
   "attachments": {},
   "cell_type": "markdown",
   "metadata": {},
   "source": [
    "**제한사항**\n",
    "\n",
    "- array의 길이는 1 이상 100 이하\n",
    "- array의 각 원소는 1 이상 100 이하\n",
    "- commands의 길이는 1 이상 50 이하\n",
    "- commands의 각 원소는 길이가 3"
   ]
  },
  {
   "cell_type": "code",
   "execution_count": null,
   "metadata": {},
   "outputs": [],
   "source": [
    "\"\"\"\n",
    "입출력 예시)\n",
    "\n",
    "array = [1, 5, 2, 6, 3, 7, 4], commands = [[2, 5, 3], [4, 4, 1], [1, 7, 3]] -> [5, 6, 3]\n",
    "\"\"\""
   ]
  },
  {
   "cell_type": "code",
   "execution_count": null,
   "metadata": {},
   "outputs": [],
   "source": [
    "# 1) [1, 5, 2, 6, 3, 7, 4]를 2번째부터 5번째까지 자른 후 정렬 -> [2, 3, 5, 6]의 세 번째 숫자는 5\n",
    "# 2) [1, 5, 2, 6, 3, 7, 4]를 4번째부터 4번째까지 자른 후 정렬 -> [6]의 첫 번째 숫자는 6\n",
    "# 3) [1, 5, 2, 6, 3, 7, 4]를 1번째부터 7번째까지 자른 후 정렬 -> [1, 2, 3, 4, 5, 6, 7]의 세 번째 숫자는 3\n",
    "\n",
    "# => [5, 6, 3]"
   ]
  },
  {
   "attachments": {},
   "cell_type": "markdown",
   "metadata": {},
   "source": [
    "## 2023/01/06"
   ]
  },
  {
   "cell_type": "code",
   "execution_count": null,
   "metadata": {},
   "outputs": [],
   "source": [
    "## 의사코드 ##\n",
    "\n",
    "# array의 i번째 원소의 인덱스: i-1\n",
    "\n",
    "# for i,j,k in commands:\n",
    "    # 1) 먼저, array[(i-1):j]로 슬라이싱\n",
    "    # 2) 슬라이싱한 배열을 오름차순 정렬 -> sort()\n",
    "    # 3) 정렬한 배열의 k번째 수의 인덱스: k-1\n",
    "    #   -> k번째 수를 구해서 answer에 append"
   ]
  },
  {
   "cell_type": "code",
   "execution_count": 5,
   "metadata": {},
   "outputs": [
    {
     "name": "stdout",
     "output_type": "stream",
     "text": [
      "2\n",
      "5\n",
      "3 \n",
      "\n",
      "4\n",
      "4\n",
      "1 \n",
      "\n",
      "1\n",
      "7\n",
      "3 \n",
      "\n"
     ]
    }
   ],
   "source": [
    "# for 문으로 i,j,k 한번에 뽑아내기\n",
    "commands = [[2, 5, 3], [4, 4, 1], [1, 7, 3]]\n",
    "for i,j,k in commands: # 리스트(commands)의 안쪽 리스트에서 원소 3개를 꺼냄\n",
    "    print(i)\n",
    "    print(j)\n",
    "    print(k, '\\n')"
   ]
  },
  {
   "cell_type": "code",
   "execution_count": 13,
   "metadata": {},
   "outputs": [
    {
     "name": "stdout",
     "output_type": "stream",
     "text": [
      "array[i:j]: [2, 6, 3]\n",
      "array[i-1:j-1]: [5, 2, 6]\n",
      "array[i-1:j]: [5, 2, 6, 3]\n"
     ]
    }
   ],
   "source": [
    "# 슬라이싱 인덱스 확인\n",
    "array = [1, 5, 2, 6, 3, 7, 4]\n",
    "i = 2\n",
    "j = 5\n",
    "# array의 2번째부터 5번째까지 자르면 [5, 2, 6, 3]\n",
    "\n",
    "print('array[i:j]:', array[i:j])\n",
    "print('array[i-1:j-1]:', array[i-1:j-1])\n",
    "print('array[i-1:j]:', array[i-1:j])"
   ]
  },
  {
   "attachments": {},
   "cell_type": "markdown",
   "metadata": {},
   "source": [
    "-> array[추출하기 원하는 시작 인덱스: 추출하기 원하는 끝 인덱스+1]"
   ]
  },
  {
   "attachments": {},
   "cell_type": "markdown",
   "metadata": {},
   "source": [
    "### 통과)"
   ]
  },
  {
   "cell_type": "code",
   "execution_count": 14,
   "metadata": {},
   "outputs": [],
   "source": [
    "def solution(array, commands):\n",
    "    answer = []\n",
    "    for i,j,k in commands:\n",
    "        new_array = array[(i-1):j] # array의 i번째부터 j번째까지 자르기\n",
    "        new_array.sort() # 정렬\n",
    "        n = new_array[k-1] # k번째 수 \n",
    "        answer.append(n)\n",
    "    return answer"
   ]
  },
  {
   "cell_type": "code",
   "execution_count": 15,
   "metadata": {},
   "outputs": [
    {
     "data": {
      "text/plain": [
       "[5, 6, 3]"
      ]
     },
     "execution_count": 15,
     "metadata": {},
     "output_type": "execute_result"
    }
   ],
   "source": [
    "array = [1, 5, 2, 6, 3, 7, 4]\n",
    "commands = [[2, 5, 3], [4, 4, 1], [1, 7, 3]]\n",
    "solution(array, commands)"
   ]
  },
  {
   "attachments": {},
   "cell_type": "markdown",
   "metadata": {},
   "source": [
    "### 다른 풀이)"
   ]
  },
  {
   "cell_type": "code",
   "execution_count": 16,
   "metadata": {},
   "outputs": [],
   "source": [
    "def solution(array, commands):\n",
    "    return [sorted(array[a[0]-1:a[1]])[a[2]-1] for a in commands]"
   ]
  },
  {
   "attachments": {},
   "cell_type": "markdown",
   "metadata": {},
   "source": [
    "-> a[0] = i, a[1] = j, a[2] = k\n",
    "\n",
    "sorted(array[a[0]-1:a[1]])[a[2]-1] => sorted(array[i-1:j])[k-1]"
   ]
  },
  {
   "cell_type": "code",
   "execution_count": 17,
   "metadata": {},
   "outputs": [
    {
     "data": {
      "text/plain": [
       "[5, 6, 3]"
      ]
     },
     "execution_count": 17,
     "metadata": {},
     "output_type": "execute_result"
    }
   ],
   "source": [
    "array = [1, 5, 2, 6, 3, 7, 4]\n",
    "commands = [[2, 5, 3], [4, 4, 1], [1, 7, 3]]\n",
    "solution(array, commands)"
   ]
  },
  {
   "attachments": {},
   "cell_type": "markdown",
   "metadata": {},
   "source": [
    "### cf) 이전에 작성했던 코드"
   ]
  },
  {
   "cell_type": "code",
   "execution_count": null,
   "metadata": {},
   "outputs": [],
   "source": [
    "def solution(array, commands):\n",
    "    answer = []\n",
    "    \n",
    "    for i, j, k in commands:\n",
    "      # array의 i번째 숫자부터 j번째 숫자까지 자르기\n",
    "      first_arr = array[i-1:j] # array를 자를 때 인덱스를 0부터가 아닌 1부터로 함\n",
    "      # 자른 배열을 정렬\n",
    "      arr_sorted = sorted(first_arr)\n",
    "      # k번째에 있는 수 구하기\n",
    "      num_k = arr_sorted[k-1] # 인덱스를 0부터가 아닌 1부터로 함\n",
    "      answer.append(num_k)\n",
    "\n",
    "    return answer"
   ]
  }
 ],
 "metadata": {
  "kernelspec": {
   "display_name": "base",
   "language": "python",
   "name": "python3"
  },
  "language_info": {
   "codemirror_mode": {
    "name": "ipython",
    "version": 3
   },
   "file_extension": ".py",
   "mimetype": "text/x-python",
   "name": "python",
   "nbconvert_exporter": "python",
   "pygments_lexer": "ipython3",
   "version": "3.9.7"
  },
  "orig_nbformat": 4,
  "vscode": {
   "interpreter": {
    "hash": "023ab38ef701cca529efce9465407c28b5ba779ced3f1a89865b89edb313b240"
   }
  }
 },
 "nbformat": 4,
 "nbformat_minor": 2
}

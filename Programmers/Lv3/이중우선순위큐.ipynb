{
 "cells": [
  {
   "attachments": {},
   "cell_type": "markdown",
   "metadata": {},
   "source": [
    "[문제](https://school.programmers.co.kr/learn/courses/30/lessons/42628)"
   ]
  },
  {
   "attachments": {},
   "cell_type": "markdown",
   "metadata": {},
   "source": [
    "### 힙(Heap)"
   ]
  },
  {
   "attachments": {},
   "cell_type": "markdown",
   "metadata": {},
   "source": [
    "<img width=\"296\" alt=\"스크린샷 2023-01-03 20 45 21\" src=\"https://user-images.githubusercontent.com/93971420/210351162-71d88fe7-782e-440a-bec5-56f72d417d22.png\">"
   ]
  },
  {
   "attachments": {},
   "cell_type": "markdown",
   "metadata": {},
   "source": [
    "- operations: 이중 우선순위 큐가 할 연산\n",
    "- **모든 연산을 처리한 후 큐가 비어있으면 [0,0] 비어있지 않으면 [최댓값, 최솟값]**을 return"
   ]
  },
  {
   "attachments": {},
   "cell_type": "markdown",
   "metadata": {},
   "source": [
    "**제한사항**\n",
    "\n",
    "- operations는 길이가 1 이상 1,000,000 이하인 문자열 배열\n",
    "- operations의 원소는 큐가 수행할 연산\n",
    "    - 원소는 **“명령어 데이터” 형식**으로 주어짐.\n",
    "    - 최댓값/최솟값을 삭제하는 연산에서 **최댓값/최솟값이 둘 이상인 경우, 하나만 삭제**\n",
    "- **빈 큐에 데이터를 삭제하라는 연산이 주어질 경우, 해당 연산은 무시**"
   ]
  },
  {
   "cell_type": "code",
   "execution_count": null,
   "metadata": {},
   "outputs": [],
   "source": [
    "\"\"\"\n",
    "입출력 예시)\n",
    "\n",
    "operations = [\"I 16\", \"I -5643\", \"D -1\", \"D 1\", \"D 1\", \"I 123\", \"D -1\"] -> [0,0]\n",
    "operations = [\"I -45\", \"I 653\", \"D 1\", \"I -642\", \"I 45\", \"I 97\", \"D 1\", \"D -1\", \"I 333\"] -> [333, -45]\n",
    "\"\"\""
   ]
  },
  {
   "cell_type": "code",
   "execution_count": null,
   "metadata": {},
   "outputs": [],
   "source": [
    "# operations = [\"I 16\", \"I -5643\", \"D -1\", \"D 1\", \"D 1\", \"I 123\", \"D -1\"] -> [0,0]\n",
    "\n",
    "# \"I 16\": 16 삽입\n",
    "# \"I -5643\": -5643 삽입\n",
    "# \"D -1\": 최솟값 삭제 -> -5643이 삭제되고 16이 남아있음\n",
    "# \"D 1\": 최댓값 삭제 -> 16이 삭제되고 이중 우선순위 큐는 비어있음\n",
    "# \"D 1\": 우선순위 큐가 비어있으므로 최댓값 삭제 연산 무시\n",
    "# \"I 123\": 123 삽입\n",
    "# \"D -1\": 최솟값 삭제 -> 123이 삭제되고 이중 우선순위 큐는 비어있음\n",
    "\n",
    "# => [0, 0]"
   ]
  },
  {
   "cell_type": "code",
   "execution_count": null,
   "metadata": {},
   "outputs": [],
   "source": [
    "# operations = [\"I -45\", \"I 653\", \"D 1\", \"I -642\", \"I 45\", \"I 97\", \"D 1\", \"D -1\", \"I 333\"] -> [333, -45]\n",
    "\n",
    "# \"I -45\": -45 삽입\n",
    "# \"I 653\": 653 삽입 \n",
    "# \"D 1\": 최댓값(653) 삭제, -45가 남아있음\n",
    "# \"I -642\": -642 삽입\n",
    "# \"I 45\": 45 삽입\n",
    "# \"I 97\": 97 삽입 \n",
    "# \"D 1\": 최댓값(97) 삭제\n",
    "# \"D -1\": 최솟값(-642) 삭제, -45와 45가 남아있음\n",
    "# \"I 333\": 333 삽입, 이중 우선순위 큐에 -45, 45, 333가 남아있음\n",
    "\n",
    "# => [333, -45]"
   ]
  },
  {
   "cell_type": "code",
   "execution_count": 34,
   "metadata": {},
   "outputs": [
    {
     "data": {
      "text/plain": [
       "[333]"
      ]
     },
     "execution_count": 34,
     "metadata": {},
     "output_type": "execute_result"
    }
   ],
   "source": [
    "# 최소 힙인 heapq에서 최댓값 구하기 \n",
    "# heapq.nlargest(n, list) -> list에서 가장 큰 n개의 수를 뽑아 리스트로 반환 \n",
    "import heapq\n",
    "heap = [-45, 45, 333]\n",
    "heapq.nlargest(1, heap)"
   ]
  },
  {
   "cell_type": "code",
   "execution_count": 18,
   "metadata": {},
   "outputs": [
    {
     "data": {
      "text/plain": [
       "[333, 45, -45]"
      ]
     },
     "execution_count": 18,
     "metadata": {},
     "output_type": "execute_result"
    }
   ],
   "source": [
    "# cf) n을 len(heap)으로 하면 내림차순 정렬됨\n",
    "heapq.nlargest(len(heap), heap)"
   ]
  },
  {
   "cell_type": "code",
   "execution_count": 19,
   "metadata": {},
   "outputs": [
    {
     "name": "stdout",
     "output_type": "stream",
     "text": [
      "삭제 전: [-45, 45, 333]\n",
      "최댓값: 333\n",
      "삭제 후: [-45, 45]\n"
     ]
    }
   ],
   "source": [
    "# 최소 힙에서 최댓값 삭제하기\n",
    "print('삭제 전:', heap)\n",
    "print('최댓값:', heapq.nlargest(1, heap)[0]) # 최댓값\n",
    "heap.remove(heapq.nlargest(1, heap)[0]) # heap 리스트에서 최댓값 삭제\n",
    "print('삭제 후:', heap)"
   ]
  },
  {
   "cell_type": "code",
   "execution_count": null,
   "metadata": {},
   "outputs": [],
   "source": [
    "# 최대/최솟값 찾기 -> heapq\n",
    "\n",
    "# for o in operations:\n",
    "#     if o.startswith('I'):\n",
    "#         이중 우선순위 큐에 int(o.split()[1]) 삽입 -> 문자열로 되어 있어서 int()로 변환해줘야 함\n",
    "#     else:\n",
    "#         if len(이중 우선순위 큐) == 0: # 비어있으면\n",
    "#             continue # 해당 연산 무시\n",
    "#         elif o == \"D 1\":\n",
    "#             이중 우선순위 큐에서 최댓값 삭제\n",
    "#         else: # -> o == \"D -1\"\n",
    "#             이중 우선순위 큐에서 최솟값 삭제\n",
    "\n",
    "# if len(이중 우선순위 큐) == 0: # 비어있으면\n",
    "#     return [0,0]\n",
    "# else:\n",
    "#     return [최댓값, 최솟값]"
   ]
  },
  {
   "cell_type": "code",
   "execution_count": 52,
   "metadata": {},
   "outputs": [],
   "source": [
    "import heapq\n",
    "\n",
    "def solution(operations):\n",
    "    #answer = []\n",
    "    heap = [] # 이중 우선순위 큐\n",
    "\n",
    "    for o in operations:\n",
    "        # 명령어가 'I'인 경우\n",
    "        if o.startswith('I'):\n",
    "            heapq.heappush(heap, int(o.split()[1])) # 숫자를 int()로 변환한 후 이중 우선순위 큐에 삽입\n",
    "        # 명령어가 최댓값/최솟값 삭제인 경우\n",
    "        else:\n",
    "            # 이중 우선순위 큐가 비어있으면 해당 연산 무시\n",
    "            if len(heap) == 0:\n",
    "                continue\n",
    "            # 명령어가 최댓값 삭제이면\n",
    "            elif o == 'D 1':\n",
    "                heap.remove(heapq.nlargest(1, heap)[0]) # 이중 우선순위 큐에서 최댓값 삭제\n",
    "            # 명령어가 최솟값 삭제이면\n",
    "            else:\n",
    "                heapq.heappop(heap) # 이중 우선순위 큐에서 최솟값 삭제\n",
    "    # 모든 연산을 처리한 후 이중 우선순위 큐가 비어있으면 [0,0] 반환\n",
    "    if len(heap) == 0:\n",
    "        return [0,0]\n",
    "    # 이중 우선순위 큐가 비어있지 않으면\n",
    "    else:\n",
    "        return [heapq.nlargest(1, heap)[0], heap[0]] # [최댓값, 최솟값] 반환\n",
    "\n",
    "    # return answer"
   ]
  },
  {
   "cell_type": "code",
   "execution_count": 53,
   "metadata": {},
   "outputs": [
    {
     "data": {
      "text/plain": [
       "[0, 0]"
      ]
     },
     "execution_count": 53,
     "metadata": {},
     "output_type": "execute_result"
    }
   ],
   "source": [
    "operations = [\"I 16\", \"I -5643\", \"D -1\", \"D 1\", \"D 1\", \"I 123\", \"D -1\"]\n",
    "solution(operations)"
   ]
  },
  {
   "cell_type": "code",
   "execution_count": 54,
   "metadata": {},
   "outputs": [
    {
     "data": {
      "text/plain": [
       "[333, -45]"
      ]
     },
     "execution_count": 54,
     "metadata": {},
     "output_type": "execute_result"
    }
   ],
   "source": [
    "operations = [\"I -45\", \"I 653\", \"D 1\", \"I -642\", \"I 45\", \"I 97\", \"D 1\", \"D -1\", \"I 333\"]\n",
    "solution(operations)"
   ]
  },
  {
   "cell_type": "code",
   "execution_count": null,
   "metadata": {},
   "outputs": [],
   "source": [
    "# 과정 확인"
   ]
  },
  {
   "cell_type": "code",
   "execution_count": 31,
   "metadata": {},
   "outputs": [],
   "source": [
    "import heapq\n",
    "\n",
    "def solution(operations):\n",
    "    #answer = []\n",
    "    heap = [] # 이중 우선순위 큐\n",
    "\n",
    "    for o in operations:\n",
    "        print(o)\n",
    "        if o.startswith('I'):\n",
    "            heapq.heappush(heap, int(o.split()[1]))\n",
    "            print(heap, '\\n')\n",
    "        else:\n",
    "            if len(heap) == 0:\n",
    "                print()\n",
    "                continue\n",
    "            elif o == 'D 1':\n",
    "                print('최댓값:', heapq.nlargest(1, heap)[0])\n",
    "                heap.remove(heapq.nlargest(1, heap)[0]) # 이중 우선순위 큐에서 최댓값 삭제\n",
    "                print(heap, '\\n')\n",
    "            else:\n",
    "                print('최솟값:', heap[0])\n",
    "                heapq.heappop(heap) # 이중 우선순위 큐에서 최솟값 삭제\n",
    "                print(heap, '\\n')\n",
    "                print('-'*50)\n",
    "    \n",
    "    print(heap)\n",
    "    \n",
    "    if len(heap) == 0:\n",
    "        return [0,0]\n",
    "    else:\n",
    "        return [heapq.nlargest(1, heap)[0], heap[0]] # [최댓값, 최솟값]\n",
    "\n",
    "    # return answer"
   ]
  },
  {
   "cell_type": "code",
   "execution_count": 32,
   "metadata": {},
   "outputs": [
    {
     "name": "stdout",
     "output_type": "stream",
     "text": [
      "I 16\n",
      "[16] \n",
      "\n",
      "I -5643\n",
      "[-5643, 16] \n",
      "\n",
      "D -1\n",
      "최솟값: -5643\n",
      "[16] \n",
      "\n",
      "--------------------------------------------------\n",
      "D 1\n",
      "최댓값: 16\n",
      "[] \n",
      "\n",
      "D 1\n",
      "\n",
      "I 123\n",
      "[123] \n",
      "\n",
      "D -1\n",
      "최솟값: 123\n",
      "[] \n",
      "\n",
      "--------------------------------------------------\n",
      "[]\n"
     ]
    },
    {
     "data": {
      "text/plain": [
       "[0, 0]"
      ]
     },
     "execution_count": 32,
     "metadata": {},
     "output_type": "execute_result"
    }
   ],
   "source": [
    "operations = [\"I 16\", \"I -5643\", \"D -1\", \"D 1\", \"D 1\", \"I 123\", \"D -1\"]\n",
    "solution(operations)"
   ]
  },
  {
   "cell_type": "code",
   "execution_count": 33,
   "metadata": {},
   "outputs": [
    {
     "name": "stdout",
     "output_type": "stream",
     "text": [
      "I -45\n",
      "[-45] \n",
      "\n",
      "I 653\n",
      "[-45, 653] \n",
      "\n",
      "D 1\n",
      "최댓값: 653\n",
      "[-45] \n",
      "\n",
      "I -642\n",
      "[-642, -45] \n",
      "\n",
      "I 45\n",
      "[-642, -45, 45] \n",
      "\n",
      "I 97\n",
      "[-642, -45, 45, 97] \n",
      "\n",
      "D 1\n",
      "최댓값: 97\n",
      "[-642, -45, 45] \n",
      "\n",
      "D -1\n",
      "최솟값: -642\n",
      "[-45, 45] \n",
      "\n",
      "--------------------------------------------------\n",
      "I 333\n",
      "[-45, 45, 333] \n",
      "\n",
      "[-45, 45, 333]\n"
     ]
    },
    {
     "data": {
      "text/plain": [
       "[333, -45]"
      ]
     },
     "execution_count": 33,
     "metadata": {},
     "output_type": "execute_result"
    }
   ],
   "source": [
    "operations = [\"I -45\", \"I 653\", \"D 1\", \"I -642\", \"I 45\", \"I 97\", \"D 1\", \"D -1\", \"I 333\"]\n",
    "solution(operations)"
   ]
  },
  {
   "attachments": {},
   "cell_type": "markdown",
   "metadata": {},
   "source": [
    "### 다른 풀이)"
   ]
  },
  {
   "cell_type": "code",
   "execution_count": 43,
   "metadata": {},
   "outputs": [],
   "source": [
    "import heapq\n",
    "\n",
    "def solution(arguments):\n",
    "    res = [] # 이중 우선순위 큐\n",
    "    for argument in arguments:\n",
    "        cmd, v = argument.split(' ') # 명령어, 데이터\n",
    "        i = int(v)\n",
    "        if cmd == 'I':\n",
    "            heapq.heappush(res, i)\n",
    "        elif cmd == 'D' and res:\n",
    "            # \"D -1\"인 경우\n",
    "            if i < 0:\n",
    "                heapq.heapify(res)\n",
    "                heapq.heappop(res)\n",
    "            # \"D 1\"인 경우\n",
    "            else:\n",
    "                heapq._heapify_max(res)\n",
    "                heapq._heappop_max(res)\n",
    "    return [max(res), min(res)] if res else [0, 0]"
   ]
  },
  {
   "cell_type": "code",
   "execution_count": 44,
   "metadata": {},
   "outputs": [
    {
     "data": {
      "text/plain": [
       "[333, -45]"
      ]
     },
     "execution_count": 44,
     "metadata": {},
     "output_type": "execute_result"
    }
   ],
   "source": [
    "arguments = [\"I -45\", \"I 653\", \"D 1\", \"I -642\", \"I 45\", \"I 97\", \"D 1\", \"D -1\", \"I 333\"]\n",
    "solution(arguments)"
   ]
  },
  {
   "cell_type": "code",
   "execution_count": 50,
   "metadata": {},
   "outputs": [
    {
     "data": {
      "text/plain": [
       "[333, 45, -45]"
      ]
     },
     "execution_count": 50,
     "metadata": {},
     "output_type": "execute_result"
    }
   ],
   "source": [
    "# heapq._heapify_max() \n",
    "# -> 최소 힙을 내림차순으로 정렬 (== heapq.nlargest(len(heap), heap))\n",
    "import heapq\n",
    "heap = [-45, 45, 333]\n",
    "heapq._heapify_max(heap)\n",
    "heap"
   ]
  },
  {
   "cell_type": "code",
   "execution_count": 51,
   "metadata": {},
   "outputs": [],
   "source": [
    "# heapq._heappop_max()\n",
    "# -> 최댓값 삭제\n",
    "heapq._heapify_max(heap)"
   ]
  },
  {
   "attachments": {},
   "cell_type": "markdown",
   "metadata": {},
   "source": [
    "- heapq._heapify_max(), heapq._heappop_max()\n",
    "    - push 불가 \n",
    "        - => 계속 데이터를 삽입해야 하는 경우에 사용할 수 없음\n",
    "    - 이미 최소힙으로 정렬된 상태에서 최댓값을 찾는 것이기 때문에 온전히 최대 힙을 구현한 것은 아님"
   ]
  },
  {
   "cell_type": "code",
   "execution_count": 35,
   "metadata": {},
   "outputs": [
    {
     "data": {
      "text/plain": [
       "333"
      ]
     },
     "execution_count": 35,
     "metadata": {},
     "output_type": "execute_result"
    }
   ],
   "source": [
    "# cf) 그냥 max(list)로도 최댓값 구하기 가능\n",
    "import heapq\n",
    "heap = [-45, 45, 333]\n",
    "max(heap)"
   ]
  }
 ],
 "metadata": {
  "kernelspec": {
   "display_name": "base",
   "language": "python",
   "name": "python3"
  },
  "language_info": {
   "codemirror_mode": {
    "name": "ipython",
    "version": 3
   },
   "file_extension": ".py",
   "mimetype": "text/x-python",
   "name": "python",
   "nbconvert_exporter": "python",
   "pygments_lexer": "ipython3",
   "version": "3.9.7"
  },
  "orig_nbformat": 4,
  "vscode": {
   "interpreter": {
    "hash": "023ab38ef701cca529efce9465407c28b5ba779ced3f1a89865b89edb313b240"
   }
  }
 },
 "nbformat": 4,
 "nbformat_minor": 2
}

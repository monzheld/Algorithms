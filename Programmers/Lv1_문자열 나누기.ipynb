{
 "cells": [
  {
   "attachments": {},
   "cell_type": "markdown",
   "metadata": {},
   "source": [
    "[문제](https://school.programmers.co.kr/learn/courses/30/lessons/140108)"
   ]
  },
  {
   "attachments": {},
   "cell_type": "markdown",
   "metadata": {},
   "source": [
    "- 문자열 s가 입력되었을 때 다음 규칙에 따라 이 문자열을 여러 문자열로 분해\n",
    "    - 먼저 **첫 글자**를 읽음. 이 글자를 **x**라고 함\n",
    "    - 문자열을 왼쪽에서 오른쪽으로 읽어나가면서, **x와 x가 아닌 다른 글자들이 나온 횟수**를 각각 카운트. **처음으로 두 횟수가 같아지는 순간 멈추고, 지금까지 읽은 문자열을 분리**\n",
    "    - s에서 **분리한 문자열을 빼고 남은 부분에 대해서 이 과정을 반복**. 남은 부분이 없다면 종료\n",
    "    - 만약 **두 횟수가 다른 상태에서 더 이상 읽을 글자가 없다면, 역시 지금까지 읽은 문자열을 분리하고, 종료**\n",
    "- **분해한 문자열의 개수**를 return"
   ]
  },
  {
   "attachments": {},
   "cell_type": "markdown",
   "metadata": {},
   "source": [
    "**제한사항**\n",
    "\n",
    "- 1 ≤ s의 길이 ≤ 10,000\n",
    "- s는 영어 소문자로만 이루어져 있음"
   ]
  },
  {
   "cell_type": "code",
   "execution_count": null,
   "metadata": {},
   "outputs": [],
   "source": [
    "\"\"\"\n",
    "입출력 예시)\n",
    "\n",
    "s = \"banana\" -> 3\n",
    "s = \"abracadabra\" -> 6\n",
    "s = \"aaabbaccccabba\" -> 3\n",
    "\"\"\""
   ]
  },
  {
   "cell_type": "code",
   "execution_count": null,
   "metadata": {},
   "outputs": [],
   "source": [
    "# s \"banana\" -> 3\n",
    "#  ba - na - na\n",
    "\n",
    "# s \"abracadabra\" -> 6\n",
    "# ab - ra - ca - da - br - a\n",
    "\n",
    "# s \"aaabbaccccabba\" -> 3\n",
    "# aaabbacc - ccab - ba"
   ]
  },
  {
   "attachments": {},
   "cell_type": "markdown",
   "metadata": {},
   "source": [
    "## 2022/12/31"
   ]
  },
  {
   "cell_type": "code",
   "execution_count": null,
   "metadata": {},
   "outputs": [],
   "source": [
    "## 의사코드 ##\n",
    "\n",
    "# 결과를 담을 리스트 생성 ['', 0, 0] -> 문자열x, x가 나온 횟수, x가 아닌 문자가 나온 횟수\n",
    "\n",
    "# for i in s:\n",
    "#   if 리스트[0] == '': (문자열이 비어있으면)\n",
    "#       리스트[0] = i (s의 첫 번째 문자가 x가 됨)\n",
    "#       리스트[1] += 1 (x가 나온 횟수 + 1)\n",
    "#   else: (문자열이 비어있지 않은 경우 -> x가 지정되어 있을 때)\n",
    "#       if 리스트[0] == i: (현재 문자가 x이면)\n",
    "#           리스트[1] += 1 (x가 나온 횟수 + 1)\n",
    "#       else: (현재 문자가 x가 아니면)\n",
    "#           리스트[2] += 1 (x가 아닌 문자가 나온 횟수 +1)\n",
    "#       if 리스트[1] == 리스트[2]: (x가 나온 횟수와 x가 아닌 문자가 나온 횟수가 같으면)\n",
    "#           answer += 1 (분해한 문자열의 개수 + 1)\n",
    "#           리스트 = ['', 0, 0] (리스트 초기화)\n",
    "#  if 리스트 != ['', 0, 0]: (리스트가 초기화된 리스트가 아니면 => 두 횟수가 다른 상태에서 더 이상 읽을 글자가 없는 경우)\n",
    "#   answer += 1 (지금까지 읽은 문자열을 분리)"
   ]
  },
  {
   "cell_type": "code",
   "execution_count": 18,
   "metadata": {},
   "outputs": [],
   "source": [
    "def solution(s):\n",
    "    answer = 0\n",
    "    temp = [\"\", 0, 0] # 문자열x, x가 나온 횟수, x가 아닌 문자가 나온 횟수\n",
    "\n",
    "    for i in s:\n",
    "        # 문자열이 비어있는 경우 -> x가 아직 지정되지 않았을 때\n",
    "        if temp[0] == \"\":\n",
    "            temp[0] = i # x는 현재 문자 (s의 첫 번째 문자)\n",
    "            temp[1] += 1 # x가 나온 횟수 + 1\n",
    "        # 문자열이 비어있지 않은 경우 -> x가 지정되어 있을 때\n",
    "        else:\n",
    "            # 현재 문자가 x이면\n",
    "            if temp[0] == i:\n",
    "                temp[1] += 1 # x가 나온 횟수 + 1\n",
    "            # 현재 문자가 x가 아니면\n",
    "            else:\n",
    "                temp[2] += 1 # x가 아닌 문자가 나온 횟수 +1\n",
    "\n",
    "            # x가 나온 횟수와 x가 아닌 문자가 나온 횟수가 같으면\n",
    "            if temp[1] == temp[2]:\n",
    "                answer += 1 # 분해한 문자열의 개수 + 1\n",
    "                temp = [\"\", 0, 0] # 리스트 초기화\n",
    "\n",
    "    # 리스트가 초기화된 리스트가 아니면 -> 두 횟수가 다른 상태에서 더 이상 읽을 글자가 없는 경우\n",
    "    if temp != [\"\", 0, 0]:\n",
    "        answer += 1 # 지금까지 읽은 문자열을 분리, 분해한 문자열의 개수 + 1\n",
    "    \n",
    "    return answer"
   ]
  },
  {
   "cell_type": "code",
   "execution_count": 19,
   "metadata": {},
   "outputs": [
    {
     "data": {
      "text/plain": [
       "3"
      ]
     },
     "execution_count": 19,
     "metadata": {},
     "output_type": "execute_result"
    }
   ],
   "source": [
    "s = \"banana\" \n",
    "solution(s)"
   ]
  },
  {
   "cell_type": "code",
   "execution_count": 20,
   "metadata": {},
   "outputs": [
    {
     "data": {
      "text/plain": [
       "6"
      ]
     },
     "execution_count": 20,
     "metadata": {},
     "output_type": "execute_result"
    }
   ],
   "source": [
    "s = \"abracadabra\" \n",
    "solution(s)"
   ]
  },
  {
   "cell_type": "code",
   "execution_count": 21,
   "metadata": {},
   "outputs": [
    {
     "data": {
      "text/plain": [
       "3"
      ]
     },
     "execution_count": 21,
     "metadata": {},
     "output_type": "execute_result"
    }
   ],
   "source": [
    "s = \"aaabbaccccabba\"\n",
    "solution(s)"
   ]
  },
  {
   "cell_type": "code",
   "execution_count": null,
   "metadata": {},
   "outputs": [],
   "source": [
    "# 과정 확인"
   ]
  },
  {
   "cell_type": "code",
   "execution_count": 29,
   "metadata": {},
   "outputs": [],
   "source": [
    "def solution(s):\n",
    "    answer = 0\n",
    "    temp = [\"\", 0, 0] # 문자열x, x가 나온 횟수, x가 아닌 문자가 나온 횟수\n",
    "\n",
    "    for i in s:\n",
    "        # 문자열이 비어있는 경우 -> x가 아직 지정되지 않았을 때\n",
    "        if temp[0] == \"\":\n",
    "            temp[0] = i # x는 현재 문자 (s의 첫 번째 문자)\n",
    "            temp[1] += 1 # x가 나온 횟수 + 1\n",
    "            print('temp[0]:', temp[0])\n",
    "            print('temp:', temp)\n",
    "            print('___________________________')\n",
    "\n",
    "        # 문자열이 비어있지 않은 경우 -> x가 지정되어 있을 때\n",
    "        else:\n",
    "            # 현재 문자가 x이면\n",
    "            if temp[0] == i:\n",
    "                temp[1] += 1 # x가 나온 횟수 + 1\n",
    "                print('temp[0]:', temp[0])\n",
    "                print('i:', i)\n",
    "                print('temp:', temp, '\\n')\n",
    "            # 현재 문자가 x가 아니면\n",
    "            else:\n",
    "                temp[2] += 1 # x가 아닌 문자가 나온 횟수 +1\n",
    "                print('temp[0]:', temp[0])\n",
    "                print('i:', i)\n",
    "                print('temp:', temp, '\\n')\n",
    "\n",
    "            # x가 나온 횟수와 x가 아닌 문자가 나온 횟수가 같으면\n",
    "            if temp[1] == temp[2]:\n",
    "                answer += 1 # 분해한 문자열의 개수 + 1\n",
    "                temp = [\"\", 0, 0] # 리스트 초기화\n",
    "                print('temp:', temp)\n",
    "\n",
    "    # 리스트가 초기화된 리스트가 아니면 -> 두 횟수가 다른 상태에서 더 이상 읽을 글자가 없는 경우\n",
    "    if temp != [\"\", 0, 0]:\n",
    "        answer += 1 # 지금까지 읽은 문자열을 분리, 분해한 문자열의 개수 + 1\n",
    "        print('temp:', temp)\n",
    "    \n",
    "    return answer"
   ]
  },
  {
   "cell_type": "code",
   "execution_count": 30,
   "metadata": {},
   "outputs": [
    {
     "name": "stdout",
     "output_type": "stream",
     "text": [
      "temp[0]: a\n",
      "temp: ['a', 1, 0]\n",
      "___________________________\n",
      "temp[0]: a\n",
      "i: a\n",
      "temp: ['a', 2, 0] \n",
      "\n",
      "temp[0]: a\n",
      "i: a\n",
      "temp: ['a', 3, 0] \n",
      "\n",
      "temp[0]: a\n",
      "i: b\n",
      "temp: ['a', 3, 1] \n",
      "\n",
      "temp[0]: a\n",
      "i: b\n",
      "temp: ['a', 3, 2] \n",
      "\n",
      "temp[0]: a\n",
      "i: a\n",
      "temp: ['a', 4, 2] \n",
      "\n",
      "temp[0]: a\n",
      "i: c\n",
      "temp: ['a', 4, 3] \n",
      "\n",
      "temp[0]: a\n",
      "i: c\n",
      "temp: ['a', 4, 4] \n",
      "\n",
      "temp: ['', 0, 0]\n",
      "temp[0]: c\n",
      "temp: ['c', 1, 0]\n",
      "___________________________\n",
      "temp[0]: c\n",
      "i: c\n",
      "temp: ['c', 2, 0] \n",
      "\n",
      "temp[0]: c\n",
      "i: a\n",
      "temp: ['c', 2, 1] \n",
      "\n",
      "temp[0]: c\n",
      "i: b\n",
      "temp: ['c', 2, 2] \n",
      "\n",
      "temp: ['', 0, 0]\n",
      "temp[0]: b\n",
      "temp: ['b', 1, 0]\n",
      "___________________________\n",
      "temp[0]: b\n",
      "i: a\n",
      "temp: ['b', 1, 1] \n",
      "\n",
      "temp: ['', 0, 0]\n"
     ]
    },
    {
     "data": {
      "text/plain": [
       "3"
      ]
     },
     "execution_count": 30,
     "metadata": {},
     "output_type": "execute_result"
    }
   ],
   "source": [
    "s = \"aaabbaccccabba\"\n",
    "solution(s)"
   ]
  }
 ],
 "metadata": {
  "kernelspec": {
   "display_name": "base",
   "language": "python",
   "name": "python3"
  },
  "language_info": {
   "codemirror_mode": {
    "name": "ipython",
    "version": 3
   },
   "file_extension": ".py",
   "mimetype": "text/x-python",
   "name": "python",
   "nbconvert_exporter": "python",
   "pygments_lexer": "ipython3",
   "version": "3.9.7 (default, Sep 16 2021, 08:50:36) \n[Clang 10.0.0 ]"
  },
  "orig_nbformat": 4,
  "vscode": {
   "interpreter": {
    "hash": "023ab38ef701cca529efce9465407c28b5ba779ced3f1a89865b89edb313b240"
   }
  }
 },
 "nbformat": 4,
 "nbformat_minor": 2
}

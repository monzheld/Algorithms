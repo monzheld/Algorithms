{
 "cells": [
  {
   "attachments": {},
   "cell_type": "markdown",
   "metadata": {},
   "source": [
    "[문제](https://school.programmers.co.kr/learn/courses/30/lessons/42586)"
   ]
  },
  {
   "attachments": {},
   "cell_type": "markdown",
   "metadata": {},
   "source": [
    "### 스택/큐"
   ]
  },
  {
   "attachments": {},
   "cell_type": "markdown",
   "metadata": {},
   "source": [
    "- 각 기능은 진도가 100%일 때 서비스에 반영\n",
    "- 각 기능의 개발속도는 모두 다름\n",
    "    - 뒤에 있는 기능이 앞에 있는 기능보다 먼저 개발될 수 있고, 이때 뒤에 있는 기능은 앞에 있는 기능이 배포될 때 함께 배포\n",
    "    - => 어떤 기능이 먼저 완성되었더라도 **앞에 있는 모든 기능이 완성되지 않으면 배포 불가능**\n",
    "- progresses: 먼저 배포되어야 하는 순서대로 작업의 진도가 적힌 정수 배열 \n",
    "- speeds: 각 작업의 개발 속도가 적힌 정수 배열\n",
    "- **각 배포마다 몇 개의 기능이 배포되는지**를 return"
   ]
  },
  {
   "attachments": {},
   "cell_type": "markdown",
   "metadata": {},
   "source": [
    "**제한사항**\n",
    "\n",
    "- 작업의 개수(progresses, speeds배열의 길이)는 100개 이하\n",
    "- 작업 진도는 100 미만의 자연수\n",
    "- 작업 속도는 100 이하의 자연수\n",
    "- 배포는 하루에 한 번만 가능, 하루의 끝에 이루어짐\n",
    "    - ex) 진도율이 95%인 작업의 개발 속도가 하루에 4%라면 배포는 2일 뒤에"
   ]
  },
  {
   "cell_type": "code",
   "execution_count": null,
   "metadata": {},
   "outputs": [],
   "source": [
    "\"\"\"\n",
    "입출력 예시)\n",
    "\n",
    "progresses = [93, 30, 55], speeds = [1, 30, 5] -> [2, 1]\n",
    "progresses = [95, 90, 99, 99, 80, 99], speeds = [1, 1, 1, 1, 1, 1] -> [1, 3, 2]\n",
    "\"\"\""
   ]
  },
  {
   "cell_type": "code",
   "execution_count": null,
   "metadata": {},
   "outputs": [],
   "source": [
    "# progresses = [93, 30, 55], speeds = [1, 30, 5] -> [2, 1]\n",
    "\n",
    "# 첫 번째 기능은 93% 완료되어 있고 하루에 1%씩 작업이 가능하므로 7일 후 배포\n",
    "# 두 번째 기능은 30%가 완료되어 있고 하루에 30%씩 작업이 가능하므로 3일 후 배포 가능. 하지만 이전 첫 번째 기능이 아직 완성된 상태가 아니기 때문에 첫 번째 기능이 배포되는 7일째 같이 배포됨\n",
    "# 세 번째 기능은 55%가 완료되어 있고 하루에 5%씩 작업이 가능하므로 9일 후 배포\n",
    "# => 7일째에 2개의 기능, 9일째에 1개의 기능이 배포"
   ]
  },
  {
   "cell_type": "code",
   "execution_count": null,
   "metadata": {},
   "outputs": [],
   "source": [
    "# 후입선출 -> 스택\n",
    "\n",
    "# 각 기능마다 배포까지 남은 일수 계산\n",
    "\n",
    "# if 스택 == []:\n",
    "#   스택.append(남은 일수)\n",
    "# else:\n",
    "#   if 스택[-1] > 남은 일수:\n",
    "#       스택.append(스택[-1])\n",
    "#   else:\n",
    "#       스택.append(남은 일수)"
   ]
  },
  {
   "cell_type": "code",
   "execution_count": null,
   "metadata": {},
   "outputs": [],
   "source": [
    "# 남은 일수 계산"
   ]
  },
  {
   "cell_type": "code",
   "execution_count": 1,
   "metadata": {},
   "outputs": [],
   "source": [
    "progresses = [93, 30, 55]\n",
    "speeds = [1, 30, 5]"
   ]
  },
  {
   "cell_type": "code",
   "execution_count": 6,
   "metadata": {},
   "outputs": [
    {
     "name": "stdout",
     "output_type": "stream",
     "text": [
      "7.0\n",
      "2.3333333333333335\n",
      "9.0\n"
     ]
    }
   ],
   "source": [
    "for i in range(len(progresses)):\n",
    "    r = (100 - progresses[i]) / speeds[i]\n",
    "    print(r)"
   ]
  },
  {
   "cell_type": "code",
   "execution_count": 8,
   "metadata": {},
   "outputs": [
    {
     "name": "stdout",
     "output_type": "stream",
     "text": [
      "7\n",
      "3\n",
      "9\n"
     ]
    }
   ],
   "source": [
    "# 올림 -> math.ceil()\n",
    "import math\n",
    "\n",
    "for i in range(len(progresses)):\n",
    "    r = math.ceil((100 - progresses[i]) / speeds[i])\n",
    "    print(r)"
   ]
  },
  {
   "attachments": {},
   "cell_type": "markdown",
   "metadata": {},
   "source": [
    "### 통과)"
   ]
  },
  {
   "cell_type": "code",
   "execution_count": 27,
   "metadata": {},
   "outputs": [],
   "source": [
    "import math\n",
    "from collections import Counter\n",
    "\n",
    "def solution(progresses, speeds):\n",
    "    # 각 기능마다 배포까지 남은 일수 계산\n",
    "    remain = []\n",
    "    for i in range(len(progresses)):\n",
    "        r = math.ceil((100 - progresses[i]) / speeds[i]) # math.ceil() -> 올림\n",
    "        remain.append(r)\n",
    "    \n",
    "    # 각 기능마다 배포될 날짜를 스택에 삽입\n",
    "    stack = []\n",
    "    for r in remain:\n",
    "        if stack == []: # 스택이 비어있으면\n",
    "            stack.append(r)\n",
    "        else: # 스택이 비어있지 않으면\n",
    "            if stack[-1] > r: # 자신 직전 기능의 배포일이 자신의 배포일보다 크면 \n",
    "                stack.append(stack[-1]) # 자신 직전 기능의 배포일을 삽입\n",
    "            else:\n",
    "                stack.append(r)\n",
    "    answer = list(Counter(stack).values())\n",
    "    return answer"
   ]
  },
  {
   "cell_type": "code",
   "execution_count": 28,
   "metadata": {},
   "outputs": [
    {
     "data": {
      "text/plain": [
       "[2, 1]"
      ]
     },
     "execution_count": 28,
     "metadata": {},
     "output_type": "execute_result"
    }
   ],
   "source": [
    "progresses = [93, 30, 55]\n",
    "speeds = [1, 30, 5]\n",
    "\n",
    "solution(progresses, speeds)"
   ]
  },
  {
   "attachments": {},
   "cell_type": "markdown",
   "metadata": {},
   "source": [
    "### 다른 풀이)"
   ]
  },
  {
   "attachments": {},
   "cell_type": "markdown",
   "metadata": {},
   "source": [
    "큐 이용\n",
    "\n",
    "[[프로그래머스] 기능 개발 문제 풀이 (파이썬/ 큐)](https://happy-obok.tistory.com/38)"
   ]
  },
  {
   "cell_type": "code",
   "execution_count": null,
   "metadata": {},
   "outputs": [],
   "source": [
    "def solution(progresses, speeds):\n",
    "    # 결과를 담을 리스트\n",
    "    answer = []\n",
    "    # 작업 리스트가 빌 때까지 반복\n",
    "    while progresses :\n",
    "        # 몇 개의 기능이 배포되는지 저장 \n",
    "        cnt = 0\n",
    "        # 작업 리스트가 남아있고 맨 앞의 작업의 진도가 100인 경우\n",
    "        while progresses and progresses[0] >= 100:\n",
    "            cnt+=1 # 기능 배포 변수 증가\n",
    "            # 해당 작업과 작업 속도를 리스트에서 제거\n",
    "            progresses.pop(0)\n",
    "            speeds.pop(0)\n",
    "\n",
    "        # 작업 리스트의 진도를 증가\n",
    "        progresses = [progresses[i]+speeds[i] for i in range(len(progresses))]\n",
    "\n",
    "        # 만약 오늘 기능이 배포되었다면 결과 리스트에 추가\n",
    "        if cnt:\n",
    "            answer.append(cnt)\n",
    "    \n",
    "    return answer"
   ]
  }
 ],
 "metadata": {
  "kernelspec": {
   "display_name": "base",
   "language": "python",
   "name": "python3"
  },
  "language_info": {
   "codemirror_mode": {
    "name": "ipython",
    "version": 3
   },
   "file_extension": ".py",
   "mimetype": "text/x-python",
   "name": "python",
   "nbconvert_exporter": "python",
   "pygments_lexer": "ipython3",
   "version": "3.9.7"
  },
  "orig_nbformat": 4,
  "vscode": {
   "interpreter": {
    "hash": "023ab38ef701cca529efce9465407c28b5ba779ced3f1a89865b89edb313b240"
   }
  }
 },
 "nbformat": 4,
 "nbformat_minor": 2
}

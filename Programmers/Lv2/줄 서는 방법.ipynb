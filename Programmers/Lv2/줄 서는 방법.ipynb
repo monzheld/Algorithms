{
 "cells": [
  {
   "attachments": {},
   "cell_type": "markdown",
   "metadata": {},
   "source": [
    "[문제](https://school.programmers.co.kr/learn/courses/30/lessons/12936)"
   ]
  },
  {
   "attachments": {},
   "cell_type": "markdown",
   "metadata": {},
   "source": [
    "- n명의 사람이 일렬로 줄을 서고 있음\n",
    "- n명의 사람들에게는 각각 1번부터 n번까지 번호가 매겨져 있음\n",
    "- n명이 사람을 줄을 서는 방법은 여러가지 방법이 있음\n",
    "    - ex) 3명의 사람이 있다면 다음과 같이 6개의 방법 존재\n",
    "        - [1, 2, 3]\n",
    "        - [1, 3, 2]\n",
    "        - [2, 1, 3]\n",
    "        - [2, 3, 1]\n",
    "        - [3, 1, 2]\n",
    "        - [3, 2, 1]\n",
    "\n",
    "- 사람의 수 n과, 자연수 k가 주어질 때, **사람을 나열 하는 방법을 사전 순으로 나열 했을 때, k번째 방법**을 return"
   ]
  },
  {
   "attachments": {},
   "cell_type": "markdown",
   "metadata": {},
   "source": [
    "**제한사항**\n",
    "\n",
    "- n은 20이하의 자연수\n",
    "- k는 n! 이하의 자연수"
   ]
  },
  {
   "cell_type": "code",
   "execution_count": null,
   "metadata": {},
   "outputs": [],
   "source": [
    "\"\"\"\n",
    "입출력 예시)\n",
    "\n",
    "n = 3, k = 5 -> [3,1,2]\n",
    "\"\"\""
   ]
  },
  {
   "cell_type": "code",
   "execution_count": null,
   "metadata": {},
   "outputs": [],
   "source": [
    "# n명의 사람이 줄을 서는 방법 -> permutations\n",
    "\n",
    "# 먼저, n명의 사람이 있을 때, 각각 1부터 n까지의 번호를 매김\n",
    "# -> people = [i for i in range(1, n+1)]\n",
    "\n",
    "# people 리스트를 permutations로 줄을 서는 방법 구함\n",
    "# method = list(permutations(people, n))\n",
    "# -> 자동으로 사전 순으로 나열됨\n",
    "\n",
    "# method 리스트에서 (k-1)번째 원소 return \n",
    "# -> 리스트에서는 인덱스가 0부터니까"
   ]
  },
  {
   "attachments": {},
   "cell_type": "markdown",
   "metadata": {},
   "source": [
    "### 1)"
   ]
  },
  {
   "cell_type": "code",
   "execution_count": 14,
   "metadata": {},
   "outputs": [],
   "source": [
    "from itertools import permutations\n",
    "def solution(n, k):\n",
    "    #answer = []\n",
    "    people = [i for i in range(1, n+1)]\n",
    "    method = list(permutations(people, n))\n",
    "    return list(method[k-1])"
   ]
  },
  {
   "cell_type": "code",
   "execution_count": 15,
   "metadata": {},
   "outputs": [
    {
     "data": {
      "text/plain": [
       "[3, 1, 2]"
      ]
     },
     "execution_count": 15,
     "metadata": {},
     "output_type": "execute_result"
    }
   ],
   "source": [
    "n = 3\n",
    "k = 5\n",
    "solution(n, k)"
   ]
  },
  {
   "attachments": {},
   "cell_type": "markdown",
   "metadata": {},
   "source": [
    "-> 추가 테스트 케이스 실패, 효율성 테스트 실패(시간 초과)\n",
    "\n",
    "(정확성: 63.2 / 효율성: 0.0)"
   ]
  },
  {
   "attachments": {},
   "cell_type": "markdown",
   "metadata": {},
   "source": [
    "### 통과)"
   ]
  },
  {
   "cell_type": "code",
   "execution_count": 19,
   "metadata": {},
   "outputs": [],
   "source": [
    "n = 3\n",
    "k = 5"
   ]
  },
  {
   "cell_type": "code",
   "execution_count": 20,
   "metadata": {},
   "outputs": [
    {
     "name": "stdout",
     "output_type": "stream",
     "text": [
      "[(1, 2, 3), (1, 3, 2), (2, 1, 3), (2, 3, 1), (3, 1, 2), (3, 2, 1)]\n"
     ]
    }
   ],
   "source": [
    "from itertools import permutations\n",
    "people = [i for i in range(1, n+1)]\n",
    "method = list(permutations(people, n))\n",
    "print(method)"
   ]
  },
  {
   "cell_type": "code",
   "execution_count": 28,
   "metadata": {},
   "outputs": [
    {
     "name": "stdout",
     "output_type": "stream",
     "text": [
      "n!: 6\n",
      "n! // n: 2\n"
     ]
    }
   ],
   "source": [
    "import math\n",
    "n_fac = math.factorial(n)\n",
    "print('n!:', n_fac)\n",
    "print('n! // n:', n_fac // n)"
   ]
  },
  {
   "attachments": {},
   "cell_type": "markdown",
   "metadata": {},
   "source": [
    "-> n!을 n으로 나눈 수까지 맨 첫 번째 숫자가 같음\n",
    "\n",
    "(맨 첫 번째 수:1 => n!//n개, 맨 첫 번째 수:2 => n!//n개, ... , 맨 첫 번째 수:n => n!//n개)"
   ]
  },
  {
   "cell_type": "code",
   "execution_count": null,
   "metadata": {},
   "outputs": [],
   "source": [
    "# permutations로 모든 경우의 수를 다 구해서 k번째 방법을 return하는 게 아니라 \n",
    "# n!을 이용해서 인덱스로 k번째 방법에 나왔을 숫자를 하나씩 구하는 방법\n",
    "\n",
    "# n명의 사람이 줄을 서는 방법의 수 = n!\n",
    "# -> math.factorial(n)\n",
    "\n",
    "# 먼저, n명의 사람이 있을 때, 각각 1부터 n까지의 번호를 매김\n",
    "# -> people = [i for i in range(1, n+1)]\n",
    "\n",
    "# 그리고 k -= 1 (리스트의 인덱스가 0부터 시작)\n",
    "\n",
    "# 맨 첫 번째 숫자가 같은 경우의 수는 n! // n 개\n",
    "# -> split_n = n!//n\n",
    "\n",
    "# answer의 첫 번째 숫자 -> people[(k // split_n)]\n",
    "# 이걸 answer에 append하고,\n",
    "# people 리스트에서는 pop으로 제거 -> pop(인덱스)\n",
    "\n",
    "# k를 k % split_n으로 변환\n",
    "# n에서 1을 빼서 다시 n!을 계산하도록 \n",
    "\n",
    "# -> 이 과정을 n번 반복\n",
    "# => for i in range(n, 0, -1) # n부터 1까지 -1씩 "
   ]
  },
  {
   "cell_type": "code",
   "execution_count": 29,
   "metadata": {},
   "outputs": [],
   "source": [
    "import math \n",
    "def solution(n, k):\n",
    "    answer = []\n",
    "    people = [i for i in range(1, n+1)]\n",
    "    k -= 1\n",
    "    for i in range(n, 0, -1):\n",
    "        split_n = math.factorial(n) // n\n",
    "        answer.append(people[k//split_n])\n",
    "        people.pop(k//split_n)\n",
    "        k %= split_n\n",
    "        n -= 1\n",
    "    return answer"
   ]
  },
  {
   "cell_type": "code",
   "execution_count": 30,
   "metadata": {},
   "outputs": [
    {
     "data": {
      "text/plain": [
       "[3, 1, 2]"
      ]
     },
     "execution_count": 30,
     "metadata": {},
     "output_type": "execute_result"
    }
   ],
   "source": [
    "n = 3\n",
    "k = 5\n",
    "solution(n, k)"
   ]
  }
 ],
 "metadata": {
  "kernelspec": {
   "display_name": "base",
   "language": "python",
   "name": "python3"
  },
  "language_info": {
   "codemirror_mode": {
    "name": "ipython",
    "version": 3
   },
   "file_extension": ".py",
   "mimetype": "text/x-python",
   "name": "python",
   "nbconvert_exporter": "python",
   "pygments_lexer": "ipython3",
   "version": "3.9.7"
  },
  "orig_nbformat": 4,
  "vscode": {
   "interpreter": {
    "hash": "023ab38ef701cca529efce9465407c28b5ba779ced3f1a89865b89edb313b240"
   }
  }
 },
 "nbformat": 4,
 "nbformat_minor": 2
}

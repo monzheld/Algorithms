{
 "cells": [
  {
   "attachments": {},
   "cell_type": "markdown",
   "metadata": {},
   "source": [
    "[문제](https://school.programmers.co.kr/learn/courses/30/lessons/12909)"
   ]
  },
  {
   "attachments": {},
   "cell_type": "markdown",
   "metadata": {},
   "source": [
    "### 스택/큐"
   ]
  },
  {
   "attachments": {},
   "cell_type": "markdown",
   "metadata": {},
   "source": [
    "- 문자열 s가 올바른 괄호이면 true를 return 하고, 올바르지 않은 괄호이면 false를 return\n",
    "- 올바른 괄호:  '(' 문자로 열렸으면 반드시 짝지어서 ')' 문자로 닫힌 것"
   ]
  },
  {
   "attachments": {},
   "cell_type": "markdown",
   "metadata": {},
   "source": [
    "**제한사항**\n",
    "\n",
    "- s의 길이 : 100,000 이하의 자연수\n",
    "- s는 '(' 또는 ')' 로만 이루어져 있음"
   ]
  },
  {
   "cell_type": "code",
   "execution_count": null,
   "metadata": {},
   "outputs": [],
   "source": [
    "\"\"\"\n",
    "입출력 예시)\n",
    "\n",
    "s =  \"()()\" -> true\n",
    "s =  \"(())()\" -> true\n",
    "s =  \")()(\" -> false\n",
    "s =  \"(()(\" -> false\n",
    "\"\"\""
   ]
  },
  {
   "cell_type": "code",
   "execution_count": null,
   "metadata": {},
   "outputs": [],
   "source": [
    "# 후입선출 -> 스택\n",
    "\n",
    "# 스택에 문자열 s 삽입\n",
    "# if 스택.pop() == ')' and 스택[0] == '(': \n",
    "#     True\n",
    "# else:\n",
    "#     False "
   ]
  },
  {
   "attachments": {},
   "cell_type": "markdown",
   "metadata": {},
   "source": [
    "### 1) "
   ]
  },
  {
   "cell_type": "code",
   "execution_count": null,
   "metadata": {},
   "outputs": [],
   "source": [
    "def solution(s):\n",
    "    stack = list(s)\n",
    "    if stack.pop() == ')' and stack[0] == '(':\n",
    "        return True\n",
    "    else:\n",
    "        return False"
   ]
  },
  {
   "attachments": {},
   "cell_type": "markdown",
   "metadata": {},
   "source": [
    "->  추가 테스트 케이스 실패(런타임 에러), 효율성 테스트 하나 실패 "
   ]
  },
  {
   "attachments": {},
   "cell_type": "markdown",
   "metadata": {},
   "source": [
    "### 통과)"
   ]
  },
  {
   "cell_type": "code",
   "execution_count": null,
   "metadata": {},
   "outputs": [],
   "source": [
    "def solution(s):\n",
    "    stack = [] # 빈 스택 생성\n",
    "    for i in s:\n",
    "        if i == '(': # '('로 괄호가 열린 경우\n",
    "            stack.append(i) # 스택에 추가\n",
    "        else: # ')'로 괄호가 닫힌 경우\n",
    "            if len(stack) == 0: # 스택이 비어있으면 \n",
    "                return False \n",
    "            else: # 스택이 비어있지 않으면\n",
    "                stack.pop() # 아까 들어간 스택의 '('를 하나 꺼냄 \n",
    "\n",
    "    return len(stack) == 0 # 스택이 비어있으면 True, 그렇지 않다면 False "
   ]
  },
  {
   "attachments": {},
   "cell_type": "markdown",
   "metadata": {},
   "source": [
    "-> 스택에 한 번에 문자열 s를 다 추가하는 것이 아니라 '('로 괄호가 열린 경우만 추가하고, 스택에 원소가 존재하면서 ')'로 닫힌 괄호인 경우에 스택의 원소를 하나씩 꺼냄"
   ]
  },
  {
   "cell_type": "code",
   "execution_count": null,
   "metadata": {},
   "outputs": [],
   "source": [
    "return len(stack) == 0 # 스택이 비어있으면 True, 그렇지 않다면 False"
   ]
  },
  {
   "attachments": {},
   "cell_type": "markdown",
   "metadata": {},
   "source": [
    "-> 이때, 스택이 비어있다는 뜻은 '('로 시작해서 ')'로 끝났다는 의미 "
   ]
  },
  {
   "attachments": {},
   "cell_type": "markdown",
   "metadata": {},
   "source": [
    "### cf) 이전에 작성했던 코드"
   ]
  },
  {
   "cell_type": "code",
   "execution_count": null,
   "metadata": {},
   "outputs": [],
   "source": [
    "def solution(s):\n",
    "    stack = []\n",
    "    for i in s:\n",
    "        if i == \"(\": # '(' 문자로 괄호가 열린 경우\n",
    "          stack.append(i) # stack 리스트에 해당 문자 추가\n",
    "        else: # ')' 문자로 괄호가 닫힌 경우\n",
    "            if stack == []: # 꺼낼 문자가 없다면 \n",
    "              return False # False 리턴\n",
    "            else:\n",
    "              stack.pop() # stack 리스트의 '(' 문자를 하나 꺼냄\n",
    "    return len(stack) == 0 # stack 리스트가 빈 배열이라면 True, 그렇지 않다면 False를 리턴"
   ]
  }
 ],
 "metadata": {
  "kernelspec": {
   "display_name": "Python 3.9.7 ('base')",
   "language": "python",
   "name": "python3"
  },
  "language_info": {
   "codemirror_mode": {
    "name": "ipython",
    "version": 3
   },
   "file_extension": ".py",
   "mimetype": "text/x-python",
   "name": "python",
   "nbconvert_exporter": "python",
   "pygments_lexer": "ipython3",
   "version": "3.9.7 (default, Sep 16 2021, 08:50:36) \n[Clang 10.0.0 ]"
  },
  "orig_nbformat": 4,
  "vscode": {
   "interpreter": {
    "hash": "023ab38ef701cca529efce9465407c28b5ba779ced3f1a89865b89edb313b240"
   }
  }
 },
 "nbformat": 4,
 "nbformat_minor": 2
}

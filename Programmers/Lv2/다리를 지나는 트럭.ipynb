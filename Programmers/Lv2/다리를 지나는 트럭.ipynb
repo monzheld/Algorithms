{
 "cells": [
  {
   "attachments": {},
   "cell_type": "markdown",
   "metadata": {},
   "source": [
    "[문제](https://school.programmers.co.kr/learn/courses/30/lessons/42583)"
   ]
  },
  {
   "attachments": {},
   "cell_type": "markdown",
   "metadata": {},
   "source": [
    "- **정해진 순서대로** 건넘\n",
    "- **모든 트럭이 다리를 건너려면 최소 몇 초가 걸리는지** return\n",
    "- 다리에는 트럭이 최대 bridge_length대 올라갈 수 있으며, 다리는 weight 이하까지의 무게를 견딜 수 있음\n",
    "- 단, **다리에 완전히 오르지 않은 트럭의 무게는 무시**\n",
    "- bridge_length: 다리에 올라갈 수 있는 트럭 수\n",
    "- weight: 다리가 견딜 수 있는 무게\n",
    "- truck_weights: 트럭 별 무게"
   ]
  },
  {
   "attachments": {},
   "cell_type": "markdown",
   "metadata": {},
   "source": [
    "**제한 조건**\n",
    "\n",
    "- bridge_length는 1 이상 10,000 이하\n",
    "- weight는 1 이상 10,000 이하\n",
    "- truck_weights의 길이는 1 이상 10,000 이하\n",
    "- 모든 트럭의 무게는 1 이상 weight 이하"
   ]
  },
  {
   "cell_type": "code",
   "execution_count": null,
   "metadata": {},
   "outputs": [],
   "source": [
    "\"\"\"\n",
    "입출력 예시)\n",
    "\n",
    "bridge_length = 2, weight = 10, truck_weights = [7,4,5,6] -> 8\n",
    "bridge_length = 100, weight = 100, truck_weights = [10] -> 101\n",
    "bridge_length = 100, weight = 100, truck_weights = [10,10,10,10,10,10,10,10,10,10] -> 110\n",
    "\"\"\""
   ]
  },
  {
   "cell_type": "code",
   "execution_count": null,
   "metadata": {},
   "outputs": [],
   "source": [
    "# bridge_length = 2, weight = 10, truck_weights = [7,4,5,6]"
   ]
  },
  {
   "attachments": {},
   "cell_type": "markdown",
   "metadata": {},
   "source": [
    "<img width=\"461\" alt=\"스크린샷 2022-12-19 21 38 55\" src=\"https://user-images.githubusercontent.com/93971420/208428378-8665ecd2-ca78-4643-8889-1f70456ce996.png\">"
   ]
  },
  {
   "attachments": {},
   "cell_type": "markdown",
   "metadata": {},
   "source": [
    "<img width=\"661\" alt=\"스크린샷 2022-12-19 21 48 02\" src=\"https://user-images.githubusercontent.com/93971420/208432803-709b3bd1-7892-488f-8e78-097bf8f0d832.png\">"
   ]
  },
  {
   "attachments": {},
   "cell_type": "markdown",
   "metadata": {},
   "source": [
    "(회색 선: 다리 건너기 전 / 노란 선: 다리 지난 후)\n",
    "\n",
    "(빨간 점선: **다리를 건너는데 필요한 시간 => bridge_length만큼**)\n",
    "\n",
    "<br>\n",
    "\n",
    "[문제 출처](http://icpckorea.org/2016/ONLINE/problem.pdf)\n",
    "\n",
    "p 34, 35"
   ]
  },
  {
   "cell_type": "code",
   "execution_count": null,
   "metadata": {},
   "outputs": [],
   "source": [
    "# 경과 시간 1 -> 다리를 지난 트럭: x / 다리를 건너는 트럭: 7\n",
    "# 경과 시간 2 -> 다리를 지난 트럭: x / 다리를 건너는 트럭: x (다리가 견딜 수 있는 무게가 10까지인데 이미 7인 트럭이 건너서)\n",
    "# 경과 시간 3 -> 다리를 지난 트럭: 7 / 다리를 건너는 트럭: 4\n",
    "# 경과 시간 4 -> 다리를 지난 트럭: 7 / 다리를 건너는 트럭: 4, 5\n",
    "# 경과 시간 5 -> 다리를 지난 트럭: 7, 4 / 다리를 건너는 트럭: 5 (다리가 견딜 수 있는 무게가 10까지인데 이미 5인 트럭이 건너서)\n",
    "# 경과 시간 6 -> 다리를 지난 트럭: 7, 4, 5 / 다리를 건너는 트럭: 6\n",
    "# 경과 시간 7 -> 다리를 지난 트럭: 7, 4, 5 / 다리를 건너는 트럭: 6\n",
    "# 경과 시간 8 -> 다리를 지난 트럭: 7, 4, 5, 6 / 다리를 건너는 트럭: x"
   ]
  },
  {
   "cell_type": "code",
   "execution_count": null,
   "metadata": {},
   "outputs": [],
   "source": [
    "# 선입선출 -> 큐\n",
    "\n",
    "# bridge_length만큼 0으로 채운 큐 생성 => 다리\n",
    "# while 대기 트럭이 있거나 이동 중인 트럭이 있는 경우: (그냥 len(truck_weights)하면 안됨 -> truck_weights가 이동 중인 트럭이 있을 수 있기 때문에)\n",
    "#   다리를 다 지난 트럭을 큐(다리)에서 꺼냄\n",
    "#   다리 위에 있는 트럭 무게 = 다리 위에 있는 트럭 무게 - 다리를 다 지난 트럭 무게\n",
    "#   if 다리 위에 있는 트럭 무게 + 다음에 들어올 트럭 무게 <= weight: (다리 위에 있는 트럭 무게는 객체로 따로 생성)\n",
    "#       다음에 들어올 트럭을 큐(다리)에 삽입\n",
    "#       다리 위에 있는 트럭 무게 = 다리 위에 있는 트럭 무게 + 새로 다리에 들어온 트럭\n",
    "#   else: \n",
    "#       continue \n"
   ]
  },
  {
   "attachments": {},
   "cell_type": "markdown",
   "metadata": {},
   "source": [
    "### 통과)"
   ]
  },
  {
   "cell_type": "code",
   "execution_count": 65,
   "metadata": {},
   "outputs": [],
   "source": [
    "from collections import deque\n",
    "\n",
    "def solution(bridge_length, weight, truck_weights):\n",
    "    answer = 0 # 시간\n",
    "    bridge_q = deque([0 for _ in range(bridge_length)]) # bridge_length만큼 0으로 채운 deque => 다리\n",
    "    sum = 0 # 다리 위에 있는 트럭 무게 \n",
    "\n",
    "    # 대기 트럭이 있거나 이동 중인 트럭이 있는 동안 반복\n",
    "    while len(truck_weights) or sum > 0: \n",
    "        passed_truck = bridge_q.popleft() # 다리를 지난 트럭 꺼냄\n",
    "        sum -= passed_truck # 다리 위에 있는 트럭 무게 - 다리를 지난 트럭\n",
    "\n",
    "        # 새 트럭이 다리에 올라갈 수 있는 경우\n",
    "        if len(truck_weights) and sum + truck_weights[0] <= weight: # truck_weights에 있는 트럭의 개수와 (다리 위에 있는 트럭 무게 + 새로 들어올 트럭의 무게)가 weight 보다 작거나 같으면\n",
    "            new_truck = truck_weights.pop(0) # 새로 다리에 들어온 트럭\n",
    "            bridge_q.append(new_truck) # 다리(bridge_q)에 새로 다리에 들어온 트럭 삽입\n",
    "            sum += new_truck # 다리 위에 있는 트럭 무게 + 새로 다리에 들어온 트럭\n",
    "        # 새 트럭이 다리에 올라갈 수 없는 경우\n",
    "        else:\n",
    "            bridge_q.append(0) # 다리(bridge_q)에 0을 삽입해서 다리 길이 유지\n",
    "        \n",
    "        answer += 1\n",
    "\n",
    "    return answer"
   ]
  },
  {
   "cell_type": "code",
   "execution_count": 66,
   "metadata": {},
   "outputs": [],
   "source": [
    "bridge_length = 2\n",
    "weight = 10\n",
    "truck_weights = [7,4,5,6]"
   ]
  },
  {
   "cell_type": "code",
   "execution_count": 67,
   "metadata": {},
   "outputs": [
    {
     "data": {
      "text/plain": [
       "8"
      ]
     },
     "execution_count": 67,
     "metadata": {},
     "output_type": "execute_result"
    }
   ],
   "source": [
    "solution(bridge_length, weight, truck_weights)"
   ]
  },
  {
   "attachments": {},
   "cell_type": "markdown",
   "metadata": {},
   "source": [
    "- 다리인 큐를 deque가 아니라 queue.Queue()로 변경하면 시간초과\n",
    "- 다리 위에 있는 트럭 무게를 sum()으로 구하면 시간초과 + queue.Queue()로 만들었을 때는 sum() 사용 불가"
   ]
  }
 ],
 "metadata": {
  "kernelspec": {
   "display_name": "base",
   "language": "python",
   "name": "python3"
  },
  "language_info": {
   "codemirror_mode": {
    "name": "ipython",
    "version": 3
   },
   "file_extension": ".py",
   "mimetype": "text/x-python",
   "name": "python",
   "nbconvert_exporter": "python",
   "pygments_lexer": "ipython3",
   "version": "3.9.7"
  },
  "orig_nbformat": 4,
  "vscode": {
   "interpreter": {
    "hash": "023ab38ef701cca529efce9465407c28b5ba779ced3f1a89865b89edb313b240"
   }
  }
 },
 "nbformat": 4,
 "nbformat_minor": 2
}

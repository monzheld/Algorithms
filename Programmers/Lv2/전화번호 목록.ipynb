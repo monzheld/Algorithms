{
 "cells": [
  {
   "attachments": {},
   "cell_type": "markdown",
   "metadata": {},
   "source": [
    "[문제](https://school.programmers.co.kr/learn/courses/30/lessons/42577)"
   ]
  },
  {
   "attachments": {},
   "cell_type": "markdown",
   "metadata": {},
   "source": [
    "### 해시"
   ]
  },
  {
   "attachments": {},
   "cell_type": "markdown",
   "metadata": {},
   "source": [
    "- 한 번호가 다른 번호의 접두어인 경우가 있는지 확인\n",
    "- phone_book: 전화번호부에 적힌 전화번호를 담은 배열\n",
    "- **어떤 번호가 다른 번호의 접두어인 경우가 있으면 false를 그렇지 않으면 true**를 return\n"
   ]
  },
  {
   "attachments": {},
   "cell_type": "markdown",
   "metadata": {},
   "source": [
    "**제한 사항**\n",
    "\n",
    "- phone_book의 길이는 1 이상 1,000,000 이하\n",
    "    - 각 전화번호의 길이는 1 이상 20 이하\n",
    "    - 같은 전화번호가 중복해서 들어있지 않음"
   ]
  },
  {
   "cell_type": "code",
   "execution_count": null,
   "metadata": {},
   "outputs": [],
   "source": [
    "\"\"\"\n",
    "입출력 예시)\n",
    "\n",
    "phone_book = [\"119\", \"97674223\", \"1195524421\"] -> false\n",
    "phone_book = [\"123\",\"456\",\"789\"] -> true\n",
    "phone_book = [\"12\",\"123\",\"1235\",\"567\",\"88\"] -> false\n",
    "\"\"\""
   ]
  },
  {
   "cell_type": "code",
   "execution_count": null,
   "metadata": {},
   "outputs": [],
   "source": [
    "# phone_book = [\"119\", \"97674223\", \"1195524421\"]\n",
    "\n",
    "# 구조대 : 119\n",
    "# 박준영 : 97 674 223\n",
    "# 지영석 : 11 9552 4421\n",
    "\n",
    "# -> 구조대 전화번호는 영석이의 전화번호의 접두사"
   ]
  },
  {
   "cell_type": "code",
   "execution_count": null,
   "metadata": {},
   "outputs": [],
   "source": [
    "# ! 접두어인 경우가 있을 때가 false / 없을 때는 true ! #\n",
    "\n",
    "\n",
    "# 어떤 번호가 다른 번호의 접두어인지 확인 -> str.startswith()\n",
    "\n",
    "# 현재 전화번호가 다른 전화번호의 접두어인지 확인하는 방법\n",
    "# phone_book을 정렬 -> 전화번호의 맨 앞자리 수를 기준으로 순서대로 정렬됨\n",
    "# for문\n",
    "#   if p[i+1].startswith(p[i]):\n",
    "#       answer = False\n",
    "#   else:\n",
    "#       answer = True"
   ]
  },
  {
   "cell_type": "code",
   "execution_count": 15,
   "metadata": {},
   "outputs": [
    {
     "name": "stdout",
     "output_type": "stream",
     "text": [
      "'in': True\n",
      "'startswith': False\n"
     ]
    }
   ],
   "source": [
    "# ex) \n",
    "s = \"12\"\n",
    "num = \"531235\"\n",
    "\n",
    "# in -> True\n",
    "print(\"'in':\", s in num)\n",
    "\n",
    "# startswith -> false\n",
    "print(\"'startswith':\", num.startswith(s))"
   ]
  },
  {
   "attachments": {},
   "cell_type": "markdown",
   "metadata": {},
   "source": [
    "-> in을 사용하면 접두어가 아니라 중간에 들어가도 True로 나옴"
   ]
  },
  {
   "cell_type": "code",
   "execution_count": 22,
   "metadata": {},
   "outputs": [
    {
     "name": "stdout",
     "output_type": "stream",
     "text": [
      "['119', '1195524421', '97674223']\n"
     ]
    }
   ],
   "source": [
    "# sort() -> 전화번호의 맨 앞자리 수를 기준으로 순서대로 정렬\n",
    "phone_book = [\"119\", \"97674223\", \"1195524421\"]\n",
    "phone_book.sort()\n",
    "print(phone_book)"
   ]
  },
  {
   "attachments": {},
   "cell_type": "markdown",
   "metadata": {},
   "source": [
    "### 통과)"
   ]
  },
  {
   "cell_type": "code",
   "execution_count": null,
   "metadata": {},
   "outputs": [],
   "source": [
    "def solution(phone_book):\n",
    "    answer = True\n",
    "    phone_book.sort() # 전화번호의 맨 앞자리 수를 기준으로 순서대로 정렬\n",
    "    for i in range(len(phone_book)-1):\n",
    "        if phone_book[i+1].startswith(phone_book[i]):\n",
    "            return False\n",
    "    return answer"
   ]
  },
  {
   "attachments": {},
   "cell_type": "markdown",
   "metadata": {},
   "source": [
    "-> sort()로 정렬 후, startswith()로 확인"
   ]
  },
  {
   "attachments": {},
   "cell_type": "markdown",
   "metadata": {},
   "source": [
    "-> for i in range(len(phone_book)-1) 하는 이유: IndexError를 피하기 위해"
   ]
  },
  {
   "cell_type": "code",
   "execution_count": null,
   "metadata": {},
   "outputs": [],
   "source": [
    "# ex) \n",
    "# phone_book = [\"119\", \"97674223\", \"1195524421\"]\n",
    "# for i in range(len(phone_book)-1):\n",
    "#     print(i) # -> 0, 1\n",
    "\n",
    "#     if phone_book[i+1].startswith(phone_book[i]):\n",
    "#      -> phone_book[1]과 phone_book[0]\n",
    "#      -> phone_book[2]과 phone_book[1]"
   ]
  },
  {
   "cell_type": "code",
   "execution_count": 45,
   "metadata": {},
   "outputs": [
    {
     "data": {
      "text/plain": [
       "False"
      ]
     },
     "execution_count": 45,
     "metadata": {},
     "output_type": "execute_result"
    }
   ],
   "source": [
    "phone_book = [\"119\", \"97674223\", \"1195524421\"]\n",
    "solution(phone_book)"
   ]
  },
  {
   "cell_type": "code",
   "execution_count": 46,
   "metadata": {},
   "outputs": [
    {
     "data": {
      "text/plain": [
       "True"
      ]
     },
     "execution_count": 46,
     "metadata": {},
     "output_type": "execute_result"
    }
   ],
   "source": [
    "phone_book = [\"123\",\"456\",\"789\"]\n",
    "solution(phone_book) "
   ]
  },
  {
   "attachments": {},
   "cell_type": "markdown",
   "metadata": {},
   "source": [
    "### 다른 풀이)"
   ]
  },
  {
   "attachments": {},
   "cell_type": "markdown",
   "metadata": {},
   "source": [
    "1) zip() 이용"
   ]
  },
  {
   "cell_type": "code",
   "execution_count": null,
   "metadata": {},
   "outputs": [],
   "source": [
    "def solution(phone_book):\n",
    "    phone_book = sorted(phone_book)\n",
    "\n",
    "    for p1, p2 in zip(phone_book, phone_book[1:]):\n",
    "        if p2.startswith(p1):\n",
    "            return False\n",
    "    return True"
   ]
  },
  {
   "cell_type": "code",
   "execution_count": 48,
   "metadata": {},
   "outputs": [
    {
     "name": "stdout",
     "output_type": "stream",
     "text": [
      "119 1195524421\n",
      "1195524421 97674223\n"
     ]
    }
   ],
   "source": [
    "# ex) \n",
    "phone_book = [\"119\", \"97674223\", \"1195524421\"]\n",
    "phone_book = sorted(phone_book)\n",
    "for p1, p2 in zip(phone_book, phone_book[1:]):\n",
    "    print(p1, p2)"
   ]
  },
  {
   "attachments": {},
   "cell_type": "markdown",
   "metadata": {},
   "source": [
    "2) Hash 이용"
   ]
  },
  {
   "cell_type": "code",
   "execution_count": null,
   "metadata": {},
   "outputs": [],
   "source": [
    "def solution(phone_book):\n",
    "    answer = True\n",
    "\n",
    "    # 해시 생성\n",
    "    hash_map = {}\n",
    "    # 해시에 전화번호 추가\n",
    "    for phone_number in phone_book:\n",
    "        hash_map[phone_number] = 1 # {전화번호: 1, 전화번호: 1, ...} \n",
    "        # -> key: phone_number / value: 1 \n",
    "        # (value = 1 => 숫자가 1개 존재한다는 의미)\n",
    "    \n",
    "    for phone_number in phone_book:\n",
    "        temp = \"\"\n",
    "        for number in phone_number:\n",
    "            temp += number\n",
    "            # temp가 해시에 존재하고, 전화번호와 같지 않은 경우 (=> 다른 번호의 접두어인 경우)\n",
    "            if temp in hash_map and temp != phone_number:\n",
    "                return False # answer = False라고 하는 것보다 바로 return False를 하는 게 시간이 더 빠름 \n",
    "    return answer"
   ]
  },
  {
   "cell_type": "code",
   "execution_count": null,
   "metadata": {},
   "outputs": [],
   "source": [
    "# 과정 확인"
   ]
  },
  {
   "cell_type": "code",
   "execution_count": 56,
   "metadata": {},
   "outputs": [],
   "source": [
    "def solution(phone_book):\n",
    "    answer = True\n",
    "\n",
    "    hash_map = {}\n",
    "    for phone_number in phone_book:\n",
    "        hash_map[phone_number] = 1 \n",
    "    print(hash_map, '\\n')\n",
    "    \n",
    "    for phone_number in phone_book:\n",
    "        temp = \"\"\n",
    "        for number in phone_number:\n",
    "            print('number:', number)\n",
    "            print('phone_number:', phone_number)\n",
    "            temp += number\n",
    "            print('temp += number:', temp, '\\n')\n",
    "            if temp in hash_map and temp != phone_number:\n",
    "                return False\n",
    "    return answer"
   ]
  },
  {
   "cell_type": "code",
   "execution_count": 57,
   "metadata": {},
   "outputs": [
    {
     "name": "stdout",
     "output_type": "stream",
     "text": [
      "{'119': 1, '97674223': 1, '1195524421': 1} \n",
      "\n",
      "number: 1\n",
      "phone_number: 119\n",
      "temp += number: 1 \n",
      "\n",
      "number: 1\n",
      "phone_number: 119\n",
      "temp += number: 11 \n",
      "\n",
      "number: 9\n",
      "phone_number: 119\n",
      "temp += number: 119 \n",
      "\n",
      "number: 9\n",
      "phone_number: 97674223\n",
      "temp += number: 9 \n",
      "\n",
      "number: 7\n",
      "phone_number: 97674223\n",
      "temp += number: 97 \n",
      "\n",
      "number: 6\n",
      "phone_number: 97674223\n",
      "temp += number: 976 \n",
      "\n",
      "number: 7\n",
      "phone_number: 97674223\n",
      "temp += number: 9767 \n",
      "\n",
      "number: 4\n",
      "phone_number: 97674223\n",
      "temp += number: 97674 \n",
      "\n",
      "number: 2\n",
      "phone_number: 97674223\n",
      "temp += number: 976742 \n",
      "\n",
      "number: 2\n",
      "phone_number: 97674223\n",
      "temp += number: 9767422 \n",
      "\n",
      "number: 3\n",
      "phone_number: 97674223\n",
      "temp += number: 97674223 \n",
      "\n",
      "number: 1\n",
      "phone_number: 1195524421\n",
      "temp += number: 1 \n",
      "\n",
      "number: 1\n",
      "phone_number: 1195524421\n",
      "temp += number: 11 \n",
      "\n",
      "number: 9\n",
      "phone_number: 1195524421\n",
      "temp += number: 119 \n",
      "\n"
     ]
    },
    {
     "data": {
      "text/plain": [
       "False"
      ]
     },
     "execution_count": 57,
     "metadata": {},
     "output_type": "execute_result"
    }
   ],
   "source": [
    "phone_book = [\"119\", \"97674223\", \"1195524421\"]\n",
    "solution(phone_book)"
   ]
  }
 ],
 "metadata": {
  "kernelspec": {
   "display_name": "base",
   "language": "python",
   "name": "python3"
  },
  "language_info": {
   "codemirror_mode": {
    "name": "ipython",
    "version": 3
   },
   "file_extension": ".py",
   "mimetype": "text/x-python",
   "name": "python",
   "nbconvert_exporter": "python",
   "pygments_lexer": "ipython3",
   "version": "3.9.7"
  },
  "orig_nbformat": 4,
  "vscode": {
   "interpreter": {
    "hash": "023ab38ef701cca529efce9465407c28b5ba779ced3f1a89865b89edb313b240"
   }
  }
 },
 "nbformat": 4,
 "nbformat_minor": 2
}

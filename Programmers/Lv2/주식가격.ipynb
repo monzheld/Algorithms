{
 "cells": [
  {
   "attachments": {},
   "cell_type": "markdown",
   "metadata": {},
   "source": [
    "[문제](https://school.programmers.co.kr/learn/courses/30/lessons/42584)"
   ]
  },
  {
   "attachments": {},
   "cell_type": "markdown",
   "metadata": {},
   "source": [
    "### 스택/큐"
   ]
  },
  {
   "attachments": {},
   "cell_type": "markdown",
   "metadata": {},
   "source": [
    "- prices: 초 단위로 기록된 주식가격이 담긴 배열\n",
    "- **가격이 떨어지지 않은 기간은 몇 초인지**를 return"
   ]
  },
  {
   "attachments": {},
   "cell_type": "markdown",
   "metadata": {},
   "source": [
    "**제한사항**\n",
    "\n",
    "- prices의 각 가격은 1 이상 10,000 이하인 자연수\n",
    "- prices의 길이는 2 이상 100,000 이하"
   ]
  },
  {
   "cell_type": "code",
   "execution_count": null,
   "metadata": {},
   "outputs": [],
   "source": [
    "\"\"\"\n",
    "입출력 예시)\n",
    "\n",
    "prices = [1, 2, 3, 2, 3] -> [4, 3, 1, 1, 0]\n",
    "\"\"\""
   ]
  },
  {
   "cell_type": "code",
   "execution_count": null,
   "metadata": {},
   "outputs": [],
   "source": [
    "# 1초 시점의 ₩1은 끝까지 가격이 떨어지지 않았음\n",
    "# 2초 시점의 ₩2은 끝까지 가격이 떨어지지 않았음\n",
    "# 3초 시점의 ₩3은 1초뒤에 가격이 떨어짐. 따라서 1초간 가격이 떨어지지 않음\n",
    "# 4초 시점의 ₩2은 1초간 가격이 떨어지지 않았음\n",
    "# 5초 시점의 ₩3은 0초간 가격이 떨어지지 않았음"
   ]
  },
  {
   "cell_type": "code",
   "execution_count": null,
   "metadata": {},
   "outputs": [],
   "source": [
    "# 선입선출 -> 큐\n",
    "\n",
    "# 큐 생성 -> deque(prices)\n",
    "# while deque:\n",
    "#   deque.popleft() -> 현재 주식가격\n",
    "#   time = 0\n",
    "#   for d in deque: \n",
    "#       time += 1\n",
    "#       if 현재 주식가격 > d:\n",
    "#           break\n",
    "# answer.append(time)"
   ]
  },
  {
   "attachments": {},
   "cell_type": "markdown",
   "metadata": {},
   "source": [
    "### 통과)"
   ]
  },
  {
   "cell_type": "code",
   "execution_count": 15,
   "metadata": {},
   "outputs": [],
   "source": [
    "from collections import deque\n",
    "\n",
    "def solution(prices):\n",
    "    answer = []\n",
    "    dq = deque(prices)\n",
    "\n",
    "    while dq:\n",
    "        now_p = dq.popleft() # 현재 주식가격\n",
    "        time = 0 # 가격이 떨어지지 않은 기간 (매번 리셋)\n",
    "        for d in dq:\n",
    "            time += 1\n",
    "            if now_p > d:\n",
    "                break\n",
    "        answer.append(time) \n",
    "    \n",
    "    return answer"
   ]
  },
  {
   "cell_type": "code",
   "execution_count": 16,
   "metadata": {},
   "outputs": [
    {
     "data": {
      "text/plain": [
       "[4, 3, 1, 1, 0]"
      ]
     },
     "execution_count": 16,
     "metadata": {},
     "output_type": "execute_result"
    }
   ],
   "source": [
    "prices = [1, 2, 3, 2, 3]\n",
    "solution(prices)"
   ]
  }
 ],
 "metadata": {
  "kernelspec": {
   "display_name": "base",
   "language": "python",
   "name": "python3"
  },
  "language_info": {
   "codemirror_mode": {
    "name": "ipython",
    "version": 3
   },
   "file_extension": ".py",
   "mimetype": "text/x-python",
   "name": "python",
   "nbconvert_exporter": "python",
   "pygments_lexer": "ipython3",
   "version": "3.9.7"
  },
  "orig_nbformat": 4,
  "vscode": {
   "interpreter": {
    "hash": "023ab38ef701cca529efce9465407c28b5ba779ced3f1a89865b89edb313b240"
   }
  }
 },
 "nbformat": 4,
 "nbformat_minor": 2
}

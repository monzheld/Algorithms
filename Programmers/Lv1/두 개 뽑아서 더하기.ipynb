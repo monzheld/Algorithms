{
 "cells": [
  {
   "attachments": {},
   "cell_type": "markdown",
   "metadata": {},
   "source": [
    "[문제](https://school.programmers.co.kr/learn/courses/30/lessons/68644)"
   ]
  },
  {
   "attachments": {},
   "cell_type": "markdown",
   "metadata": {},
   "source": [
    "- numbers: 정수 배열\n",
    "- numbers에서 **서로 다른 인덱스에 있는 두 개의 수를 뽑아 더해서 만들 수 있는 모든 수**를 배열에 **오름차순으로** 담아 return"
   ]
  },
  {
   "attachments": {},
   "cell_type": "markdown",
   "metadata": {},
   "source": [
    "**제한사항**\n",
    "\n",
    "- numbers의 길이는 2 이상 100 이하\n",
    "- numbers의 모든 수는 0 이상 100 이하"
   ]
  },
  {
   "cell_type": "code",
   "execution_count": null,
   "metadata": {},
   "outputs": [],
   "source": [
    "\"\"\"\n",
    "입출력 예시)\n",
    "\n",
    "numbers = [2,1,3,4,1] -> [2,3,4,5,6,7]\n",
    "numbers = [5,0,2,7] -> [2,5,7,9,12]\n",
    "\"\"\""
   ]
  },
  {
   "cell_type": "code",
   "execution_count": null,
   "metadata": {},
   "outputs": [],
   "source": [
    "# numbers = [2,1,3,4,1] -> [2,3,4,5,6,7]\n",
    "# (-> index: 0 1 2 3 4)\n",
    "\n",
    "# 2 = 1 + 1 (1이 numbers에 두 개 있음) <- index: 1, 4\n",
    "# 3 = 2 + 1 <- index: 0, 1 / 0, 4\n",
    "# 4 = 1 + 3 <- index: 1, 2 / 4, 2\n",
    "# 5 = 1 + 4 = 2 + 3 <- index: 1, 3 / 4, 3 / 0, 2\n",
    "# 6 = 2 + 4 <- index: 0, 3\n",
    "# 7 = 3 + 4 <- index: 2, 3\n",
    "\n",
    "# => [2,3,4,5,6,7]"
   ]
  },
  {
   "cell_type": "code",
   "execution_count": null,
   "metadata": {},
   "outputs": [],
   "source": [
    "# combinations로 서로 다른 인덱스에 있는 두 개의 수 뽑기\n",
    "# combinations로 뽑은 두 수 더하기\n",
    "# 더해서 만들 수 있는 수가 중복될 경우 하나만 배열에 담아 return (-> set()으로 중복 제거)\n",
    "# 배열을 오름차순으로 정렬"
   ]
  },
  {
   "cell_type": "code",
   "execution_count": 1,
   "metadata": {},
   "outputs": [],
   "source": [
    "numbers = [2,1,3,4,1]"
   ]
  },
  {
   "cell_type": "code",
   "execution_count": 2,
   "metadata": {},
   "outputs": [
    {
     "data": {
      "text/plain": [
       "[(2, 1),\n",
       " (2, 3),\n",
       " (2, 4),\n",
       " (2, 1),\n",
       " (1, 3),\n",
       " (1, 4),\n",
       " (1, 1),\n",
       " (3, 4),\n",
       " (3, 1),\n",
       " (4, 1)]"
      ]
     },
     "execution_count": 2,
     "metadata": {},
     "output_type": "execute_result"
    }
   ],
   "source": [
    "from itertools import combinations\n",
    "c = list(combinations(numbers, 2))\n",
    "c"
   ]
  },
  {
   "attachments": {},
   "cell_type": "markdown",
   "metadata": {},
   "source": [
    "### 통과)"
   ]
  },
  {
   "cell_type": "code",
   "execution_count": 10,
   "metadata": {},
   "outputs": [],
   "source": [
    "from itertools import combinations\n",
    "\n",
    "def solution(numbers):\n",
    "    answer = []\n",
    "\n",
    "    # numbers의 조합 구하기\n",
    "    combi = list(combinations(numbers, 2))\n",
    "\n",
    "    # 조합의 두 수 더하기 \n",
    "    for c in combi:\n",
    "        x, y = c[0], c[1]\n",
    "        n = x + y\n",
    "        answer.append(n)\n",
    "    \n",
    "    # 중복 제거, 오름차순 정렬\n",
    "    answer = list(set(answer))\n",
    "    answer.sort()\n",
    "\n",
    "    return answer"
   ]
  },
  {
   "cell_type": "code",
   "execution_count": 11,
   "metadata": {},
   "outputs": [
    {
     "data": {
      "text/plain": [
       "[2, 3, 4, 5, 6, 7]"
      ]
     },
     "execution_count": 11,
     "metadata": {},
     "output_type": "execute_result"
    }
   ],
   "source": [
    "numbers = [2,1,3,4,1]\n",
    "solution(numbers)"
   ]
  },
  {
   "cell_type": "code",
   "execution_count": 12,
   "metadata": {},
   "outputs": [
    {
     "data": {
      "text/plain": [
       "[2, 5, 7, 9, 12]"
      ]
     },
     "execution_count": 12,
     "metadata": {},
     "output_type": "execute_result"
    }
   ],
   "source": [
    "numbers = [5,0,2,7]\n",
    "solution(numbers)"
   ]
  },
  {
   "cell_type": "code",
   "execution_count": null,
   "metadata": {},
   "outputs": [],
   "source": [
    "# 과정 확인"
   ]
  },
  {
   "cell_type": "code",
   "execution_count": 7,
   "metadata": {},
   "outputs": [],
   "source": [
    "from itertools import combinations\n",
    "\n",
    "def solution(numbers):\n",
    "    answer = []\n",
    "\n",
    "    # numbers의 조합 구하기\n",
    "    combi = list(combinations(numbers, 2))\n",
    "    print(combi)\n",
    "\n",
    "    # 조합의 두 수 더하기 \n",
    "    for c in combi:\n",
    "        x, y = c[0], c[1]\n",
    "        n = x + y\n",
    "        answer.append(n)\n",
    "    \n",
    "    # 중복 제거, 오름차순 정렬\n",
    "    answer = list(set(answer))\n",
    "    answer.sort()\n",
    "\n",
    "    return answer"
   ]
  },
  {
   "cell_type": "code",
   "execution_count": 8,
   "metadata": {},
   "outputs": [
    {
     "name": "stdout",
     "output_type": "stream",
     "text": [
      "[(2, 1), (2, 3), (2, 4), (2, 1), (1, 3), (1, 4), (1, 1), (3, 4), (3, 1), (4, 1)]\n"
     ]
    },
    {
     "data": {
      "text/plain": [
       "[2, 3, 4, 5, 6, 7]"
      ]
     },
     "execution_count": 8,
     "metadata": {},
     "output_type": "execute_result"
    }
   ],
   "source": [
    "numbers = [2,1,3,4,1]\n",
    "solution(numbers)"
   ]
  },
  {
   "cell_type": "code",
   "execution_count": 9,
   "metadata": {},
   "outputs": [
    {
     "name": "stdout",
     "output_type": "stream",
     "text": [
      "[(5, 0), (5, 2), (5, 7), (0, 2), (0, 7), (2, 7)]\n"
     ]
    },
    {
     "data": {
      "text/plain": [
       "[2, 5, 7, 9, 12]"
      ]
     },
     "execution_count": 9,
     "metadata": {},
     "output_type": "execute_result"
    }
   ],
   "source": [
    "numbers = [5,0,2,7]\n",
    "solution(numbers)"
   ]
  }
 ],
 "metadata": {
  "kernelspec": {
   "display_name": "base",
   "language": "python",
   "name": "python3"
  },
  "language_info": {
   "codemirror_mode": {
    "name": "ipython",
    "version": 3
   },
   "file_extension": ".py",
   "mimetype": "text/x-python",
   "name": "python",
   "nbconvert_exporter": "python",
   "pygments_lexer": "ipython3",
   "version": "3.9.7"
  },
  "orig_nbformat": 4,
  "vscode": {
   "interpreter": {
    "hash": "023ab38ef701cca529efce9465407c28b5ba779ced3f1a89865b89edb313b240"
   }
  }
 },
 "nbformat": 4,
 "nbformat_minor": 2
}

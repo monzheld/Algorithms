{
 "cells": [
  {
   "attachments": {},
   "cell_type": "markdown",
   "metadata": {},
   "source": [
    "[문제](https://school.programmers.co.kr/learn/courses/30/lessons/12915)"
   ]
  },
  {
   "attachments": {},
   "cell_type": "markdown",
   "metadata": {},
   "source": [
    "-  각 문자열의 **인덱스 n번째 글자를 기준으로 오름차순** 정렬"
   ]
  },
  {
   "attachments": {},
   "cell_type": "markdown",
   "metadata": {},
   "source": [
    "**제한 조건**\n",
    "\n",
    "- strings는 길이 1 이상, 50이하인 배열입\n",
    "- strings의 원소는 소문자 알파벳으로 이루어져 있음\n",
    "- strings의 원소는 길이 1 이상, 100이하인 문자열\n",
    "- 모든 strings의 원소의 길이는 n보다 큼\n",
    "- 인덱스 1의 문자가 **같은 문자열이 여럿 일 경우, 사전순으로 앞선 문자열이 앞쪽에** 위치"
   ]
  },
  {
   "cell_type": "code",
   "execution_count": null,
   "metadata": {},
   "outputs": [],
   "source": [
    "\"\"\"\n",
    "입출력 예시)\n",
    "\n",
    "strings =  [\"sun\", \"bed\", \"car\"], n = 1 -> [\"car\", \"bed\", \"sun\"]\n",
    "strings =  [\"abce\", \"abcd\", \"cdx\"], n = 2 -> [\"abcd\", \"abce\", \"cdx\"]\n",
    "\"\"\""
   ]
  },
  {
   "cell_type": "code",
   "execution_count": null,
   "metadata": {},
   "outputs": [],
   "source": [
    "# strings =  [\"abce\", \"abcd\", \"cdx\"], n = 2\n",
    "\n",
    "# \"abce\"와 \"abcd\", \"cdx\"의 2번째 인덱스 값 -> \"c\", \"c\", \"x\"\n",
    "# \"abce\"와 \"abcd\"는 사전순으로 정렬하면 \"abcd\"가 우선\n",
    "# => [\"abcd\", \"abce\", \"cdx\"]"
   ]
  },
  {
   "cell_type": "code",
   "execution_count": 11,
   "metadata": {},
   "outputs": [
    {
     "data": {
      "text/plain": [
       "['car', 'bed', 'sun']"
      ]
     },
     "execution_count": 11,
     "metadata": {},
     "output_type": "execute_result"
    }
   ],
   "source": [
    "# sorted(list, key=) 사용\n",
    "\n",
    "strings =  [\"sun\", \"bed\", \"car\"]\n",
    "n = 1\n",
    "\n",
    "sorted(strings, key = lambda x:x[n])"
   ]
  },
  {
   "cell_type": "code",
   "execution_count": 19,
   "metadata": {},
   "outputs": [
    {
     "name": "stdout",
     "output_type": "stream",
     "text": [
      "['abce', 'abcd', 'cdx']\n"
     ]
    }
   ],
   "source": [
    "# list.sort(key=) 사용\n",
    "\n",
    "strings =  [\"abce\", \"abcd\", \"cdx\"]\n",
    "n = 2\n",
    "\n",
    "strings.sort(key = lambda x:x[n])\n",
    "print(strings)"
   ]
  },
  {
   "cell_type": "code",
   "execution_count": 20,
   "metadata": {},
   "outputs": [
    {
     "name": "stdout",
     "output_type": "stream",
     "text": [
      "['abcd', 'abce', 'cdx']\n"
     ]
    }
   ],
   "source": [
    "strings =  [\"abce\", \"abcd\", \"cdx\"]\n",
    "n = 2\n",
    "\n",
    "strings.sort()\n",
    "strings.sort(key = lambda x:x[n])\n",
    "print(strings)"
   ]
  },
  {
   "attachments": {},
   "cell_type": "markdown",
   "metadata": {},
   "source": [
    "-> 인덱스 n번째 글자를 기준으로 정렬하기 전에 sort()를 한 번 더 해주면 같은 문자열이 여럿 일 경우, 사전순으로 정렬됨"
   ]
  },
  {
   "cell_type": "code",
   "execution_count": 21,
   "metadata": {},
   "outputs": [
    {
     "name": "stdout",
     "output_type": "stream",
     "text": [
      "['abcd', 'abce', 'cdx']\n"
     ]
    }
   ],
   "source": [
    "# 사전순으로 정렬 -> list.sort()\n",
    "strings =  [\"abce\", \"abcd\", \"cdx\"]\n",
    "strings.sort()\n",
    "print(strings)"
   ]
  },
  {
   "attachments": {},
   "cell_type": "markdown",
   "metadata": {},
   "source": [
    "### 통과)"
   ]
  },
  {
   "cell_type": "code",
   "execution_count": 25,
   "metadata": {},
   "outputs": [],
   "source": [
    "def solution(strings, n):\n",
    "    answer = []\n",
    "    strings.sort() # 사전순으로 정렬\n",
    "    answer = sorted(strings, key=lambda x:x[n]) # 인덱스 n번째 글자를 기준으로 정렬\n",
    "    return answer"
   ]
  },
  {
   "cell_type": "code",
   "execution_count": 26,
   "metadata": {},
   "outputs": [
    {
     "data": {
      "text/plain": [
       "['car', 'bed', 'sun']"
      ]
     },
     "execution_count": 26,
     "metadata": {},
     "output_type": "execute_result"
    }
   ],
   "source": [
    "strings =  [\"sun\", \"bed\", \"car\"]\n",
    "n = 1\n",
    "solution(strings, n)"
   ]
  },
  {
   "cell_type": "code",
   "execution_count": 27,
   "metadata": {},
   "outputs": [
    {
     "data": {
      "text/plain": [
       "['abcd', 'abce', 'cdx']"
      ]
     },
     "execution_count": 27,
     "metadata": {},
     "output_type": "execute_result"
    }
   ],
   "source": [
    "strings =  [\"abce\", \"abcd\", \"cdx\"]\n",
    "n = 2\n",
    "solution(strings, n)"
   ]
  }
 ],
 "metadata": {
  "kernelspec": {
   "display_name": "base",
   "language": "python",
   "name": "python3"
  },
  "language_info": {
   "codemirror_mode": {
    "name": "ipython",
    "version": 3
   },
   "file_extension": ".py",
   "mimetype": "text/x-python",
   "name": "python",
   "nbconvert_exporter": "python",
   "pygments_lexer": "ipython3",
   "version": "3.9.7"
  },
  "orig_nbformat": 4,
  "vscode": {
   "interpreter": {
    "hash": "023ab38ef701cca529efce9465407c28b5ba779ced3f1a89865b89edb313b240"
   }
  }
 },
 "nbformat": 4,
 "nbformat_minor": 2
}

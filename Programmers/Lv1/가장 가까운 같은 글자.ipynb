{
 "cells": [
  {
   "cell_type": "markdown",
   "metadata": {},
   "source": [
    "[문제](https://school.programmers.co.kr/learn/courses/30/lessons/142086)"
   ]
  },
  {
   "cell_type": "markdown",
   "metadata": {},
   "source": [
    "- 문자열 s의 각 위치마다 **자신보다 앞에 나왔으면서, 자신과 가장 가까운 곳에 있는 같은 글자의 위치** 구하기\n",
    "\n",
    "- 처음 나와서 자신의 앞에 같은 글자가 없는 경우: -1\n",
    "\n",
    "- 자신보다 앞에 나왔으면서, 자신과 가장 가까운 곳에 있는 같은 글자의 위치\n",
    "    - => 자신보다 몇 칸 앞에 있는지\n",
    "    - 자신보다 앞에 나온 같은 글자가 여러 개인 경우: 그중 가장 가까운 글자의 위치 "
   ]
  },
  {
   "cell_type": "markdown",
   "metadata": {},
   "source": [
    "**제한사항**\n",
    "\n",
    "- 1 ≤ s의 길이 ≤ 10,000\n",
    "    - s는 영어 소문자로만 이루어져 있음"
   ]
  },
  {
   "cell_type": "code",
   "execution_count": null,
   "metadata": {},
   "outputs": [],
   "source": [
    "\"\"\"\n",
    "입출력 예시)\n",
    "\n",
    "s =  \"banana\" -> [-1, -1, -1, 2, 2, 2]\n",
    "s =  \"foobar\" -> [-1, -1, 1, -1, -1, -1]\n",
    "\"\"\""
   ]
  },
  {
   "cell_type": "markdown",
   "metadata": {},
   "source": [
    "### 1) "
   ]
  },
  {
   "cell_type": "code",
   "execution_count": null,
   "metadata": {},
   "outputs": [],
   "source": [
    "def solution(s):\n",
    "    s_list = list(s)\n",
    "    answer = []\n",
    "    cnt = -1\n",
    "    for i, s in enumerate(s_list):\n",
    "        if s not in s_list[:i]:\n",
    "            cnt = -1\n",
    "        else:\n",
    "            matching_s_idx = s_list.index(s, 0, i)\n",
    "            cnt = i - matching_s_idx\n",
    "        answer.append(cnt)\n",
    "        \n",
    "    return answer"
   ]
  },
  {
   "cell_type": "markdown",
   "metadata": {},
   "source": [
    "-> 테스트 1) (s = \"banana\") 실패 \n",
    "\n",
    "```\n",
    "s = \"banana\"\n",
    "answer = [-1,-1,-1,2,2,4]\n",
    "```"
   ]
  },
  {
   "cell_type": "markdown",
   "metadata": {},
   "source": [
    "=> 자신보다 앞에 나온 같은 글자가 여러 개인 경우, 그중 가장 가까운(가장 마지막에 등장한) 글자의 위치를 구하지 못해서 실패"
   ]
  },
  {
   "cell_type": "markdown",
   "metadata": {},
   "source": [
    "- `index()`\n",
    "    - 중복된 값이 있으면 **가장 최소의(가장 먼저 등장한) 위치**를 리턴"
   ]
  },
  {
   "cell_type": "markdown",
   "metadata": {},
   "source": [
    "### 통과) "
   ]
  },
  {
   "cell_type": "code",
   "execution_count": null,
   "metadata": {},
   "outputs": [],
   "source": [
    "def solution(s):\n",
    "    answer = []\n",
    "    idx_dict = {} # 각 문자마다 가장 마지막으로 등장한 위치를 담은 dict\n",
    "\n",
    "    for i, w in enumerate(list(s)):\n",
    "        # 처음 등장한 경우\n",
    "        if w not in idx_dict:\n",
    "            answer.append(-1) # 답: -1\n",
    "            idx_dict[w] = i # idx_dict에 현재 위치 추가\n",
    "        # 자신의 앞에 같은 글자가 있는 경우 \n",
    "        else:\n",
    "            answer.append(i - idx_dict[w]) # 답: 현재 위치 - 가장 마지막으로 등장한 위치\n",
    "            idx_dict[w] = i # idx_dict에 현재 위치(= 가장 마지막으로 등장한 위치) 추가\n",
    "        \n",
    "    return answer"
   ]
  },
  {
   "cell_type": "markdown",
   "metadata": {},
   "source": [
    "-> 딕셔너리를 사용해서 각 문자마다 가장 마지막으로 등장한 위치를 저장하고, 다시 등장할 때마다 업데이트하는 방식으로 해결"
   ]
  }
 ],
 "metadata": {
  "kernelspec": {
   "display_name": "Python 3.9.7 ('base')",
   "language": "python",
   "name": "python3"
  },
  "language_info": {
   "codemirror_mode": {
    "name": "ipython",
    "version": 3
   },
   "file_extension": ".py",
   "mimetype": "text/x-python",
   "name": "python",
   "nbconvert_exporter": "python",
   "pygments_lexer": "ipython3",
   "version": "3.9.7"
  },
  "orig_nbformat": 4,
  "vscode": {
   "interpreter": {
    "hash": "023ab38ef701cca529efce9465407c28b5ba779ced3f1a89865b89edb313b240"
   }
  }
 },
 "nbformat": 4,
 "nbformat_minor": 2
}

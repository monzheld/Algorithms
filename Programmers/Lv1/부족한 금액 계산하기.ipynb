{
 "cells": [
  {
   "attachments": {},
   "cell_type": "markdown",
   "metadata": {},
   "source": [
    "[문제](https://school.programmers.co.kr/learn/courses/30/lessons/82612)"
   ]
  },
  {
   "attachments": {},
   "cell_type": "markdown",
   "metadata": {},
   "source": [
    "- 놀이기구의 원래 이용료는 price원 인데, 놀이기구를 **N 번 째 이용한다면 원래 이용료의 N배**를 받음\n",
    "    - 처음 이용료가 100이었다면 2번째에는 200, 3번째에는 300으로 요금이 인상\n",
    "- 놀이기구를 **count번 타게 되면 현재 자신이 가지고 있는 금액에서 얼마가 모자라는지**를 return\n",
    "- 단, **금액이 부족하지 않으면 0**을 return"
   ]
  },
  {
   "attachments": {},
   "cell_type": "markdown",
   "metadata": {},
   "source": [
    "**제한사항**\n",
    "\n",
    "- 놀이기구의 이용료 price : 1 ≤ price ≤ 2,500, price는 자연수\n",
    "- 처음 가지고 있던 금액 money : 1 ≤ money ≤ 1,000,000,000, money는 자연수\n",
    "- 놀이기구의 이용 횟수 count : 1 ≤ count ≤ 2,500, count는 자연수"
   ]
  },
  {
   "cell_type": "code",
   "execution_count": null,
   "metadata": {},
   "outputs": [],
   "source": [
    "\"\"\"\n",
    "입출력 예시)\n",
    "\n",
    "price = 3, money = 20, count = 4 -> 10\n",
    "\"\"\""
   ]
  },
  {
   "cell_type": "code",
   "execution_count": null,
   "metadata": {},
   "outputs": [],
   "source": [
    "# 이용금액이 3인 놀이기구를 4번 타고 싶은 고객이 현재 가진 금액이 20이라면, \n",
    "# 총 필요한 놀이기구의 이용 금액은 30 (= 3+6+9+12)\n",
    "# => 부족한 금액: 10"
   ]
  },
  {
   "cell_type": "code",
   "execution_count": null,
   "metadata": {},
   "outputs": [],
   "source": [
    "# 필요한 총 이용 금액을 구해서 처음 가지고 있던 금액을 빼기\n",
    "\n",
    "# for n in range(1, count+1):\n",
    "#   total += price * n\n",
    "# return total - money "
   ]
  },
  {
   "attachments": {},
   "cell_type": "markdown",
   "metadata": {},
   "source": [
    "### 통과)"
   ]
  },
  {
   "cell_type": "code",
   "execution_count": 14,
   "metadata": {},
   "outputs": [],
   "source": [
    "def solution(price, money, count):\n",
    "    #answer = -1\n",
    "\n",
    "    total = 0\n",
    "    for n in range(1, count+1):\n",
    "        total += price * n\n",
    "\n",
    "    # 금액이 부족하지 않으면 0, 부족하면 부족한 금액을 return \n",
    "    return 0 if money > total else total - money"
   ]
  },
  {
   "cell_type": "code",
   "execution_count": 15,
   "metadata": {},
   "outputs": [
    {
     "data": {
      "text/plain": [
       "10"
      ]
     },
     "execution_count": 15,
     "metadata": {},
     "output_type": "execute_result"
    }
   ],
   "source": [
    "price = 3\n",
    "money = 20\n",
    "count = 4\n",
    "solution(price, money, count)"
   ]
  },
  {
   "cell_type": "code",
   "execution_count": null,
   "metadata": {},
   "outputs": [],
   "source": [
    "# 과정 확인"
   ]
  },
  {
   "cell_type": "code",
   "execution_count": 16,
   "metadata": {},
   "outputs": [],
   "source": [
    "def solution(price, money, count):\n",
    "    total = 0\n",
    "    for n in range(1, count+1):\n",
    "        print('n:', n)\n",
    "        print('n번째 이용료:', price * n)\n",
    "        total += price * n\n",
    "        print('total:', total, '\\n')\n",
    "    return 0 if money > total else total - money"
   ]
  },
  {
   "cell_type": "code",
   "execution_count": 17,
   "metadata": {},
   "outputs": [
    {
     "name": "stdout",
     "output_type": "stream",
     "text": [
      "n: 1\n",
      "n번째 이용료: 3\n",
      "total: 3 \n",
      "\n",
      "n: 2\n",
      "n번째 이용료: 6\n",
      "total: 9 \n",
      "\n",
      "n: 3\n",
      "n번째 이용료: 9\n",
      "total: 18 \n",
      "\n",
      "n: 4\n",
      "n번째 이용료: 12\n",
      "total: 30 \n",
      "\n"
     ]
    },
    {
     "data": {
      "text/plain": [
       "10"
      ]
     },
     "execution_count": 17,
     "metadata": {},
     "output_type": "execute_result"
    }
   ],
   "source": [
    "price = 3\n",
    "money = 20\n",
    "count = 4\n",
    "solution(price, money, count)"
   ]
  }
 ],
 "metadata": {
  "kernelspec": {
   "display_name": "base",
   "language": "python",
   "name": "python3"
  },
  "language_info": {
   "codemirror_mode": {
    "name": "ipython",
    "version": 3
   },
   "file_extension": ".py",
   "mimetype": "text/x-python",
   "name": "python",
   "nbconvert_exporter": "python",
   "pygments_lexer": "ipython3",
   "version": "3.9.7"
  },
  "orig_nbformat": 4,
  "vscode": {
   "interpreter": {
    "hash": "023ab38ef701cca529efce9465407c28b5ba779ced3f1a89865b89edb313b240"
   }
  }
 },
 "nbformat": 4,
 "nbformat_minor": 2
}

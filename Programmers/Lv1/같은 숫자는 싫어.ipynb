{
 "cells": [
  {
   "attachments": {},
   "cell_type": "markdown",
   "metadata": {},
   "source": [
    "[문제](https://school.programmers.co.kr/learn/courses/30/lessons/12906)"
   ]
  },
  {
   "attachments": {},
   "cell_type": "markdown",
   "metadata": {},
   "source": [
    "### 스택/큐"
   ]
  },
  {
   "attachments": {},
   "cell_type": "markdown",
   "metadata": {},
   "source": [
    "- arr의 각 원소는 숫자 0~9\n",
    "- arr에서 **연속적으로 나타나는 숫자는 하나만 남기고 전부 제거**\n",
    "- 제거된 후 남은 수들을 반환할 때는 arr의 원소들의 순서를 유지해야 함"
   ]
  },
  {
   "attachments": {},
   "cell_type": "markdown",
   "metadata": {},
   "source": [
    "**제한사항**\n",
    "\n",
    "- arr의 크기 : 1,000,000 이하의 자연수\n",
    "- arr의 원소의 크기 : 0보다 크거나 같고 9보다 작거나 같은 정수"
   ]
  },
  {
   "cell_type": "code",
   "execution_count": null,
   "metadata": {},
   "outputs": [],
   "source": [
    "\"\"\"\n",
    "입출력 예시)\n",
    "\n",
    "arr =  [1,1,3,3,0,1,1] -> [1,3,0,1]\n",
    "arr =  [4,4,4,3,3] -> [4,3]\n",
    "\"\"\""
   ]
  },
  {
   "cell_type": "code",
   "execution_count": null,
   "metadata": {},
   "outputs": [],
   "source": [
    "# 후입선출 -> 스택\n",
    "\n",
    "# 일단, 빈 스택 생성해서 arr의 원소를 하나씩 넣음\n",
    "# if 현재 스택의 마지막 원소 == 지금 들어갈 arr의 원소:\n",
    "#    통과 \n",
    "# else: \n",
    "#   스택.append()"
   ]
  },
  {
   "attachments": {},
   "cell_type": "markdown",
   "metadata": {},
   "source": [
    "### 1) "
   ]
  },
  {
   "cell_type": "code",
   "execution_count": 1,
   "metadata": {},
   "outputs": [],
   "source": [
    "def solution(arr):\n",
    "    answer = [] \n",
    "\n",
    "    for i in arr:\n",
    "        if len(answer) == 0:\n",
    "            answer.append(i)\n",
    "        else: \n",
    "            if answer[-1] == i:\n",
    "                break\n",
    "            else:\n",
    "                answer.append(i)\n",
    "\n",
    "    return answer"
   ]
  },
  {
   "cell_type": "code",
   "execution_count": 2,
   "metadata": {},
   "outputs": [
    {
     "data": {
      "text/plain": [
       "[1]"
      ]
     },
     "execution_count": 2,
     "metadata": {},
     "output_type": "execute_result"
    }
   ],
   "source": [
    "arr =  [1,1,3,3,0,1,1]\n",
    "solution(arr)"
   ]
  },
  {
   "attachments": {},
   "cell_type": "markdown",
   "metadata": {},
   "source": [
    "-> break 때문에 반복문 전체를 빠져나와서 실패\n",
    "\n",
    "=> break가 아니라 continue를 사용해야 함 "
   ]
  },
  {
   "attachments": {},
   "cell_type": "markdown",
   "metadata": {},
   "source": [
    "- `break` \n",
    "    - 반복문 전체 빠져나오기\n",
    "\n",
    "<br>\n",
    "\n",
    "- `continue` \n",
    "    - 해당 조건만 건너뛰기"
   ]
  },
  {
   "attachments": {},
   "cell_type": "markdown",
   "metadata": {},
   "source": [
    "### 통과)"
   ]
  },
  {
   "cell_type": "code",
   "execution_count": null,
   "metadata": {},
   "outputs": [],
   "source": [
    "def solution(arr):\n",
    "    answer = [] \n",
    "\n",
    "    for i in arr:\n",
    "        if len(answer) == 0:\n",
    "            answer.append(i)\n",
    "        else: \n",
    "            if answer[-1] == i:\n",
    "                continue\n",
    "            else:\n",
    "                answer.append(i)\n",
    "\n",
    "    return answer"
   ]
  },
  {
   "attachments": {},
   "cell_type": "markdown",
   "metadata": {},
   "source": [
    "-> answer의 맨 마지막 원소가 i(지금 들어갈 arr의 원소)와 같으면 건너뛰고, 다르면 answer에 추가"
   ]
  },
  {
   "attachments": {},
   "cell_type": "markdown",
   "metadata": {},
   "source": [
    "### cf) 이전에 작성했던 코드"
   ]
  },
  {
   "cell_type": "code",
   "execution_count": null,
   "metadata": {},
   "outputs": [],
   "source": [
    "def solution(arr):\n",
    "    answer = []\n",
    "    \n",
    "    for i in range(len(arr)):\n",
    "        if i == 0:\n",
    "            answer.append(arr[i])\n",
    "        elif arr[i-1] != arr[i]:\n",
    "            answer.append(arr[i])\n",
    "\n",
    "    return answer"
   ]
  },
  {
   "attachments": {},
   "cell_type": "markdown",
   "metadata": {},
   "source": [
    "-> arr에서 자신 바로 이전의 원소가 자신과 같지 않으면 answer에 추가"
   ]
  }
 ],
 "metadata": {
  "kernelspec": {
   "display_name": "Python 3.9.7 ('base')",
   "language": "python",
   "name": "python3"
  },
  "language_info": {
   "codemirror_mode": {
    "name": "ipython",
    "version": 3
   },
   "file_extension": ".py",
   "mimetype": "text/x-python",
   "name": "python",
   "nbconvert_exporter": "python",
   "pygments_lexer": "ipython3",
   "version": "3.9.7"
  },
  "orig_nbformat": 4,
  "vscode": {
   "interpreter": {
    "hash": "023ab38ef701cca529efce9465407c28b5ba779ced3f1a89865b89edb313b240"
   }
  }
 },
 "nbformat": 4,
 "nbformat_minor": 2
}

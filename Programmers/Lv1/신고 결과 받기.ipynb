{
 "cells": [
  {
   "attachments": {},
   "cell_type": "markdown",
   "metadata": {},
   "source": [
    "[문제](https://school.programmers.co.kr/learn/courses/30/lessons/92334)"
   ]
  },
  {
   "attachments": {},
   "cell_type": "markdown",
   "metadata": {},
   "source": [
    "- 게시판 불량 이용자를 신고하고 처리 결과를 메일로 발송하는 시스템을 개발\n",
    "    - 각 유저는 한 번에 한 명의 유저를 신고할 수 있음\n",
    "        - 신고 횟수에 제한 없음. 서로 다른 유저를 계속해서 신고할 수 있음\n",
    "        - **한 유저를 여러 번 신고할 수도 있지만, 동일한 유저에 대한 신고 횟수는 1회로 처리**\n",
    "    - **k번 이상 신고된 유저는 게시판 이용이 정지**되며, **해당 유저를 신고한 모든 유저에게 정지 사실을 메일로 발송**\n",
    "        - 유저가 신고한 모든 내용을 취합하여 마지막에 한꺼번에 게시판 이용 정지를 시키면서 정지 메일을 발송\n",
    "\n",
    "- id_list: 이용자의 ID가 담긴 문자열 배열\n",
    "- report: 각 이용자가 신고한 이용자의 ID 정보가 담긴 문자열 배열\n",
    "- k: 정지 기준이 되는 신고 횟수\n",
    "\n",
    "- **각 유저별로 처리 결과 메일을 받은 횟수**를 배열에 담아 return"
   ]
  },
  {
   "attachments": {},
   "cell_type": "markdown",
   "metadata": {},
   "source": [
    "**제한사항**\n",
    "\n",
    "- 2 ≤ id_list의 길이 ≤ 1,000\n",
    "    - 1 ≤ id_list의 원소 길이 ≤ 10\n",
    "    - id_list의 원소는 이용자의 id를 나타내는 문자열이며 알파벳 소문자로만 이루어져 있음\n",
    "    - id_list에는 같은 아이디가 중복해서 들어있지 않음\n",
    "- 1 ≤ report의 길이 ≤ 200,000\n",
    "    - 3 ≤ report의 원소 길이 ≤ 21\n",
    "    - **report의 원소는 \"이용자id 신고한id\"형태의 문자열**\n",
    "    - 예를 들어 \"muzi frodo\"의 경우 \"muzi\"가 \"frodo\"를 신고했다는 의미\n",
    "    - id는 알파벳 소문자로만 이루어져 있음\n",
    "    - **이용자id와 신고한id는 공백(스페이스)하나로 구분**되어 있음\n",
    "    - 자기 자신을 신고하는 경우는 없음\n",
    "- 1 ≤ k ≤ 200, k는 자연수\n",
    "- return 하는 배열은 **id_list에 담긴 id 순서대로 각 유저가 받은 결과 메일 수**를 담아야 함"
   ]
  },
  {
   "cell_type": "code",
   "execution_count": null,
   "metadata": {},
   "outputs": [],
   "source": [
    "\"\"\"\n",
    "입출력 예시)\n",
    "\n",
    "id_list = [\"muzi\", \"frodo\", \"apeach\", \"neo\"], report = [\"muzi frodo\",\"apeach frodo\",\"frodo neo\",\"muzi neo\",\"apeach muzi\"], k = 2 -> [2,1,1,0]\n",
    "id_list = [\"con\", \"ryan\"], report = [\"ryan con\", \"ryan con\", \"ryan con\", \"ryan con\"], k = 3 -> [0,0]\n",
    "\"\"\""
   ]
  },
  {
   "cell_type": "code",
   "execution_count": null,
   "metadata": {},
   "outputs": [],
   "source": [
    "# report에 대한 정보를 나눠 담을 dict() 생성\n",
    "# report의 원소에서 이용자id를 dict의 key로, 신고한id를 dict의 value로 dict에 추가\n",
    "# -> 이때, dict의 value는 리스트로 추가 => defaultdict(list) 활용\n",
    "# => dict = {유저id: [유저가 신고한 id들], ..., 유저id: [유저가 신고한 id들]}\n",
    "# -> dict의 key인 유저id는 id_list에 나온 순서대로 정렬\n",
    "\n",
    "# 유저id별로 신고당한 횟수 카운트\n",
    "# k번 이상 신고된 유저 -> 이용 정지"
   ]
  },
  {
   "attachments": {},
   "cell_type": "markdown",
   "metadata": {},
   "source": [
    "### 통과)"
   ]
  },
  {
   "cell_type": "code",
   "execution_count": 48,
   "metadata": {},
   "outputs": [],
   "source": [
    "from collections import defaultdict\n",
    "\n",
    "def solution(id_list, report, k):\n",
    "    answer = []\n",
    "    report = list(set(report)) # 한 유저를 여러 번 신고할 수도 있지만, 동일한 유저에 대한 신고 횟수는 1회로 처리 -> 중복 제거\n",
    "    report_dic = defaultdict(list) # 유저 id별로 신고한 id\n",
    "    report_cnt = defaultdict(int) # 유저 id별로 신고당한 횟수\n",
    "\n",
    "    for r in report:\n",
    "        user, reported = r.split() # [\"이용자id\", \"신고한id\"] -> user = r.split()[0], reported = r.split()[1]\n",
    "        report_dic[user].append(reported) # {유저id: [유저가 신고한 id들]}\n",
    "        report_cnt[reported] += 1 # 유저 id별로 신고당한 횟수 저장\n",
    "    \n",
    "    # id_list의 id순으로 \n",
    "    for id in id_list: \n",
    "        result = 0 # 처리 결과 메일을 받은 횟수\n",
    "\n",
    "        # id_list의 id가 report_dic 또는 report_cnt에 없는 경우\n",
    "        if id not in report_dic.keys(): # id_list의 id가 report_dic에 없으면\n",
    "            report_dic[id].append(None) # None 추가 -> {'id': [None]}\n",
    "        if id not in report_cnt.keys(): # id_list의 id가 report_cnt에 없으면\n",
    "            report_cnt[id] = 0 # 0 추가 -> {'id': 0}\n",
    "        \n",
    "        # id_list의 id순으로 신고한 id\n",
    "        for rp in report_dic[id]: \n",
    "            if report_cnt[rp] >= k: # id_list의 id순으로 신고한 id의 신고당한 횟수가 k 이상인 경우 -> 이용 정지\n",
    "                result += 1 # 처리 결과 메일을 받은 횟수 + 1\n",
    "        answer.append(result) # id_list의 id순으로 처리 결과 메일을 받은 횟수 추가\n",
    "\n",
    "    return answer"
   ]
  },
  {
   "cell_type": "code",
   "execution_count": 49,
   "metadata": {},
   "outputs": [
    {
     "data": {
      "text/plain": [
       "[2, 1, 1, 0]"
      ]
     },
     "execution_count": 49,
     "metadata": {},
     "output_type": "execute_result"
    }
   ],
   "source": [
    "id_list = [\"muzi\", \"frodo\", \"apeach\", \"neo\"]\n",
    "report = [\"muzi frodo\",\"apeach frodo\",\"frodo neo\",\"muzi neo\",\"apeach muzi\"]\n",
    "k = 2\n",
    "solution(id_list, report, k)"
   ]
  },
  {
   "cell_type": "code",
   "execution_count": 50,
   "metadata": {},
   "outputs": [
    {
     "data": {
      "text/plain": [
       "[0, 0]"
      ]
     },
     "execution_count": 50,
     "metadata": {},
     "output_type": "execute_result"
    }
   ],
   "source": [
    "id_list = [\"con\", \"ryan\"]\n",
    "report = [\"ryan con\", \"ryan con\", \"ryan con\", \"ryan con\"]\n",
    "k = 3\n",
    "solution(id_list, report, k)"
   ]
  },
  {
   "cell_type": "code",
   "execution_count": null,
   "metadata": {},
   "outputs": [],
   "source": [
    "# 과정 확인"
   ]
  },
  {
   "cell_type": "code",
   "execution_count": 46,
   "metadata": {},
   "outputs": [],
   "source": [
    "from collections import defaultdict\n",
    "\n",
    "def solution(id_list, report, k):\n",
    "    answer = []\n",
    "    report = list(set(report)) # 한 유저를 여러 번 신고할 수도 있지만, 동일한 유저에 대한 신고 횟수는 1회로 처리 -> 중복 제거\n",
    "    report_dic = defaultdict(list) # 유저 id별로 신고한 id\n",
    "    report_cnt = defaultdict(int) # 유저 id별로 신고당한 횟수\n",
    "\n",
    "    for r in report:\n",
    "        user, reported = r.split() # [\"이용자id\", \"신고한id\"] -> user = r.split()[0], reported = r.split()[1]\n",
    "        report_dic[user].append(reported) # {유저id: [유저가 신고한 id들]}\n",
    "        report_cnt[reported] += 1 # 유저 id별로 신고당한 횟수 저장\n",
    "    \n",
    "    # id_list의 id가 report_dic 또는 report_cnt에 없는 경우\n",
    "    for id in id_list:\n",
    "        result = 0\n",
    "        if id not in report_dic.keys(): # id_list의 id가 report_dic에 없으면\n",
    "            report_dic[id].append(None) # None 추가 -> {'id': [None]}\n",
    "        if id not in report_cnt.keys(): # id_list의 id가 report_cnt에 없으면\n",
    "            report_cnt[id] = 0 # 0 추가 -> {'id': 0}\n",
    "        \n",
    "        for rp in report_dic[id]:\n",
    "            print('신고당한 id(rp):', rp)\n",
    "            print('신고당한 횟수:', report_cnt[rp], '\\n')\n",
    "            if report_cnt[rp] >= k:\n",
    "                result += 1\n",
    "        answer.append(result)\n",
    "    \n",
    "    print('유저 id별로 신고한 id:', report_dic)\n",
    "    print('유저 id별로 신고당한 횟수:', report_cnt)   \n",
    "\n",
    "    return answer"
   ]
  },
  {
   "cell_type": "code",
   "execution_count": 47,
   "metadata": {},
   "outputs": [
    {
     "name": "stdout",
     "output_type": "stream",
     "text": [
      "신고당한 id(rp): neo\n",
      "신고당한 횟수: 2 \n",
      "\n",
      "신고당한 id(rp): frodo\n",
      "신고당한 횟수: 2 \n",
      "\n",
      "신고당한 id(rp): neo\n",
      "신고당한 횟수: 2 \n",
      "\n",
      "신고당한 id(rp): muzi\n",
      "신고당한 횟수: 1 \n",
      "\n",
      "신고당한 id(rp): frodo\n",
      "신고당한 횟수: 2 \n",
      "\n",
      "신고당한 id(rp): None\n",
      "신고당한 횟수: 0 \n",
      "\n",
      "유저 id별로 신고한 id: defaultdict(<class 'list'>, {'apeach': ['muzi', 'frodo'], 'frodo': ['neo'], 'muzi': ['neo', 'frodo'], 'neo': [None]})\n",
      "유저 id별로 신고당한 횟수: defaultdict(<class 'int'>, {'muzi': 1, 'neo': 2, 'frodo': 2, 'apeach': 0, None: 0})\n"
     ]
    },
    {
     "data": {
      "text/plain": [
       "[2, 1, 1, 0]"
      ]
     },
     "execution_count": 47,
     "metadata": {},
     "output_type": "execute_result"
    }
   ],
   "source": [
    "id_list = [\"muzi\", \"frodo\", \"apeach\", \"neo\"]\n",
    "report = [\"muzi frodo\",\"apeach frodo\",\"frodo neo\",\"muzi neo\",\"apeach muzi\"]\n",
    "k = 2\n",
    "solution(id_list, report, k)"
   ]
  }
 ],
 "metadata": {
  "kernelspec": {
   "display_name": "base",
   "language": "python",
   "name": "python3"
  },
  "language_info": {
   "codemirror_mode": {
    "name": "ipython",
    "version": 3
   },
   "file_extension": ".py",
   "mimetype": "text/x-python",
   "name": "python",
   "nbconvert_exporter": "python",
   "pygments_lexer": "ipython3",
   "version": "3.9.7"
  },
  "orig_nbformat": 4,
  "vscode": {
   "interpreter": {
    "hash": "023ab38ef701cca529efce9465407c28b5ba779ced3f1a89865b89edb313b240"
   }
  }
 },
 "nbformat": 4,
 "nbformat_minor": 2
}

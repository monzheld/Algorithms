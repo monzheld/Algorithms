{
 "cells": [
  {
   "attachments": {},
   "cell_type": "markdown",
   "metadata": {},
   "source": [
    "[문제](https://school.programmers.co.kr/learn/courses/30/lessons/135808)"
   ]
  },
  {
   "attachments": {},
   "cell_type": "markdown",
   "metadata": {},
   "source": [
    "- 사과는 상태에 따라 1점부터 k점까지의 점수로 분류 (k점이 최상품, 1점이 최하품)\n",
    "- 사과 한 상자의 가격은 다음과 같이 결정\n",
    "    - **한 상자에 사과를 m개씩** 담아 포장\n",
    "    - 상자에 담긴 사과 중 **가장 낮은 점수가 p (1 ≤ p ≤ k)점인 경우, 사과 한 상자의 가격은 p * m**\n",
    "\n",
    "- 과일 장수가 가능한 많은 사과를 팔았을 때, 얻을 수 있는 최대 이익을 계산\n",
    "- 사과는 상자 단위로만 판매하며, 남는 사과는 버림\n",
    "\n",
    "- k: 사과의 최대 점수\n",
    "- m: 한 상자에 들어가는 사과의 수 \n",
    "- score: 사과들의 점수\n",
    "- 과일 장수가 **얻을 수 있는 최대 이익**을 return\n"
   ]
  },
  {
   "attachments": {},
   "cell_type": "markdown",
   "metadata": {},
   "source": [
    "**제한사항**\n",
    "\n",
    "- 3 ≤ k ≤ 9\n",
    "- 3 ≤ m ≤ 10\n",
    "- 7 ≤ score의 길이 ≤ 1,000,000\n",
    "    - 1 ≤ score[i] ≤ k\n",
    "- **이익이 발생하지 않는 경우에는 0**을 return"
   ]
  },
  {
   "cell_type": "code",
   "execution_count": null,
   "metadata": {},
   "outputs": [],
   "source": [
    "\"\"\"\n",
    "입출력 예시)\n",
    "\n",
    "k = 3, m = 4, score = [1, 2, 3, 1, 2, 3, 1] -> 8\n",
    "k = 4, m = 3, score = [4, 1, 2, 2, 4, 4, 4, 4, 1, 2, 4, 2] -> 33\n",
    "\"\"\""
   ]
  },
  {
   "cell_type": "code",
   "execution_count": null,
   "metadata": {},
   "outputs": [],
   "source": [
    "# k = 3, m = 4, score = [1, 2, 3, 1, 2, 3, 1] -> 8\n",
    "\n",
    "# [2, 3, 2, 3]으로 구성된 사과 상자 1개를 만들어 판매하여 최대 이익을 얻을 수 있음\n",
    "# (최저 사과 점수) x (한 상자에 담긴 사과 개수) x (상자의 개수) = 2 x 4 x 1 \n",
    "# => 8"
   ]
  },
  {
   "cell_type": "code",
   "execution_count": null,
   "metadata": {},
   "outputs": [],
   "source": [
    "# k = 4, m = 3, score = [4, 1, 2, 2, 4, 4, 4, 4, 1, 2, 4, 2] -> 33\n",
    "\n",
    "# 상자: [1, 1, 2] -> 가격: 1 x 3 = 3\n",
    "# 상자: [2, 2, 2] -> 가격: 2 x 3 = 6\n",
    "# 상자: [4, 4, 4] -> 가격: 4 x 3 = 12\n",
    "# 상자: [4, 4, 4] -> 가격: 4 x 3 = 12\n",
    "\n",
    "# => (1 x 3 x 1) + (2 x 3 x 1) + (4 x 3 x 2) = 33"
   ]
  },
  {
   "cell_type": "code",
   "execution_count": null,
   "metadata": {},
   "outputs": [],
   "source": [
    "# m개 만큼의 사과를 나눔\n",
    "# 가격은 상자에 담긴 사과 중 가장 낮은 점수 x m\n",
    "\n",
    "# score를 내림차순 정렬해서 점수가 높은 사과들부터 정렬\n",
    "# 정렬된 score 리스트를 m개씩 나눔\n",
    "# 가장 낮은 점수 x m x 상자 개수 -> answer += (가장 낮은 점수 x m) 으로 하면 상자 개수 곱할 필요 없음"
   ]
  },
  {
   "cell_type": "code",
   "execution_count": 1,
   "metadata": {},
   "outputs": [],
   "source": [
    "k = 4\n",
    "m = 3\n",
    "score = [4, 1, 2, 2, 4, 4, 4, 4, 1, 2, 4, 2]"
   ]
  },
  {
   "cell_type": "code",
   "execution_count": 2,
   "metadata": {},
   "outputs": [
    {
     "data": {
      "text/plain": [
       "[4, 4, 4, 4, 4, 4, 2, 2, 2, 2, 1, 1]"
      ]
     },
     "execution_count": 2,
     "metadata": {},
     "output_type": "execute_result"
    }
   ],
   "source": [
    "s = sorted(score, reverse=True)\n",
    "s "
   ]
  },
  {
   "cell_type": "code",
   "execution_count": null,
   "metadata": {},
   "outputs": [],
   "source": [
    "# -> index: 0 1 2/ 3 4 5/ 6 7 8/ 9 10 11"
   ]
  },
  {
   "cell_type": "code",
   "execution_count": 3,
   "metadata": {},
   "outputs": [
    {
     "name": "stdout",
     "output_type": "stream",
     "text": [
      "0\n",
      "3\n",
      "6\n",
      "9\n"
     ]
    }
   ],
   "source": [
    "# 범위 확인\n",
    "for i in range(0, len(s), m):\n",
    "    print(i)"
   ]
  },
  {
   "attachments": {},
   "cell_type": "markdown",
   "metadata": {},
   "source": [
    "### 통과)"
   ]
  },
  {
   "cell_type": "code",
   "execution_count": 12,
   "metadata": {},
   "outputs": [],
   "source": [
    "def solution(k, m, score):\n",
    "    answer = 0\n",
    "    # 점수가 높은 사과부터 내림차순 정렬\n",
    "    s = sorted(score, reverse=True)\n",
    "    for i in range(0, len(s), m): # i => 0부터 len(s)-1 까지 m씩 출력\n",
    "        box = s[i:i+m] # 점수가 높은 사과부터 한 상자에 m개씩 나눠 담음\n",
    "        # 한 상자의 가격 계산\n",
    "        if len(box) == m: # 사과가 m개씩 담긴 상자인 경우만 \n",
    "            answer += min(box) * m # 상자의 사과 중 가장 낮은 점수 x m\n",
    "    return answer"
   ]
  },
  {
   "cell_type": "code",
   "execution_count": 13,
   "metadata": {},
   "outputs": [
    {
     "data": {
      "text/plain": [
       "8"
      ]
     },
     "execution_count": 13,
     "metadata": {},
     "output_type": "execute_result"
    }
   ],
   "source": [
    "k = 3\n",
    "m = 4\n",
    "score = [1, 2, 3, 1, 2, 3, 1]\n",
    "solution(k, m, score)"
   ]
  },
  {
   "cell_type": "code",
   "execution_count": 14,
   "metadata": {},
   "outputs": [
    {
     "data": {
      "text/plain": [
       "33"
      ]
     },
     "execution_count": 14,
     "metadata": {},
     "output_type": "execute_result"
    }
   ],
   "source": [
    "k = 4\n",
    "m = 3\n",
    "score = [4, 1, 2, 2, 4, 4, 4, 4, 1, 2, 4, 2]\n",
    "solution(k, m, score)"
   ]
  },
  {
   "cell_type": "code",
   "execution_count": null,
   "metadata": {},
   "outputs": [],
   "source": [
    "# 과정 확인"
   ]
  },
  {
   "cell_type": "code",
   "execution_count": 15,
   "metadata": {},
   "outputs": [],
   "source": [
    "def solution(k, m, score):\n",
    "    answer = 0\n",
    "    s = sorted(score, reverse=True)\n",
    "    print('sorted score:', s, '\\n')\n",
    "    for i in range(0, len(s), m):\n",
    "        box = s[i:i+m]\n",
    "        print('box:', box)\n",
    "        if len(box) == m:\n",
    "            answer += min(box) * m\n",
    "    return answer"
   ]
  },
  {
   "cell_type": "code",
   "execution_count": 16,
   "metadata": {},
   "outputs": [
    {
     "name": "stdout",
     "output_type": "stream",
     "text": [
      "sorted score: [4, 4, 4, 4, 4, 4, 2, 2, 2, 2, 1, 1] \n",
      "\n",
      "box: [4, 4, 4]\n",
      "box: [4, 4, 4]\n",
      "box: [2, 2, 2]\n",
      "box: [2, 1, 1]\n"
     ]
    },
    {
     "data": {
      "text/plain": [
       "33"
      ]
     },
     "execution_count": 16,
     "metadata": {},
     "output_type": "execute_result"
    }
   ],
   "source": [
    "k = 4\n",
    "m = 3\n",
    "score = [4, 1, 2, 2, 4, 4, 4, 4, 1, 2, 4, 2]\n",
    "solution(k, m, score)"
   ]
  },
  {
   "cell_type": "code",
   "execution_count": 17,
   "metadata": {},
   "outputs": [
    {
     "name": "stdout",
     "output_type": "stream",
     "text": [
      "sorted score: [3, 3, 2, 2, 1, 1, 1] \n",
      "\n",
      "box: [3, 3, 2, 2]\n",
      "box: [1, 1, 1]\n"
     ]
    },
    {
     "data": {
      "text/plain": [
       "8"
      ]
     },
     "execution_count": 17,
     "metadata": {},
     "output_type": "execute_result"
    }
   ],
   "source": [
    "k = 3\n",
    "m = 4\n",
    "score = [1, 2, 3, 1, 2, 3, 1]\n",
    "solution(k, m, score)"
   ]
  }
 ],
 "metadata": {
  "kernelspec": {
   "display_name": "base",
   "language": "python",
   "name": "python3"
  },
  "language_info": {
   "codemirror_mode": {
    "name": "ipython",
    "version": 3
   },
   "file_extension": ".py",
   "mimetype": "text/x-python",
   "name": "python",
   "nbconvert_exporter": "python",
   "pygments_lexer": "ipython3",
   "version": "3.9.7"
  },
  "orig_nbformat": 4,
  "vscode": {
   "interpreter": {
    "hash": "023ab38ef701cca529efce9465407c28b5ba779ced3f1a89865b89edb313b240"
   }
  }
 },
 "nbformat": 4,
 "nbformat_minor": 2
}

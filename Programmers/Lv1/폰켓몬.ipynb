{
 "cells": [
  {
   "attachments": {},
   "cell_type": "markdown",
   "metadata": {},
   "source": [
    "[문제](https://school.programmers.co.kr/learn/courses/30/lessons/1845)"
   ]
  },
  {
   "attachments": {},
   "cell_type": "markdown",
   "metadata": {},
   "source": [
    "### 해시"
   ]
  },
  {
   "attachments": {},
   "cell_type": "markdown",
   "metadata": {},
   "source": [
    "- **총 N 마리의 폰켓몬 중에서 N/2마리**를 가져갈 수 있음\n",
    "- 폰켓몬은 종류에 따라 번호를 붙여 구분\n",
    "- 최대한 많은 종류의 폰켓몬을 포함해서 N/2마리를 선택하려 함\n",
    "- nums: N마리 폰켓몬의 종류 번호가 담긴 배열\n",
    "- N/2마리의 폰켓몬을 선택하는 방법 중, **가장 많은 종류의 폰켓몬을 선택하는 방법**을 찾아, 그때의 **폰켓몬 종류 번호의 개수**를 return"
   ]
  },
  {
   "attachments": {},
   "cell_type": "markdown",
   "metadata": {},
   "source": [
    "**제한사항**\n",
    "\n",
    "- nums는 폰켓몬의 종류 번호가 담긴 1차원 배열\n",
    "- nums의 길이(N)는 1 이상 10,000 이하의 자연수이며, 항상 짝수\n",
    "- 폰켓몬의 종류 번호는 1 이상 200,000 이하의 자연수\n",
    "- 가장 많은 종류의 폰켓몬을 선택하는 방법이 여러 가지인 경우에도, 선택할 수 있는 폰켓몬 종류 개수의 최댓값 하나만 return "
   ]
  },
  {
   "cell_type": "code",
   "execution_count": null,
   "metadata": {},
   "outputs": [],
   "source": [
    "# 총 4마리의 폰켓몬이 있고, 각 폰켓몬의 종류 번호가 [3번, 1번, 2번, 3번]일 때\n",
    "# -> 3번 폰켓몬 두 마리, 1번 폰켓몬 한 마리, 2번 폰켓몬 한 마리\n",
    "\n",
    "# 이때, 4마리의 폰켓몬 중 2마리를 고르는 방법\n",
    "# 1) 첫 번째(3번), 두 번째(1번)\n",
    "# 2) 첫 번째(3번), 세 번째(2번)\n",
    "# 3) 첫 번째(3번), 네 번째(3번)\n",
    "# 4) 두 번째(1번), 세 번째(2번)\n",
    "# 5) 두 번째(1번), 네 번째(3번)\n",
    "# 6) 세 번째(2번), 네 번째(3번)\n",
    "# => 6가지\n",
    "\n",
    "# -> 이때, 첫 번째(3번) 폰켓몬과 네 번째(3번) 폰켓몬을 선택하는 방법은 한 종류(3번 폰켓몬 두 마리)의 폰켓몬만 가질 수 있지만, 다른 방법들은 모두 두 종류의 폰켓몬을 가질 수 있음\n",
    "# => 가질 수 있는 폰켓몬 종류 수의 최댓값 = 2"
   ]
  },
  {
   "cell_type": "code",
   "execution_count": null,
   "metadata": {},
   "outputs": [],
   "source": [
    "\"\"\"\n",
    "입출력 예시)\n",
    "\n",
    "nums = [3,1,2,3] -> 2\n",
    "nums = [3,3,3,2,2,4] -> 3\n",
    "nums = [3,3,3,2,2,2] -> 2\n",
    "\"\"\""
   ]
  },
  {
   "attachments": {},
   "cell_type": "markdown",
   "metadata": {},
   "source": [
    "### 1)"
   ]
  },
  {
   "cell_type": "code",
   "execution_count": null,
   "metadata": {},
   "outputs": [],
   "source": [
    "# N 마리의 폰켓몬 중 N/2 마리를 가져오는 방법의 수 -> combinations(list, N/2)\n",
    "# (순서 상관 x, 중복 x로 뽑기 때문에 combinations)"
   ]
  },
  {
   "cell_type": "code",
   "execution_count": 2,
   "metadata": {},
   "outputs": [],
   "source": [
    "nums = [3,1,2,3]"
   ]
  },
  {
   "cell_type": "code",
   "execution_count": 7,
   "metadata": {},
   "outputs": [
    {
     "name": "stdout",
     "output_type": "stream",
     "text": [
      "[(3, 1), (3, 2), (3, 3), (1, 2), (1, 3), (2, 3)]\n"
     ]
    }
   ],
   "source": [
    "from itertools import combinations \n",
    "N_2 = len(nums) // 2\n",
    "method = list(combinations(nums, N_2))\n",
    "print(method)"
   ]
  },
  {
   "cell_type": "code",
   "execution_count": 8,
   "metadata": {},
   "outputs": [
    {
     "name": "stdout",
     "output_type": "stream",
     "text": [
      "3 1\n",
      "3 2\n",
      "3 3\n",
      "1 2\n",
      "1 3\n",
      "2 3\n"
     ]
    }
   ],
   "source": [
    "for i in range(len(method)):\n",
    "    print(method[i][0], method[i][1])"
   ]
  },
  {
   "cell_type": "code",
   "execution_count": 9,
   "metadata": {},
   "outputs": [],
   "source": [
    "from itertools import combinations \n",
    "def solution(nums):\n",
    "    answer = 0\n",
    "    N_2 = len(nums) // 2\n",
    "    method = list(combinations(nums, N_2))\n",
    "    for i in range(len(method)):\n",
    "        if method[i][0] != method[i][1]:\n",
    "            answer += 1\n",
    "        else:\n",
    "            continue\n",
    "        \n",
    "    return answer"
   ]
  },
  {
   "cell_type": "code",
   "execution_count": 10,
   "metadata": {},
   "outputs": [],
   "source": [
    "nums = [3,1,2,3]"
   ]
  },
  {
   "cell_type": "code",
   "execution_count": 11,
   "metadata": {},
   "outputs": [
    {
     "data": {
      "text/plain": [
       "5"
      ]
     },
     "execution_count": 11,
     "metadata": {},
     "output_type": "execute_result"
    }
   ],
   "source": [
    "solution(nums)"
   ]
  },
  {
   "attachments": {},
   "cell_type": "markdown",
   "metadata": {},
   "source": [
    "-> 이건 그냥 다른 종류의 폰켓몬을 고르는 방법의 수를 구한 것이 됨"
   ]
  },
  {
   "attachments": {},
   "cell_type": "markdown",
   "metadata": {},
   "source": [
    "### 통과)"
   ]
  },
  {
   "cell_type": "code",
   "execution_count": null,
   "metadata": {},
   "outputs": [],
   "source": [
    "# 일단 폰켓몬의 종류의 개수를 구함 -> set()\n",
    "# 가져올 수 있는 개수인 N/2를 구함\n",
    "# if N/2 <= 폰켓몬의 종류의 개수: (가져올 수 있는 개수(N/2)가 폰켓몬의 종류의 개수보다 작거나 같은 경우)\n",
    "#    answer = N/2 (가장 많은 종류의 폰켓몬을 선택했을 때의 폰켓몬 종류의 개수는 가져올 수 있는 개수(N/2))\n",
    "# else: (가져올 수 있는 개수(N/2)가 폰켓몬의 종류의 개수보다 큰 경우)\n",
    "#   answer = 폰켓몬의 종류의 개수 (가장 많은 종류의 폰켓몬을 선택했을 때의 폰켓몬 종류의 개수는 폰켓몬의 종류의 개수)"
   ]
  },
  {
   "cell_type": "code",
   "execution_count": 14,
   "metadata": {},
   "outputs": [
    {
     "name": "stdout",
     "output_type": "stream",
     "text": [
      "{1, 2, 3}\n",
      "3\n"
     ]
    }
   ],
   "source": [
    "nums = [3,1,2,3]\n",
    "print(set(nums))\n",
    "print(len(set(nums)))"
   ]
  },
  {
   "cell_type": "code",
   "execution_count": 15,
   "metadata": {},
   "outputs": [],
   "source": [
    "def solution(nums):\n",
    "    type_n = len(set(nums)) # 폰켓몬의 종류의 개수\n",
    "    N_2 = len(nums) // 2 # 가져올 수 있는 개수(N/2)\n",
    "    if N_2 <= type_n: # 가져올 수 있는 개수(N/2)가 폰켓몬의 종류의 개수보다 작거나 같은 경우\n",
    "        answer = N_2 # 가장 많은 종류의 폰켓몬을 선택했을 때의 폰켓몬 종류의 개수는 가져올 수 있는 개수(N/2)\n",
    "    else: # 가져올 수 있는 개수(N/2)가 폰켓몬의 종류의 개수보다 큰 경우\n",
    "        answer = type_n # 가장 많은 종류의 폰켓몬을 선택했을 때의 폰켓몬 종류의 개수는 폰켓몬의 종류의 개수\n",
    "    return answer"
   ]
  },
  {
   "cell_type": "code",
   "execution_count": 16,
   "metadata": {},
   "outputs": [
    {
     "data": {
      "text/plain": [
       "2"
      ]
     },
     "execution_count": 16,
     "metadata": {},
     "output_type": "execute_result"
    }
   ],
   "source": [
    "nums = [3,1,2,3]\n",
    "solution(nums)"
   ]
  },
  {
   "cell_type": "code",
   "execution_count": 17,
   "metadata": {},
   "outputs": [
    {
     "data": {
      "text/plain": [
       "3"
      ]
     },
     "execution_count": 17,
     "metadata": {},
     "output_type": "execute_result"
    }
   ],
   "source": [
    "nums = [3,3,3,2,2,4]\n",
    "solution(nums)"
   ]
  },
  {
   "cell_type": "code",
   "execution_count": 18,
   "metadata": {},
   "outputs": [
    {
     "data": {
      "text/plain": [
       "2"
      ]
     },
     "execution_count": 18,
     "metadata": {},
     "output_type": "execute_result"
    }
   ],
   "source": [
    "nums = [3,3,3,2,2,2]\n",
    "solution(nums)"
   ]
  },
  {
   "attachments": {},
   "cell_type": "markdown",
   "metadata": {},
   "source": [
    "### 다른 풀이"
   ]
  },
  {
   "cell_type": "code",
   "execution_count": null,
   "metadata": {},
   "outputs": [],
   "source": [
    "def solution(nums):\n",
    "    return min(len(nums)/2, len(set(nums)))"
   ]
  },
  {
   "attachments": {},
   "cell_type": "markdown",
   "metadata": {},
   "source": [
    "-> len(nums)/2 = N/2, len(set(nums) = 폰켓몬의 종류의 개수\n",
    "\n",
    "=> N/2와 폰켓몬의 종류의 개수 중 min 값을 출력"
   ]
  },
  {
   "attachments": {},
   "cell_type": "markdown",
   "metadata": {},
   "source": [
    "### cf) 이전에 작성했던 코드"
   ]
  },
  {
   "cell_type": "code",
   "execution_count": null,
   "metadata": {},
   "outputs": [],
   "source": [
    "def solution(nums):\n",
    "    N_2 = len(nums) // 2 # N/2 마리 \n",
    "    ponketmon = list(set(nums)) # 중복 제거(폰켓몬 종류별로 하나씩만 남긴 리스트)\n",
    "    \n",
    "    if len(ponketmon) > N_2: # 폰켓몬 종류의 개수가 N/2 보다 큰 경우\n",
    "        answer = N_2 # N/2 (N/2마리까지만 가져갈 수 있음)\n",
    "    else: # 폰켓몬 종류의 개수가 N/2와 같거나 작은 경우\n",
    "        answer = len(ponketmon) # 폰켓몬 종류의 개수\n",
    "        \n",
    "    return answer"
   ]
  }
 ],
 "metadata": {
  "kernelspec": {
   "display_name": "base",
   "language": "python",
   "name": "python3"
  },
  "language_info": {
   "codemirror_mode": {
    "name": "ipython",
    "version": 3
   },
   "file_extension": ".py",
   "mimetype": "text/x-python",
   "name": "python",
   "nbconvert_exporter": "python",
   "pygments_lexer": "ipython3",
   "version": "3.9.7"
  },
  "orig_nbformat": 4,
  "vscode": {
   "interpreter": {
    "hash": "023ab38ef701cca529efce9465407c28b5ba779ced3f1a89865b89edb313b240"
   }
  }
 },
 "nbformat": 4,
 "nbformat_minor": 2
}

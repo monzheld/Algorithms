{
 "cells": [
  {
   "attachments": {},
   "cell_type": "markdown",
   "metadata": {},
   "source": [
    "[문제](https://school.programmers.co.kr/learn/courses/30/lessons/42587)"
   ]
  },
  {
   "attachments": {},
   "cell_type": "markdown",
   "metadata": {},
   "source": [
    "### 스택/큐"
   ]
  },
  {
   "attachments": {},
   "cell_type": "markdown",
   "metadata": {},
   "source": [
    "- **중요도가 높은 문서를 먼저 인쇄**\n",
    "- 인쇄 작업 수행 절차\n",
    "    - 1) 인쇄 **대기목록의 가장 앞에 있는 문서(J)를 대기목록에서 꺼냄**\n",
    "    - 2) 나머지 인쇄 대기목록에서 **J보다 중요도가 높은 문서가 한 개라도 존재하면 J를 대기목록의 가장 마지막에** 넣음\n",
    "    - 3) 그렇지 않으면 J를 인쇄\n",
    "- priorities: 현재 대기목록에 있는 문서의 중요도가 순서대로 담긴 배열\n",
    "- location: 내가 인쇄를 요청한 문서가 현재 대기목록의 어떤 위치에 있는지\n",
    "- 내가 **인쇄를 요청한 문서가 몇 번째로 인쇄**되는지 return"
   ]
  },
  {
   "attachments": {},
   "cell_type": "markdown",
   "metadata": {},
   "source": [
    "**제한사항**\n",
    "\n",
    "- 현재 대기목록에는 1개 이상 100개 이하의 문서가 존재\n",
    "- 인쇄 작업의 중요도는 1~9로 표현하며 **숫자가 클수록 중요**\n",
    "- **location은 0 이상 (현재 대기목록에 있는 작업 수 - 1) 이하의 값**을 가지며 대기목록의 가장 앞에 있으면 0, 두 번째에 있으면 1로 표현"
   ]
  },
  {
   "cell_type": "code",
   "execution_count": null,
   "metadata": {},
   "outputs": [],
   "source": [
    "\"\"\"\n",
    "입출력 예시)\n",
    "\n",
    "priorities = [2, 1, 3, 2], location = 2 -> 1\n",
    "priorities = [1, 1, 9, 1, 1, 1], location = 0 -> 5\n",
    "\"\"\""
   ]
  },
  {
   "cell_type": "code",
   "execution_count": null,
   "metadata": {},
   "outputs": [],
   "source": [
    "# priorities = [2, 1, 3, 2], location = 2 -> 1\n",
    "\n",
    "# 4개의 문서(A, B, C, D)가 순서대로 인쇄 대기목록에 있고 중요도가 2 1 3 2일 때\n",
    "# 인쇄되는 순서: C D A B\n",
    "# -> 나머지 대기목록에서 중요도가 같은 문서가 있을 때도 J를 가장 마지막으로 보냄"
   ]
  },
  {
   "attachments": {},
   "cell_type": "markdown",
   "metadata": {},
   "source": [
    "## 2022/12/17"
   ]
  },
  {
   "cell_type": "code",
   "execution_count": null,
   "metadata": {},
   "outputs": [],
   "source": [
    "## 의사코드 ##\n",
    "\n",
    "# 인쇄 대기목록의 가장 앞에 있는 문서(J)를 대기목록에서 꺼냄 -> 선입선출 (큐)\n",
    "\n",
    "# 나머지 인쇄 대기목록에서 J보다 중요도가 높은 문서가 한 개라도 존재하면 J를 대기목록의 가장 마지막에, 그렇지 않으면 J를 인쇄\n",
    "# => deque(양방향 큐)\n",
    "\n",
    "# deque 생성\n",
    "# 1) 맨 첫 번째 원소(j)를 꺼냄\n",
    "# 2) if 나머지 원소들 중에 중요도가 더 높은 문서가 있으면 -> max() >= j \n",
    "#   꺼냈던 원소를 deque의 가장 마지막에 추가\n",
    "# else: 인쇄\n",
    "# 위의 과정 계속 반복"
   ]
  },
  {
   "attachments": {},
   "cell_type": "markdown",
   "metadata": {},
   "source": [
    "### 1) "
   ]
  },
  {
   "cell_type": "code",
   "execution_count": 5,
   "metadata": {},
   "outputs": [],
   "source": [
    "from collections import deque \n",
    "\n",
    "def solution(priorities, location):\n",
    "    answer = 0\n",
    "    deq = deque([(i, v) for i, v in enumerate(priorities)]) # (대기목록 순서, 중요도)\n",
    "\n",
    "    while len(deq):\n",
    "        j = deq.popleft() # 대기목록의 가장 앞에 있는 문서(J)를 대기목록에서 꺼냄\n",
    "        if max(deq)[1] >= j[1]: # 나머지 대기목록에서 J보다 중요도가 높은 문서가 한 개라도 존재하면\n",
    "            deq.append(j) # J를 대기목록의 가장 마지막에 삽입\n",
    "        else: # J보다 중요도가 높은 문서가 존재하지 않으면\n",
    "            answer += 1\n",
    "            if j[0] == location: # j의 원래 대기목록 순서가 location이면\n",
    "                break \n",
    "\n",
    "    return answer"
   ]
  },
  {
   "cell_type": "code",
   "execution_count": 8,
   "metadata": {},
   "outputs": [
    {
     "data": {
      "text/plain": [
       "1"
      ]
     },
     "execution_count": 8,
     "metadata": {},
     "output_type": "execute_result"
    }
   ],
   "source": [
    "priorities = [2, 1, 3, 2]\n",
    "location = 2\n",
    "solution(priorities, location)"
   ]
  },
  {
   "cell_type": "code",
   "execution_count": null,
   "metadata": {},
   "outputs": [],
   "source": [
    "priorities = [1, 1, 9, 1, 1, 1]\n",
    "location = 0\n",
    "solution(priorities, location)"
   ]
  },
  {
   "attachments": {},
   "cell_type": "markdown",
   "metadata": {},
   "source": [
    "-> 실행 시간 초과로 실패\n",
    "\n",
    "`if max(deq)[1] >= j[1]` 부분 때문에 실행 시간 초과됨"
   ]
  },
  {
   "attachments": {},
   "cell_type": "markdown",
   "metadata": {},
   "source": [
    "### 통과)"
   ]
  },
  {
   "cell_type": "code",
   "execution_count": null,
   "metadata": {},
   "outputs": [],
   "source": [
    "from collections import deque\n",
    "\n",
    "def solution(priorities, location):\n",
    "    answer = 0\n",
    "    deq = deque([(i, v) for i, v in enumerate(priorities)]) # (대기목록 순서, 중요도)\n",
    "    \n",
    "    while len(deq):\n",
    "        j = deq.popleft() # 대기목록의 가장 앞에 있는 문서(J)를 대기목록에서 꺼냄\n",
    "        if any(j[1] < d[1] for d in deq): # 나머지 대기목록에서 J보다 중요도가 높은 문서가 한 개라도 존재하면\n",
    "            deq.append(j) # J를 대기목록의 가장 마지막에 삽입\n",
    "        else: # J보다 중요도가 높은 문서가 존재하지 않으면\n",
    "            answer += 1\n",
    "            if j[0] == location: # j의 원래 대기목록 순서가 location이면\n",
    "                break\n",
    "\n",
    "    return answer"
   ]
  },
  {
   "attachments": {},
   "cell_type": "markdown",
   "metadata": {},
   "source": [
    "-> any()로 해결"
   ]
  },
  {
   "cell_type": "code",
   "execution_count": 42,
   "metadata": {},
   "outputs": [
    {
     "data": {
      "text/plain": [
       "1"
      ]
     },
     "execution_count": 42,
     "metadata": {},
     "output_type": "execute_result"
    }
   ],
   "source": [
    "priorities = [2, 1, 3, 2]\n",
    "location = 2\n",
    "solution(priorities, location)"
   ]
  },
  {
   "cell_type": "code",
   "execution_count": 43,
   "metadata": {},
   "outputs": [
    {
     "data": {
      "text/plain": [
       "5"
      ]
     },
     "execution_count": 43,
     "metadata": {},
     "output_type": "execute_result"
    }
   ],
   "source": [
    "priorities = [1, 1, 9, 1, 1, 1]\n",
    "location = 0\n",
    "solution(priorities, location)"
   ]
  },
  {
   "attachments": {},
   "cell_type": "markdown",
   "metadata": {},
   "source": [
    "### cf) 이전에 작성했던 코드"
   ]
  },
  {
   "cell_type": "code",
   "execution_count": null,
   "metadata": {},
   "outputs": [],
   "source": [
    "from collections import deque\n",
    "\n",
    "def solution(priorities, location):\n",
    "    answer = 0\n",
    "    d = deque([(v,i) for i,v in enumerate(priorities)]) # v: value, i: index\n",
    "\n",
    "    while len(d):\n",
    "        item = d.popleft() # popleft(): 맨 첫 번째 요소 제거 후 반환\n",
    "        if d and max(d)[0] > item[0]:\n",
    "            d.append(item)\n",
    "        else:\n",
    "            answer += 1\n",
    "            if item[1] == location:\n",
    "                break\n",
    "\n",
    "    return answer"
   ]
  }
 ],
 "metadata": {
  "kernelspec": {
   "display_name": "base",
   "language": "python",
   "name": "python3"
  },
  "language_info": {
   "codemirror_mode": {
    "name": "ipython",
    "version": 3
   },
   "file_extension": ".py",
   "mimetype": "text/x-python",
   "name": "python",
   "nbconvert_exporter": "python",
   "pygments_lexer": "ipython3",
   "version": "3.9.7"
  },
  "orig_nbformat": 4,
  "vscode": {
   "interpreter": {
    "hash": "023ab38ef701cca529efce9465407c28b5ba779ced3f1a89865b89edb313b240"
   }
  }
 },
 "nbformat": 4,
 "nbformat_minor": 2
}

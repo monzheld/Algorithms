{
 "cells": [
  {
   "attachments": {},
   "cell_type": "markdown",
   "metadata": {},
   "source": [
    "[문제](https://school.programmers.co.kr/learn/courses/30/lessons/42626)"
   ]
  },
  {
   "attachments": {},
   "cell_type": "markdown",
   "metadata": {},
   "source": [
    "### 힙(Heap)"
   ]
  },
  {
   "attachments": {},
   "cell_type": "markdown",
   "metadata": {},
   "source": [
    "- 모든 음식의 스코빌 지수를 K 이상으로 만들기 위해 \n",
    "- 스코빌 지수가 **가장 낮은 두 개의 음식을 아래와 같이 특별한 방법으로 섞어** 새로운 음식을 만듦\n",
    "    - 섞은 음식의 스코빌 지수 = **가장 맵지 않은 음식의 스코빌 지수 + (두 번째로 맵지 않은 음식의 스코빌 지수 * 2)**\n",
    "- **모든 음식의 스코빌 지수가 K 이상이 될 때까지 반복**해서 섞음\n",
    "- scoville: Leo가 가진 음식의 스코빌 지수를 담은 배열\n",
    "- K: 원하는 스코빌 지수\n",
    "- **모든 음식의 스코빌 지수를 K 이상으로 만들기 위해 섞어야 하는 최소 횟수**를 return \n"
   ]
  },
  {
   "attachments": {},
   "cell_type": "markdown",
   "metadata": {},
   "source": [
    "**제한 사항**\n",
    "\n",
    "- scoville의 길이는 2 이상 1,000,000 이하\n",
    "- K는 0 이상 1,000,000,000 이하\n",
    "- scoville의 원소는 각각 0 이상 1,000,000 이하\n",
    "- 모든 음식의 스코빌 지수를 **K 이상으로 만들 수 없는 경우에는 -1**을 return"
   ]
  },
  {
   "cell_type": "code",
   "execution_count": null,
   "metadata": {},
   "outputs": [],
   "source": [
    "\"\"\"\n",
    "입출력 예시)\n",
    "\n",
    "scoville = [1, 2, 3, 9, 10, 12], K = 7 -> 2\n",
    "\"\"\""
   ]
  },
  {
   "cell_type": "code",
   "execution_count": null,
   "metadata": {},
   "outputs": [],
   "source": [
    "# scoville = [1, 2, 3, 9, 10, 12], K = 7 -> 2\n",
    "\n",
    "# 스코빌 지수가 1인 음식과 2인 음식을 섞었을 때  되는 음식의 스코빌 지수\n",
    "#   -> 새로운 음식의 스코빌 지수 = 1 + (2 * 2) = 5\n",
    "#   -> 가진 음식의 스코빌 지수 = [5, 3, 9, 10, 12]\n",
    "\n",
    "# 스코빌 지수가 3인 음식과 5인 음식을 섞었을 때  되는 음식의 스코빌 지수\n",
    "#   -> 새로운 음식의 스코빌 지수 = 3 + (5 * 2) = 13\n",
    "#   -> 가진 음식의 스코빌 지수 = [13, 9, 10, 12]\n",
    "\n",
    "# -> 모든 음식의 스코빌 지수가 7 이상으로 됨\n",
    "# => 섞은 횟수: 2회"
   ]
  },
  {
   "attachments": {},
   "cell_type": "markdown",
   "metadata": {},
   "source": [
    "## 2023/01/02"
   ]
  },
  {
   "cell_type": "code",
   "execution_count": null,
   "metadata": {},
   "outputs": [],
   "source": [
    "## 의사코드 ##\n",
    "\n",
    "# import heapq\n",
    "# -> 주어진 scoville을 최소 힙 형태로 정렬한 다음 사용\n",
    "\n",
    "# 가장 맵지 않은 음식의 스코빌 지수 = heapq.heappop(scoville) \n",
    "#   -> scoville의 최솟값인 scoville[0]을 반환해서 first에 저장하고, scoville에서 삭제 후 다시 scoville[0]에 scoville의 최솟값을 정렬\n",
    "\n",
    "# 두 번째로 맵지 않은 음식의 스코빌 지수 = heapq.heappop(scoville) \n",
    "#   -> scoville의 최솟값인 scoville[0]을 반환해서 second에 저장하고, scoville에서 삭제 후 다시 scoville[0]에 scoville의 최솟값을 정렬\n",
    "\n",
    "# 섞은 음식의 스코빌 지수 = 가장 맵지 않은 음식의 스코빌 지수 + (두 번째로 맵지 않은 음식의 스코빌 지수 * 2)\n",
    "# heapq.heappush(scoville, new)\n",
    "#   -> scoville에 섞은 음식의 스코빌 지수를 추가하고, 다시 scoville[0]에 scoville의 최솟값을 정렬\n",
    "\n",
    "# 섞은 횟수 -> 반복문 돌리면서 cnt += 1\n",
    "\n",
    "# 모든 음식의 스코빌 지수가 K 이상이면 break -> 스코빌 지수가 K보다 작은 경우 반복문 실행"
   ]
  },
  {
   "cell_type": "code",
   "execution_count": null,
   "metadata": {},
   "outputs": [],
   "source": [
    "# + \n",
    "# 새로운 스코빌 지수가 추가된 후의 가진 음식의 스코빌 지수 배열이 입출력 예시 설명에 나온 순서 그대로 진행되어야 될 필요 없음\n",
    "# -> heapq는 최소 힙 형태로 정렬하는 거라서 index:0인 값에 최솟값을 정렬해 주고 그 뒤에 나오는 값들은 정렬 x\n",
    "# (최소 힙은 최솟값을 빠르게 찾기 위한 알고리즘이지, 작은 순서대로 정렬하는 알고리즘 X!)\n",
    "# 어차피 우리는 스코빌 지수 배열에서 최솟값만 계속 꺼내면 됨 "
   ]
  },
  {
   "cell_type": "code",
   "execution_count": 1,
   "metadata": {},
   "outputs": [
    {
     "name": "stdout",
     "output_type": "stream",
     "text": [
      "None\n"
     ]
    }
   ],
   "source": [
    "scoville = [1, 2, 3, 9, 10, 12]\n",
    "import heapq\n",
    "heap = heapq.heapify(scoville)\n",
    "print(heap)"
   ]
  },
  {
   "attachments": {},
   "cell_type": "markdown",
   "metadata": {},
   "source": [
    "-> heapify는 sort()처럼 원본 리스트 자체를 정렬하는 거라 반환 값이 None\n",
    "\n",
    "=> 따로 변수로 선언하지 않고 heapq.heapify()한 다음 원본 리스트를 출력하면 정렬된 리스트 반환"
   ]
  },
  {
   "cell_type": "code",
   "execution_count": 4,
   "metadata": {},
   "outputs": [
    {
     "name": "stdout",
     "output_type": "stream",
     "text": [
      "원본: [13, 2, 1, 5, 10]\n",
      "heapify: [1, 2, 13, 5, 10]\n"
     ]
    }
   ],
   "source": [
    "# cf) heapify\n",
    "ex = [13, 2, 1, 5, 10]\n",
    "print('원본:', ex)\n",
    "\n",
    "import heapq\n",
    "heapq.heapify(ex)\n",
    "print('heapify:', ex)"
   ]
  },
  {
   "attachments": {},
   "cell_type": "markdown",
   "metadata": {},
   "source": [
    "### 1)"
   ]
  },
  {
   "cell_type": "code",
   "execution_count": 32,
   "metadata": {},
   "outputs": [],
   "source": [
    "import heapq\n",
    "\n",
    "def solution(scoville, K):\n",
    "    answer = 0\n",
    "    heapq.heapify(scoville) # scoville을 최소 힙 형태로 정렬\n",
    "\n",
    "    for s in scoville:\n",
    "        # 스코빌 지수가 K보다 작은 경우\n",
    "        if s < K:\n",
    "            first = heapq.heappop(scoville) # 가장 맵지 않은 음식의 스코빌 지수\n",
    "            second = heapq.heappop(scoville) # 두 번째로 맵지 않은 음식의 스코빌 지수\n",
    "            new = first + (second * 2) # 섞어 만든 새로운 음식의 스코빌 지수\n",
    "            heapq.heappush(scoville, new) # 새로운 스코빌 지수를 scoville에 삽입\n",
    "            answer += 1 # 섞은 횟수 + 1\n",
    "    \n",
    "    return answer"
   ]
  },
  {
   "cell_type": "code",
   "execution_count": 33,
   "metadata": {},
   "outputs": [
    {
     "data": {
      "text/plain": [
       "2"
      ]
     },
     "execution_count": 33,
     "metadata": {},
     "output_type": "execute_result"
    }
   ],
   "source": [
    "scoville = [1, 2, 3, 9, 10, 12]\n",
    "K = 7 \n",
    "solution(scoville, K)"
   ]
  },
  {
   "attachments": {},
   "cell_type": "markdown",
   "metadata": {},
   "source": [
    "-> 추가 테스트 케이스 & 효율성 테스트 실패"
   ]
  },
  {
   "attachments": {},
   "cell_type": "markdown",
   "metadata": {},
   "source": [
    "('모든 음식의 스코빌 지수를 K 이상으로 만들 수 없는 경우에는 -1을 return' 부분을 까먹음..!)"
   ]
  },
  {
   "cell_type": "code",
   "execution_count": null,
   "metadata": {},
   "outputs": [],
   "source": [
    "# 과정 확인"
   ]
  },
  {
   "cell_type": "code",
   "execution_count": 34,
   "metadata": {},
   "outputs": [],
   "source": [
    "import heapq\n",
    "\n",
    "def solution(scoville, K):\n",
    "    answer = 0\n",
    "    heapq.heapify(scoville) # scoville을 최소 힙 형태로 정렬\n",
    "    print('정렬된 scoville:', scoville)\n",
    "    print('_'*50, '\\n')\n",
    "\n",
    "    for s in scoville:\n",
    "        # 스코빌 지수가 K보다 작은 경우\n",
    "        if s < K:\n",
    "            first = heapq.heappop(scoville) # 가장 맵지 않은 음식의 스코빌 지수\n",
    "            print('first:', first)\n",
    "            second = heapq.heappop(scoville) # 두 번째로 맵지 않은 음식의 스코빌 지수\n",
    "            print('second:', second)\n",
    "            print('남은 scoville:', scoville, '\\n')\n",
    "            new = first + (second * 2) # 섞어 만든 새로운 음식의 스코빌 지수\n",
    "            print('새로운 스코빌:', new)\n",
    "            heapq.heappush(scoville, new) # 새로운 스코빌 지수를 scoville에 삽입\n",
    "            print('추가된 scoville:', scoville)\n",
    "            print('_'*50, '\\n')\n",
    "\n",
    "            answer += 1 # 섞은 횟수 + 1\n",
    "    \n",
    "    return answer"
   ]
  },
  {
   "cell_type": "code",
   "execution_count": 35,
   "metadata": {},
   "outputs": [
    {
     "name": "stdout",
     "output_type": "stream",
     "text": [
      "정렬된 scoville: [1, 2, 3, 9, 10, 12]\n",
      "__________________________________________________ \n",
      "\n",
      "first: 1\n",
      "second: 2\n",
      "남은 scoville: [3, 9, 10, 12] \n",
      "\n",
      "새로운 스코빌: 5\n",
      "추가된 scoville: [3, 5, 10, 12, 9]\n",
      "__________________________________________________ \n",
      "\n",
      "first: 3\n",
      "second: 5\n",
      "남은 scoville: [9, 12, 10] \n",
      "\n",
      "새로운 스코빌: 13\n",
      "추가된 scoville: [9, 12, 10, 13]\n",
      "__________________________________________________ \n",
      "\n"
     ]
    },
    {
     "data": {
      "text/plain": [
       "2"
      ]
     },
     "execution_count": 35,
     "metadata": {},
     "output_type": "execute_result"
    }
   ],
   "source": [
    "scoville = [1, 2, 3, 9, 10, 12]\n",
    "K = 7 \n",
    "solution(scoville, K)"
   ]
  },
  {
   "attachments": {},
   "cell_type": "markdown",
   "metadata": {},
   "source": [
    "### 통과)"
   ]
  },
  {
   "cell_type": "code",
   "execution_count": null,
   "metadata": {},
   "outputs": [],
   "source": [
    "import heapq\n",
    "\n",
    "def solution(scoville, K):\n",
    "    answer = 0\n",
    "    heapq.heapify(scoville) # scoville을 최소 힙 형태로 정렬\n",
    "\n",
    "    # 스코빌 지수가 K보다 작은 경우\n",
    "    while scoville[0] < K:\n",
    "        first = heapq.heappop(scoville) # 가장 맵지 않은 음식의 스코빌 지수\n",
    "        second = heapq.heappop(scoville) # 두 번째로 맵지 않은 음식의 스코빌 지수\n",
    "        new = first + (second * 2) # 섞어 만든 새로운 음식의 스코빌 지수\n",
    "        heapq.heappush(scoville, new) # 새로운 스코빌 지수를 scoville에 삽입\n",
    "        answer += 1 # 섞은 횟수 + 1\n",
    "\n",
    "        # 모든 음식의 스코빌 지수를 K 이상으로 만들 수 없는 경우\n",
    "        if len(scoville) == 1 and scoville[0] < K:\n",
    "            return -1 # -1을 return \n",
    "    \n",
    "    return answer"
   ]
  },
  {
   "attachments": {},
   "cell_type": "markdown",
   "metadata": {},
   "source": [
    "-> '모든 음식의 스코빌 지수를 K 이상으로 만들 수 없는 경우에는 -1을 return' 추가"
   ]
  },
  {
   "attachments": {},
   "cell_type": "markdown",
   "metadata": {},
   "source": [
    "'모든 음식의 스코빌 지수를 K 이상으로 만들 수 없는 경우' => scoville에 하나의 원소만 있고, scoville[0]이 K보다 작은 경우"
   ]
  }
 ],
 "metadata": {
  "kernelspec": {
   "display_name": "base",
   "language": "python",
   "name": "python3"
  },
  "language_info": {
   "codemirror_mode": {
    "name": "ipython",
    "version": 3
   },
   "file_extension": ".py",
   "mimetype": "text/x-python",
   "name": "python",
   "nbconvert_exporter": "python",
   "pygments_lexer": "ipython3",
   "version": "3.9.7"
  },
  "orig_nbformat": 4,
  "vscode": {
   "interpreter": {
    "hash": "023ab38ef701cca529efce9465407c28b5ba779ced3f1a89865b89edb313b240"
   }
  }
 },
 "nbformat": 4,
 "nbformat_minor": 2
}

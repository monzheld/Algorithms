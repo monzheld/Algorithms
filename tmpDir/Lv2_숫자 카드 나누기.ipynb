{
 "cells": [
  {
   "attachments": {},
   "cell_type": "markdown",
   "metadata": {},
   "source": [
    "[문제](https://school.programmers.co.kr/learn/courses/30/lessons/135807)"
   ]
  },
  {
   "attachments": {},
   "cell_type": "markdown",
   "metadata": {},
   "source": [
    "- 다음 **두 조건 중 하나를 만족하는 가장 큰 양의 정수 a 값** 구하기\n",
    "- 조건\n",
    "    - 1) 철수가 가진 카드들에 적힌 모든 숫자를 나눌 수 있고 영희가 가진 카드들에 적힌 모든 숫자들 중 하나도 나눌 수 없는 양의 정수 a\n",
    "    - 2) 영희가 가진 카드들에 적힌 모든 숫자를 나눌 수 있고, 철수가 가진 카드들에 적힌 모든 숫자들 중 하나도 나눌 수 없는 양의 정수 a\n",
    "- arrayA: 철수가 가진 카드에 적힌 숫자들을 나타내는 정수 배열\n",
    "- arrayB: 영희가 가진 카드에 적힌 숫자들을 나타내는 정수 배열\n",
    "- 주어진 조건을 만족하는 가장 큰 양의 정수 a를 return\n",
    "- 만약, **조건을 만족하는 a가 없다면, 0**을 return"
   ]
  },
  {
   "attachments": {},
   "cell_type": "markdown",
   "metadata": {},
   "source": [
    "**제한사항**\n",
    "\n",
    "- 1 ≤ **arrayA의 길이 = arrayB의 길이** ≤ 500,000\n",
    "- 1 ≤ arrayA의 원소, arrayB의 원소 ≤ 100,000,000\n",
    "- arrayA와 arrayB에는 중복된 원소가 있을 수 있음"
   ]
  },
  {
   "cell_type": "code",
   "execution_count": null,
   "metadata": {},
   "outputs": [],
   "source": [
    "\"\"\"\n",
    "입출력 예시)\n",
    "\n",
    "arrayA = [10, 17], arrayB = [5, 20] -> 0\n",
    "arrayA = [10, 20], arrayB = [5, 17] -> 10\n",
    "arrayA = [14, 35, 119], arrayB = [18, 30, 102] -> 7\n",
    "\"\"\""
   ]
  },
  {
   "cell_type": "code",
   "execution_count": null,
   "metadata": {},
   "outputs": [],
   "source": [
    "# arrayA = [10, 17], arrayB = [5, 20] -> 0\n",
    "\n",
    "# 철수: [10, 17]\n",
    "# 영희: [5, 20]\n",
    "\n",
    "# => 두 조건 중 하나를 만족하는 양의 정수 a는 존재 X"
   ]
  },
  {
   "cell_type": "code",
   "execution_count": null,
   "metadata": {},
   "outputs": [],
   "source": [
    "# arrayA = [10, 20], arrayB = [5, 17] -> 10\n",
    "\n",
    "# 철수: [10, 20]\n",
    "# 영희: [5, 17]\n",
    "\n",
    "# -> 철수가 가진 카드들의 숫자는 모두 10으로 나눌 수 있고, 영희가 가진 카드들의 숫자는 모두 10으로 나눌 수 없음\n",
    "\n",
    "# => 조건에 해당하는 양의 정수 a는 10"
   ]
  },
  {
   "cell_type": "code",
   "execution_count": null,
   "metadata": {},
   "outputs": [],
   "source": [
    "# arrayA = [14, 35, 119], arrayB = [18, 30, 102] -> 7\n",
    "\n",
    "# 철수: [14, 35, 119]\n",
    "# 영희: [18, 30, 102]\n",
    "\n",
    "# -> 철수가 가진 카드에 적힌 숫자들은 모두 3으로 나눌 수 없고, 영희가 가진 카드에 적힌 숫자는 모두 3으로 나눌 수 있음 => a = 3\n",
    "# -> 철수가 가진 카드들에 적힌 숫자들은 모두 7로 나눌 수 있고, 영희가 가진 카드들에 적힌 숫자는 모두 7로 나눌 수 없음 => a = 7\n",
    "\n",
    "# => 조건에 해당하는 양의 정수 a는 최대값인 7"
   ]
  },
  {
   "attachments": {},
   "cell_type": "markdown",
   "metadata": {},
   "source": [
    "## 2022/12/25"
   ]
  },
  {
   "cell_type": "code",
   "execution_count": null,
   "metadata": {},
   "outputs": [],
   "source": [
    "## 의사코드 ##\n",
    "\n",
    "# 철수가 가진 카드의 공약수를 모두 구해 리스트에 삽입\n",
    "# 영희가 가진 카드의 공약수를 모두 구해 리스트에 삽입\n",
    "\n",
    "# 리스트를 오름차순으로 정렬\n",
    "# 리스트의 맨 마지막 요소(리스트에서 제일 큰 값)부터 거꾸로 돌면서 조건이 해당하는지 확인 \n",
    "# 조건 중 하나라도 해당되면 break\n",
    "\n",
    "# 조건 확인\n",
    "#   - 배열의 모든 숫자들이 나눠질 수 있는 경우: 배열의 원소 % a == 0 (나누어 떨어짐)\n",
    "#   - 배열의 모든 숫자들이 나눠질 수 없는 경우: 배열의 원소 % a > 0 (나누어 떨어지지 x) "
   ]
  },
  {
   "cell_type": "code",
   "execution_count": null,
   "metadata": {},
   "outputs": [],
   "source": [
    "# 공약수 구하기\n",
    "\n",
    "# 1) array의 최대공약수를 구함\n",
    "# 2) 최대공약수의 약수를 구함 "
   ]
  },
  {
   "cell_type": "code",
   "execution_count": 29,
   "metadata": {},
   "outputs": [
    {
     "name": "stdout",
     "output_type": "stream",
     "text": [
      "6\n"
     ]
    }
   ],
   "source": [
    "# 최대공약수 구하기 -> math.gcd()\n",
    "import math\n",
    "print(math.gcd(18, 30, 102))"
   ]
  },
  {
   "cell_type": "code",
   "execution_count": 25,
   "metadata": {},
   "outputs": [],
   "source": [
    "arrayB = [18, 30, 102]"
   ]
  },
  {
   "cell_type": "code",
   "execution_count": 26,
   "metadata": {},
   "outputs": [
    {
     "name": "stdout",
     "output_type": "stream",
     "text": [
      "[1, 2, 3, 6]\n"
     ]
    }
   ],
   "source": [
    "import math\n",
    "num = math.gcd(*arrayB)\n",
    "divisor = []\n",
    "\n",
    "for i in range(1, num+1):\n",
    "    if num % i == 0:\n",
    "        divisor.append(i)\n",
    "print(divisor)"
   ]
  },
  {
   "cell_type": "code",
   "execution_count": null,
   "metadata": {},
   "outputs": [],
   "source": [
    "# math.gcd()\n",
    "\n",
    "# # 리스트 바로 삽입 -> x\n",
    "# math.gcd(arrayB) # 그냥 리스트를 바로 삽입하면 에러\n",
    "# # TypeError: 'list' object cannot be interpreted as an integer\n",
    "\n",
    "# # *list 활용\n",
    "# math.gcd(*arrayB)\n",
    "\n",
    "# # cf) reduce 사용 \n",
    "# from fractions import gcd # -> python 3.9부터 math.gcd()로 옮겨짐\n",
    "# from functools import reduce\n",
    "# def find_gcd(list):\n",
    "#     x = reduce(gcd, list)\n",
    "#     return x"
   ]
  },
  {
   "attachments": {},
   "cell_type": "markdown",
   "metadata": {},
   "source": [
    "[Python gcd for list](https://stackoverflow.com/questions/29194588/python-gcd-for-list)"
   ]
  },
  {
   "attachments": {},
   "cell_type": "markdown",
   "metadata": {},
   "source": [
    "### 1) "
   ]
  },
  {
   "cell_type": "code",
   "execution_count": null,
   "metadata": {},
   "outputs": [],
   "source": [
    "import math \n",
    "def solution(arrayA, arrayB):\n",
    "    answer = 0\n",
    "    divisor = []\n",
    "\n",
    "    # 철수가 가진 카드의 공약수 구하기\n",
    "    Anum = math.gcd(*arrayA)\n",
    "    for i in range(1, Anum+1):\n",
    "        if Anum % i == 0:\n",
    "            divisor.append(i)\n",
    "\n",
    "    # 영희가 가진 카드의 공약수 구하기\n",
    "    Bnum = math.gcd(*arrayB)\n",
    "    for i in range(1, Bnum+1):\n",
    "        if Bnum % i == 0:\n",
    "            divisor.append(i)\n",
    "\n",
    "    # 공약수 리스트 중복값 제거 및 오름차순 정렬 \n",
    "    divisor_sorted = list(set(divisor))\n",
    "    divisor_sorted.pop(0) # 공약수 리스트에서 1 제거 \n",
    "\n",
    "    # 리스트의 맨 마지막 요소부터 거꾸로 돌면서 조건이 해당하는지 확인\n",
    "    while divisor_sorted:\n",
    "        a = divisor_sorted.pop()\n",
    "    \n",
    "        for n in range(len(arrayA)): # len(arrayA) == len(arrayB)\n",
    "            # 조건 1\n",
    "            if (arrayA[n] % a == 0) and (arrayB[n] % a > 0):\n",
    "                return a \n",
    "            elif (arrayB[n] % a == 0) and (arrayA[n] % a > 0):\n",
    "                return a\n",
    "            else:\n",
    "                return answer  \n",
    "\n",
    "    return answer"
   ]
  },
  {
   "cell_type": "code",
   "execution_count": null,
   "metadata": {},
   "outputs": [],
   "source": [
    "# 과정 확인"
   ]
  },
  {
   "cell_type": "code",
   "execution_count": 43,
   "metadata": {},
   "outputs": [],
   "source": [
    "import math \n",
    "def solution(arrayA, arrayB):\n",
    "    answer = 0\n",
    "    divisor = []\n",
    "\n",
    "    # 철수가 가진 카드의 공약수 구하기\n",
    "    Anum = math.gcd(*arrayA)\n",
    "    for i in range(1, Anum+1):\n",
    "        if Anum % i == 0:\n",
    "            divisor.append(i)\n",
    "    print(divisor)\n",
    "\n",
    "    # 영희가 가진 카드의 공약수 구하기\n",
    "    Bnum = math.gcd(*arrayB)\n",
    "    for i in range(1, Bnum+1):\n",
    "        if Bnum % i == 0:\n",
    "            divisor.append(i)\n",
    "    print(divisor)\n",
    "\n",
    "    # 공약수 리스트 중복값 제거 및 오름차순 정렬 \n",
    "    divisor_sorted = list(set(divisor))\n",
    "    divisor_sorted.pop(0) # 공약수 리스트에서 1 제거 \n",
    "    print(divisor_sorted)\n",
    "\n",
    "    # 리스트의 맨 마지막 요소부터 거꾸로 돌면서 조건이 해당하는지 확인\n",
    "    while divisor_sorted:\n",
    "        a = divisor_sorted.pop()\n",
    "    \n",
    "        for n in range(len(arrayA)): # len(arrayA) == len(arrayB)\n",
    "            # 조건 1\n",
    "            if (arrayA[n] % a == 0) and (arrayB[n] % a > 0):\n",
    "                return a \n",
    "            elif (arrayB[n] % a == 0) and (arrayA[n] % a > 0):\n",
    "                return a\n",
    "            else:\n",
    "                return answer  \n",
    "\n",
    "    return answer"
   ]
  },
  {
   "cell_type": "code",
   "execution_count": 44,
   "metadata": {},
   "outputs": [
    {
     "name": "stdout",
     "output_type": "stream",
     "text": [
      "[1, 7]\n",
      "[1, 7, 1, 2, 3, 6]\n",
      "[2, 3, 6, 7]\n"
     ]
    },
    {
     "data": {
      "text/plain": [
       "7"
      ]
     },
     "execution_count": 44,
     "metadata": {},
     "output_type": "execute_result"
    }
   ],
   "source": [
    "arrayA = [14, 35, 119]\n",
    "arrayB = [18, 30, 102]\n",
    "solution(arrayA, arrayB)"
   ]
  },
  {
   "attachments": {},
   "cell_type": "markdown",
   "metadata": {},
   "source": [
    "-> TypeError: gcd expected 2 arguments, got 3"
   ]
  },
  {
   "attachments": {},
   "cell_type": "markdown",
   "metadata": {},
   "source": [
    "### 2) "
   ]
  },
  {
   "cell_type": "code",
   "execution_count": 45,
   "metadata": {},
   "outputs": [],
   "source": [
    "# 유클리드 호제법으로 최대공약수 구하기\n",
    "def GCD(x, y):\n",
    "    while y:\n",
    "        x, y = y, x % y\n",
    "    return x\n",
    "\n",
    "# 배열의 최대공약수 구하기\n",
    "def GCD_N(arr):\n",
    "    num = arr[0]\n",
    "    for n in arr:\n",
    "        gcd = GCD(num, n)\n",
    "    return gcd"
   ]
  },
  {
   "cell_type": "code",
   "execution_count": 46,
   "metadata": {},
   "outputs": [
    {
     "data": {
      "text/plain": [
       "6"
      ]
     },
     "execution_count": 46,
     "metadata": {},
     "output_type": "execute_result"
    }
   ],
   "source": [
    "arrayB = [18, 30, 102]\n",
    "GCD_N(arrayB)"
   ]
  },
  {
   "attachments": {},
   "cell_type": "markdown",
   "metadata": {},
   "source": [
    "[유클리드 호제법으로 최대공약수 구하기](https://codingpractices.tistory.com/34)\n",
    "\n",
    "[N개의 수의 최대공약수 구하기](https://keoroo.tistory.com/54)"
   ]
  },
  {
   "cell_type": "code",
   "execution_count": null,
   "metadata": {},
   "outputs": [],
   "source": [
    "# 최대공약수 구하기\n",
    "def GCD(x, y):\n",
    "    while y:\n",
    "        x, y = y, x % y\n",
    "    return x\n",
    "\n",
    "def GCD_N(arr):\n",
    "    num = arr[0]\n",
    "    for n in arr:\n",
    "        gcd = GCD(num, n)\n",
    "    return gcd\n",
    "\n",
    "# solution\n",
    "def solution(arrayA, arrayB):\n",
    "    answer = 0\n",
    "    divisor = []\n",
    "\n",
    "    # 철수가 가진 카드의 공약수 구하기\n",
    "    Anum = GCD_N(arrayA)\n",
    "    for i in range(1, Anum+1):\n",
    "        if Anum % i == 0:\n",
    "            divisor.append(i)\n",
    "\n",
    "    # 영희가 가진 카드의 공약수 구하기\n",
    "    Bnum = GCD_N(arrayB)\n",
    "    for i in range(1, Bnum+1):\n",
    "        if Bnum % i == 0:\n",
    "            divisor.append(i)\n",
    "\n",
    "    # 공약수 리스트 중복값 제거 및 오름차순 정렬 \n",
    "    divisor_sorted = list(set(divisor))\n",
    "    divisor_sorted.pop(0) # 공약수 리스트에서 1 제거 \n",
    "\n",
    "    # 리스트의 맨 마지막 요소부터 거꾸로 돌면서 조건이 해당하는지 확인\n",
    "    while divisor_sorted:\n",
    "        a = divisor_sorted.pop()\n",
    "    \n",
    "        for n in range(len(arrayA)): # len(arrayA) == len(arrayB)\n",
    "            # 조건 1\n",
    "            if (arrayA[n] % a == 0) and (arrayB[n] % a > 0):\n",
    "                return a \n",
    "            elif (arrayB[n] % a == 0) and (arrayA[n] % a > 0):\n",
    "                return a\n",
    "            else:\n",
    "                return answer  \n",
    "\n",
    "    return answer"
   ]
  },
  {
   "attachments": {},
   "cell_type": "markdown",
   "metadata": {},
   "source": [
    "-> 테스트 케이스 2) 〉\t[10, 20], [5, 17] 실패\n",
    "\n",
    "(기댓값: 10, 내 코드 실행 값: 0)"
   ]
  },
  {
   "cell_type": "code",
   "execution_count": null,
   "metadata": {},
   "outputs": [],
   "source": [
    "# 과정 확인"
   ]
  },
  {
   "cell_type": "code",
   "execution_count": 55,
   "metadata": {},
   "outputs": [],
   "source": [
    "# 최대공약수 구하기\n",
    "def GCD(x, y):\n",
    "    while y:\n",
    "        x, y = y, x % y\n",
    "    return x\n",
    "\n",
    "def GCD_N(arr):\n",
    "    num = arr[0]\n",
    "    for n in arr:\n",
    "        gcd = GCD(num, n)\n",
    "    return gcd\n",
    "\n",
    "# solution\n",
    "def solution(arrayA, arrayB):\n",
    "    answer = 0\n",
    "    divisor = []\n",
    "\n",
    "    # 철수가 가진 카드의 공약수 구하기\n",
    "    Anum = GCD_N(arrayA)\n",
    "    for i in range(1, Anum+1):\n",
    "        if Anum % i == 0:\n",
    "            divisor.append(i)\n",
    "    print(divisor)\n",
    "\n",
    "    # 영희가 가진 카드의 공약수 구하기\n",
    "    Bnum = GCD_N(arrayB)\n",
    "    for i in range(1, Bnum+1):\n",
    "        if Bnum % i == 0:\n",
    "            divisor.append(i)\n",
    "    print(divisor)\n",
    "\n",
    "    # 공약수 리스트 중복값 제거 및 오름차순 정렬 \n",
    "    divisor_sorted = list(set(divisor))\n",
    "    divisor_sorted.pop(0) # 공약수 리스트에서 1 제거 \n",
    "    print(divisor_sorted)\n",
    "\n",
    "    # 리스트의 맨 마지막 요소부터 거꾸로 돌면서 조건이 해당하는지 확인\n",
    "    while divisor_sorted:\n",
    "        a = divisor_sorted.pop()\n",
    "    \n",
    "        for n in range(len(arrayA)): # len(arrayA) == len(arrayB)\n",
    "            # 조건 1\n",
    "            if (arrayA[n] % a == 0) and (arrayB[n] % a > 0):\n",
    "                return a \n",
    "            elif (arrayB[n] % a == 0) and (arrayA[n] % a > 0):\n",
    "                return a\n",
    "            else:\n",
    "                return answer  \n",
    "\n",
    "    return answer"
   ]
  },
  {
   "cell_type": "code",
   "execution_count": 56,
   "metadata": {},
   "outputs": [
    {
     "name": "stdout",
     "output_type": "stream",
     "text": [
      "[1, 7]\n",
      "[1, 7, 1, 2, 3, 6]\n",
      "[2, 3, 6, 7]\n"
     ]
    },
    {
     "data": {
      "text/plain": [
       "7"
      ]
     },
     "execution_count": 56,
     "metadata": {},
     "output_type": "execute_result"
    }
   ],
   "source": [
    "arrayA = [14, 35, 119]\n",
    "arrayB = [18, 30, 102]\n",
    "solution(arrayA, arrayB)"
   ]
  },
  {
   "cell_type": "code",
   "execution_count": 57,
   "metadata": {},
   "outputs": [
    {
     "name": "stdout",
     "output_type": "stream",
     "text": [
      "[1, 2, 5, 10]\n",
      "[1, 2, 5, 10, 1]\n",
      "[2, 10, 5]\n"
     ]
    },
    {
     "data": {
      "text/plain": [
       "0"
      ]
     },
     "execution_count": 57,
     "metadata": {},
     "output_type": "execute_result"
    }
   ],
   "source": [
    "arrayA = [10, 20]\n",
    "arrayB = [5, 17]\n",
    "solution(arrayA, arrayB)"
   ]
  },
  {
   "attachments": {},
   "cell_type": "markdown",
   "metadata": {},
   "source": [
    "-> divisor_sorted가 오름차순으로 정렬이 안됨"
   ]
  },
  {
   "attachments": {},
   "cell_type": "markdown",
   "metadata": {},
   "source": [
    "### 3)"
   ]
  },
  {
   "cell_type": "code",
   "execution_count": 52,
   "metadata": {},
   "outputs": [],
   "source": [
    "# 최대공약수 구하기\n",
    "def GCD(x, y):\n",
    "    while y:\n",
    "        x, y = y, x % y\n",
    "    return x\n",
    "\n",
    "def GCD_N(arr):\n",
    "    num = arr[0]\n",
    "    for n in arr:\n",
    "        gcd = GCD(num, n)\n",
    "    return gcd\n",
    "\n",
    "# solution\n",
    "def solution(arrayA, arrayB):\n",
    "    answer = 0\n",
    "    divisor = []\n",
    "\n",
    "    # 철수가 가진 카드의 공약수 구하기\n",
    "    Anum = GCD_N(arrayA)\n",
    "    for i in range(1, Anum+1):\n",
    "        if Anum % i == 0:\n",
    "            divisor.append(i)\n",
    "\n",
    "    # 영희가 가진 카드의 공약수 구하기\n",
    "    Bnum = GCD_N(arrayB)\n",
    "    for i in range(1, Bnum+1):\n",
    "        if Bnum % i == 0:\n",
    "            divisor.append(i)\n",
    "\n",
    "    # 공약수 리스트 중복값 제거 및 오름차순 정렬 \n",
    "    divisor_sorted = sorted(list(set(divisor))) \n",
    "    divisor_sorted.pop(0) # 공약수 리스트에서 1 제거 \n",
    "\n",
    "    # 리스트의 맨 마지막 요소부터 거꾸로 돌면서 조건이 해당하는지 확인\n",
    "    while divisor_sorted:\n",
    "        a = divisor_sorted.pop()\n",
    "    \n",
    "        for n in range(len(arrayA)): # len(arrayA) == len(arrayB)\n",
    "            # 조건 1\n",
    "            if (arrayA[n] % a == 0) and (arrayB[n] % a > 0):\n",
    "                return a \n",
    "            elif (arrayB[n] % a == 0) and (arrayA[n] % a > 0):\n",
    "                return a\n",
    "            else:\n",
    "                return answer  \n",
    "\n",
    "    return answer"
   ]
  },
  {
   "attachments": {},
   "cell_type": "markdown",
   "metadata": {},
   "source": [
    "-> 공약수 리스트 중복값 제거 및 오름차순 정렬에서 sorted() 추가 "
   ]
  },
  {
   "cell_type": "code",
   "execution_count": null,
   "metadata": {},
   "outputs": [],
   "source": [
    "# 과정 확인"
   ]
  },
  {
   "cell_type": "code",
   "execution_count": 58,
   "metadata": {},
   "outputs": [],
   "source": [
    "# 최대공약수 구하기\n",
    "def GCD(x, y):\n",
    "    while y:\n",
    "        x, y = y, x % y\n",
    "    return x\n",
    "\n",
    "def GCD_N(arr):\n",
    "    num = arr[0]\n",
    "    for n in arr:\n",
    "        gcd = GCD(num, n)\n",
    "    return gcd\n",
    "\n",
    "# solution\n",
    "def solution(arrayA, arrayB):\n",
    "    answer = 0\n",
    "    divisor = []\n",
    "\n",
    "    # 철수가 가진 카드의 공약수 구하기\n",
    "    Anum = GCD_N(arrayA)\n",
    "    for i in range(1, Anum+1):\n",
    "        if Anum % i == 0:\n",
    "            divisor.append(i)\n",
    "    print(divisor)\n",
    "\n",
    "    # 영희가 가진 카드의 공약수 구하기\n",
    "    Bnum = GCD_N(arrayB)\n",
    "    for i in range(1, Bnum+1):\n",
    "        if Bnum % i == 0:\n",
    "            divisor.append(i)\n",
    "    print(divisor)\n",
    "\n",
    "    # 공약수 리스트 중복값 제거 및 오름차순 정렬 \n",
    "    divisor_sorted = sorted(list(set(divisor))) \n",
    "    divisor_sorted.pop(0) # 공약수 리스트에서 1 제거 \n",
    "    print(divisor_sorted)\n",
    "\n",
    "    # 리스트의 맨 마지막 요소부터 거꾸로 돌면서 조건이 해당하는지 확인\n",
    "    while divisor_sorted:\n",
    "        a = divisor_sorted.pop()\n",
    "    \n",
    "        for n in range(len(arrayA)): # len(arrayA) == len(arrayB)\n",
    "            # 조건 1\n",
    "            if (arrayA[n] % a == 0) and (arrayB[n] % a > 0):\n",
    "                return a \n",
    "            elif (arrayB[n] % a == 0) and (arrayA[n] % a > 0):\n",
    "                return a\n",
    "            else:\n",
    "                return answer  \n",
    "\n",
    "    return answer"
   ]
  },
  {
   "cell_type": "code",
   "execution_count": 59,
   "metadata": {},
   "outputs": [
    {
     "name": "stdout",
     "output_type": "stream",
     "text": [
      "[1, 2, 5, 10]\n",
      "[1, 2, 5, 10, 1]\n",
      "[2, 5, 10]\n"
     ]
    },
    {
     "data": {
      "text/plain": [
       "10"
      ]
     },
     "execution_count": 59,
     "metadata": {},
     "output_type": "execute_result"
    }
   ],
   "source": [
    "arrayA = [10, 20]\n",
    "arrayB = [5, 17]\n",
    "solution(arrayA, arrayB)"
   ]
  },
  {
   "cell_type": "code",
   "execution_count": 60,
   "metadata": {},
   "outputs": [
    {
     "name": "stdout",
     "output_type": "stream",
     "text": [
      "[1, 7]\n",
      "[1, 7, 1, 2, 3, 6]\n",
      "[2, 3, 6, 7]\n"
     ]
    },
    {
     "data": {
      "text/plain": [
       "7"
      ]
     },
     "execution_count": 60,
     "metadata": {},
     "output_type": "execute_result"
    }
   ],
   "source": [
    "arrayA = [14, 35, 119]\n",
    "arrayB = [18, 30, 102]\n",
    "solution(arrayA, arrayB)"
   ]
  },
  {
   "attachments": {},
   "cell_type": "markdown",
   "metadata": {},
   "source": [
    "-> 추가 테스트 케이스 실패"
   ]
  },
  {
   "attachments": {},
   "cell_type": "markdown",
   "metadata": {},
   "source": [
    "### 4) "
   ]
  },
  {
   "cell_type": "code",
   "execution_count": 61,
   "metadata": {},
   "outputs": [],
   "source": [
    "import math \n",
    "def solution(arrayA, arrayB):\n",
    "\n",
    "    answer = []\n",
    "\n",
    "    gcd_A, gcd_B = arrayA[0], arrayB[0]\n",
    "    for a, b in zip(arrayA[1:], arrayB[1:]):\n",
    "        gcd_A, gcd_B = math.gcd(a, gcd_A), math.gcd(b, gcd_B)\n",
    "    \n",
    "    for a in arrayA:\n",
    "        if a % gcd_B == 0:\n",
    "            break\n",
    "        else:\n",
    "            answer.append(gcd_B)\n",
    "    for b in arrayB:\n",
    "        if b % gcd_A == 0:\n",
    "            break\n",
    "        else:\n",
    "            answer.append(gcd_A)\n",
    "\n",
    "    return max(answer) if answer else 0"
   ]
  },
  {
   "cell_type": "code",
   "execution_count": 62,
   "metadata": {},
   "outputs": [
    {
     "data": {
      "text/plain": [
       "10"
      ]
     },
     "execution_count": 62,
     "metadata": {},
     "output_type": "execute_result"
    }
   ],
   "source": [
    "arrayA = [10, 20]\n",
    "arrayB = [5, 17]\n",
    "solution(arrayA, arrayB)"
   ]
  },
  {
   "attachments": {},
   "cell_type": "markdown",
   "metadata": {},
   "source": [
    "-> 추가 테스트 케이스 1개 실패 "
   ]
  },
  {
   "cell_type": "code",
   "execution_count": null,
   "metadata": {},
   "outputs": [],
   "source": [
    "# 과정 확인"
   ]
  },
  {
   "cell_type": "code",
   "execution_count": 65,
   "metadata": {},
   "outputs": [],
   "source": [
    "import math \n",
    "def solution(arrayA, arrayB):\n",
    "\n",
    "    answer = []\n",
    "\n",
    "    gcd_A, gcd_B = arrayA[0], arrayB[0]\n",
    "    print('gcd_A:', gcd_A)\n",
    "    print('gcd_B:', gcd_B, '\\n')\n",
    "    for a, b in zip(arrayA[1:], arrayB[1:]):\n",
    "        print('a:', a)\n",
    "        print('b:', b)\n",
    "        gcd_A, gcd_B = math.gcd(a, gcd_A), math.gcd(b, gcd_B)\n",
    "        print('gcd_A:', gcd_A)\n",
    "        print('gcd_B:', gcd_B, '\\n')\n",
    "    \n",
    "    for a in arrayA:\n",
    "        if a % gcd_B == 0:\n",
    "            break\n",
    "        else:\n",
    "            answer.append(gcd_B)\n",
    "    print(answer)\n",
    "\n",
    "    for b in arrayB:\n",
    "        if b % gcd_A == 0:\n",
    "            break\n",
    "        else:\n",
    "            answer.append(gcd_A)\n",
    "    print(answer)\n",
    "\n",
    "    return max(answer) if answer else 0"
   ]
  },
  {
   "cell_type": "code",
   "execution_count": 66,
   "metadata": {},
   "outputs": [
    {
     "name": "stdout",
     "output_type": "stream",
     "text": [
      "gcd_A: 10\n",
      "gcd_B: 5 \n",
      "\n",
      "a: 20\n",
      "b: 17\n",
      "gcd_A: 10\n",
      "gcd_B: 1 \n",
      "\n",
      "[]\n",
      "[10, 10]\n"
     ]
    },
    {
     "data": {
      "text/plain": [
       "10"
      ]
     },
     "execution_count": 66,
     "metadata": {},
     "output_type": "execute_result"
    }
   ],
   "source": [
    "arrayA = [10, 20]\n",
    "arrayB = [5, 17]\n",
    "solution(arrayA, arrayB)"
   ]
  },
  {
   "cell_type": "code",
   "execution_count": 67,
   "metadata": {},
   "outputs": [
    {
     "name": "stdout",
     "output_type": "stream",
     "text": [
      "gcd_A: 14\n",
      "gcd_B: 18 \n",
      "\n",
      "a: 35\n",
      "b: 30\n",
      "gcd_A: 7\n",
      "gcd_B: 6 \n",
      "\n",
      "a: 119\n",
      "b: 102\n",
      "gcd_A: 7\n",
      "gcd_B: 6 \n",
      "\n",
      "[6, 6, 6]\n",
      "[6, 6, 6, 7, 7, 7]\n"
     ]
    },
    {
     "data": {
      "text/plain": [
       "7"
      ]
     },
     "execution_count": 67,
     "metadata": {},
     "output_type": "execute_result"
    }
   ],
   "source": [
    "arrayA = [14, 35, 119]\n",
    "arrayB = [18, 30, 102]\n",
    "solution(arrayA, arrayB)"
   ]
  },
  {
   "attachments": {},
   "cell_type": "markdown",
   "metadata": {},
   "source": [
    "### 통과)"
   ]
  },
  {
   "cell_type": "code",
   "execution_count": 63,
   "metadata": {},
   "outputs": [],
   "source": [
    "import math \n",
    "def solution(arrayA, arrayB):\n",
    "\n",
    "    answer = []\n",
    "\n",
    "    # arrayA와 arrayB의 최대공약수 각각 구하기\n",
    "    gcd_A, gcd_B = arrayA[0], arrayB[0] # arrayA와 arrayB에서 각각 가장 작은 수 \n",
    "    for a, b in zip(arrayA[1:], arrayB[1:]):\n",
    "        gcd_A, gcd_B = math.gcd(a, gcd_A), math.gcd(b, gcd_B)\n",
    "        # gcd_A = arrayA의 첫 번째 원소를 제외한 나머지 원소와 arrayA의 첫 번째 원소(arrayA[0])의 최대공약수\n",
    "        # gcd_B = arrayB의 첫 번째 원소를 제외한 나머지 원소와 arrayB의 첫 번째 원소(arrayB[0])의 최대공약수\n",
    "    \n",
    "    for a in arrayA:\n",
    "        # 영희가 가진 카드들에 적힌 모든 숫자를 나눌 수 있고(gcd_B), 철수가 가진 카드들에 적힌 모든 숫자도 나눌 수 있는 경우\n",
    "        if a % gcd_B == 0: # arrayA의 원소가 arrayB의 최대공약수(gcd_B)로 나누어 떨어지는 경우\n",
    "            break\n",
    "    # 영희가 가진 카드들에 적힌 모든 숫자를 나눌 수 있고(gcd_B), 철수가 가진 카드들에 적힌 모든 숫자들 중 하나도 나눌 수 없는 경우 \n",
    "    else: # arrayA의 원소가 arrayB의 최대공약수(gcd_B)로 나누어 떨어지지 않는 경우\n",
    "        answer.append(gcd_B) # answer에 arrayB의 최대공약수(gcd_B) 추가\n",
    "    \n",
    "    for b in arrayB:\n",
    "        # 철수가 가진 카드들에 적힌 모든 숫자를 나눌 수 있고(gcd_A), 영희가 가진 카드들에 적힌 모든 숫자도 나눌 수 있는 경우\n",
    "        if b % gcd_A == 0: # arrayB의 원소가 arrayA의 최대공약수(gcd_A)로 나누어 떨어지는 경우 \n",
    "            break\n",
    "    # 철수가 가진 카드들에 적힌 모든 숫자를 나눌 수 있고(gcd_A), 영희가 가진 카드들에 적힌 모든 숫자들 중 하나도 나눌 수 없는 경우\n",
    "    else: # arrayB의 원소가 arrayA의 최대공약수(gcd_A)로 나누어 떨어지지 않는 경우\n",
    "        answer.append(gcd_A) # answer에 arrayA의 최대공약수(gcd_A) 추가\n",
    "\n",
    "    return max(answer) if answer else 0 # answer가 비어있다면 0, 비어있지 않다면 answer의 max 값 반환 "
   ]
  },
  {
   "cell_type": "code",
   "execution_count": 64,
   "metadata": {},
   "outputs": [
    {
     "data": {
      "text/plain": [
       "10"
      ]
     },
     "execution_count": 64,
     "metadata": {},
     "output_type": "execute_result"
    }
   ],
   "source": [
    "arrayA = [10, 20]\n",
    "arrayB = [5, 17]\n",
    "solution(arrayA, arrayB)"
   ]
  },
  {
   "attachments": {},
   "cell_type": "markdown",
   "metadata": {},
   "source": [
    "-> else문을 for문 밖으로 빼내서 성공"
   ]
  },
  {
   "cell_type": "code",
   "execution_count": null,
   "metadata": {},
   "outputs": [],
   "source": [
    "# 과정 확인"
   ]
  },
  {
   "cell_type": "code",
   "execution_count": 69,
   "metadata": {},
   "outputs": [],
   "source": [
    "import math \n",
    "def solution(arrayA, arrayB):\n",
    "\n",
    "    answer = []\n",
    "\n",
    "    gcd_A, gcd_B = arrayA[0], arrayB[0]\n",
    "    print('gcd_A:', gcd_A)\n",
    "    print('gcd_B:', gcd_B, '\\n')\n",
    "    for a, b in zip(arrayA[1:], arrayB[1:]):\n",
    "        print('a:', a)\n",
    "        print('b:', b)\n",
    "        gcd_A, gcd_B = math.gcd(a, gcd_A), math.gcd(b, gcd_B)\n",
    "        print('gcd_A:', gcd_A)\n",
    "        print('gcd_B:', gcd_B, '\\n')\n",
    "    \n",
    "    for a in arrayA:\n",
    "        if a % gcd_B == 0:\n",
    "            break\n",
    "    else:\n",
    "        answer.append(gcd_B)\n",
    "    print(answer)\n",
    "    for b in arrayB:\n",
    "        if b % gcd_A == 0:\n",
    "            break\n",
    "    else:\n",
    "        answer.append(gcd_A)\n",
    "        print(answer)\n",
    "\n",
    "    return max(answer) if answer else 0"
   ]
  },
  {
   "cell_type": "code",
   "execution_count": 70,
   "metadata": {},
   "outputs": [
    {
     "name": "stdout",
     "output_type": "stream",
     "text": [
      "gcd_A: 10\n",
      "gcd_B: 5 \n",
      "\n",
      "a: 20\n",
      "b: 17\n",
      "gcd_A: 10\n",
      "gcd_B: 1 \n",
      "\n",
      "[]\n",
      "[10]\n"
     ]
    },
    {
     "data": {
      "text/plain": [
       "10"
      ]
     },
     "execution_count": 70,
     "metadata": {},
     "output_type": "execute_result"
    }
   ],
   "source": [
    "arrayA = [10, 20]\n",
    "arrayB = [5, 17]\n",
    "solution(arrayA, arrayB)"
   ]
  },
  {
   "cell_type": "code",
   "execution_count": 71,
   "metadata": {},
   "outputs": [
    {
     "name": "stdout",
     "output_type": "stream",
     "text": [
      "gcd_A: 14\n",
      "gcd_B: 18 \n",
      "\n",
      "a: 35\n",
      "b: 30\n",
      "gcd_A: 7\n",
      "gcd_B: 6 \n",
      "\n",
      "a: 119\n",
      "b: 102\n",
      "gcd_A: 7\n",
      "gcd_B: 6 \n",
      "\n",
      "[6]\n",
      "[6, 7]\n"
     ]
    },
    {
     "data": {
      "text/plain": [
       "7"
      ]
     },
     "execution_count": 71,
     "metadata": {},
     "output_type": "execute_result"
    }
   ],
   "source": [
    "arrayA = [14, 35, 119]\n",
    "arrayB = [18, 30, 102]\n",
    "solution(arrayA, arrayB)"
   ]
  }
 ],
 "metadata": {
  "kernelspec": {
   "display_name": "base",
   "language": "python",
   "name": "python3"
  },
  "language_info": {
   "codemirror_mode": {
    "name": "ipython",
    "version": 3
   },
   "file_extension": ".py",
   "mimetype": "text/x-python",
   "name": "python",
   "nbconvert_exporter": "python",
   "pygments_lexer": "ipython3",
   "version": "3.9.7"
  },
  "orig_nbformat": 4,
  "vscode": {
   "interpreter": {
    "hash": "023ab38ef701cca529efce9465407c28b5ba779ced3f1a89865b89edb313b240"
   }
  }
 },
 "nbformat": 4,
 "nbformat_minor": 2
}

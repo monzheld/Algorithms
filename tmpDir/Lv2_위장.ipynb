{
 "cells": [
  {
   "attachments": {},
   "cell_type": "markdown",
   "metadata": {},
   "source": [
    "[문제](https://school.programmers.co.kr/learn/courses/30/lessons/42578)"
   ]
  },
  {
   "attachments": {},
   "cell_type": "markdown",
   "metadata": {},
   "source": [
    "### 해시"
   ]
  },
  {
   "attachments": {},
   "cell_type": "markdown",
   "metadata": {},
   "source": [
    "- 스파이들은 매일 다른 옷을 조합하여 입어 자신을 위장\n",
    "- clothes: 스파이가 가진 의상들이 담긴 2차원 배열\n",
    "- **서로 다른 옷의 조합의 수**를 return"
   ]
  },
  {
   "attachments": {},
   "cell_type": "markdown",
   "metadata": {},
   "source": [
    "**제한사항**\n",
    "\n",
    "- clothes의 각 행은 [의상의 이름, 의상의 종류]로 이루어져 있음\n",
    "- 스파이가 가진 의상의 수는 1개 이상 30개 이하\n",
    "- 같은 이름을 가진 의상은 존재하지 않음\n",
    "- clothes의 모든 원소는 문자열로 이루어져 있음\n",
    "- 모든 문자열의 길이는 1 이상 20 이하인 자연수이고 알파벳 소문자 또는 '_' 로만 이루어져 있음\n",
    "- 스파이는 하루에 최소 한 개의 의상은 입음"
   ]
  },
  {
   "cell_type": "code",
   "execution_count": null,
   "metadata": {},
   "outputs": [],
   "source": [
    "\"\"\"\n",
    "입출력 예시)\n",
    "\n",
    "clothes = [[\"yellow_hat\", \"headgear\"], [\"blue_sunglasses\", \"eyewear\"], [\"green_turban\", \"headgear\"]] -> 5\n",
    "clothes = [[\"crow_mask\", \"face\"], [\"blue_sunglasses\", \"face\"], [\"smoky_makeup\", \"face\"]] -> 3 \n",
    "\"\"\""
   ]
  },
  {
   "cell_type": "code",
   "execution_count": null,
   "metadata": {},
   "outputs": [],
   "source": [
    "# clothes = [[\"yellow_hat\", \"headgear\"], [\"blue_sunglasses\", \"eyewear\"], [\"green_turban\", \"headgear\"]] -> 5\n",
    "\n",
    "# headgear에 해당하는 의상: yellow_hat, green_turban\n",
    "# eyewear에 해당하는 의상: blue_sunglasses\n",
    "\n",
    "# => 가능한 조합: 5가지\n",
    "# 1. yellow_hat\n",
    "# 2. blue_sunglasses\n",
    "# 3. green_turban\n",
    "# 4. yellow_hat + blue_sunglasses\n",
    "# 5. green_turban + blue_sunglasses"
   ]
  },
  {
   "cell_type": "code",
   "execution_count": null,
   "metadata": {},
   "outputs": [],
   "source": [
    "# clothes = [[\"crow_mask\", \"face\"], [\"blue_sunglasses\", \"face\"], [\"smoky_makeup\", \"face\"]] -> 3\n",
    "\n",
    "# face에 해당하는 의상: crow_mask, blue_sunglasses, smoky_makeup\n",
    "\n",
    "# => 가능한 조합: 3가지\n",
    "# 1. crow_mask\n",
    "# 2. blue_sunglasses\n",
    "# 3. smoky_makeup"
   ]
  },
  {
   "attachments": {},
   "cell_type": "markdown",
   "metadata": {},
   "source": [
    "## 2022/12/26"
   ]
  },
  {
   "cell_type": "code",
   "execution_count": null,
   "metadata": {},
   "outputs": [],
   "source": [
    "## 의사코드 ##\n",
    "\n",
    "# clothes의 각 행은 [의상의 이름, 의상의 종류]\n",
    "# -> 해시를 dict로 생성해서 key: 의상 종류, value: 의상 이름\n",
    "\n",
    "# 하루에 딱 하나의 의상을 입는 경우부터 세는 거니까 모든 경우의 수 구하기\n",
    "# 모든 의상 종류를 안 입는 경우인 한 가지 빼기"
   ]
  },
  {
   "cell_type": "code",
   "execution_count": 7,
   "metadata": {},
   "outputs": [
    {
     "name": "stdout",
     "output_type": "stream",
     "text": [
      "{'headgear': 'yellow_hat'}\n",
      "{'headgear': 'yellow_hat', 'eyewear': 'blue_sunglasses'}\n",
      "{'headgear': 'green_turban', 'eyewear': 'blue_sunglasses'}\n"
     ]
    }
   ],
   "source": [
    "clothes = [[\"yellow_hat\", \"headgear\"], [\"blue_sunglasses\", \"eyewear\"], [\"green_turban\", \"headgear\"]]\n",
    "h = dict()\n",
    "\n",
    "for c in clothes:\n",
    "    h[c[1]] = c[0]\n",
    "    print(h)"
   ]
  },
  {
   "cell_type": "code",
   "execution_count": null,
   "metadata": {},
   "outputs": [],
   "source": [
    "# -> key 값인 의상 종류가 중복되면 나중에 추가된 원소만 남음\n",
    "# => 의상 이름(value)을 리스트로 추가"
   ]
  },
  {
   "cell_type": "code",
   "execution_count": 14,
   "metadata": {},
   "outputs": [
    {
     "name": "stdout",
     "output_type": "stream",
     "text": [
      "defaultdict(<class 'list'>, {'headgear': ['yellow_hat', 'green_turban'], 'eyewear': ['blue_sunglasses']})\n"
     ]
    }
   ],
   "source": [
    "# defaultdict 활용\n",
    "\n",
    "clothes = [[\"yellow_hat\", \"headgear\"], [\"blue_sunglasses\", \"eyewear\"], [\"green_turban\", \"headgear\"]]\n",
    "\n",
    "from collections import defaultdict\n",
    "closet = defaultdict(list)\n",
    "\n",
    "for name, category in clothes:\n",
    "    closet[category].append(name)\n",
    "\n",
    "print(closet)"
   ]
  },
  {
   "cell_type": "code",
   "execution_count": 13,
   "metadata": {},
   "outputs": [
    {
     "name": "stdout",
     "output_type": "stream",
     "text": [
      "{'headgear': ['yellow_hat', 'green_turban'], 'eyewear': ['blue_sunglasses']}\n"
     ]
    }
   ],
   "source": [
    "# defaultdict 없이 value에 리스트 추가\n",
    "\n",
    "clothes = [[\"yellow_hat\", \"headgear\"], [\"blue_sunglasses\", \"eyewear\"], [\"green_turban\", \"headgear\"]]\n",
    "\n",
    "closet = dict()\n",
    "\n",
    "for name, category in clothes:\n",
    "    if category in closet:\n",
    "        closet[category].append(name)\n",
    "    else:\n",
    "        closet[category] = [name]\n",
    "\n",
    "print(closet)"
   ]
  },
  {
   "attachments": {},
   "cell_type": "markdown",
   "metadata": {},
   "source": [
    "### 통과)"
   ]
  },
  {
   "cell_type": "code",
   "execution_count": 32,
   "metadata": {},
   "outputs": [],
   "source": [
    "from collections import defaultdict\n",
    "\n",
    "def solution(clothes):\n",
    "    #answer = 0\n",
    "    answer = 1\n",
    "    closet = defaultdict(list) # 해시 생성\n",
    "\n",
    "    # 해시에 데이터 삽입 -> {의상 종류: [의상 이름1, 의상 이름2, ...], 의상 종류: [의상 이름1, 의상 이름2, ...], ...}\n",
    "    for name, category in clothes:\n",
    "        closet[category].append(name)\n",
    "\n",
    "    # 조합 구하기\n",
    "    for k in closet.keys():\n",
    "        answer = answer * (len(closet[k]) + 1) # 의상 종류별로 (의상의 개수 + 1)을 곱해서 모든 경우의 수를 구함\n",
    "\n",
    "    return answer - 1 # 모두 안 입는 경우는 빼기"
   ]
  },
  {
   "cell_type": "code",
   "execution_count": 33,
   "metadata": {},
   "outputs": [
    {
     "data": {
      "text/plain": [
       "5"
      ]
     },
     "execution_count": 33,
     "metadata": {},
     "output_type": "execute_result"
    }
   ],
   "source": [
    "clothes = [[\"yellow_hat\", \"headgear\"], [\"blue_sunglasses\", \"eyewear\"], [\"green_turban\", \"headgear\"]]\n",
    "solution(clothes)"
   ]
  },
  {
   "cell_type": "code",
   "execution_count": 34,
   "metadata": {},
   "outputs": [
    {
     "data": {
      "text/plain": [
       "3"
      ]
     },
     "execution_count": 34,
     "metadata": {},
     "output_type": "execute_result"
    }
   ],
   "source": [
    "clothes = [[\"crow_mask\", \"face\"], [\"blue_sunglasses\", \"face\"], [\"smoky_makeup\", \"face\"]]\n",
    "solution(clothes)"
   ]
  },
  {
   "cell_type": "code",
   "execution_count": null,
   "metadata": {},
   "outputs": [],
   "source": [
    "# 과정 확인"
   ]
  },
  {
   "cell_type": "code",
   "execution_count": 41,
   "metadata": {},
   "outputs": [],
   "source": [
    "from collections import defaultdict\n",
    "\n",
    "def solution(clothes):\n",
    "    #answer = 0\n",
    "    answer = 1\n",
    "    closet = defaultdict(list) # 해시 생성\n",
    "\n",
    "    # 해시에 데이터 삽입 -> {의상 종류: [의상 이름1, 의상 이름2, ...], 의상 종류: [의상 이름1, 의상 이름2, ...], ...}\n",
    "    for name, category in clothes:\n",
    "        closet[category].append(name)\n",
    "    print('closet:', closet)\n",
    "\n",
    "    # 조합 구하기\n",
    "    for k in closet.keys():\n",
    "        print('k:', k)\n",
    "        print('closet[k]:', closet[k])\n",
    "        answer = answer * (len(closet[k]) + 1)\n",
    "        print('answer:', answer, '\\n')\n",
    "\n",
    "    return answer - 1 # 모두 안 입는 경우는 빼기"
   ]
  },
  {
   "cell_type": "code",
   "execution_count": 42,
   "metadata": {},
   "outputs": [
    {
     "name": "stdout",
     "output_type": "stream",
     "text": [
      "closet: defaultdict(<class 'list'>, {'face': ['crow_mask', 'blue_sunglasses', 'smoky_makeup']})\n",
      "k: face\n",
      "closet[k]: ['crow_mask', 'blue_sunglasses', 'smoky_makeup']\n",
      "answer: 4 \n",
      "\n"
     ]
    },
    {
     "data": {
      "text/plain": [
       "3"
      ]
     },
     "execution_count": 42,
     "metadata": {},
     "output_type": "execute_result"
    }
   ],
   "source": [
    "clothes = [[\"crow_mask\", \"face\"], [\"blue_sunglasses\", \"face\"], [\"smoky_makeup\", \"face\"]]\n",
    "solution(clothes)"
   ]
  },
  {
   "cell_type": "code",
   "execution_count": 43,
   "metadata": {},
   "outputs": [
    {
     "name": "stdout",
     "output_type": "stream",
     "text": [
      "closet: defaultdict(<class 'list'>, {'headgear': ['yellow_hat', 'green_turban'], 'eyewear': ['blue_sunglasses']})\n",
      "k: headgear\n",
      "closet[k]: ['yellow_hat', 'green_turban']\n",
      "answer: 3 \n",
      "\n",
      "k: eyewear\n",
      "closet[k]: ['blue_sunglasses']\n",
      "answer: 6 \n",
      "\n"
     ]
    },
    {
     "data": {
      "text/plain": [
       "5"
      ]
     },
     "execution_count": 43,
     "metadata": {},
     "output_type": "execute_result"
    }
   ],
   "source": [
    "clothes = [[\"yellow_hat\", \"headgear\"], [\"blue_sunglasses\", \"eyewear\"], [\"green_turban\", \"headgear\"]]\n",
    "solution(clothes)"
   ]
  }
 ],
 "metadata": {
  "kernelspec": {
   "display_name": "base",
   "language": "python",
   "name": "python3"
  },
  "language_info": {
   "codemirror_mode": {
    "name": "ipython",
    "version": 3
   },
   "file_extension": ".py",
   "mimetype": "text/x-python",
   "name": "python",
   "nbconvert_exporter": "python",
   "pygments_lexer": "ipython3",
   "version": "3.9.7"
  },
  "orig_nbformat": 4,
  "vscode": {
   "interpreter": {
    "hash": "023ab38ef701cca529efce9465407c28b5ba779ced3f1a89865b89edb313b240"
   }
  }
 },
 "nbformat": 4,
 "nbformat_minor": 2
}

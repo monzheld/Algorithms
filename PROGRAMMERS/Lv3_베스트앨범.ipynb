{
 "cells": [
  {
   "attachments": {},
   "cell_type": "markdown",
   "metadata": {},
   "source": [
    "[문제](https://school.programmers.co.kr/learn/courses/30/lessons/42579)"
   ]
  },
  {
   "attachments": {},
   "cell_type": "markdown",
   "metadata": {},
   "source": [
    "### 해시"
   ]
  },
  {
   "attachments": {},
   "cell_type": "markdown",
   "metadata": {},
   "source": [
    "- **장르 별로 가장 많이 재생된 노래를 두 개씩 모아 베스트 앨범**을 출시하려 함\n",
    "- 노래는 고유 번호로 구분하며, 노래를 수록하는 기준은 다음과 같음\n",
    "    - 1) 속한 노래가 많이 재생된 **장르를 먼저** 수록\n",
    "    - 2) **장르 내에서 많이 재생된 노래를 먼저** 수록\n",
    "    - 3) 장르 내에서 **재생 횟수가 같은 노래 중에서는 고유 번호가 낮은 노래를 먼저** 수록\n",
    "- genres: 노래의 장르를 나타내는 문자열 배열\n",
    "- plays: 노래별 재생 횟수를 나타내는 정수 배열\n",
    "- **베스트 앨범에 들어갈 노래의 고유 번호를 순서대로** return"
   ]
  },
  {
   "attachments": {},
   "cell_type": "markdown",
   "metadata": {},
   "source": [
    "**제한사항**\n",
    "\n",
    "- genres[i]는 고유번호가 i인 노래의 장르\n",
    "- plays[i]는 고유번호가 i인 노래가 재생된 횟수\n",
    "- genres와 plays의 길이는 같으며, 이는 1 이상 10,000 이하\n",
    "- 장르 종류는 100개 미만\n",
    "- **장르에 속한 곡이 하나라면, 하나의 곡만 선택**\n",
    "- 모든 장르는 재생된 횟수가 다름"
   ]
  },
  {
   "cell_type": "code",
   "execution_count": null,
   "metadata": {},
   "outputs": [],
   "source": [
    "\"\"\"\n",
    "입출력 예시)\n",
    "\n",
    "genres = [\"classic\", \"pop\", \"classic\", \"classic\", \"pop\"], plays = [500, 600, 150, 800, 2500] -> [4, 1, 3, 0]\n",
    "\"\"\""
   ]
  },
  {
   "cell_type": "code",
   "execution_count": null,
   "metadata": {},
   "outputs": [],
   "source": [
    "# genres = [\"classic\", \"pop\", \"classic\", \"classic\", \"pop\"], plays = [500, 600, 150, 800, 2500] -> [4, 1, 3, 0]\n",
    "\n",
    "# classic 장르는 1,450회 재생되었으며, classic 노래는 아래와 같음\n",
    "#     - 고유 번호 3: 800회 재생\n",
    "#     - 고유 번호 0: 500회 재생\n",
    "#     - 고유 번호 2: 150회 재생\n",
    "\n",
    "# pop 장르는 3,100회 재생되었으며, pop 노래는 아래와 같음\n",
    "#     - 고유 번호 4: 2,500회 재생\n",
    "#     - 고유 번호 1: 600회 재생\n",
    "\n",
    "# -> pop 장르의 [4, 1]번 노래를 먼저, classic 장르의 [3, 0]번 노래를 그다음에 수록\n",
    "# (장르 별로 가장 많이 재생된 노래를 최대 두 개까지 모아 베스트 앨범을 출시하므로 pop 장르의 2번 노래는 수록되지 x)\n",
    "\n",
    "# => [4, 1, 3, 0]"
   ]
  },
  {
   "attachments": {},
   "cell_type": "markdown",
   "metadata": {},
   "source": [
    "## 2023/01/09"
   ]
  },
  {
   "cell_type": "code",
   "execution_count": null,
   "metadata": {},
   "outputs": [],
   "source": [
    "## 의사코드 ##\n",
    "\n",
    "# 노래의 고유 번호 -> index\n",
    "\n",
    "# 해시 -> dict()\n",
    "# 장르별 노래의 고유 번호와 재생 횟수를 담을 genre_dict = defaultdict(list)\n",
    "# 장르별 총 재생 횟수를 담을 total_play = defaultdict(lambda:0)\n",
    "\n",
    "# for i, (g, p) in enumerate(zip(genres, plays)):\n",
    "# 먼저, 장르를 dict의 key로, value는 [(노래의 고유 번호(i), plays[i])]로 설정\n",
    "    # genre_dict[g].append((i, p))\n",
    "# 장르별로 총 재생 횟수를 구함\n",
    "    # total_play[g] += p\n",
    "\n",
    "# 장르별 총 재생 횟수가 높은 순으로 장르를 정렬\n",
    "# 장르 내에서 재생 횟수가 높은 노래를 2개까지 선택해서 answer에 append\n",
    "#   (장르에 속한 곡이 1개인 경우 -> 곡 1개만 선택)\n",
    "#   (재생 횟수가 같은 노래들이 있으면 고유 번호(index)가 낮은 노래부터 선택)"
   ]
  },
  {
   "attachments": {},
   "cell_type": "markdown",
   "metadata": {},
   "source": [
    "### 통과)"
   ]
  },
  {
   "cell_type": "code",
   "execution_count": 79,
   "metadata": {},
   "outputs": [],
   "source": [
    "from collections import defaultdict\n",
    "def solution(genres, plays):\n",
    "    answer = []\n",
    "    genre_dict = defaultdict(list) # 장르별 노래의 고유 번호와 재생 횟수를 담은 딕셔너리\n",
    "    total_play = defaultdict(lambda:0) # 장르별 총 재생 횟수를 담은 딕셔너리\n",
    "    \n",
    "    for i, (g, p) in enumerate(zip(genres, plays)):\n",
    "        genre_dict[g].append((i, p)) # {genre1: [(노래의 고유 번호(i), plays[i]), ...], genre2: [(노래의 고유 번호(i), plays[i]), ...], ...}\n",
    "        total_play[g] += p # {genre1: 총 재생 횟수, genre2: 총 재생 횟수, ...}\n",
    "\n",
    "    # 장르별 총 재생 횟수가 높은 순으로 장르를 정렬    \n",
    "    for k, v in sorted(total_play.items(), key=lambda x:x[1], reverse=True):\n",
    "        # 정렬된 장르의 순서대로 장르 내에서 재생 횟수가 높은 노래를 2개까지 선택\n",
    "        for i, p in sorted(genre_dict[k], key=lambda x:x[1], reverse=True)[:2]:\n",
    "            answer.append(i)\n",
    "\n",
    "    return answer"
   ]
  },
  {
   "cell_type": "code",
   "execution_count": 80,
   "metadata": {},
   "outputs": [
    {
     "data": {
      "text/plain": [
       "[4, 1, 3, 0]"
      ]
     },
     "execution_count": 80,
     "metadata": {},
     "output_type": "execute_result"
    }
   ],
   "source": [
    "genres = [\"classic\", \"pop\", \"classic\", \"classic\", \"pop\"]\n",
    "plays = [500, 600, 150, 800, 2500]\n",
    "solution(genres, plays)"
   ]
  },
  {
   "cell_type": "code",
   "execution_count": 83,
   "metadata": {},
   "outputs": [
    {
     "name": "stdout",
     "output_type": "stream",
     "text": [
      "[(3, 800), (0, 500), (5, 500), (2, 150)]\n"
     ]
    }
   ],
   "source": [
    "# 장르 내에서 재생 횟수가 같은 노래 중에서 고유 번호가 낮은 노래가 먼저 수록되는지 테스트\n",
    "from collections import defaultdict \n",
    "genres = [\"classic\", \"pop\", \"classic\", \"classic\", \"pop\", \"classic\"]\n",
    "plays = [500, 600, 150, 800, 2500, 500]\n",
    "\n",
    "genre_dict = defaultdict(list)\n",
    "total_play = defaultdict(lambda:0)\n",
    "\n",
    "for i, (g, p) in enumerate(zip(genres, plays)):\n",
    "    genre_dict[g].append((i, p))\n",
    "    total_play[g] += p\n",
    "\n",
    "print(sorted(genre_dict['classic'], key=lambda x: x[1], reverse=True))"
   ]
  },
  {
   "attachments": {},
   "cell_type": "markdown",
   "metadata": {},
   "source": [
    "-> 장르 내에서 재생 횟수가 같은 노래 중에서 고유 번호가 낮은 노래부터 정렬됨"
   ]
  }
 ],
 "metadata": {
  "kernelspec": {
   "display_name": "base",
   "language": "python",
   "name": "python3"
  },
  "language_info": {
   "codemirror_mode": {
    "name": "ipython",
    "version": 3
   },
   "file_extension": ".py",
   "mimetype": "text/x-python",
   "name": "python",
   "nbconvert_exporter": "python",
   "pygments_lexer": "ipython3",
   "version": "3.9.7"
  },
  "orig_nbformat": 4,
  "vscode": {
   "interpreter": {
    "hash": "023ab38ef701cca529efce9465407c28b5ba779ced3f1a89865b89edb313b240"
   }
  }
 },
 "nbformat": 4,
 "nbformat_minor": 2
}

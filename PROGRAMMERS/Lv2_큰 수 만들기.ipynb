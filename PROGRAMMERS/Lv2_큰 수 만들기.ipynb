{
 "cells": [
  {
   "attachments": {},
   "cell_type": "markdown",
   "metadata": {},
   "source": [
    "[문제](https://school.programmers.co.kr/learn/courses/30/lessons/42883)"
   ]
  },
  {
   "attachments": {},
   "cell_type": "markdown",
   "metadata": {},
   "source": [
    "### 탐욕(Greedy)"
   ]
  },
  {
   "attachments": {},
   "cell_type": "markdown",
   "metadata": {},
   "source": [
    "- 어떤 숫자에서 k개의 수를 제거했을 때 얻을 수 있는 가장 큰 숫자 구하기\n",
    "- ex) 숫자 1924에서 수 두 개를 제거하면 [19, 12, 14, 92, 94, 24] 를 만들 수 있음\n",
    "    - 이 중 가장 큰 숫자는 94\n",
    "- number: 문자열 형식인 숫자\n",
    "- k: 제거할 수의 개수\n",
    "- number에서 **k 개의 수를 제거했을 때 만들 수 있는 수 중 가장 큰 숫자를 문자열 형태**로 return"
   ]
  },
  {
   "attachments": {},
   "cell_type": "markdown",
   "metadata": {},
   "source": [
    "**제한 조건**\n",
    "\n",
    "- number는 2자리 이상, 1,000,000자리 이하인 숫자\n",
    "- k는 1 이상 number의 자릿수 미만인 자연수"
   ]
  },
  {
   "cell_type": "code",
   "execution_count": null,
   "metadata": {},
   "outputs": [],
   "source": [
    "\"\"\"\n",
    "입출력 예시)\n",
    "\n",
    "number = \"1924\", k = 2 -> \"94\"\n",
    "number = \"1231234\", k = 3 -> \"3234\"\n",
    "number = \"4177252841\", k = 4 -> \"775841\"\n",
    "\"\"\""
   ]
  },
  {
   "attachments": {},
   "cell_type": "markdown",
   "metadata": {},
   "source": [
    "## 2023/01/25"
   ]
  },
  {
   "cell_type": "code",
   "execution_count": null,
   "metadata": {},
   "outputs": [],
   "source": [
    "## 의사코드 ## \n",
    "\n",
    "# number에서 k개의 수를 제거했을 때 나올 수 있는 경우 구하기\n",
    "# combinations(number, len(number)-k))\n",
    "\n",
    "# combinations로 구한 값들 중 max()를 문자열 형태로 return "
   ]
  },
  {
   "attachments": {},
   "cell_type": "markdown",
   "metadata": {},
   "source": [
    "### 1) "
   ]
  },
  {
   "cell_type": "code",
   "execution_count": null,
   "metadata": {},
   "outputs": [],
   "source": [
    "from itertools import combinations\n",
    "def solution(number, k):\n",
    "    #answer = ''\n",
    "    numbers = list(map(int, number))\n",
    "    # number에서 k개의 수를 제거했을 때 만들 수 있는 조합\n",
    "    combi = list(combinations(numbers, len(number)-k)) \n",
    "    max_n = map(str, max(combi))\n",
    "    return ''.join(max_n)"
   ]
  },
  {
   "attachments": {},
   "cell_type": "markdown",
   "metadata": {},
   "source": [
    "-> combinations로 조합 구현"
   ]
  },
  {
   "attachments": {},
   "cell_type": "markdown",
   "metadata": {},
   "source": [
    "-> 추가 테스트 케이스 실패 (시간 초과) "
   ]
  },
  {
   "attachments": {},
   "cell_type": "markdown",
   "metadata": {},
   "source": [
    "### 2) "
   ]
  },
  {
   "cell_type": "code",
   "execution_count": 1,
   "metadata": {},
   "outputs": [],
   "source": [
    "def solution(number, k):\n",
    "    #answer = ''\n",
    "    numbers = list(number)\n",
    "    n = len(numbers)\n",
    "    r = len(number) - k # number에서 k개의 수를 제거한 숫자의 길이\n",
    "    combi = [] # number에서 k개의 수를 제거했을 때 만들 수 있는 조합\n",
    "    # DFS 수행\n",
    "    def dfs(idx, li):\n",
    "        if len(li) == r:\n",
    "            combi.append(li[:])\n",
    "            return \n",
    "        for i in range(idx, n):\n",
    "            dfs(i+1, li+[numbers[i]])\n",
    "    \n",
    "    dfs(0, [])\n",
    "\n",
    "    return ''.join(max(combi))"
   ]
  },
  {
   "attachments": {},
   "cell_type": "markdown",
   "metadata": {},
   "source": [
    "-> DFS로 조합 구현"
   ]
  },
  {
   "attachments": {},
   "cell_type": "markdown",
   "metadata": {},
   "source": [
    "-> 추가 테스트 케이스 실패 (시간 초과, 런타임 에러) "
   ]
  },
  {
   "cell_type": "code",
   "execution_count": 2,
   "metadata": {},
   "outputs": [
    {
     "data": {
      "text/plain": [
       "'3234'"
      ]
     },
     "execution_count": 2,
     "metadata": {},
     "output_type": "execute_result"
    }
   ],
   "source": [
    "number = \"1231234\"\n",
    "k = 3\n",
    "solution(number, k)"
   ]
  },
  {
   "attachments": {},
   "cell_type": "markdown",
   "metadata": {},
   "source": [
    "### 통과)"
   ]
  },
  {
   "cell_type": "code",
   "execution_count": 7,
   "metadata": {},
   "outputs": [],
   "source": [
    "def solution(number, k):\n",
    "    #answer = ''\n",
    "    stack = []\n",
    "    for num in number:\n",
    "        if len(stack) == 0:\n",
    "            stack.append(num)\n",
    "            continue\n",
    "        if k > 0: \n",
    "            while stack[-1] < num:\n",
    "                stack.pop() # stack[-1]을 꺼냄\n",
    "                k -= 1\n",
    "                if len(stack) == 0 or k <= 0:\n",
    "                    break \n",
    "        stack.append(num)\n",
    "\n",
    "    stack = stack[:-k] if k > 0 else stack \n",
    "    return ''.join(stack)"
   ]
  },
  {
   "attachments": {},
   "cell_type": "markdown",
   "metadata": {},
   "source": [
    "-> stack 활용, 앞자리에 큰 숫자가 와야 전체 수를 크게 만들 수 있다는 점 활용"
   ]
  },
  {
   "cell_type": "code",
   "execution_count": 8,
   "metadata": {},
   "outputs": [
    {
     "data": {
      "text/plain": [
       "'3234'"
      ]
     },
     "execution_count": 8,
     "metadata": {},
     "output_type": "execute_result"
    }
   ],
   "source": [
    "number = \"1231234\"\n",
    "k = 3\n",
    "solution(number, k)"
   ]
  },
  {
   "cell_type": "code",
   "execution_count": null,
   "metadata": {},
   "outputs": [],
   "source": [
    "# 과정 확인"
   ]
  },
  {
   "cell_type": "code",
   "execution_count": 32,
   "metadata": {},
   "outputs": [],
   "source": [
    "def solution(number, k):\n",
    "    #answer = ''\n",
    "    stack = []\n",
    "    print(f'k = {k}일 때', '\\n')\n",
    "    for num in number:\n",
    "        print('num:', num)\n",
    "        if len(stack) == 0:\n",
    "            stack.append(num)\n",
    "            print('stack:', stack, '\\n')\n",
    "            continue\n",
    "        if k > 0: \n",
    "            print('k:', k)\n",
    "            print('stack:', stack)\n",
    "            print('stack[-1]:', stack[-1])\n",
    "            print(f'stack[-1](={stack[-1]}) vs num(={num})')\n",
    "            while stack[-1] < num:\n",
    "                print('stack[-1] < num 인 경우')\n",
    "                stack.pop()\n",
    "                k -= 1\n",
    "                print('pop한 stack:', stack)\n",
    "                if len(stack) == 0 or k <= 0:\n",
    "                    break \n",
    "        print('k:', k)\n",
    "        stack.append(num)\n",
    "        print('stack.append(num):', stack, '\\n')\n",
    "        print()\n",
    "\n",
    "    print('stack:', stack)\n",
    "    stack = stack[:-k] if k > 0 else stack \n",
    "    print('stack[:-k]:', stack)\n",
    "    return ''.join(stack)"
   ]
  },
  {
   "cell_type": "code",
   "execution_count": 33,
   "metadata": {},
   "outputs": [
    {
     "name": "stdout",
     "output_type": "stream",
     "text": [
      "k = 3일 때 \n",
      "\n",
      "num: 1\n",
      "stack: ['1'] \n",
      "\n",
      "num: 2\n",
      "k: 3\n",
      "stack: ['1']\n",
      "stack[-1]: 1\n",
      "stack[-1](=1) vs num(=2)\n",
      "stack[-1] < num 인 경우\n",
      "pop한 stack: []\n",
      "k: 2\n",
      "stack.append(num): ['2'] \n",
      "\n",
      "\n",
      "num: 3\n",
      "k: 2\n",
      "stack: ['2']\n",
      "stack[-1]: 2\n",
      "stack[-1](=2) vs num(=3)\n",
      "stack[-1] < num 인 경우\n",
      "pop한 stack: []\n",
      "k: 1\n",
      "stack.append(num): ['3'] \n",
      "\n",
      "\n",
      "num: 1\n",
      "k: 1\n",
      "stack: ['3']\n",
      "stack[-1]: 3\n",
      "stack[-1](=3) vs num(=1)\n",
      "k: 1\n",
      "stack.append(num): ['3', '1'] \n",
      "\n",
      "\n",
      "num: 2\n",
      "k: 1\n",
      "stack: ['3', '1']\n",
      "stack[-1]: 1\n",
      "stack[-1](=1) vs num(=2)\n",
      "stack[-1] < num 인 경우\n",
      "pop한 stack: ['3']\n",
      "k: 0\n",
      "stack.append(num): ['3', '2'] \n",
      "\n",
      "\n",
      "num: 3\n",
      "k: 0\n",
      "stack.append(num): ['3', '2', '3'] \n",
      "\n",
      "\n",
      "num: 4\n",
      "k: 0\n",
      "stack.append(num): ['3', '2', '3', '4'] \n",
      "\n",
      "\n",
      "stack: ['3', '2', '3', '4']\n",
      "stack[:-k]: ['3', '2', '3', '4']\n"
     ]
    },
    {
     "data": {
      "text/plain": [
       "'3234'"
      ]
     },
     "execution_count": 33,
     "metadata": {},
     "output_type": "execute_result"
    }
   ],
   "source": [
    "number = \"1231234\"\n",
    "k = 3\n",
    "solution(number, k)"
   ]
  },
  {
   "attachments": {},
   "cell_type": "markdown",
   "metadata": {},
   "source": [
    "### 다른 풀이"
   ]
  },
  {
   "cell_type": "code",
   "execution_count": null,
   "metadata": {},
   "outputs": [],
   "source": [
    "def solution(number, k):\n",
    "    answer = [] # Stack\n",
    "    \n",
    "    for num in number:\n",
    "        while k > 0 and answer and answer[-1] < num:\n",
    "            answer.pop()\n",
    "            k -= 1\n",
    "        answer.append(num)\n",
    "        \n",
    "    return ''.join(answer[:len(answer) - k])"
   ]
  }
 ],
 "metadata": {
  "kernelspec": {
   "display_name": "cp2",
   "language": "python",
   "name": "python3"
  },
  "language_info": {
   "codemirror_mode": {
    "name": "ipython",
    "version": 3
   },
   "file_extension": ".py",
   "mimetype": "text/x-python",
   "name": "python",
   "nbconvert_exporter": "python",
   "pygments_lexer": "ipython3",
   "version": "3.9.12"
  },
  "orig_nbformat": 4,
  "vscode": {
   "interpreter": {
    "hash": "5ca59c31ddc1bb1d3e926feef50b5ca0d1eacb2093eee1a1a79c0269dbb49758"
   }
  }
 },
 "nbformat": 4,
 "nbformat_minor": 2
}

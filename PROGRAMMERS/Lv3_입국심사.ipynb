{
 "cells": [
  {
   "attachments": {},
   "cell_type": "markdown",
   "metadata": {},
   "source": [
    "[문제](https://school.programmers.co.kr/learn/courses/30/lessons/43238)"
   ]
  },
  {
   "attachments": {},
   "cell_type": "markdown",
   "metadata": {},
   "source": [
    "### 이분탐색"
   ]
  },
  {
   "attachments": {},
   "cell_type": "markdown",
   "metadata": {},
   "source": [
    "- n명이 입국심사를 위해 줄을 서서 기다리고 있음\n",
    "- 각 입국심사대에 있는 심사관마다 심사하는데 걸리는 시간은 다름\n",
    "- 처음에 모든 심사대는 비어있음\n",
    "- 한 심사대에서는 동시에 한 명만 심사 가능\n",
    "- **가장 앞에 서 있는 사람은 비어 있는 심사대**로 가서 심사를 받을 수 있음\n",
    "- 하지만 **더 빨리 끝나는 심사대가 있으면 기다렸다가 그곳으로 가서 심사를 받을 수도** 있음\n",
    "- 모든 사람이 심사를 받는데 걸리는 시간을 최소로 하고 싶음\n",
    "- 입국심사를 기다리는 사람 수 n, 각 심사관이 한 명을 심사하는데 걸리는 시간이 담긴 배열 times가 매개변수로 주어질 때, **모든 사람이 심사를 받는데 걸리는 시간의 최솟값**을 return"
   ]
  },
  {
   "attachments": {},
   "cell_type": "markdown",
   "metadata": {},
   "source": [
    "**제한사항**\n",
    "\n",
    "- 입국심사를 기다리는 사람은 1명 이상 1,000,000,000명 이하\n",
    "- 각 심사관이 한 명을 심사하는데 걸리는 시간은 1분 이상 1,000,000,000분 이하\n",
    "- 심사관은 1명 이상 100,000명 이하"
   ]
  },
  {
   "cell_type": "code",
   "execution_count": null,
   "metadata": {},
   "outputs": [],
   "source": [
    "\"\"\"\n",
    "입출력 예시)\n",
    "\n",
    "n = 6, times = [7, 10] -> 28\n",
    "\"\"\""
   ]
  },
  {
   "cell_type": "code",
   "execution_count": null,
   "metadata": {},
   "outputs": [],
   "source": [
    "# n = 6, times = [7, 10] -> 28\n",
    "\n",
    "# 가장 첫 두 사람은 바로 심사를 받으러 감\n",
    "# 7분이 되었을 때, 첫 번째 심사대가 비고 3번째 사람이 심사를 받음\n",
    "# 10분이 되었을 때, 두 번째 심사대가 비고 4번째 사람이 심사를 받음\n",
    "# 14분이 되었을 때, 첫 번째 심사대가 비고 5번째 사람이 심사를 받음\n",
    "# 20분이 되었을 때, 두 번째 심사대가 비지만 6번째 사람이 그곳에서 심사를 받지 않고 \n",
    "#    1분을 더 기다린 후에 첫 번째 심사대에서 심사를 받으면 28분에 모든 사람의 심사가 끝남"
   ]
  },
  {
   "cell_type": "code",
   "execution_count": null,
   "metadata": {},
   "outputs": [],
   "source": [
    "# 입출력 예시 해석 "
   ]
  },
  {
   "cell_type": "code",
   "execution_count": null,
   "metadata": {},
   "outputs": [],
   "source": [
    "      (입국심사대)\n",
    "      t1      t2\n",
    "    -----------------\n",
    "(시간)  사람(/끝나는 시간)\n",
    "\n",
    "     n1(/7)  n2(/10)\n",
    "7    n3(/14)    \n",
    "10           n4(/20)\n",
    "14   n5(/21)    \n",
    "20            | |  <- (n6이 t2로 간다면 시작 시간은 20분으로 더 빠르지만, 끝나는 시간이 30분이 됨)\n",
    "+ 1  n6(/28)  \n",
    "\n",
    "=> 최소 시간: 28분 "
   ]
  },
  {
   "attachments": {},
   "cell_type": "markdown",
   "metadata": {},
   "source": [
    "## 2023/04/13"
   ]
  },
  {
   "cell_type": "code",
   "execution_count": null,
   "metadata": {},
   "outputs": [],
   "source": [
    "## 의사 코드 ##\n",
    "\n",
    "# 탐색 범위가 100만 이상 -> 이분탐색 \n",
    "\n",
    "# 모든 사람이 심사를 받는데 걸리는 시간을 최소화하려면 시간이 적게 걸리는 심사대에서 최대한 많은 심사를 진행해야 함\n",
    "\n",
    "# 심사에 걸리는 시간을 이분탐색\n",
    "\n",
    "# 1) left = 1, right = 가장 오래 걸리는 최악의 심사 시간 -> max(times) * n\n",
    "\n",
    "# 2) 현재 탐색하는 시간(mid)동안 심사가 가능한지 판단\n",
    "#     mid = (left + rigth) // 2\n",
    "\n",
    "# 3) <현재 심사 가능한 인원수> 구하기\n",
    "#     for time in times:\n",
    "#         total += mid // time \n",
    "\n",
    "# 4) <현재 심사 가능한 인원수(total)>가 [심사해야 하는 인원수(n)]보다 많으면 현재 탐색한 시간(mid)보다 아래에서 다시 찾음\n",
    "#     -> 시간을 너무 여유있게 잡았기 때문에 심사에 걸리는 시간을 줄이기\n",
    "\n",
    "# 5) <현재 심사 가능한 인원수(total)>가 [심사해야 하는 인원수(n)]보다 적으면 현재 탐색한 시간(mid)보다 위에서 다시 찾음\n",
    "#     -> 시간을 너무 짧게 잡았기 때문에 심사에 걸리는 시간 늘리기"
   ]
  },
  {
   "attachments": {},
   "cell_type": "markdown",
   "metadata": {},
   "source": [
    "### 통과) "
   ]
  },
  {
   "cell_type": "code",
   "execution_count": 36,
   "metadata": {},
   "outputs": [],
   "source": [
    "def solution(n, times):\n",
    "    # left: 최소 시간 = 1분\n",
    "    # right: 최악의 시간 = max(times) * n \n",
    "    left, right = 1, max(times) * n\n",
    "    while left <= right:\n",
    "        # 현재 탐색하는 시간 \n",
    "        mid = (left + right) // 2\n",
    "        # 현재 심사 가능한 인원수 \n",
    "        total = 0\n",
    "        for time in times:\n",
    "            # 현재 심사 가능한 인원수 => 모든 심사관이 mid분 동안 심사한 사람의 수 \n",
    "            total += mid // time \n",
    "            # 모든 심사관을 거치지 않아도 mid분 동안 n명 이상 심사할 수 있다면 break \n",
    "            if total >= n:\n",
    "                break \n",
    "        # <현재 심사 가능한 인원수(total)>가 [심사해야 하는 인원수(n)]보다 같거나 많으면 현재 탐색한 시간(mid)보다 아래에서 다시 탐색\n",
    "        if total >= n:\n",
    "            right = mid - 1\n",
    "        # <현재 심사 가능한 인원수(total)>가 [심사해야 하는 인원수(n)]보다 적으면 현재 탐색한 시간(mid)보다 위에서 다시 탐색 \n",
    "        elif total < n:\n",
    "            left = mid + 1\n",
    "    return left"
   ]
  },
  {
   "cell_type": "code",
   "execution_count": 37,
   "metadata": {},
   "outputs": [
    {
     "data": {
      "text/plain": [
       "28"
      ]
     },
     "execution_count": 37,
     "metadata": {},
     "output_type": "execute_result"
    }
   ],
   "source": [
    "n = 6\n",
    "times = [7, 10]\n",
    "solution(n, times)"
   ]
  },
  {
   "cell_type": "code",
   "execution_count": null,
   "metadata": {},
   "outputs": [],
   "source": [
    "# 과정 확인 "
   ]
  },
  {
   "cell_type": "code",
   "execution_count": 38,
   "metadata": {},
   "outputs": [],
   "source": [
    "def solution(n, times):\n",
    "    # left: 최소 시간 = 1분\n",
    "    # right: 최악의 시간 = max(times) * n \n",
    "    left, right = 1, max(times) * n\n",
    "    while left <= right:\n",
    "        print(f'left: {left}, right: {right}')\n",
    "        # 현재 탐색하는 시간 \n",
    "        mid = (left + right) // 2\n",
    "        print('현재 탐색하는 시간(mid):', mid, '\\n')\n",
    "        # 현재 심사 가능한 인원수 \n",
    "        total = 0\n",
    "        for time in times:\n",
    "            # 현재 심사 가능한 인원수 => 모든 심사관이 mid분 동안 심사한 사람의 수 \n",
    "            print(f'time: {time}, 현재 total: 이전 total ({total}) + mid // time ({mid // time}) = {total + mid // time}')\n",
    "            total += mid // time \n",
    "            # 모든 심사관을 거치지 않아도 mid분 동안 n명 이상 심사할 수 있다면 break \n",
    "            if total >= n:\n",
    "                break \n",
    "        print()\n",
    "        print('현재 심사 가능한 최종 인원수(total):', total, '\\n')\n",
    "        # <현재 심사 가능한 인원수(total)>가 [심사해야 하는 인원수(n)]보다 같거나 많으면 현재 탐색한 시간(mid)보다 아래에서 다시 탐색\n",
    "        if total >= n:\n",
    "            right = mid - 1\n",
    "            print('<현재 심사 가능한 인원수(total)>가 [심사해야 하는 인원수(n)]보다 같거나 많은 경우')\n",
    "            print(f'갱신된 right: (mid - 1) = {right}')\n",
    "        # <현재 심사 가능한 인원수(total)>가 [심사해야 하는 인원수(n)]보다 적으면 현재 탐색한 시간(mid)보다 위에서 다시 탐색 \n",
    "        elif total < n:\n",
    "            left = mid + 1\n",
    "            print('<현재 심사 가능한 인원수(total)>가 [심사해야 하는 인원수(n)]보다 적은 경우')\n",
    "            print(f'갱신된 left: (mid + 1) = {left}')\n",
    "        print('-'*30)\n",
    "    return left"
   ]
  },
  {
   "cell_type": "code",
   "execution_count": 39,
   "metadata": {},
   "outputs": [
    {
     "name": "stdout",
     "output_type": "stream",
     "text": [
      "left: 1, right: 60\n",
      "현재 탐색하는 시간(mid): 30 \n",
      "\n",
      "time: 7, 현재 total: 이전 total (0) + mid // time (4) = 4\n",
      "time: 10, 현재 total: 이전 total (4) + mid // time (3) = 7\n",
      "\n",
      "현재 심사 가능한 최종 인원수(total): 7 \n",
      "\n",
      "<현재 심사 가능한 인원수(total)>가 [심사해야 하는 인원수(n)]보다 같거나 많은 경우\n",
      "갱신된 right: (mid - 1) = 29\n",
      "------------------------------\n",
      "left: 1, right: 29\n",
      "현재 탐색하는 시간(mid): 15 \n",
      "\n",
      "time: 7, 현재 total: 이전 total (0) + mid // time (2) = 2\n",
      "time: 10, 현재 total: 이전 total (2) + mid // time (1) = 3\n",
      "\n",
      "현재 심사 가능한 최종 인원수(total): 3 \n",
      "\n",
      "<현재 심사 가능한 인원수(total)>가 [심사해야 하는 인원수(n)]보다 적은 경우\n",
      "갱신된 left: (mid + 1) = 16\n",
      "------------------------------\n",
      "left: 16, right: 29\n",
      "현재 탐색하는 시간(mid): 22 \n",
      "\n",
      "time: 7, 현재 total: 이전 total (0) + mid // time (3) = 3\n",
      "time: 10, 현재 total: 이전 total (3) + mid // time (2) = 5\n",
      "\n",
      "현재 심사 가능한 최종 인원수(total): 5 \n",
      "\n",
      "<현재 심사 가능한 인원수(total)>가 [심사해야 하는 인원수(n)]보다 적은 경우\n",
      "갱신된 left: (mid + 1) = 23\n",
      "------------------------------\n",
      "left: 23, right: 29\n",
      "현재 탐색하는 시간(mid): 26 \n",
      "\n",
      "time: 7, 현재 total: 이전 total (0) + mid // time (3) = 3\n",
      "time: 10, 현재 total: 이전 total (3) + mid // time (2) = 5\n",
      "\n",
      "현재 심사 가능한 최종 인원수(total): 5 \n",
      "\n",
      "<현재 심사 가능한 인원수(total)>가 [심사해야 하는 인원수(n)]보다 적은 경우\n",
      "갱신된 left: (mid + 1) = 27\n",
      "------------------------------\n",
      "left: 27, right: 29\n",
      "현재 탐색하는 시간(mid): 28 \n",
      "\n",
      "time: 7, 현재 total: 이전 total (0) + mid // time (4) = 4\n",
      "time: 10, 현재 total: 이전 total (4) + mid // time (2) = 6\n",
      "\n",
      "현재 심사 가능한 최종 인원수(total): 6 \n",
      "\n",
      "<현재 심사 가능한 인원수(total)>가 [심사해야 하는 인원수(n)]보다 같거나 많은 경우\n",
      "갱신된 right: (mid - 1) = 27\n",
      "------------------------------\n",
      "left: 27, right: 27\n",
      "현재 탐색하는 시간(mid): 27 \n",
      "\n",
      "time: 7, 현재 total: 이전 total (0) + mid // time (3) = 3\n",
      "time: 10, 현재 total: 이전 total (3) + mid // time (2) = 5\n",
      "\n",
      "현재 심사 가능한 최종 인원수(total): 5 \n",
      "\n",
      "<현재 심사 가능한 인원수(total)>가 [심사해야 하는 인원수(n)]보다 적은 경우\n",
      "갱신된 left: (mid + 1) = 28\n",
      "------------------------------\n"
     ]
    },
    {
     "data": {
      "text/plain": [
       "28"
      ]
     },
     "execution_count": 39,
     "metadata": {},
     "output_type": "execute_result"
    }
   ],
   "source": [
    "n = 6\n",
    "times = [7, 10]\n",
    "solution(n, times)"
   ]
  }
 ],
 "metadata": {
  "kernelspec": {
   "display_name": "base",
   "language": "python",
   "name": "python3"
  },
  "language_info": {
   "codemirror_mode": {
    "name": "ipython",
    "version": 3
   },
   "file_extension": ".py",
   "mimetype": "text/x-python",
   "name": "python",
   "nbconvert_exporter": "python",
   "pygments_lexer": "ipython3",
   "version": "3.9.7"
  },
  "orig_nbformat": 4
 },
 "nbformat": 4,
 "nbformat_minor": 2
}

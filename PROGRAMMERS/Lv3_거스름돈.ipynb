{
 "cells": [
  {
   "attachments": {},
   "cell_type": "markdown",
   "metadata": {},
   "source": [
    "[문제](https://school.programmers.co.kr/learn/courses/30/lessons/12907)"
   ]
  },
  {
   "attachments": {},
   "cell_type": "markdown",
   "metadata": {},
   "source": [
    "- 손님들께 거스름돈 n 원을 줄 때 방법의 경우의 수 구하기\n",
    "- ex) 손님께 5원을 거슬러 줘야 하고 1원, 2원, 5원이 있다면 다음과 같이 4가지 방법으로 5원을 거슬러 주기 가능\n",
    "    - 1) 1원을 5개 사용\n",
    "    - 2) 1원을 3개 사용하고, 2원을 1개 사용\n",
    "    - 3) 1원을 1개 사용하고, 2원을 2개 사용\n",
    "    - 4) 5원을 1개 사용\n",
    "- n: 거슬러 줘야 하는 금액\n",
    "- money: Finn이 현재 보유하고 있는 돈의 종류\n",
    "- Finn이 **n 원을 거슬러 줄 방법의 수**를 return"
   ]
  },
  {
   "attachments": {},
   "cell_type": "markdown",
   "metadata": {},
   "source": [
    "**제한 사항**\n",
    "\n",
    "- n은 100,000 이하의 자연수\n",
    "- 화폐 단위는 100종류 이하\n",
    "- 모든 화폐는 무한하게 있다고 가정\n",
    "- 정답이 커질 수 있으니, **1,000,000,007로 나눈 나머지를 return**"
   ]
  },
  {
   "cell_type": "code",
   "execution_count": null,
   "metadata": {},
   "outputs": [],
   "source": [
    "\"\"\"\n",
    "입출력 예시)\n",
    "\n",
    "n = 5, money = [1,2,5] -> 4\n",
    "\"\"\""
   ]
  },
  {
   "attachments": {},
   "cell_type": "markdown",
   "metadata": {},
   "source": [
    "## 2023/01/10"
   ]
  },
  {
   "cell_type": "code",
   "execution_count": null,
   "metadata": {},
   "outputs": [],
   "source": [
    "## 의사코드 ##\n",
    "\n",
    "# DP -> 점화식 찾기\n",
    "\n",
    "# 제일 작은 화폐부터 사용\n",
    "\n",
    "# 빈 리스트 생성\n",
    "# dp = [0] * n+1\n",
    "\n",
    "# money 내에서 반복\n",
    "# for coin in money:\n",
    "#   현재 선택한 coin으로 n원 이하까지의 금액(price)을 만들 수 있는 경우의 수를 dp에 저장\n",
    "#   for price in range(coin, n+1): # coin ~ n까지 반복\n",
    "#       if price >= coin: # price가 coin보다 작은 경우는 없음\n",
    "#           dp[price] += dp[price - coin] # dp[price] = (price - coin)원을 만들 수 있는 경우 각각에 coin을 더한 것\n",
    "\n",
    "# 1,000,000,007로 나눈 나머지를 return\n",
    "# return dp[n] % 1,000,000,007"
   ]
  },
  {
   "cell_type": "code",
   "execution_count": null,
   "metadata": {},
   "outputs": [],
   "source": [
    "#점화식 찾기\n",
    "# n = 5, money = [1,2,5]\n",
    "\n",
    "# 1+1+1+1+1\n",
    "# 1+1+1+2\n",
    "# 1+2+2\n",
    "# 5"
   ]
  },
  {
   "attachments": {},
   "cell_type": "markdown",
   "metadata": {},
   "source": [
    "### 통과)"
   ]
  },
  {
   "cell_type": "code",
   "execution_count": 15,
   "metadata": {},
   "outputs": [],
   "source": [
    "def solution(n, money):\n",
    "    #answer = 0\n",
    "    # 빈 리스트 생성\n",
    "    dp = [0] * (n+1)\n",
    "    # 초기값 설정\n",
    "    dp[0] = 1\n",
    "    for coin in money:\n",
    "        for price in range(coin, n+1):  # coin ~ n까지 반복\n",
    "            if price >= coin: # price가 coin보다 작은 경우는 없음\n",
    "                dp[price] += dp[price - coin] # dp[price] = (price - coin)원을 만들 수 있는 방법 각각에 coin을 더한 것\n",
    "    return dp[n] % 1000000007"
   ]
  },
  {
   "cell_type": "code",
   "execution_count": 16,
   "metadata": {},
   "outputs": [
    {
     "data": {
      "text/plain": [
       "4"
      ]
     },
     "execution_count": 16,
     "metadata": {},
     "output_type": "execute_result"
    }
   ],
   "source": [
    "n = 5\n",
    "money = [1,2,5]\n",
    "solution(n, money)"
   ]
  },
  {
   "cell_type": "code",
   "execution_count": null,
   "metadata": {},
   "outputs": [],
   "source": [
    "# 과정 확인"
   ]
  },
  {
   "cell_type": "code",
   "execution_count": 14,
   "metadata": {},
   "outputs": [
    {
     "name": "stdout",
     "output_type": "stream",
     "text": [
      "coin: 1\n",
      "price: 1\n",
      "dp[1]('dp[price]'): 0\n",
      "dp[0]('dp[price - coin]'): 1\n",
      "갱신된 dp[1]('dp[price] += dp[price - coin]'): 1 \n",
      "\n",
      "coin: 1\n",
      "price: 2\n",
      "dp[2]('dp[price]'): 0\n",
      "dp[1]('dp[price - coin]'): 1\n",
      "갱신된 dp[2]('dp[price] += dp[price - coin]'): 1 \n",
      "\n",
      "coin: 1\n",
      "price: 3\n",
      "dp[3]('dp[price]'): 0\n",
      "dp[2]('dp[price - coin]'): 1\n",
      "갱신된 dp[3]('dp[price] += dp[price - coin]'): 1 \n",
      "\n",
      "coin: 1\n",
      "price: 4\n",
      "dp[4]('dp[price]'): 0\n",
      "dp[3]('dp[price - coin]'): 1\n",
      "갱신된 dp[4]('dp[price] += dp[price - coin]'): 1 \n",
      "\n",
      "coin: 1\n",
      "price: 5\n",
      "dp[5]('dp[price]'): 0\n",
      "dp[4]('dp[price - coin]'): 1\n",
      "갱신된 dp[5]('dp[price] += dp[price - coin]'): 1 \n",
      "\n",
      "coin: 2\n",
      "price: 2\n",
      "dp[2]('dp[price]'): 1\n",
      "dp[0]('dp[price - coin]'): 1\n",
      "갱신된 dp[2]('dp[price] += dp[price - coin]'): 2 \n",
      "\n",
      "coin: 2\n",
      "price: 3\n",
      "dp[3]('dp[price]'): 1\n",
      "dp[1]('dp[price - coin]'): 1\n",
      "갱신된 dp[3]('dp[price] += dp[price - coin]'): 2 \n",
      "\n",
      "coin: 2\n",
      "price: 4\n",
      "dp[4]('dp[price]'): 1\n",
      "dp[2]('dp[price - coin]'): 2\n",
      "갱신된 dp[4]('dp[price] += dp[price - coin]'): 3 \n",
      "\n",
      "coin: 2\n",
      "price: 5\n",
      "dp[5]('dp[price]'): 1\n",
      "dp[3]('dp[price - coin]'): 2\n",
      "갱신된 dp[5]('dp[price] += dp[price - coin]'): 3 \n",
      "\n",
      "coin: 5\n",
      "price: 5\n",
      "dp[5]('dp[price]'): 3\n",
      "dp[0]('dp[price - coin]'): 1\n",
      "갱신된 dp[5]('dp[price] += dp[price - coin]'): 4 \n",
      "\n"
     ]
    }
   ],
   "source": [
    "n = 5\n",
    "money = [1,2,5]\n",
    "\n",
    "# 빈 리스트 생성\n",
    "dp = [0] * (n+1)\n",
    "# 초기값 설정\n",
    "dp[0] = 1 # dp[0]을 1로 설정하지 않으면 dp[price]가 업데이트되지 않음\n",
    "\n",
    "for coin in money:\n",
    "  for price in range(coin, n+1): # coin ~ n까지 반복\n",
    "      if price >= coin: # price가 coin보다 작은 경우는 없음\n",
    "        print('coin:', coin)\n",
    "        print('price:', price)\n",
    "        print(f\"dp[{price}]('dp[price]'):\", dp[price])\n",
    "        print(f\"dp[{price - coin}]('dp[price - coin]'):\", dp[price - coin])\n",
    "        dp[price] += dp[price - coin] # dp[price] = (price - coin)원을 만들 수 있는 방법 각각에 coin을 더한 것\n",
    "        print(f\"갱신된 dp[{price}]('dp[price] += dp[price - coin]'):\", dp[price], '\\n')"
   ]
  },
  {
   "cell_type": "code",
   "execution_count": null,
   "metadata": {},
   "outputs": [],
   "source": [
    "## 'dp[price] = (price - coin)원을 만들 수 있는 경우 각각에 coin을 더한 것'의 의미 ##\n",
    "\n",
    "# money = [1, 2, 5]일 때 coin: 2, price: 4 인 경우\n",
    "# => 1) 1+1+1+1\n",
    "# => 2) 1+1+2\n",
    "# => 3) 2+2\n",
    "\n",
    "# 현재 dp[4] = 1 \n",
    "# -> coin: 1, price: 4 일 때 갱신된 값\n",
    "# => 1+1+1+1\n",
    "\n",
    "# price - coin: 2, dp[2] = 2\n",
    "# => 1) 1+1\n",
    "# => 2) 2\n",
    "\n",
    "# dp[price] + dp[price - coin]\n",
    "# => dp[4] + dp[4-2] = 1 + 2 = 3\n",
    "#     -> dp[4]: coin: 1, price: 4 일 때의 값으로 1원 동전만으로 4원을 만드는 경우의 수\n",
    "#         => 1) 1+1+1+1\n",
    "#     -> dp[4-2]: 1원 동전과 2원 동전으로 2원을 만드는 경우의 수  \n",
    "#         => 1) 1+1\n",
    "#         => 2) 2\n",
    "\n",
    "# 'dp[price] = (price - coin)원을 만들 수 있는 경우 각각에 coin을 더한 것'의 의미\n",
    "# -> (4-2)원을 만들 수 있는 방법 각각에 coin(2)을 더한 것\n",
    "#     => 1) (1+1) + 2\n",
    "#     => 2) (2) + 2"
   ]
  }
 ],
 "metadata": {
  "kernelspec": {
   "display_name": "base",
   "language": "python",
   "name": "python3"
  },
  "language_info": {
   "codemirror_mode": {
    "name": "ipython",
    "version": 3
   },
   "file_extension": ".py",
   "mimetype": "text/x-python",
   "name": "python",
   "nbconvert_exporter": "python",
   "pygments_lexer": "ipython3",
   "version": "3.9.7"
  },
  "orig_nbformat": 4,
  "vscode": {
   "interpreter": {
    "hash": "023ab38ef701cca529efce9465407c28b5ba779ced3f1a89865b89edb313b240"
   }
  }
 },
 "nbformat": 4,
 "nbformat_minor": 2
}

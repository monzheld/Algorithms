{
 "cells": [
  {
   "attachments": {},
   "cell_type": "markdown",
   "metadata": {},
   "source": [
    "[문제](https://school.programmers.co.kr/learn/courses/30/lessons/43162)"
   ]
  },
  {
   "attachments": {},
   "cell_type": "markdown",
   "metadata": {},
   "source": [
    "### DFS/BFS"
   ]
  },
  {
   "attachments": {},
   "cell_type": "markdown",
   "metadata": {},
   "source": [
    "- 네트워크란 컴퓨터 상호 간에 정보를 교환할 수 있도록 연결된 형태를 의미\n",
    "- 예를 들어, 컴퓨터 A와 컴퓨터 B가 직접적으로 연결되어있고, 컴퓨터 B와 컴퓨터 C가 직접적으로 연결되어 있을 때 컴퓨터 A와 컴퓨터 C도 간접적으로 연결되어 정보를 교환할 수 있음\n",
    "- 따라서 컴퓨터 A, B, C는 모두 같은 네트워크 상에 있다고 할 수 있음\n",
    "- 컴퓨터의 개수 n, 연결에 대한 정보가 담긴 2차원 배열 computers가 매개변수로 주어질 때, **네트워크의 개수**를 return"
   ]
  },
  {
   "attachments": {},
   "cell_type": "markdown",
   "metadata": {},
   "source": [
    "**제한사항**\n",
    "\n",
    "- 컴퓨터의 개수 n은 1 이상 200 이하인 자연수\n",
    "- 각 컴퓨터는 0부터 n-1인 정수로 표현\n",
    "- **i번 컴퓨터와 j번 컴퓨터가 연결되어 있으면 computers[i][j]를 1**로 표현\n",
    "- **computer[i][i]는 항상 1**"
   ]
  },
  {
   "cell_type": "code",
   "execution_count": null,
   "metadata": {},
   "outputs": [],
   "source": [
    "\"\"\"\n",
    "입출력 예시)\n",
    "\n",
    "n = 3, computers = [[1, 1, 0], [1, 1, 0], [0, 0, 1]] -> 2\n",
    "n = 3, computers = [[1, 1, 0], [1, 1, 1], [0, 1, 1]] -> 1\n",
    "\"\"\""
   ]
  },
  {
   "cell_type": "code",
   "execution_count": null,
   "metadata": {},
   "outputs": [],
   "source": [
    "# n = 3, computers = [[1, 1, 0], [1, 1, 0], [0, 0, 1]] -> 2"
   ]
  },
  {
   "attachments": {},
   "cell_type": "markdown",
   "metadata": {},
   "source": [
    "![스크린샷 2023-04-14 15 45 32](https://user-images.githubusercontent.com/93971420/231964973-5bcb9d5a-2ead-43f6-b694-4f9cee7ceaaa.png)"
   ]
  },
  {
   "cell_type": "code",
   "execution_count": null,
   "metadata": {},
   "outputs": [],
   "source": [
    "# 1번 컴퓨터와 2번 컴퓨터 연결\n",
    "\n",
    "# => 1, 2번 컴퓨터는 같은 네트워크 상에 있고, 3번 컴퓨터는 연결되어 있지 않기 때문에 네트워크의 개수는 2"
   ]
  },
  {
   "cell_type": "code",
   "execution_count": null,
   "metadata": {},
   "outputs": [],
   "source": [
    "# n = 3, computers = [[1, 1, 0], [1, 1, 1], [0, 1, 1]] -> 1"
   ]
  },
  {
   "attachments": {},
   "cell_type": "markdown",
   "metadata": {},
   "source": [
    "![스크린샷 2023-04-14 15 45 48](https://user-images.githubusercontent.com/93971420/231965106-80168ebb-f24e-46dc-8faa-d4e516f4cb98.png)"
   ]
  },
  {
   "cell_type": "code",
   "execution_count": null,
   "metadata": {},
   "outputs": [],
   "source": [
    "# 1번 컴퓨터와 2번 컴퓨터 연결\n",
    "# 2번 컴퓨터와 3번 컴퓨터 연결\n",
    "# -> 1번 컴퓨터와 3번 컴퓨터도 간접적으로 연결\n",
    "\n",
    "# => 1, 2, 3번 컴퓨터가 모두 같은 네트워크 상에 있기 때문에 네트워크의 개수는 1"
   ]
  },
  {
   "attachments": {},
   "cell_type": "markdown",
   "metadata": {},
   "source": [
    "## 2023/04/14"
   ]
  },
  {
   "cell_type": "code",
   "execution_count": null,
   "metadata": {},
   "outputs": [],
   "source": [
    "## 의사코드 ##\n",
    "\n",
    "# 연결 요소 개수 세기 -> DFS\n",
    "\n",
    "# 간접적으로 연결되어 있다면 하나의 네트워크로 판단\n",
    "# 다른 컴퓨터와 연결되지 않은 독립적인 컴퓨터도 하나의 네트워크로 판단\n",
    "\n",
    "# dfs 수행한 다음 네트워크 + 1"
   ]
  },
  {
   "attachments": {},
   "cell_type": "markdown",
   "metadata": {},
   "source": [
    "### 통과)"
   ]
  },
  {
   "cell_type": "code",
   "execution_count": 26,
   "metadata": {},
   "outputs": [],
   "source": [
    "def solution(n, computers):\n",
    "\n",
    "    # DFS\n",
    "    def dfs(node):\n",
    "        # 현재 노드 방문처리 \n",
    "        visited[node] = True\n",
    "        # 인접노드 탐색 \n",
    "        for j in range(n):\n",
    "            # 아직 방문하지 않았으면서 연결되어 있는 컴퓨터라면 DFS 수행\n",
    "            if not visited[j] and computers[node][j] == 1:\n",
    "                dfs(j)\n",
    "    \n",
    "    answer = 0 # 네트워크 개수 \n",
    "    visited = [False] * n \n",
    "    for i in range(n):\n",
    "        # 아직 방문하지 않았으면 DFS 수행\n",
    "        if not visited[i]:\n",
    "            dfs(i)\n",
    "            # DFS 탐색이 끝난 후 + 1\n",
    "            answer += 1\n",
    "\n",
    "    return answer"
   ]
  },
  {
   "cell_type": "code",
   "execution_count": 9,
   "metadata": {},
   "outputs": [
    {
     "data": {
      "text/plain": [
       "1"
      ]
     },
     "execution_count": 9,
     "metadata": {},
     "output_type": "execute_result"
    }
   ],
   "source": [
    "n = 3\n",
    "computers = [[1, 1, 0], [1, 1, 1], [0, 1, 1]]\n",
    "solution(n, computers)"
   ]
  },
  {
   "cell_type": "code",
   "execution_count": 10,
   "metadata": {},
   "outputs": [
    {
     "data": {
      "text/plain": [
       "2"
      ]
     },
     "execution_count": 10,
     "metadata": {},
     "output_type": "execute_result"
    }
   ],
   "source": [
    "n = 3\n",
    "computers = [[1, 1, 0], [1, 1, 0], [0, 0, 1]]\n",
    "solution(n, computers)"
   ]
  },
  {
   "cell_type": "code",
   "execution_count": null,
   "metadata": {},
   "outputs": [],
   "source": [
    "# 과정 확인"
   ]
  },
  {
   "cell_type": "code",
   "execution_count": 27,
   "metadata": {},
   "outputs": [],
   "source": [
    "def solution(n, computers):\n",
    "\n",
    "    # DFS\n",
    "    def dfs(node):\n",
    "        # 현재 노드 방문처리 \n",
    "        visited[node] = True\n",
    "        # 인접노드 탐색 \n",
    "        for j in range(n):\n",
    "            print('# 인접노드 탐색 #')\n",
    "            print('j:', j)\n",
    "            print('j의 방문처리 여부(visited[j]):', visited[j])\n",
    "            print('연결 정보(computers[node][j]):', computers[node][j], '\\n')\n",
    "            # 아직 방문하지 않았으면서 연결되어 있는 컴퓨터라면 DFS 수행\n",
    "            if not visited[j] and computers[node][j] == 1:\n",
    "                print('[아직 방문하지 않았으면서 연결되어 있는 컴퓨터라면 DFS 수행]')\n",
    "                dfs(j)\n",
    "                print('~ '*30)\n",
    "    \n",
    "    answer = 0 # 네트워크 개수 \n",
    "    visited = [False] * n \n",
    "    for i in range(n):\n",
    "        print('i:', i)\n",
    "        print('i의 방문처리 여부(visited[i]):', visited[i], '\\n')\n",
    "        # 아직 방문하지 않았으면 DFS 수행\n",
    "        if not visited[i]:\n",
    "            print('<아직 방문하지 않았으면 DFS 수행>')\n",
    "            dfs(i)\n",
    "            # DFS 탐색이 끝난 후 + 1\n",
    "            answer += 1\n",
    "            print('네트워크 개수:', answer)\n",
    "            print('-'*70)\n",
    "\n",
    "    return answer"
   ]
  },
  {
   "cell_type": "code",
   "execution_count": 28,
   "metadata": {},
   "outputs": [
    {
     "name": "stdout",
     "output_type": "stream",
     "text": [
      "i: 0\n",
      "i의 방문처리 여부(visited[i]): False \n",
      "\n",
      "<아직 방문하지 않았으면 DFS 수행>\n",
      "# 인접노드 탐색 #\n",
      "j: 0\n",
      "j의 방문처리 여부(visited[j]): True\n",
      "연결 정보(computers[node][j]): 1 \n",
      "\n",
      "# 인접노드 탐색 #\n",
      "j: 1\n",
      "j의 방문처리 여부(visited[j]): False\n",
      "연결 정보(computers[node][j]): 1 \n",
      "\n",
      "[아직 방문하지 않았으면서 연결되어 있는 컴퓨터라면 DFS 수행]\n",
      "# 인접노드 탐색 #\n",
      "j: 0\n",
      "j의 방문처리 여부(visited[j]): True\n",
      "연결 정보(computers[node][j]): 1 \n",
      "\n",
      "# 인접노드 탐색 #\n",
      "j: 1\n",
      "j의 방문처리 여부(visited[j]): True\n",
      "연결 정보(computers[node][j]): 1 \n",
      "\n",
      "# 인접노드 탐색 #\n",
      "j: 2\n",
      "j의 방문처리 여부(visited[j]): False\n",
      "연결 정보(computers[node][j]): 1 \n",
      "\n",
      "[아직 방문하지 않았으면서 연결되어 있는 컴퓨터라면 DFS 수행]\n",
      "# 인접노드 탐색 #\n",
      "j: 0\n",
      "j의 방문처리 여부(visited[j]): True\n",
      "연결 정보(computers[node][j]): 0 \n",
      "\n",
      "# 인접노드 탐색 #\n",
      "j: 1\n",
      "j의 방문처리 여부(visited[j]): True\n",
      "연결 정보(computers[node][j]): 1 \n",
      "\n",
      "# 인접노드 탐색 #\n",
      "j: 2\n",
      "j의 방문처리 여부(visited[j]): True\n",
      "연결 정보(computers[node][j]): 1 \n",
      "\n",
      "~ ~ ~ ~ ~ ~ ~ ~ ~ ~ ~ ~ ~ ~ ~ ~ ~ ~ ~ ~ ~ ~ ~ ~ ~ ~ ~ ~ ~ ~ \n",
      "~ ~ ~ ~ ~ ~ ~ ~ ~ ~ ~ ~ ~ ~ ~ ~ ~ ~ ~ ~ ~ ~ ~ ~ ~ ~ ~ ~ ~ ~ \n",
      "# 인접노드 탐색 #\n",
      "j: 2\n",
      "j의 방문처리 여부(visited[j]): True\n",
      "연결 정보(computers[node][j]): 0 \n",
      "\n",
      "네트워크 개수: 1\n",
      "----------------------------------------------------------------------\n",
      "i: 1\n",
      "i의 방문처리 여부(visited[i]): True \n",
      "\n",
      "i: 2\n",
      "i의 방문처리 여부(visited[i]): True \n",
      "\n"
     ]
    },
    {
     "data": {
      "text/plain": [
       "1"
      ]
     },
     "execution_count": 28,
     "metadata": {},
     "output_type": "execute_result"
    }
   ],
   "source": [
    "n = 3\n",
    "computers = [[1, 1, 0], [1, 1, 1], [0, 1, 1]]\n",
    "solution(n, computers)"
   ]
  },
  {
   "cell_type": "code",
   "execution_count": 29,
   "metadata": {},
   "outputs": [
    {
     "name": "stdout",
     "output_type": "stream",
     "text": [
      "i: 0\n",
      "i의 방문처리 여부(visited[i]): False \n",
      "\n",
      "<아직 방문하지 않았으면 DFS 수행>\n",
      "# 인접노드 탐색 #\n",
      "j: 0\n",
      "j의 방문처리 여부(visited[j]): True\n",
      "연결 정보(computers[node][j]): 1 \n",
      "\n",
      "# 인접노드 탐색 #\n",
      "j: 1\n",
      "j의 방문처리 여부(visited[j]): False\n",
      "연결 정보(computers[node][j]): 1 \n",
      "\n",
      "[아직 방문하지 않았으면서 연결되어 있는 컴퓨터라면 DFS 수행]\n",
      "# 인접노드 탐색 #\n",
      "j: 0\n",
      "j의 방문처리 여부(visited[j]): True\n",
      "연결 정보(computers[node][j]): 1 \n",
      "\n",
      "# 인접노드 탐색 #\n",
      "j: 1\n",
      "j의 방문처리 여부(visited[j]): True\n",
      "연결 정보(computers[node][j]): 1 \n",
      "\n",
      "# 인접노드 탐색 #\n",
      "j: 2\n",
      "j의 방문처리 여부(visited[j]): False\n",
      "연결 정보(computers[node][j]): 0 \n",
      "\n",
      "~ ~ ~ ~ ~ ~ ~ ~ ~ ~ ~ ~ ~ ~ ~ ~ ~ ~ ~ ~ ~ ~ ~ ~ ~ ~ ~ ~ ~ ~ \n",
      "# 인접노드 탐색 #\n",
      "j: 2\n",
      "j의 방문처리 여부(visited[j]): False\n",
      "연결 정보(computers[node][j]): 0 \n",
      "\n",
      "네트워크 개수: 1\n",
      "----------------------------------------------------------------------\n",
      "i: 1\n",
      "i의 방문처리 여부(visited[i]): True \n",
      "\n",
      "i: 2\n",
      "i의 방문처리 여부(visited[i]): False \n",
      "\n",
      "<아직 방문하지 않았으면 DFS 수행>\n",
      "# 인접노드 탐색 #\n",
      "j: 0\n",
      "j의 방문처리 여부(visited[j]): True\n",
      "연결 정보(computers[node][j]): 0 \n",
      "\n",
      "# 인접노드 탐색 #\n",
      "j: 1\n",
      "j의 방문처리 여부(visited[j]): True\n",
      "연결 정보(computers[node][j]): 0 \n",
      "\n",
      "# 인접노드 탐색 #\n",
      "j: 2\n",
      "j의 방문처리 여부(visited[j]): True\n",
      "연결 정보(computers[node][j]): 1 \n",
      "\n",
      "네트워크 개수: 2\n",
      "----------------------------------------------------------------------\n"
     ]
    },
    {
     "data": {
      "text/plain": [
       "2"
      ]
     },
     "execution_count": 29,
     "metadata": {},
     "output_type": "execute_result"
    }
   ],
   "source": [
    "n = 3\n",
    "computers = [[1, 1, 0], [1, 1, 0], [0, 0, 1]]\n",
    "solution(n, computers)"
   ]
  },
  {
   "attachments": {},
   "cell_type": "markdown",
   "metadata": {},
   "source": [
    "### 다른 풀이"
   ]
  },
  {
   "cell_type": "code",
   "execution_count": null,
   "metadata": {},
   "outputs": [],
   "source": [
    "from collections import deque\n",
    "\n",
    "def solution(n, computers):            \n",
    "    \n",
    "    def BFS(i):\n",
    "        q = deque()\n",
    "        q.append(i)\n",
    "        while q:\n",
    "            i = q.popleft()\n",
    "            visited[i] = 1\n",
    "            for a in range(n):\n",
    "                if computers[i][a] and not visited[a]:\n",
    "                     q.append(a)\n",
    "                \n",
    "    answer = 0\n",
    "    visited = [0 for i in range(len(computers))]\n",
    "    for i in range(n):\n",
    "        if not visited[i]:\n",
    "            BFS(i)\n",
    "            answer += 1\n",
    "        \n",
    "    return answer"
   ]
  },
  {
   "attachments": {},
   "cell_type": "markdown",
   "metadata": {},
   "source": [
    "-> BFS로 구현"
   ]
  }
 ],
 "metadata": {
  "kernelspec": {
   "display_name": "base",
   "language": "python",
   "name": "python3"
  },
  "language_info": {
   "codemirror_mode": {
    "name": "ipython",
    "version": 3
   },
   "file_extension": ".py",
   "mimetype": "text/x-python",
   "name": "python",
   "nbconvert_exporter": "python",
   "pygments_lexer": "ipython3",
   "version": "3.9.7"
  },
  "orig_nbformat": 4
 },
 "nbformat": 4,
 "nbformat_minor": 2
}

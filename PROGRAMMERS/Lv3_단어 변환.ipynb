{
 "cells": [
  {
   "attachments": {},
   "cell_type": "markdown",
   "metadata": {},
   "source": [
    "[문제](https://school.programmers.co.kr/learn/courses/30/lessons/43163)"
   ]
  },
  {
   "attachments": {},
   "cell_type": "markdown",
   "metadata": {},
   "source": [
    "### DFS/BFS"
   ]
  },
  {
   "attachments": {},
   "cell_type": "markdown",
   "metadata": {},
   "source": [
    "- 두 개의 단어 begin, target과 단어의 집합 words가 있음\n",
    "- 아래와 같은 규칙을 이용하여 begin에서 target으로 변환하는 가장 짧은 변환 과정 찾기\n",
    "    - 1) **한 번에 한 개의 알파벳만** 바꿀 수 있음\n",
    "    - 2) **words에 있는 단어로만** 변환할 수 있음\n",
    "- ex) begin이 \"hit\", target가 \"cog\", words가 [\"hot\",\"dot\",\"dog\",\"lot\",\"log\",\"cog\"]라면\n",
    "    - \"hit\" -> \"hot\" -> \"dot\" -> \"dog\" -> \"cog\"\n",
    "    - => 4단계를 거쳐 변환 가능\n",
    "- begin, target: 단어\n",
    "- words: 단어의 집합\n",
    "- **최소 몇 단계**의 과정을 거쳐 **begin을 target으로 변환**할 수 있는지 return"
   ]
  },
  {
   "attachments": {},
   "cell_type": "markdown",
   "metadata": {},
   "source": [
    "**제한사항**\n",
    "\n",
    "- 각 단어는 알파벳 소문자로만 이루어져 있음\n",
    "- 각 단어의 길이는 3 이상 10 이하이며 모든 단어의 길이는 같음\n",
    "- words에는 3개 이상 50개 이하의 단어가 있으며 중복되는 단어는 없음\n",
    "- begin과 target은 같지 않음\n",
    "- **변환할 수 없는 경우에는 0**를 return"
   ]
  },
  {
   "cell_type": "code",
   "execution_count": null,
   "metadata": {},
   "outputs": [],
   "source": [
    "\"\"\"\n",
    "입출력 예시)\n",
    "\n",
    "begin = \"hit\", target = \"cog\", words = [\"hot\", \"dot\", \"dog\", \"lot\", \"log\", \"cog\"] -> 4\n",
    "begin = \"hit\", target = \"cog\", words = [\"hot\", \"dot\", \"dog\", \"lot\", \"log\"] -> 0\n",
    "\"\"\""
   ]
  },
  {
   "attachments": {},
   "cell_type": "markdown",
   "metadata": {},
   "source": [
    "## 2023/01/23"
   ]
  },
  {
   "cell_type": "code",
   "execution_count": null,
   "metadata": {},
   "outputs": [],
   "source": [
    "## 의사코드 ##\n",
    "\n",
    "# begin에서 target으로 변환하는 가장 짧은 변환 과정 -> BFS\n",
    "# -> deque\n",
    "\n",
    "# 한 번에 한 개의 알파벳만 변경 가능\n",
    "# for i in range(len(words)):\n",
    "#     for j in range(len(word)):\n",
    "#         if word[j] != words[i][j]:\n",
    "\n",
    "# return \n",
    "# 변환할 수 없는 경우에는 0\n",
    "#   if target not in words:\n",
    "#       return 0 "
   ]
  },
  {
   "attachments": {},
   "cell_type": "markdown",
   "metadata": {},
   "source": [
    "### 통과)"
   ]
  },
  {
   "cell_type": "code",
   "execution_count": 7,
   "metadata": {},
   "outputs": [],
   "source": [
    "from collections import deque\n",
    "def solution(begin, target, words):\n",
    "    answer = 0 # 거치는 과정의 수 \n",
    "    q = deque([(begin, 0)]) # (단어, 거친 과정의 개수)\n",
    "    visited = [0] * (len(words)+1) \n",
    "    # 변환할 수 없는 경우\n",
    "    if target not in words:\n",
    "        return 0 \n",
    "    # 변환 가능한 경우 BFS 수행\n",
    "    while q:\n",
    "        word, answer = q.popleft()\n",
    "        if word == target:\n",
    "            return answer\n",
    "        for i in range(len(words)):\n",
    "            temp = 0\n",
    "            if not visited[i]: # visited[i] = 0일 때\n",
    "                for j in range(len(word)):\n",
    "                    if word[j] != words[i][j]:\n",
    "                        temp += 1\n",
    "                if temp == 1:\n",
    "                    # 방문 처리\n",
    "                    visited[i] = 1\n",
    "                    q.append((words[i], answer+1))\n",
    "    \n",
    "    return answer"
   ]
  },
  {
   "cell_type": "code",
   "execution_count": 8,
   "metadata": {},
   "outputs": [
    {
     "data": {
      "text/plain": [
       "4"
      ]
     },
     "execution_count": 8,
     "metadata": {},
     "output_type": "execute_result"
    }
   ],
   "source": [
    "begin = \"hit\"\n",
    "target = \"cog\"\n",
    "words = [\"hot\", \"dot\", \"dog\", \"lot\", \"log\", \"cog\"]\n",
    "solution(begin, target, words)"
   ]
  },
  {
   "cell_type": "code",
   "execution_count": 9,
   "metadata": {},
   "outputs": [
    {
     "data": {
      "text/plain": [
       "0"
      ]
     },
     "execution_count": 9,
     "metadata": {},
     "output_type": "execute_result"
    }
   ],
   "source": [
    "begin = \"hit\"\n",
    "target = \"cog\"\n",
    "words = [\"hot\", \"dot\", \"dog\", \"lot\", \"log\"]\n",
    "solution(begin, target, words)"
   ]
  },
  {
   "attachments": {},
   "cell_type": "markdown",
   "metadata": {},
   "source": [
    "### cf) 이전에 작성했던 코드"
   ]
  },
  {
   "cell_type": "code",
   "execution_count": null,
   "metadata": {},
   "outputs": [],
   "source": [
    "from collections import deque\n",
    "\n",
    "def solution(begin, target, words):\n",
    "    answer = 0\n",
    "    q = deque()\n",
    "    q.append([begin, 0]) # 0: 깊이\n",
    "    visited = [ 0 for i in range(len(words))]\n",
    "\n",
    "    # target 단어가 words 안에 없으면 변환할 수 없음 -> 0을 return \n",
    "    if target not in words:\n",
    "        answer = 0 \n",
    "        \n",
    "    while q:\n",
    "        word, cnt = q.popleft() # 큐에 삽입된 순서대로 단어(word)와 깊이(cnt)를 뽑음\n",
    "        if word == target:\n",
    "            answer = cnt\n",
    "            break\n",
    "        for i in range(len(words)): # i -> len(words) \n",
    "            temp_cnt = 0\n",
    "            # 아직 방문하지 않은 노드라면\n",
    "            if not visited[i]: # visited[i] = 0일 때 아래 코드 동작\n",
    "                for j in range(len(word)): # j -> len(word)\n",
    "                    # word의 j번째 알파벳이 words 리스트의 i번째 단어의 j번째 알파벳과 같지 않은 경우\n",
    "                    if word[j] != words[i][j]:\n",
    "                        temp_cnt += 1\n",
    "                if temp_cnt == 1:\n",
    "                    q.append([words[i], cnt+1])\n",
    "                    visited[i] = 1\n",
    "                    \n",
    "    return answer"
   ]
  }
 ],
 "metadata": {
  "kernelspec": {
   "display_name": "base",
   "language": "python",
   "name": "python3"
  },
  "language_info": {
   "codemirror_mode": {
    "name": "ipython",
    "version": 3
   },
   "file_extension": ".py",
   "mimetype": "text/x-python",
   "name": "python",
   "nbconvert_exporter": "python",
   "pygments_lexer": "ipython3",
   "version": "3.9.7"
  },
  "orig_nbformat": 4,
  "vscode": {
   "interpreter": {
    "hash": "023ab38ef701cca529efce9465407c28b5ba779ced3f1a89865b89edb313b240"
   }
  }
 },
 "nbformat": 4,
 "nbformat_minor": 2
}

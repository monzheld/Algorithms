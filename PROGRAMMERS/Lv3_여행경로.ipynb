{
 "cells": [
  {
   "attachments": {},
   "cell_type": "markdown",
   "metadata": {},
   "source": [
    "[문제](https://school.programmers.co.kr/learn/courses/30/lessons/43164)"
   ]
  },
  {
   "attachments": {},
   "cell_type": "markdown",
   "metadata": {},
   "source": [
    "### DFS/BFS"
   ]
  },
  {
   "cell_type": "code",
   "execution_count": null,
   "metadata": {},
   "outputs": [],
   "source": []
  },
  {
   "attachments": {},
   "cell_type": "markdown",
   "metadata": {},
   "source": [
    "## 2023/01/23"
   ]
  },
  {
   "cell_type": "code",
   "execution_count": null,
   "metadata": {},
   "outputs": [],
   "source": [
    "## 의사 코드 ##\n",
    "\n",
    "# 주어진 항공권을 모두 이용 -> DFS\n",
    "# stack \n",
    "\n",
    "# tickets를 딕셔너리 그래프 형태로 만들기\n",
    "# defaultdict(list)\n",
    "\n",
    "# 가능한 경로가 2개 이상일 경우 알파벳 순서가 앞서는 경로를 return\n",
    "# -> DFS 수행할 때 노드 중 알파벳 순서가 더 앞에 있는 것을 방문\n",
    "# for k in graph.keys():\n",
    "#   graph[k].sort(reverse=True)\n",
    "#       -> stack 구조를 사용할 것이기 때문에 역순으로 정렬해야 알파벳 순서로 꺼내짐"
   ]
  },
  {
   "attachments": {},
   "cell_type": "markdown",
   "metadata": {},
   "source": [
    "### 통과)"
   ]
  },
  {
   "cell_type": "code",
   "execution_count": 32,
   "metadata": {},
   "outputs": [],
   "source": [
    "from collections import defaultdict\n",
    "def solution(tickets):\n",
    "    answer = []\n",
    "    # 그래프에 정보 입력 \n",
    "    graph = defaultdict(list)\n",
    "    for start, arrive in tickets:\n",
    "        graph[start].append(arrive) # 방향 그래프니까 한 번만 append \n",
    "\n",
    "    # 알파벳 순으로 정렬\n",
    "    for k in graph.keys():\n",
    "        graph[k].sort(reverse=True) # stack 구조를 사용할 것이기 때문에 역순으로 정렬\n",
    "\n",
    "    q = [\"ICN\"] # stack\n",
    "    while q:\n",
    "        city = q[-1] # => q.pop()할 값\n",
    "        if city not in graph or len(graph[city]) == 0:\n",
    "            answer.append(q.pop())\n",
    "        else:\n",
    "            q.append(graph[city][-1]) \n",
    "            graph[city] = graph[city][:-1]\n",
    "    # answer 역순 정렬\n",
    "    answer.reverse()\n",
    "    return answer"
   ]
  },
  {
   "attachments": {},
   "cell_type": "markdown",
   "metadata": {},
   "source": [
    "-> tickets의 정보를 graph라는 dict로 생성, stack을 활용한 DFS"
   ]
  },
  {
   "cell_type": "code",
   "execution_count": 33,
   "metadata": {},
   "outputs": [
    {
     "data": {
      "text/plain": [
       "['ICN', 'JFK', 'HND', 'IAD']"
      ]
     },
     "execution_count": 33,
     "metadata": {},
     "output_type": "execute_result"
    }
   ],
   "source": [
    "tickets = [[\"ICN\", \"JFK\"], [\"HND\", \"IAD\"], [\"JFK\", \"HND\"]]\n",
    "solution(tickets)"
   ]
  },
  {
   "cell_type": "code",
   "execution_count": 34,
   "metadata": {},
   "outputs": [
    {
     "data": {
      "text/plain": [
       "['ICN', 'ATL', 'ICN', 'SFO', 'ATL', 'SFO']"
      ]
     },
     "execution_count": 34,
     "metadata": {},
     "output_type": "execute_result"
    }
   ],
   "source": [
    "tickets = [[\"ICN\", \"SFO\"], [\"ICN\", \"ATL\"], [\"SFO\", \"ATL\"], [\"ATL\", \"ICN\"], [\"ATL\",\"SFO\"]]\n",
    "solution(tickets)"
   ]
  },
  {
   "cell_type": "code",
   "execution_count": null,
   "metadata": {},
   "outputs": [],
   "source": [
    "# 과정 확인"
   ]
  },
  {
   "cell_type": "code",
   "execution_count": 47,
   "metadata": {},
   "outputs": [],
   "source": [
    "from collections import defaultdict\n",
    "def solution(tickets):\n",
    "    answer = []\n",
    "    # 그래프에 정보 입력 \n",
    "    graph = defaultdict(list)\n",
    "    for start, arrive in tickets:\n",
    "        graph[start].append(arrive) # 방향 그래프니까 한 번만 append \n",
    "    print('정렬 전 graph:', graph)\n",
    "\n",
    "    # 알파벳 순으로 정렬\n",
    "    for k in graph.keys():\n",
    "        graph[k].sort(reverse=True) # stack 구조를 사용할 것이기 때문에 역순으로 정렬\n",
    "    print('정렬 후 graph:', graph)\n",
    "\n",
    "    q = [\"ICN\"] # stack\n",
    "    print('시작 q:', q, '\\n')\n",
    "    while q:\n",
    "        city = q[-1] # => q.pop()할 값\n",
    "        print('city:', city)\n",
    "        if city not in graph or len(graph[city]) == 0:\n",
    "            answer.append(q.pop())\n",
    "            print('city pop 후 q:', q, '\\n')\n",
    "        else:\n",
    "            print('graph[city][-1]:', graph[city][-1])\n",
    "            print('슬라이싱 전 graph[city]:', graph[city])\n",
    "            print('-'*50)\n",
    "            q.append(graph[city][-1]) \n",
    "            print('graph[city][-1] append 후 q:', q)\n",
    "            graph[city] = graph[city][:-1]\n",
    "            print('남은 graph[city]:', graph[city], '\\n')\n",
    "    print('역순 정렬 전 answer:', answer)\n",
    "    answer.reverse()\n",
    "    return answer"
   ]
  },
  {
   "cell_type": "code",
   "execution_count": 48,
   "metadata": {},
   "outputs": [
    {
     "name": "stdout",
     "output_type": "stream",
     "text": [
      "정렬 전 graph: defaultdict(<class 'list'>, {'ICN': ['SFO', 'ATL'], 'SFO': ['ATL'], 'ATL': ['ICN', 'SFO']})\n",
      "정렬 후 graph: defaultdict(<class 'list'>, {'ICN': ['SFO', 'ATL'], 'SFO': ['ATL'], 'ATL': ['SFO', 'ICN']})\n",
      "시작 q: ['ICN'] \n",
      "\n",
      "city: ICN\n",
      "graph[city][-1]: ATL\n",
      "슬라이싱 전 graph[city]: ['SFO', 'ATL']\n",
      "--------------------------------------------------\n",
      "graph[city][-1] append 후 q: ['ICN', 'ATL']\n",
      "남은 graph[city]: ['SFO'] \n",
      "\n",
      "city: ATL\n",
      "graph[city][-1]: ICN\n",
      "슬라이싱 전 graph[city]: ['SFO', 'ICN']\n",
      "--------------------------------------------------\n",
      "graph[city][-1] append 후 q: ['ICN', 'ATL', 'ICN']\n",
      "남은 graph[city]: ['SFO'] \n",
      "\n",
      "city: ICN\n",
      "graph[city][-1]: SFO\n",
      "슬라이싱 전 graph[city]: ['SFO']\n",
      "--------------------------------------------------\n",
      "graph[city][-1] append 후 q: ['ICN', 'ATL', 'ICN', 'SFO']\n",
      "남은 graph[city]: [] \n",
      "\n",
      "city: SFO\n",
      "graph[city][-1]: ATL\n",
      "슬라이싱 전 graph[city]: ['ATL']\n",
      "--------------------------------------------------\n",
      "graph[city][-1] append 후 q: ['ICN', 'ATL', 'ICN', 'SFO', 'ATL']\n",
      "남은 graph[city]: [] \n",
      "\n",
      "city: ATL\n",
      "graph[city][-1]: SFO\n",
      "슬라이싱 전 graph[city]: ['SFO']\n",
      "--------------------------------------------------\n",
      "graph[city][-1] append 후 q: ['ICN', 'ATL', 'ICN', 'SFO', 'ATL', 'SFO']\n",
      "남은 graph[city]: [] \n",
      "\n",
      "city: SFO\n",
      "city pop 후 q: ['ICN', 'ATL', 'ICN', 'SFO', 'ATL'] \n",
      "\n",
      "city: ATL\n",
      "city pop 후 q: ['ICN', 'ATL', 'ICN', 'SFO'] \n",
      "\n",
      "city: SFO\n",
      "city pop 후 q: ['ICN', 'ATL', 'ICN'] \n",
      "\n",
      "city: ICN\n",
      "city pop 후 q: ['ICN', 'ATL'] \n",
      "\n",
      "city: ATL\n",
      "city pop 후 q: ['ICN'] \n",
      "\n",
      "city: ICN\n",
      "city pop 후 q: [] \n",
      "\n",
      "역순 정렬 전 answer: ['SFO', 'ATL', 'SFO', 'ICN', 'ATL', 'ICN']\n"
     ]
    },
    {
     "data": {
      "text/plain": [
       "['ICN', 'ATL', 'ICN', 'SFO', 'ATL', 'SFO']"
      ]
     },
     "execution_count": 48,
     "metadata": {},
     "output_type": "execute_result"
    }
   ],
   "source": [
    "tickets = [[\"ICN\", \"SFO\"], [\"ICN\", \"ATL\"], [\"SFO\", \"ATL\"], [\"ATL\", \"ICN\"], [\"ATL\",\"SFO\"]]\n",
    "solution(tickets)"
   ]
  },
  {
   "attachments": {},
   "cell_type": "markdown",
   "metadata": {},
   "source": [
    "### 다른 풀이"
   ]
  },
  {
   "cell_type": "code",
   "execution_count": 49,
   "metadata": {},
   "outputs": [],
   "source": [
    "def solution(tickets):\n",
    "    answer = []\n",
    "    \n",
    "    visited = [False]*len(tickets)\n",
    "    \n",
    "    def dfs(airport, path):\n",
    "        if len(path) == len(tickets)+1:\n",
    "            answer.append(path)\n",
    "            return\n",
    "        \n",
    "        for idx, ticket in enumerate(tickets):\n",
    "            if airport == ticket[0] and visited[idx] == False:\n",
    "                visited[idx] = True\n",
    "                dfs(ticket[1], path+[ticket[1]])\n",
    "                visited[idx] = False\n",
    "        \n",
    "        \n",
    "    dfs(\"ICN\", [\"ICN\"])\n",
    "    \n",
    "    answer.sort()\n",
    "\n",
    "    return answer[0]"
   ]
  },
  {
   "attachments": {},
   "cell_type": "markdown",
   "metadata": {},
   "source": [
    "-> graph를 따로 생성하지 않고, 재귀를 활용한 DFS"
   ]
  }
 ],
 "metadata": {
  "kernelspec": {
   "display_name": "cp2",
   "language": "python",
   "name": "python3"
  },
  "language_info": {
   "codemirror_mode": {
    "name": "ipython",
    "version": 3
   },
   "file_extension": ".py",
   "mimetype": "text/x-python",
   "name": "python",
   "nbconvert_exporter": "python",
   "pygments_lexer": "ipython3",
   "version": "3.9.12"
  },
  "orig_nbformat": 4,
  "vscode": {
   "interpreter": {
    "hash": "5ca59c31ddc1bb1d3e926feef50b5ca0d1eacb2093eee1a1a79c0269dbb49758"
   }
  }
 },
 "nbformat": 4,
 "nbformat_minor": 2
}

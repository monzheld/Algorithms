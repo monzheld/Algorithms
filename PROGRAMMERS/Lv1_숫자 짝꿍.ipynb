{
 "cells": [
  {
   "attachments": {},
   "cell_type": "markdown",
   "metadata": {},
   "source": [
    "[문제](https://school.programmers.co.kr/learn/courses/30/lessons/131128)"
   ]
  },
  {
   "attachments": {},
   "cell_type": "markdown",
   "metadata": {},
   "source": [
    "- 두 수의 짝꿍: 두 정수 X, Y의 **임의의 자리에서 공통으로 나타나는 정수 k(0 ≤ k ≤ 9)들을 이용하여 만들 수 있는 가장 큰 정수**\n",
    "    - 단, **공통으로 나타나는 정수 중 서로 짝지을 수 있는 숫자만** 사용\n",
    "- X, Y의 **짝꿍이 존재하지 않으면**, 짝꿍은 **-1**\n",
    "- X, Y의 **짝꿍이 0으로만 구성**되어 있다면, 짝꿍은 **0**\n",
    "- 두 정수 X, Y가 주어졌을 때, **X, Y의 짝꿍**을 return"
   ]
  },
  {
   "attachments": {},
   "cell_type": "markdown",
   "metadata": {},
   "source": [
    "- ex) \n",
    "    - X = 3403, Y = 13203\n",
    "        - X와 Y의 짝꿍은 X와 Y에서 공통으로 나타나는 3, 0, 3으로 만들 수 있는 가장 큰 정수인 330\n",
    "    - X = 5525, Y = 1255\n",
    "        - X와 Y의 짝꿍은 X와 Y에서 공통으로 나타나는 2, 5, 5로 만들 수 있는 가장 큰 정수인 552\n",
    "        - (X에는 5가 3개, Y에는 5가 2개 나타나므로 남는 5 한 개는 짝 지을 수 없음)"
   ]
  },
  {
   "attachments": {},
   "cell_type": "markdown",
   "metadata": {},
   "source": [
    "**제한사항**\n",
    "\n",
    "- 3 ≤ X, Y의 길이(자릿수) ≤ 3,000,000\n",
    "- X, Y는 0으로 시작하지 않음\n",
    "- X, Y의 짝꿍은 상당히 큰 정수일 수 있으므로, **문자열로 반환**"
   ]
  },
  {
   "cell_type": "code",
   "execution_count": null,
   "metadata": {},
   "outputs": [],
   "source": [
    "\"\"\"\n",
    "입출력 예시)\n",
    "\n",
    "X = \"100\", Y = \"2345\" -> \"-1\"\n",
    "X = \"100\", Y = \"203045\"\t -> \"0\"\n",
    "X = \"100\", Y = \"123450\" -> \"10\"\n",
    "X = \"12321\", Y = \"42531\" -> \"321\"\n",
    "X = \"5525\", Y = \"1255\" -> \"552\"\n",
    "\"\"\""
   ]
  },
  {
   "attachments": {},
   "cell_type": "markdown",
   "metadata": {},
   "source": [
    "## 2023/01/04"
   ]
  },
  {
   "cell_type": "code",
   "execution_count": null,
   "metadata": {},
   "outputs": [],
   "source": [
    "## 의사코드 ##\n",
    "\n",
    "## X와 Y에서 공통으로 나타나는 숫자 문자열을 구하기##\n",
    "\n",
    "#   Counter()를 활용해서 dict 형태로 X와 Y의 각 원소와 그 원소의 개수를 구함 -> {'숫자 문자열': 개수}\n",
    "#   for 문을 돌면서 dict의 key값인 X의 원소가 Y에도 있고, 그 원소가 각각의 dict에서 값이 0이 아니면(X, Y에서 공통된 정수이면)\n",
    "#       그 원소를 리스트에 삽입하고, 각각의 dict에서 값 -1 함 (개수 빼주기)\n",
    "\n",
    "\n",
    "## 공통으로 나타난 숫자 문자열을 담은 리스트에서 permutations로 가장 큰 정수인 짝꿍을 구함##\n",
    "# -> 이때, 개수는 len(리스트)로 구함 (만들 수 있는 가장 큰 정수를 만들어야 하니까)\n",
    "\n",
    "#   permutations 구하기 -> str 원소 그대로 사용\n",
    "#   from itertools import permutations\n",
    "#   permu = list(permutations(리스트, len(리스트)))\n",
    "\n",
    "#   permu의 각 원소에서 str을 합쳐서 하나의 정수로 만들기 -> \"\".join()\n",
    "#   리스트의 str 원소를 int로 변환 -> list(map(int, 리스트))\n",
    "#   max(리스트)로 가장 큰 정수를 뽑아서 str()으로 변환하기\n",
    "\n",
    "\n",
    "## 짝꿍 반환 ##\n",
    "\n",
    "# X와 Y의 짝꿍이 0으로만 되어있으면\n",
    "#   return \"0\"\n",
    "\n",
    "# X와 Y의 짝꿍이 존재하지 않으면\n",
    "#   return \"-1\"\n",
    "\n",
    "# else:\n",
    "#   return 짝꿍"
   ]
  },
  {
   "cell_type": "code",
   "execution_count": null,
   "metadata": {},
   "outputs": [],
   "source": [
    "## X와 Y에서 공통으로 나타나는 숫자 문자열 구하기 ##"
   ]
  },
  {
   "cell_type": "code",
   "execution_count": 39,
   "metadata": {},
   "outputs": [
    {
     "name": "stdout",
     "output_type": "stream",
     "text": [
      "X: Counter({'3': 2, '4': 1, '0': 1})\n",
      "Y: Counter({'3': 2, '1': 1, '2': 1, '0': 1}) \n",
      "\n",
      "common: ['3', '3', '0']\n",
      "X: Counter({'4': 1, '3': 0, '0': 0})\n",
      "Y: Counter({'1': 1, '2': 1, '3': 0, '0': 0})\n"
     ]
    }
   ],
   "source": [
    "X = \"3403\"\n",
    "Y = \"13203\"\n",
    "\n",
    "from collections import Counter\n",
    "X_dict = Counter(X)\n",
    "Y_dict = Counter(Y)\n",
    "print('X:', X_dict)\n",
    "print('Y:', Y_dict, '\\n')\n",
    "\n",
    "common = []\n",
    "for k in X_dict.keys():\n",
    "    if k in Y_dict.keys():\n",
    "        while X_dict[k] > 0 and Y_dict[k] > 0:\n",
    "            common.append(k)\n",
    "            X_dict[k] -= 1\n",
    "            Y_dict[k] -= 1\n",
    "print('common:', common)\n",
    "print('X:', X_dict)\n",
    "print('Y:', Y_dict)"
   ]
  },
  {
   "cell_type": "code",
   "execution_count": 40,
   "metadata": {},
   "outputs": [
    {
     "name": "stdout",
     "output_type": "stream",
     "text": [
      "X: Counter({'5': 3, '2': 1})\n",
      "Y: Counter({'5': 2, '1': 1, '2': 1}) \n",
      "\n",
      "common: ['5', '5', '2']\n",
      "X: Counter({'5': 1, '2': 0})\n",
      "Y: Counter({'1': 1, '2': 0, '5': 0})\n"
     ]
    }
   ],
   "source": [
    "X = \"5525\"\n",
    "Y = \"1255\"\n",
    "\n",
    "from collections import Counter\n",
    "X_dict = Counter(X)\n",
    "Y_dict = Counter(Y)\n",
    "print('X:', X_dict)\n",
    "print('Y:', Y_dict, '\\n')\n",
    "\n",
    "common = []\n",
    "for k in X_dict.keys():\n",
    "    if k in Y_dict.keys():\n",
    "        while X_dict[k] > 0 and Y_dict[k] > 0:\n",
    "            common.append(k)\n",
    "            X_dict[k] -= 1\n",
    "            Y_dict[k] -= 1\n",
    "print('common:', common)\n",
    "print('X:', X_dict)\n",
    "print('Y:', Y_dict)"
   ]
  },
  {
   "cell_type": "code",
   "execution_count": null,
   "metadata": {},
   "outputs": [],
   "source": [
    "## 공통으로 나타나는 정수들을 이용해서 만들 수 있는 수 구하기 ##"
   ]
  },
  {
   "cell_type": "code",
   "execution_count": 12,
   "metadata": {},
   "outputs": [
    {
     "name": "stdout",
     "output_type": "stream",
     "text": [
      "permutations: [('3', '0', '3'), ('3', '3', '0'), ('0', '3', '3'), ('0', '3', '3'), ('3', '3', '0'), ('3', '0', '3')]\n",
      "combinations: [('3', '0', '3')]\n"
     ]
    }
   ],
   "source": [
    "# 리스트의 원소가 str일 때\n",
    "from itertools import permutations, combinations\n",
    "li = [\"3\", \"0\", \"3\"]\n",
    "print('permutations:', list(permutations(li, len(li))))\n",
    "print('combinations:', list(combinations(li, len(li))))"
   ]
  },
  {
   "attachments": {},
   "cell_type": "markdown",
   "metadata": {},
   "source": [
    "-> 공통으로 나타나는 정수들을 이용해 만들 수 있는 수는 permutations로 구함"
   ]
  },
  {
   "cell_type": "code",
   "execution_count": 13,
   "metadata": {},
   "outputs": [
    {
     "name": "stdout",
     "output_type": "stream",
     "text": [
      "permutations: [(3, 0, 3), (3, 3, 0), (0, 3, 3), (0, 3, 3), (3, 3, 0), (3, 0, 3)]\n",
      "combinations: [(3, 0, 3)]\n"
     ]
    }
   ],
   "source": [
    "# 리스트의 원소가 int일 때\n",
    "from itertools import permutations, combinations\n",
    "li = [3, 0, 3]\n",
    "print('permutations:', list(permutations(li, len(li))))\n",
    "print('combinations:', list(combinations(li, len(li))))"
   ]
  },
  {
   "attachments": {},
   "cell_type": "markdown",
   "metadata": {},
   "source": [
    "-> 리스트의 원소가 int로 들어가 있어도 똑같이 나옴"
   ]
  },
  {
   "cell_type": "code",
   "execution_count": null,
   "metadata": {},
   "outputs": [],
   "source": [
    "## 공통으로 나타나는 정수들을 이용해서 만들 수 있는 수 중에서 가장 큰 수 구하기 ##"
   ]
  },
  {
   "cell_type": "code",
   "execution_count": 10,
   "metadata": {},
   "outputs": [
    {
     "name": "stdout",
     "output_type": "stream",
     "text": [
      "permutations: [('3', '0', '3'), ('3', '3', '0'), ('0', '3', '3'), ('0', '3', '3'), ('3', '3', '0'), ('3', '0', '3')]\n"
     ]
    }
   ],
   "source": [
    "# 공통의 정수들을 조합해서 만들 수 있는 수 구하기\n",
    "li = [\"3\", \"0\", \"3\"]\n",
    "permu = list(permutations(li, len(li)))\n",
    "print('permutations:', permu)"
   ]
  },
  {
   "cell_type": "code",
   "execution_count": 22,
   "metadata": {},
   "outputs": [
    {
     "name": "stdout",
     "output_type": "stream",
     "text": [
      "['303', '330', '033', '033', '330', '303']\n"
     ]
    }
   ],
   "source": [
    "# str 합치기\n",
    "# -> \"\".join()\n",
    "permu_n = []\n",
    "for i in permu:\n",
    "    permu_n.append(''.join(i))\n",
    "print(permu_n)"
   ]
  },
  {
   "cell_type": "code",
   "execution_count": 11,
   "metadata": {},
   "outputs": [
    {
     "name": "stdout",
     "output_type": "stream",
     "text": [
      "[303, 330, 33, 33, 330, 303]\n",
      "max: 330\n"
     ]
    }
   ],
   "source": [
    "# 리스트의 str 원소를 int로 변환\n",
    "# -> list(map(int, 리스트))\n",
    "int_permu = list(map(int, permu_n))\n",
    "print(int_permu)\n",
    "print('max:', max(int_permu))"
   ]
  },
  {
   "cell_type": "code",
   "execution_count": 31,
   "metadata": {},
   "outputs": [
    {
     "data": {
      "text/plain": [
       "['033', '033', '303', '303', '330', '330', '40']"
      ]
     },
     "execution_count": 31,
     "metadata": {},
     "output_type": "execute_result"
    }
   ],
   "source": [
    "# cf) 리스트의 원소가 문자열일 때 정렬하기 \n",
    "permu_n = ['303', '330', '033', '033', '330', '303', '40']\n",
    "permu_n.sort()\n",
    "permu_n"
   ]
  },
  {
   "attachments": {},
   "cell_type": "markdown",
   "metadata": {},
   "source": [
    "-> 문자열인 상태에서 정렬하면 맨 앞자리 수만 비교함 ('330'보다 '40'이 더 큰 것으로 간주)"
   ]
  },
  {
   "attachments": {},
   "cell_type": "markdown",
   "metadata": {},
   "source": [
    "### 통과)"
   ]
  },
  {
   "cell_type": "code",
   "execution_count": 56,
   "metadata": {},
   "outputs": [],
   "source": [
    "from collections import Counter\n",
    "\n",
    "def solution(X, Y):\n",
    "    #answer = ''\n",
    "    X_dict = Counter(X)\n",
    "    Y_dict = Counter(Y)\n",
    "    common = [] # 공통으로 나타나는 정수를 담을 리스트\n",
    "\n",
    "    for k in X_dict.keys(): # X에 있는 숫자가 \n",
    "        if k in Y_dict.keys(): # Y에도 있으면\n",
    "            while X_dict[k] > 0 and Y_dict[k] > 0: # 그리고 그 숫자가 X와 Y의 dict에서 값이 모두 0보다 크면 (X, Y에서 공통된 정수이면)\n",
    "                common.append(k) # 숫자를 common에 삽입\n",
    "                X_dict[k] -= 1 # X의 dict에서 그 숫자가 나온 횟수 -1\n",
    "                Y_dict[k] -= 1 # Y의 dict에서 그 숫자가 나온 횟수 -1\n",
    "    \n",
    "    # 가장 큰 정수를 만들기 위해 큰 수부터 내림차순 정렬\n",
    "    common.sort(reverse=True)\n",
    "    \n",
    "    # X와 Y의 짝꿍이 존재하지 않으면\n",
    "    if len(common) == 0:\n",
    "        return \"-1\"\n",
    "    # X와 Y의 짝꿍이 0으로만 되어있으면 \n",
    "    elif common.count(\"0\") == len(common):\n",
    "        return \"0\"\n",
    "    return ''.join(common) # common의 각 원소를 합쳐서 하나의 정수로 만들기"
   ]
  },
  {
   "attachments": {},
   "cell_type": "markdown",
   "metadata": {},
   "source": [
    "-> 처음에는 공통으로 나타나는 정수들을 구해서 permutations로 만들 수 있는 수들의 조합을 구한 다음, 가장 큰 정수인 짝꿍을 구하는 것으로 생각했는데\n",
    "\n",
    "그냥 공통으로 나타나는 정수들을 담은 리스트를 큰 수부터 오도록 내림차순 정렬해서 join() 하면 끝남"
   ]
  },
  {
   "cell_type": "code",
   "execution_count": 57,
   "metadata": {},
   "outputs": [
    {
     "data": {
      "text/plain": [
       "'-1'"
      ]
     },
     "execution_count": 57,
     "metadata": {},
     "output_type": "execute_result"
    }
   ],
   "source": [
    "X = \"100\"\n",
    "Y = \"2345\"\n",
    "solution(X, Y)"
   ]
  },
  {
   "cell_type": "code",
   "execution_count": 58,
   "metadata": {},
   "outputs": [
    {
     "data": {
      "text/plain": [
       "'0'"
      ]
     },
     "execution_count": 58,
     "metadata": {},
     "output_type": "execute_result"
    }
   ],
   "source": [
    "X = \"100\"\n",
    "Y = \"203045\"\n",
    "solution(X, Y)"
   ]
  },
  {
   "cell_type": "code",
   "execution_count": 59,
   "metadata": {},
   "outputs": [
    {
     "data": {
      "text/plain": [
       "'10'"
      ]
     },
     "execution_count": 59,
     "metadata": {},
     "output_type": "execute_result"
    }
   ],
   "source": [
    "X = \"100\"\n",
    "Y = \"123450\"\n",
    "solution(X, Y)"
   ]
  },
  {
   "cell_type": "code",
   "execution_count": 60,
   "metadata": {},
   "outputs": [
    {
     "data": {
      "text/plain": [
       "'321'"
      ]
     },
     "execution_count": 60,
     "metadata": {},
     "output_type": "execute_result"
    }
   ],
   "source": [
    "X = \"12321\"\n",
    "Y = \"42531\"\n",
    "solution(X, Y)"
   ]
  },
  {
   "cell_type": "code",
   "execution_count": 61,
   "metadata": {},
   "outputs": [
    {
     "data": {
      "text/plain": [
       "'552'"
      ]
     },
     "execution_count": 61,
     "metadata": {},
     "output_type": "execute_result"
    }
   ],
   "source": [
    "X = \"5525\"\n",
    "Y = \"1255\" \n",
    "solution(X, Y)"
   ]
  },
  {
   "cell_type": "code",
   "execution_count": 62,
   "metadata": {},
   "outputs": [
    {
     "data": {
      "text/plain": [
       "'330'"
      ]
     },
     "execution_count": 62,
     "metadata": {},
     "output_type": "execute_result"
    }
   ],
   "source": [
    "X = \"3403\"\n",
    "Y = \"13203\"\n",
    "solution(X, Y)"
   ]
  }
 ],
 "metadata": {
  "kernelspec": {
   "display_name": "base",
   "language": "python",
   "name": "python3"
  },
  "language_info": {
   "codemirror_mode": {
    "name": "ipython",
    "version": 3
   },
   "file_extension": ".py",
   "mimetype": "text/x-python",
   "name": "python",
   "nbconvert_exporter": "python",
   "pygments_lexer": "ipython3",
   "version": "3.9.7"
  },
  "orig_nbformat": 4,
  "vscode": {
   "interpreter": {
    "hash": "023ab38ef701cca529efce9465407c28b5ba779ced3f1a89865b89edb313b240"
   }
  }
 },
 "nbformat": 4,
 "nbformat_minor": 2
}

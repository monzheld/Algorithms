{
 "cells": [
  {
   "attachments": {},
   "cell_type": "markdown",
   "metadata": {},
   "source": [
    "[문제](https://school.programmers.co.kr/learn/courses/30/lessons/68935)"
   ]
  },
  {
   "attachments": {},
   "cell_type": "markdown",
   "metadata": {},
   "source": [
    "- 자연수 n이 매개변수로 주어짐\n",
    "- n을 **3진법 상에서 앞뒤로 뒤집은 후, 이를 다시 10진법으로 표현한 수**를 return"
   ]
  },
  {
   "attachments": {},
   "cell_type": "markdown",
   "metadata": {},
   "source": [
    "**제한사항**\n",
    "\n",
    "- n은 1 이상 100,000,000 이하인 자연수"
   ]
  },
  {
   "cell_type": "code",
   "execution_count": null,
   "metadata": {},
   "outputs": [],
   "source": [
    "\"\"\"\n",
    "입출력 예시)\n",
    "\n",
    "n = 45 -> 7\n",
    "n = 125 -> 229\n",
    "\"\"\""
   ]
  },
  {
   "cell_type": "code",
   "execution_count": null,
   "metadata": {},
   "outputs": [],
   "source": [
    "# n = 45 -> 7\n",
    "\n",
    "# 1) n의 10진법: 45\n",
    "# 2) n의 3진법: 1200\n",
    "# 3) 3진법 앞뒤 반전: 0021\n",
    "# 4) 반전된 3진법을 10진법으로 표현: 7"
   ]
  },
  {
   "cell_type": "code",
   "execution_count": null,
   "metadata": {},
   "outputs": [],
   "source": [
    "# n = 125 -> 229\n",
    "\n",
    "# 1) n의 10진법: 125\n",
    "# 2) n의 3진법: 11122\n",
    "# 3) 3진법 앞뒤 반전: 22111\n",
    "# 4) 반전된 3진법을 10진법으로 표현: 229"
   ]
  },
  {
   "attachments": {},
   "cell_type": "markdown",
   "metadata": {},
   "source": [
    "## 2023/04/17"
   ]
  },
  {
   "cell_type": "code",
   "execution_count": null,
   "metadata": {},
   "outputs": [],
   "source": [
    "## 의사 코드 ##\n",
    "\n",
    "# 진수변환\n",
    "# 10진수 -> n진수\n",
    "# 직접 코드로 작성해야 함 \n",
    "# divmod(n1, n2) -> (n1을 n2로 나눈 몫, n1을 n2로 나눈 나머지) \n",
    "\n",
    "# # n진수 -> 10진수\n",
    "# int('숫자', n진법)"
   ]
  },
  {
   "attachments": {},
   "cell_type": "markdown",
   "metadata": {},
   "source": [
    "### 통과)"
   ]
  },
  {
   "cell_type": "code",
   "execution_count": 4,
   "metadata": {},
   "outputs": [],
   "source": [
    "def convert(num, n):\n",
    "    # 진수를 역순으로 표현 \n",
    "    rev_base = ''\n",
    "    while num > 0:\n",
    "        # num을 n으로 나눈 몫과 나머지 \n",
    "        num, mod = divmod(num, n)\n",
    "        rev_base += str(mod)\n",
    "    # num을 n진법으로 표현된 수 => rev_base[::-1]\n",
    "    # 3진법으로 바꾼 수를 앞뒤 반전하기 위해 rev_base 그대로 반환 \n",
    "    return rev_base\n",
    "\n",
    "def solution(n):\n",
    "    # 3진법으로 바꾼 수를 앞뒤 반전한 값\n",
    "    third = convert(n, 3)\n",
    "    # 3진수 -> 10진수\n",
    "    return int(third, 3)"
   ]
  },
  {
   "cell_type": "code",
   "execution_count": 5,
   "metadata": {},
   "outputs": [
    {
     "data": {
      "text/plain": [
       "7"
      ]
     },
     "execution_count": 5,
     "metadata": {},
     "output_type": "execute_result"
    }
   ],
   "source": [
    "n = 45\n",
    "solution(n)"
   ]
  },
  {
   "attachments": {},
   "cell_type": "markdown",
   "metadata": {},
   "source": [
    "### 다른 풀이"
   ]
  },
  {
   "cell_type": "code",
   "execution_count": null,
   "metadata": {},
   "outputs": [],
   "source": [
    "def solution(n):\n",
    "    tmp = ''\n",
    "    while n:\n",
    "        tmp += str(n % 3)\n",
    "        n = n // 3\n",
    "\n",
    "    answer = int(tmp, 3)\n",
    "    return answer"
   ]
  },
  {
   "attachments": {},
   "cell_type": "markdown",
   "metadata": {},
   "source": [
    "-> 하나의 함수로 구현"
   ]
  }
 ],
 "metadata": {
  "kernelspec": {
   "display_name": "base",
   "language": "python",
   "name": "python3"
  },
  "language_info": {
   "codemirror_mode": {
    "name": "ipython",
    "version": 3
   },
   "file_extension": ".py",
   "mimetype": "text/x-python",
   "name": "python",
   "nbconvert_exporter": "python",
   "pygments_lexer": "ipython3",
   "version": "3.9.7"
  },
  "orig_nbformat": 4
 },
 "nbformat": 4,
 "nbformat_minor": 2
}

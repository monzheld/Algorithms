{
 "cells": [
  {
   "attachments": {},
   "cell_type": "markdown",
   "metadata": {},
   "source": [
    "[문제](https://school.programmers.co.kr/learn/courses/30/lessons/77884)"
   ]
  },
  {
   "attachments": {},
   "cell_type": "markdown",
   "metadata": {},
   "source": [
    "- 두 정수 left와 right가 매개변수로 주어짐\n",
    "- left부터 right까지의 모든 수들 중에서, **약수의 개수가 짝수인 수는 더하고, 약수의 개수가 홀수인 수는 뺀 수**를 return "
   ]
  },
  {
   "attachments": {},
   "cell_type": "markdown",
   "metadata": {},
   "source": [
    "**제한사항**\n",
    "\n",
    "- 1 ≤ left ≤ right ≤ 1,000"
   ]
  },
  {
   "cell_type": "code",
   "execution_count": null,
   "metadata": {},
   "outputs": [],
   "source": [
    "\"\"\"\n",
    "입출력 예시)\n",
    "\n",
    "left = 13, right = 17 -> 43\n",
    "left = 24, right = 27 -> 52\n",
    "\"\"\""
   ]
  },
  {
   "cell_type": "code",
   "execution_count": null,
   "metadata": {},
   "outputs": [],
   "source": [
    "# 입출력 예 #1\n",
    "# left = 13, right = 17 -> 43\n",
    "\n",
    "# => 13 + 14 + 15 - 16 + 17 = 43"
   ]
  },
  {
   "attachments": {},
   "cell_type": "markdown",
   "metadata": {},
   "source": [
    "<img width=\"283\" alt=\"스크린샷 2023-05-24 20 38 41\" src=\"https://github.com/monzheld/Algorithms/assets/93971420/e6b105d1-9809-4e40-8a02-4e41fe678b0a\">"
   ]
  },
  {
   "cell_type": "code",
   "execution_count": null,
   "metadata": {},
   "outputs": [],
   "source": [
    "# 입출력 예 #2\n",
    "# left = 24, right = 27 -> 52\n",
    "\n",
    "# => 24 - 25 + 26 + 27 = 52"
   ]
  },
  {
   "attachments": {},
   "cell_type": "markdown",
   "metadata": {},
   "source": [
    "<img width=\"343\" alt=\"스크린샷 2023-05-24 20 39 46\" src=\"https://github.com/monzheld/Algorithms/assets/93971420/2aa88238-d3ef-42a4-aef5-26efd0fe18f7\">"
   ]
  },
  {
   "attachments": {},
   "cell_type": "markdown",
   "metadata": {},
   "source": [
    "## 2023/05/24"
   ]
  },
  {
   "cell_type": "code",
   "execution_count": null,
   "metadata": {},
   "outputs": [],
   "source": [
    "## 의사코드 ##\n",
    "\n",
    "# 약수 구하기 \n",
    "# def get_divisor(n):\n",
    "#     data = set()\n",
    "      # 1부터 n의 양의 제곱근까지 n과 나눠지는지 확인\n",
    "#     for i in range(1, int(n ** (1 / 2)) + 1):\n",
    "#         if n % i == 0:\n",
    "#             data.add(i)\n",
    "#             data.add(n // i)\n",
    "#     return sorted(data)\n",
    "\n",
    "# 약수의 개수가 짝수이면 더하고 홀수이면 빼기\n",
    "# for i in range(left, right+1):\n",
    "#     if len(get_divisor(i)) % 2 == 0:\n",
    "#         answer += i\n",
    "#     else:\n",
    "#         answer -= i"
   ]
  },
  {
   "attachments": {},
   "cell_type": "markdown",
   "metadata": {},
   "source": [
    "### 통과)"
   ]
  },
  {
   "cell_type": "code",
   "execution_count": 1,
   "metadata": {},
   "outputs": [],
   "source": [
    "def get_divisor(n):\n",
    "    # 약수 구하기\n",
    "    data = set()\n",
    "    # 1부터 n의 양의 제곱근까지 n과 나눠지는지 확인\n",
    "    for i in range(1, int(n ** (1 / 2)) + 1):\n",
    "        if n % i == 0:\n",
    "            data.add(i)\n",
    "            data.add(n // i)\n",
    "    return sorted(data)\n",
    "\n",
    "def solution(left, right):\n",
    "    answer = 0\n",
    "    for i in range(left, right+1):\n",
    "        # 약수의 개수가 짝수이면 더하기\n",
    "        if len(get_divisor(i)) % 2 == 0:\n",
    "            answer += i\n",
    "        # 약수의 개수가 홀수이면 빼기\n",
    "        else:\n",
    "            answer -= i\n",
    "    return answer"
   ]
  },
  {
   "cell_type": "code",
   "execution_count": 2,
   "metadata": {},
   "outputs": [
    {
     "data": {
      "text/plain": [
       "43"
      ]
     },
     "execution_count": 2,
     "metadata": {},
     "output_type": "execute_result"
    }
   ],
   "source": [
    "left = 13\n",
    "right = 17\n",
    "solution(left, right)"
   ]
  },
  {
   "cell_type": "code",
   "execution_count": 3,
   "metadata": {},
   "outputs": [
    {
     "data": {
      "text/plain": [
       "52"
      ]
     },
     "execution_count": 3,
     "metadata": {},
     "output_type": "execute_result"
    }
   ],
   "source": [
    "left = 24\n",
    "right = 27\n",
    "solution(left, right)"
   ]
  }
 ],
 "metadata": {
  "kernelspec": {
   "display_name": "base",
   "language": "python",
   "name": "python3"
  },
  "language_info": {
   "codemirror_mode": {
    "name": "ipython",
    "version": 3
   },
   "file_extension": ".py",
   "mimetype": "text/x-python",
   "name": "python",
   "nbconvert_exporter": "python",
   "pygments_lexer": "ipython3",
   "version": "3.9.7"
  },
  "orig_nbformat": 4
 },
 "nbformat": 4,
 "nbformat_minor": 2
}

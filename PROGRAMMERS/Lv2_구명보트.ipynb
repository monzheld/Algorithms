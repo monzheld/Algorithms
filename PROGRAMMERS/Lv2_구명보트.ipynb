{
 "cells": [
  {
   "attachments": {},
   "cell_type": "markdown",
   "metadata": {},
   "source": [
    "[문제](https://school.programmers.co.kr/learn/courses/30/lessons/42885)"
   ]
  },
  {
   "attachments": {},
   "cell_type": "markdown",
   "metadata": {},
   "source": [
    "### 탐욕(Greedy)"
   ]
  },
  {
   "attachments": {},
   "cell_type": "markdown",
   "metadata": {},
   "source": [
    "- 무인도에 갇힌 사람들을 구명보트를 이용하여 구출하려고 함\n",
    "- 구명보트는 작아서 **한 번에 최대 2명씩 밖에 탈 수 없고**, 무게 제한도 있음\n",
    "- 예를 들어, 사람들의 몸무게가 [70kg, 50kg, 80kg, 50kg]이고 구명보트의 무게 제한이 100kg이라면 \n",
    "    - 2번째 사람과 4번째 사람은 같이 탈 수 있지만\n",
    "    - 1번째 사람과 3번째 사람의 무게의 합은 150kg이므로 구명보트의 무게 제한을 초과하여 같이 탈 수 없음\n",
    "- 구명보트를 최대한 적게 사용하여 모든 사람을 구출하려고 함\n",
    "- 사람들의 몸무게를 담은 배열 people과 구명보트의 무게 제한 limit가 매개변수로 주어질 때, **모든 사람을 구출하기 위해 필요한 구명보트 개수의 최솟값**을 return"
   ]
  },
  {
   "attachments": {},
   "cell_type": "markdown",
   "metadata": {},
   "source": [
    "**제한사항**\n",
    "\n",
    "- 무인도에 갇힌 사람은 1명 이상 50,000명 이하\n",
    "- 각 사람의 몸무게는 40kg 이상 240kg 이하\n",
    "- 구명보트의 무게 제한은 40kg 이상 240kg 이하\n",
    "- 구명보트의 무게 제한은 항상 사람들의 몸무게 중 최댓값보다 크게 주어지므로 사람들을 구출할 수 없는 경우는 없음"
   ]
  },
  {
   "cell_type": "code",
   "execution_count": null,
   "metadata": {},
   "outputs": [],
   "source": [
    "\"\"\"\n",
    "입출력 예시)\n",
    "\n",
    "people = [70, 50, 80, 50], limit = 100 -> 3\n",
    "people = [70, 80, 50], limit = 100 -> 3\n",
    "\"\"\""
   ]
  },
  {
   "attachments": {},
   "cell_type": "markdown",
   "metadata": {},
   "source": [
    "## 2023/04/14"
   ]
  },
  {
   "cell_type": "code",
   "execution_count": null,
   "metadata": {},
   "outputs": [],
   "source": [
    "## 의사코드 ## \n",
    "\n",
    "# 구명보트에 탑승할 수 있는 최대 인원수: 2\n",
    "    # 1) 몸무게가 가장 가벼운 사람 + 몸무게가 가장 무거운 사람을 같이 태우기 \n",
    "    # 2) 몸무게가 가장 무거운 사람 혼자 태우기 "
   ]
  },
  {
   "attachments": {},
   "cell_type": "markdown",
   "metadata": {},
   "source": [
    "### 통과)"
   ]
  },
  {
   "cell_type": "code",
   "execution_count": 16,
   "metadata": {},
   "outputs": [],
   "source": [
    "def solution(people, limit):\n",
    "    answer = 0\n",
    "    # 몸무게가 가장 가벼운 사람부터 오름차순 정렬\n",
    "    people.sort()\n",
    "    # 몸무게가 가장 가벼운 사람의 인덱스, 가장 무거운 사람의 인덱스\n",
    "    i, j = 0, len(people)-1\n",
    "\n",
    "    while i <= j:\n",
    "        answer += 1\n",
    "        # 가장 가벼운 사람과 가장 무거운 사람을 함께 태울 수 있는 경우 \n",
    "        if people[i] + people[j] <= limit:\n",
    "            i += 1 # 가장 가벼운 사람의 인덱스 증가 \n",
    "            j -= 1 # 가장 무거운 사람의 인덱스 감소\n",
    "        # 가장 무거운 사람 혼자서만 탈 수 있는 경우 \n",
    "        else:\n",
    "            j -= 1\n",
    "\n",
    "    return answer"
   ]
  },
  {
   "cell_type": "code",
   "execution_count": 17,
   "metadata": {},
   "outputs": [
    {
     "data": {
      "text/plain": [
       "3"
      ]
     },
     "execution_count": 17,
     "metadata": {},
     "output_type": "execute_result"
    }
   ],
   "source": [
    "people = [70, 50, 80, 50]\n",
    "limit = 100\n",
    "solution(people, limit)"
   ]
  },
  {
   "cell_type": "code",
   "execution_count": 18,
   "metadata": {},
   "outputs": [
    {
     "data": {
      "text/plain": [
       "3"
      ]
     },
     "execution_count": 18,
     "metadata": {},
     "output_type": "execute_result"
    }
   ],
   "source": [
    "people = [70, 80, 50]\n",
    "limit = 100\n",
    "solution(people, limit)"
   ]
  },
  {
   "cell_type": "code",
   "execution_count": null,
   "metadata": {},
   "outputs": [],
   "source": [
    "# 과정 확인 "
   ]
  },
  {
   "cell_type": "code",
   "execution_count": 14,
   "metadata": {},
   "outputs": [],
   "source": [
    "def solution(people, limit):\n",
    "    answer = 0\n",
    "    # 몸무게가 가장 가벼운 사람부터 오름차순 정렬\n",
    "    people.sort()\n",
    "    # 몸무게가 가장 가벼운 사람의 인덱스, 가장 무거운 사람의 인덱스\n",
    "    i, j = 0, len(people)-1\n",
    "\n",
    "    while i <= j:\n",
    "        print('몸무게가 가장 가벼운 사람:', people[i])\n",
    "        print('몸무게가 가장 무거운 사람:', people[j])\n",
    "        answer += 1\n",
    "        # 가장 가벼운 사람과 가장 무거운 사람을 함께 태울 수 있는 경우 \n",
    "        if people[i] + people[j] <= limit:\n",
    "            print('[가장 가벼운 사람과 가장 무거운 사람이 함께 탈 수 있는 경우]', '\\n')\n",
    "            i += 1 # 가장 가벼운 사람의 인덱스 증가 \n",
    "            j -= 1 # 가장 무거운 사람의 인덱스 감소\n",
    "        # 가장 무거운 사람 혼자서만 탈 수 있는 경우 \n",
    "        else:\n",
    "            print('<가장 무거운 사람 혼자서만 탈 수 있는 경우>', '\\n')\n",
    "            j -= 1\n",
    "\n",
    "    return answer"
   ]
  },
  {
   "cell_type": "code",
   "execution_count": 15,
   "metadata": {},
   "outputs": [
    {
     "name": "stdout",
     "output_type": "stream",
     "text": [
      "몸무게가 가장 가벼운 사람: 50\n",
      "몸무게가 가장 무거운 사람: 80\n",
      "<가장 무거운 사람 혼자서만 탈 수 있는 경우> \n",
      "\n",
      "몸무게가 가장 가벼운 사람: 50\n",
      "몸무게가 가장 무거운 사람: 70\n",
      "<가장 무거운 사람 혼자서만 탈 수 있는 경우> \n",
      "\n",
      "몸무게가 가장 가벼운 사람: 50\n",
      "몸무게가 가장 무거운 사람: 50\n",
      "[가장 가벼운 사람과 가장 무거운 사람이 함께 탈 수 있는 경우] \n",
      "\n"
     ]
    },
    {
     "data": {
      "text/plain": [
       "3"
      ]
     },
     "execution_count": 15,
     "metadata": {},
     "output_type": "execute_result"
    }
   ],
   "source": [
    "people = [70, 50, 80, 50]\n",
    "limit = 100\n",
    "solution(people, limit)"
   ]
  }
 ],
 "metadata": {
  "kernelspec": {
   "display_name": "base",
   "language": "python",
   "name": "python3"
  },
  "language_info": {
   "codemirror_mode": {
    "name": "ipython",
    "version": 3
   },
   "file_extension": ".py",
   "mimetype": "text/x-python",
   "name": "python",
   "nbconvert_exporter": "python",
   "pygments_lexer": "ipython3",
   "version": "3.9.7"
  },
  "orig_nbformat": 4
 },
 "nbformat": 4,
 "nbformat_minor": 2
}

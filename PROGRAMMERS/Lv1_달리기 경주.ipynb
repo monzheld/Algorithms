{
 "cells": [
  {
   "attachments": {},
   "cell_type": "markdown",
   "metadata": {},
   "source": [
    "[문제](https://school.programmers.co.kr/learn/courses/30/lessons/178871)"
   ]
  },
  {
   "attachments": {},
   "cell_type": "markdown",
   "metadata": {},
   "source": [
    "- 해설진들은 **선수들이 자기 바로 앞의 선수를 추월할 때 추월한 선수의 이름을 부름**\n",
    "- 예를 들어 1등부터 3등까지 \"mumu\", \"soe\", \"poe\" 선수들이 순서대로 달리고 있을 때,해설진이 \"soe\"선수를 불렀다면 \n",
    "    - 2등인 \"soe\" 선수가 1등인 \"mumu\" 선수를 추월했다는 것\n",
    "    - 즉 \"soe\" 선수가 1등, \"mumu\" 선수가 2등으로 바뀜\n",
    "- 선수들의 이름이 1등부터 현재 등수 순서대로 담긴 문자열 배열 players와 해설진이 부른 이름을 담은 문자열 배열 callings가 매개변수로 주어질 때, **경주가 끝났을 때 선수들의 이름을 1등부터 등수 순서대로** 배열에 담아 return"
   ]
  },
  {
   "attachments": {},
   "cell_type": "markdown",
   "metadata": {},
   "source": [
    "**제한사항**\n",
    "\n",
    "- 5 ≤ players의 길이 ≤ 50,000\n",
    "    - players[i]는 i번째 선수의 이름을 의미\n",
    "    - players의 원소들은 알파벳 소문자로만 이루어져 있음\n",
    "    - players에는 중복된 값이 들어가 있지 않음\n",
    "    - 3 ≤ players[i]의 길이 ≤ 10\n",
    "- 2 ≤ callings의 길이 ≤ 1,000,000\n",
    "    - callings는 players의 원소들로만 이루어져 있음\n",
    "    - 경주 진행중 **1등인 선수의 이름은 불리지 않음**"
   ]
  },
  {
   "cell_type": "code",
   "execution_count": null,
   "metadata": {},
   "outputs": [],
   "source": [
    "\"\"\"\n",
    "입출력 예시)\n",
    "\n",
    "players = [\"mumu\", \"soe\", \"poe\", \"kai\", \"mine\"], callings = [\"kai\", \"kai\", \"mine\", \"mine\"] -> [\"mumu\", \"kai\", \"mine\", \"soe\", \"poe\"]\n",
    "\"\"\""
   ]
  },
  {
   "cell_type": "code",
   "execution_count": null,
   "metadata": {},
   "outputs": [],
   "source": [
    "# players = [\"mumu\", \"soe\", \"poe\", \"kai\", \"mine\"], callings = [\"kai\", \"kai\", \"mine\", \"mine\"] -> [\"mumu\", \"kai\", \"mine\", \"soe\", \"poe\"]\n",
    "\n",
    "# 4등인 \"kai\" 선수가 2번 추월하여 2등이 되고 앞서 3등, 2등인 \"poe\", \"soe\" 선수는 4등, 3등이 됨\n",
    "# 5등인 \"mine\" 선수가 2번 추월하여 4등, 3등인 \"poe\", \"soe\" 선수가 5등, 4등이 되고 경주가 끝남\n",
    "# => [\"mumu\", \"kai\", \"mine\", \"soe\", \"poe\"]"
   ]
  },
  {
   "attachments": {},
   "cell_type": "markdown",
   "metadata": {},
   "source": [
    "## 2023/04/12"
   ]
  },
  {
   "cell_type": "code",
   "execution_count": null,
   "metadata": {},
   "outputs": [],
   "source": [
    "## 의사코드 ##\n",
    "\n",
    "# 2개의 딕셔너리 활용\n",
    "\n",
    "# 선수 딕셔너리\n",
    "# player_dic = {p:i for i, p in enumerate(players)}\n",
    "\n",
    "# 등수 딕셔너리 \n",
    "# idx_dic = {i:p for i, p in enumerate(players)}\n",
    "\n",
    "# for call in callings:\n",
    "      # 선수 딕셔너리 업데이트) 현재 선수의 등수는 앞 등수로, 앞 선수의 등수는 현재 등수로 swap \n",
    "      # 등수 딕셔너리 업데이트) 현재 등수의 선수를 앞 선수로, 앞 등수의 선수를 현재 선수로 swap \n",
    "\n",
    "# 1등 선수부터 배열로 출력 \n",
    "# list(idx_dic.values())"
   ]
  },
  {
   "attachments": {},
   "cell_type": "markdown",
   "metadata": {},
   "source": [
    "### 통과)"
   ]
  },
  {
   "cell_type": "code",
   "execution_count": 14,
   "metadata": {},
   "outputs": [],
   "source": [
    "def solution(players, callings):\n",
    "    # 선수 딕셔너리\n",
    "    player_dic = {p:i for i, p in enumerate(players)}\n",
    "    # 등수 딕셔너리\n",
    "    idx_dic = {i:p for i, p in enumerate(players)}\n",
    "    for call in callings:\n",
    "        # 현재 등수\n",
    "        cur_idx = player_dic[call]\n",
    "        # 앞 등수\n",
    "        front_idx = cur_idx - 1\n",
    "\n",
    "        # 현재 선수 = call\n",
    "        # 앞 선수\n",
    "        front_player = idx_dic[front_idx]\n",
    "\n",
    "        # 선수 딕셔너리 업데이트) 현재 선수의 등수는 앞 등수로, 앞 선수의 등수는 현재 등수로 swap \n",
    "        player_dic[call], player_dic[front_player] = front_idx, cur_idx\n",
    "        # 등수 딕셔너리 업데이트) 현재 등수의 선수를 앞 선수로, 앞 등수의 선수를 현재 선수로 swap \n",
    "        idx_dic[cur_idx], idx_dic[front_idx] = front_player, call \n",
    "\n",
    "    # 1등 선수부터 배열로 출력 \n",
    "    return list(idx_dic.values())"
   ]
  },
  {
   "cell_type": "code",
   "execution_count": 15,
   "metadata": {},
   "outputs": [
    {
     "data": {
      "text/plain": [
       "['mumu', 'kai', 'mine', 'soe', 'poe']"
      ]
     },
     "execution_count": 15,
     "metadata": {},
     "output_type": "execute_result"
    }
   ],
   "source": [
    "players = [\"mumu\", \"soe\", \"poe\", \"kai\", \"mine\"]\n",
    "callings = [\"kai\", \"kai\", \"mine\", \"mine\"]\n",
    "solution(players, callings)"
   ]
  },
  {
   "cell_type": "code",
   "execution_count": null,
   "metadata": {},
   "outputs": [],
   "source": [
    "# 과정 확인"
   ]
  },
  {
   "cell_type": "code",
   "execution_count": 16,
   "metadata": {},
   "outputs": [],
   "source": [
    "def solution(players, callings):\n",
    "    # 선수 딕셔너리\n",
    "    player_dic = {p:i for i, p in enumerate(players)}\n",
    "    # 등수 딕셔너리\n",
    "    idx_dic = {i:p for i, p in enumerate(players)}\n",
    "    for call in callings:\n",
    "        print('호명된 선수(현재 선수):', call)\n",
    "        # 현재 등수\n",
    "        cur_idx = player_dic[call]\n",
    "        print('현재 선수의 현재 등수:', cur_idx)\n",
    "        # 앞 등수\n",
    "        front_idx = cur_idx - 1\n",
    "\n",
    "        # 현재 선수 = call\n",
    "        # 앞 선수\n",
    "        front_player = idx_dic[front_idx]\n",
    "        print('앞 선수:', front_player)\n",
    "        print('앞 선수의 등수:', front_idx, '\\n')\n",
    "\n",
    "        # 선수 딕셔너리 업데이트) 현재 선수의 등수는 앞 등수로, 앞 선수의 등수는 현재 등수로 swap \n",
    "        player_dic[call], player_dic[front_player] = front_idx, cur_idx\n",
    "        # 등수 딕셔너리 업데이트) 현재 등수의 선수를 앞 선수로, 앞 등수의 선수를 현재 선수로 swap \n",
    "        idx_dic[cur_idx], idx_dic[front_idx] = front_player, call \n",
    "        print('업데이트된 선수 딕셔너리:', player_dic)\n",
    "        print('업데이트된 등수 딕셔너리:', idx_dic)\n",
    "        print('-'*50)\n",
    "\n",
    "    # 1등 선수부터 배열로 출력 \n",
    "    return list(idx_dic.values())"
   ]
  },
  {
   "cell_type": "code",
   "execution_count": 17,
   "metadata": {},
   "outputs": [
    {
     "name": "stdout",
     "output_type": "stream",
     "text": [
      "호명된 선수(현재 선수): kai\n",
      "현재 선수의 현재 등수: 3\n",
      "앞 선수: poe\n",
      "앞 선수의 등수: 2 \n",
      "\n",
      "업데이트된 선수 딕셔너리: {'mumu': 0, 'soe': 1, 'poe': 3, 'kai': 2, 'mine': 4}\n",
      "업데이트된 등수 딕셔너리: {0: 'mumu', 1: 'soe', 2: 'kai', 3: 'poe', 4: 'mine'}\n",
      "--------------------------------------------------\n",
      "호명된 선수(현재 선수): kai\n",
      "현재 선수의 현재 등수: 2\n",
      "앞 선수: soe\n",
      "앞 선수의 등수: 1 \n",
      "\n",
      "업데이트된 선수 딕셔너리: {'mumu': 0, 'soe': 2, 'poe': 3, 'kai': 1, 'mine': 4}\n",
      "업데이트된 등수 딕셔너리: {0: 'mumu', 1: 'kai', 2: 'soe', 3: 'poe', 4: 'mine'}\n",
      "--------------------------------------------------\n",
      "호명된 선수(현재 선수): mine\n",
      "현재 선수의 현재 등수: 4\n",
      "앞 선수: poe\n",
      "앞 선수의 등수: 3 \n",
      "\n",
      "업데이트된 선수 딕셔너리: {'mumu': 0, 'soe': 2, 'poe': 4, 'kai': 1, 'mine': 3}\n",
      "업데이트된 등수 딕셔너리: {0: 'mumu', 1: 'kai', 2: 'soe', 3: 'mine', 4: 'poe'}\n",
      "--------------------------------------------------\n",
      "호명된 선수(현재 선수): mine\n",
      "현재 선수의 현재 등수: 3\n",
      "앞 선수: soe\n",
      "앞 선수의 등수: 2 \n",
      "\n",
      "업데이트된 선수 딕셔너리: {'mumu': 0, 'soe': 3, 'poe': 4, 'kai': 1, 'mine': 2}\n",
      "업데이트된 등수 딕셔너리: {0: 'mumu', 1: 'kai', 2: 'mine', 3: 'soe', 4: 'poe'}\n",
      "--------------------------------------------------\n"
     ]
    },
    {
     "data": {
      "text/plain": [
       "['mumu', 'kai', 'mine', 'soe', 'poe']"
      ]
     },
     "execution_count": 17,
     "metadata": {},
     "output_type": "execute_result"
    }
   ],
   "source": [
    "players = [\"mumu\", \"soe\", \"poe\", \"kai\", \"mine\"]\n",
    "callings = [\"kai\", \"kai\", \"mine\", \"mine\"]\n",
    "solution(players, callings)"
   ]
  },
  {
   "attachments": {},
   "cell_type": "markdown",
   "metadata": {},
   "source": [
    "### 다른 풀이"
   ]
  },
  {
   "cell_type": "code",
   "execution_count": null,
   "metadata": {},
   "outputs": [],
   "source": [
    "def solution(players, callings):\n",
    "    player_indices = {player: index for index, player in enumerate(players)}\n",
    "\n",
    "    for j in callings:\n",
    "        current_index = player_indices[j]\n",
    "        desired_index = current_index - 1\n",
    "        if current_index > 0 and players[desired_index] != j:\n",
    "            players[current_index], players[desired_index] = players[desired_index], players[current_index]\n",
    "            player_indices[players[current_index]] = current_index\n",
    "            player_indices[players[desired_index]] = desired_index\n",
    "\n",
    "    return players"
   ]
  },
  {
   "attachments": {},
   "cell_type": "markdown",
   "metadata": {},
   "source": [
    "-> 하나의 딕셔너리만 활용"
   ]
  }
 ],
 "metadata": {
  "kernelspec": {
   "display_name": "base",
   "language": "python",
   "name": "python3"
  },
  "language_info": {
   "codemirror_mode": {
    "name": "ipython",
    "version": 3
   },
   "file_extension": ".py",
   "mimetype": "text/x-python",
   "name": "python",
   "nbconvert_exporter": "python",
   "pygments_lexer": "ipython3",
   "version": "3.9.7"
  },
  "orig_nbformat": 4
 },
 "nbformat": 4,
 "nbformat_minor": 2
}

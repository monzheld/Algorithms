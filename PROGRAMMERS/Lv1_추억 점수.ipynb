{
 "cells": [
  {
   "attachments": {},
   "cell_type": "markdown",
   "metadata": {},
   "source": [
    "[문제](https://school.programmers.co.kr/learn/courses/30/lessons/176963)"
   ]
  },
  {
   "attachments": {},
   "cell_type": "markdown",
   "metadata": {},
   "source": [
    "- **사진 속에 나오는 인물의 그리움 점수를 모두 합산한 값**이 해당 사진의 추억 점수\n",
    "    - 예를 들어 사진 속 인물의 이름이 [\"may\", \"kein\", \"kain\"]이고 각 인물의 그리움 점수가 [5점, 10점, 1점]일 때 \n",
    "        - 해당 사진의 추억 점수는 16(5 + 10 + 1)점\n",
    "    - 다른 사진 속 인물의 이름이 [\"kali\", \"mari\", \"don\", \"tony\"]이고 [\"kali\", \"mari\", \"don\"]의 그리움 점수가 각각 [11점, 1점, 55점]]이고, \"tony\"는 그리움 점수가 없을 때,\n",
    "        - 이 사진의 추억 점수는 3명의 그리움 점수를 합한 67(11 + 1 + 55)점\n",
    "- 그리워하는 사람의 이름을 담은 문자열 배열 name, 각 사람별 그리움 점수를 담은 정수 배열 yearning, 각 사진에 찍힌 인물의 이름을 담은 이차원 문자열 배열 photo가 매개변수로 주어질 때, 사진들의 추억 점수를 photo에 주어진 순서대로 배열에 담아 return"
   ]
  },
  {
   "attachments": {},
   "cell_type": "markdown",
   "metadata": {},
   "source": [
    "**제한사항**\n",
    "\n",
    "- 3 ≤ name의 길이 = yearning의 길이≤ 100\n",
    "    - 3 ≤ name의 원소의 길이 ≤ 7\n",
    "    - name의 원소들은 알파벳 소문자로만 이루어져 있음\n",
    "    - name에는 중복된 값이 들어가지 않음\n",
    "    - 1 ≤ yearning[i] ≤ 100\n",
    "    - yearning[i]는 i번째 사람의 그리움 점수\n",
    "- 3 ≤ photo의 길이 ≤ 100\n",
    "    - 1 ≤ photo[i]의 길이 ≤ 100\n",
    "    - 3 ≤ photo[i]의 원소(문자열)의 길이 ≤ 7\n",
    "    - photo[i]의 원소들은 알파벳 소문자로만 이루어져 있음\n",
    "    - photo[i]의 원소들은 중복된 값이 들어가지 않음"
   ]
  },
  {
   "cell_type": "code",
   "execution_count": null,
   "metadata": {},
   "outputs": [],
   "source": [
    "\"\"\"\n",
    "입출력 예시)\n",
    "\n",
    "name = [\"may\", \"kein\", \"kain\", \"radi\"], yearning = [5, 10, 1, 3], photo = [[\"may\", \"kein\", \"kain\", \"radi\"],[\"may\", \"kein\", \"brin\", \"deny\"], [\"kon\", \"kain\", \"may\", \"coni\"]] -> [19, 15, 6]\n",
    "name = [\"kali\", \"mari\", \"don\"], yearning = [11, 1, 55], photo = [[\"kali\", \"mari\", \"don\"], [\"pony\", \"tom\", \"teddy\"], [\"con\", \"mona\", \"don\"]] -> [67, 0, 55]\n",
    "name = [\"may\", \"kein\", \"kain\", \"radi\"], yearning = [5, 10, 1, 3], photo = [[\"may\"],[\"kein\", \"deny\", \"may\"], [\"kon\", \"coni\"]] -> [5, 15, 0]\n",
    "\"\"\""
   ]
  },
  {
   "attachments": {},
   "cell_type": "markdown",
   "metadata": {},
   "source": [
    "## 2023/05/21"
   ]
  },
  {
   "cell_type": "code",
   "execution_count": null,
   "metadata": {},
   "outputs": [],
   "source": [
    "## 의사코드 ##\n",
    "\n",
    "# 인물별 그리움 점수를 딕셔너리로 저장\n",
    "#  dic = {k:v for k, v in zip(name, yearning)}\n",
    "\n",
    "# 사진 속 인물의 이름이 그리움 점수가 없을 때는 통과\n",
    "# if p not in dic.keys():\n",
    "#     continue"
   ]
  },
  {
   "attachments": {},
   "cell_type": "markdown",
   "metadata": {},
   "source": [
    "### 통과)"
   ]
  },
  {
   "cell_type": "code",
   "execution_count": 5,
   "metadata": {},
   "outputs": [],
   "source": [
    "def solution(name, yearning, photo):\n",
    "    answer = []\n",
    "    # 인물별 그리움 점수를 담은 딕셔너리\n",
    "    dic = {k:v for k, v in zip(name, yearning)}\n",
    "    for ph in photo:\n",
    "        cnt = 0 # 사진의 추억 점수\n",
    "        for p in ph:\n",
    "            # 사진 속 인물의 이름이 그리움 점수가 없을 때는 통과\n",
    "            if p not in dic.keys():\n",
    "                continue\n",
    "            else:\n",
    "                cnt += dic[p]\n",
    "        answer.append(cnt)\n",
    "    return answer"
   ]
  },
  {
   "cell_type": "code",
   "execution_count": 6,
   "metadata": {},
   "outputs": [
    {
     "data": {
      "text/plain": [
       "[19, 15, 6]"
      ]
     },
     "execution_count": 6,
     "metadata": {},
     "output_type": "execute_result"
    }
   ],
   "source": [
    "name = [\"may\", \"kein\", \"kain\", \"radi\"]\n",
    "yearning = [5, 10, 1, 3]\n",
    "photo = [[\"may\", \"kein\", \"kain\", \"radi\"],[\"may\", \"kein\", \"brin\", \"deny\"], [\"kon\", \"kain\", \"may\", \"coni\"]] \n",
    "solution(name, yearning, photo)"
   ]
  },
  {
   "cell_type": "code",
   "execution_count": 7,
   "metadata": {},
   "outputs": [
    {
     "data": {
      "text/plain": [
       "[67, 0, 55]"
      ]
     },
     "execution_count": 7,
     "metadata": {},
     "output_type": "execute_result"
    }
   ],
   "source": [
    "name = [\"kali\", \"mari\", \"don\"]\n",
    "yearning = [11, 1, 55]\n",
    "photo = [[\"kali\", \"mari\", \"don\"], [\"pony\", \"tom\", \"teddy\"], [\"con\", \"mona\", \"don\"]]\n",
    "solution(name, yearning, photo)"
   ]
  },
  {
   "cell_type": "code",
   "execution_count": 8,
   "metadata": {},
   "outputs": [
    {
     "data": {
      "text/plain": [
       "[5, 15, 0]"
      ]
     },
     "execution_count": 8,
     "metadata": {},
     "output_type": "execute_result"
    }
   ],
   "source": [
    "name = [\"may\", \"kein\", \"kain\", \"radi\"]\n",
    "yearning = [5, 10, 1, 3]\n",
    "photo = [[\"may\"],[\"kein\", \"deny\", \"may\"], [\"kon\", \"coni\"]]\n",
    "solution(name, yearning, photo)"
   ]
  },
  {
   "attachments": {},
   "cell_type": "markdown",
   "metadata": {},
   "source": [
    "### 다른 풀이"
   ]
  },
  {
   "cell_type": "code",
   "execution_count": null,
   "metadata": {},
   "outputs": [],
   "source": [
    "def solution(name, yearning, photo):\n",
    "    return [sum(yearning[name.index(j)] for j in i if j in name) for i in photo]"
   ]
  },
  {
   "attachments": {},
   "cell_type": "markdown",
   "metadata": {},
   "source": [
    "-> 한 줄로 작성"
   ]
  }
 ],
 "metadata": {
  "kernelspec": {
   "display_name": "base",
   "language": "python",
   "name": "python3"
  },
  "language_info": {
   "codemirror_mode": {
    "name": "ipython",
    "version": 3
   },
   "file_extension": ".py",
   "mimetype": "text/x-python",
   "name": "python",
   "nbconvert_exporter": "python",
   "pygments_lexer": "ipython3",
   "version": "3.9.7"
  },
  "orig_nbformat": 4
 },
 "nbformat": 4,
 "nbformat_minor": 2
}

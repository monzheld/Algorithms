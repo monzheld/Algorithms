{
 "cells": [
  {
   "attachments": {},
   "cell_type": "markdown",
   "metadata": {},
   "source": [
    "[문제](https://school.programmers.co.kr/learn/courses/30/lessons/42842)"
   ]
  },
  {
   "attachments": {},
   "cell_type": "markdown",
   "metadata": {},
   "source": [
    "### 완전탐색"
   ]
  },
  {
   "attachments": {},
   "cell_type": "markdown",
   "metadata": {},
   "source": [
    "<img width=\"468\" alt=\"스크린샷 2023-01-12 21 50 27\" src=\"https://user-images.githubusercontent.com/93971420/212070899-00a87b7a-f84d-4c50-abe5-234733fe36f4.png\">"
   ]
  },
  {
   "attachments": {},
   "cell_type": "markdown",
   "metadata": {},
   "source": [
    "- Leo는 그림과 같이 **중앙에는 노란색으로 칠해져 있고 테두리 1줄은 갈색으로 칠해져 있는** 격자 모양 카펫을 봤음\n",
    "- 아까 본 카펫의 노란색과 갈색으로 색칠된 격자의 개수는 기억했지만, 전체 카펫의 크기는 기억하지 못함\n",
    "- brown: 갈색 격자의 수\n",
    "- yellow: 노란색 격자의 수\n",
    "- **카펫의 가로, 세로 크기를 순서대로 배열**에 담아 return"
   ]
  },
  {
   "attachments": {},
   "cell_type": "markdown",
   "metadata": {},
   "source": [
    "**제한사항**\n",
    "\n",
    "- 갈색 격자의 수 brown은 8 이상 5,000 이하인 자연수\n",
    "- 노란색 격자의 수 yellow는 1 이상 2,000,000 이하인 자연수\n",
    "- 카펫의 **가로 길이는 세로 길이와 같거나, 세로 길이보다 김**"
   ]
  },
  {
   "cell_type": "code",
   "execution_count": null,
   "metadata": {},
   "outputs": [],
   "source": [
    "\"\"\"\n",
    "입출력 예시)\n",
    "\n",
    "brown = 10, yellow = 2 -> [4, 3]\n",
    "brown = 8, yellow = 1 -> [3, 3]\n",
    "brown = 24, yellow = 24 -> [8, 6]\n",
    "\"\"\""
   ]
  },
  {
   "attachments": {},
   "cell_type": "markdown",
   "metadata": {},
   "source": [
    "## 2023/01/12"
   ]
  },
  {
   "attachments": {},
   "cell_type": "markdown",
   "metadata": {},
   "source": [
    "### 1) "
   ]
  },
  {
   "cell_type": "code",
   "execution_count": null,
   "metadata": {},
   "outputs": [],
   "source": [
    "## 의사코드 ##\n",
    "\n",
    "# brown의 개수 + yellow의 개수 = 가로 * 세로\n",
    "# -> 가로, 세로는 (brown의 개수 + yellow의 개수)의 약수\n",
    "\n",
    "# 1) (brown의 개수 + yellow의 개수)의 약수 리스트를 구함\n",
    "\n",
    "# 2) 약수 리스트를 오름차순 정렬\n",
    "\n",
    "# 3) 세로는 3의 배수인 것을 이용해 세로 후보 리스트를 구함\n",
    "\n",
    "# 4) 가로, 세로 후보 리스트를 생성해서 \n",
    "# 세로 후보들 중에서 (brown의 개수 + yellow의 개수)를 나눴을 때의 몫이 자신보다 크거나 같은 경우가 가로이므로 \n",
    "# 리스트.append((가로, 세로))\n",
    "\n",
    "# 가로, 세로 후보 리스트 중 맨 첫 번째 튜플이 정답\n",
    "# return [가로, 세로]"
   ]
  },
  {
   "cell_type": "code",
   "execution_count": 21,
   "metadata": {},
   "outputs": [],
   "source": [
    "def solution(brown, yellow): \n",
    "    #answer = []\n",
    "    # brown의 개수 + yellow의 개수\n",
    "    total = brown + yellow \n",
    "    # total의 약수 리스트\n",
    "    divisor = [i for i in range(1, total+1) if total % i == 0] \n",
    "    # 약수 리스트 오름차순 정렬\n",
    "    divisor.sort(reverse=True)\n",
    "    # 세로 후보 리스트 (세로는 3의 배수)\n",
    "    h_list = [d for d in divisor if d % 3 == 0]\n",
    "\n",
    "    # 가로, 세로 후보 리스트\n",
    "    wh_list = []\n",
    "    # 세로 후보들 중에서 (brown의 개수 + yellow의 개수)를 나눴을 때의 몫이 자신보다 크거나 같은 경우가 가로 \n",
    "    for h in h_list:\n",
    "        if total // h >= h:\n",
    "            w = total // h\n",
    "            wh_list.append((w, h))\n",
    "\n",
    "    return list(wh_list[0])"
   ]
  },
  {
   "attachments": {},
   "cell_type": "markdown",
   "metadata": {},
   "source": [
    "-> 추가 테스트 케이스 실패 (런타임 에러)\n"
   ]
  },
  {
   "cell_type": "code",
   "execution_count": 22,
   "metadata": {},
   "outputs": [
    {
     "data": {
      "text/plain": [
       "[4, 3]"
      ]
     },
     "execution_count": 22,
     "metadata": {},
     "output_type": "execute_result"
    }
   ],
   "source": [
    "brown = 10\n",
    "yellow = 2\n",
    "solution(brown, yellow)"
   ]
  },
  {
   "cell_type": "code",
   "execution_count": 23,
   "metadata": {},
   "outputs": [
    {
     "data": {
      "text/plain": [
       "[3, 3]"
      ]
     },
     "execution_count": 23,
     "metadata": {},
     "output_type": "execute_result"
    }
   ],
   "source": [
    "brown = 8\n",
    "yellow = 1\n",
    "solution(brown, yellow)"
   ]
  },
  {
   "cell_type": "code",
   "execution_count": 24,
   "metadata": {},
   "outputs": [
    {
     "data": {
      "text/plain": [
       "[8, 6]"
      ]
     },
     "execution_count": 24,
     "metadata": {},
     "output_type": "execute_result"
    }
   ],
   "source": [
    "brown = 24\n",
    "yellow = 24\n",
    "solution(brown, yellow)"
   ]
  },
  {
   "attachments": {},
   "cell_type": "markdown",
   "metadata": {},
   "source": [
    "### 통과)"
   ]
  },
  {
   "cell_type": "code",
   "execution_count": null,
   "metadata": {},
   "outputs": [],
   "source": [
    "## 의사코드 ##\n",
    "\n",
    "# 규칙 1)\n",
    "# brown의 개수 + yellow의 개수 = 가로 * 세로\n",
    "# -> 가로, 세로는 (brown의 개수 + yellow의 개수)의 약수\n",
    "\n",
    "# 규칙 2)\n",
    "# (가로 - 2) * (세로 - 2) = yellow \n",
    "#   ex) brown = 24, yellow = 24 -> [8, 6]\n",
    "#       -> yellow = 6 x 4\n",
    "\n",
    "# size = brown + yellow\n",
    "\n",
    "# size부터 1까지 역순으로 for문을 돌면서 가로 길이를 구함\n",
    "#   if size % 가로 == 0:\n",
    "#       세로 = size // 가로 # 세로는 size를 가로로 나눈 몫\n",
    "\n",
    "      # if (가로-2) * (세로-2) == yellow:\n",
    "      #     answer.append(x)\n",
    "      #     answer.append(y)    \n",
    "\n",
    "      # 가로가 세로와 같거나 커야하므로 answer를 오름차순 정렬해서 반환\n",
    "      #return sorted(answer, reverse=True)"
   ]
  },
  {
   "attachments": {},
   "cell_type": "markdown",
   "metadata": {},
   "source": [
    "- (가로 - 2) * (세로 - 2) = yellow \n",
    "\n",
    "    - brown과 yellow 격자 하나의 크기 = 1 x 1\n",
    "\n",
    "    - ex) yellow = 2\n",
    "        - -> yellow = 2 x 1\n",
    "        \n",
    "    - ex) brown = 24, yellow = 24 -> [8, 6]\n",
    "        - -> yellow = 6 x 4"
   ]
  },
  {
   "cell_type": "code",
   "execution_count": 40,
   "metadata": {},
   "outputs": [],
   "source": [
    "def solution(brown, yellow): \n",
    "    answer = []\n",
    "    size = brown + yellow\n",
    "    for w in range(size, 2, -1):\n",
    "        if size % w == 0:\n",
    "            h = size // w\n",
    "            if (w-2) * (h-2) == yellow:\n",
    "                answer.append(w)\n",
    "                answer.append(h)\n",
    "                return sorted(answer, reverse=True)"
   ]
  },
  {
   "attachments": {},
   "cell_type": "markdown",
   "metadata": {},
   "source": [
    "-> (가로 - 2) * (세로 - 2) = yellow 라는 규칙 추가"
   ]
  },
  {
   "cell_type": "code",
   "execution_count": 41,
   "metadata": {},
   "outputs": [
    {
     "data": {
      "text/plain": [
       "[4, 3]"
      ]
     },
     "execution_count": 41,
     "metadata": {},
     "output_type": "execute_result"
    }
   ],
   "source": [
    "brown = 10\n",
    "yellow = 2\n",
    "solution(brown, yellow)"
   ]
  },
  {
   "cell_type": "code",
   "execution_count": 42,
   "metadata": {},
   "outputs": [
    {
     "data": {
      "text/plain": [
       "[3, 3]"
      ]
     },
     "execution_count": 42,
     "metadata": {},
     "output_type": "execute_result"
    }
   ],
   "source": [
    "brown = 8\n",
    "yellow = 1\n",
    "solution(brown, yellow)"
   ]
  },
  {
   "cell_type": "code",
   "execution_count": 43,
   "metadata": {},
   "outputs": [
    {
     "data": {
      "text/plain": [
       "[8, 6]"
      ]
     },
     "execution_count": 43,
     "metadata": {},
     "output_type": "execute_result"
    }
   ],
   "source": [
    "brown = 24\n",
    "yellow = 24\n",
    "solution(brown, yellow)"
   ]
  },
  {
   "attachments": {},
   "cell_type": "markdown",
   "metadata": {},
   "source": [
    "### cf) 이전에 작성했던 코드"
   ]
  },
  {
   "cell_type": "code",
   "execution_count": null,
   "metadata": {},
   "outputs": [],
   "source": [
    "def solution(brown, yellow): \n",
    "    answer = []\n",
    "    size = brown + yellow # 전체 카펫의 크기 (가로 x 세로 = 브라운 + 옐로우)\n",
    "    \n",
    "    for x in range(size, 2, -1):  # x: 카펫의 가로, size부터 1까지 역순으로 반복\n",
    "        if size % x == 0: # size가 x로 나누어 떨어지면\n",
    "            y = size // x # y: 카펫의 세로 -> size를 x로 나눈 몫\n",
    "            \n",
    "            if yellow == (x-2) * (y-2): # yellow가 (x-2)*(y-2)와 같다면\n",
    "                answer.append(x)\n",
    "                answer.append(y)\n",
    "                return sorted(answer, reverse = True) # 가로가 세로보다 같거나 커야하기 때문에 내림차순 정렬"
   ]
  }
 ],
 "metadata": {
  "kernelspec": {
   "display_name": "base",
   "language": "python",
   "name": "python3"
  },
  "language_info": {
   "codemirror_mode": {
    "name": "ipython",
    "version": 3
   },
   "file_extension": ".py",
   "mimetype": "text/x-python",
   "name": "python",
   "nbconvert_exporter": "python",
   "pygments_lexer": "ipython3",
   "version": "3.9.7"
  },
  "orig_nbformat": 4,
  "vscode": {
   "interpreter": {
    "hash": "023ab38ef701cca529efce9465407c28b5ba779ced3f1a89865b89edb313b240"
   }
  }
 },
 "nbformat": 4,
 "nbformat_minor": 2
}

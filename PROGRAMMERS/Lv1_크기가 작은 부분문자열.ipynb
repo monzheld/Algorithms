{
 "cells": [
  {
   "attachments": {},
   "cell_type": "markdown",
   "metadata": {},
   "source": [
    "[문제](https://school.programmers.co.kr/learn/courses/30/lessons/147355)"
   ]
  },
  {
   "attachments": {},
   "cell_type": "markdown",
   "metadata": {},
   "source": [
    "- 숫자로 이루어진 문자열 t와 p가 주어질 때, \n",
    "- t에서 **p와 길이가 같은 부분문자열** 중에서, \n",
    "- 이 **부분문자열이 나타내는 수가 p가 나타내는 수보다 작거나 같은 것이 나오는 횟수**를 return"
   ]
  },
  {
   "attachments": {},
   "cell_type": "markdown",
   "metadata": {},
   "source": [
    "**제한사항**\n",
    "\n",
    "- 1 ≤ p의 길이 ≤ 18\n",
    "- p의 길이 ≤ t의 길이 ≤ 10,000\n",
    "- t와 p는 숫자로만 이루어진 문자열, 0으로 시작하지 않음"
   ]
  },
  {
   "cell_type": "code",
   "execution_count": null,
   "metadata": {},
   "outputs": [],
   "source": [
    "\"\"\"\n",
    "입출력 예시)\n",
    "\n",
    "t = \"3141592\", p = \"271\" -> 2\n",
    "t = \"500220839878\", p = \"7\" -> 8\n",
    "t = \"10203\", p = \"15\" -> 3\n",
    "\"\"\""
   ]
  },
  {
   "cell_type": "code",
   "execution_count": null,
   "metadata": {},
   "outputs": [],
   "source": [
    "# t = \"3141592\", p = \"271\" -> 2\n",
    "\n",
    "# t=\"3141592\"이고 p=\"271\" 인 경우\n",
    "# t에서 길이가 3인 부분 문자열: 314, 141, 415, 159, 592\n",
    "#   -> 첫 번째 문자부터 인덱스를 한 칸씩 옮기면서 p 길이만큼 자름\n",
    "# 이 문자열이 나타내는 수 중 271보다 작거나 같은 수: 141, 159 \n",
    "# => 2개"
   ]
  },
  {
   "attachments": {},
   "cell_type": "markdown",
   "metadata": {},
   "source": [
    "## 2022/12/27"
   ]
  },
  {
   "cell_type": "code",
   "execution_count": null,
   "metadata": {},
   "outputs": [],
   "source": [
    "## 의사코드 ##\n",
    "\n",
    "# t와 p를 split해서 리스트에 담음 -> 여기서는 str 그대로 사용 (int로 바꾸면 부분문자열 구할 때 숫자끼리 더해져버림)\n",
    "\n",
    "# for문 돌면서 p 길이만큼의 부분문자열을 생성하고 부분문자열을 담을 리스트에 삽입\n",
    "\n",
    "# t의 부분문자열이 나타내는 수가 p가 나타내는 수보다 작거나 같은 것이 나오는지 -> 문자열을 숫자로 변환해서 크기 비교"
   ]
  },
  {
   "attachments": {},
   "cell_type": "markdown",
   "metadata": {},
   "source": [
    "### 1) "
   ]
  },
  {
   "cell_type": "code",
   "execution_count": null,
   "metadata": {},
   "outputs": [],
   "source": [
    "def solution(t, p):\n",
    "    answer = 0\n",
    "\n",
    "    i = 0 # t의 인덱스\n",
    "    lenp = len(p) # 문자열 p의 길이 \n",
    "    stop_i = len(t) - len(p) # 슬라이싱을 멈춰야 할 t의 인덱스\n",
    "    part_li = [] # 부분문자열을 담을 리스트\n",
    "\n",
    "    while t:\n",
    "        # 문자열 p의 길이가 1이면\n",
    "        if lenp == 1: \n",
    "            part_li = list(t) # 부분문자열에 t의 각 문자열을 split해서 추가\n",
    "        # 문자열 p의 길이가 2 이상인 경우 \n",
    "        else: \n",
    "            part = t[i:lenp] # 부분문자열\n",
    "            part_li.append(part) # 부분문자열 리스트에 추가\n",
    "            # 다음번 부분문자열 슬라이싱을 위해 i와 lenp 각각 + 1\n",
    "            i += 1 # t의 인덱스 + 1\n",
    "            lenp += 1 # 문자열 p의 길이 + 1\n",
    "            # 현재 t의 인덱스가 stop_i보다 크면 \n",
    "            if i > stop_i:\n",
    "                break # while문 탈출\n",
    "\n",
    "    # 부분문자열을 int로 변환\n",
    "    part_li = list(map(int, part_li)) \n",
    "\n",
    "    # 부분문자열이 나타내는 수가 p가 나타내는 수보다 작거나 같은 것이 나오는 횟수\n",
    "    for n in part_li:\n",
    "        if n <= int(p): # 부분문자열이 나타내는 수가 p가 나타내는 수보다 작거나 같으면\n",
    "            answer += 1 # answer + 1\n",
    "\n",
    "    return answer"
   ]
  },
  {
   "attachments": {},
   "cell_type": "markdown",
   "metadata": {},
   "source": [
    "-> 테스트 케이스 2에서 실행 시간 10.0초 초과\n",
    "\n",
    "(t = \"500220839878\", p = \"7\")"
   ]
  },
  {
   "cell_type": "code",
   "execution_count": null,
   "metadata": {},
   "outputs": [],
   "source": [
    "# 과정 확인"
   ]
  },
  {
   "cell_type": "code",
   "execution_count": 30,
   "metadata": {},
   "outputs": [],
   "source": [
    "def solution(t, p):\n",
    "    answer = 0\n",
    "\n",
    "    i = 0 # t의 인덱스\n",
    "    lenp = len(p) # 문자열 p의 길이 \n",
    "    stop_i = len(t) - len(p) # 슬라이싱을 멈춰야 할 t의 인덱스\n",
    "    part_li = [] # 부분문자열을 담을 리스트\n",
    "\n",
    "    while t:\n",
    "        # 문자열 p의 길이가 1이면\n",
    "        if lenp == 1: \n",
    "            part_li = list(t) # 부분문자열에 t의 각 문자열을 split해서 추가\n",
    "        # 문자열 p의 길이가 2 이상인 경우 \n",
    "        else: \n",
    "            part = t[i:lenp] # 부분문자열\n",
    "            print(part, '\\n')\n",
    "            part_li.append(part) # 부분문자열 리스트에 추가\n",
    "            # 다음번 부분문자열 슬라이싱을 위해 i와 lenp 각각 + 1\n",
    "            i += 1 # t의 인덱스 + 1\n",
    "            lenp += 1 # 문자열 p의 길이 + 1\n",
    "            # 현재 t의 인덱스가 stop_i보다 크면 \n",
    "            if i > stop_i:\n",
    "                break # while문 탈출\n",
    "\n",
    "    print(part_li)\n",
    "    # 부분문자열을 int로 변환\n",
    "    part_li = list(map(int, part_li)) \n",
    "    print(part_li)\n",
    "\n",
    "    # 부분문자열이 나타내는 수가 p가 나타내는 수보다 작거나 같은 것이 나오는 횟수\n",
    "    for n in part_li:\n",
    "        if n <= int(p): # 부분문자열이 나타내는 수가 p가 나타내는 수보다 작거나 같으면\n",
    "            answer += 1 # answer + 1\n",
    "\n",
    "    \n",
    "    return answer"
   ]
  },
  {
   "cell_type": "code",
   "execution_count": 29,
   "metadata": {},
   "outputs": [
    {
     "name": "stdout",
     "output_type": "stream",
     "text": [
      "314 \n",
      "\n",
      "141 \n",
      "\n",
      "415 \n",
      "\n",
      "159 \n",
      "\n",
      "592 \n",
      "\n",
      "['314', '141', '415', '159', '592']\n",
      "[314, 141, 415, 159, 592]\n"
     ]
    },
    {
     "data": {
      "text/plain": [
       "2"
      ]
     },
     "execution_count": 29,
     "metadata": {},
     "output_type": "execute_result"
    }
   ],
   "source": [
    "t = \"3141592\"\n",
    "p = \"271\"\n",
    "solution(t, p)"
   ]
  },
  {
   "attachments": {},
   "cell_type": "markdown",
   "metadata": {},
   "source": [
    "### 통과)"
   ]
  },
  {
   "cell_type": "code",
   "execution_count": 36,
   "metadata": {},
   "outputs": [],
   "source": [
    "def solution(t, p):\n",
    "    answer = 0\n",
    "\n",
    "    i = 0 # t의 인덱스\n",
    "    lenp = len(p) # 문자열 p의 길이 \n",
    "    stop_i = len(t) - len(p) # 슬라이싱을 멈춰야 할 t의 인덱스\n",
    "    part_li = list() # 부분문자열을 담을 리스트\n",
    "\n",
    "    while t:\n",
    "        # 문자열 p의 길이가 1이면\n",
    "        if lenp == 1: \n",
    "            part_li = list(t) # 부분문자열에 t의 각 문자열을 split해서 추가\n",
    "            break # while문 탈출\n",
    "        # 문자열 p의 길이가 2 이상인 경우 \n",
    "        else: \n",
    "            part = t[i:lenp] # 부분문자열\n",
    "            part_li.append(part) # 부분문자열 리스트에 추가\n",
    "            # 다음번 부분문자열 슬라이싱을 위해 i와 lenp 각각 + 1\n",
    "            i += 1 # t의 인덱스 + 1\n",
    "            lenp += 1 # 문자열 p의 길이 + 1\n",
    "            # 현재 t의 인덱스가 stop_i보다 크면 \n",
    "            if i > stop_i:\n",
    "                break # while문 탈출\n",
    "\n",
    "    # 부분문자열을 int로 변환\n",
    "    part_li = list(map(int, part_li)) \n",
    "\n",
    "    # 부분문자열이 나타내는 수가 p가 나타내는 수보다 작거나 같은 것이 나오는 횟수\n",
    "    for n in part_li:\n",
    "        if n <= int(p): # 부분문자열이 나타내는 수가 p가 나타내는 수보다 작거나 같으면\n",
    "            answer += 1 # answer + 1\n",
    "    \n",
    "    return answer"
   ]
  },
  {
   "attachments": {},
   "cell_type": "markdown",
   "metadata": {},
   "source": [
    "-> 문자열 p의 길이가 1인 경우, part_li = list(t) 한 다음 break"
   ]
  },
  {
   "cell_type": "code",
   "execution_count": 37,
   "metadata": {},
   "outputs": [
    {
     "data": {
      "text/plain": [
       "8"
      ]
     },
     "execution_count": 37,
     "metadata": {},
     "output_type": "execute_result"
    }
   ],
   "source": [
    "t = \"500220839878\"\n",
    "p = \"7\"\n",
    "solution(t, p)"
   ]
  },
  {
   "cell_type": "code",
   "execution_count": null,
   "metadata": {},
   "outputs": [],
   "source": [
    "# 과정 확인"
   ]
  },
  {
   "cell_type": "code",
   "execution_count": 34,
   "metadata": {},
   "outputs": [],
   "source": [
    "def solution(t, p):\n",
    "    answer = 0\n",
    "\n",
    "    i = 0 # t의 인덱스\n",
    "    lenp = len(p) # 문자열 p의 길이 \n",
    "    stop_i = len(t) - len(p) # 슬라이싱을 멈춰야 할 t의 인덱스\n",
    "    part_li = list() # 부분문자열을 담을 리스트\n",
    "\n",
    "    while t:\n",
    "        # 문자열 p의 길이가 1이면\n",
    "        if lenp == 1: \n",
    "            part_li = list(t) # 부분문자열에 t의 각 문자열을 split해서 추가\n",
    "            break\n",
    "        # 문자열 p의 길이가 2 이상인 경우 \n",
    "        else: \n",
    "            part = t[i:lenp] # 부분문자열\n",
    "            print(part, '\\n')\n",
    "            part_li.append(part) # 부분문자열 리스트에 추가\n",
    "            # 다음번 부분문자열 슬라이싱을 위해 i와 lenp 각각 + 1\n",
    "            i += 1 # t의 인덱스 + 1\n",
    "            lenp += 1 # 문자열 p의 길이 + 1\n",
    "            # 현재 t의 인덱스가 stop_i보다 크면 \n",
    "            if i > stop_i:\n",
    "                break # while문 탈출\n",
    "\n",
    "    print(part_li)\n",
    "    # 부분문자열을 int로 변환\n",
    "    part_li = list(map(int, part_li)) \n",
    "    print(part_li)\n",
    "\n",
    "    # 부분문자열이 나타내는 수가 p가 나타내는 수보다 작거나 같은 것이 나오는 횟수\n",
    "    for n in part_li:\n",
    "        if n <= int(p): # 부분문자열이 나타내는 수가 p가 나타내는 수보다 작거나 같으면\n",
    "            answer += 1 # answer + 1\n",
    "\n",
    "    \n",
    "    return answer"
   ]
  },
  {
   "cell_type": "code",
   "execution_count": 35,
   "metadata": {},
   "outputs": [
    {
     "name": "stdout",
     "output_type": "stream",
     "text": [
      "['5', '0', '0', '2', '2', '0', '8', '3', '9', '8', '7', '8']\n",
      "[5, 0, 0, 2, 2, 0, 8, 3, 9, 8, 7, 8]\n"
     ]
    },
    {
     "data": {
      "text/plain": [
       "8"
      ]
     },
     "execution_count": 35,
     "metadata": {},
     "output_type": "execute_result"
    }
   ],
   "source": [
    "t = \"500220839878\"\n",
    "p = \"7\"\n",
    "solution(t, p)"
   ]
  },
  {
   "attachments": {},
   "cell_type": "markdown",
   "metadata": {},
   "source": [
    "### 다른 풀이)"
   ]
  },
  {
   "cell_type": "code",
   "execution_count": null,
   "metadata": {},
   "outputs": [],
   "source": [
    "def solution(t, p):\n",
    "    answer = 0\n",
    "\n",
    "    for i in range(len(t) - len(p) + 1):\n",
    "        if int(p) >= int(t[i:i+len(p)]):\n",
    "            answer += 1\n",
    "\n",
    "    return answer"
   ]
  },
  {
   "cell_type": "code",
   "execution_count": null,
   "metadata": {},
   "outputs": [],
   "source": [
    "def solution(t, p):\n",
    "    answer = 0\n",
    "    for i in range(len(t)-len(p)+1):\n",
    "        answer += 1 if int(t[i:i+len(p)]) <= int(p) else 0\n",
    "    return answer"
   ]
  }
 ],
 "metadata": {
  "kernelspec": {
   "display_name": "base",
   "language": "python",
   "name": "python3"
  },
  "language_info": {
   "codemirror_mode": {
    "name": "ipython",
    "version": 3
   },
   "file_extension": ".py",
   "mimetype": "text/x-python",
   "name": "python",
   "nbconvert_exporter": "python",
   "pygments_lexer": "ipython3",
   "version": "3.9.7"
  },
  "orig_nbformat": 4,
  "vscode": {
   "interpreter": {
    "hash": "023ab38ef701cca529efce9465407c28b5ba779ced3f1a89865b89edb313b240"
   }
  }
 },
 "nbformat": 4,
 "nbformat_minor": 2
}

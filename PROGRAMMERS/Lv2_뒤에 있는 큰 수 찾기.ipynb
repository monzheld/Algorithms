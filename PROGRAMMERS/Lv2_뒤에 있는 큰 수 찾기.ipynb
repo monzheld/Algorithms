{
 "cells": [
  {
   "attachments": {},
   "cell_type": "markdown",
   "metadata": {},
   "source": [
    "[문제](https://school.programmers.co.kr/learn/courses/30/lessons/154539)"
   ]
  },
  {
   "attachments": {},
   "cell_type": "markdown",
   "metadata": {},
   "source": [
    "- 정수로 이루어진 배열 numbers가 있음\n",
    "- 배열의 각 원소들에 대해 **자신보다 뒤에 있는 숫자 중에서 자신보다 크면서 가장 가까이 있는 수를 뒷 큰수**라고 함\n",
    "- 정수 배열 numbers가 매개변수로 주어질 때, 모든 원소에 대한 뒷 큰수들을 차례로 담은 배열을 return \n",
    "- 단, 뒷 큰수가 존재하지 않는 원소는 -1을 담음"
   ]
  },
  {
   "attachments": {},
   "cell_type": "markdown",
   "metadata": {},
   "source": [
    "**제한사항**\n",
    "\n",
    "- 4 ≤ numbers의 길이 ≤ 1,000,000\n",
    "    - 1 ≤ numbers[i] ≤ 1,000,000"
   ]
  },
  {
   "cell_type": "code",
   "execution_count": null,
   "metadata": {},
   "outputs": [],
   "source": [
    "\"\"\"\n",
    "입출력 예시)\n",
    "\n",
    "numbers = [2, 3, 3, 5] -> [3, 5, 5, -1]\n",
    "numbers = [9, 1, 5, 3, 6, 2] -> [-1, 5, 6, 6, -1, -1]\n",
    "\"\"\""
   ]
  },
  {
   "attachments": {},
   "cell_type": "markdown",
   "metadata": {},
   "source": [
    "## 2023/04/11"
   ]
  },
  {
   "cell_type": "code",
   "execution_count": null,
   "metadata": {},
   "outputs": [],
   "source": [
    "## 의사코드 ##\n",
    "\n",
    "# deque 이용\n",
    "# q = deque((i, v) for i, v in enumerate(numbers))\n",
    "\n",
    "# answer의 초기값을 -1로 설정\n",
    "# answer = [-1] * len(numbers)\n",
    "\n",
    "# while q:\n",
    "#     idx, num = q.popleft()\n",
    "#     for i, n in q:\n",
    "#         현재 원소(num)보다 가장 가까이 있으면서 큰 수가 있으면 현재 원소의 인덱스에 해당하는 answer 값을 n으로 변경\n",
    "#         if n > num:\n",
    "#             answer[idx] = n\n",
    "#             break      "
   ]
  },
  {
   "attachments": {},
   "cell_type": "markdown",
   "metadata": {},
   "source": [
    "### 1)"
   ]
  },
  {
   "cell_type": "code",
   "execution_count": null,
   "metadata": {},
   "outputs": [],
   "source": [
    "from collections import deque\n",
    "def solution(numbers):\n",
    "    answer = [-1] * len(numbers)\n",
    "    q = deque((i, v) for i, v in enumerate(numbers))\n",
    "    while q:\n",
    "        idx, num = q.popleft()\n",
    "        for i, n in q:\n",
    "            if n > num:\n",
    "                answer[idx] = n\n",
    "                break          \n",
    "    return answer"
   ]
  },
  {
   "attachments": {},
   "cell_type": "markdown",
   "metadata": {},
   "source": [
    "-> 추가 테스트케이스 실패 (시간 초과)"
   ]
  },
  {
   "cell_type": "code",
   "execution_count": null,
   "metadata": {},
   "outputs": [],
   "source": [
    "# 과정 확인"
   ]
  },
  {
   "cell_type": "code",
   "execution_count": 61,
   "metadata": {},
   "outputs": [],
   "source": [
    "from collections import deque\n",
    "def solution(numbers):\n",
    "    answer = [-1] * len(numbers)\n",
    "    q = deque((i, v) for i, v in enumerate(numbers))\n",
    "    while q:\n",
    "        idx, num = q.popleft()\n",
    "        print('num:', num)\n",
    "        print('idx:', idx, '\\n')\n",
    "        for i, n in q:\n",
    "            print('n:', n)\n",
    "            print('i:', i, '\\n')\n",
    "            if n > num:\n",
    "                print('n > num')\n",
    "                print('n:', n)\n",
    "                answer[idx] = n\n",
    "                print('수정된 answer[idx]:', answer[idx])\n",
    "                print('-'*30)\n",
    "                break          \n",
    "    return answer"
   ]
  },
  {
   "cell_type": "code",
   "execution_count": 62,
   "metadata": {},
   "outputs": [
    {
     "name": "stdout",
     "output_type": "stream",
     "text": [
      "num: 2\n",
      "idx: 0 \n",
      "\n",
      "n: 3\n",
      "i: 1 \n",
      "\n",
      "n > num\n",
      "n: 3\n",
      "수정된 answer[idx]: 3\n",
      "------------------------------\n",
      "num: 3\n",
      "idx: 1 \n",
      "\n",
      "n: 3\n",
      "i: 2 \n",
      "\n",
      "n: 5\n",
      "i: 3 \n",
      "\n",
      "n > num\n",
      "n: 5\n",
      "수정된 answer[idx]: 5\n",
      "------------------------------\n",
      "num: 3\n",
      "idx: 2 \n",
      "\n",
      "n: 5\n",
      "i: 3 \n",
      "\n",
      "n > num\n",
      "n: 5\n",
      "수정된 answer[idx]: 5\n",
      "------------------------------\n",
      "num: 5\n",
      "idx: 3 \n",
      "\n"
     ]
    },
    {
     "data": {
      "text/plain": [
       "[3, 5, 5, -1]"
      ]
     },
     "execution_count": 62,
     "metadata": {},
     "output_type": "execute_result"
    }
   ],
   "source": [
    "numbers = [2, 3, 3, 5]\n",
    "solution(numbers)"
   ]
  },
  {
   "attachments": {},
   "cell_type": "markdown",
   "metadata": {},
   "source": [
    "### 통과)"
   ]
  },
  {
   "cell_type": "code",
   "execution_count": 57,
   "metadata": {},
   "outputs": [],
   "source": [
    "def solution(numbers):\n",
    "    answer = [-1] * len(numbers)\n",
    "    stack = []\n",
    "    for i, n in enumerate(numbers):\n",
    "        # 현재 숫자가 이전 인덱스의 값보다 크면 answer의 이전 인덱스 값을 현재 숫자로 변경\n",
    "        while stack and numbers[stack[-1]] < n:\n",
    "            answer[stack.pop()] = n\n",
    "        # 스택에 현재 숫자의 인덱스 저장 \n",
    "        stack.append(i)\n",
    "    return answer"
   ]
  },
  {
   "attachments": {},
   "cell_type": "markdown",
   "metadata": {},
   "source": [
    "-> 스택 활용"
   ]
  },
  {
   "cell_type": "code",
   "execution_count": 58,
   "metadata": {},
   "outputs": [
    {
     "data": {
      "text/plain": [
       "[3, 5, 5, -1]"
      ]
     },
     "execution_count": 58,
     "metadata": {},
     "output_type": "execute_result"
    }
   ],
   "source": [
    "numbers = [2, 3, 3, 5]\n",
    "solution(numbers)"
   ]
  },
  {
   "cell_type": "code",
   "execution_count": null,
   "metadata": {},
   "outputs": [],
   "source": [
    "# 과정 확인"
   ]
  },
  {
   "cell_type": "code",
   "execution_count": 67,
   "metadata": {},
   "outputs": [],
   "source": [
    "def solution(numbers):\n",
    "    answer = [-1] * len(numbers)\n",
    "    stack = []\n",
    "    for i, n in enumerate(numbers):\n",
    "        print('n:', n)\n",
    "        print('i:', i, '\\n')\n",
    "        while stack and numbers[stack[-1]] < n:\n",
    "            print('numbers[stack[-1]] < n')\n",
    "            print('stack[-1]:', stack[-1])\n",
    "            print('numbers[stack[-1]]:', numbers[stack[-1]])\n",
    "            answer[stack.pop()] = n\n",
    "            print('answer[stack.pop()]:', n)\n",
    "            print ('-'*30)\n",
    "        stack.append(i)\n",
    "        print('stack:', stack, '\\n')\n",
    "    return answer"
   ]
  },
  {
   "cell_type": "code",
   "execution_count": 68,
   "metadata": {},
   "outputs": [
    {
     "name": "stdout",
     "output_type": "stream",
     "text": [
      "n: 2\n",
      "i: 0 \n",
      "\n",
      "stack: [0] \n",
      "\n",
      "n: 3\n",
      "i: 1 \n",
      "\n",
      "numbers[stack[-1]] < n\n",
      "stack[-1]: 0\n",
      "numbers[stack[-1]]: 2\n",
      "answer[stack.pop()]: 3\n",
      "------------------------------\n",
      "stack: [1] \n",
      "\n",
      "n: 3\n",
      "i: 2 \n",
      "\n",
      "stack: [1, 2] \n",
      "\n",
      "n: 5\n",
      "i: 3 \n",
      "\n",
      "numbers[stack[-1]] < n\n",
      "stack[-1]: 2\n",
      "numbers[stack[-1]]: 3\n",
      "answer[stack.pop()]: 5\n",
      "------------------------------\n",
      "numbers[stack[-1]] < n\n",
      "stack[-1]: 1\n",
      "numbers[stack[-1]]: 3\n",
      "answer[stack.pop()]: 5\n",
      "------------------------------\n",
      "stack: [3] \n",
      "\n"
     ]
    },
    {
     "data": {
      "text/plain": [
       "[3, 5, 5, -1]"
      ]
     },
     "execution_count": 68,
     "metadata": {},
     "output_type": "execute_result"
    }
   ],
   "source": [
    "numbers = [2, 3, 3, 5]\n",
    "solution(numbers)"
   ]
  }
 ],
 "metadata": {
  "kernelspec": {
   "display_name": "base",
   "language": "python",
   "name": "python3"
  },
  "language_info": {
   "codemirror_mode": {
    "name": "ipython",
    "version": 3
   },
   "file_extension": ".py",
   "mimetype": "text/x-python",
   "name": "python",
   "nbconvert_exporter": "python",
   "pygments_lexer": "ipython3",
   "version": "3.9.7"
  },
  "orig_nbformat": 4
 },
 "nbformat": 4,
 "nbformat_minor": 2
}

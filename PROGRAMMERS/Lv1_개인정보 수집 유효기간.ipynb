{
 "cells": [
  {
   "attachments": {},
   "cell_type": "markdown",
   "metadata": {},
   "source": [
    "[문제](https://school.programmers.co.kr/learn/courses/30/lessons/150370)"
   ]
  },
  {
   "attachments": {},
   "cell_type": "markdown",
   "metadata": {},
   "source": [
    "- 1~n번으로 분류되는 개인정보 n개\n",
    "- 약관 종류는 여러 가지 있으며 각 약관마다 개인정보 보관 유효기간이 정해져 있음\n",
    "- 각 개인정보가 어떤 약관으로 수집됐는지 알고 있음\n",
    "- 수집된 개인정보는 유효기간 전까지만 보관 가능하며, 유효기간이 지났다면 반드시 파기해야 함\n",
    "- ex) A라는 약관의 유효기간이 12 달이고, 2021년 1월 5일에 수집된 개인정보가 A약관으로 수집되었다면\n",
    "    - 해당 개인정보는 2022년 1월 4일까지 보관 가능\n",
    "    - 2022년 1월 5일부터 파기해야 할 개인정보\n",
    "- **오늘 날짜로 파기해야 할 개인정보 번호들**을 구하려 함\n",
    "- **모든 달은 28일까지** 있다고 가정\n",
    "\n",
    "- today: 오늘 날짜를 의미하는 문자열\n",
    "- terms: 약관의 유효기간을 담은 1차원 문자열 배열\n",
    "- privacies: 수집된 개인정보의 정보를 담은 1차원 문자열 배열 \n",
    "- **파기해야 할 개인정보의 번호를 오름차순으로 1차원 정수 배열**에 담아 return"
   ]
  },
  {
   "attachments": {},
   "cell_type": "markdown",
   "metadata": {},
   "source": [
    "**제한사항**\n",
    "\n",
    "- today는 \"YYYY.MM.DD\" 형태로 오늘 날짜를 나타냄\n",
    "- 1 ≤ terms의 길이 ≤ 20\n",
    "    - terms의 원소는 **\"약관 종류 유효기간\"** 형태의 약관 종류와 유효기간을 공백 하나로 구분한 문자열\n",
    "    - 약관 종류는 A~Z중 알파벳 대문자 하나이며, terms 배열에서 약관 종류는 중복되지 않음\n",
    "    - **유효기간은 개인정보를 보관할 수 있는 달 수**를 나타내는 정수이며, 1 이상 100 이하\n",
    "- 1 ≤ privacies의 길이 ≤ 100\n",
    "    - privacies[i]는 **i+1번 개인정보의 수집 일자와 약관 종류**\n",
    "    - privacies의 원소는 **\"날짜 약관 종류\"** 형태의 날짜와 약관 종류를 공백 하나로 구분한 문자열\n",
    "    - 날짜는 \"YYYY.MM.DD\" 형태의 개인정보가 수집된 날짜를 나타내며, today 이전의 날짜만 주어짐\n",
    "    - **privacies의 약관 종류는 항상 terms에 나타난 약관 종류만** 주어짐\n",
    "- today와 privacies에 등장하는 날짜의 YYYY는 연도, MM은 월, DD는 일을 나타내며 점(.) 하나로 구분\n",
    "    - 2000 ≤ YYYY ≤ 2022\n",
    "    - 1 ≤ MM ≤ 12\n",
    "    - MM이 한 자릿수인 경우 앞에 0이 붙음\n",
    "    - **1 ≤ DD ≤ 28**\n",
    "    - DD가 한 자릿수인 경우 앞에 0이 붙음\n",
    "- 파기해야 할 개인정보가 하나 이상 존재하는 입력만 주어짐"
   ]
  },
  {
   "cell_type": "code",
   "execution_count": null,
   "metadata": {},
   "outputs": [],
   "source": [
    "\"\"\"\n",
    "입출력 예시)\n",
    "\n",
    "today = \"2022.05.19\", terms = [\"A 6\", \"B 12\", \"C 3\"], privacies = [\"2021.05.02 A\", \"2021.07.01 B\", \"2022.02.19 C\", \"2022.02.20 C\"] -> [1, 3]\n",
    "today = \"2020.01.01\", terms = [\"Z 3\", \"D 5\"], privacies = [\"2019.01.01 D\", \"2019.11.15 Z\", \"2019.08.02 D\", \"2019.07.01 D\", \"2018.12.28 Z\"] -> [1, 4, 5]\n",
    "\"\"\""
   ]
  },
  {
   "cell_type": "code",
   "execution_count": null,
   "metadata": {},
   "outputs": [],
   "source": [
    "# today = \"2022.05.19\", terms = [\"A 6\", \"B 12\", \"C 3\"], privacies = [\"2021.05.02 A\", \"2021.07.01 B\", \"2022.02.19 C\", \"2022.02.20 C\"] -> [1, 3]\n",
    "\n",
    "# 오늘 날짜 -> 2022.05.19\n",
    "\n",
    "# 약관 종류: A, 유효기간: 6달\n",
    "# 약관 종류: B, 유효기간: 12달\n",
    "# 약관 종류: C, 유효기간: 3달\n",
    "\n",
    "# 번호: 1, 개인정보 수집 일자: 2021.05.02, 약관 종류: A\n",
    "# 번호: 2, 개인정보 수집 일자: 2021.07.01, 약관 종류: B\n",
    "# 번호: 3, 개인정보 수집 일자: 2022.02.19, 약관 종류: C\n",
    "# 번호: 4, 개인정보 수집 일자: 2022.02.20, 약관 종류: C\n",
    "\n",
    "# -> 첫 번째 개인정보는 A약관에 의해 2021년 11월 1일까지 보관 가능하며, 유효기간이 지났으므로 파기해야 할 개인정보\n",
    "# -> 두 번째 개인정보는 B약관에 의해 2022년 6월 28일까지 보관 가능하며, 유효기간이 지나지 않았으므로 아직 보관 가능\n",
    "# -> 세 번째 개인정보는 C약관에 의해 2022년 5월 18일까지 보관 가능하며, 유효기간이 지났으므로 파기해야 할 개인정보\n",
    "# -> 네 번째 개인정보는 C약관에 의해 2022년 5월 19일까지 보관 가능하며, 유효기간이 지나지 않았으므로 아직 보관 가능\n",
    "\n",
    "# => 파기해야 할 개인정보 번호는 [1, 3]"
   ]
  },
  {
   "attachments": {},
   "cell_type": "markdown",
   "metadata": {},
   "source": [
    "## 2023/01/14"
   ]
  },
  {
   "cell_type": "code",
   "execution_count": null,
   "metadata": {},
   "outputs": [],
   "source": [
    "## 의사코드 ##\n",
    "\n",
    "# terms의 약관 종류와 privacies의 약관 종류는 같음\n",
    "# 모든 달은 28일까지만 있음\n",
    "\n",
    "# terms를 딕셔너리로 변환 -> {약관 종류: 유효기간}\n",
    "\n",
    "# 날짜: \"YYYY.MM.DD\" 형태\n",
    "# 날짜.split('.') 해서 년도, 월, 일로 나눠서 계산\n",
    "\n",
    "\n",
    "# for i in range(len(privacies)):\n",
    "# 각 번호별로 보관 가능한 날짜를 구함\n",
    "# 보관 가능한 날짜 = 개인정보 수집한 달 + 약관 종류의 유효기간, 일자 -1 \n",
    "#     달 수 > 12 이면 (년도 + 1, 달 - 12)\n",
    "#     만약 개인정보 수집 일자의 일이 1이면 (달 수 -1) + 일자: 28\n",
    "\n",
    "\n",
    "#  보관 가능 날짜 < today 이면 파기 o \n",
    "# (-> 보관 가능 날짜가 today와 같거나 today보다 크면 아직 보관 가능)\n",
    "\n",
    "# return answer # 오름차순 정렬\n"
   ]
  },
  {
   "attachments": {},
   "cell_type": "markdown",
   "metadata": {},
   "source": [
    "### 1)"
   ]
  },
  {
   "cell_type": "code",
   "execution_count": null,
   "metadata": {},
   "outputs": [],
   "source": [
    "def solution(today, terms, privacies):\n",
    "    answer = []\n",
    "    terms_dic = {}\n",
    "    y, m, d = map(int, today.split('.'))\n",
    "    # terms를 딕셔너리로 변환\n",
    "    for t in terms:\n",
    "        t_type, t_month = t.split()\n",
    "        terms_dic[t_type] = int(t_month)\n",
    "        \n",
    "    for i in range(len(privacies)):\n",
    "        p_date, p_type = privacies[i].split()\n",
    "        p_y, p_m, p_d = map(int, p_date.split('.'))\n",
    "\n",
    "        # 보관 가능 날짜 계산\n",
    "        p_m += terms_dic[p_type] # 수집한 달 + 유효기간(달)\n",
    "        # 개인정보 수집 일자의 일이 1인 경우\n",
    "        if p_d == 1:\n",
    "            p_m -= 1\n",
    "            p_d == 28\n",
    "        # 개인정보 수집 일자의 일이 1이 아닌 경우\n",
    "        else:\n",
    "            p_d -= 1 # 수집한 일 - 1\n",
    "        # 보관 가능한 달이 12보다 크면\n",
    "        while p_m > 12:\n",
    "            p_y += 1\n",
    "            p_m -= 12\n",
    "\n",
    "        # today와 보관 가능 날짜 비교\n",
    "        if p_y > y: # 보관 가능 년도가 today의 년도보다 큰 경우\n",
    "            continue\n",
    "        elif p_y == y: # 보관 가능 년도가 today의 년도와 같은 경우\n",
    "            if p_m > m: # 보관 가능 달이 today의 달보다 크면\n",
    "                continue\n",
    "            elif p_m == m: # 보관 가능 달이 today의 달과 같으면 \n",
    "                if p_d >= d: # 보관 가능 일이 today의 일보다 크거나 같은 경우\n",
    "                    continue\n",
    "        \n",
    "        # 보관 가능 날짜가 today보다 작은 경우(이미 지난 경우)\n",
    "        answer.append(i+1) # i의 순서대로 삽입되기 때문에 자동으로 오름차순 정렬\n",
    "    return answer"
   ]
  },
  {
   "attachments": {},
   "cell_type": "markdown",
   "metadata": {},
   "source": [
    "-> 추가 테스트 케이스 2개 실패 (테스트 5, 테스트 13)"
   ]
  },
  {
   "cell_type": "code",
   "execution_count": 44,
   "metadata": {},
   "outputs": [
    {
     "data": {
      "text/plain": [
       "[1, 3]"
      ]
     },
     "execution_count": 44,
     "metadata": {},
     "output_type": "execute_result"
    }
   ],
   "source": [
    "today = \"2022.05.19\"\n",
    "terms = [\"A 6\", \"B 12\", \"C 3\"]\n",
    "privacies = [\"2021.05.02 A\", \"2021.07.01 B\", \"2022.02.19 C\", \"2022.02.20 C\"]\n",
    "solution(today, terms, privacies)"
   ]
  },
  {
   "cell_type": "code",
   "execution_count": 45,
   "metadata": {},
   "outputs": [
    {
     "data": {
      "text/plain": [
       "[1, 4, 5]"
      ]
     },
     "execution_count": 45,
     "metadata": {},
     "output_type": "execute_result"
    }
   ],
   "source": [
    "today = \"2020.01.01\"\n",
    "terms = [\"Z 3\", \"D 5\"]\n",
    "privacies = [\"2019.01.01 D\", \"2019.11.15 Z\", \"2019.08.02 D\", \"2019.07.01 D\", \"2018.12.28 Z\"]\n",
    "solution(today, terms, privacies)"
   ]
  },
  {
   "attachments": {},
   "cell_type": "markdown",
   "metadata": {},
   "source": [
    "### 2) "
   ]
  },
  {
   "cell_type": "code",
   "execution_count": null,
   "metadata": {},
   "outputs": [],
   "source": [
    "# ex) 보관 가능 날짜가 1월 1일인 경우\n",
    "\n",
    "# 개인정보 수집 일자: 2020.08.01\n",
    "# 유효기간: 5달\n",
    "# -> 2021.01.00 (일자 -1 까지 계산하면)\n",
    "#   -> 2020.12.28 까지로 바꿔줘야 함"
   ]
  },
  {
   "cell_type": "code",
   "execution_count": null,
   "metadata": {},
   "outputs": [],
   "source": [
    "def solution(today, terms, privacies):\n",
    "    answer = []\n",
    "    terms_dic = {}\n",
    "    y, m, d = map(int, today.split('.'))\n",
    "    # terms를 딕셔너리로 변환\n",
    "    for t in terms:\n",
    "        t_type, t_month = t.split()\n",
    "        terms_dic[t_type] = int(t_month)\n",
    "        \n",
    "    for i in range(len(privacies)):\n",
    "        p_date, p_type = privacies[i].split()\n",
    "        p_y, p_m, p_d = map(int, p_date.split('.'))\n",
    "\n",
    "        # 보관 가능 날짜 계산\n",
    "        p_m += terms_dic[p_type] # 수집한 달 + 유효기간(달)\n",
    "\n",
    "        # 보관 가능한 달이 12보다 크면\n",
    "        while p_m > 12:\n",
    "            p_y += 1\n",
    "            p_m -= 12\n",
    "        \n",
    "        # 개인정보 수집 일자의 일이 1인 경우\n",
    "        if p_d == 1:\n",
    "            # 보관 가능 날짜가 1월 1일인 경우 \n",
    "            if p_m == 1:\n",
    "                p_y -= 1\n",
    "                p_m == 12\n",
    "                p_d == 28\n",
    "            else:\n",
    "                p_m -= 1\n",
    "                p_d == 28\n",
    "        # 개인정보 수집 일자의 일이 1이 아닌 경우\n",
    "        else:\n",
    "            p_d -= 1 # 수집한 일 - 1\n",
    "\n",
    "        # today와 보관 가능 날짜 비교\n",
    "        if p_y > y: # 보관 가능 년도가 today의 년도보다 큰 경우\n",
    "            continue\n",
    "        elif p_y == y: # 보관 가능 년도가 today의 년도와 같은 경우\n",
    "            if p_m > m: # 보관 가능 달이 today의 달보다 크면\n",
    "                continue\n",
    "            elif p_m == m: # 보관 가능 달이 today의 달과 같으면 \n",
    "                if p_d >= d: # 보관 가능 일이 today의 일보다 크거나 같은 경우\n",
    "                    continue\n",
    "        \n",
    "        # 보관 가능 날짜가 today보다 작은 경우(이미 지난 경우)\n",
    "        answer.append(i+1) # i의 순서대로 삽입되기 때문에 자동으로 오름차순 정렬\n",
    "    return answer"
   ]
  },
  {
   "attachments": {},
   "cell_type": "markdown",
   "metadata": {},
   "source": [
    "-> 보관 가능 날짜가 1월 1일인 경우 추가\n",
    "\n",
    "-> 추가 테스트 케이스 3개 실패 (테스트 5, 테스트 13, 테스트 15)"
   ]
  },
  {
   "cell_type": "code",
   "execution_count": null,
   "metadata": {},
   "outputs": [],
   "source": [
    "# 과정 확인"
   ]
  },
  {
   "cell_type": "code",
   "execution_count": 1,
   "metadata": {},
   "outputs": [],
   "source": [
    "def solution(today, terms, privacies):\n",
    "    answer = []\n",
    "    terms_dic = {}\n",
    "    print('today:', today, '\\n')\n",
    "    y, m, d = map(int, today.split('.'))\n",
    "    # terms를 딕셔너리로 변환\n",
    "    for t in terms:\n",
    "        t_type, t_month = t.split()\n",
    "        terms_dic[t_type] = int(t_month)\n",
    "        \n",
    "    for i in range(len(privacies)):\n",
    "        p_date, p_type = privacies[i].split()\n",
    "        print('번호:', i+1)\n",
    "        print('개인정보 수집 일자:', p_date)\n",
    "        print('유효기간:',terms_dic[p_type])\n",
    "        p_y, p_m, p_d = map(int, p_date.split('.'))\n",
    "\n",
    "        # 보관 가능 날짜 계산\n",
    "        p_m += terms_dic[p_type] # 수집한 달 + 유효기간(달)\n",
    "\n",
    "        # 보관 가능한 달이 12보다 크면\n",
    "        while p_m > 12:\n",
    "            p_y += 1\n",
    "            p_m -= 12\n",
    "        \n",
    "        # 개인정보 수집 일자의 일이 1인 경우\n",
    "        if p_d == 1:\n",
    "            # 보관 가능 날짜가 1월 1일인 경우 \n",
    "            if p_m == 1:\n",
    "                p_y -= 1\n",
    "                p_m == 12\n",
    "                p_d == 28\n",
    "            else:\n",
    "                p_m -= 1\n",
    "                p_d == 28\n",
    "        # 개인정보 수집 일자의 일이 1이 아닌 경우\n",
    "        else:\n",
    "            p_d -= 1 # 수집한 일 - 1\n",
    "        \n",
    "        print('보관 가능 날짜:', p_y, p_m, p_d)\n",
    "        print('-'*60)\n",
    "\n",
    "        # today와 보관 가능 날짜 비교\n",
    "        if p_y > y: # 보관 가능 년도가 today의 년도보다 큰 경우\n",
    "            continue\n",
    "        elif p_y == y: # 보관 가능 년도가 today의 년도와 같은 경우\n",
    "            if p_m > m: # 보관 가능 달이 today의 달보다 크면\n",
    "                continue\n",
    "            elif p_m == m: # 보관 가능 달이 today의 달과 같으면 \n",
    "                if p_d >= d: # 보관 가능 일이 today의 일과 같거나 큰 경우\n",
    "                    continue\n",
    "        \n",
    "        # 보관 가능 날짜가 today보다 작은 경우(이미 지난 경우)\n",
    "        answer.append(i+1) # i의 순서대로 삽입되기 때문에 자동으로 오름차순 정렬\n",
    "    return answer"
   ]
  },
  {
   "cell_type": "code",
   "execution_count": 2,
   "metadata": {},
   "outputs": [
    {
     "name": "stdout",
     "output_type": "stream",
     "text": [
      "today: 2022.05.19 \n",
      "\n",
      "번호: 1\n",
      "개인정보 수집 일자: 2021.05.02\n",
      "유효기간: 6\n",
      "보관 가능 날짜: 2021 11 1\n",
      "------------------------------------------------------------\n",
      "번호: 2\n",
      "개인정보 수집 일자: 2021.07.01\n",
      "유효기간: 12\n",
      "보관 가능 날짜: 2022 6 1\n",
      "------------------------------------------------------------\n",
      "번호: 3\n",
      "개인정보 수집 일자: 2022.02.19\n",
      "유효기간: 3\n",
      "보관 가능 날짜: 2022 5 18\n",
      "------------------------------------------------------------\n",
      "번호: 4\n",
      "개인정보 수집 일자: 2022.02.20\n",
      "유효기간: 3\n",
      "보관 가능 날짜: 2022 5 19\n",
      "------------------------------------------------------------\n"
     ]
    },
    {
     "data": {
      "text/plain": [
       "[1, 3]"
      ]
     },
     "execution_count": 2,
     "metadata": {},
     "output_type": "execute_result"
    }
   ],
   "source": [
    "today = \"2022.05.19\"\n",
    "terms = [\"A 6\", \"B 12\", \"C 3\"]\n",
    "privacies = [\"2021.05.02 A\", \"2021.07.01 B\", \"2022.02.19 C\", \"2022.02.20 C\"]\n",
    "solution(today, terms, privacies)"
   ]
  },
  {
   "attachments": {},
   "cell_type": "markdown",
   "metadata": {},
   "source": [
    "-> 번호 2의 보관 가능 날짜가 틀림"
   ]
  },
  {
   "cell_type": "code",
   "execution_count": null,
   "metadata": {},
   "outputs": [],
   "source": [
    "# 번호: 2\n",
    "# 개인정보 수집 일자: 2021.07.01\n",
    "# 유효기간: 12\n",
    "# 보관 가능 날짜: 2022 6 1 \n",
    "#     -> 보관 가능 날짜: 2022 6 28 이 맞음"
   ]
  },
  {
   "attachments": {},
   "cell_type": "markdown",
   "metadata": {},
   "source": [
    "-> 'p_d == 28' 이 부분이 적용되지 않아서 틀림"
   ]
  },
  {
   "attachments": {},
   "cell_type": "markdown",
   "metadata": {},
   "source": [
    "### 통과) "
   ]
  },
  {
   "cell_type": "code",
   "execution_count": null,
   "metadata": {},
   "outputs": [],
   "source": [
    "## 2번 코드 수정 ##"
   ]
  },
  {
   "cell_type": "code",
   "execution_count": 3,
   "metadata": {},
   "outputs": [],
   "source": [
    "def solution(today, terms, privacies):\n",
    "    answer = []\n",
    "    terms_dic = {}\n",
    "    y, m, d = map(int, today.split('.'))\n",
    "    # terms를 딕셔너리로 변환\n",
    "    for t in terms:\n",
    "        t_type, t_month = t.split()\n",
    "        terms_dic[t_type] = int(t_month)\n",
    "        \n",
    "    for i in range(len(privacies)):\n",
    "        p_date, p_type = privacies[i].split()\n",
    "        p_y, p_m, p_d = map(int, p_date.split('.'))\n",
    "\n",
    "        # 보관 가능 날짜 계산\n",
    "        p_m += terms_dic[p_type] # 수집한 달 + 유효기간(달)\n",
    "\n",
    "        # 보관 가능한 달이 12보다 크면\n",
    "        while p_m > 12:\n",
    "            p_y += 1\n",
    "            p_m -= 12\n",
    "        \n",
    "        # 개인정보 수집 일자의 일이 1인 경우\n",
    "        if p_d == 1:\n",
    "            # 보관 가능 날짜가 1월 1일인 경우 \n",
    "            if p_m == 1:\n",
    "                p_y -= 1\n",
    "                p_m += 11 # 달을 12월로 변환\n",
    "                p_d += 27 # 일을 28일로 변환\n",
    "            else:\n",
    "                p_m -= 1\n",
    "                p_d += 27 # 일을 28일로 변환\n",
    "        # 개인정보 수집 일자의 일이 1이 아닌 경우\n",
    "        else:\n",
    "            p_d -= 1 # 수집한 일 - 1\n",
    "\n",
    "        # today와 보관 가능 날짜 비교\n",
    "        if p_y > y: # 보관 가능 년도가 today의 년도보다 큰 경우\n",
    "            continue\n",
    "        elif p_y == y: # 보관 가능 년도가 today의 년도와 같은 경우\n",
    "            if p_m > m: # 보관 가능 달이 today의 달보다 크면\n",
    "                continue\n",
    "            elif p_m == m: # 보관 가능 달이 today의 달과 같으면 \n",
    "                if p_d >= d: # 보관 가능 일이 today의 일과 같거나 큰 경우\n",
    "                    continue\n",
    "        \n",
    "        # 보관 가능 날짜가 today보다 작은 경우(이미 지난 경우)\n",
    "        answer.append(i+1) # i의 순서대로 삽입되기 때문에 자동으로 오름차순 정렬\n",
    "    return answer"
   ]
  },
  {
   "attachments": {},
   "cell_type": "markdown",
   "metadata": {},
   "source": [
    "-> 보관 가능 날짜가 1월 1일인 경우, 달 + 11, 일 + 27로 변환하고 보관 가능 일이 today의 일과 같거나 큰 경우로 적용"
   ]
  },
  {
   "cell_type": "code",
   "execution_count": 4,
   "metadata": {},
   "outputs": [
    {
     "data": {
      "text/plain": [
       "[1, 3]"
      ]
     },
     "execution_count": 4,
     "metadata": {},
     "output_type": "execute_result"
    }
   ],
   "source": [
    "today = \"2022.05.19\"\n",
    "terms = [\"A 6\", \"B 12\", \"C 3\"]\n",
    "privacies = [\"2021.05.02 A\", \"2021.07.01 B\", \"2022.02.19 C\", \"2022.02.20 C\"]\n",
    "solution(today, terms, privacies)"
   ]
  },
  {
   "cell_type": "code",
   "execution_count": null,
   "metadata": {},
   "outputs": [],
   "source": [
    "# 과정 확인"
   ]
  },
  {
   "cell_type": "code",
   "execution_count": 5,
   "metadata": {},
   "outputs": [],
   "source": [
    "def solution(today, terms, privacies):\n",
    "    answer = []\n",
    "    terms_dic = {}\n",
    "    print('today:', today, '\\n')\n",
    "    y, m, d = map(int, today.split('.'))\n",
    "    # terms를 딕셔너리로 변환\n",
    "    for t in terms:\n",
    "        t_type, t_month = t.split()\n",
    "        terms_dic[t_type] = int(t_month)\n",
    "        \n",
    "    for i in range(len(privacies)):\n",
    "        p_date, p_type = privacies[i].split()\n",
    "        print('번호:', i+1)\n",
    "        print('개인정보 수집 일자:', p_date)\n",
    "        print('유효기간:',terms_dic[p_type])\n",
    "        p_y, p_m, p_d = map(int, p_date.split('.'))\n",
    "\n",
    "        # 보관 가능 날짜 계산\n",
    "        p_m += terms_dic[p_type] # 수집한 달 + 유효기간(달)\n",
    "\n",
    "        # 보관 가능한 달이 12보다 크면\n",
    "        while p_m > 12:\n",
    "            p_y += 1\n",
    "            p_m -= 12\n",
    "        \n",
    "        # 개인정보 수집 일자의 일이 1인 경우\n",
    "        if p_d == 1:\n",
    "            # 보관 가능 날짜가 1월 1일인 경우 \n",
    "            if p_m == 1:\n",
    "                p_y -= 1\n",
    "                p_m += 11\n",
    "                p_d += 27\n",
    "            else:\n",
    "                p_m -= 1\n",
    "                p_d += 27\n",
    "        # 개인정보 수집 일자의 일이 1이 아닌 경우\n",
    "        else:\n",
    "            p_d -= 1 # 수집한 일 - 1\n",
    "        \n",
    "        print('보관 가능 날짜:', p_y, p_m, p_d)\n",
    "        print('-'*60)\n",
    "\n",
    "        # today와 보관 가능 날짜 비교\n",
    "        if p_y > y: # 보관 가능 년도가 today의 년도보다 큰 경우\n",
    "            continue\n",
    "        elif p_y == y: # 보관 가능 년도가 today의 년도와 같은 경우\n",
    "            if p_m > m: # 보관 가능 달이 today의 달보다 크면\n",
    "                continue\n",
    "            elif p_m == m: # 보관 가능 달이 today의 달과 같으면 \n",
    "                if p_d >= d: # 보관 가능 일이 today의 일과 같거나 큰 경우\n",
    "                    continue\n",
    "        \n",
    "        # 보관 가능 날짜가 today보다 작은 경우(이미 지난 경우)\n",
    "        answer.append(i+1) # i의 순서대로 삽입되기 때문에 자동으로 오름차순 정렬\n",
    "    return answer"
   ]
  },
  {
   "cell_type": "code",
   "execution_count": 6,
   "metadata": {},
   "outputs": [
    {
     "name": "stdout",
     "output_type": "stream",
     "text": [
      "today: 2022.05.19 \n",
      "\n",
      "번호: 1\n",
      "개인정보 수집 일자: 2021.05.02\n",
      "유효기간: 6\n",
      "보관 가능 날짜: 2021 11 1\n",
      "------------------------------------------------------------\n",
      "번호: 2\n",
      "개인정보 수집 일자: 2021.07.01\n",
      "유효기간: 12\n",
      "보관 가능 날짜: 2022 6 28\n",
      "------------------------------------------------------------\n",
      "번호: 3\n",
      "개인정보 수집 일자: 2022.02.19\n",
      "유효기간: 3\n",
      "보관 가능 날짜: 2022 5 18\n",
      "------------------------------------------------------------\n",
      "번호: 4\n",
      "개인정보 수집 일자: 2022.02.20\n",
      "유효기간: 3\n",
      "보관 가능 날짜: 2022 5 19\n",
      "------------------------------------------------------------\n"
     ]
    },
    {
     "data": {
      "text/plain": [
       "[1, 3]"
      ]
     },
     "execution_count": 6,
     "metadata": {},
     "output_type": "execute_result"
    }
   ],
   "source": [
    "today = \"2022.05.19\"\n",
    "terms = [\"A 6\", \"B 12\", \"C 3\"]\n",
    "privacies = [\"2021.05.02 A\", \"2021.07.01 B\", \"2022.02.19 C\", \"2022.02.20 C\"]\n",
    "solution(today, terms, privacies)"
   ]
  },
  {
   "cell_type": "code",
   "execution_count": null,
   "metadata": {},
   "outputs": [],
   "source": [
    "## 다른 풀이 ##\n",
    "\n",
    "# -> 보관 가능 날짜를 계산할 때, (일 - 1) 없이 진행"
   ]
  },
  {
   "cell_type": "code",
   "execution_count": 46,
   "metadata": {},
   "outputs": [],
   "source": [
    "def solution(today, terms, privacies):\n",
    "    answer = []\n",
    "    terms_dic = {}\n",
    "    y, m, d = map(int, today.split('.'))\n",
    "    # terms를 딕셔너리로 변환\n",
    "    for t in terms:\n",
    "        t_type, t_month = t.split()\n",
    "        terms_dic[t_type] = int(t_month)\n",
    "        \n",
    "    for i in range(len(privacies)):\n",
    "        p_date, p_type = privacies[i].split()\n",
    "        p_y, p_m, p_d = map(int, p_date.split('.'))\n",
    "\n",
    "        # 보관 가능 날짜 계산\n",
    "        p_m += terms_dic[p_type] # 수집한 달 + 유효기간(달)\n",
    "\n",
    "        # 보관 가능한 달이 12보다 크면\n",
    "        while p_m > 12:\n",
    "            p_y += 1\n",
    "            p_m -= 12\n",
    "\n",
    "        # today와 보관 가능 날짜 비교\n",
    "        if p_y > y: # 보관 가능 년도가 today의 년도보다 큰 경우\n",
    "            continue\n",
    "        elif p_y == y: # 보관 가능 년도가 today의 년도와 같은 경우\n",
    "            if p_m > m: # 보관 가능 달이 today의 달보다 크면\n",
    "                continue\n",
    "            elif p_m == m: # 보관 가능 달이 today의 달과 같으면 \n",
    "                if p_d > d: # 보관 가능 일이 today의 일보다 큰 경우\n",
    "                    continue\n",
    "        \n",
    "        # 보관 가능 날짜가 today보다 작은 경우(이미 지난 경우)\n",
    "        answer.append(i+1) # i의 순서대로 삽입되기 때문에 자동으로 오름차순 정렬\n",
    "    return answer"
   ]
  },
  {
   "attachments": {},
   "cell_type": "markdown",
   "metadata": {},
   "source": [
    "-> 개인정보 수집 일자의 일이 1인 경우 삭제, 보관 가능 날짜를 계산할 때 (일 - 1) 없이 진행, 보관 가능 일이 today의 일보다 크거나 같은 경우에서 큰 경우만 continue로 변경"
   ]
  },
  {
   "cell_type": "code",
   "execution_count": 47,
   "metadata": {},
   "outputs": [
    {
     "data": {
      "text/plain": [
       "[1, 3]"
      ]
     },
     "execution_count": 47,
     "metadata": {},
     "output_type": "execute_result"
    }
   ],
   "source": [
    "today = \"2022.05.19\"\n",
    "terms = [\"A 6\", \"B 12\", \"C 3\"]\n",
    "privacies = [\"2021.05.02 A\", \"2021.07.01 B\", \"2022.02.19 C\", \"2022.02.20 C\"]\n",
    "solution(today, terms, privacies)"
   ]
  },
  {
   "cell_type": "code",
   "execution_count": null,
   "metadata": {},
   "outputs": [],
   "source": [
    "# 과정 확인"
   ]
  },
  {
   "cell_type": "code",
   "execution_count": 50,
   "metadata": {},
   "outputs": [],
   "source": [
    "def solution(today, terms, privacies):\n",
    "    answer = []\n",
    "    terms_dic = {}\n",
    "    print('today:', today, '\\n')\n",
    "    y, m, d = map(int, today.split('.'))\n",
    "    # terms를 딕셔너리로 변환\n",
    "    for t in terms:\n",
    "        t_type, t_month = t.split()\n",
    "        terms_dic[t_type] = int(t_month)\n",
    "        \n",
    "    for i in range(len(privacies)):\n",
    "        p_date, p_type = privacies[i].split()\n",
    "        print('번호:', i+1)\n",
    "        print('개인정보 수집 일자:', p_date)\n",
    "        print('유효기간:',terms_dic[p_type])\n",
    "        p_y, p_m, p_d = map(int, p_date.split('.'))\n",
    "\n",
    "        # 보관 가능 날짜 계산\n",
    "        p_m += terms_dic[p_type] # 수집한 달 + 유효기간(달)\n",
    "\n",
    "        # 보관 가능한 달이 12보다 크면\n",
    "        while p_m > 12:\n",
    "            p_y += 1\n",
    "            p_m -= 12\n",
    "        \n",
    "        print('보관 가능 날짜:', p_y, p_m, p_d)\n",
    "        print('-'*60)\n",
    "\n",
    "        # today와 보관 가능 날짜 비교\n",
    "        if p_y > y: # 보관 가능 년도가 today의 년도보다 큰 경우\n",
    "            continue\n",
    "        elif p_y == y: # 보관 가능 년도가 today의 년도와 같은 경우\n",
    "            if p_m > m: # 보관 가능 달이 today의 달보다 크면\n",
    "                continue\n",
    "            elif p_m == m: # 보관 가능 달이 today의 달과 같으면 \n",
    "                if p_d > d: # 보관 가능 일이 today의 일보다 큰 경우\n",
    "                    continue\n",
    "        \n",
    "        # 보관 가능 날짜가 today보다 작은 경우(이미 지난 경우)\n",
    "        answer.append(i+1) # i의 순서대로 삽입되기 때문에 자동으로 오름차순 정렬\n",
    "    return answer"
   ]
  },
  {
   "cell_type": "code",
   "execution_count": 51,
   "metadata": {},
   "outputs": [
    {
     "name": "stdout",
     "output_type": "stream",
     "text": [
      "today: 2022.05.19 \n",
      "\n",
      "번호: 1\n",
      "개인정보 수집 일자: 2021.05.02\n",
      "유효기간: 6\n",
      "보관 가능 날짜: 2021 11 2\n",
      "------------------------------------------------------------\n",
      "번호: 2\n",
      "개인정보 수집 일자: 2021.07.01\n",
      "유효기간: 12\n",
      "보관 가능 날짜: 2022 7 1\n",
      "------------------------------------------------------------\n",
      "번호: 3\n",
      "개인정보 수집 일자: 2022.02.19\n",
      "유효기간: 3\n",
      "보관 가능 날짜: 2022 5 19\n",
      "------------------------------------------------------------\n",
      "번호: 4\n",
      "개인정보 수집 일자: 2022.02.20\n",
      "유효기간: 3\n",
      "보관 가능 날짜: 2022 5 20\n",
      "------------------------------------------------------------\n"
     ]
    },
    {
     "data": {
      "text/plain": [
       "[1, 3]"
      ]
     },
     "execution_count": 51,
     "metadata": {},
     "output_type": "execute_result"
    }
   ],
   "source": [
    "today = \"2022.05.19\"\n",
    "terms = [\"A 6\", \"B 12\", \"C 3\"]\n",
    "privacies = [\"2021.05.02 A\", \"2021.07.01 B\", \"2022.02.19 C\", \"2022.02.20 C\"]\n",
    "solution(today, terms, privacies)"
   ]
  }
 ],
 "metadata": {
  "kernelspec": {
   "display_name": "base",
   "language": "python",
   "name": "python3"
  },
  "language_info": {
   "codemirror_mode": {
    "name": "ipython",
    "version": 3
   },
   "file_extension": ".py",
   "mimetype": "text/x-python",
   "name": "python",
   "nbconvert_exporter": "python",
   "pygments_lexer": "ipython3",
   "version": "3.9.7"
  },
  "orig_nbformat": 4,
  "vscode": {
   "interpreter": {
    "hash": "023ab38ef701cca529efce9465407c28b5ba779ced3f1a89865b89edb313b240"
   }
  }
 },
 "nbformat": 4,
 "nbformat_minor": 2
}

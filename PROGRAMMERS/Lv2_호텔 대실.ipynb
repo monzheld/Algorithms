{
 "cells": [
  {
   "attachments": {},
   "cell_type": "markdown",
   "metadata": {},
   "source": [
    "[문제](https://school.programmers.co.kr/learn/courses/30/lessons/155651)"
   ]
  },
  {
   "attachments": {},
   "cell_type": "markdown",
   "metadata": {},
   "source": [
    "- 호텔을 운영 중인 코니는 최소한의 객실만을 사용하여 예약 손님들을 받으려고 함\n",
    "- 한 번 사용한 객실은 **퇴실 시간을 기준으로 10분간 청소를 하고 다음 손님들이 사용**할 수 있음\n",
    "- 예약 시각이 문자열 형태로 담긴 2차원 배열 book_time이 매개변수로 주어질 때, 코니에게 필요한 **최소 객실의 수**를 return"
   ]
  },
  {
   "attachments": {},
   "cell_type": "markdown",
   "metadata": {},
   "source": [
    "**제한사항**\n",
    "\n",
    "- 1 ≤ book_time의 길이 ≤ 1,000\n",
    "    - book_time[i]는 [\"HH:MM\", \"HH:MM\"]의 형태로 이루어진 배열\n",
    "        - [대실 시작 시각, 대실 종료 시각] 형태\n",
    "    - 시각은 HH:MM 형태로 24시간 표기법을 따르며, \"00:00\" 부터 \"23:59\" 까지로 주어짐\n",
    "        - 예약 시각이 자정을 넘어가는 경우는 없음\n",
    "        - 시작 시각은 항상 종료 시각보다 빠름\n"
   ]
  },
  {
   "cell_type": "code",
   "execution_count": null,
   "metadata": {},
   "outputs": [],
   "source": [
    "\"\"\"\n",
    "입출력 예시)\n",
    "\n",
    "book_time = [[\"15:00\", \"17:00\"], [\"16:40\", \"18:20\"], [\"14:20\", \"15:20\"], [\"14:10\", \"19:20\"], [\"18:20\", \"21:20\"]] -> 3\n",
    "book_time = [[\"09:10\", \"10:10\"], [\"10:20\", \"12:20\"]] -> 1\n",
    "book_time = [[\"10:20\", \"12:30\"], [\"10:20\", \"12:30\"], [\"10:20\", \"12:30\"]] -> 3\n",
    "\"\"\""
   ]
  },
  {
   "cell_type": "code",
   "execution_count": null,
   "metadata": {},
   "outputs": [],
   "source": [
    "# book_time = [[\"15:00\", \"17:00\"], [\"16:40\", \"18:20\"], [\"14:20\", \"15:20\"], [\"14:10\", \"19:20\"], [\"18:20\", \"21:20\"]] -> 3"
   ]
  },
  {
   "attachments": {},
   "cell_type": "markdown",
   "metadata": {},
   "source": [
    "<img width=\"525\" alt=\"스크린샷 2023-04-08 19 57 25\" src=\"https://user-images.githubusercontent.com/93971420/230717488-10ba64f5-7b81-4db6-9fd2-4c1482a568f1.png\">"
   ]
  },
  {
   "attachments": {},
   "cell_type": "markdown",
   "metadata": {},
   "source": [
    "## 2023/04/08"
   ]
  },
  {
   "cell_type": "code",
   "execution_count": null,
   "metadata": {},
   "outputs": [],
   "source": [
    "## 의사코드 ##\n",
    "\n",
    "# HH:MM 형태를 분으로 계산 -> HH * 60 + MM\n",
    "# [(int(s[:2])*60 + int(s[3:]), int(e[:2])*60 + int(e[3:])) for s, e in book_time]\n",
    "\n",
    "# 대실 시작 시간을 기준으로 정렬 \n",
    "# book_time.sort(key=lambda x: x[0])\n",
    "\n",
    "# 다음 손님 이용 가능 시각: 대실 종료 시각 + 10분\n",
    "\n",
    "# 종료 시각이 가장 빠른 객실을 선택\n",
    "# heapq 이용 -> 최소 힙\n",
    "# import heapq\n",
    "# heapq.heappush(heap, 종료 시각)\n",
    "\n",
    "# 할당할 객실은 종료 시각이 가장 빠른 객실로 선택\n",
    "# heap[0]\n",
    "\n",
    "# 다음 손님의 시작 시각이 이전 손님의 종료 시각 이후인 경우, 해당 객실 할당\n",
    "# if heap[0] <= s:\n",
    "#     heapq.heappop(heap)\n",
    "\n",
    "# 다음 손님의 시작 시각이 이전 손님의 종료 시각 이전인 경우, 새로운 객실 할당\n",
    "# else:\n",
    "#     answer += 1\n",
    "# heapq.heappush(heap, e+10)"
   ]
  },
  {
   "attachments": {},
   "cell_type": "markdown",
   "metadata": {},
   "source": [
    "### 통과)"
   ]
  },
  {
   "cell_type": "code",
   "execution_count": 21,
   "metadata": {},
   "outputs": [],
   "source": [
    "import heapq\n",
    "def solution(book_time):\n",
    "    answer = 1\n",
    "    # HH * 60 + MM로 변환\n",
    "    book_time = [(int(s[:2])*60 + int(s[3:]), int(e[:2])*60 + int(e[3:])) for s, e in book_time]\n",
    "    # 대실 시작 시간을 기준으로 정렬 \n",
    "    book_time.sort(key=lambda x: x[0])\n",
    "\n",
    "    heap = []\n",
    "    for s, e in book_time:\n",
    "        # 할당된 객실이 없으면 객실 할당\n",
    "        if not heap:\n",
    "            heapq.heappush(heap, e)\n",
    "            continue\n",
    "        # 현재 객실 중 가장 빠른 대실 종료 시각이 현재 대실 시작 시각보다 같거나 빠르면 해당 객실을 현재 손님에게 할당\n",
    "        if heap[0] <= s:\n",
    "            heapq.heappop(heap)\n",
    "        # 현재 객실 중 가장 빠른 대실 종료 시각이 현재 대실 시작 시각보다 늦으면 새로운 객실 할당\n",
    "        else:\n",
    "            answer += 1\n",
    "        # 대실 종료 시각 + 10분\n",
    "        heapq.heappush(heap, e+10)\n",
    "\n",
    "    return answer"
   ]
  },
  {
   "cell_type": "code",
   "execution_count": 22,
   "metadata": {},
   "outputs": [
    {
     "data": {
      "text/plain": [
       "3"
      ]
     },
     "execution_count": 22,
     "metadata": {},
     "output_type": "execute_result"
    }
   ],
   "source": [
    "\n",
    "book_time = [[\"15:00\", \"17:00\"], [\"16:40\", \"18:20\"], [\"14:20\", \"15:20\"], [\"14:10\", \"19:20\"], [\"18:20\", \"21:20\"]] \n",
    "solution(book_time)"
   ]
  },
  {
   "cell_type": "code",
   "execution_count": 23,
   "metadata": {},
   "outputs": [
    {
     "data": {
      "text/plain": [
       "1"
      ]
     },
     "execution_count": 23,
     "metadata": {},
     "output_type": "execute_result"
    }
   ],
   "source": [
    "book_time = [[\"09:10\", \"10:10\"], [\"10:20\", \"12:20\"]] \n",
    "solution(book_time)"
   ]
  },
  {
   "cell_type": "code",
   "execution_count": 24,
   "metadata": {},
   "outputs": [
    {
     "data": {
      "text/plain": [
       "3"
      ]
     },
     "execution_count": 24,
     "metadata": {},
     "output_type": "execute_result"
    }
   ],
   "source": [
    "book_time = [[\"10:20\", \"12:30\"], [\"10:20\", \"12:30\"], [\"10:20\", \"12:30\"]] \n",
    "solution(book_time)"
   ]
  },
  {
   "cell_type": "code",
   "execution_count": null,
   "metadata": {},
   "outputs": [],
   "source": [
    "# 과정 확인"
   ]
  },
  {
   "cell_type": "code",
   "execution_count": 19,
   "metadata": {},
   "outputs": [],
   "source": [
    "import heapq\n",
    "def solution(book_time):\n",
    "    answer = 1\n",
    "    # HH * 60 + MM로 변환\n",
    "    book_time = [(int(s[:2])*60 + int(s[3:]), int(e[:2])*60 + int(e[3:])) for s, e in book_time]\n",
    "    # 대실 시작 시간을 기준으로 정렬 \n",
    "    book_time.sort(key=lambda x: x[0])\n",
    "    print('정렬된 book_time:', book_time, '\\n')\n",
    "\n",
    "    heap = []\n",
    "    for s, e in book_time:\n",
    "        print(f'현재 손님의 대실 시작 시각:{s}, 현재 손님의 대실 종료 시각:{e}')\n",
    "        # 할당된 객실이 없으면 객실 할당\n",
    "        if not heap:\n",
    "            heapq.heappush(heap, e)\n",
    "            print()\n",
    "            continue\n",
    "        # 현재 객실 중 가장 빠른 대실 종료 시각이 현재 대실 시작 시각보다 같거나 빠르면 해당 객실을 현재 손님에게 할당\n",
    "        print('현재 객실 중 가장 빠른 대실 종료 시각:', heap[0])\n",
    "        if heap[0] <= s:\n",
    "            heapq.heappop(heap)\n",
    "            print('# 해당 객실을 현재 손님에게 할당', '\\n')\n",
    "        # 현재 객실 중 가장 빠른 대실 종료 시각이 현재 대실 시작 시각보다 늦으면 새로운 객실 할당\n",
    "        else:\n",
    "            answer += 1\n",
    "            print('# 새로운 객실 할당')\n",
    "            print('객실 수:', answer)\n",
    "        # 대실 종료 시각 + 10분\n",
    "        heapq.heappush(heap, e+10)\n",
    "        print('heap:', heap, '\\n')\n",
    "\n",
    "    return answer"
   ]
  },
  {
   "cell_type": "code",
   "execution_count": 20,
   "metadata": {},
   "outputs": [
    {
     "name": "stdout",
     "output_type": "stream",
     "text": [
      "정렬된 book_time: [(850, 1160), (860, 920), (900, 1020), (1000, 1100), (1100, 1280)] \n",
      "\n",
      "현재 손님의 대실 시작 시각:850, 현재 손님의 대실 종료 시각:1160\n",
      "\n",
      "현재 손님의 대실 시작 시각:860, 현재 손님의 대실 종료 시각:920\n",
      "현재 객실 중 가장 빠른 대실 종료 시각: 1160\n",
      "# 새로운 객실 할당\n",
      "객실 수: 2\n",
      "heap: [930, 1160] \n",
      "\n",
      "현재 손님의 대실 시작 시각:900, 현재 손님의 대실 종료 시각:1020\n",
      "현재 객실 중 가장 빠른 대실 종료 시각: 930\n",
      "# 새로운 객실 할당\n",
      "객실 수: 3\n",
      "heap: [930, 1160, 1030] \n",
      "\n",
      "현재 손님의 대실 시작 시각:1000, 현재 손님의 대실 종료 시각:1100\n",
      "현재 객실 중 가장 빠른 대실 종료 시각: 930\n",
      "# 해당 객실을 현재 손님에게 할당 \n",
      "\n",
      "heap: [1030, 1160, 1110] \n",
      "\n",
      "현재 손님의 대실 시작 시각:1100, 현재 손님의 대실 종료 시각:1280\n",
      "현재 객실 중 가장 빠른 대실 종료 시각: 1030\n",
      "# 해당 객실을 현재 손님에게 할당 \n",
      "\n",
      "heap: [1110, 1160, 1290] \n",
      "\n"
     ]
    },
    {
     "data": {
      "text/plain": [
       "3"
      ]
     },
     "execution_count": 20,
     "metadata": {},
     "output_type": "execute_result"
    }
   ],
   "source": [
    "book_time = [[\"15:00\", \"17:00\"], [\"16:40\", \"18:20\"], [\"14:20\", \"15:20\"], [\"14:10\", \"19:20\"], [\"18:20\", \"21:20\"]]\n",
    "solution(book_time)"
   ]
  }
 ],
 "metadata": {
  "kernelspec": {
   "display_name": "base",
   "language": "python",
   "name": "python3"
  },
  "language_info": {
   "codemirror_mode": {
    "name": "ipython",
    "version": 3
   },
   "file_extension": ".py",
   "mimetype": "text/x-python",
   "name": "python",
   "nbconvert_exporter": "python",
   "pygments_lexer": "ipython3",
   "version": "3.9.7"
  },
  "orig_nbformat": 4
 },
 "nbformat": 4,
 "nbformat_minor": 2
}

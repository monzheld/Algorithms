{
 "cells": [
  {
   "attachments": {},
   "cell_type": "markdown",
   "metadata": {},
   "source": [
    "[문제](https://school.programmers.co.kr/learn/courses/30/lessons/155652)"
   ]
  },
  {
   "attachments": {},
   "cell_type": "markdown",
   "metadata": {},
   "source": [
    "- 두 문자열 s와 skip, 그리고 자연수 index가 주어질 때, 다음 규칙에 따라 문자열을 만들려 함\n",
    "- 암호의 규칙\n",
    "    - 문자열 s의 **각 알파벳을 index만큼 뒤의 알파벳으로** 바꿔줌\n",
    "    - index만큼의 뒤의 알파벳이 z를 넘어갈 경우 다시 a로 돌아감\n",
    "    - **skip에 있는 알파벳은 제외하고 건너뜀**\n",
    "- 예를 들어 s = \"aukks\", skip = \"wbqd\", index = 5일 때,\n",
    "    - a에서 5만큼 뒤에 있는 알파벳은 f지만 [b, c, d, e, f]에서 'b'와 'd'는 skip에 포함되므로 세지 않음\n",
    "    - 따라서 'b', 'd'를 제외하고 'a'에서 5만큼 뒤에 있는 알파벳은 [c, e, f, g, h] 순서에 의해 'h'가 됨\n",
    "    - 나머지 \"ukks\" 또한 위 규칙대로 바꾸면 \"appy\"\n",
    "- 두 문자열 s와 skip, 그리고 자연수 index가 매개변수로 주어질 때 위 규칙대로 s를 변환한 결과를 return"
   ]
  },
  {
   "attachments": {},
   "cell_type": "markdown",
   "metadata": {},
   "source": [
    "**제한사항**\n",
    "\n",
    "- 5 ≤ s의 길이 ≤ 50\n",
    "- 1 ≤ skip의 길이 ≤ 10\n",
    "- s와 skip은 알파벳 소문자로만 이루어져 있음\n",
    "    - skip에 포함되는 알파벳은 s에 포함되지 않음\n",
    "- 1 ≤ index ≤ 20"
   ]
  },
  {
   "cell_type": "code",
   "execution_count": null,
   "metadata": {},
   "outputs": [],
   "source": [
    "\"\"\"\n",
    "입출력 예시)\n",
    "\n",
    "s = \"aukks\", skip = \"wbqd\", index = 5 -> \"happy\"\n",
    "\"\"\""
   ]
  },
  {
   "attachments": {},
   "cell_type": "markdown",
   "metadata": {},
   "source": [
    "## 2023/05/22"
   ]
  },
  {
   "cell_type": "code",
   "execution_count": null,
   "metadata": {},
   "outputs": [],
   "source": [
    "## 의사코드 ##\n",
    "\n",
    "# index만큼 뒤의 알파벳으로 변환\n",
    "# chr(ord(알파벳)+index)\n",
    "\n",
    "# index만큼의 뒤의 알파벳이 z를 넘어갈 경우 다시 a로 돌아감\n",
    "# 최종 변환될 문자\n",
    "# chr(ord('a') + ((s의 현재 알파벳 + (index + 스킵한 횟수)) - ord('a')) % 26)"
   ]
  },
  {
   "attachments": {},
   "cell_type": "markdown",
   "metadata": {},
   "source": [
    "### 1) "
   ]
  },
  {
   "cell_type": "code",
   "execution_count": 66,
   "metadata": {},
   "outputs": [],
   "source": [
    "def solution(s, skip, index):\n",
    "    answer = ''\n",
    "    # 아스키코드 값으로 변환한 s 리스트\n",
    "    ord_s = [ord(chr) for chr in s]\n",
    "    # 아스키코드 값으로 변환한 skip 리스트\n",
    "    ord_skip = sorted([ord(s) for s in skip])\n",
    "    for i in range(len(ord_s)):\n",
    "        skip_cnt = 0 # 스킵한 횟수\n",
    "        for j in ord_skip:\n",
    "            # skip의 현재 알파벳이 현재 s의 알파벳과 index만큼 뒤의 알파벳 사이에 포함되면 스킵한 횟수 + 1\n",
    "            if j > ord_s[i] and j <= ord_s[i]+index:\n",
    "                skip_cnt += 1\n",
    "        # index + 스킵한 횟수\n",
    "        new = index + skip_cnt\n",
    "        answer += chr(ord('a') + ((ord_s[i] + new) - ord('a')) % 26)\n",
    "    return answer"
   ]
  },
  {
   "cell_type": "code",
   "execution_count": 67,
   "metadata": {},
   "outputs": [
    {
     "data": {
      "text/plain": [
       "'happy'"
      ]
     },
     "execution_count": 67,
     "metadata": {},
     "output_type": "execute_result"
    }
   ],
   "source": [
    "s = \"aukks\"\n",
    "skip = \"wbqd\"\n",
    "index = 5\n",
    "solution(s, skip, index)"
   ]
  },
  {
   "attachments": {},
   "cell_type": "markdown",
   "metadata": {},
   "source": [
    "-> 추가 테스트 케이스 실패"
   ]
  },
  {
   "attachments": {},
   "cell_type": "markdown",
   "metadata": {},
   "source": [
    "-> skip의 현재 알파벳이 현재 s의 알파벳과 index만큼 뒤의 알파벳 사이에 포함되면 스킵한 횟수를 1씩 증가시켜 index에 스킵한 횟수를 더한 값이 최종 변환될 문자가 되도록"
   ]
  },
  {
   "cell_type": "code",
   "execution_count": null,
   "metadata": {},
   "outputs": [],
   "source": [
    "# 과정 확인"
   ]
  },
  {
   "cell_type": "code",
   "execution_count": 64,
   "metadata": {},
   "outputs": [],
   "source": [
    "def solution(s, skip, index):\n",
    "    answer = ''\n",
    "    # 아스키코드 값으로 변환한 s 리스트\n",
    "    ord_s = [ord(chr) for chr in s]\n",
    "    print(f's: {s}')\n",
    "    print(f'ord_s: {ord_s}', '\\n')\n",
    "    # 아스키코드 값으로 변환한 skip 리스트\n",
    "    ord_skip = sorted([ord(s) for s in skip])\n",
    "    print(f'skip: {skip}')\n",
    "    print(f'ord_skip: {ord_skip}', '\\n')\n",
    "    print(f'index: {index}')\n",
    "    print('-'*50)\n",
    "    for i in range(len(ord_s)):\n",
    "        print(f'현재 s의 알파벳: {chr(ord_s[i])}')\n",
    "        skip_cnt = 0 # 스킵한 횟수\n",
    "        print(f'스킵한 횟수 = {skip_cnt}', '\\n')\n",
    "        for j in ord_skip:\n",
    "            print(f'현재 skip의 알파벳: {chr(j)}')\n",
    "            # skip의 현재 알파벳이 현재 s의 알파벳과 index만큼 뒤의 알파벳 사이에 포함되면 스킵한 횟수 + 1\n",
    "            if j > ord_s[i] and j <= ord_s[i]+index:\n",
    "                print('스킵')\n",
    "                skip_cnt += 1\n",
    "                print(f'스킵한 횟수 = {skip_cnt}', '\\n')\n",
    "        new = index + skip_cnt\n",
    "        print(f'index + 스킵한 횟수 = {new}')\n",
    "        answer += chr(ord('a') + ((ord_s[i] + new) - ord('a')) % 26)\n",
    "        print(f'answer: {answer}')\n",
    "        print('-'*50)\n",
    "    return answer"
   ]
  },
  {
   "cell_type": "code",
   "execution_count": 65,
   "metadata": {},
   "outputs": [
    {
     "name": "stdout",
     "output_type": "stream",
     "text": [
      "s: aukks\n",
      "ord_s: [97, 117, 107, 107, 115] \n",
      "\n",
      "skip: wbqd\n",
      "ord_skip: [98, 100, 113, 119] \n",
      "\n",
      "index: 5\n",
      "--------------------------------------------------\n",
      "현재 s의 알파벳: a\n",
      "스킵한 횟수 = 0 \n",
      "\n",
      "현재 skip의 알파벳: b\n",
      "스킵\n",
      "스킵한 횟수 = 1 \n",
      "\n",
      "현재 skip의 알파벳: d\n",
      "스킵\n",
      "스킵한 횟수 = 2 \n",
      "\n",
      "현재 skip의 알파벳: q\n",
      "현재 skip의 알파벳: w\n",
      "index + 스킵한 횟수 = 7\n",
      "answer: h\n",
      "--------------------------------------------------\n",
      "현재 s의 알파벳: u\n",
      "스킵한 횟수 = 0 \n",
      "\n",
      "현재 skip의 알파벳: b\n",
      "현재 skip의 알파벳: d\n",
      "현재 skip의 알파벳: q\n",
      "현재 skip의 알파벳: w\n",
      "스킵\n",
      "스킵한 횟수 = 1 \n",
      "\n",
      "index + 스킵한 횟수 = 6\n",
      "answer: ha\n",
      "--------------------------------------------------\n",
      "현재 s의 알파벳: k\n",
      "스킵한 횟수 = 0 \n",
      "\n",
      "현재 skip의 알파벳: b\n",
      "현재 skip의 알파벳: d\n",
      "현재 skip의 알파벳: q\n",
      "현재 skip의 알파벳: w\n",
      "index + 스킵한 횟수 = 5\n",
      "answer: hap\n",
      "--------------------------------------------------\n",
      "현재 s의 알파벳: k\n",
      "스킵한 횟수 = 0 \n",
      "\n",
      "현재 skip의 알파벳: b\n",
      "현재 skip의 알파벳: d\n",
      "현재 skip의 알파벳: q\n",
      "현재 skip의 알파벳: w\n",
      "index + 스킵한 횟수 = 5\n",
      "answer: happ\n",
      "--------------------------------------------------\n",
      "현재 s의 알파벳: s\n",
      "스킵한 횟수 = 0 \n",
      "\n",
      "현재 skip의 알파벳: b\n",
      "현재 skip의 알파벳: d\n",
      "현재 skip의 알파벳: q\n",
      "현재 skip의 알파벳: w\n",
      "스킵\n",
      "스킵한 횟수 = 1 \n",
      "\n",
      "index + 스킵한 횟수 = 6\n",
      "answer: happy\n",
      "--------------------------------------------------\n"
     ]
    },
    {
     "data": {
      "text/plain": [
       "'happy'"
      ]
     },
     "execution_count": 65,
     "metadata": {},
     "output_type": "execute_result"
    }
   ],
   "source": [
    "s = \"aukks\"\n",
    "skip = \"wbqd\"\n",
    "index = 5\n",
    "solution(s, skip, index)"
   ]
  },
  {
   "attachments": {},
   "cell_type": "markdown",
   "metadata": {},
   "source": [
    "### 통과)"
   ]
  },
  {
   "cell_type": "code",
   "execution_count": 68,
   "metadata": {},
   "outputs": [],
   "source": [
    "def solution(s, skip, index):\n",
    "    answer = ''\n",
    "    alpha = [chr(i) for i in range(ord('a'), ord('z')+1) if chr(i) not in skip]*10\n",
    "    for a in s:\n",
    "        answer += alpha[alpha.index(a) + index]\n",
    "    return answer"
   ]
  },
  {
   "attachments": {},
   "cell_type": "markdown",
   "metadata": {},
   "source": [
    "-> skip에 포함된 알파벳을 제외한 알파벳들을 담은 리스트 alpha를 만들고, z를 넘어갈 경우 다시 a로 돌아오도록 리스트 alpha를 10번 반복"
   ]
  },
  {
   "cell_type": "code",
   "execution_count": 69,
   "metadata": {},
   "outputs": [
    {
     "data": {
      "text/plain": [
       "'happy'"
      ]
     },
     "execution_count": 69,
     "metadata": {},
     "output_type": "execute_result"
    }
   ],
   "source": [
    "s = \"aukks\"\n",
    "skip = \"wbqd\"\n",
    "index = 5\n",
    "solution(s, skip, index)"
   ]
  },
  {
   "attachments": {},
   "cell_type": "markdown",
   "metadata": {},
   "source": [
    "### 다른 풀이"
   ]
  },
  {
   "cell_type": "code",
   "execution_count": null,
   "metadata": {},
   "outputs": [],
   "source": [
    "def solution(s, skip, index):\n",
    "    alphas = [chr(a) for a in range(ord(\"a\"), ord(\"z\")+1) if chr(a) not in skip]\n",
    "    return \"\".join([alphas[(alphas.index(a) + index) % len(alphas)] for a in s])"
   ]
  },
  {
   "attachments": {},
   "cell_type": "markdown",
   "metadata": {},
   "source": [
    "-> skip에 포함된 알파벳을 제외한 알파벳들을 담은 리스트 alphas를 하나만 만들고, s의 현재 알파벳의 index 만큼 뒤인 문자의 인덱스 값을 alphas 리스트의 길이만큼으로 나눈 나머지를 인덱스로 가지는 값"
   ]
  }
 ],
 "metadata": {
  "kernelspec": {
   "display_name": "base",
   "language": "python",
   "name": "python3"
  },
  "language_info": {
   "codemirror_mode": {
    "name": "ipython",
    "version": 3
   },
   "file_extension": ".py",
   "mimetype": "text/x-python",
   "name": "python",
   "nbconvert_exporter": "python",
   "pygments_lexer": "ipython3",
   "version": "3.9.7"
  },
  "orig_nbformat": 4
 },
 "nbformat": 4,
 "nbformat_minor": 2
}

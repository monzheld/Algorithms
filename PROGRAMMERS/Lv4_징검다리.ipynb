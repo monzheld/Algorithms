{
 "cells": [
  {
   "attachments": {},
   "cell_type": "markdown",
   "metadata": {},
   "source": [
    "[문제](https://school.programmers.co.kr/learn/courses/30/lessons/43236)"
   ]
  },
  {
   "attachments": {},
   "cell_type": "markdown",
   "metadata": {},
   "source": [
    "### 이분탐색"
   ]
  },
  {
   "attachments": {},
   "cell_type": "markdown",
   "metadata": {},
   "source": [
    "- 출발지점부터 distance만큼 떨어진 곳에 도착지점이 있음\n",
    "- 그리고 그사이에는 바위들이 놓여있음\n",
    "- 바위 중 몇 개를 제거하려고 함"
   ]
  },
  {
   "attachments": {},
   "cell_type": "markdown",
   "metadata": {},
   "source": [
    "- 예를 들어, 도착지점이 25만큼 떨어져 있고, 바위가 [2, 14, 11, 21, 17] 지점에 놓여있을 때 바위 2개를 제거하면 \n",
    "- 출발지점, 도착지점, 바위 간의 거리가 아래와 같음\n",
    "- 이때, 거리의 최솟값 중 가장 큰 값은 4"
   ]
  },
  {
   "attachments": {},
   "cell_type": "markdown",
   "metadata": {},
   "source": [
    "![스크린샷 2023-04-13 18 15 44](https://user-images.githubusercontent.com/93971420/231713502-62c2716b-fb0a-4f1e-a332-f1e235eb9c36.png)"
   ]
  },
  {
   "attachments": {},
   "cell_type": "markdown",
   "metadata": {},
   "source": [
    "- 출발지점부터 도착지점까지의 거리 distance, 바위들이 있는 위치를 담은 배열 rocks, 제거할 바위의 수 n이 매개변수로 주어질 때, **바위를 n개 제거한 뒤 각 지점 사이의 거리의 최솟값 중에 가장 큰 값**을 return"
   ]
  },
  {
   "attachments": {},
   "cell_type": "markdown",
   "metadata": {},
   "source": [
    "**제한사항**\n",
    "\n",
    "- 도착지점까지의 거리 distance는 1 이상 1,000,000,000 이하\n",
    "- 바위는 1개 이상 50,000개 이하\n",
    "- n 은 1 이상 바위의 개수 이하"
   ]
  },
  {
   "cell_type": "code",
   "execution_count": null,
   "metadata": {},
   "outputs": [],
   "source": [
    "\"\"\"\n",
    "입출력 예시)\n",
    "\n",
    "distance = 25, rocks = [2, 14, 11, 21, 17], n = 2 -> 4\n",
    "\"\"\""
   ]
  },
  {
   "attachments": {},
   "cell_type": "markdown",
   "metadata": {},
   "source": [
    "## 2023/04/13"
   ]
  },
  {
   "cell_type": "code",
   "execution_count": null,
   "metadata": {},
   "outputs": [],
   "source": [
    "## 의사 코드 ##\n",
    "\n",
    "# 탐색 범위가 100만 이상 -> 이분탐색 \n",
    "\n",
    "# 이분탐색 전제 조건: 정렬\n",
    "# rocks.sort() \n",
    "\n",
    "# left = 0\n",
    "# right = distance\n",
    "\n",
    "# 현재 거리 => 각 바위 사이의 거리의 최솟값 중 가장 큰 값\n",
    "# mid = (left + right) // 2\n",
    "\n",
    "# 현재 제거한 바위의 수 \n",
    "# delete = 0\n",
    "\n",
    "# 이전 바위의 위치\n",
    "# prev_rock = 0 \n",
    "\n",
    "# 바위 사이의 거리를 구했을 때 mid 보다 작으면 제거, 크면 그대로 두기\n",
    "# for rock in rocks:\n",
    "#     dist = rock - prev_rock\n",
    "#     if dist < mid: delete += 1\n",
    "#     else: prev_rock = rock \n",
    "\n",
    "# <현재 제거한 바위의 수(delete)>가 [제거할 바위의 수(n)]보다 많으면 탐색 범위를 작은 쪽으로 줄이기\n",
    "\n",
    "# <현재 제거한 바위의 수(delete)>가 [제거할 바위의 수(n)]보다 같거나 작으면 탐색 범위를 큰 쪽으로 줄이기"
   ]
  },
  {
   "attachments": {},
   "cell_type": "markdown",
   "metadata": {},
   "source": [
    "### 통과)"
   ]
  },
  {
   "cell_type": "code",
   "execution_count": 10,
   "metadata": {},
   "outputs": [],
   "source": [
    "def solution(distance, rocks, n):\n",
    "    answer = 0\n",
    "    # 바위의 위치 오름차순 정렬 \n",
    "    rocks.sort()\n",
    "    left, right = 0, distance \n",
    "\n",
    "    while left <= right:\n",
    "        # 현재 거리 => 각 바위 사이의 거리의 최솟값 중 가장 큰 값\n",
    "        mid = (left + right) // 2\n",
    "        # 현재 제거한 바위의 수 \n",
    "        delete = 0\n",
    "        # 이전 바위의 위치 (시작: 시작지점인 0)\n",
    "        prev_rock = 0 \n",
    "\n",
    "        for rock in rocks:\n",
    "            # 현재 바위와 이전 바위 사이의 거리 \n",
    "            dist = rock - prev_rock\n",
    "            # 바위 사이의 거리가 mid보다 작으면 바위 제거\n",
    "            if dist < mid:\n",
    "                delete += 1\n",
    "            # 바위 사이의 거리가 mid보다 같거나 크면 이전 바위의 위치를 현재 바위 위치로 변경 \n",
    "            else:\n",
    "                prev_rock = rock \n",
    "            # <현재 제거한 바위의 수(delete)>가 [제거할 바위의 수(n)]보다 많으면 break  \n",
    "            if delete > n:\n",
    "                break \n",
    "        \n",
    "        # <현재 제거한 바위의 수(delete)>가 [제거할 바위의 수(n)]보다 많으면 탐색 범위를 작은 쪽으로 줄이기\n",
    "        if delete > n:\n",
    "            right = mid - 1\n",
    "        # <현재 제거한 바위의 수(delete)>가 [제거할 바위의 수(n)]보다 같거나 작으면 탐색 범위를 큰 쪽으로 줄이기\n",
    "        else:\n",
    "            answer = mid\n",
    "            left = mid + 1\n",
    "\n",
    "    return answer"
   ]
  },
  {
   "cell_type": "code",
   "execution_count": 11,
   "metadata": {},
   "outputs": [
    {
     "data": {
      "text/plain": [
       "4"
      ]
     },
     "execution_count": 11,
     "metadata": {},
     "output_type": "execute_result"
    }
   ],
   "source": [
    "distance = 25\n",
    "rocks = [2, 14, 11, 21, 17]\n",
    "n = 2\n",
    "solution(distance, rocks, n)"
   ]
  },
  {
   "cell_type": "code",
   "execution_count": null,
   "metadata": {},
   "outputs": [],
   "source": [
    "# 과정 확인"
   ]
  },
  {
   "cell_type": "code",
   "execution_count": 12,
   "metadata": {},
   "outputs": [],
   "source": [
    "def solution(distance, rocks, n):\n",
    "    answer = 0\n",
    "    # 바위의 위치 오름차순 정렬 \n",
    "    rocks.sort()\n",
    "    left, right = 0, distance \n",
    "\n",
    "    while left <= right:\n",
    "        print(f'left: {left}, right: {right}')\n",
    "        # 현재 거리 => 각 바위 사이의 거리의 최솟값 중 가장 큰 값\n",
    "        mid = (left + right) // 2\n",
    "        print('현재 거리(mid):', mid, '\\n')\n",
    "        # 현재 제거한 바위의 수 \n",
    "        delete = 0\n",
    "        # 이전 바위의 위치 (시작: 시작지점인 0)\n",
    "        prev_rock = 0 \n",
    "\n",
    "        for rock in rocks:\n",
    "            # 현재 바위와 이전 바위 사이의 거리 \n",
    "            dist = rock - prev_rock\n",
    "            print(f'현재 바위의 위치: {rock}, 이전 바위의 위치: {prev_rock}')\n",
    "            print('현재 바위와 이전 바위 사이의 거리(dist):', dist, '\\n')\n",
    "            # 바위 사이의 거리가 mid보다 작으면 바위 제거\n",
    "            if dist < mid:\n",
    "                delete += 1\n",
    "            # 바위 사이의 거리가 mid보다 같거나 크면 이전 바위의 위치를 현재 바위 위치로 변경 \n",
    "            else:\n",
    "                prev_rock = rock \n",
    "            # <현재 제거한 바위의 수(delete)>가 [제거할 바위의 수(n)]보다 많으면 break  \n",
    "            if delete > n:\n",
    "                break \n",
    "        print('현재 제거한 바위의 수(delete):', delete, '\\n')\n",
    "        # <현재 제거한 바위의 수(delete)>가 [제거할 바위의 수(n)]보다 많으면 탐색 범위를 작은 쪽으로 줄이기\n",
    "        if delete > n:\n",
    "            right = mid - 1\n",
    "            print('<현재 제거한 바위의 수(delete)>가 [제거할 바위의 수(n)]보다 많은 경우')\n",
    "            print(f'갱신된 right: (mid - 1) = {right}')\n",
    "        # <현재 제거한 바위의 수(delete)>가 [제거할 바위의 수(n)]보다 같거나 작으면 탐색 범위를 큰 쪽으로 줄이기\n",
    "        else:\n",
    "            answer = mid\n",
    "            left = mid + 1\n",
    "            print('<현재 제거한 바위의 수(delete)>가 [제거할 바위의 수(n)]보다 같거나 작은 경우')\n",
    "            print(f'갱신된 left: (mid + 1) = {left}')\n",
    "        print('-'*30)\n",
    "\n",
    "    return answer"
   ]
  },
  {
   "cell_type": "code",
   "execution_count": 13,
   "metadata": {},
   "outputs": [
    {
     "name": "stdout",
     "output_type": "stream",
     "text": [
      "left: 0, right: 25\n",
      "현재 거리(mid): 12 \n",
      "\n",
      "현재 바위의 위치: 2, 이전 바위의 위치: 0\n",
      "현재 바위와 이전 바위 사이의 거리(dist): 2 \n",
      "\n",
      "현재 바위의 위치: 11, 이전 바위의 위치: 0\n",
      "현재 바위와 이전 바위 사이의 거리(dist): 11 \n",
      "\n",
      "현재 바위의 위치: 14, 이전 바위의 위치: 0\n",
      "현재 바위와 이전 바위 사이의 거리(dist): 14 \n",
      "\n",
      "현재 바위의 위치: 17, 이전 바위의 위치: 14\n",
      "현재 바위와 이전 바위 사이의 거리(dist): 3 \n",
      "\n",
      "현재 제거한 바위의 수(delete): 3 \n",
      "\n",
      "<현재 제거한 바위의 수(delete)>가 [제거할 바위의 수(n)]보다 많은 경우\n",
      "갱신된 right: (mid - 1) = 11\n",
      "------------------------------\n",
      "left: 0, right: 11\n",
      "현재 거리(mid): 5 \n",
      "\n",
      "현재 바위의 위치: 2, 이전 바위의 위치: 0\n",
      "현재 바위와 이전 바위 사이의 거리(dist): 2 \n",
      "\n",
      "현재 바위의 위치: 11, 이전 바위의 위치: 0\n",
      "현재 바위와 이전 바위 사이의 거리(dist): 11 \n",
      "\n",
      "현재 바위의 위치: 14, 이전 바위의 위치: 11\n",
      "현재 바위와 이전 바위 사이의 거리(dist): 3 \n",
      "\n",
      "현재 바위의 위치: 17, 이전 바위의 위치: 11\n",
      "현재 바위와 이전 바위 사이의 거리(dist): 6 \n",
      "\n",
      "현재 바위의 위치: 21, 이전 바위의 위치: 17\n",
      "현재 바위와 이전 바위 사이의 거리(dist): 4 \n",
      "\n",
      "현재 제거한 바위의 수(delete): 3 \n",
      "\n",
      "<현재 제거한 바위의 수(delete)>가 [제거할 바위의 수(n)]보다 많은 경우\n",
      "갱신된 right: (mid - 1) = 4\n",
      "------------------------------\n",
      "left: 0, right: 4\n",
      "현재 거리(mid): 2 \n",
      "\n",
      "현재 바위의 위치: 2, 이전 바위의 위치: 0\n",
      "현재 바위와 이전 바위 사이의 거리(dist): 2 \n",
      "\n",
      "현재 바위의 위치: 11, 이전 바위의 위치: 2\n",
      "현재 바위와 이전 바위 사이의 거리(dist): 9 \n",
      "\n",
      "현재 바위의 위치: 14, 이전 바위의 위치: 11\n",
      "현재 바위와 이전 바위 사이의 거리(dist): 3 \n",
      "\n",
      "현재 바위의 위치: 17, 이전 바위의 위치: 14\n",
      "현재 바위와 이전 바위 사이의 거리(dist): 3 \n",
      "\n",
      "현재 바위의 위치: 21, 이전 바위의 위치: 17\n",
      "현재 바위와 이전 바위 사이의 거리(dist): 4 \n",
      "\n",
      "현재 제거한 바위의 수(delete): 0 \n",
      "\n",
      "<현재 제거한 바위의 수(delete)>가 [제거할 바위의 수(n)]보다 같거나 작은 경우\n",
      "갱신된 left: (mid + 1) = 3\n",
      "------------------------------\n",
      "left: 3, right: 4\n",
      "현재 거리(mid): 3 \n",
      "\n",
      "현재 바위의 위치: 2, 이전 바위의 위치: 0\n",
      "현재 바위와 이전 바위 사이의 거리(dist): 2 \n",
      "\n",
      "현재 바위의 위치: 11, 이전 바위의 위치: 0\n",
      "현재 바위와 이전 바위 사이의 거리(dist): 11 \n",
      "\n",
      "현재 바위의 위치: 14, 이전 바위의 위치: 11\n",
      "현재 바위와 이전 바위 사이의 거리(dist): 3 \n",
      "\n",
      "현재 바위의 위치: 17, 이전 바위의 위치: 14\n",
      "현재 바위와 이전 바위 사이의 거리(dist): 3 \n",
      "\n",
      "현재 바위의 위치: 21, 이전 바위의 위치: 17\n",
      "현재 바위와 이전 바위 사이의 거리(dist): 4 \n",
      "\n",
      "현재 제거한 바위의 수(delete): 1 \n",
      "\n",
      "<현재 제거한 바위의 수(delete)>가 [제거할 바위의 수(n)]보다 같거나 작은 경우\n",
      "갱신된 left: (mid + 1) = 4\n",
      "------------------------------\n",
      "left: 4, right: 4\n",
      "현재 거리(mid): 4 \n",
      "\n",
      "현재 바위의 위치: 2, 이전 바위의 위치: 0\n",
      "현재 바위와 이전 바위 사이의 거리(dist): 2 \n",
      "\n",
      "현재 바위의 위치: 11, 이전 바위의 위치: 0\n",
      "현재 바위와 이전 바위 사이의 거리(dist): 11 \n",
      "\n",
      "현재 바위의 위치: 14, 이전 바위의 위치: 11\n",
      "현재 바위와 이전 바위 사이의 거리(dist): 3 \n",
      "\n",
      "현재 바위의 위치: 17, 이전 바위의 위치: 11\n",
      "현재 바위와 이전 바위 사이의 거리(dist): 6 \n",
      "\n",
      "현재 바위의 위치: 21, 이전 바위의 위치: 17\n",
      "현재 바위와 이전 바위 사이의 거리(dist): 4 \n",
      "\n",
      "현재 제거한 바위의 수(delete): 2 \n",
      "\n",
      "<현재 제거한 바위의 수(delete)>가 [제거할 바위의 수(n)]보다 같거나 작은 경우\n",
      "갱신된 left: (mid + 1) = 5\n",
      "------------------------------\n"
     ]
    },
    {
     "data": {
      "text/plain": [
       "4"
      ]
     },
     "execution_count": 13,
     "metadata": {},
     "output_type": "execute_result"
    }
   ],
   "source": [
    "distance = 25\n",
    "rocks = [2, 14, 11, 21, 17]\n",
    "n = 2\n",
    "solution(distance, rocks, n)"
   ]
  }
 ],
 "metadata": {
  "kernelspec": {
   "display_name": "base",
   "language": "python",
   "name": "python3"
  },
  "language_info": {
   "codemirror_mode": {
    "name": "ipython",
    "version": 3
   },
   "file_extension": ".py",
   "mimetype": "text/x-python",
   "name": "python",
   "nbconvert_exporter": "python",
   "pygments_lexer": "ipython3",
   "version": "3.9.7"
  },
  "orig_nbformat": 4
 },
 "nbformat": 4,
 "nbformat_minor": 2
}

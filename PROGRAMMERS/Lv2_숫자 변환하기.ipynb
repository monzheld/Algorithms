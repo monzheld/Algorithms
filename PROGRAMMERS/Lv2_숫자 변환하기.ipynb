{
 "cells": [
  {
   "attachments": {},
   "cell_type": "markdown",
   "metadata": {},
   "source": [
    "[문제](https://school.programmers.co.kr/learn/courses/30/lessons/154538)"
   ]
  },
  {
   "attachments": {},
   "cell_type": "markdown",
   "metadata": {},
   "source": [
    "- 자연수 x를 y로 변환하려고 함\n",
    "- 사용할 수 있는 연산을 다음과 같음\n",
    "    - x에 n을 더함\n",
    "    - x에 2를 곱함\n",
    "    - x에 3을 곱함\n",
    "- 자연수 x, y, n이 매개변수로 주어질 때, x를 y로 변환하기 위해 필요한 최소 연산 횟수를 return \n",
    "- x를 y로 만들 수 없다면 -1을 return "
   ]
  },
  {
   "attachments": {},
   "cell_type": "markdown",
   "metadata": {},
   "source": [
    "**제한사항**\n",
    "\n",
    "- 1 ≤ x ≤ y ≤ 1,000,000\n",
    "- 1 ≤ n < y"
   ]
  },
  {
   "cell_type": "code",
   "execution_count": null,
   "metadata": {},
   "outputs": [],
   "source": [
    "\"\"\"\n",
    "입출력 예시)\n",
    "\n",
    "x = 10, y = 40, n = 5 -> 2\n",
    "x = 10, y = 40, n = 30 -> 1\n",
    "x = 2, y = 5, n = 4 -> -1\n",
    "\"\"\""
   ]
  },
  {
   "attachments": {},
   "cell_type": "markdown",
   "metadata": {},
   "source": [
    "## 2023/06/10"
   ]
  },
  {
   "cell_type": "code",
   "execution_count": null,
   "metadata": {},
   "outputs": [],
   "source": [
    "## 의사코드 ##\n",
    "\n",
    "# 최소 연산 횟수 \n",
    "# -> DP\n",
    "\n",
    "# x+1부터 y까지 for문으로 순회\n",
    "\n",
    "# x+n 과 x*2 중 더 작은 수부터 순회 \n",
    "\n",
    "# i에서 n을뺀 값, i가 2로 나누어 떨어지는 경우, i가 3으로 나누어 떨어지는 경우의 DP 값 중 가장 작은 것 + 1로 업데이트 "
   ]
  },
  {
   "attachments": {},
   "cell_type": "markdown",
   "metadata": {},
   "source": [
    "### 통과)"
   ]
  },
  {
   "cell_type": "code",
   "execution_count": 1,
   "metadata": {},
   "outputs": [],
   "source": [
    "def solution(x, y, n):\n",
    "    dp = [float('inf')] * (y+1)\n",
    "    dp[x] = 0 \n",
    "    # x+1부터 y까지 순회\n",
    "    for i in range(x+1, y+1):\n",
    "        # x+n 과 x*2 중 더 작은 수부터 순회 \n",
    "        if i < x + n and i < x * 2:\n",
    "            continue\n",
    "        # i의 dp값과 i-n의 dp값 중 가장 작은 값 + 1로 업데이트\n",
    "        dp[i] = min(dp[i-n]+1, dp[i])\n",
    "        # i가 2로 나누어 떨어지는 경우\n",
    "        # i의 dp값과 i // 2의 dp값 중 가장 작은 값 + 1로 업데이트\n",
    "        if i % 2 == 0:\n",
    "            dp[i] = min(dp[i], dp[i//2]+1)\n",
    "        # i가 3으로 나누어 떨어지는 경우\n",
    "        # i의 dp값과 i // 3의 dp값 중 가장 작은 값 + 1로 업데이트\n",
    "        if i % 3 == 0:\n",
    "            dp[i] = min(dp[i], dp[i//3]+1)\n",
    "\n",
    "    return dp[y] if dp[y] != float('inf') else -1"
   ]
  },
  {
   "cell_type": "code",
   "execution_count": 3,
   "metadata": {},
   "outputs": [
    {
     "data": {
      "text/plain": [
       "2"
      ]
     },
     "execution_count": 3,
     "metadata": {},
     "output_type": "execute_result"
    }
   ],
   "source": [
    "x = 10\n",
    "y = 40\n",
    "n = 5\n",
    "solution(x, y, n)"
   ]
  },
  {
   "cell_type": "code",
   "execution_count": 4,
   "metadata": {},
   "outputs": [
    {
     "data": {
      "text/plain": [
       "1"
      ]
     },
     "execution_count": 4,
     "metadata": {},
     "output_type": "execute_result"
    }
   ],
   "source": [
    "x = 10\n",
    "y = 40\n",
    "n = 30\n",
    "solution(x, y, n)"
   ]
  },
  {
   "cell_type": "code",
   "execution_count": 5,
   "metadata": {},
   "outputs": [
    {
     "data": {
      "text/plain": [
       "-1"
      ]
     },
     "execution_count": 5,
     "metadata": {},
     "output_type": "execute_result"
    }
   ],
   "source": [
    "x = 2\n",
    "y = 5\n",
    "n = 4\n",
    "solution(x, y, n)"
   ]
  }
 ],
 "metadata": {
  "kernelspec": {
   "display_name": "base",
   "language": "python",
   "name": "python3"
  },
  "language_info": {
   "codemirror_mode": {
    "name": "ipython",
    "version": 3
   },
   "file_extension": ".py",
   "mimetype": "text/x-python",
   "name": "python",
   "nbconvert_exporter": "python",
   "pygments_lexer": "ipython3",
   "version": "3.9.7"
  },
  "orig_nbformat": 4
 },
 "nbformat": 4,
 "nbformat_minor": 2
}

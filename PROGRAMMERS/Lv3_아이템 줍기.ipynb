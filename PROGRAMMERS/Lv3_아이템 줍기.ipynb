{
 "cells": [
  {
   "attachments": {},
   "cell_type": "markdown",
   "metadata": {},
   "source": [
    "[문제](https://school.programmers.co.kr/learn/courses/30/lessons/87694)"
   ]
  },
  {
   "attachments": {},
   "cell_type": "markdown",
   "metadata": {},
   "source": [
    "### DFS/BFS"
   ]
  },
  {
   "attachments": {},
   "cell_type": "markdown",
   "metadata": {},
   "source": [
    "- 다음과 같은 다각형 모양 지형에서 캐릭터가 아이템을 줍기 위해 이동"
   ]
  },
  {
   "attachments": {},
   "cell_type": "markdown",
   "metadata": {},
   "source": [
    "<img width=\"483\" alt=\"스크린샷 2023-01-25 22 40 35\" src=\"https://user-images.githubusercontent.com/93971420/214578531-eee609c1-9b9f-4e01-baee-e9484d9a1cf6.png\">"
   ]
  },
  {
   "attachments": {},
   "cell_type": "markdown",
   "metadata": {},
   "source": [
    "- 지형은 각 변이 x축, y축과 평행한 직사각형이 겹쳐진 형태로 표현\n",
    "- 캐릭터는 이 다각형의 둘레(굵은 선)를 따라서 이동"
   ]
  },
  {
   "attachments": {},
   "cell_type": "markdown",
   "metadata": {},
   "source": [
    "<img width=\"418\" alt=\"스크린샷 2023-01-25 22 42 02\" src=\"https://user-images.githubusercontent.com/93971420/214578738-71d669ac-3f68-4325-af74-a6d1adffb4eb.png\">"
   ]
  },
  {
   "attachments": {},
   "cell_type": "markdown",
   "metadata": {},
   "source": [
    "- 만약 직사각형을 겹친 후 중앙에 빈 공간이 생기는 경우, **다각형의 가장 바깥쪽 테두리가 캐릭터의 이동 경로**가 됨"
   ]
  },
  {
   "attachments": {},
   "cell_type": "markdown",
   "metadata": {},
   "source": [
    "- 단, 서로 다른 두 직사각형의 x축 좌표 또는 y축 좌표가 같은 경우는 없음\n",
    "- 아래 그림처럼 서로 다른 두 직사각형이 꼭짓점에서 만나거나, 변이 겹치는 경우 등은 없음"
   ]
  },
  {
   "attachments": {},
   "cell_type": "markdown",
   "metadata": {},
   "source": [
    "<img width=\"483\" alt=\"스크린샷 2023-01-25 22 43 19\" src=\"https://user-images.githubusercontent.com/93971420/214579042-ef0a9cac-4725-4806-868d-ef5e92909695.png\">"
   ]
  },
  {
   "attachments": {},
   "cell_type": "markdown",
   "metadata": {},
   "source": [
    "- 지형이 2개 이상으로 분리된 경우도 없음"
   ]
  },
  {
   "attachments": {},
   "cell_type": "markdown",
   "metadata": {},
   "source": [
    "<img width=\"417\" alt=\"스크린샷 2023-01-25 22 44 06\" src=\"https://user-images.githubusercontent.com/93971420/214579198-082db639-91c8-455a-ab47-46743140246f.png\">"
   ]
  },
  {
   "attachments": {},
   "cell_type": "markdown",
   "metadata": {},
   "source": [
    "- 한 직사각형이 다른 직사각형 안에 완전히 포함되는 경우 또한 없음"
   ]
  },
  {
   "attachments": {},
   "cell_type": "markdown",
   "metadata": {},
   "source": [
    "<img width=\"423\" alt=\"스크린샷 2023-01-25 22 44 52\" src=\"https://user-images.githubusercontent.com/93971420/214579381-35d19467-4f51-49ce-8b42-f3cd9caec259.png\">"
   ]
  },
  {
   "attachments": {},
   "cell_type": "markdown",
   "metadata": {},
   "source": [
    "- rectangle: 지형을 나타내는 직사각형이 담긴 2차원 배열\n",
    "- characterX, characterY: 초기 캐릭터의 위치\n",
    "- itemX, itemY: 아이템의 위치\n",
    "- **캐릭터가 아이템을 줍기 위해 이동해야 하는 가장 짧은 거리**를 return"
   ]
  },
  {
   "attachments": {},
   "cell_type": "markdown",
   "metadata": {},
   "source": [
    "**제한사항**\n",
    "\n",
    "- rectangle의 세로(행) 길이는 1 이상 4 이하\n",
    "- rectangle의 원소는 각 직사각형의 [좌측 하단 x, 좌측 하단 y, 우측 상단 x, 우측 상단 y] 좌표 형태\n",
    "    - 직사각형을 나타내는 **모든 좌표값은 1 이상 50 이하**인 자연수\n",
    "    - 서로 다른 두 직사각형의 x축 좌표, 혹은 y축 좌표가 같은 경우는 없음\n",
    "    - 문제에 주어진 조건에 맞는 직사각형만 입력으로 주어짐\n",
    "- charcterX, charcterY는 1 이상 50 이하인 자연수\n",
    "    - 지형을 나타내는 다각형 테두리 위의 한 점이 주어짐\n",
    "- itemX, itemY는 1 이상 50 이하인 자연수\n",
    "    - 지형을 나타내는 다각형 테두리 위의 한 점이 주어짐\n",
    "- 캐릭터와 아이템의 처음 위치가 같은 경우는 없음"
   ]
  },
  {
   "cell_type": "code",
   "execution_count": null,
   "metadata": {},
   "outputs": [],
   "source": [
    "\"\"\"\n",
    "입출력 예시)\n",
    "\n",
    "rectangle = [[1,1,7,4],[3,2,5,5],[4,3,6,9],[2,6,8,8]], characterX = 1, characterY = 3, itemX = 7, itemY = 8 -> 17\n",
    "rectangle = [[1,1,8,4],[2,2,4,9],[3,6,9,8],[6,3,7,7]], characterX = 9, characterY = 7, itemX = 6, itemY = 1 -> 11\n",
    "rectangle = [[1,1,5,7]], characterX = 1, characterY = 1, itemX = 4, itemY = 7 -> 9\n",
    "rectangle = [[2,1,7,5],[6,4,10,10]], characterX = 3, characterY = 1, itemX = 7, itemY = 10 -> 15\n",
    "rectangle = [[2,2,5,5],[1,3,6,4],[3,1,4,6]], characterX = 1, characterY = 4, itemX = 6, itemY = 3 -> 10\n",
    "\"\"\""
   ]
  },
  {
   "cell_type": "code",
   "execution_count": null,
   "metadata": {},
   "outputs": [],
   "source": [
    "# rectangle = [[1,1,7,4],[3,2,5,5],[4,3,6,9],[2,6,8,8]], characterX = 1, characterY = 3, itemX = 7, itemY = 8 -> 17"
   ]
  },
  {
   "attachments": {},
   "cell_type": "markdown",
   "metadata": {},
   "source": [
    "<img width=\"423\" alt=\"스크린샷 2023-01-25 23 03 27\" src=\"https://user-images.githubusercontent.com/93971420/214583864-b0b3e401-e588-46d6-9b4d-6b3d44317e9b.png\">"
   ]
  },
  {
   "cell_type": "code",
   "execution_count": null,
   "metadata": {},
   "outputs": [],
   "source": [
    "# rectangle = [[1,1,8,4],[2,2,4,9],[3,6,9,8],[6,3,7,7]], characterX = 9, characterY = 7, itemX = 6, itemY = 1 -> 11"
   ]
  },
  {
   "attachments": {},
   "cell_type": "markdown",
   "metadata": {},
   "source": [
    "<img width=\"418\" alt=\"스크린샷 2023-01-25 23 04 07\" src=\"https://user-images.githubusercontent.com/93971420/214584002-6165066f-a40e-42c3-a6e9-1003f0fce6ce.png\">"
   ]
  },
  {
   "cell_type": "code",
   "execution_count": null,
   "metadata": {},
   "outputs": [],
   "source": [
    "# rectangle = [[1,1,5,7]], characterX = 1, characterY = 1, itemX = 4, itemY = 7 -> 9"
   ]
  },
  {
   "attachments": {},
   "cell_type": "markdown",
   "metadata": {},
   "source": [
    "<img width=\"420\" alt=\"스크린샷 2023-01-25 23 04 42\" src=\"https://user-images.githubusercontent.com/93971420/214584133-6c9035dc-e3c9-4f62-838c-87dc538a286a.png\">"
   ]
  },
  {
   "attachments": {},
   "cell_type": "markdown",
   "metadata": {},
   "source": [
    "## 2023/01/25"
   ]
  },
  {
   "cell_type": "code",
   "execution_count": null,
   "metadata": {},
   "outputs": [],
   "source": [
    "## 의사코드 ##\n",
    "\n",
    "# 가장 짧은 거리 -> BFS\n",
    "# deque\n",
    "\n",
    "# 다각형의 가장 바깥쪽 테두리가 캐릭터의 이동 경로\n",
    "\n",
    "# BFS 수행"
   ]
  },
  {
   "cell_type": "code",
   "execution_count": 9,
   "metadata": {},
   "outputs": [
    {
     "name": "stdout",
     "output_type": "stream",
     "text": [
      "a: [[-1, -1, -1]]\n",
      "len(a): 1\n",
      "len(a[0]): 3 \n",
      "\n",
      "b: [[-1, -1, -1], [-1, -1, -1], [-1, -1, -1]]\n",
      "len(b): 3\n",
      "len(b[0]): 3\n"
     ]
    }
   ],
   "source": [
    "# cf) [[-1] * n] vs [[-1] * n for _ in range(n)]\n",
    "\n",
    "# [[-1] * n]\n",
    "# : -1이 n개 있는 리스트가 하나만 들어있는 2차원 리스트\n",
    "a = [[-1]* 3]\n",
    "print('a:', a)\n",
    "print('len(a):', len(a)) # -> 전체 2차원 리스트의 길이 = 1\n",
    "print('len(a[0]):', len(a[0]), '\\n') # -> 한 리스트의 길이 = n\n",
    "\n",
    "# [[-1] * n for _ in range(n)]\n",
    "# -1이 n개 있는 리스트가 n개 들어있는 2차원 리스트 \n",
    "b = [[-1]* 3 for _ in range(3)]\n",
    "print('b:', b)\n",
    "print('len(b):', len(b)) # -> 전체 2차원 리스트의 길이 = n\n",
    "print('len(b[0]):', len(b[0])) # -> 한 리스트의 길이 = n"
   ]
  },
  {
   "attachments": {},
   "cell_type": "markdown",
   "metadata": {},
   "source": [
    "### 통과)"
   ]
  },
  {
   "cell_type": "code",
   "execution_count": null,
   "metadata": {},
   "outputs": [],
   "source": [
    "from collections import deque\n",
    "def solution(rectangle, characterX, characterY, itemX, itemY):\n",
    "    answer = 0\n",
    "    # 모든 좌표값의 최댓값인 50의 2배 크기인 2차원 배열  \n",
    "    field = [[-1] * 102 for _ in range(102)]\n",
    "    \n",
    "    # 직사각형 그리기\n",
    "    for r in rectangle:\n",
    "        x1, y1, x2, y2 = map(lambda x: x*2, r) # 좌표를 그리기 위해 2를 곱함 \n",
    "        # x1부터 x2까지\n",
    "        for i in range(x1, x2+1):\n",
    "            # y1부터 y2까지\n",
    "            for j in range(y1, y2+1):\n",
    "                # 테두리인 x1, x2, y1, y2 값을 제외한 내부만 0으로 채우기\n",
    "                if x1 < i < x2 and y1 < j < y2:\n",
    "                    field[i][j] = 0\n",
    "                # 다른 직사각형의 내부가 아니면서 테두리일 때 1로 채우기\n",
    "                elif field[i][j] != 0:\n",
    "                    field[i][j] = 1\n",
    "    # 상하좌우\n",
    "    dx = [-1, 1, 0, 0]\n",
    "    dy = [0, 0, -1, 1]\n",
    "    \n",
    "    # BFS 수행\n",
    "    q = deque()\n",
    "    # 초기 캐릭터 위치에 2를 곱한 값을 큐에 삽입\n",
    "    q.append([characterX * 2, characterY * 2])\n",
    "    visited = [[1] * 102 for _ in range(102)] # 최단거리 기록\n",
    "\n",
    "    while q:\n",
    "        x, y = q.popleft()\n",
    "        # 현재 위치가 아이템의 위치인 경우 최단거리를 2로 나눈 값 return \n",
    "        if x == itemX*2 and y == itemY*2:\n",
    "            answer = visited[x][y] // 2\n",
    "            break \n",
    "        # 상하좌우 이동\n",
    "        for i in range(4):\n",
    "            nx = x + dx[i]\n",
    "            ny = y + dy[i]\n",
    "            # 현재 위치가 테두리이면서 아직 방문하지 않은 위치라면 (visited의 초기 값: 1)\n",
    "            if field[nx][ny] == 1 and visited[nx][ny] == 1:\n",
    "                q.append([nx, ny])\n",
    "                visited[nx][ny] = visited[x][y] + 1 # 최단거리 갱신\n",
    "    return answer"
   ]
  },
  {
   "attachments": {},
   "cell_type": "markdown",
   "metadata": {},
   "source": [
    "- field를 모든 좌표의 최댓값인 (50+1)의 2배로 만드는 이유\n",
    "    - 테두리가 인접해있는 경우 그 값이 중복될 수 있기 때문\n",
    "    - -> 좌표를 그릴 때도 2를 곱해서 그리고, 최단거리를 구한 후 다시 2로 나눠줌"
   ]
  }
 ],
 "metadata": {
  "kernelspec": {
   "display_name": "cp2",
   "language": "python",
   "name": "python3"
  },
  "language_info": {
   "codemirror_mode": {
    "name": "ipython",
    "version": 3
   },
   "file_extension": ".py",
   "mimetype": "text/x-python",
   "name": "python",
   "nbconvert_exporter": "python",
   "pygments_lexer": "ipython3",
   "version": "3.9.12"
  },
  "orig_nbformat": 4,
  "vscode": {
   "interpreter": {
    "hash": "5ca59c31ddc1bb1d3e926feef50b5ca0d1eacb2093eee1a1a79c0269dbb49758"
   }
  }
 },
 "nbformat": 4,
 "nbformat_minor": 2
}

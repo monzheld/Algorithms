{
 "cells": [
  {
   "attachments": {},
   "cell_type": "markdown",
   "metadata": {},
   "source": [
    "[문제](https://school.programmers.co.kr/learn/courses/30/lessons/1844)"
   ]
  },
  {
   "attachments": {},
   "cell_type": "markdown",
   "metadata": {},
   "source": [
    "### DFS/BFS"
   ]
  },
  {
   "attachments": {},
   "cell_type": "markdown",
   "metadata": {},
   "source": [
    "- ROR 게임은 두 팀으로 나누어서 진행하며, 상대 팀 진영을 먼저 파괴하면 이기는 게임\n",
    "- 각 팀은 **상대 팀 진영에 최대한 빨리 도착하는 것이 유리**\n",
    "- maps: 게임 맵의 상태\n",
    "- 캐릭터가 **상대 팀 진영에 도착하기 위해서 지나가야 하는 칸의 개수의 최솟값**을 return\n",
    "- 단, **상대 팀 진영에 도착할 수 없을 때는 -1**을 return"
   ]
  },
  {
   "attachments": {},
   "cell_type": "markdown",
   "metadata": {},
   "source": [
    "**제한사항**\n",
    "\n",
    "- maps는 n x m 크기의 게임 맵의 상태가 들어있는 2차원 배열로, n과 m은 각각 1 이상 100 이하의 자연수\n",
    "    - n과 m은 서로 같을 수도, 다를 수도 있지만, n과 m이 모두 1인 경우는 입력으로 주어지지 않음\n",
    "- maps는 0과 1로만 이루어져 있으며, **0은 벽이 있는 자리, 1은 벽이 없는 자리**\n",
    "- **처음에 캐릭터는 게임 맵의 좌측 상단인 (1, 1) 위치에** 있으며, **상대방 진영은 게임 맵의 우측 하단인 (n, m) 위치에** 있음"
   ]
  },
  {
   "attachments": {},
   "cell_type": "markdown",
   "metadata": {},
   "source": [
    "- 5 x 5 크기의 맵에, 당신의 캐릭터가 (행: 1, 열: 1) 위치에 있고, 상대 팀 진영은 (행: 5, 열: 5) 위치에 있는 경우의 예시"
   ]
  },
  {
   "attachments": {},
   "cell_type": "markdown",
   "metadata": {},
   "source": [
    "<img width=\"183\" alt=\"스크린샷 2023-01-22 20 18 38\" src=\"https://user-images.githubusercontent.com/93971420/213913062-1a598650-ec22-40f8-a3c4-3e88d47a47ef.png\">"
   ]
  },
  {
   "attachments": {},
   "cell_type": "markdown",
   "metadata": {},
   "source": [
    "- 그림에서 검은색 부분은 벽으로 막혀있어 갈 수 없는 길이며, 흰색 부분은 갈 수 있는 길\n",
    "- 캐릭터가 움직일 때는 동, 서, 남, 북 방향으로 한 칸씩 이동\n",
    "- 게임 맵을 벗어난 길은 갈 수 없음"
   ]
  },
  {
   "attachments": {},
   "cell_type": "markdown",
   "metadata": {},
   "source": [
    "- 캐릭터가 상대 팀 진영으로 가는 두 가지 방법"
   ]
  },
  {
   "attachments": {},
   "cell_type": "markdown",
   "metadata": {},
   "source": [
    "- 1) 11개의 칸을 지나 상대 팀 진영에 도착"
   ]
  },
  {
   "attachments": {},
   "cell_type": "markdown",
   "metadata": {},
   "source": [
    "<img width=\"183\" alt=\"스크린샷 2023-01-22 20 20 15\" src=\"https://user-images.githubusercontent.com/93971420/213913135-2641fbb5-64be-4ddb-a6f5-3446d6af6d0b.png\">"
   ]
  },
  {
   "attachments": {},
   "cell_type": "markdown",
   "metadata": {},
   "source": [
    "- 2) 15개의 칸을 지나 상대팀 진영에 도착"
   ]
  },
  {
   "attachments": {},
   "cell_type": "markdown",
   "metadata": {},
   "source": [
    "<img width=\"183\" alt=\"스크린샷 2023-01-22 20 21 19\" src=\"https://user-images.githubusercontent.com/93971420/213913166-11da36bc-26d9-4cf9-b87e-c1d9357c4302.png\">"
   ]
  },
  {
   "attachments": {},
   "cell_type": "markdown",
   "metadata": {},
   "source": [
    "- => 첫 번째 방법보다 더 빠르게 상대팀 진영에 도착하는 방법은 없으므로, 첫 번째 방법이 상대 팀 진영으로 가는 가장 빠른 방법"
   ]
  },
  {
   "attachments": {},
   "cell_type": "markdown",
   "metadata": {},
   "source": [
    "- 만약, **상대 팀이 자신의 팀 진영 주위에 벽을 세워두었다면 상대 팀 진영에 도착하지 못할 수도** 있음"
   ]
  },
  {
   "attachments": {},
   "cell_type": "markdown",
   "metadata": {},
   "source": [
    "<img width=\"182\" alt=\"스크린샷 2023-01-22 20 22 50\" src=\"https://user-images.githubusercontent.com/93971420/213913222-57b321a7-914a-4a92-a655-96382a66d74a.png\">"
   ]
  },
  {
   "cell_type": "code",
   "execution_count": null,
   "metadata": {},
   "outputs": [],
   "source": [
    "\"\"\"\n",
    "입출력 예시)\n",
    "\n",
    "maps = [[1,0,1,1,1],[1,0,1,0,1],[1,0,1,1,1],[1,1,1,0,1],[0,0,0,0,1]] -> 11\n",
    "maps = [[1,0,1,1,1],[1,0,1,0,1],[1,0,1,1,1],[1,1,1,0,0],[0,0,0,0,1]] -> -1\n",
    "\"\"\""
   ]
  },
  {
   "cell_type": "code",
   "execution_count": null,
   "metadata": {},
   "outputs": [],
   "source": [
    "# maps = [[1,0,1,1,1],[1,0,1,0,1],[1,0,1,1,1],[1,1,1,0,1],[0,0,0,0,1]] -> 11\n",
    "# 주어진 maps의 예시"
   ]
  },
  {
   "attachments": {},
   "cell_type": "markdown",
   "metadata": {},
   "source": [
    "<img width=\"182\" alt=\"스크린샷 2023-01-22 20 25 17\" src=\"https://user-images.githubusercontent.com/93971420/213913295-c7114b50-a3cf-4a16-afc2-5bc8e655d138.png\">"
   ]
  },
  {
   "attachments": {},
   "cell_type": "markdown",
   "metadata": {},
   "source": [
    "## 2023/01/22"
   ]
  },
  {
   "cell_type": "code",
   "execution_count": null,
   "metadata": {},
   "outputs": [],
   "source": [
    "## 의사코드 ##\n",
    "\n",
    "# 최단거리 -> BFS\n",
    "# -> deque\n",
    "\n",
    "# 캐릭터가 이동할 수 있는 범위\n",
    "# dx = [-1, 1, 0, 0]\n",
    "# dy = [0, 0, -1, 1]\n",
    "#   -> for i in range(4):\n",
    "#           nx = x+dx[i]\n",
    "#           ny = y+dy[i]\n",
    "\n",
    "# 상대방 진영: (n,m)\n",
    "#    n = len(maps)\n",
    "#    m = len(maps[0])\n",
    "\n",
    "# 처음 캐릭터 위치: (1,1)\n",
    "\n",
    "# 0은 벽이 있는 자리, 1은 벽이 없는 자리\n",
    "# -> 캐릭터는 1에서만 이동 가능\n",
    "\n",
    "# 상대 팀이 자신의 팀 진영 주위에 벽을 세워두었다면 상대 팀 진영에 도착하지 못할 수도\n",
    "# -> 상대 팀 진영 위치인 (n,m) 바로 윗칸의 값이 0인 경우\n",
    "# => (n-1, m) = 0\n",
    "\n",
    "# return \n",
    "# 상대 팀 진영에 도착하기 위해서 지나가야 하는 칸의 개수의 최솟값\n",
    "# 상대 팀 진영에 도착할 수 없을 때는 -1"
   ]
  },
  {
   "attachments": {},
   "cell_type": "markdown",
   "metadata": {},
   "source": [
    "### 1) "
   ]
  },
  {
   "cell_type": "code",
   "execution_count": 6,
   "metadata": {},
   "outputs": [],
   "source": [
    "from collections import deque\n",
    "def solution(maps):\n",
    "    n, m = len(maps), len(maps[0])\n",
    "    # 캐릭터가 이동할 수 있는 범위\n",
    "    dx = [-1, 1, 0, 0]\n",
    "    dy = [0, 0, -1, 1]\n",
    "\n",
    "    q = deque([1, 1])\n",
    "\n",
    "    while q:\n",
    "        x, y = q.popleft()\n",
    "        for i in range(4):\n",
    "            nx = x + dx[i]\n",
    "            ny = y + dy[i]\n",
    "            # 이동할 수 있는 경우 탐색 진행\n",
    "            if 0 <= nx <= n and 0 <= ny <= m: # nx, ny가 게임 맵을 벗어나지 않고\n",
    "                if maps[nx][ny] == 1: # 위치의 값이 1인 경우\n",
    "                    maps[nx][ny] = maps[x][y] + 1 # 상대 팀 진영에 도착하는 방법의 수 + 1\n",
    "                    q.append([nx, ny])\n",
    "\n",
    "    return maps[n][m] if maps[n][m] > 1 else -1"
   ]
  },
  {
   "cell_type": "code",
   "execution_count": 7,
   "metadata": {},
   "outputs": [
    {
     "ename": "TypeError",
     "evalue": "cannot unpack non-iterable int object",
     "output_type": "error",
     "traceback": [
      "\u001b[0;31m---------------------------------------------------------------------------\u001b[0m",
      "\u001b[0;31mTypeError\u001b[0m                                 Traceback (most recent call last)",
      "\u001b[1;32m/Users/hsh/Desktop/algorithms/Algorithms/PROGRAMMERS/Lv2_게임 맵 최단거리.ipynb 셀 23\u001b[0m in \u001b[0;36m<cell line: 2>\u001b[0;34m()\u001b[0m\n\u001b[1;32m      <a href='vscode-notebook-cell:/Users/hsh/Desktop/algorithms/Algorithms/PROGRAMMERS/Lv2_%EA%B2%8C%EC%9E%84%20%EB%A7%B5%20%EC%B5%9C%EB%8B%A8%EA%B1%B0%EB%A6%AC.ipynb#X40sZmlsZQ%3D%3D?line=0'>1</a>\u001b[0m maps \u001b[39m=\u001b[39m [[\u001b[39m1\u001b[39m,\u001b[39m0\u001b[39m,\u001b[39m1\u001b[39m,\u001b[39m1\u001b[39m,\u001b[39m1\u001b[39m],[\u001b[39m1\u001b[39m,\u001b[39m0\u001b[39m,\u001b[39m1\u001b[39m,\u001b[39m0\u001b[39m,\u001b[39m1\u001b[39m],[\u001b[39m1\u001b[39m,\u001b[39m0\u001b[39m,\u001b[39m1\u001b[39m,\u001b[39m1\u001b[39m,\u001b[39m1\u001b[39m],[\u001b[39m1\u001b[39m,\u001b[39m1\u001b[39m,\u001b[39m1\u001b[39m,\u001b[39m0\u001b[39m,\u001b[39m1\u001b[39m],[\u001b[39m0\u001b[39m,\u001b[39m0\u001b[39m,\u001b[39m0\u001b[39m,\u001b[39m0\u001b[39m,\u001b[39m1\u001b[39m]]\n\u001b[0;32m----> <a href='vscode-notebook-cell:/Users/hsh/Desktop/algorithms/Algorithms/PROGRAMMERS/Lv2_%EA%B2%8C%EC%9E%84%20%EB%A7%B5%20%EC%B5%9C%EB%8B%A8%EA%B1%B0%EB%A6%AC.ipynb#X40sZmlsZQ%3D%3D?line=1'>2</a>\u001b[0m solution(maps)\n",
      "\u001b[1;32m/Users/hsh/Desktop/algorithms/Algorithms/PROGRAMMERS/Lv2_게임 맵 최단거리.ipynb 셀 23\u001b[0m in \u001b[0;36msolution\u001b[0;34m(maps)\u001b[0m\n\u001b[1;32m      <a href='vscode-notebook-cell:/Users/hsh/Desktop/algorithms/Algorithms/PROGRAMMERS/Lv2_%EA%B2%8C%EC%9E%84%20%EB%A7%B5%20%EC%B5%9C%EB%8B%A8%EA%B1%B0%EB%A6%AC.ipynb#X40sZmlsZQ%3D%3D?line=7'>8</a>\u001b[0m q \u001b[39m=\u001b[39m deque([\u001b[39m1\u001b[39m, \u001b[39m1\u001b[39m])\n\u001b[1;32m     <a href='vscode-notebook-cell:/Users/hsh/Desktop/algorithms/Algorithms/PROGRAMMERS/Lv2_%EA%B2%8C%EC%9E%84%20%EB%A7%B5%20%EC%B5%9C%EB%8B%A8%EA%B1%B0%EB%A6%AC.ipynb#X40sZmlsZQ%3D%3D?line=9'>10</a>\u001b[0m \u001b[39mwhile\u001b[39;00m q:\n\u001b[0;32m---> <a href='vscode-notebook-cell:/Users/hsh/Desktop/algorithms/Algorithms/PROGRAMMERS/Lv2_%EA%B2%8C%EC%9E%84%20%EB%A7%B5%20%EC%B5%9C%EB%8B%A8%EA%B1%B0%EB%A6%AC.ipynb#X40sZmlsZQ%3D%3D?line=10'>11</a>\u001b[0m     x, y \u001b[39m=\u001b[39m q\u001b[39m.\u001b[39mpopleft()\n\u001b[1;32m     <a href='vscode-notebook-cell:/Users/hsh/Desktop/algorithms/Algorithms/PROGRAMMERS/Lv2_%EA%B2%8C%EC%9E%84%20%EB%A7%B5%20%EC%B5%9C%EB%8B%A8%EA%B1%B0%EB%A6%AC.ipynb#X40sZmlsZQ%3D%3D?line=11'>12</a>\u001b[0m     \u001b[39mfor\u001b[39;00m i \u001b[39min\u001b[39;00m \u001b[39mrange\u001b[39m(\u001b[39m4\u001b[39m):\n\u001b[1;32m     <a href='vscode-notebook-cell:/Users/hsh/Desktop/algorithms/Algorithms/PROGRAMMERS/Lv2_%EA%B2%8C%EC%9E%84%20%EB%A7%B5%20%EC%B5%9C%EB%8B%A8%EA%B1%B0%EB%A6%AC.ipynb#X40sZmlsZQ%3D%3D?line=12'>13</a>\u001b[0m         nx \u001b[39m=\u001b[39m x \u001b[39m+\u001b[39m dx[i]\n",
      "\u001b[0;31mTypeError\u001b[0m: cannot unpack non-iterable int object"
     ]
    }
   ],
   "source": [
    "maps = [[1,0,1,1,1],[1,0,1,0,1],[1,0,1,1,1],[1,1,1,0,1],[0,0,0,0,1]]\n",
    "solution(maps)"
   ]
  },
  {
   "attachments": {},
   "cell_type": "markdown",
   "metadata": {},
   "source": [
    "-> TypeError: cannot unpack non-iterable int object"
   ]
  },
  {
   "attachments": {},
   "cell_type": "markdown",
   "metadata": {},
   "source": [
    "-> deque([1, 1])로 작성해서 에러 남"
   ]
  },
  {
   "attachments": {},
   "cell_type": "markdown",
   "metadata": {},
   "source": [
    "### 통과)"
   ]
  },
  {
   "cell_type": "code",
   "execution_count": 55,
   "metadata": {},
   "outputs": [],
   "source": [
    "from collections import deque\n",
    "def solution(maps):\n",
    "    n, m = len(maps), len(maps[0])\n",
    "    # 캐릭터가 이동할 수 있는 범위\n",
    "    dx = [-1, 1, 0, 0]\n",
    "    dy = [0, 0, -1, 1]\n",
    "\n",
    "    q = deque([(0, 0)])\n",
    "\n",
    "    while q:\n",
    "        x, y = q.popleft()\n",
    "        for i in range(4):\n",
    "            nx = x + dx[i]\n",
    "            ny = y + dy[i]\n",
    "            # 이동할 수 있는 경우 탐색 진행\n",
    "            if 0 <= nx < n and 0 <= ny < m: # nx, ny가 게임 맵을 벗어나지 않고\n",
    "                if maps[nx][ny] == 1: # 위치의 값이 1인 경우\n",
    "                    maps[nx][ny] = maps[x][y] + 1 # 상대 팀 진영에 도착하는 방법의 수 + 1\n",
    "                    q.append((nx, ny))\n",
    "\n",
    "    return maps[n-1][m-1] if maps[n-1][m-1] > 1 else -1"
   ]
  },
  {
   "attachments": {},
   "cell_type": "markdown",
   "metadata": {},
   "source": [
    "-> deque([(0, 0)])로 작성 => 괄호 추가"
   ]
  },
  {
   "cell_type": "code",
   "execution_count": 56,
   "metadata": {},
   "outputs": [
    {
     "data": {
      "text/plain": [
       "11"
      ]
     },
     "execution_count": 56,
     "metadata": {},
     "output_type": "execute_result"
    }
   ],
   "source": [
    "maps = [[1,0,1,1,1],[1,0,1,0,1],[1,0,1,1,1],[1,1,1,0,1],[0,0,0,0,1]]\n",
    "solution(maps)"
   ]
  },
  {
   "cell_type": "code",
   "execution_count": 57,
   "metadata": {},
   "outputs": [
    {
     "data": {
      "text/plain": [
       "-1"
      ]
     },
     "execution_count": 57,
     "metadata": {},
     "output_type": "execute_result"
    }
   ],
   "source": [
    "maps = [[1,0,1,1,1],[1,0,1,0,1],[1,0,1,1,1],[1,1,1,0,0],[0,0,0,0,1]]\n",
    "solution(maps)"
   ]
  },
  {
   "attachments": {},
   "cell_type": "markdown",
   "metadata": {},
   "source": [
    "- deque([(1, 1)]), return maps[n][m] if maps[n][m] > 1 else -1 로 하면\n",
    "    - -> IndexError: list index out of range 발생"
   ]
  },
  {
   "attachments": {},
   "cell_type": "markdown",
   "metadata": {},
   "source": [
    "- q.append((nx, ny))\n",
    "    - [(nx, ny)]로 하면 에러남"
   ]
  }
 ],
 "metadata": {
  "kernelspec": {
   "display_name": "cp2",
   "language": "python",
   "name": "python3"
  },
  "language_info": {
   "codemirror_mode": {
    "name": "ipython",
    "version": 3
   },
   "file_extension": ".py",
   "mimetype": "text/x-python",
   "name": "python",
   "nbconvert_exporter": "python",
   "pygments_lexer": "ipython3",
   "version": "3.9.12"
  },
  "orig_nbformat": 4,
  "vscode": {
   "interpreter": {
    "hash": "5ca59c31ddc1bb1d3e926feef50b5ca0d1eacb2093eee1a1a79c0269dbb49758"
   }
  }
 },
 "nbformat": 4,
 "nbformat_minor": 2
}

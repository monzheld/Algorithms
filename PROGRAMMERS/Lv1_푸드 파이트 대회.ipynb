{
 "cells": [
  {
   "attachments": {},
   "cell_type": "markdown",
   "metadata": {},
   "source": [
    "[문제](https://school.programmers.co.kr/learn/courses/30/lessons/134240)"
   ]
  },
  {
   "attachments": {},
   "cell_type": "markdown",
   "metadata": {},
   "source": [
    "- 수웅이는 매달 주어진 음식을 빨리 먹는 푸드 파이트 대회를 개최\n",
    "- 이 대회에서 선수들은 1대 1로 대결하며, 매 대결마다 음식의 종류와 양이 바뀜\n",
    "- 대결은 준비된 음식들을 일렬로 배치한 뒤, 한 선수는 제일 왼쪽에 있는 음식부터 오른쪽으로, 다른 선수는 제일 오른쪽에 있는 음식부터 왼쪽으로 순서대로 먹는 방식으로 진행\n",
    "- 중앙에는 물을 배치하고, 물을 먼저 먹는 선수가 승리\n",
    "- 이때, 대회의 공정성을 위해 **두 선수가 먹는 음식의 종류와 양이 같아야 하며, 음식을 먹는 순서도 같아야** 함\n",
    "- 이번 대회부터는 칼로리가 낮은 음식을 먼저 먹을 수 있게 배치하여 선수들이 음식을 더 잘 먹을 수 있게 하려고 함\n",
    "- 이번 대회를 위해 수웅이는 음식을 주문했는데, 대회의 조건을 고려하지 않고 음식을 주문하여 몇 개의 음식은 대회에 사용하지 못하게 되었음\n",
    "- 예를 들어, 3가지의 음식이 준비되어 있으며, 칼로리가 적은 순서대로 1번 음식을 3개, 2번 음식을 4개, 3번 음식을 6개 준비했으며, 물을 편의상 0번 음식이라고 칭한다면, \n",
    "    - 두 선수는 1번 음식 1개, 2번 음식 2개, 3번 음식 3개씩을 먹게 되므로 음식의 배치는 \"1223330333221\"\n",
    "    - 1번 음식 1개는 대회에 사용하지 못함\n",
    "- 수웅이가 준비한 음식의 양을 칼로리가 적은 순서대로 나타내는 정수 배열 food가 주어졌을 때, 대회를 위한 **음식의 배치를 나타내는 문자열**을 return"
   ]
  },
  {
   "attachments": {},
   "cell_type": "markdown",
   "metadata": {},
   "source": [
    "**제한사항**\n",
    "\n",
    "- 2 ≤ food의 길이 ≤ 9\n",
    "- 1 ≤ food의 각 원소 ≤ 1,000\n",
    "- food에는 칼로리가 적은 순서대로 음식의 양이 담겨 있음\n",
    "- food[i]는 i번 음식의 수\n",
    "- food[0]은 수웅이가 준비한 물의 양이며, 항상 1\n",
    "- 정답의 길이가 3 이상인 경우만 입력으로 주어짐"
   ]
  },
  {
   "cell_type": "code",
   "execution_count": null,
   "metadata": {},
   "outputs": [],
   "source": [
    "\"\"\"\n",
    "입출력 예시)\n",
    "\n",
    "food = [1, 3, 4, 6] -> \"1223330333221\"\n",
    "food = [1, 7, 1, 2] -> \"111303111\"\n",
    "\"\"\""
   ]
  },
  {
   "attachments": {},
   "cell_type": "markdown",
   "metadata": {},
   "source": [
    "## 2023/04/10"
   ]
  },
  {
   "cell_type": "code",
   "execution_count": null,
   "metadata": {},
   "outputs": [],
   "source": [
    "## 의사코드 ##\n",
    "\n",
    "# food[0]은 물 => 0 \n",
    "# food[i] => i번 음식의 수 \n",
    "\n",
    "# 1) 먼저, <왼쪽 -> 오른쪽> 순서로 먹는 선수의 음식 배치 구하기\n",
    "# 2) 음식 배치에 물인 '0' 추가 \n",
    "# 3) 왼쪽 -> 오른쪽 순서인 선수의 음식 배치를 뒤집어서 <오른쪽 -> 왼쪽> 순서로 먹는 선수의 음식 배치 구하기\n",
    "\n",
    "# 음식 배치 구하기 \n",
    "# i번 음식을 i번 음식의 수를 2로 나눈 몫만큼 곱하기 \n",
    "# str(i) * (food[i] // 2)"
   ]
  },
  {
   "attachments": {},
   "cell_type": "markdown",
   "metadata": {},
   "source": [
    "### 통과)"
   ]
  },
  {
   "cell_type": "code",
   "execution_count": 11,
   "metadata": {},
   "outputs": [],
   "source": [
    "def solution(food):\n",
    "    answer = ''\n",
    "    for i in range(1, len(food)):\n",
    "        answer += str(i) * (food[i] // 2)\n",
    "    return answer + '0' + answer[::-1]"
   ]
  },
  {
   "cell_type": "code",
   "execution_count": 12,
   "metadata": {},
   "outputs": [
    {
     "data": {
      "text/plain": [
       "'1223330333221'"
      ]
     },
     "execution_count": 12,
     "metadata": {},
     "output_type": "execute_result"
    }
   ],
   "source": [
    "food = [1, 3, 4, 6]\n",
    "solution(food)"
   ]
  },
  {
   "cell_type": "code",
   "execution_count": 13,
   "metadata": {},
   "outputs": [
    {
     "data": {
      "text/plain": [
       "'111303111'"
      ]
     },
     "execution_count": 13,
     "metadata": {},
     "output_type": "execute_result"
    }
   ],
   "source": [
    "food = [1, 7, 1, 2]\n",
    "solution(food)"
   ]
  }
 ],
 "metadata": {
  "kernelspec": {
   "display_name": "base",
   "language": "python",
   "name": "python3"
  },
  "language_info": {
   "codemirror_mode": {
    "name": "ipython",
    "version": 3
   },
   "file_extension": ".py",
   "mimetype": "text/x-python",
   "name": "python",
   "nbconvert_exporter": "python",
   "pygments_lexer": "ipython3",
   "version": "3.9.7"
  },
  "orig_nbformat": 4
 },
 "nbformat": 4,
 "nbformat_minor": 2
}

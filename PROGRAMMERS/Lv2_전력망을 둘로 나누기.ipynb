{
 "cells": [
  {
   "attachments": {},
   "cell_type": "markdown",
   "metadata": {},
   "source": [
    "[문제](https://school.programmers.co.kr/learn/courses/30/lessons/86971)"
   ]
  },
  {
   "attachments": {},
   "cell_type": "markdown",
   "metadata": {},
   "source": [
    "- n개의 송전탑이 전선을 통해 하나의 트리 형태로 연결되어 있음\n",
    "- 이 전선들 중 하나를 끊어서 현재의 전력망 네트워크를 2개로 분할하려고 함\n",
    "- 이때, **두 전력망이 갖게 되는 송전탑의 개수를 최대한 비슷하게 맞추고자** 함\n",
    "- n: 송전탑의 개수\n",
    "- wires: 전선 정보\n",
    "- 전선들 중 하나를 끊어서 송전탑 개수가 가능한 비슷하도록 두 전력망으로 나누었을 때, **두 전력망이 가지고 있는 송전탑 개수의 차이(절대값)**를 return"
   ]
  },
  {
   "attachments": {},
   "cell_type": "markdown",
   "metadata": {},
   "source": [
    "**제한사항**\n",
    "\n",
    "- n은 2 이상 100 이하인 자연수\n",
    "- wires는 길이가 n-1인 정수형 2차원 배열\n",
    "    - wires의 각 원소는 [v1, v2] 2개의 자연수로 이루어져 있으며, 이는 전력망의 v1번 송전탑과 v2번 송전탑이 전선으로 연결되어 있다는 것을 의미\n",
    "    - 1 ≤ **v1 < v2** ≤ n \n",
    "    - 전력망 네트워크가 하나의 트리 형태가 아닌 경우는 입력으로 주어지지 않음"
   ]
  },
  {
   "cell_type": "code",
   "execution_count": null,
   "metadata": {},
   "outputs": [],
   "source": [
    "\"\"\"\n",
    "입출력 예시)\n",
    "\n",
    "n = 9, wires = [[1,3],[2,3],[3,4],[4,5],[4,6],[4,7],[7,8],[7,9]] -> 3\n",
    "n = 4, wires = [[1,2],[2,3],[3,4]] -> 0\n",
    "n = 7, wires = [[1,2],[2,7],[3,7],[3,4],[4,5],[6,7]] -> 1\n",
    "\"\"\""
   ]
  },
  {
   "cell_type": "code",
   "execution_count": null,
   "metadata": {},
   "outputs": [],
   "source": [
    "# n = 9, wires = [[1,3],[2,3],[3,4],[4,5],[4,6],[4,7],[7,8],[7,9]] -> 3"
   ]
  },
  {
   "attachments": {},
   "cell_type": "markdown",
   "metadata": {},
   "source": [
    "<img width=\"427\" alt=\"스크린샷 2023-01-11 21 36 13\" src=\"https://user-images.githubusercontent.com/93971420/211808069-4162e4c0-d139-4047-8722-4b2506e7cf84.png\">"
   ]
  },
  {
   "cell_type": "code",
   "execution_count": null,
   "metadata": {},
   "outputs": [],
   "source": [
    "# -> 4번과 7번을 연결하는 전선을 끊으면 두 전력망은 각 6개와 3개의 송전탑을 가지며, 이보다 더 비슷한 개수로 전력망을 나눌 수 없음\n",
    "# 3번과 4번을 연결하는 전선을 끊어도 최선의 정답 도출 가능"
   ]
  },
  {
   "cell_type": "code",
   "execution_count": null,
   "metadata": {},
   "outputs": [],
   "source": [
    "# n = 4, wires = [[1,2],[2,3],[3,4]] -> 0"
   ]
  },
  {
   "attachments": {},
   "cell_type": "markdown",
   "metadata": {},
   "source": [
    "<img width=\"427\" alt=\"스크린샷 2023-01-11 21 36 27\" src=\"https://user-images.githubusercontent.com/93971420/211808119-6297c0d5-6021-4515-af99-858d432fd697.png\">"
   ]
  },
  {
   "cell_type": "code",
   "execution_count": null,
   "metadata": {},
   "outputs": [],
   "source": [
    "# -> 2번과 3번을 연결하는 전선을 끊으면 두 전력망이 모두 2개의 송전탑을 가지게 되며, 이 방법이 최선"
   ]
  },
  {
   "cell_type": "code",
   "execution_count": null,
   "metadata": {},
   "outputs": [],
   "source": [
    "# n = 7, wires = [[1,2],[2,7],[3,7],[3,4],[4,5],[6,7]] -> 1"
   ]
  },
  {
   "attachments": {},
   "cell_type": "markdown",
   "metadata": {},
   "source": [
    "<img width=\"427\" alt=\"스크린샷 2023-01-11 21 36 40\" src=\"https://user-images.githubusercontent.com/93971420/211808192-eda57c02-eb52-4309-bce3-a158d3c9476b.png\">"
   ]
  },
  {
   "cell_type": "code",
   "execution_count": null,
   "metadata": {},
   "outputs": [],
   "source": [
    "# -> 3번과 7번을 연결하는 전선을 끊으면 두 전력망이 각각 4개와 3개의 송전탑을 가지게 되며, 이 방법이 최선"
   ]
  },
  {
   "attachments": {},
   "cell_type": "markdown",
   "metadata": {},
   "source": [
    "## 2023/01/11"
   ]
  },
  {
   "cell_type": "code",
   "execution_count": null,
   "metadata": {},
   "outputs": [],
   "source": [
    "## 의사코드 ##\n",
    "\n",
    "\n",
    "# 트리 -> BFS\n",
    "# -> deque로 BFS 구현\n",
    "\n",
    "# graph -> defaultdict(list)\n",
    "\n",
    "\n",
    "# 두 전력망이 가지고 있는 송전탑 개수의 차이(절대값)를 return\n",
    "# -> abs()"
   ]
  },
  {
   "attachments": {},
   "cell_type": "markdown",
   "metadata": {},
   "source": [
    "### 통과)"
   ]
  },
  {
   "cell_type": "code",
   "execution_count": 10,
   "metadata": {},
   "outputs": [],
   "source": [
    "from collections import deque, defaultdict\n",
    "\n",
    "def bfs(graph, start, visited):\n",
    "    # 시작 노드를 큐에 삽입\n",
    "    q = deque([start])\n",
    "    # 시작 노드 방문처리 \n",
    "    visited[start] = True\n",
    "    # 시작 노드와 연결되어 있는 노드의 수\n",
    "    connected_n = 1\n",
    "\n",
    "    while q:\n",
    "        # 현재 노드 = 큐의 맨 앞 원소\n",
    "        v = q.popleft()\n",
    "        # 현재 노드(v)와 연결되어 있는 노드 중 방문하지 않은 노드 탐색\n",
    "        for i in graph[v]:\n",
    "            if not visited[i]:\n",
    "                q.append(i) # 큐에 i 삽입\n",
    "                visited[i] = True # i 방문처리\n",
    "                # 새로운 노드를 탐색했으니 연결되어 있는 노드 수 + 1\n",
    "                connected_n += 1 \n",
    "    return connected_n # 시작 노드와 연결되어 있는 노드의 수를 반환\n",
    "\n",
    "\n",
    "def solution(n, wires):\n",
    "    #answer = -1\n",
    "    answer = n\n",
    "    wires_q = deque(wires) # wires를 deque로 변환\n",
    "    for _ in range(len(wires)):\n",
    "        # wires_q의 맨 앞의 전선 끊기\n",
    "        broken_wire = wires_q.popleft()\n",
    "        # visited 초기화 \n",
    "        visited = [0] * (n+1)\n",
    "        # 두 전력망이 가지고 있는 송전탑의 개수\n",
    "        tower_n = []\n",
    "        graph = defaultdict(list)\n",
    "        # graph에 값 삽입\n",
    "        for v1, v2 in wires_q:\n",
    "            graph[v1].append(v2)\n",
    "            graph[v2].append(v1)\n",
    "        # graph 탐색\n",
    "        for i in range(1, n+1):\n",
    "            # i가 방문하지 않은 노드이면 해당 노드를 시작 노드로 graph 탐색 \n",
    "            if not visited[i]:\n",
    "                tower_n.append(bfs(graph, i, visited))\n",
    "        # 두 전력망의 송전탑 개수 차이보다 answer가 더 크면 answer 값을 갱신 \n",
    "        answer = min(abs(tower_n[0] - tower_n[1]), answer)\n",
    "        # 끊었던 전선을 다시 wires_q에 삽입해서 붙이기\n",
    "        wires_q.append(broken_wire)\n",
    "        \n",
    "    return answer"
   ]
  },
  {
   "cell_type": "code",
   "execution_count": 11,
   "metadata": {},
   "outputs": [
    {
     "data": {
      "text/plain": [
       "3"
      ]
     },
     "execution_count": 11,
     "metadata": {},
     "output_type": "execute_result"
    }
   ],
   "source": [
    "n = 9\n",
    "wires = [[1,3],[2,3],[3,4],[4,5],[4,6],[4,7],[7,8],[7,9]]\n",
    "solution(n, wires)"
   ]
  },
  {
   "cell_type": "code",
   "execution_count": 12,
   "metadata": {},
   "outputs": [
    {
     "data": {
      "text/plain": [
       "0"
      ]
     },
     "execution_count": 12,
     "metadata": {},
     "output_type": "execute_result"
    }
   ],
   "source": [
    "n = 4\n",
    "wires = [[1,2],[2,3],[3,4]]\n",
    "solution(n, wires)"
   ]
  },
  {
   "cell_type": "code",
   "execution_count": 13,
   "metadata": {},
   "outputs": [
    {
     "data": {
      "text/plain": [
       "1"
      ]
     },
     "execution_count": 13,
     "metadata": {},
     "output_type": "execute_result"
    }
   ],
   "source": [
    "n = 7\n",
    "wires = [[1,2],[2,7],[3,7],[3,4],[4,5],[6,7]]\n",
    "solution(n, wires)"
   ]
  },
  {
   "cell_type": "code",
   "execution_count": null,
   "metadata": {},
   "outputs": [],
   "source": [
    "# 과정 확인"
   ]
  },
  {
   "cell_type": "code",
   "execution_count": 18,
   "metadata": {},
   "outputs": [],
   "source": [
    "from collections import deque, defaultdict\n",
    "\n",
    "def bfs(graph, start, visited):\n",
    "    # 시작 노드를 큐에 삽입\n",
    "    q = deque([start])\n",
    "    # 시작 노드 방문처리 \n",
    "    visited[start] = True\n",
    "    # 시작 노드와 연결되어 있는 노드의 수\n",
    "    connected_n = 1\n",
    "\n",
    "    while q:\n",
    "        # 현재 노드 = 큐의 맨 앞 원소\n",
    "        v = q.popleft()\n",
    "        # 현재 노드(v)와 연결되어 있는 노드 중 방문하지 않은 노드 탐색\n",
    "        for i in graph[v]:\n",
    "            if not visited[i]:\n",
    "                q.append(i) # 큐에 i 삽입\n",
    "                visited[i] = True # i 방문처리\n",
    "                # 새로운 노드를 탐색했으니 연결되어 있는 노드 수 + 1\n",
    "                connected_n += 1 \n",
    "    \n",
    "    print('bfs의 graph:', graph)\n",
    "    print('bfs의 start:', start)\n",
    "    print('bfs의 visited:', visited)\n",
    "    print('connected_n:', connected_n, '\\n')\n",
    "    return connected_n # 시작 노드와 연결되어 있는 노드의 수를 반환\n",
    "\n",
    "\n",
    "def solution(n, wires):\n",
    "    #answer = -1\n",
    "    answer = n\n",
    "    wires_q = deque(wires) # wires를 deque로 변환\n",
    "    print('원래의 wires_q:', wires_q)\n",
    "    for _ in range(len(wires)):\n",
    "        # wires_q의 맨 앞의 전선 끊기\n",
    "        broken_wire = wires_q.popleft()\n",
    "        print('broken_wire:', broken_wire)\n",
    "        # visited 초기화 \n",
    "        visited = [0] * (n+1)\n",
    "        # 두 전력망이 가지고 있는 송전탑의 개수\n",
    "        tower_n = []\n",
    "        graph = defaultdict(list)\n",
    "        # graph에 값 삽입\n",
    "        for v1, v2 in wires_q:\n",
    "            graph[v1].append(v2)\n",
    "            graph[v2].append(v1)\n",
    "        print('graph:', graph, '\\n')\n",
    "        # graph 탐색\n",
    "        for i in range(1, n+1):\n",
    "            # i가 방문하지 않은 노드이면 해당 노드를 시작 노드로 graph 탐색 \n",
    "            if not visited[i]:\n",
    "                tower_n.append(bfs(graph, i, visited))\n",
    "        print('tower_n:', tower_n)\n",
    "        # 두 전력망의 송전탑 개수 차이보다 answer가 더 크면 answer 값을 갱신 \n",
    "        answer = min(abs(tower_n[0] - tower_n[1]), answer)\n",
    "        print('갱신된 answer:', answer)\n",
    "        # 끊었던 전선을 다시 wires_q에 삽입해서 붙이기\n",
    "        wires_q.append(broken_wire)\n",
    "        print('끊었던 전선을 다시 붙인 wires_q:', wires_q, '\\n')\n",
    "        print('-'*80)\n",
    "        \n",
    "    return answer"
   ]
  },
  {
   "cell_type": "code",
   "execution_count": 20,
   "metadata": {},
   "outputs": [
    {
     "name": "stdout",
     "output_type": "stream",
     "text": [
      "원래의 wires_q: deque([[1, 2], [2, 7], [3, 7], [3, 4], [4, 5], [6, 7]])\n",
      "broken_wire: [1, 2]\n",
      "graph: defaultdict(<class 'list'>, {2: [7], 7: [2, 3, 6], 3: [7, 4], 4: [3, 5], 5: [4], 6: [7]}) \n",
      "\n",
      "bfs의 graph: defaultdict(<class 'list'>, {2: [7], 7: [2, 3, 6], 3: [7, 4], 4: [3, 5], 5: [4], 6: [7], 1: []})\n",
      "bfs의 start: 1\n",
      "bfs의 visited: [0, True, 0, 0, 0, 0, 0, 0]\n",
      "connected_n: 1 \n",
      "\n",
      "bfs의 graph: defaultdict(<class 'list'>, {2: [7], 7: [2, 3, 6], 3: [7, 4], 4: [3, 5], 5: [4], 6: [7], 1: []})\n",
      "bfs의 start: 2\n",
      "bfs의 visited: [0, True, True, True, True, True, True, True]\n",
      "connected_n: 6 \n",
      "\n",
      "tower_n: [1, 6]\n",
      "갱신된 answer: 5\n",
      "끊었던 전선을 다시 붙인 wires_q: deque([[2, 7], [3, 7], [3, 4], [4, 5], [6, 7], [1, 2]]) \n",
      "\n",
      "--------------------------------------------------------------------------------\n",
      "broken_wire: [2, 7]\n",
      "graph: defaultdict(<class 'list'>, {3: [7, 4], 7: [3, 6], 4: [3, 5], 5: [4], 6: [7], 1: [2], 2: [1]}) \n",
      "\n",
      "bfs의 graph: defaultdict(<class 'list'>, {3: [7, 4], 7: [3, 6], 4: [3, 5], 5: [4], 6: [7], 1: [2], 2: [1]})\n",
      "bfs의 start: 1\n",
      "bfs의 visited: [0, True, True, 0, 0, 0, 0, 0]\n",
      "connected_n: 2 \n",
      "\n",
      "bfs의 graph: defaultdict(<class 'list'>, {3: [7, 4], 7: [3, 6], 4: [3, 5], 5: [4], 6: [7], 1: [2], 2: [1]})\n",
      "bfs의 start: 3\n",
      "bfs의 visited: [0, True, True, True, True, True, True, True]\n",
      "connected_n: 5 \n",
      "\n",
      "tower_n: [2, 5]\n",
      "갱신된 answer: 3\n",
      "끊었던 전선을 다시 붙인 wires_q: deque([[3, 7], [3, 4], [4, 5], [6, 7], [1, 2], [2, 7]]) \n",
      "\n",
      "--------------------------------------------------------------------------------\n",
      "broken_wire: [3, 7]\n",
      "graph: defaultdict(<class 'list'>, {3: [4], 4: [3, 5], 5: [4], 6: [7], 7: [6, 2], 1: [2], 2: [1, 7]}) \n",
      "\n",
      "bfs의 graph: defaultdict(<class 'list'>, {3: [4], 4: [3, 5], 5: [4], 6: [7], 7: [6, 2], 1: [2], 2: [1, 7]})\n",
      "bfs의 start: 1\n",
      "bfs의 visited: [0, True, True, 0, 0, 0, True, True]\n",
      "connected_n: 4 \n",
      "\n",
      "bfs의 graph: defaultdict(<class 'list'>, {3: [4], 4: [3, 5], 5: [4], 6: [7], 7: [6, 2], 1: [2], 2: [1, 7]})\n",
      "bfs의 start: 3\n",
      "bfs의 visited: [0, True, True, True, True, True, True, True]\n",
      "connected_n: 3 \n",
      "\n",
      "tower_n: [4, 3]\n",
      "갱신된 answer: 1\n",
      "끊었던 전선을 다시 붙인 wires_q: deque([[3, 4], [4, 5], [6, 7], [1, 2], [2, 7], [3, 7]]) \n",
      "\n",
      "--------------------------------------------------------------------------------\n",
      "broken_wire: [3, 4]\n",
      "graph: defaultdict(<class 'list'>, {4: [5], 5: [4], 6: [7], 7: [6, 2, 3], 1: [2], 2: [1, 7], 3: [7]}) \n",
      "\n",
      "bfs의 graph: defaultdict(<class 'list'>, {4: [5], 5: [4], 6: [7], 7: [6, 2, 3], 1: [2], 2: [1, 7], 3: [7]})\n",
      "bfs의 start: 1\n",
      "bfs의 visited: [0, True, True, True, 0, 0, True, True]\n",
      "connected_n: 5 \n",
      "\n",
      "bfs의 graph: defaultdict(<class 'list'>, {4: [5], 5: [4], 6: [7], 7: [6, 2, 3], 1: [2], 2: [1, 7], 3: [7]})\n",
      "bfs의 start: 4\n",
      "bfs의 visited: [0, True, True, True, True, True, True, True]\n",
      "connected_n: 2 \n",
      "\n",
      "tower_n: [5, 2]\n",
      "갱신된 answer: 1\n",
      "끊었던 전선을 다시 붙인 wires_q: deque([[4, 5], [6, 7], [1, 2], [2, 7], [3, 7], [3, 4]]) \n",
      "\n",
      "--------------------------------------------------------------------------------\n",
      "broken_wire: [4, 5]\n",
      "graph: defaultdict(<class 'list'>, {6: [7], 7: [6, 2, 3], 1: [2], 2: [1, 7], 3: [7, 4], 4: [3]}) \n",
      "\n",
      "bfs의 graph: defaultdict(<class 'list'>, {6: [7], 7: [6, 2, 3], 1: [2], 2: [1, 7], 3: [7, 4], 4: [3]})\n",
      "bfs의 start: 1\n",
      "bfs의 visited: [0, True, True, True, True, 0, True, True]\n",
      "connected_n: 6 \n",
      "\n",
      "bfs의 graph: defaultdict(<class 'list'>, {6: [7], 7: [6, 2, 3], 1: [2], 2: [1, 7], 3: [7, 4], 4: [3], 5: []})\n",
      "bfs의 start: 5\n",
      "bfs의 visited: [0, True, True, True, True, True, True, True]\n",
      "connected_n: 1 \n",
      "\n",
      "tower_n: [6, 1]\n",
      "갱신된 answer: 1\n",
      "끊었던 전선을 다시 붙인 wires_q: deque([[6, 7], [1, 2], [2, 7], [3, 7], [3, 4], [4, 5]]) \n",
      "\n",
      "--------------------------------------------------------------------------------\n",
      "broken_wire: [6, 7]\n",
      "graph: defaultdict(<class 'list'>, {1: [2], 2: [1, 7], 7: [2, 3], 3: [7, 4], 4: [3, 5], 5: [4]}) \n",
      "\n",
      "bfs의 graph: defaultdict(<class 'list'>, {1: [2], 2: [1, 7], 7: [2, 3], 3: [7, 4], 4: [3, 5], 5: [4]})\n",
      "bfs의 start: 1\n",
      "bfs의 visited: [0, True, True, True, True, True, 0, True]\n",
      "connected_n: 6 \n",
      "\n",
      "bfs의 graph: defaultdict(<class 'list'>, {1: [2], 2: [1, 7], 7: [2, 3], 3: [7, 4], 4: [3, 5], 5: [4], 6: []})\n",
      "bfs의 start: 6\n",
      "bfs의 visited: [0, True, True, True, True, True, True, True]\n",
      "connected_n: 1 \n",
      "\n",
      "tower_n: [6, 1]\n",
      "갱신된 answer: 1\n",
      "끊었던 전선을 다시 붙인 wires_q: deque([[1, 2], [2, 7], [3, 7], [3, 4], [4, 5], [6, 7]]) \n",
      "\n",
      "--------------------------------------------------------------------------------\n"
     ]
    },
    {
     "data": {
      "text/plain": [
       "1"
      ]
     },
     "execution_count": 20,
     "metadata": {},
     "output_type": "execute_result"
    }
   ],
   "source": [
    "n = 7\n",
    "wires = [[1,2],[2,7],[3,7],[3,4],[4,5],[6,7]]\n",
    "solution(n, wires)"
   ]
  }
 ],
 "metadata": {
  "kernelspec": {
   "display_name": "base",
   "language": "python",
   "name": "python3"
  },
  "language_info": {
   "codemirror_mode": {
    "name": "ipython",
    "version": 3
   },
   "file_extension": ".py",
   "mimetype": "text/x-python",
   "name": "python",
   "nbconvert_exporter": "python",
   "pygments_lexer": "ipython3",
   "version": "3.9.7"
  },
  "orig_nbformat": 4,
  "vscode": {
   "interpreter": {
    "hash": "023ab38ef701cca529efce9465407c28b5ba779ced3f1a89865b89edb313b240"
   }
  }
 },
 "nbformat": 4,
 "nbformat_minor": 2
}

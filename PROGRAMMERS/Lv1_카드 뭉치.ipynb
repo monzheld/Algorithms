{
 "cells": [
  {
   "attachments": {},
   "cell_type": "markdown",
   "metadata": {},
   "source": [
    "[문제](https://school.programmers.co.kr/learn/courses/30/lessons/159994)"
   ]
  },
  {
   "attachments": {},
   "cell_type": "markdown",
   "metadata": {},
   "source": [
    "- 코니는 다음과 같은 규칙으로 카드에 적힌 단어들을 사용해 원하는 순서의 단어 배열을 만들 수 있는지 알고 싶음\n",
    "    - 원하는 카드 뭉치에서 카드를 순서대로 한 장씩 사용\n",
    "    - 한 번 사용한 카드는 다시 사용할 수 없음\n",
    "    - 카드를 사용하지 않고 다음 카드로 넘어갈 수 없음\n",
    "    - 기존에 주어진 카드 뭉치의 단어 순서는 바꿀 수 없음\n",
    "- 예를 들어 첫 번째 카드 뭉치에 순서대로 [\"i\", \"drink\", \"water\"], 두 번째 카드 뭉치에 순서대로 [\"want\", \"to\"]가 적혀있을 때 [\"i\", \"want\", \"to\", \"drink\", \"water\"] 순서의 단어 배열을 만들려고 한다면\n",
    "    - 첫 번째 카드 뭉치에서 \"i\"를 사용한 후\n",
    "    - 두 번째 카드 뭉치에서 \"want\"와 \"to\"를 사용하고\n",
    "    - 첫 번째 카드뭉치에 \"drink\"와 \"water\"를 차례대로 사용하면 원하는 순서의 단어 배열을 만들 수 있음\n",
    "- 문자열로 이루어진 배열 cards1, cards2와 원하는 단어 배열 goal이 매개변수로 주어질 때, cards1과 cards2에 적힌 단어들로 goal를 만들 있다면 \"Yes\"를, 만들 수 없다면 \"No\"를 return"
   ]
  },
  {
   "attachments": {},
   "cell_type": "markdown",
   "metadata": {},
   "source": [
    "**제한사항**\n",
    "- 1 ≤ cards1의 길이, cards2의 길이 ≤ 10\n",
    "    - 1 ≤ cards1[i]의 길이, cards2[i]의 길이 ≤ 10\n",
    "    - cards1과 cards2에는 서로 다른 단어만 존재\n",
    "- 2 ≤ goal의 길이 ≤ cards1의 길이 + cards2의 길이\n",
    "    - 1 ≤ goal[i]의 길이 ≤ 10\n",
    "    - goal의 원소는 cards1과 cards2의 원소들로만 이루어져 있음\n",
    "- cards1, cards2, goal의 문자열들은 모두 알파벳 소문자로만 이루어져 있음"
   ]
  },
  {
   "cell_type": "code",
   "execution_count": null,
   "metadata": {},
   "outputs": [],
   "source": [
    "\"\"\"\n",
    "입출력 예시)\n",
    "\n",
    "cards1 = [\"i\", \"drink\", \"water\"], cards2 = [\"want\", \"to\"], goal = [\"i\", \"want\", \"to\", \"drink\", \"water\"] -> \"Yes\"\n",
    "cards1 = [\"i\", \"water\", \"drink\"], cards2 = [\"want\", \"to\"], goal = [\"i\", \"want\", \"to\", \"drink\", \"water\"] -> \"No\"\n",
    "\"\"\""
   ]
  },
  {
   "attachments": {},
   "cell_type": "markdown",
   "metadata": {},
   "source": [
    "## 2023/04/09"
   ]
  },
  {
   "cell_type": "code",
   "execution_count": null,
   "metadata": {},
   "outputs": [],
   "source": [
    "## 의사코드 ##\n",
    "\n",
    "# 카드 뭉치에서 순서대로 한 장씩 사용 -> 큐 이용 (선입선출)\n",
    "#  from collections import deque\n",
    "\n",
    "# for w in goal:\n",
    "   # cards1이 비어있지 않고 현재 단어가 cards1의 첫 번째 원소와 같다면 cards1의 첫 번째 원소 삭제\n",
    "#  if cards1 and w == cards1[0]:\n",
    "#     cards1.popleft()\n",
    "   # cards2가 비어있지 않고 현재 단어가 cards2의 첫 번째 원소와 같다면 cards2의 첫 번째 원소 삭제\n",
    "#  elif cards2 and w == cards2[0]:\n",
    "#     cards2.popleft()\n",
    "# else:\n",
    "#   return 'No'"
   ]
  },
  {
   "attachments": {},
   "cell_type": "markdown",
   "metadata": {},
   "source": [
    "### 통과)"
   ]
  },
  {
   "cell_type": "code",
   "execution_count": 43,
   "metadata": {},
   "outputs": [],
   "source": [
    "from collections import deque\n",
    "\n",
    "def solution(cards1, cards2, goal):\n",
    "    cards1 = deque(cards1)\n",
    "    cards2 = deque(cards2)\n",
    "    for w in goal:\n",
    "        if cards1 and w == cards1[0]:\n",
    "            cards1.popleft()\n",
    "        elif cards2 and w == cards2[0]:\n",
    "            cards2.popleft()\n",
    "        else:\n",
    "            return 'NO'\n",
    "    return 'Yes'"
   ]
  },
  {
   "cell_type": "code",
   "execution_count": 44,
   "metadata": {},
   "outputs": [
    {
     "data": {
      "text/plain": [
       "'Yes'"
      ]
     },
     "execution_count": 44,
     "metadata": {},
     "output_type": "execute_result"
    }
   ],
   "source": [
    "cards1 = [\"i\", \"drink\", \"water\"]\n",
    "cards2 = [\"want\", \"to\"]\n",
    "goal = [\"i\", \"want\", \"to\", \"drink\", \"water\"]\n",
    "solution(cards1, cards2, goal)"
   ]
  },
  {
   "cell_type": "code",
   "execution_count": 45,
   "metadata": {},
   "outputs": [
    {
     "data": {
      "text/plain": [
       "'NO'"
      ]
     },
     "execution_count": 45,
     "metadata": {},
     "output_type": "execute_result"
    }
   ],
   "source": [
    "cards1 = [\"i\", \"water\", \"drink\"]\n",
    "cards2 = [\"want\", \"to\"]\n",
    "goal = [\"i\", \"want\", \"to\", \"drink\", \"water\"]\n",
    "solution(cards1, cards2, goal)"
   ]
  },
  {
   "cell_type": "code",
   "execution_count": null,
   "metadata": {},
   "outputs": [],
   "source": [
    "# 과정 확인"
   ]
  },
  {
   "cell_type": "code",
   "execution_count": 40,
   "metadata": {},
   "outputs": [],
   "source": [
    "from collections import deque\n",
    "\n",
    "def solution(cards1, cards2, goal):\n",
    "    cards1 = deque(cards1)\n",
    "    cards2 = deque(cards2)\n",
    "    print('cards1:', cards1)\n",
    "    print('cards2:', cards2, '\\n')\n",
    "    for w in goal:\n",
    "        print('w:', w)\n",
    "        if cards1 and w == cards1[0]:\n",
    "            cards1.popleft()\n",
    "            print('cards1:', cards1, '\\n')\n",
    "        elif cards2 and w == cards2[0]:\n",
    "            cards2.popleft()\n",
    "            print('cards2:', cards2, '\\n')\n",
    "        else:\n",
    "            return 'NO'\n",
    "    return 'Yes'"
   ]
  },
  {
   "cell_type": "code",
   "execution_count": 41,
   "metadata": {},
   "outputs": [
    {
     "name": "stdout",
     "output_type": "stream",
     "text": [
      "cards1: deque(['i', 'drink', 'water'])\n",
      "cards2: deque(['want', 'to']) \n",
      "\n",
      "w: i\n",
      "cards1: deque(['drink', 'water']) \n",
      "\n",
      "w: want\n",
      "cards2: deque(['to']) \n",
      "\n",
      "w: to\n",
      "cards2: deque([]) \n",
      "\n",
      "w: drink\n",
      "cards1: deque(['water']) \n",
      "\n",
      "w: water\n",
      "cards1: deque([]) \n",
      "\n"
     ]
    },
    {
     "data": {
      "text/plain": [
       "'Yes'"
      ]
     },
     "execution_count": 41,
     "metadata": {},
     "output_type": "execute_result"
    }
   ],
   "source": [
    "cards1 = [\"i\", \"drink\", \"water\"]\n",
    "cards2 = [\"want\", \"to\"]\n",
    "goal = [\"i\", \"want\", \"to\", \"drink\", \"water\"]\n",
    "solution(cards1, cards2, goal)"
   ]
  },
  {
   "cell_type": "code",
   "execution_count": 42,
   "metadata": {},
   "outputs": [
    {
     "name": "stdout",
     "output_type": "stream",
     "text": [
      "cards1: deque(['i', 'water', 'drink'])\n",
      "cards2: deque(['want', 'to']) \n",
      "\n",
      "w: i\n",
      "cards1: deque(['water', 'drink']) \n",
      "\n",
      "w: want\n",
      "cards2: deque(['to']) \n",
      "\n",
      "w: to\n",
      "cards2: deque([]) \n",
      "\n",
      "w: drink\n"
     ]
    },
    {
     "data": {
      "text/plain": [
       "'NO'"
      ]
     },
     "execution_count": 42,
     "metadata": {},
     "output_type": "execute_result"
    }
   ],
   "source": [
    "cards1 = [\"i\", \"water\", \"drink\"]\n",
    "cards2 = [\"want\", \"to\"]\n",
    "goal = [\"i\", \"want\", \"to\", \"drink\", \"water\"]\n",
    "solution(cards1, cards2, goal)"
   ]
  }
 ],
 "metadata": {
  "kernelspec": {
   "display_name": "base",
   "language": "python",
   "name": "python3"
  },
  "language_info": {
   "codemirror_mode": {
    "name": "ipython",
    "version": 3
   },
   "file_extension": ".py",
   "mimetype": "text/x-python",
   "name": "python",
   "nbconvert_exporter": "python",
   "pygments_lexer": "ipython3",
   "version": "3.9.7"
  },
  "orig_nbformat": 4
 },
 "nbformat": 4,
 "nbformat_minor": 2
}

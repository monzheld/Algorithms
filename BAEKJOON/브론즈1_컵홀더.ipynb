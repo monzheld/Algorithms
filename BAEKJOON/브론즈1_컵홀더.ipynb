{
 "cells": [
  {
   "attachments": {},
   "cell_type": "markdown",
   "metadata": {},
   "source": [
    "2810번\n",
    "\n",
    "[문제](https://www.acmicpc.net/problem/2810)"
   ]
  },
  {
   "attachments": {},
   "cell_type": "markdown",
   "metadata": {},
   "source": [
    "### 탐욕(Greedy)"
   ]
  },
  {
   "attachments": {},
   "cell_type": "markdown",
   "metadata": {},
   "source": [
    "- 극장의 한 줄에는 자리가 N개가 있음\n",
    "- **서로 인접한 좌석 사이에는 컵홀더가 하나씩** 있고, **양 끝 좌석에는 컵홀더가 하나씩 더** 있음\n",
    "- **커플석 사이에는 컵홀더가 없음**\n",
    "- 극장의 한 줄의 정보가 주어졌을 때, 이 줄에 사람들이 모두 앉았을 때, **컵홀더에 컵을 꽂을 수 있는 최대 사람의 수** 구하기\n",
    "- 모든 사람은 컵을 한 개만 들고 있고, **자신의 좌석의 양 옆에 있는 컵홀더에만 컵을 꽂을 수 있음**\n",
    "- **S는 일반 좌석, L은 커플석**을 의미하며, L은 항상 두개씩 쌍으로 주어짐\n",
    "\n",
    "- 어떤 좌석의 배치가 SLLLLSSLL일때, 컵홀더를 *로 표시하면 아래와 같음\n",
    "    - `*S*LL*LL*S*S*LL*`\n",
    "    - -> 적어도 두 명은 컵홀더를 사용할 수 없음"
   ]
  },
  {
   "attachments": {},
   "cell_type": "markdown",
   "metadata": {},
   "source": [
    "- 입력\n",
    "    - 첫째 줄에 좌석의 수 N이 주어짐 (1 ≤ N ≤ 50) \n",
    "    - 둘째 줄에는 좌석의 정보가 주어짐\n",
    "- 출력\n",
    "    - 컵을 컵홀더에 놓을 수 있는 최대 사람의 수를 출력\n",
    "\n",
    "- 시간 제한: 1초\n",
    "- 메모리 제한: 128 MB"
   ]
  },
  {
   "cell_type": "code",
   "execution_count": null,
   "metadata": {},
   "outputs": [],
   "source": [
    "\"\"\"\n",
    "입출력 예시)\n",
    "\n",
    "(예제 입력 1) \n",
    "3\n",
    "SSS \n",
    "    -> 3\n",
    "\n",
    "(예제 입력 2)\n",
    "4\n",
    "SLLS \n",
    "    -> 4\n",
    "\n",
    "(예제 입력 3)\n",
    "9\n",
    "SLLLLSSLL\n",
    "    -> 7\n",
    "\"\"\""
   ]
  },
  {
   "attachments": {},
   "cell_type": "markdown",
   "metadata": {},
   "source": [
    "## 2023/02/09"
   ]
  },
  {
   "cell_type": "code",
   "execution_count": null,
   "metadata": {},
   "outputs": [],
   "source": [
    "## 의사코드 ##\n",
    "\n",
    "# s.replace('LL', 'L') # 커플석에 앉은 2명 중 한명만 컵홀더 사용 가능   \n",
    "# 컵홀더를 사용할 수 있는 최대 사람의 수 = len(s) + 1 # (1: 맨 끝 좌석의 컵홀더)"
   ]
  },
  {
   "attachments": {},
   "cell_type": "markdown",
   "metadata": {},
   "source": [
    "### 통과)"
   ]
  },
  {
   "cell_type": "code",
   "execution_count": 41,
   "metadata": {},
   "outputs": [
    {
     "name": "stdout",
     "output_type": "stream",
     "text": [
      "7\n"
     ]
    }
   ],
   "source": [
    "n = int(input()) \n",
    "seat = input().replace('LL', 'L') # 커플석에 앉은 2명 중 한 명만 컵홀더 사용 가능 \n",
    "holder = len(seat)+1 # 컵홀더의 개수 (맨 끝 좌석의 컵홀더 한개를 더함)\n",
    "\n",
    "# 컵홀더의 개수가 n보다 큰 경우, n 출력\n",
    "if n < holder:\n",
    "    print(n)\n",
    "else:\n",
    "    print(holder)"
   ]
  },
  {
   "attachments": {},
   "cell_type": "markdown",
   "metadata": {},
   "source": [
    "- ex) 컵홀더의 개수가 n보다 큰 경우\n",
    "    - 예제 입력 1) n = 3, \"SSS\"\n",
    "        - -> 이때, 컵홀더의 개수는 4개이지만 n(사람의 수)는 3명이기 때문에 n이 정답"
   ]
  }
 ],
 "metadata": {
  "kernelspec": {
   "display_name": "cp2",
   "language": "python",
   "name": "python3"
  },
  "language_info": {
   "codemirror_mode": {
    "name": "ipython",
    "version": 3
   },
   "file_extension": ".py",
   "mimetype": "text/x-python",
   "name": "python",
   "nbconvert_exporter": "python",
   "pygments_lexer": "ipython3",
   "version": "3.9.12"
  },
  "orig_nbformat": 4,
  "vscode": {
   "interpreter": {
    "hash": "5ca59c31ddc1bb1d3e926feef50b5ca0d1eacb2093eee1a1a79c0269dbb49758"
   }
  }
 },
 "nbformat": 4,
 "nbformat_minor": 2
}

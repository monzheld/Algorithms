{
 "cells": [
  {
   "attachments": {},
   "cell_type": "markdown",
   "metadata": {},
   "source": [
    "23746번\n",
    "\n",
    "[문제](https://www.acmicpc.net/problem/23746)"
   ]
  },
  {
   "attachments": {},
   "cell_type": "markdown",
   "metadata": {},
   "source": [
    "### 문자열"
   ]
  },
  {
   "attachments": {},
   "cell_type": "markdown",
   "metadata": {},
   "source": [
    "- 특정 소문자 문자열 패턴을 대문자 한 글자로 압축하는 프로그램 SPC(String Pattern Compressor)가 있음\n",
    "- 예를 들어, 아래 이미지과 같은 방법으로 압축하는 경우, “$\\text{aabbaaac}$”는 “$\\text{ABAC}$”로 압축됨\n",
    "- 압축 프로그램과 압축된 문자열이 주어지면, **압축되기 전 문자열의 일부를 출력**하기"
   ]
  },
  {
   "attachments": {},
   "cell_type": "markdown",
   "metadata": {},
   "source": [
    "<img width=\"352\" alt=\"스크린샷 2023-03-18 20 27 10\" src=\"https://user-images.githubusercontent.com/93971420/226102408-90fe418b-0855-479a-af16-9a61ebdf7504.png\">"
   ]
  },
  {
   "attachments": {},
   "cell_type": "markdown",
   "metadata": {},
   "source": [
    "- 입력\n",
    "    - 첫 번째 줄에 압축 방법의 개수 $N$이 주어짐 ($1 \\le N \\le 26$)\n",
    "    - 두 번째 줄부터 $N$개의 줄에 소문자 문자열 패턴과 대응되는 대문자가 공백으로 구분되어 주어짐\n",
    "    - 각 소문자 문자열 패턴의 길이는 $1\\,000$을 넘지 않으며, 같은 대문자는 두 번 이상 주어지지 않음\n",
    "    -  $N+1$번째 줄에 압축된 문자열이 주어짐\n",
    "    - 압축된 문자열 길이는 $1\\,000$을 넘지 않음\n",
    "    - 마지막 줄에 두 정수 $S$와 $E$가 주어짐 ($1 \\le S \\le E \\le $ (압축되기 전 문자열 길이))\n",
    "- 출력\n",
    "    - 압축되기 전 문자열의 $S$번째 문자에서 $E$번째 문자까지 출력\n",
    "\n",
    "- 시간 제한: 1초\n",
    "- 메모리 제한: 1024 MB "
   ]
  },
  {
   "cell_type": "code",
   "execution_count": null,
   "metadata": {},
   "outputs": [],
   "source": [
    "\"\"\"\n",
    "입출력 예시)\n",
    "\n",
    "(예제 입력 1) \n",
    "3\n",
    "aa A\n",
    "bba B\n",
    "c C\n",
    "ABAC\n",
    "4 6\n",
    "        -> baa\n",
    "\n",
    "(예제 입력 2)\n",
    "5\n",
    "abcde A\n",
    "abcde B\n",
    "abcde C\n",
    "abcde D\n",
    "abcde E\n",
    "ABCDE\n",
    "1 25\n",
    "        -> abcdeabcdeabcdeabcdeabcde\n",
    "\n",
    "(예제 입력 3)\n",
    "4\n",
    "e E\n",
    "f F\n",
    "g G\n",
    "h H\n",
    "EEEFEEE\n",
    "4 5\n",
    "        -> fe\n",
    "\"\"\""
   ]
  },
  {
   "cell_type": "code",
   "execution_count": null,
   "metadata": {},
   "outputs": [],
   "source": [
    "# (예제 입력 1) \n",
    "# 압축되기 전 문자열: aabbaaac\n",
    "# => 출력: baa\n",
    "\n",
    "# (예제 입력 2) \n",
    "# 압축되기 전 문자열: abcdeabcdeabcdeabcdeabcde\n",
    "# => 출력: abcdeabcdeabcdeabcdeabcde\n",
    "\n",
    "# (예제 입력 3) \n",
    "# 압축되기 전 문자열: eeefeee\n",
    "# => 출력: fe"
   ]
  },
  {
   "attachments": {},
   "cell_type": "markdown",
   "metadata": {},
   "source": [
    "## 2023/03/18"
   ]
  },
  {
   "cell_type": "code",
   "execution_count": null,
   "metadata": {},
   "outputs": [],
   "source": [
    "## 의사코드 ##\n",
    "\n",
    "# 압축 방법을 담기 -> dict ({'대문자': '소문자 문자열 패턴'})\n",
    "\n",
    "# 압축되기 전 문자열\n",
    "# before = \"\" \n",
    "# for chr in str:\n",
    "      # 대문자를 소문자 문자열 패턴으로 변환\n",
    "#     before += dic[chr] \n",
    "# 압축되기 전 문자열의 s번째 문자부터 e번째 문자까지 출력\n",
    "# print(before[s-1:e])"
   ]
  },
  {
   "attachments": {},
   "cell_type": "markdown",
   "metadata": {},
   "source": [
    "### 통과)"
   ]
  },
  {
   "cell_type": "code",
   "execution_count": 2,
   "metadata": {},
   "outputs": [
    {
     "name": "stdout",
     "output_type": "stream",
     "text": [
      "fe\n"
     ]
    }
   ],
   "source": [
    "n = int(input()) # 압축 방법의 개수\n",
    "dic = {} # 압축 방법을 담을 딕셔너리 ({'대문자': '소문자 문자열 패턴'})\n",
    "for _ in range(n):\n",
    "    low, up = input().split()\n",
    "    dic[up] = low \n",
    "\n",
    "str = input() # 압축된 문자열\n",
    "s, e = map(int, input().split()) \n",
    "\n",
    "before = \"\" # 압축되기 전 문자열\n",
    "for chr in str:\n",
    "    # 대문자를 소문자 문자열 패턴으로 변환\n",
    "    before += dic[chr]\n",
    "    \n",
    "# 압축되기 전 문자열의 s번째 문자부터 e번째 문자까지 출력\n",
    "print(before[s-1:e])"
   ]
  }
 ],
 "metadata": {
  "kernelspec": {
   "display_name": "base",
   "language": "python",
   "name": "python3"
  },
  "language_info": {
   "codemirror_mode": {
    "name": "ipython",
    "version": 3
   },
   "file_extension": ".py",
   "mimetype": "text/x-python",
   "name": "python",
   "nbconvert_exporter": "python",
   "pygments_lexer": "ipython3",
   "version": "3.9.7"
  },
  "orig_nbformat": 4
 },
 "nbformat": 4,
 "nbformat_minor": 2
}

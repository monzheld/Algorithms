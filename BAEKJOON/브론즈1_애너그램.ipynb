{
 "cells": [
  {
   "attachments": {},
   "cell_type": "markdown",
   "metadata": {},
   "source": [
    "6996번\n",
    "\n",
    "[문제](https://www.acmicpc.net/problem/6996)"
   ]
  },
  {
   "attachments": {},
   "cell_type": "markdown",
   "metadata": {},
   "source": [
    "### 문자열"
   ]
  },
  {
   "attachments": {},
   "cell_type": "markdown",
   "metadata": {},
   "source": [
    "- 두 단어 A와 B가 주어졌을 때, **A에 속하는 알파벳의 순서를 바꾸어서 B를 만들 수 있다면, A와 B를 애너그램**이라고 함\n",
    "- 두 단어가 애너그램인지 아닌지 구하기"
   ]
  },
  {
   "attachments": {},
   "cell_type": "markdown",
   "metadata": {},
   "source": [
    "- 입력\n",
    "    - 첫째 줄에 테스트 케이스의 개수(<100)가 주어짐\n",
    "    - 각 테스트 케이스는 한 줄로 이루어져 있고, 길이가 100을 넘지 않는 단어가 공백으로 구분되어서 주어짐\n",
    "    - 단어는 알파벳 소문자로만 이루어져 있음\n",
    "- 출력\n",
    "    - 각 테스트 케이스마다 애너그램인지 아닌지를 예체 출력과 같은 형식으로 출력\n",
    "\n",
    "- 시간 제한: 1초\n",
    "- 메모리 제한: 128 MB"
   ]
  },
  {
   "cell_type": "code",
   "execution_count": null,
   "metadata": {},
   "outputs": [],
   "source": [
    "\"\"\"\n",
    "입출력 예시)\n",
    "\n",
    "3\n",
    "blather reblath\n",
    "maryland landam\n",
    "bizarre brazier\n",
    "                -> blather & reblath are anagrams.\n",
    "                   maryland & landam are NOT anagrams.\n",
    "                   bizarre & brazier are anagrams.\n",
    "\"\"\""
   ]
  },
  {
   "attachments": {},
   "cell_type": "markdown",
   "metadata": {},
   "source": [
    "## 2023/05/29"
   ]
  },
  {
   "cell_type": "code",
   "execution_count": null,
   "metadata": {},
   "outputs": [],
   "source": [
    "## 의사코드 ##\n",
    "\n",
    "# 애너그램인 경우\n",
    "# sorted(A) == sorted(B)"
   ]
  },
  {
   "attachments": {},
   "cell_type": "markdown",
   "metadata": {},
   "source": [
    "### 통과)"
   ]
  },
  {
   "cell_type": "code",
   "execution_count": 2,
   "metadata": {},
   "outputs": [
    {
     "name": "stdout",
     "output_type": "stream",
     "text": [
      "blather & reblath are anagrams.\n",
      "maryland & landam are NOT anagrams.\n",
      "bizarre & brazier are anagrams.\n"
     ]
    }
   ],
   "source": [
    "t = int(input())\n",
    "for _ in range(t):\n",
    "    a, b = input().split()\n",
    "    if sorted(a) == sorted(b):\n",
    "        print(f'{a} & {b} are anagrams.')\n",
    "    else:\n",
    "        print(f'{a} & {b} are NOT anagrams.')"
   ]
  }
 ],
 "metadata": {
  "kernelspec": {
   "display_name": "base",
   "language": "python",
   "name": "python3"
  },
  "language_info": {
   "codemirror_mode": {
    "name": "ipython",
    "version": 3
   },
   "file_extension": ".py",
   "mimetype": "text/x-python",
   "name": "python",
   "nbconvert_exporter": "python",
   "pygments_lexer": "ipython3",
   "version": "3.9.7"
  },
  "orig_nbformat": 4
 },
 "nbformat": 4,
 "nbformat_minor": 2
}

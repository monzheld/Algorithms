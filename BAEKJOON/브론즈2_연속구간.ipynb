{
 "cells": [
  {
   "attachments": {},
   "cell_type": "markdown",
   "metadata": {},
   "source": [
    "2495번\n",
    "\n",
    "[문제](https://www.acmicpc.net/problem/2495)"
   ]
  },
  {
   "attachments": {},
   "cell_type": "markdown",
   "metadata": {},
   "source": [
    "### 문자열"
   ]
  },
  {
   "attachments": {},
   "cell_type": "markdown",
   "metadata": {},
   "source": [
    "- **여덟 자리의 양의 정수**가 주어질 때, 그 안에서 **연속하여 같은 숫자가 나오는 것이 없으면 1**을 출력하고, **있으면 같은 숫자가 연속해서 나오는 구간 중 가장 긴 것의 길이**를 출력\n",
    "- 예를 들어 세 개의 숫자 12345123, 17772345, 22233331이 주어졌을 때, \n",
    "    - 12345123은 연속하여 같은 숫자가 나오는 것이 없으므로 1\n",
    "    - 17772345는 7이 세 개 연속하여 나오므로 3을 출력\n",
    "    - 22233331의 경우에는 2가 세 개, 3이 네 개 연속해서 나오므로 그 중 큰 값인 4를 출력"
   ]
  },
  {
   "attachments": {},
   "cell_type": "markdown",
   "metadata": {},
   "source": [
    "- 입력\n",
    "    - **첫째 줄부터 셋째 줄까지** 각 줄에 하나씩 세 개의 여덟 자리 양의 정수가 주어짐\n",
    "- 출력\n",
    "    - 첫째 줄에서 셋째 줄까지 한 줄에 하나씩 각 입력된  수 내에서 같은 숫자가 연속하여 나오는 가장 긴 길이를 입력 순서대로 출력\n",
    "\n",
    "- 시간 제한: 1초\n",
    "- 메모리 제한: 128 MB"
   ]
  },
  {
   "cell_type": "code",
   "execution_count": null,
   "metadata": {},
   "outputs": [],
   "source": [
    "\"\"\"\n",
    "입출력 예시)\n",
    "\n",
    "12345123\n",
    "17772345\n",
    "22233331\n",
    "       -> 1\n",
    "          3\n",
    "          4\n",
    "\"\"\""
   ]
  },
  {
   "attachments": {},
   "cell_type": "markdown",
   "metadata": {},
   "source": [
    "## 2023/03/13"
   ]
  },
  {
   "cell_type": "code",
   "execution_count": null,
   "metadata": {},
   "outputs": [],
   "source": [
    "## 의사코드 ##\n",
    "\n",
    "# 첫째 줄부터 셋째 줄까지 입력\n",
    "# for _ in range(3):\n",
    "#     n = str(input())\n",
    "#     현재까지의 최댓값\n",
    "#     current_max = 1\n",
    "#     연속해서 나온 구간의 길이\n",
    "#     cnt = 1\n",
    "#     여덟 자리의 양의 정수\n",
    "#     for i in range(1, 8):\n",
    "#         연속해서 같은 숫자가 나오면 길이 + 1\n",
    "#         다른 숫자가 나오면 현재까지의 최댓값을 갱신하고, 연속해서 나온 구간의 길이 초기화"
   ]
  },
  {
   "attachments": {},
   "cell_type": "markdown",
   "metadata": {},
   "source": [
    "### 통과)"
   ]
  },
  {
   "cell_type": "code",
   "execution_count": 26,
   "metadata": {},
   "outputs": [
    {
     "name": "stdout",
     "output_type": "stream",
     "text": [
      "1\n",
      "3\n",
      "4\n"
     ]
    }
   ],
   "source": [
    "# 첫째 줄부터 셋째 줄까지 입력\n",
    "for _ in range(3):\n",
    "    n = str(input())\n",
    "    current_max = 1 # 현재까지의 최댓값\n",
    "    cnt = 1 # 연속해서 나온 구간의 길이\n",
    "    # 여덟 자리의 양의 정수\n",
    "    for i in range(1, 8):\n",
    "        # 연속해서 같은 숫자가 나오면 길이 + 1\n",
    "        if n[i-1] == n[i]:\n",
    "            cnt += 1\n",
    "        # 다른 숫자가 나오면 현재까지의 최댓값을 갱신하고, 연속해서 나온 구간의 길이 초기화\n",
    "        else:\n",
    "            current_max = max(current_max, cnt)\n",
    "            cnt = 1\n",
    "    current_max = max(current_max, cnt)\n",
    "    print(current_max)"
   ]
  }
 ],
 "metadata": {
  "kernelspec": {
   "display_name": "base",
   "language": "python",
   "name": "python3"
  },
  "language_info": {
   "codemirror_mode": {
    "name": "ipython",
    "version": 3
   },
   "file_extension": ".py",
   "mimetype": "text/x-python",
   "name": "python",
   "nbconvert_exporter": "python",
   "pygments_lexer": "ipython3",
   "version": "3.9.7"
  },
  "orig_nbformat": 4
 },
 "nbformat": 4,
 "nbformat_minor": 2
}

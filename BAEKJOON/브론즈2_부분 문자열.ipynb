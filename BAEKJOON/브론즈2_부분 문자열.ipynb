{
 "cells": [
  {
   "attachments": {},
   "cell_type": "markdown",
   "metadata": {},
   "source": [
    "16916번\n",
    "\n",
    "[문제](https://www.acmicpc.net/problem/16916)"
   ]
  },
  {
   "attachments": {},
   "cell_type": "markdown",
   "metadata": {},
   "source": [
    "### 문자열"
   ]
  },
  {
   "attachments": {},
   "cell_type": "markdown",
   "metadata": {},
   "source": [
    "- 문자열 S의 **부분 문자열이란, 문자열의 연속된 일부**를 의미\n",
    "- 예를 들어, \"aek\", \"joo\", \"ekj\"는 \"baekjoon\"의 부분 문자열이고, \"bak\", \"p\", \"oone\"는 부분 문자열이 아님\n",
    "- 문자열 S와 P가 주어졌을 때, P가 S의 부분 문자열인지 아닌지 알아보기"
   ]
  },
  {
   "attachments": {},
   "cell_type": "markdown",
   "metadata": {},
   "source": [
    "- 입력\n",
    "    - 첫째 줄에 문자열 S, 둘째 줄에 문자열 P가 주어짐\n",
    "    - 두 문자열은 빈 문자열이 아니며, 길이는 100만을 넘지 않음\n",
    "    - 알파벳 소문자로만 이루어져 있음\n",
    "- 출력\n",
    "    - P가 S의 **부분 문자열이면 1, 아니면 0**을 출력\n",
    "\n",
    "- 시간 제한: 1초\n",
    "- 메모리 제한: 512 MB"
   ]
  },
  {
   "cell_type": "code",
   "execution_count": null,
   "metadata": {},
   "outputs": [],
   "source": [
    "\"\"\"\n",
    "입출력 예시)\n",
    "\n",
    "(예제 입력 1) \n",
    "baekjoon\n",
    "aek \n",
    "    -> 1\n",
    "\n",
    "(예제 입력 2)\n",
    "baekjoon\n",
    "bak\n",
    "    -> 0\n",
    "\n",
    "(예제 입력 3)\n",
    "baekjoon\n",
    "joo\n",
    "    -> 1\n",
    "\n",
    "(예제 입력 4)\n",
    "baekjoon\n",
    "oone\n",
    "    -> 0\n",
    "\n",
    "(예제 입력 5)\n",
    "baekjoon\n",
    "online \n",
    "    -> 0\n",
    "\n",
    "(예제 입력 6)\n",
    "baekjoon\n",
    "baekjoon\n",
    "    -> 1\n",
    "\"\"\""
   ]
  },
  {
   "attachments": {},
   "cell_type": "markdown",
   "metadata": {},
   "source": [
    "## 2023/02/05"
   ]
  },
  {
   "cell_type": "code",
   "execution_count": null,
   "metadata": {},
   "outputs": [],
   "source": [
    "## 의사코드 ##\n",
    "\n",
    "# p in s"
   ]
  },
  {
   "attachments": {},
   "cell_type": "markdown",
   "metadata": {},
   "source": [
    "### 통과)"
   ]
  },
  {
   "cell_type": "code",
   "execution_count": 2,
   "metadata": {},
   "outputs": [
    {
     "name": "stdout",
     "output_type": "stream",
     "text": [
      "0\n"
     ]
    }
   ],
   "source": [
    "s = input()\n",
    "p = input()\n",
    "\n",
    "if p in s:\n",
    "    print(1)\n",
    "else:\n",
    "    print(0)"
   ]
  }
 ],
 "metadata": {
  "kernelspec": {
   "display_name": "cp2",
   "language": "python",
   "name": "python3"
  },
  "language_info": {
   "codemirror_mode": {
    "name": "ipython",
    "version": 3
   },
   "file_extension": ".py",
   "mimetype": "text/x-python",
   "name": "python",
   "nbconvert_exporter": "python",
   "pygments_lexer": "ipython3",
   "version": "3.9.12"
  },
  "orig_nbformat": 4,
  "vscode": {
   "interpreter": {
    "hash": "5ca59c31ddc1bb1d3e926feef50b5ca0d1eacb2093eee1a1a79c0269dbb49758"
   }
  }
 },
 "nbformat": 4,
 "nbformat_minor": 2
}

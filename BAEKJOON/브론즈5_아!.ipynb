{
 "cells": [
  {
   "attachments": {},
   "cell_type": "markdown",
   "metadata": {},
   "source": [
    "4999번\n",
    "\n",
    "[문제](https://www.acmicpc.net/problem/4999)"
   ]
  },
  {
   "attachments": {},
   "cell_type": "markdown",
   "metadata": {},
   "source": [
    "### 문자열"
   ]
  },
  {
   "attachments": {},
   "cell_type": "markdown",
   "metadata": {},
   "source": [
    "- 재환이는 저스틴 비버 콘서트에서 소리를 너무 많이 질러서 인후염에 걸렸음\n",
    "- 의사는 재환이에게 \"aaah\"를 말해보라고 시켰지만 재환이는 의사가 원하는만큼 소리를 길게 낼 수 없는 경우가 있었음\n",
    "- 각각의 의사는 재환이에게 특정한 길이의 \"aah\"를 말해보라고 요청\n",
    "    - 어떤 의사는 \"aaaaaah\"를 요구하기도 하고, \"h\"만 요구하는 의사도 있음\n",
    "- 모든 **의사는 자신이 원하는 길이의 \"aah\"를 듣지 못하면 진단을 내릴 수 없음**\n",
    "- 따라서, 재환이는 집에서 자신이 얼마나 길게 \"aah\"를 낼 수 있는지 알아냈고, 자기가 소리낼 수 있는 길이의 \"aah\"를 요구하는 의사를 방문하려고 함\n",
    "- 재환이가 낼 수 있는 \"aah\"의 길이와 의사가 요구하는 길이가 주어질 때, 그 병원에 가야하는지 말아야하는지를 알아내기"
   ]
  },
  {
   "attachments": {},
   "cell_type": "markdown",
   "metadata": {},
   "source": [
    "- 입력\n",
    "    - 입력은 두 줄로 이루어져 있음\n",
    "    - 첫째 줄은 재환이가 가장 길게 낼 수 있는 \"aaah\"\n",
    "    - 둘째 줄은 의사가 듣기를 원하는 \"aah\"\n",
    "    - 두 문자열은 모두 a와 h로만 이루어져 있음\n",
    "    -  a의 개수는 0보다 크거나 같고, 999보다 작거나 같으며, 항상 h는 마지막에 하나만 주어짐\n",
    "- 출력\n",
    "    - 재환이가 **그 병원에 가야하면 \"go\"를, 아니면 \"no\"를 출력**\n",
    "\n",
    "- 시간 제한: 1초\n",
    "- 메모리 제한: 128 MB"
   ]
  },
  {
   "cell_type": "code",
   "execution_count": null,
   "metadata": {},
   "outputs": [],
   "source": [
    "\"\"\"\n",
    "입출력 예시)\n",
    "\n",
    "(예제 입력 1) \n",
    "aaah\n",
    "aaaaah\n",
    "        -> no\n",
    "\n",
    "(예제 입력 2)\n",
    "aaah\n",
    "ah\n",
    "        -> go\n",
    "\"\"\""
   ]
  },
  {
   "attachments": {},
   "cell_type": "markdown",
   "metadata": {},
   "source": [
    "## 2023/04/19"
   ]
  },
  {
   "cell_type": "code",
   "execution_count": null,
   "metadata": {},
   "outputs": [],
   "source": [
    "## 의사코드 ##\n",
    "\n",
    "# 의사가 듣기 원하는 길이가 재환이가 낼 수 있는 길이보다 크면 no \n",
    "# if len(doc) > len(jh):\n",
    "#     print('no')"
   ]
  },
  {
   "attachments": {},
   "cell_type": "markdown",
   "metadata": {},
   "source": [
    "### 통과)"
   ]
  },
  {
   "cell_type": "code",
   "execution_count": 7,
   "metadata": {},
   "outputs": [
    {
     "name": "stdout",
     "output_type": "stream",
     "text": [
      "go\n"
     ]
    }
   ],
   "source": [
    "for i in range(2):\n",
    "    # 첫 번째 입력은 재환이가 가장 길게 낼 수 있는 \"aaah\"\n",
    "    if i == 0:\n",
    "        jh = input()\n",
    "    # 의사가 듣기 원하는 \"aah\"\n",
    "    else:\n",
    "        doc = input()\n",
    "\n",
    "# 의사가 듣기 원하는 길이가 재환이가 낼 수 있는 길이보다 크면 no \n",
    "if len(doc) > len(jh):\n",
    "    print('no')\n",
    "else:\n",
    "    print('go')"
   ]
  }
 ],
 "metadata": {
  "kernelspec": {
   "display_name": "base",
   "language": "python",
   "name": "python3"
  },
  "language_info": {
   "codemirror_mode": {
    "name": "ipython",
    "version": 3
   },
   "file_extension": ".py",
   "mimetype": "text/x-python",
   "name": "python",
   "nbconvert_exporter": "python",
   "pygments_lexer": "ipython3",
   "version": "3.9.7"
  },
  "orig_nbformat": 4
 },
 "nbformat": 4,
 "nbformat_minor": 2
}

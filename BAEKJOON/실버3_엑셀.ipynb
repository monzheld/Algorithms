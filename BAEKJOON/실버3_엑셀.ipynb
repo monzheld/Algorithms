{
 "cells": [
  {
   "attachments": {},
   "cell_type": "markdown",
   "metadata": {},
   "source": [
    "2757번\n",
    "\n",
    "[문제](https://www.acmicpc.net/problem/2757)"
   ]
  },
  {
   "attachments": {},
   "cell_type": "markdown",
   "metadata": {},
   "source": [
    "### 문자열"
   ]
  },
  {
   "attachments": {},
   "cell_type": "markdown",
   "metadata": {},
   "source": [
    "- 엑셀의 첫 번째 열은 A이고, 두 번째 열은 B이고, 26번째 열은 Z\n",
    "- 26번째 열 다음 열부터는 2글자를 이용\n",
    "- 예를 들어, 27번째 열은 AA이고, 28번째 열은 AB, 52번째 열은 AZ, 53번째 열은 BA이며, 이와 같이 계속 열의 이름을 붙임\n",
    "- ZZ열 다음 열은 AAA가 되고, 그 다음은 AAB\n",
    "- 엑셀에서 행은 그냥 행 번호를 사용하면 됨\n",
    "- 엑셀 스프레드시트에서 각 칸은 위에서 설명한 열과 행을 합쳐서 이름을 만들 수 있음\n",
    "- 가장 왼쪽 위에 있는 칸은 A1이 되고, 55열 23행에 있는 칸은 BC23\n",
    "- 열과 행이 주어졌을 때, 그 칸의 **엑셀 스프레드시트 상에서 이름**을 출력"
   ]
  },
  {
   "attachments": {},
   "cell_type": "markdown",
   "metadata": {},
   "source": [
    "- 입력\n",
    "    - 입력은 여러 줄이며, RnCm형태\n",
    "    - **n은 행 번호** (1<=n<=300000000), **m은 열 번호** (1<=m<=300000000) \n",
    "    - 입력의 마지막은 n과 m이 모두 0이며, 이때는 출력하지 않고 프로그램을 종료\n",
    "- 출력\n",
    "    - 각 입력을 순서대로 한 줄에 하나씩 엑셀 스프레드시트 상에서의 이름을 출력\n",
    "\n",
    "- 시간 제한: 1초\n",
    "- 메모리 제한: 128 MB"
   ]
  },
  {
   "cell_type": "code",
   "execution_count": null,
   "metadata": {},
   "outputs": [],
   "source": [
    "\"\"\"\n",
    "입출력 예시)\n",
    "\n",
    "R1C1\n",
    "R3C1\n",
    "R1C3\n",
    "R299999999C26\n",
    "R52C52\n",
    "R53C17576\n",
    "R53C17602\n",
    "R0C0\n",
    "            -> A1\n",
    "               A3\n",
    "               C1\n",
    "               Z299999999\n",
    "               AZ52\n",
    "               YYZ53\n",
    "               YZZ53\n",
    "\"\"\""
   ]
  },
  {
   "attachments": {},
   "cell_type": "markdown",
   "metadata": {},
   "source": [
    "## 2023/03/19"
   ]
  },
  {
   "cell_type": "code",
   "execution_count": null,
   "metadata": {},
   "outputs": [],
   "source": [
    "## 의사코드 ##\n",
    "\n",
    "# 입력: RnCm \n",
    "# n, m = map(int, input()[1:].split('C'))\n",
    "\n",
    "# 자릿수의 값 = 열의 값을 26으로 나눈 나머지\n",
    "# 자릿수의 값 = m % 26 \n",
    "\n",
    "# 다음 자릿수 = 기존 열의 값을 26으로 나눈 몫 -1\n",
    "# m = (m // 26) - 1\n",
    "\n",
    "# 리스트의 0번째 인덱스에 자릿수의 값 삽입\n",
    "# li.insert(0, 자릿수의 값)\n",
    "\n",
    "# A-Z 대문자 리스트\n",
    "# from string import ascii_uppercase\n",
    "# list(ascii_uppercase)\n",
    "\n",
    "# 엑셀 스프레드시트 상에서의 열\n",
    "#      = 리스트에 저장된 자릿수의 값을 대문자 리스트의 인덱스 값으로 넣어서 문자로 변환 \n",
    "\n",
    "# 열 + 행\n",
    "# print(열 + str(n))"
   ]
  },
  {
   "attachments": {},
   "cell_type": "markdown",
   "metadata": {},
   "source": [
    "### 통과)"
   ]
  },
  {
   "cell_type": "code",
   "execution_count": 15,
   "metadata": {},
   "outputs": [
    {
     "name": "stdout",
     "output_type": "stream",
     "text": [
      "A1\n",
      "A3\n",
      "C1\n",
      "Z299999999\n",
      "AZ52\n",
      "YYZ53\n",
      "YZZ53\n"
     ]
    }
   ],
   "source": [
    "from string import ascii_uppercase\n",
    "\n",
    "while True:\n",
    "    n, m = map(int, input()[1:].split('C'))\n",
    "    if n == 0 and m == 0:\n",
    "        break \n",
    "    else:\n",
    "        m -= 1\n",
    "        # A-Z 대문자 리스트\n",
    "        alpha = list(ascii_uppercase)\n",
    "        # 열에 해당하는 값을 저장할 리스트 \n",
    "        li = []\n",
    "        while m >= 0:\n",
    "            # 자릿수의 값 = 열의 값을 26으로 나눈 나머지\n",
    "            col = m % 26 \n",
    "            # 다음 자릿수 = 기존 열의 값을 26으로 나눈 몫 -1\n",
    "            m = (m // 26) - 1\n",
    "            # 리스트의 0번째 인덱스에 자릿수의 값 삽입\n",
    "            li.insert(0, col)\n",
    "\n",
    "        res = '' \n",
    "        # 리스트에 저장된 자릿수의 값을 대문자 리스트의 인덱스 값으로 넣어 문자로 변환 \n",
    "        for c in li:\n",
    "            res += alpha[c]\n",
    "        # 열 + 행\n",
    "        print(res + str(n))"
   ]
  },
  {
   "cell_type": "code",
   "execution_count": null,
   "metadata": {},
   "outputs": [],
   "source": [
    "# 과정 확인"
   ]
  },
  {
   "cell_type": "code",
   "execution_count": 13,
   "metadata": {},
   "outputs": [
    {
     "name": "stdout",
     "output_type": "stream",
     "text": [
      "n: 52, m: 52 \n",
      "\n",
      "m-1: 51\n",
      "m % 26: 25\n",
      "(m // 26) - 1: 0\n",
      "li: [25] \n",
      "\n",
      "m % 26: 0\n",
      "(m // 26) - 1: -1\n",
      "li: [0, 25] \n",
      "\n",
      "c: 0\n",
      "alpha[c]: A\n",
      "res: A \n",
      "\n",
      "c: 25\n",
      "alpha[c]: Z\n",
      "res: AZ \n",
      "\n",
      "AZ52\n"
     ]
    }
   ],
   "source": [
    "from string import ascii_uppercase\n",
    "\n",
    "while True:\n",
    "    n, m = map(int, input()[1:].split('C'))\n",
    "    if n == 0 and m == 0:\n",
    "        break \n",
    "    else:\n",
    "        print(f'n: {n}, m: {m}', '\\n')\n",
    "        m -= 1\n",
    "        print('m-1:', m)\n",
    "        alpha = list(ascii_uppercase)\n",
    "        li = []\n",
    "        while m >= 0:\n",
    "            col = m % 26 \n",
    "            print('m % 26:', col)\n",
    "            m = (m // 26) - 1\n",
    "            print('(m // 26) - 1:', m)\n",
    "            li.insert(0, col)\n",
    "            print('li:', li, '\\n')\n",
    "        res = '' \n",
    "        for c in li:\n",
    "            print('c:', c)\n",
    "            print('alpha[c]:', alpha[c])\n",
    "            res += alpha[c]\n",
    "            print('res:', res, '\\n')\n",
    "        print(res + str(n))"
   ]
  }
 ],
 "metadata": {
  "kernelspec": {
   "display_name": "base",
   "language": "python",
   "name": "python3"
  },
  "language_info": {
   "codemirror_mode": {
    "name": "ipython",
    "version": 3
   },
   "file_extension": ".py",
   "mimetype": "text/x-python",
   "name": "python",
   "nbconvert_exporter": "python",
   "pygments_lexer": "ipython3",
   "version": "3.9.7"
  },
  "orig_nbformat": 4
 },
 "nbformat": 4,
 "nbformat_minor": 2
}

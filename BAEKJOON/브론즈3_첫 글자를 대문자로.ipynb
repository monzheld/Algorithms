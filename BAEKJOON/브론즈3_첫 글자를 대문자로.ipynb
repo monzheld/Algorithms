{
 "cells": [
  {
   "attachments": {},
   "cell_type": "markdown",
   "metadata": {},
   "source": [
    "4458번\n",
    "\n",
    "[문제](https://www.acmicpc.net/problem/4458)"
   ]
  },
  {
   "attachments": {},
   "cell_type": "markdown",
   "metadata": {},
   "source": [
    "### 문자열"
   ]
  },
  {
   "attachments": {},
   "cell_type": "markdown",
   "metadata": {},
   "source": [
    "- 문장을 읽은 뒤, 줄의 첫 글자를 대문자로 바꾸기"
   ]
  },
  {
   "attachments": {},
   "cell_type": "markdown",
   "metadata": {},
   "source": [
    "- 입력\n",
    "    - 첫째 줄에 줄의 수 N이 주어짐\n",
    "    - 다음 N개의 줄에는 문장이 주어짐\n",
    "    - 각 문장에 들어있는 글자의 수는 30을 넘지 않음\n",
    "    - 모든 줄의 첫 번째 글자는 알파벳\n",
    "- 출력\n",
    "    - 각 줄의 첫글자를 대문자로 바꾼뒤 출력\n",
    "\n",
    "- 시간 제한: 1초\n",
    "- 메모리 제한: 128 MB"
   ]
  },
  {
   "cell_type": "code",
   "execution_count": null,
   "metadata": {},
   "outputs": [],
   "source": [
    "\"\"\"\n",
    "입출력 예시)\n",
    "\n",
    "5\n",
    "powdered Toast Man\n",
    "skeletor\n",
    "Electra Woman and Dyna Girl\n",
    "she-Ra Princess of Power\n",
    "darth Vader\n",
    "                            -> Powdered Toast Man\n",
    "                               Skeletor\n",
    "                               Electra Woman and Dyna Girl\n",
    "                               She-Ra Princess of Power\n",
    "                               Darth Vader\n",
    "\"\"\""
   ]
  },
  {
   "attachments": {},
   "cell_type": "markdown",
   "metadata": {},
   "source": [
    "## 2023/05/08"
   ]
  },
  {
   "cell_type": "code",
   "execution_count": null,
   "metadata": {},
   "outputs": [],
   "source": [
    "## 의사코드 ##\n",
    "\n",
    "# 문장을 리스트로 변환\n",
    "# 문장 리스트 = list(input())\n",
    "\n",
    "# 문장 리스트의 첫글자를 대문자로 변환\n",
    "# 문장 리스트[0] = 문장 리스트[0].upper()"
   ]
  },
  {
   "attachments": {},
   "cell_type": "markdown",
   "metadata": {},
   "source": [
    "### 통과)"
   ]
  },
  {
   "cell_type": "code",
   "execution_count": 1,
   "metadata": {},
   "outputs": [
    {
     "name": "stdout",
     "output_type": "stream",
     "text": [
      "Powdered Toast Man\n",
      "Skeletor\n",
      "Electra Woman and Dyna Girl\n",
      "She-Ra Princess of Power\n",
      "Darth Vader\n"
     ]
    }
   ],
   "source": [
    "n = int(input())\n",
    "for _ in range(n):\n",
    "    sent = list(input())\n",
    "    sent[0] = sent[0].upper()\n",
    "    print(''.join(sent))"
   ]
  }
 ],
 "metadata": {
  "kernelspec": {
   "display_name": "base",
   "language": "python",
   "name": "python3"
  },
  "language_info": {
   "codemirror_mode": {
    "name": "ipython",
    "version": 3
   },
   "file_extension": ".py",
   "mimetype": "text/x-python",
   "name": "python",
   "nbconvert_exporter": "python",
   "pygments_lexer": "ipython3",
   "version": "3.9.7"
  },
  "orig_nbformat": 4
 },
 "nbformat": 4,
 "nbformat_minor": 2
}

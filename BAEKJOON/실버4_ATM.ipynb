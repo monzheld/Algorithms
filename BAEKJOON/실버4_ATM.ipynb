{
 "cells": [
  {
   "attachments": {},
   "cell_type": "markdown",
   "metadata": {},
   "source": [
    "11399번\n",
    "\n",
    "[문제](https://www.acmicpc.net/problem/11399)"
   ]
  },
  {
   "attachments": {},
   "cell_type": "markdown",
   "metadata": {},
   "source": [
    "### 탐욕(Greedy)"
   ]
  },
  {
   "attachments": {},
   "cell_type": "markdown",
   "metadata": {},
   "source": [
    "- ATM앞에 N명의 사람들이 줄을 서있음\n",
    "- 사람은 1번부터 N번까지 번호가 매겨져 있으며, i번 사람이 돈을 인출하는데 걸리는 시간은 Pi분\n",
    "- 사람들이 줄을 서는 순서에 따라서, 돈을 인출하는데 필요한 시간의 합이 달라짐\n",
    "\n",
    "- ex) 총 5명이 있고, P1 = 3, P2 = 1, P3 = 4, P4 = 3, P5 = 2 인 경우\n",
    "    - [1, 2, 3, 4, 5] 순서로 줄을 선다면,\n",
    "        - 1번 사람은 3분만에 돈을 뽑을 수 있음\n",
    "        - 2번 사람은 1번 사람이 돈을 뽑을 때 까지 기다려야 하기 때문에, 3+1 = 4분이 걸림\n",
    "        - 3번 사람은 1번, 2번 사람이 돈을 뽑을 때까지 기다려야 하기 때문에, 총 3+1+4 = 8분이 필요\n",
    "        - 4번 사람은 3+1+4+3 = 11분\n",
    "        - 5번 사람은 3+1+4+3+2 = 13분이 걸림\n",
    "        - 각 사람이 돈을 인출하는데 필요한 시간의 합은 3+4+8+11+13 = 39분\n",
    "\n",
    "    - [2, 5, 1, 4, 3] 순서로 줄을 서면\n",
    "        - 2번 사람은 1분\n",
    "        - 5번 사람은 1+2 = 3분\n",
    "        - 1번 사람은 1+2+3 = 6분\n",
    "        - 4번 사람은 1+2+3+3 = 9분\n",
    "        - 3번 사람은 1+2+3+3+4 = 13분\n",
    "        - 각 사람이 돈을 인출하는데 필요한 시간의 합은 1+3+6+9+13 = 32분\n",
    "\n",
    "- 줄을 서 있는 사람의 수 N과 각 사람이 돈을 인출하는데 걸리는 시간 Pi가 주어졌을 때, **각 사람이 돈을 인출하는데 필요한 시간의 합의 최솟값** 구하기"
   ]
  },
  {
   "attachments": {},
   "cell_type": "markdown",
   "metadata": {},
   "source": [
    "- 입력\n",
    "    - 첫째 줄에 사람의 수 N(1 ≤ N ≤ 1,000)이 주어짐\n",
    "    - 둘째 줄에는 각 사람이 돈을 인출하는데 걸리는 시간 Pi가 주어짐 (1 ≤ Pi ≤ 1,000)\n",
    "- 출력\n",
    "    - 첫째 줄에 각 사람이 돈을 인출하는데 필요한 시간의 합의 최솟값을 출력\n",
    "\n",
    "- 시간 제한: 1초\n",
    "- 메모리 제한: 256 MB"
   ]
  },
  {
   "cell_type": "code",
   "execution_count": null,
   "metadata": {},
   "outputs": [],
   "source": [
    "\"\"\"\n",
    "입출력 예시)\n",
    "\n",
    "n = 5\n",
    "3 1 4 3 2\n",
    "    -> 32\n",
    "\"\"\" "
   ]
  },
  {
   "attachments": {},
   "cell_type": "markdown",
   "metadata": {},
   "source": [
    "## 2023/01/16"
   ]
  },
  {
   "cell_type": "code",
   "execution_count": null,
   "metadata": {},
   "outputs": [],
   "source": [
    "## 의사코드 ##\n",
    "\n",
    "# pi 리스트를 오름차순 정렬 -> 작은 값부터\n",
    "# for i in range(n):\n",
    "#     minimum += pi[i]"
   ]
  },
  {
   "attachments": {},
   "cell_type": "markdown",
   "metadata": {},
   "source": [
    "### 1) "
   ]
  },
  {
   "cell_type": "code",
   "execution_count": null,
   "metadata": {},
   "outputs": [],
   "source": [
    "n = int(input()) # 사람의 수 \n",
    "pi = list(map(int, input().split()))\n",
    "# pi 리스트 오름차순 정렬\n",
    "pi.sort() \n",
    "\n",
    "minimum = 0 # 각 사람이 돈을 인출하는데 필요한 시간의 합의 최솟값\n",
    "for i in range(n):\n",
    "    minimum += pi[i]\n",
    "    \n",
    "print(minimum)"
   ]
  },
  {
   "attachments": {},
   "cell_type": "markdown",
   "metadata": {},
   "source": [
    "-> 틀림"
   ]
  },
  {
   "cell_type": "code",
   "execution_count": null,
   "metadata": {},
   "outputs": [],
   "source": [
    "# 과정 확인"
   ]
  },
  {
   "cell_type": "code",
   "execution_count": 1,
   "metadata": {},
   "outputs": [
    {
     "name": "stdout",
     "output_type": "stream",
     "text": [
      "[1, 2, 3, 3, 4]\n",
      "1\n",
      "3\n",
      "6\n",
      "9\n",
      "13\n",
      "13\n"
     ]
    }
   ],
   "source": [
    "n = 5\n",
    "pi = [3, 1, 4, 3, 2]\n",
    "# pi 리스트 오름차순 정렬\n",
    "pi.sort() \n",
    "print(pi)\n",
    "\n",
    "minimum = 0 # 각 사람이 돈을 인출하는데 필요한 시간의 합의 최솟값\n",
    "for i in range(n):\n",
    "    minimum += pi[i]\n",
    "    print(minimum)\n",
    "    \n",
    "print(minimum)"
   ]
  },
  {
   "attachments": {},
   "cell_type": "markdown",
   "metadata": {},
   "source": [
    "-> 그냥 마지막 사람(Pn)이 돈을 인출하는데 필요한 시간만 구해져서 틀림"
   ]
  },
  {
   "attachments": {},
   "cell_type": "markdown",
   "metadata": {},
   "source": [
    "### 통과)"
   ]
  },
  {
   "cell_type": "code",
   "execution_count": null,
   "metadata": {},
   "outputs": [],
   "source": [
    "n = int(input()) # 사람의 수 \n",
    "pi = list(map(int, input().split()))\n",
    "# pi 리스트 오름차순 정렬\n",
    "pi.sort()\n",
    "\n",
    "wait_time = 0 # 각 사람이 돈을 인출하는데 필요한 시간 \n",
    "minimum = 0 # 각 사람이 돈을 인출하는데 필요한 시간의 합의 최솟값\n",
    "\n",
    "for i in range(n):\n",
    "    wait_time += pi[i]\n",
    "    minimum += wait_time\n",
    "    \n",
    "print(minimum)"
   ]
  },
  {
   "attachments": {},
   "cell_type": "markdown",
   "metadata": {},
   "source": [
    "-> 각 사람이 돈을 인출하는데 필요한 시간인 wait_time을 따로 구함"
   ]
  },
  {
   "cell_type": "code",
   "execution_count": null,
   "metadata": {},
   "outputs": [],
   "source": [
    "# 과정 확인"
   ]
  },
  {
   "cell_type": "code",
   "execution_count": 2,
   "metadata": {},
   "outputs": [
    {
     "name": "stdout",
     "output_type": "stream",
     "text": [
      "[1, 2, 3, 3, 4]\n",
      "1\n",
      "4\n",
      "10\n",
      "19\n",
      "32\n",
      "32\n"
     ]
    }
   ],
   "source": [
    "n = 5\n",
    "pi = [3, 1, 4, 3, 2]\n",
    "# pi 리스트 오름차순 정렬\n",
    "pi.sort() \n",
    "print(pi)\n",
    "\n",
    "wait_time = 0 # 각 사람이 돈을 인출하는데 필요한 시간 \n",
    "minimum = 0 # 각 사람이 돈을 인출하는데 필요한 시간의 합의 최솟값\n",
    "for i in range(n):\n",
    "    wait_time += pi[i]\n",
    "    minimum += wait_time\n",
    "    print(minimum)\n",
    "    \n",
    "print(minimum)"
   ]
  },
  {
   "attachments": {},
   "cell_type": "markdown",
   "metadata": {},
   "source": [
    "### 다른 풀이"
   ]
  },
  {
   "cell_type": "code",
   "execution_count": null,
   "metadata": {},
   "outputs": [],
   "source": [
    "n = int(input()) # 사람의 수 \n",
    "seconds = list(map(int, input().split()))\n",
    "minimum = 0\n",
    "seconds.sort()\n",
    "\n",
    "for i in range(n):\n",
    "    for j in range(i + 1):\n",
    "        minimum += seconds[j]\n",
    "print(minimum)"
   ]
  },
  {
   "attachments": {},
   "cell_type": "markdown",
   "metadata": {},
   "source": [
    "-> 이중 for문으로 seconds 리스트에서 인덱스 0부터 i까지의 값을 더한 값이 minimum이 됨"
   ]
  },
  {
   "cell_type": "code",
   "execution_count": null,
   "metadata": {},
   "outputs": [],
   "source": [
    "# 과정 확인"
   ]
  },
  {
   "cell_type": "code",
   "execution_count": 3,
   "metadata": {},
   "outputs": [
    {
     "name": "stdout",
     "output_type": "stream",
     "text": [
      "i: 0\n",
      "j: 0\n",
      "seconds[j]: 1\n",
      "minimum: 1 \n",
      "\n",
      "i: 1\n",
      "j: 0\n",
      "seconds[j]: 1\n",
      "minimum: 2 \n",
      "\n",
      "j: 1\n",
      "seconds[j]: 2\n",
      "minimum: 4 \n",
      "\n",
      "i: 2\n",
      "j: 0\n",
      "seconds[j]: 1\n",
      "minimum: 5 \n",
      "\n",
      "j: 1\n",
      "seconds[j]: 2\n",
      "minimum: 7 \n",
      "\n",
      "j: 2\n",
      "seconds[j]: 3\n",
      "minimum: 10 \n",
      "\n",
      "i: 3\n",
      "j: 0\n",
      "seconds[j]: 1\n",
      "minimum: 11 \n",
      "\n",
      "j: 1\n",
      "seconds[j]: 2\n",
      "minimum: 13 \n",
      "\n",
      "j: 2\n",
      "seconds[j]: 3\n",
      "minimum: 16 \n",
      "\n",
      "j: 3\n",
      "seconds[j]: 3\n",
      "minimum: 19 \n",
      "\n",
      "i: 4\n",
      "j: 0\n",
      "seconds[j]: 1\n",
      "minimum: 20 \n",
      "\n",
      "j: 1\n",
      "seconds[j]: 2\n",
      "minimum: 22 \n",
      "\n",
      "j: 2\n",
      "seconds[j]: 3\n",
      "minimum: 25 \n",
      "\n",
      "j: 3\n",
      "seconds[j]: 3\n",
      "minimum: 28 \n",
      "\n",
      "j: 4\n",
      "seconds[j]: 4\n",
      "minimum: 32 \n",
      "\n",
      "32\n"
     ]
    }
   ],
   "source": [
    "# 과정 확인\n",
    "n = 5\n",
    "seconds = [3, 1, 4, 3, 2]\n",
    "minimum = 0\n",
    "seconds.sort()\n",
    "\n",
    "for i in range(n):\n",
    "    print('i:', i)\n",
    "    # seconds 리스트에서 인덱스 0부터 i까지의 값을 더함 \n",
    "    for j in range(i + 1):\n",
    "        print('j:', j)\n",
    "        print('seconds[j]:', seconds[j])\n",
    "        minimum += seconds[j]\n",
    "        print('minimum:', minimum, '\\n')\n",
    "print(minimum)"
   ]
  }
 ],
 "metadata": {
  "kernelspec": {
   "display_name": "base",
   "language": "python",
   "name": "python3"
  },
  "language_info": {
   "codemirror_mode": {
    "name": "ipython",
    "version": 3
   },
   "file_extension": ".py",
   "mimetype": "text/x-python",
   "name": "python",
   "nbconvert_exporter": "python",
   "pygments_lexer": "ipython3",
   "version": "3.9.7"
  },
  "orig_nbformat": 4,
  "vscode": {
   "interpreter": {
    "hash": "023ab38ef701cca529efce9465407c28b5ba779ced3f1a89865b89edb313b240"
   }
  }
 },
 "nbformat": 4,
 "nbformat_minor": 2
}

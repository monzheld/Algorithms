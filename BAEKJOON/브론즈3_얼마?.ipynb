{
 "cells": [
  {
   "attachments": {},
   "cell_type": "markdown",
   "metadata": {},
   "source": [
    "9325번\n",
    "\n",
    "[문제](https://www.acmicpc.net/problem/9325)"
   ]
  },
  {
   "attachments": {},
   "cell_type": "markdown",
   "metadata": {},
   "source": [
    "### 수학"
   ]
  },
  {
   "attachments": {},
   "cell_type": "markdown",
   "metadata": {},
   "source": [
    "- 모든 옵션이 주어진 자동차를 구매하는데 필요한 액수를 계산하기"
   ]
  },
  {
   "attachments": {},
   "cell_type": "markdown",
   "metadata": {},
   "source": [
    "- 입력\n",
    "    - 첫째 줄에 테스트 케이스의 개수가 주어짐\n",
    "    - 각 테스트 케이스의 첫 줄엔 자동차의 가격 s가 주어짐 (1 ≤ s ≤ 100 000)\n",
    "    - 둘째 줄엔 해빈이가 구매하려고 하는 서로 다른 옵션의 개수 n이 주어짐 (0 ≤ n ≤ 1 000)\n",
    "    - 뒤이어 n개의 줄이 입력으로 들어옴\n",
    "    - 각 줄은 q 와 p로 이루어져 있는데 q는 해빈이가 사려고 하는 특정 옵션의 개수이고 p는 해당 옵션의 가격 (1 ≤ q ≤ 100, 1 ≤ p ≤ 10 000)\n",
    "- 출력\n",
    "    - 각 테스트 케이스 마다, 해빈이가 최종적으로 구매하려는 자동차의 가격을 한줄씩 출력\n",
    "\n",
    "- 시간 제한: 1초\n",
    "- 메모리 제한: 128 MB"
   ]
  },
  {
   "cell_type": "code",
   "execution_count": null,
   "metadata": {},
   "outputs": [],
   "source": [
    "\"\"\"\n",
    "입출력 예시)\n",
    "\n",
    "2\n",
    "10000\n",
    "2\n",
    "1 2000\n",
    "3 400\n",
    "50000\n",
    "0\n",
    "    -> 13200\n",
    "       50000\n",
    "\"\"\""
   ]
  },
  {
   "attachments": {},
   "cell_type": "markdown",
   "metadata": {},
   "source": [
    "## 2023/06/22"
   ]
  },
  {
   "cell_type": "code",
   "execution_count": null,
   "metadata": {},
   "outputs": [],
   "source": [
    "## 의사코드 ##\n",
    "\n",
    "# 자동차 가격 + 옵션 개수 * 옵션 가격"
   ]
  },
  {
   "attachments": {},
   "cell_type": "markdown",
   "metadata": {},
   "source": [
    "### 통과)"
   ]
  },
  {
   "cell_type": "code",
   "execution_count": 1,
   "metadata": {},
   "outputs": [
    {
     "name": "stdout",
     "output_type": "stream",
     "text": [
      "13200\n",
      "50000\n"
     ]
    }
   ],
   "source": [
    "t = int(input())\n",
    "for _ in range(t):\n",
    "    s = int(input()) # 자동차 가격\n",
    "    total = s # 구매에 필요한 총 액수\n",
    "    n = int(input()) # 옵션의 개수\n",
    "    for _ in range(n):\n",
    "        # 특정 옵션의 개수, 해당 옵션의 가격\n",
    "        q, p = map(int, input().split())\n",
    "        total += q*p\n",
    "    print(total)"
   ]
  }
 ],
 "metadata": {
  "kernelspec": {
   "display_name": "base",
   "language": "python",
   "name": "python3"
  },
  "language_info": {
   "codemirror_mode": {
    "name": "ipython",
    "version": 3
   },
   "file_extension": ".py",
   "mimetype": "text/x-python",
   "name": "python",
   "nbconvert_exporter": "python",
   "pygments_lexer": "ipython3",
   "version": "3.9.7"
  },
  "orig_nbformat": 4
 },
 "nbformat": 4,
 "nbformat_minor": 2
}

{
 "cells": [
  {
   "attachments": {},
   "cell_type": "markdown",
   "metadata": {},
   "source": [
    "1697번\n",
    "\n",
    "[문제](https://www.acmicpc.net/problem/1697)"
   ]
  },
  {
   "attachments": {},
   "cell_type": "markdown",
   "metadata": {},
   "source": [
    "### BFS"
   ]
  },
  {
   "attachments": {},
   "cell_type": "markdown",
   "metadata": {},
   "source": [
    "- 숨바꼭질\n",
    "- 수빈이는 현재 점 N(0 ≤ N ≤ 100,000)에 있고, 동생은 점 K(0 ≤ K ≤ 100,000)에 있음\n",
    "- 수빈이는 걷거나 순간이동 가능\n",
    "- 만약, 수빈이의 위치가 X일 때 **걷는다면** 1초 후에 **X-1 또는 X+1로 이동**\n",
    "- **순간이동**을 하는 경우에는 1초 후에 **2*X의 위치로 이동**\n",
    "- 수빈이와 동생의 위치가 주어졌을 때, **수빈이가 동생을 찾을 수 있는 가장 빠른 시간이 몇 초 후인지** 구하기"
   ]
  },
  {
   "attachments": {},
   "cell_type": "markdown",
   "metadata": {},
   "source": [
    "- 입력\n",
    "    - 첫 번째 줄에 수빈이가 있는 위치 N과 동생이 있는 위치 K가 주어짐\n",
    "    - N과 K는 정수\n",
    "- 출력\n",
    "    - **수빈이가 동생을 찾는 가장 빠른 시간**을 출력\n",
    "\n",
    "- 시간 제한: 2초\n",
    "- 메모리 제한: 128 MB"
   ]
  },
  {
   "cell_type": "code",
   "execution_count": null,
   "metadata": {},
   "outputs": [],
   "source": [
    "\"\"\"\n",
    "입출력 예시)\n",
    "\n",
    "5 17\n",
    "    -> 4\n",
    "\"\"\""
   ]
  },
  {
   "cell_type": "code",
   "execution_count": null,
   "metadata": {},
   "outputs": [],
   "source": [
    "# N = 5, K = 17\n",
    "\n",
    "# -> 수빈이가 5-10-9-18-17 순으로 가면 4초만에 동생을 찾을 수 있음\n",
    "# => 4"
   ]
  },
  {
   "attachments": {},
   "cell_type": "markdown",
   "metadata": {},
   "source": [
    "## 2023/01/19"
   ]
  },
  {
   "cell_type": "code",
   "execution_count": null,
   "metadata": {},
   "outputs": [],
   "source": [
    "## 의사코드 ##\n",
    "\n",
    "# 가장 빠른 시간 -> 최단 경로 찾기 => BFS\n",
    "# deque\n",
    "\n",
    "# 수빈이 위치: N\n",
    "# 동생 위치: K\n",
    "\n",
    "# 수빈이가 이동할 수 있는 곳\n",
    "#   1) X - 1\n",
    "#   2) X + 1\n",
    "#   3) 2 * X\n",
    "\n",
    "# N+1만큼의 배열(visited) 생성 \n",
    "# visited = [0] * (N+1)\n",
    "\n",
    "# BFS\n",
    "\n",
    "# while q:\n",
    "#   현재 위치 = q.popleft()\n",
    "#   if 현재 위치 == K: # K -> 동생 위치\n",
    "#       reutrn visited[현재 위치]\n",
    "#   # 수빈이가 이동할 수 있는 위치 내에서 탐색 \n",
    "#   for 다음 위치 in ((현재 위치 -1), (현재 위치 +1), (2*현재 위치)):\n",
    "#   if 0 <= 다음 위치 < (N+1) and not visited[다음 위치]:\n",
    "#       visited[다음 위치] = visited[현재 위치] + 1 # 방문처리 & 시간+1\n",
    "#       q.append(다음 위치)"
   ]
  },
  {
   "attachments": {},
   "cell_type": "markdown",
   "metadata": {},
   "source": [
    "탐색을 진행할 범위 -> 수빈이가 이동할 수 있는 범위로 설정 "
   ]
  },
  {
   "attachments": {},
   "cell_type": "markdown",
   "metadata": {},
   "source": [
    "### 1) "
   ]
  },
  {
   "cell_type": "code",
   "execution_count": 6,
   "metadata": {},
   "outputs": [
    {
     "name": "stdout",
     "output_type": "stream",
     "text": [
      "None\n"
     ]
    }
   ],
   "source": [
    "from collections import deque\n",
    "\n",
    "# 수빈이 위치, 동생 위치\n",
    "n, k = map(int, input().split())\n",
    "\n",
    "# n+1 만큼의 배열(visited) 생성\n",
    "visited = [0] * (n+1)\n",
    "\n",
    "# BFS 수행\n",
    "def bfs():\n",
    "    q = deque([n])\n",
    "    while q:\n",
    "        current_pos = q.popleft()\n",
    "        if current_pos == k:\n",
    "            return visited[current_pos]\n",
    "        # 수빈이가 이동할 수 있는 위치 내에서 탐색\n",
    "        for next_pos in (current_pos-1, current_pos+1, 2*current_pos):\n",
    "            # 다음 위치가 그래프의 범위를 벗어나지 않으면서 아직 방문하지 않았다면\n",
    "            if 0 <= next_pos < (n+1) and not visited[next_pos]:\n",
    "                # 방문처리 & 걸리는 시간 + 1\n",
    "                visited[next_pos] = visited[current_pos] + 1\n",
    "                q.append(next_pos)\n",
    "\n",
    "print(bfs())"
   ]
  },
  {
   "attachments": {},
   "cell_type": "markdown",
   "metadata": {},
   "source": [
    "-> 틀림 (값이 return 되지 않음)"
   ]
  },
  {
   "attachments": {},
   "cell_type": "markdown",
   "metadata": {},
   "source": [
    "-> visited의 길이를 n과 k의 최댓값만큼 설정해야 하는데 그냥 n+1 값으로 설정해서 틀림 \n",
    "\n",
    "(n=5 -> visited의 길이가 6으로만 설정된 것)"
   ]
  },
  {
   "attachments": {},
   "cell_type": "markdown",
   "metadata": {},
   "source": [
    "### 통과)"
   ]
  },
  {
   "cell_type": "code",
   "execution_count": 8,
   "metadata": {},
   "outputs": [
    {
     "name": "stdout",
     "output_type": "stream",
     "text": [
      "4\n"
     ]
    }
   ],
   "source": [
    "from collections import deque\n",
    "\n",
    "# 수빈이 위치, 동생 위치\n",
    "n, k = map(int, input().split())\n",
    "\n",
    "# n+1 만큼의 배열(visited) 생성\n",
    "max_n = 100000\n",
    "visited = [0] * (max_n+1)\n",
    "\n",
    "# BFS 수행\n",
    "def bfs():\n",
    "    q = deque([n])\n",
    "    while q:\n",
    "        current_pos = q.popleft()\n",
    "        if current_pos == k:\n",
    "            return visited[current_pos]\n",
    "        # 수빈이가 이동할 수 있는 위치 내에서 탐색\n",
    "        for next_pos in (current_pos-1, current_pos+1, 2*current_pos):\n",
    "            # 다음 위치가 그래프의 범위를 벗어나지 않으면서 아직 방문하지 않았다면\n",
    "            if 0 <= next_pos < (max_n+1) and not visited[next_pos]:\n",
    "                # 방문처리 & 걸리는 시간 + 1\n",
    "                visited[next_pos] = visited[current_pos] + 1\n",
    "                q.append(next_pos)\n",
    "\n",
    "print(bfs())"
   ]
  },
  {
   "attachments": {},
   "cell_type": "markdown",
   "metadata": {},
   "source": [
    "-> visited를 생성할 때 N과 K의 최대값인 100000 만큼을 따로 변수로 설정"
   ]
  }
 ],
 "metadata": {
  "kernelspec": {
   "display_name": "base",
   "language": "python",
   "name": "python3"
  },
  "language_info": {
   "codemirror_mode": {
    "name": "ipython",
    "version": 3
   },
   "file_extension": ".py",
   "mimetype": "text/x-python",
   "name": "python",
   "nbconvert_exporter": "python",
   "pygments_lexer": "ipython3",
   "version": "3.9.7 (default, Sep 16 2021, 08:50:36) \n[Clang 10.0.0 ]"
  },
  "orig_nbformat": 4,
  "vscode": {
   "interpreter": {
    "hash": "023ab38ef701cca529efce9465407c28b5ba779ced3f1a89865b89edb313b240"
   }
  }
 },
 "nbformat": 4,
 "nbformat_minor": 2
}

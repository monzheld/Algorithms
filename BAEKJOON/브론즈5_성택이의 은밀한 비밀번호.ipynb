{
 "cells": [
  {
   "attachments": {},
   "cell_type": "markdown",
   "metadata": {},
   "source": [
    "25372번\n",
    "\n",
    "[문제](https://www.acmicpc.net/problem/25372)"
   ]
  },
  {
   "attachments": {},
   "cell_type": "markdown",
   "metadata": {},
   "source": [
    "### 문자열"
   ]
  },
  {
   "attachments": {},
   "cell_type": "markdown",
   "metadata": {},
   "source": [
    "- 주어진 문자열이 현관문 비밀번호에 사용 가능한지 알아내기\n",
    "- 사용할 수 있는 비밀번호의 규칙\n",
    "    - 비밀번호는 **6자리 이상 9자리 이하**여야 함\n",
    "- 예를 들어, 123124는 올바른 비밀번호이고, 1202727161은 잘못된 비밀번호\n",
    "- 문자열이 주어졌을 때 현관문 비밀번호로 사용할 수 있는지 판단"
   ]
  },
  {
   "attachments": {},
   "cell_type": "markdown",
   "metadata": {},
   "source": [
    "- 입력\n",
    "    - 첫째 줄에 문자열의 총개수 $N$이 주어짐 ( $1\\leq N \\leq 1\\,000$ )\n",
    "    - 둘째 줄부터 $N$개의 줄에 걸쳐 숫자, 영어 대소문자로만 구성된 문자열이 주어짐\n",
    "    - 문자열의 길이는 1자리 이상 20자리 이하\n",
    "- 출력\n",
    "    - 줄마다 **사용할 수 있는 비밀번호면 yes, 그렇지 않으면 no**를 출력\n",
    "\n",
    "- 시간 제한: 1초\n",
    "- 메모리 제한: 1024 MB"
   ]
  },
  {
   "cell_type": "code",
   "execution_count": null,
   "metadata": {},
   "outputs": [],
   "source": [
    "\"\"\"\n",
    "입출력 예시)\n",
    "\n",
    "3\n",
    "1245125\n",
    "asdij\n",
    "120318739721\n",
    "        -> yes\n",
    "           no\n",
    "           no\n",
    "\"\"\""
   ]
  },
  {
   "attachments": {},
   "cell_type": "markdown",
   "metadata": {},
   "source": [
    "## 2023/03/09"
   ]
  },
  {
   "cell_type": "code",
   "execution_count": null,
   "metadata": {},
   "outputs": [],
   "source": [
    "## 의사코드 ##\n",
    "\n",
    "# 6자리 이상 9자리 이하만 비밀번호로 사용 가능\n",
    "\n",
    "# if len(s) >= 6 and len(s) <= 9:\n",
    "#     print('yes')\n",
    "# else:\n",
    "#     print('no')"
   ]
  },
  {
   "attachments": {},
   "cell_type": "markdown",
   "metadata": {},
   "source": [
    "### 통과)"
   ]
  },
  {
   "cell_type": "code",
   "execution_count": 1,
   "metadata": {},
   "outputs": [
    {
     "name": "stdout",
     "output_type": "stream",
     "text": [
      "yes\n",
      "no\n",
      "no\n"
     ]
    }
   ],
   "source": [
    "n = int(input())\n",
    "\n",
    "for _ in range(n):\n",
    "    s = input()\n",
    "    if len(s) >= 6 and len(s) <= 9:\n",
    "        print('yes')\n",
    "    else:\n",
    "        print('no')"
   ]
  }
 ],
 "metadata": {
  "kernelspec": {
   "display_name": "base",
   "language": "python",
   "name": "python3"
  },
  "language_info": {
   "codemirror_mode": {
    "name": "ipython",
    "version": 3
   },
   "file_extension": ".py",
   "mimetype": "text/x-python",
   "name": "python",
   "nbconvert_exporter": "python",
   "pygments_lexer": "ipython3",
   "version": "3.9.7"
  },
  "orig_nbformat": 4
 },
 "nbformat": 4,
 "nbformat_minor": 2
}

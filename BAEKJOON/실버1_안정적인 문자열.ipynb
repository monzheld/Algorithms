{
 "cells": [
  {
   "attachments": {},
   "cell_type": "markdown",
   "metadata": {},
   "source": [
    "4889번\n",
    "\n",
    "[문제](https://www.acmicpc.net/problem/4889)"
   ]
  },
  {
   "attachments": {},
   "cell_type": "markdown",
   "metadata": {},
   "source": [
    "### 탐욕(Greedy), 스택"
   ]
  },
  {
   "attachments": {},
   "cell_type": "markdown",
   "metadata": {},
   "source": [
    "- 여는 괄호와 닫는 괄호만으로 이루어진 문자열이 주어짐\n",
    "- 여기서 **안정적인 문자열을 만들기 위한 최소 연산의 수**를 구하려고 함\n",
    "- 안정적인 문자열의 정의\n",
    "    - 1) 빈 문자열은 안정적\n",
    "    - 2) S가 안정적이라면, {S}도 안정적인 문자열\n",
    "    - 3) S와 T가 안정적이라면, ST(두 문자열의 연결)도 안정적\n",
    "- ex) {}, {}{}, {{}{}}는 안정적인 문자열이지만, }{, {{}{, {}{는 안정적인 문자열이 아님\n",
    "- 문자열에 행할 수 있는 **연산은 여는 괄호를 닫는 괄호로 바꾸거나, 닫는 괄호를 여는 괄호로 바꾸는 것** 2가지"
   ]
  },
  {
   "attachments": {},
   "cell_type": "markdown",
   "metadata": {},
   "source": [
    "- 입력\n",
    "    - 입력은 여러 개의 데이터 세트로 이루어져 있음\n",
    "    - 각 데이터 세트는 한 줄로 이루어져 있음\n",
    "    - 줄에는 여는 괄호와 닫는 괄호만으로 이루어진 문자열이 주어짐\n",
    "    - 문자열의 길이가 2000을 넘는 경우는 없고, 항상 길이는 짝수\n",
    "    - 입력의 마지막 줄은 '-'가 한 개 이상 주어짐\n",
    "- 출력\n",
    "    - 각 테스트 케이스에 대해서, **테스트 케이스 번호와 입력으로 주어진 문자열을 안정적으로 바꾸는데 필요한 최소 연산의 수**를 출력\n",
    "\n",
    "- 시간 제한: 1초\n",
    "- 메모리 제한: 128 MB"
   ]
  },
  {
   "cell_type": "code",
   "execution_count": null,
   "metadata": {},
   "outputs": [],
   "source": [
    "\"\"\"\n",
    "입출력 예시)\n",
    "\n",
    "}{\n",
    "{}{}{}\n",
    "{{{}\n",
    "---\n",
    "    -> 1. 2\n",
    "       2. 0\n",
    "       3. 1\n",
    "\"\"\""
   ]
  },
  {
   "attachments": {},
   "cell_type": "markdown",
   "metadata": {},
   "source": [
    "## 2023/02/12"
   ]
  },
  {
   "cell_type": "code",
   "execution_count": null,
   "metadata": {},
   "outputs": [],
   "source": [
    "## 의사코드 ##\n",
    "\n",
    "# 스택 활용\n",
    "# for s in string:\n",
    "    # s가 '{'인 경우\n",
    "    # stack.append(s)\n",
    "    # s가 '{'인 경우,\n",
    "    # 1) 스택이 비어있는 경우, \n",
    "        # 연산 수 + 1\n",
    "        # '{'로 바꿔서 스택.append()\n",
    "    # 2) 스택이 비어있지 않는 경우, \n",
    "        # 스택.pop()\n",
    "\n",
    "# 최소 연산의 수 = ans + stack에 남아있는 원소의 개수 나누기 2"
   ]
  },
  {
   "attachments": {},
   "cell_type": "markdown",
   "metadata": {},
   "source": [
    "### 통과)"
   ]
  },
  {
   "cell_type": "code",
   "execution_count": 3,
   "metadata": {},
   "outputs": [
    {
     "name": "stdout",
     "output_type": "stream",
     "text": [
      "1. 2\n",
      "2. 0\n",
      "3. 1\n"
     ]
    }
   ],
   "source": [
    "idx = 0 \n",
    "while True:\n",
    "    string = input()\n",
    "    if '-' in string:\n",
    "        break\n",
    "\n",
    "    idx += 1 # 인덱스 + 1\n",
    "    stack = [] \n",
    "    ans = 0 # 안정적으로 바꾸는데 필요한 최소 연산의 수 \n",
    "\n",
    "    for s in string:\n",
    "        # 현재 문자가 '{'인 경우, stack에 삽입\n",
    "        if s == '{':\n",
    "            stack.append(s)\n",
    "        elif s == '}':\n",
    "            # stack이 비어있고 현재 문자가 '}'인 경우, 연산 수행 \n",
    "            if len(stack) == 0:\n",
    "                ans += 1\n",
    "                stack.append('{')\n",
    "            # stack이 비어있지 않고 현재 문자가 '}'인 경우, stack의 마지막 원소 꺼냄\n",
    "            else:\n",
    "                stack.pop()\n",
    "\n",
    "    # 최소 연산의 수 = ans + stack에 남아있는 원소의 개수 나누기 2\n",
    "    ans += len(stack) // 2\n",
    "\n",
    "    print(f\"{idx}.\", ans)"
   ]
  },
  {
   "cell_type": "code",
   "execution_count": null,
   "metadata": {},
   "outputs": [],
   "source": [
    "# 과정 확인"
   ]
  },
  {
   "cell_type": "code",
   "execution_count": 7,
   "metadata": {},
   "outputs": [
    {
     "name": "stdout",
     "output_type": "stream",
     "text": [
      "string: }{\n",
      "s: }\n",
      "stack: ['{'] \n",
      "\n",
      "s: {\n",
      "stack: ['{', '{'] \n",
      "\n",
      "최종 stack: ['{', '{']\n",
      "len(stack)//2: 1\n",
      "1. 2\n",
      "--------------------------------------------------\n",
      "string: {}{}{}\n",
      "s: {\n",
      "stack: ['{'] \n",
      "\n",
      "s: }\n",
      "pop될 문자: {\n",
      "stack: [] \n",
      "\n",
      "s: {\n",
      "stack: ['{'] \n",
      "\n",
      "s: }\n",
      "pop될 문자: {\n",
      "stack: [] \n",
      "\n",
      "s: {\n",
      "stack: ['{'] \n",
      "\n",
      "s: }\n",
      "pop될 문자: {\n",
      "stack: [] \n",
      "\n",
      "최종 stack: []\n",
      "len(stack)//2: 0\n",
      "2. 0\n",
      "--------------------------------------------------\n",
      "string: {{{}\n",
      "s: {\n",
      "stack: ['{'] \n",
      "\n",
      "s: {\n",
      "stack: ['{', '{'] \n",
      "\n",
      "s: {\n",
      "stack: ['{', '{', '{'] \n",
      "\n",
      "s: }\n",
      "pop될 문자: {\n",
      "stack: ['{', '{'] \n",
      "\n",
      "최종 stack: ['{', '{']\n",
      "len(stack)//2: 1\n",
      "3. 1\n",
      "--------------------------------------------------\n",
      "string: ---\n"
     ]
    }
   ],
   "source": [
    "idx = 0 \n",
    "while True:\n",
    "    string = input()\n",
    "    print('string:', string)\n",
    "    if '-' in string:\n",
    "        break\n",
    "\n",
    "    idx += 1 # 인덱스 + 1\n",
    "    stack = [] \n",
    "    ans = 0 # 안정적으로 바꾸는데 필요한 최소 연산의 수 \n",
    "\n",
    "    for s in string:\n",
    "        print('s:', s)\n",
    "        # 현재 문자가 '{'인 경우, stack에 삽입\n",
    "        if s == '{':\n",
    "            stack.append(s)\n",
    "            print('stack:', stack, '\\n')\n",
    "        elif s == '}':\n",
    "            # stack이 비어있고 현재 문자가 '}'인 경우, 연산 수행 \n",
    "            if len(stack) == 0:\n",
    "                ans += 1\n",
    "                stack.append('{')\n",
    "                print('stack:', stack, '\\n')\n",
    "            # stack이 비어있지 않고 현재 문자가 '}'인 경우, stack의 마지막 원소 꺼냄\n",
    "            else:\n",
    "                print('pop될 문자:', stack[-1])\n",
    "                stack.pop()\n",
    "                print('stack:', stack, '\\n')\n",
    "\n",
    "    # 최소 연산의 수 = ans + stack에 남아있는 원소의 개수 나누기 2\n",
    "    print('최종 stack:', stack)\n",
    "    print('len(stack)//2:', len(stack) // 2)\n",
    "    ans += len(stack) // 2\n",
    "\n",
    "    print(f\"{idx}.\", ans)\n",
    "    print('-'*50)"
   ]
  }
 ],
 "metadata": {
  "kernelspec": {
   "display_name": "cp2",
   "language": "python",
   "name": "python3"
  },
  "language_info": {
   "codemirror_mode": {
    "name": "ipython",
    "version": 3
   },
   "file_extension": ".py",
   "mimetype": "text/x-python",
   "name": "python",
   "nbconvert_exporter": "python",
   "pygments_lexer": "ipython3",
   "version": "3.9.12"
  },
  "orig_nbformat": 4,
  "vscode": {
   "interpreter": {
    "hash": "5ca59c31ddc1bb1d3e926feef50b5ca0d1eacb2093eee1a1a79c0269dbb49758"
   }
  }
 },
 "nbformat": 4,
 "nbformat_minor": 2
}

{
 "cells": [
  {
   "attachments": {},
   "cell_type": "markdown",
   "metadata": {},
   "source": [
    "12605번\n",
    "\n",
    "[문제](https://www.acmicpc.net/problem/12605)"
   ]
  },
  {
   "attachments": {},
   "cell_type": "markdown",
   "metadata": {},
   "source": [
    "### 문자열"
   ]
  },
  {
   "attachments": {},
   "cell_type": "markdown",
   "metadata": {},
   "source": [
    "- 스페이스로 띄어쓰기 된 단어들의 리스트가 주어질때, 단어들을 반대 순서로 뒤집기\n",
    "- 각 라인은 w개의 영단어로 이루어져 있으며, 총 L개의 알파벳을 가짐\n",
    "- 각 행은 알파벳과 스페이스로만 이루어져 있음\n",
    "- 단어 사이에는 하나의 스페이스만 들어감"
   ]
  },
  {
   "attachments": {},
   "cell_type": "markdown",
   "metadata": {},
   "source": [
    "- 입력\n",
    "    - 첫 행은 N이며, 전체 케이스의 개수\n",
    "    - N개의 케이스들이 이어지는데, 각 케이스는 스페이스로 띄어진 단어들\n",
    "    - 스페이스는 라인의 처음과 끝에는 나타나지 않음\n",
    "    - N = 5\n",
    "    - 1 ≤ L ≤ 25\n",
    "- 출력\n",
    "    - 각 케이스에 대해서, 케이스 번호가 x일때  **\"Case #x: \" 를 출력한 후 그 후에 이어서 단어들을 반대 순서로** 출력\n",
    "\n",
    "- 시간 제한: 5초\n",
    "- 메모리 제한: 512 MB"
   ]
  },
  {
   "cell_type": "code",
   "execution_count": null,
   "metadata": {},
   "outputs": [],
   "source": [
    "\"\"\"\n",
    "입출력 예시)\n",
    "\n",
    "3\n",
    "this is a test\n",
    "foobar\n",
    "all your base\n",
    "\n",
    "        -> Case #1: test a is this\n",
    "           Case #2: foobar\n",
    "           Case #3: base your all\n",
    "\"\"\""
   ]
  },
  {
   "attachments": {},
   "cell_type": "markdown",
   "metadata": {},
   "source": [
    "## 2023/02/01"
   ]
  },
  {
   "cell_type": "code",
   "execution_count": null,
   "metadata": {},
   "outputs": [],
   "source": [
    "## 의사코드 ##\n",
    "\n",
    "# for i in range(1, n+1):\n",
    "#     string = input().split()\n",
    "#     print(f\"Case #{i}: \", ' '.join(string[::-1]))"
   ]
  },
  {
   "attachments": {},
   "cell_type": "markdown",
   "metadata": {},
   "source": [
    "### 1) "
   ]
  },
  {
   "cell_type": "code",
   "execution_count": 6,
   "metadata": {},
   "outputs": [
    {
     "name": "stdout",
     "output_type": "stream",
     "text": [
      "Case #1:  test a is this\n"
     ]
    }
   ],
   "source": [
    "n = int(input())\n",
    "\n",
    "for i in range(1, n+1):\n",
    "    string = input().split()\n",
    "    # 순서를 거꾸로 출력, 공백으로 join\n",
    "    print(f\"Case #{i}: \", ' '.join(string[::-1]))"
   ]
  },
  {
   "attachments": {},
   "cell_type": "markdown",
   "metadata": {},
   "source": [
    "-> 출력 형식이 잘못되었다고 뜸"
   ]
  },
  {
   "attachments": {},
   "cell_type": "markdown",
   "metadata": {},
   "source": [
    "\"Case #{i}: \" 에서 공백을 하나 더 추가해서 틀림"
   ]
  },
  {
   "attachments": {},
   "cell_type": "markdown",
   "metadata": {},
   "source": [
    "### 통과)"
   ]
  },
  {
   "cell_type": "code",
   "execution_count": 7,
   "metadata": {},
   "outputs": [
    {
     "name": "stdout",
     "output_type": "stream",
     "text": [
      "Case #1: test a is this\n"
     ]
    }
   ],
   "source": [
    "n = int(input())\n",
    "\n",
    "for i in range(1, n+1):\n",
    "    string = input().split()\n",
    "    # 순서를 거꾸로 출력, 공백으로 join\n",
    "    print(f\"Case #{i}:\", ' '.join(string[::-1]))"
   ]
  }
 ],
 "metadata": {
  "kernelspec": {
   "display_name": "cp2",
   "language": "python",
   "name": "python3"
  },
  "language_info": {
   "codemirror_mode": {
    "name": "ipython",
    "version": 3
   },
   "file_extension": ".py",
   "mimetype": "text/x-python",
   "name": "python",
   "nbconvert_exporter": "python",
   "pygments_lexer": "ipython3",
   "version": "3.9.12"
  },
  "orig_nbformat": 4,
  "vscode": {
   "interpreter": {
    "hash": "5ca59c31ddc1bb1d3e926feef50b5ca0d1eacb2093eee1a1a79c0269dbb49758"
   }
  }
 },
 "nbformat": 4,
 "nbformat_minor": 2
}

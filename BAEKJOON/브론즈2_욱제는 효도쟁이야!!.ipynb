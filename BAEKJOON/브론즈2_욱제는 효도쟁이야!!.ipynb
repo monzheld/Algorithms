{
 "cells": [
  {
   "attachments": {},
   "cell_type": "markdown",
   "metadata": {},
   "source": [
    "14487번\n",
    "\n",
    "[문제](https://www.acmicpc.net/problem/14487)"
   ]
  },
  {
   "attachments": {},
   "cell_type": "markdown",
   "metadata": {},
   "source": [
    "### 탐욕(Greedy)"
   ]
  },
  {
   "attachments": {},
   "cell_type": "markdown",
   "metadata": {},
   "source": [
    "- 욱제는 부모님을 모시고 코드게이트 섬을 관광하려고 함\n",
    "- 코드게이트 섬은 해안가를 따라 원형으로 마을들이 위치해있음\n",
    "- 임의의 A마을에서 임의의 B마을로 가기 위해서는 **왼쪽 또는 오른쪽 도로를 통해 해안가를 따라 섬을 돌아야** 함\n",
    "- 섬을 빙빙 도는 원형의 길 외에 다른 길은 존재하지 않음\n",
    "- 각 마을에서 마을까지의 이동비용이 주어질 때, 욱제가 **최소한의 이동비용으로 부모님을 모시고 섬의 모든 마을을 관광하려면 얼마의 이동비용을 준비해야하는지** 구하기"
   ]
  },
  {
   "attachments": {},
   "cell_type": "markdown",
   "metadata": {},
   "source": [
    "<img width=\"295\" alt=\"스크린샷 2023-02-16 22 03 23\" src=\"https://user-images.githubusercontent.com/93971420/219372374-bc6d8cec-bb92-4220-8c21-a22c1c08675a.png\">"
   ]
  },
  {
   "attachments": {},
   "cell_type": "markdown",
   "metadata": {},
   "source": [
    "- 입력\n",
    "    - 첫째 줄에 마을의 수 n이 주어짐 (1 ≤ n ≤ 50,000)\n",
    "    - 둘째 줄에 **i번째 마을과 i+1번째 마을의 이동비용 vi**가 n개 주어짐\n",
    "    - **n번째 vi는 n번째 마을과 1번째 마을의 이동비용**을 의미 (1 ≤ vi ≤ 1,000)\n",
    "- 출력\n",
    "    - 모든 마을을 관광하기 위해 필요한 최소 이동비용을 출력\n",
    "\n",
    "- 시간 제한: 2초\n",
    "- 메모리 제한: 512 MB"
   ]
  },
  {
   "cell_type": "code",
   "execution_count": null,
   "metadata": {},
   "outputs": [],
   "source": [
    "\"\"\"\n",
    "입출력 예시)\n",
    "\n",
    "(예제 입력 1) \n",
    "5\n",
    "1 6 5 2 4\n",
    "        -> 12\n",
    "\n",
    "(예제 입력 2)\n",
    "4\n",
    "100 100 100 101\n",
    "        -> 300\n",
    "\"\"\""
   ]
  },
  {
   "attachments": {},
   "cell_type": "markdown",
   "metadata": {},
   "source": [
    "## 2023/02/16"
   ]
  },
  {
   "cell_type": "code",
   "execution_count": null,
   "metadata": {},
   "outputs": [],
   "source": [
    "## 의사코드 ##\n",
    "\n",
    "# 모든 마을을 관광하기 위한 최소 이동비용\n",
    "# 마을은 원형으로 위치\n",
    "\n",
    "# vi(이동비용)가 가장 큰 경로의 i+1번째 마을부터 출발 \n",
    "# 최소 이동비용 => 전체 비용의 합 - 가장 큰 vi값"
   ]
  },
  {
   "cell_type": "code",
   "execution_count": null,
   "metadata": {},
   "outputs": [],
   "source": [
    "# n = 5\n",
    "# 1 6 5 2 4\n",
    "\n",
    "# v1 = 1 (1 -> 2)\n",
    "# v2 = 6 (2 -> 3)\n",
    "# v3 = 5 (3 -> 4)\n",
    "# v4 = 2 (4 -> 5)\n",
    "# v5 = 4 (5 -> 1)"
   ]
  },
  {
   "attachments": {},
   "cell_type": "markdown",
   "metadata": {},
   "source": [
    "<img width=\"666\" alt=\"스크린샷 2023-02-16 22 20 28\" src=\"https://user-images.githubusercontent.com/93971420/219375932-4b322021-8ab7-455a-b282-3d1059c18a6a.png\">"
   ]
  },
  {
   "cell_type": "code",
   "execution_count": null,
   "metadata": {},
   "outputs": [],
   "source": [
    "# 3 -> 4 -> 5 -> 1 -> 2\n",
    " \n",
    "# 5 + 2 + 4 + 1 \n",
    "# => 12"
   ]
  },
  {
   "attachments": {},
   "cell_type": "markdown",
   "metadata": {},
   "source": [
    "### 통과)"
   ]
  },
  {
   "cell_type": "code",
   "execution_count": 1,
   "metadata": {},
   "outputs": [
    {
     "name": "stdout",
     "output_type": "stream",
     "text": [
      "12\n"
     ]
    }
   ],
   "source": [
    "n = int(input())\n",
    "cost = list(map(int, input().split()))\n",
    "\n",
    "# 최소 이동비용 = 전체 이동비용의 합 - 가장 큰 이동비용\n",
    "print(sum(cost) - max(cost))"
   ]
  }
 ],
 "metadata": {
  "kernelspec": {
   "display_name": "cp2",
   "language": "python",
   "name": "python3"
  },
  "language_info": {
   "codemirror_mode": {
    "name": "ipython",
    "version": 3
   },
   "file_extension": ".py",
   "mimetype": "text/x-python",
   "name": "python",
   "nbconvert_exporter": "python",
   "pygments_lexer": "ipython3",
   "version": "3.9.12"
  },
  "orig_nbformat": 4,
  "vscode": {
   "interpreter": {
    "hash": "5ca59c31ddc1bb1d3e926feef50b5ca0d1eacb2093eee1a1a79c0269dbb49758"
   }
  }
 },
 "nbformat": 4,
 "nbformat_minor": 2
}

{
 "cells": [
  {
   "attachments": {},
   "cell_type": "markdown",
   "metadata": {},
   "source": [
    "2754번\n",
    "\n",
    "[문제](https://www.acmicpc.net/problem/2754)"
   ]
  },
  {
   "attachments": {},
   "cell_type": "markdown",
   "metadata": {},
   "source": [
    "### 문자열"
   ]
  },
  {
   "attachments": {},
   "cell_type": "markdown",
   "metadata": {},
   "source": [
    "- 어떤 사람의 C언어 성적이 주어졌을 때, 평점은 몇 점인지 출력하기\n",
    "- A+: 4.3, A0: 4.0, A-: 3.7\n",
    "- B+: 3.3, B0: 3.0, B-: 2.7\n",
    "- C+: 2.3, C0: 2.0, C-: 1.7\n",
    "- D+: 1.3, D0: 1.0, D-: 0.7\n",
    "- F: 0.0"
   ]
  },
  {
   "attachments": {},
   "cell_type": "markdown",
   "metadata": {},
   "source": [
    "- 입력\n",
    "    - 첫째 줄에 C언어 성적이 주어짐\n",
    "    - 성적은 문제에서 설명한 13가지 중 하나\n",
    "- 출력\n",
    "    - 첫째 줄에 C언어 평점을 출력\n",
    "\n",
    "- 시간 제한: 1초\n",
    "- 메모리 제한: 128 MB"
   ]
  },
  {
   "cell_type": "code",
   "execution_count": null,
   "metadata": {},
   "outputs": [],
   "source": [
    "\"\"\"\n",
    "입출력 예시)\n",
    "\n",
    "A0 -> 4.0\n",
    "\"\"\""
   ]
  },
  {
   "attachments": {},
   "cell_type": "markdown",
   "metadata": {},
   "source": [
    "## 2023/03/15"
   ]
  },
  {
   "cell_type": "code",
   "execution_count": null,
   "metadata": {},
   "outputs": [],
   "source": [
    "## 의사코드 ##\n",
    "\n",
    "# 성적의 앞글자와 뒷글자, 평점의 앞글자와 뒷글자로 나눠서 보기\n",
    "\n",
    "# + -> .3\n",
    "# 0 -> .0\n",
    "# - -> .7\n",
    "\n",
    "# A ~ D -> 4 ~ 1\n",
    "# F = 0.0"
   ]
  },
  {
   "attachments": {},
   "cell_type": "markdown",
   "metadata": {},
   "source": [
    "### 통과)"
   ]
  },
  {
   "cell_type": "code",
   "execution_count": 14,
   "metadata": {},
   "outputs": [
    {
     "name": "stdout",
     "output_type": "stream",
     "text": [
      "4.0\n"
     ]
    }
   ],
   "source": [
    "grade = input()\n",
    "score = 4.3 # 만점에서 시작\n",
    "\n",
    "for i in range(2):\n",
    "    # 성적의 앞글자\n",
    "    if i == 0:\n",
    "        if grade[i] == 'A':\n",
    "            score = score\n",
    "        elif grade[0] == 'B':\n",
    "            score -= 1.0\n",
    "        elif grade[i] == 'C':\n",
    "            score -= 2.0\n",
    "        elif grade[i] == 'D':\n",
    "            score -= 3.0\n",
    "        # F인 경우, 평점은 0.0\n",
    "        else:\n",
    "            score = 0.0\n",
    "            break\n",
    "    # 성적의 뒷글자\n",
    "    else:\n",
    "        if grade[i] == '0':\n",
    "            score -= 0.3\n",
    "        elif grade[i] == '-':\n",
    "            score -= 0.6\n",
    "\n",
    "# 소수 두 번째 자리에서 반올림\n",
    "print(round(score, 1))"
   ]
  }
 ],
 "metadata": {
  "kernelspec": {
   "display_name": "base",
   "language": "python",
   "name": "python3"
  },
  "language_info": {
   "codemirror_mode": {
    "name": "ipython",
    "version": 3
   },
   "file_extension": ".py",
   "mimetype": "text/x-python",
   "name": "python",
   "nbconvert_exporter": "python",
   "pygments_lexer": "ipython3",
   "version": "3.9.7"
  },
  "orig_nbformat": 4
 },
 "nbformat": 4,
 "nbformat_minor": 2
}

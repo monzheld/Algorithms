{
 "cells": [
  {
   "attachments": {},
   "cell_type": "markdown",
   "metadata": {},
   "source": [
    "14726번\n",
    "\n",
    "[문제](https://www.acmicpc.net/problem/14726)"
   ]
  },
  {
   "attachments": {},
   "cell_type": "markdown",
   "metadata": {},
   "source": [
    "### 문자열"
   ]
  },
  {
   "attachments": {},
   "cell_type": "markdown",
   "metadata": {},
   "source": [
    "- 신용카드는 총 16자리의 숫자로 구성되어 있음\n",
    "- 카드 번호가 유효 한지 유효하지 않은 지 검사하는 Luhn 공식\n",
    "    - 1) 신용카드의 16자리 숫자에서 맨 우측 수부터 세어 홀수 번째 수는 그대로 두고, 짝수 번째 수를 2배로 만듦\n",
    "    - 2) 2배로 만든 짝수 번째 수가 10 이상인 경우, 각 자리의 숫자를 더하고 그 수로 대체함\n",
    "    - 3) 이와 같이 얻은 모든 자리의 수를 더함\n",
    "    - 4) 그 합이 10으로 나뉘면 “정당한 번호”(유효)이고 그렇지 않으면 “부당한 번호”(유효하지 않음)로 판정\n",
    "- 다음 공식을 이용해 주어진 신용카드의 번호가 유효한지, 유효하지 않은 지 판단하기"
   ]
  },
  {
   "attachments": {},
   "cell_type": "markdown",
   "metadata": {},
   "source": [
    "- 입력\n",
    "    - 첫째 줄에 테스트 케이스의 수 T(1 ≤ T ≤ 1000)이 주어짐\n",
    "    - 그 다음 줄부터 테스트 케이스에 해당하는 신용카드 번호가 주어짐\n",
    "- 출력\n",
    "    - 신용카드의 번호가 **유효하면 “T”, 유효하지 않으면 “F”**를 한 줄 씩 출력\n",
    "\n",
    "- 시간 제한: 1초\n",
    "- 메모리 제한: 128 MB"
   ]
  },
  {
   "cell_type": "code",
   "execution_count": null,
   "metadata": {},
   "outputs": [],
   "source": [
    "\"\"\"\n",
    "입출력 예시)\n",
    "\n",
    "3\n",
    "2720992711828767\n",
    "3444063910462763\n",
    "6011733895106094\n",
    "            -> T\n",
    "               F\n",
    "               T\n",
    "\"\"\""
   ]
  },
  {
   "attachments": {},
   "cell_type": "markdown",
   "metadata": {},
   "source": [
    "## 2023/03/20"
   ]
  },
  {
   "cell_type": "code",
   "execution_count": null,
   "metadata": {},
   "outputs": [],
   "source": [
    "## 의사코드 ##\n",
    "\n",
    "# 맨 우측 수부터 세어 홀수 번째 수는 그대로 두고, 짝수 번째 수를 2배로\n",
    "# => 왼쪽부터 홀수 번째 수를 2배 \n",
    "# 카드 번호는 총 16자리 \n",
    "\n",
    "# card = list(str(input()))\n",
    "# for i in range(0, 15, 2):\n",
    "#     card[i] = str(int(card[i]) * 2)\n",
    "#     # 2배로 만든 짝수 번째 수가 10 이상인 경우, 각 자리의 숫자를 더하고 그 수로 대체\n",
    "#     if int(card[i]) >= 10:\n",
    "#         card[i] = str(sum(map(int, str(card[i]))))\n",
    "\n",
    "# 모든 자리의 수 더하기\n",
    "# total = sum(map(int, card))\n",
    "\n",
    "# 그 합이 10으로 나뉘면 “정당한 번호”(유효)이고 그렇지 않으면 “부당한 번호”(유효하지 않음)\n",
    "# print(\"T\" if total % 10 == 0 else \"F\")\n"
   ]
  },
  {
   "attachments": {},
   "cell_type": "markdown",
   "metadata": {},
   "source": [
    "### 통과)"
   ]
  },
  {
   "cell_type": "code",
   "execution_count": 49,
   "metadata": {},
   "outputs": [
    {
     "name": "stdout",
     "output_type": "stream",
     "text": [
      "T\n",
      "F\n",
      "T\n"
     ]
    }
   ],
   "source": [
    "t = int(input())\n",
    "for _ in range(t):\n",
    "    card = list(str(input()))\n",
    "    # 16자리 숫자에서 맨 우측 수부터 세어 홀수 번째 수는 그대로 두고, 짝수 번째 수를 2배로 만들기 = 왼쪽부터 홀수 번째 \n",
    "    for i in range(0, 15, 2):\n",
    "        card[i] = str(int(card[i]) * 2)\n",
    "        # 2배로 만든 짝수 번째 수가 10 이상인 경우, 각 자리의 숫자를 더하고 그 수로 대체\n",
    "        if int(card[i]) >= 10:\n",
    "            card[i] = str(sum(map(int, str(card[i]))))\n",
    "    # 모든 자리의 수 더하기\n",
    "    total = sum(map(int, card))\n",
    "    # 그 합이 10으로 나뉘면 “정당한 번호”(유효)이고 그렇지 않으면 “부당한 번호”(유효하지 않음)\n",
    "    print(\"T\" if total % 10 == 0 else \"F\")"
   ]
  },
  {
   "cell_type": "code",
   "execution_count": null,
   "metadata": {},
   "outputs": [],
   "source": [
    "# 과정 확인"
   ]
  },
  {
   "cell_type": "code",
   "execution_count": 51,
   "metadata": {},
   "outputs": [],
   "source": [
    "card = list('2720992711828767')"
   ]
  },
  {
   "cell_type": "code",
   "execution_count": 52,
   "metadata": {},
   "outputs": [
    {
     "name": "stdout",
     "output_type": "stream",
     "text": [
      "card[i]: 2\n",
      "replaced card[i]: 4 \n",
      "\n",
      "card[i]: 2\n",
      "replaced card[i]: 4 \n",
      "\n",
      "card[i]: 9\n",
      "replaced card[i]: 18 \n",
      "\n",
      "sum replaced card[i]: 9 \n",
      "\n",
      "card[i]: 2\n",
      "replaced card[i]: 4 \n",
      "\n",
      "card[i]: 1\n",
      "replaced card[i]: 2 \n",
      "\n",
      "card[i]: 8\n",
      "replaced card[i]: 16 \n",
      "\n",
      "sum replaced card[i]: 7 \n",
      "\n",
      "card[i]: 8\n",
      "replaced card[i]: 16 \n",
      "\n",
      "sum replaced card[i]: 7 \n",
      "\n",
      "card[i]: 6\n",
      "replaced card[i]: 12 \n",
      "\n",
      "sum replaced card[i]: 3 \n",
      "\n",
      "final card num: ['4', '7', '4', '0', '9', '9', '4', '7', '2', '1', '7', '2', '7', '7', '3', '7']\n",
      "total: 80\n",
      "T\n"
     ]
    }
   ],
   "source": [
    "# 16자리 숫자에서 맨 우측 수부터 세어 홀수 번째 수는 그대로 두고, 짝수 번째 수를 2배로 만들기\n",
    "for i in range(0, 15, 2):\n",
    "    print('card[i]:', card[i])\n",
    "    card[i] = str(int(card[i]) * 2)\n",
    "    print('replaced card[i]:', card[i], '\\n')\n",
    "    # 2배로 만든 짝수 번째 수가 10 이상인 경우, 각 자리의 숫자를 더하고 그 수로 대체\n",
    "    if int(card[i]) >= 10:\n",
    "        card[i] = str(sum(map(int, str(card[i]))))\n",
    "        print('sum replaced card[i]:', card[i], '\\n')\n",
    "print('final card num:', card)\n",
    "# 모든 자리의 수 더하기\n",
    "total = sum(map(int, card))\n",
    "print('total:', total)\n",
    "# 그 합이 10으로 나뉘면 “정당한 번호”(유효)이고 그렇지 않으면 “부당한 번호”(유효하지 않음)\n",
    "print(\"T\" if total % 10 == 0 else \"F\")"
   ]
  }
 ],
 "metadata": {
  "kernelspec": {
   "display_name": "base",
   "language": "python",
   "name": "python3"
  },
  "language_info": {
   "codemirror_mode": {
    "name": "ipython",
    "version": 3
   },
   "file_extension": ".py",
   "mimetype": "text/x-python",
   "name": "python",
   "nbconvert_exporter": "python",
   "pygments_lexer": "ipython3",
   "version": "3.9.7"
  },
  "orig_nbformat": 4
 },
 "nbformat": 4,
 "nbformat_minor": 2
}

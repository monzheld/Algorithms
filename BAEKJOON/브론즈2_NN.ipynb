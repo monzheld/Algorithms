{
 "cells": [
  {
   "attachments": {},
   "cell_type": "markdown",
   "metadata": {},
   "source": [
    "11944번\n",
    "\n",
    "[문제](https://www.acmicpc.net/problem/11944)"
   ]
  },
  {
   "attachments": {},
   "cell_type": "markdown",
   "metadata": {},
   "source": [
    "### 문자열"
   ]
  },
  {
   "attachments": {},
   "cell_type": "markdown",
   "metadata": {},
   "source": [
    "- N을 N번 출력하기\n",
    "- 다만, **답이 길어지는 경우 답의 앞 M자리만** 출력"
   ]
  },
  {
   "attachments": {},
   "cell_type": "markdown",
   "metadata": {},
   "source": [
    "- 입력\n",
    "    - 첫 번째 줄에는 N, M이 주어짐 (1 ≤ N, M ≤ 2016)\n",
    "- 출력\n",
    "    - N을 N번 출력\n",
    "    - 만약 답이 길어지면 답의 앞 M자리를 출력\n",
    "\n",
    "- 시간 제한: 1초\n",
    "- 메모리 제한: 32 MB"
   ]
  },
  {
   "cell_type": "code",
   "execution_count": null,
   "metadata": {},
   "outputs": [],
   "source": [
    "\"\"\"\n",
    "입출력 예시)\n",
    "\n",
    "20 16\n",
    "        -> 2020202020202020\n",
    "\"\"\""
   ]
  },
  {
   "attachments": {},
   "cell_type": "markdown",
   "metadata": {},
   "source": [
    "## 2023/06/03"
   ]
  },
  {
   "cell_type": "code",
   "execution_count": null,
   "metadata": {},
   "outputs": [],
   "source": [
    "## 의사코드 ##\n",
    "\n",
    "# 답이 길어지면 답의 앞 M자리만 출력\n",
    "# -> N을 N번 출력한 게 M보다 길어지면"
   ]
  },
  {
   "attachments": {},
   "cell_type": "markdown",
   "metadata": {},
   "source": [
    "### 통과)"
   ]
  },
  {
   "cell_type": "code",
   "execution_count": 3,
   "metadata": {},
   "outputs": [
    {
     "name": "stdout",
     "output_type": "stream",
     "text": [
      "2020202020202020\n"
     ]
    }
   ],
   "source": [
    "n, m = input().split()\n",
    "\n",
    "# n을 n번 출력\n",
    "ans = str(n)*int(n)\n",
    "\n",
    "# 답이 길어지만 답의 앞 M자리만 출력\n",
    "if len(ans) > int(m):\n",
    "    ans = ans[:int(m)]\n",
    "\n",
    "print(ans)"
   ]
  }
 ],
 "metadata": {
  "kernelspec": {
   "display_name": "base",
   "language": "python",
   "name": "python3"
  },
  "language_info": {
   "codemirror_mode": {
    "name": "ipython",
    "version": 3
   },
   "file_extension": ".py",
   "mimetype": "text/x-python",
   "name": "python",
   "nbconvert_exporter": "python",
   "pygments_lexer": "ipython3",
   "version": "3.9.7"
  },
  "orig_nbformat": 4
 },
 "nbformat": 4,
 "nbformat_minor": 2
}

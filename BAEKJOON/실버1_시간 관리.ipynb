{
 "cells": [
  {
   "attachments": {},
   "cell_type": "markdown",
   "metadata": {},
   "source": [
    "1263번\n",
    "\n",
    "[문제](https://www.acmicpc.net/problem/1263)"
   ]
  },
  {
   "attachments": {},
   "cell_type": "markdown",
   "metadata": {},
   "source": [
    "### 탐욕(Greedy)"
   ]
  },
  {
   "attachments": {},
   "cell_type": "markdown",
   "metadata": {},
   "source": [
    "- 진영이는 하루에 해야 할 일이 총 N개가 있고 이 일들을 편하게 1번부터 N번까지 차례대로 번호를 붙였음\n",
    "- 명단에서 i번째 일은 일을 처리하는데 정확히 **Ti 시간이 걸리고 Si 시 내에 이 일을 처리하여야 한다**는 것을 담고 있음\n",
    "- 진영이는 0시부터 활동을 시작할 수 있고, 두 개 이상의 일을 같은 시간에 처리할 수 없음\n",
    "- 진영이가 바라는 점은 최대한 늦잠을 자는 것\n",
    "- **일들은 모두 마감시간 내에 처리할 수 있는 범위 내에서 최대한 늦게 일을 시작할 수 있는 시간이 몇 시인지** 알아내기 "
   ]
  },
  {
   "attachments": {},
   "cell_type": "markdown",
   "metadata": {},
   "source": [
    "- 입력\n",
    "    - 첫째 줄에 일의 수 N이 입력되고 다음 N개의 줄에 대해 i+1번째 줄에는 i번째 일에 대한 Ti와 Si가 입력\n",
    "    - 1 ≤ N ≤ 1,000\n",
    "    - 1 ≤ Ti ≤ 1,000\n",
    "    - 1 ≤ Si ≤ 1,000,000\n",
    "- 출력\n",
    "    - 진영이가 **일을 모두 끝마칠 수 있는 가장 늦은 시간**을 출력\n",
    "    - 만약 **0시부터 시작하여도 일을 끝마칠 수 없다면 -1**을 출력\n",
    "\n",
    "- 시간 제한: 2초\n",
    "- 메모리 제한: 128 MB\n"
   ]
  },
  {
   "cell_type": "code",
   "execution_count": null,
   "metadata": {},
   "outputs": [],
   "source": [
    "\"\"\"\n",
    "입출력 예시)\n",
    "\n",
    "4\n",
    "3 5\n",
    "8 14\n",
    "5 20\n",
    "1 16\n",
    "    -> 2\n",
    "\"\"\""
   ]
  },
  {
   "attachments": {},
   "cell_type": "markdown",
   "metadata": {},
   "source": [
    "## 2023/02/13"
   ]
  },
  {
   "cell_type": "code",
   "execution_count": null,
   "metadata": {},
   "outputs": [],
   "source": [
    "## 의사코드 ##\n",
    "\n",
    "# 걸리는 시간(Ti) / 마감 시간(Si)\n",
    "\n",
    "# 마감 시간이 빠른 순서대로 정렬\n",
    "# -> li.sort(key=lambda x:x[1])\n",
    "\n",
    "# 최대한 늦게 일을 시작할 수 있는 시간 = 정렬한 리스트[0]의 마감 시간 - 걸리는 시간\n",
    "# 0시부터 시작하여도 일을 끝마칠 수 없다면 -1 "
   ]
  },
  {
   "attachments": {},
   "cell_type": "markdown",
   "metadata": {},
   "source": [
    "### 1)"
   ]
  },
  {
   "cell_type": "code",
   "execution_count": 5,
   "metadata": {},
   "outputs": [
    {
     "name": "stdout",
     "output_type": "stream",
     "text": [
      "2\n"
     ]
    }
   ],
   "source": [
    "n = int(input())\n",
    "li = []\n",
    "for _ in range(n):\n",
    "    t, s = map(int, input().split())\n",
    "    li.append((t, s))\n",
    "\n",
    "# 마감 시간이 빠른 순서대로 정렬\n",
    "li.sort(key=lambda x:x[1])\n",
    "\n",
    "# 최대한 늦게 일을 시작할 수 있는 시간\n",
    "ans = li[0][1] - li[0][0] # 마감 시간이 제일 빠른 일의 마감 시간 - 걸리는 시간\n",
    "\n",
    "# 0시부터 시작해도 일을 끝마칠 수 없다면 -1 \n",
    "print(-1 if ans < 0 else ans)"
   ]
  },
  {
   "attachments": {},
   "cell_type": "markdown",
   "metadata": {},
   "source": [
    "-> 틀림"
   ]
  },
  {
   "attachments": {},
   "cell_type": "markdown",
   "metadata": {},
   "source": [
    "### 통과)"
   ]
  },
  {
   "cell_type": "code",
   "execution_count": 13,
   "metadata": {},
   "outputs": [
    {
     "name": "stdout",
     "output_type": "stream",
     "text": [
      "2\n"
     ]
    }
   ],
   "source": [
    "n = int(input())\n",
    "li = []\n",
    "for _ in range(n):\n",
    "    t, s = map(int, input().split())\n",
    "    li.append((t, s))\n",
    "\n",
    "# 마감 시간이 가장 늦는 일부터 내림차순 정렬\n",
    "li.sort(key=lambda x:x[1], reverse=True)\n",
    "\n",
    "# 시작 시간\n",
    "ans = li[0][1] - li[0][0] # 마감 시간이 가장 늦는 일의 시작 시간 (마감 시간 - 걸리는 시간)\n",
    "\n",
    "for i in range(1, n):\n",
    "    # i번째 일의 마감 시간이 현재 시작 시간보다 앞서는 경우, i번째 일을 시작할 수 있는 가장 늦은 시간으로 시작 시간 갱신\n",
    "    if ans > li[i][1]:\n",
    "        ans = li[i][1] - li[i][0]\n",
    "    # i번째 일의 마감 시간이 현재 시작 시간보다 앞서지 않는 경우, i번째 일을 완료하는데 걸리는 시간만큼 현재 시작 시간에서 빼기\n",
    "    else:\n",
    "        ans -= li[i][0]\n",
    "\n",
    "# 0시부터 시작해도 일을 끝마칠 수 없다면 -1 \n",
    "print(-1 if ans < 0 else ans)"
   ]
  },
  {
   "attachments": {},
   "cell_type": "markdown",
   "metadata": {},
   "source": [
    "-> 마감 시간이 가장 늦는 일부터 내림차순 정렬 후, 마감 시간이 가장 늦는 일의 시작 시간부터 거꾸로 계산"
   ]
  },
  {
   "cell_type": "code",
   "execution_count": null,
   "metadata": {},
   "outputs": [],
   "source": [
    "# 과정 확인"
   ]
  },
  {
   "cell_type": "code",
   "execution_count": 12,
   "metadata": {},
   "outputs": [
    {
     "name": "stdout",
     "output_type": "stream",
     "text": [
      "원본 리스트: [(3, 5), (8, 14), (5, 20), (1, 16)]\n",
      "정렬된 리스트: [(5, 20), (1, 16), (8, 14), (3, 5)]\n",
      "현재 시작 시간(마감 시간이 가장 늦는 일의 시작 시간): 15 \n",
      "\n",
      "현재 시작 시간: 15\n",
      "i번째 일의 걸리는 시간, 마감 시간: (1, 16)\n",
      "i번째 일의 마감 시간이 현재 시작 시간보다 앞서지 않는 경우\n",
      "갱신된 시작 시간: 15 - 1\n",
      "14\n",
      "\n",
      "현재 시작 시간: 14\n",
      "i번째 일의 걸리는 시간, 마감 시간: (8, 14)\n",
      "i번째 일의 마감 시간이 현재 시작 시간보다 앞서지 않는 경우\n",
      "갱신된 시작 시간: 14 - 8\n",
      "6\n",
      "\n",
      "현재 시작 시간: 6\n",
      "i번째 일의 걸리는 시간, 마감 시간: (3, 5)\n",
      "i번째 일의 마감 시간이 현재 시작 시간보다 앞서는 경우\n",
      "갱신된 시작 시간: 5 - 3\n",
      "2\n",
      "\n",
      "2\n"
     ]
    }
   ],
   "source": [
    "n = int(input())\n",
    "li = []\n",
    "for _ in range(n):\n",
    "    t, s = map(int, input().split())\n",
    "    li.append((t, s))\n",
    "print('원본 리스트:', li)\n",
    "# 마감 시간이 가장 늦는 일부터 내림차순 정렬\n",
    "li.sort(key=lambda x:x[1], reverse=True)\n",
    "print('정렬된 리스트:', li)\n",
    "# 시작 시간\n",
    "ans = li[0][1] - li[0][0] # 마감 시간이 가장 늦는 일의 시작 시간 (마감 시간 - 걸리는 시간)\n",
    "print('현재 시작 시간(마감 시간이 가장 늦는 일의 시작 시간):', ans, '\\n')\n",
    "\n",
    "for i in range(1, n):\n",
    "    print('현재 시작 시간:', ans)\n",
    "    print('i번째 일의 걸리는 시간, 마감 시간:', (li[i][0], li[i][1]))\n",
    "    # i번째 일의 마감 시간이 현재 시작 시간보다 앞서는 경우, i번째 일을 시작할 수 있는 가장 늦은 시간으로 시작 시간 갱신\n",
    "    if ans > li[i][1]:\n",
    "        print('i번째 일의 마감 시간이 현재 시작 시간보다 앞서는 경우')\n",
    "        print(f'갱신된 시작 시간: {li[i][1]} - {li[i][0]}')\n",
    "        ans = li[i][1] - li[i][0]\n",
    "        print(ans)\n",
    "    # i번째 일의 마감 시간이 현재 시작 시간보다 앞서지 않는 경우, i번째 일을 완료하는데 걸리는 시간만큼 현재 시작 시간에서 빼기\n",
    "    else:\n",
    "        print('i번째 일의 마감 시간이 현재 시작 시간보다 앞서지 않는 경우')\n",
    "        print(f'갱신된 시작 시간: {ans} - {li[i][0]}')\n",
    "        ans -= li[i][0]\n",
    "        print(ans)\n",
    "    print()\n",
    "\n",
    "# 0시부터 시작해도 일을 끝마칠 수 없다면 -1 \n",
    "print(-1 if ans < 0 else ans)"
   ]
  }
 ],
 "metadata": {
  "kernelspec": {
   "display_name": "cp2",
   "language": "python",
   "name": "python3"
  },
  "language_info": {
   "codemirror_mode": {
    "name": "ipython",
    "version": 3
   },
   "file_extension": ".py",
   "mimetype": "text/x-python",
   "name": "python",
   "nbconvert_exporter": "python",
   "pygments_lexer": "ipython3",
   "version": "3.9.12"
  },
  "orig_nbformat": 4,
  "vscode": {
   "interpreter": {
    "hash": "5ca59c31ddc1bb1d3e926feef50b5ca0d1eacb2093eee1a1a79c0269dbb49758"
   }
  }
 },
 "nbformat": 4,
 "nbformat_minor": 2
}

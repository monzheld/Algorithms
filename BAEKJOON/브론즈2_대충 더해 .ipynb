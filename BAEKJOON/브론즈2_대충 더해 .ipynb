{
 "cells": [
  {
   "attachments": {},
   "cell_type": "markdown",
   "metadata": {},
   "source": [
    "8949번\n",
    "\n",
    "[문제](https://www.acmicpc.net/problem/8949)"
   ]
  },
  {
   "attachments": {},
   "cell_type": "markdown",
   "metadata": {},
   "source": [
    "### 문자열"
   ]
  },
  {
   "attachments": {},
   "cell_type": "markdown",
   "metadata": {},
   "source": [
    "- 숫자를 더할 때, 오른쪽부터 왼쪽으로 가면서 숫자를 하나씩 더함\n",
    "- 그런데 희주는 귀찮아서 \"받아 올림\"을 하지 않고 그냥 두 숫자의 합을 적어버림\n",
    "- 만약 모든 숫자를 다 이렇게 더한다면 결과가 어떻게 나오는 지 구하기"
   ]
  },
  {
   "attachments": {},
   "cell_type": "markdown",
   "metadata": {},
   "source": [
    "<img width=\"132\" alt=\"스크린샷 2023-04-28 21 17 18\" src=\"https://user-images.githubusercontent.com/93971420/235145213-ec7b104c-5fdc-4032-a269-6ce92426cd89.png\">"
   ]
  },
  {
   "attachments": {},
   "cell_type": "markdown",
   "metadata": {},
   "source": [
    "- 입력\n",
    "    - 두 정수 A, B가 공백을 두고 주어짐\n",
    "    - A와 B는 1과 1,000,000 사이의 정수\n",
    "- 출력\n",
    "    - 희주 방식대로 더한 결과를 출력\n",
    "\n",
    "- 시간 제한: 1초\n",
    "- 메모리 제한: 128 MB"
   ]
  },
  {
   "cell_type": "code",
   "execution_count": null,
   "metadata": {},
   "outputs": [],
   "source": [
    "\"\"\"\n",
    "입출력 예시)\n",
    "\n",
    "(예제 입력 1) \n",
    "512 444\n",
    "        -> 956\n",
    "\n",
    "(예제 입력 2) \n",
    "123 2495\n",
    "        -> 25118\n",
    "\n",
    "(예제 입력 3) \n",
    "99999 99999\n",
    "        -> 1818181818\n",
    "\"\"\""
   ]
  },
  {
   "attachments": {},
   "cell_type": "markdown",
   "metadata": {},
   "source": [
    "## 2023/04/28"
   ]
  },
  {
   "cell_type": "code",
   "execution_count": null,
   "metadata": {},
   "outputs": [],
   "source": [
    "## 의사코드 ##\n",
    "\n",
    "# 각 자리의 숫자 더하기\n",
    "\n",
    "# a, b의 길이가 같아야 함\n",
    "# a의 길이가 b 길이보다 크면 b에 길이 차이만큼 '0'을 앞에 붙이기\n",
    "# b의 길이가 a 길이보다 크면 a에 길이 차이만큼 '0'을 앞에 붙이기"
   ]
  },
  {
   "attachments": {},
   "cell_type": "markdown",
   "metadata": {},
   "source": [
    "### 통과)"
   ]
  },
  {
   "cell_type": "code",
   "execution_count": 7,
   "metadata": {},
   "outputs": [
    {
     "name": "stdout",
     "output_type": "stream",
     "text": [
      "1818181818\n"
     ]
    }
   ],
   "source": [
    "a, b = input().split()\n",
    "len_a, len_b = len(a), len(b)\n",
    "\n",
    "# 두 정수의 길이 맞추기\n",
    "if len_a > len_b:\n",
    "    b = '0' * (len_a - len_b) + b\n",
    "else:\n",
    "    a = '0' * (len_b - len_a) + a\n",
    "\n",
    "# 희주 방식대로 더하기 \n",
    "ans = ''\n",
    "for i in range(len(a)):\n",
    "    ans += str(int(a[i]) + int(b[i]))\n",
    "\n",
    "print(ans)"
   ]
  }
 ],
 "metadata": {
  "kernelspec": {
   "display_name": "base",
   "language": "python",
   "name": "python3"
  },
  "language_info": {
   "codemirror_mode": {
    "name": "ipython",
    "version": 3
   },
   "file_extension": ".py",
   "mimetype": "text/x-python",
   "name": "python",
   "nbconvert_exporter": "python",
   "pygments_lexer": "ipython3",
   "version": "3.9.7"
  },
  "orig_nbformat": 4
 },
 "nbformat": 4,
 "nbformat_minor": 2
}

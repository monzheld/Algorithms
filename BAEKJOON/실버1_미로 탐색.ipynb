{
 "cells": [
  {
   "attachments": {},
   "cell_type": "markdown",
   "metadata": {},
   "source": [
    "2178번\n",
    "\n",
    "[문제](https://www.acmicpc.net/problem/2178)"
   ]
  },
  {
   "attachments": {},
   "cell_type": "markdown",
   "metadata": {},
   "source": [
    "### BFS"
   ]
  },
  {
   "attachments": {},
   "cell_type": "markdown",
   "metadata": {},
   "source": [
    "- N×M크기의 배열로 표현되는 미로가 있음\n",
    "- 미로에서 1은 이동할 수 있는 칸을 나타내고, 0은 이동할 수 없는 칸을 나타냄\n",
    "- 이러한 미로가 주어졌을 때, (1, 1)에서 출발하여 (N, M)의 위치로 이동할 때 지나야 하는 **최소의 칸 수**를 구하기\n",
    "- 한 칸에서 다른 칸으로 이동할 때, 서로 인접한 칸으로만 이동할 수 있음\n",
    "- **칸을 셀 때에는 시작 위치와 도착 위치도 포함**"
   ]
  },
  {
   "attachments": {},
   "cell_type": "markdown",
   "metadata": {},
   "source": [
    "<img width=\"220\" alt=\"스크린샷 2023-03-30 21 22 59\" src=\"https://user-images.githubusercontent.com/93971420/228834608-e6613c48-295e-4439-a090-e6aa4124bff8.png\">"
   ]
  },
  {
   "attachments": {},
   "cell_type": "markdown",
   "metadata": {},
   "source": [
    "- 위의 예에서는 15칸을 지나야 (N, M)의 위치로 이동할 수 있음"
   ]
  },
  {
   "attachments": {},
   "cell_type": "markdown",
   "metadata": {},
   "source": [
    "- 입력\n",
    "    - 첫째 줄에 두 정수 N, M(2 ≤ N, M ≤ 100)이 주어짐\n",
    "    - 다음 N개의 줄에는 M개의 정수로 미로가 주어짐\n",
    "    - 각각의 수들은 붙어서 입력으로 주어짐\n",
    "- 출력\n",
    "    - 첫째 줄에 지나야 하는 최소의 칸 수를 출력\n",
    "    - 항상 도착위치로 이동할 수 있는 경우만 입력으로 주어짐\n",
    "\n",
    "- 시간 제한: 1초\n",
    "- 메모리 제한: 192 MB"
   ]
  },
  {
   "cell_type": "code",
   "execution_count": null,
   "metadata": {},
   "outputs": [],
   "source": [
    "\"\"\"\n",
    "입출력 예시)\n",
    "\n",
    "(예제 입력 1) \n",
    "4 6\n",
    "101111\n",
    "101010\n",
    "101011\n",
    "111011\n",
    "        -> 15\n",
    "\n",
    "(예제 입력 2)\n",
    "4 6\n",
    "110110\n",
    "110110\n",
    "111111\n",
    "111101\n",
    "        -> 9\n",
    "\n",
    "(예제 입력 3)\n",
    "2 25\n",
    "1011101110111011101110111\n",
    "1110111011101110111011101\n",
    "                            -> 38\n",
    "\n",
    "(예제 입력 4)\n",
    "7 7\n",
    "1011111\n",
    "1110001\n",
    "1000001\n",
    "1000001\n",
    "1000001\n",
    "1000001\n",
    "1111111\n",
    "        -> 13\n",
    "\"\"\""
   ]
  },
  {
   "attachments": {},
   "cell_type": "markdown",
   "metadata": {},
   "source": [
    "## 2023/03/30"
   ]
  },
  {
   "cell_type": "code",
   "execution_count": null,
   "metadata": {},
   "outputs": [],
   "source": [
    "## 의사코드 ##\n",
    "\n",
    "# 최소 칸 수 -> BFS\n",
    "#from collections import deque\n",
    "\n",
    "# N×M크기의 배열인 미로\n",
    "# graph = [list(map(int, sys.stdin.readline().strip())) for _ in range(n)]\n",
    "# 방문 처리 배열\n",
    "# visited = [[0] * m for _ in range(n)]\n",
    "# 상하좌우\n",
    "# dx, dy = [-1, 1, 0, 0], [0, 0, -1, 1]\n",
    "\n",
    "# 시작 노드를 큐에 삽입하고 방문처리 \n",
    "# queue = deque([(0, 0)])\n",
    "# visited[0][0] = 1 \n",
    "\n",
    "# 큐에 삽입된 순서대로 x, y 꺼내서 방문하지 않은 노드를 방문 처리 후 큐에 삽입\n",
    "# while queue: \n",
    "#     x, y = queue.popleft()\n",
    "#     for i in range(4):\n",
    "#         nx = x + dx[i]\n",
    "#         ny = y + dy[i]\n",
    "#         if 0 <= nx < n and 0 <= ny < m:\n",
    "#             if visited[nx][ny] == 0 and graph[nx][ny] == 1:\n",
    "#                 visited[nx][ny] = visited[x][y] + 1\n",
    "#                 queue.append((nx, ny))\n",
    "        "
   ]
  },
  {
   "attachments": {},
   "cell_type": "markdown",
   "metadata": {},
   "source": [
    "### 통과)"
   ]
  },
  {
   "cell_type": "code",
   "execution_count": null,
   "metadata": {},
   "outputs": [],
   "source": [
    "import sys\n",
    "from collections import deque\n",
    "n, m = map(int, input().split())\n",
    "# N×M크기의 배열인 미로\n",
    "graph = [list(map(int, sys.stdin.readline().strip())) for _ in range(n)]\n",
    "# 방문 처리 배열\n",
    "visited = [[0] * m for _ in range(n)]\n",
    "# 상하좌우\n",
    "dx, dy = [-1, 1, 0, 0], [0, 0, -1, 1]\n",
    "\n",
    "# 시작 노드 추가\n",
    "queue = deque([(0, 0)])\n",
    "# 현재 노드 방문 처리\n",
    "visited[0][0] = 1 \n",
    "\n",
    "# 큐가 완전히 빌 때까지 반복\n",
    "while queue:\n",
    "    # 큐에 삽입된 순서대로 꺼내기\n",
    "    x, y = queue.popleft()\n",
    "    # (N, M)에 도착하면 최소 칸의 수 출력\n",
    "    if x == n-1 and y == m-1:\n",
    "        print(visited[x][y])\n",
    "        break \n",
    "    for i in range(4):\n",
    "        nx = x + dx[i]\n",
    "        ny = y + dy[i]\n",
    "        if 0 <= nx < n and 0 <= ny < m:\n",
    "            # 아직 방문되지 않았고 이동할 수 있는 칸이면 방문 처리 \n",
    "            if visited[nx][ny] == 0 and graph[nx][ny] == 1:\n",
    "                visited[nx][ny] = visited[x][y] + 1\n",
    "                queue.append((nx, ny))"
   ]
  }
 ],
 "metadata": {
  "kernelspec": {
   "display_name": "base",
   "language": "python",
   "name": "python3"
  },
  "language_info": {
   "codemirror_mode": {
    "name": "ipython",
    "version": 3
   },
   "file_extension": ".py",
   "mimetype": "text/x-python",
   "name": "python",
   "nbconvert_exporter": "python",
   "pygments_lexer": "ipython3",
   "version": "3.9.7"
  },
  "orig_nbformat": 4
 },
 "nbformat": 4,
 "nbformat_minor": 2
}

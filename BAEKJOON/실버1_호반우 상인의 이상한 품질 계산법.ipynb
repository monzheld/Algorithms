{
 "cells": [
  {
   "attachments": {},
   "cell_type": "markdown",
   "metadata": {},
   "source": [
    "20117번\n",
    "\n",
    "[문제](https://www.acmicpc.net/problem/20117)"
   ]
  },
  {
   "attachments": {},
   "cell_type": "markdown",
   "metadata": {},
   "source": [
    "### 탐욕(Greedy)"
   ]
  },
  {
   "attachments": {},
   "cell_type": "markdown",
   "metadata": {},
   "source": [
    "- 경북대 특산품 호반우는 품질에 따라 등급이 숫자로 매겨짐\n",
    "- 호반우 상인들은 N개의 호반우를 팔려고 함\n",
    "- 호반우는 개별적으로 팔 수도 있지만 묶음으로 팔 수도 있음\n",
    "- 이 때 묶음이라 함은 호반우들의 어떤 부분집합을 말함\n",
    "- 하나의 호반우를 팔 때 기존의 계산법으로는 품질만큼의 가격으로 팔리게 됨\n",
    "- 따라서 묶어파나 개별적으로 파나 상인이 벌 수 있는 총 금액은 차이가 없었음\n",
    "- 호반우 상인들은 새로운 품질 계산법을 개발해냄\n",
    "- 호반우를 묶음으로 팔 때는 모든 호반우의 품질을 묶음의 '중앙값'으로 결정\n",
    "- 이 때 묶음이 **짝수인 경우 묶음 안에 있는 호반우를 품질을 기준으로 정렬했을 때 (묶음 개수/2+1)번째 호반우를 중앙값**으로 정의하고 **홀수인 경우 ((묶음 개수+1)/2)번째 호반우를 중간값**으로 정의\n",
    "- 호반우들을 팔아서 얻을 수 있는 최대 이익을 계산하기"
   ]
  },
  {
   "attachments": {},
   "cell_type": "markdown",
   "metadata": {},
   "source": [
    "- 입력\n",
    "    - 첫 번째 줄에 호반우의 개수 N (1 ≤ N ≤ 100,000)이 주어짐\n",
    "    - 두 번째 줄에 공백으로 구분된 N개의 정수 a1, a2, ..., an (1 ≤ ai ≤ 1,000)가 주어지는데 이 숫자는 각 호반우의 품질을 나타냄\n",
    "- 출력\n",
    "    - 모든 호반우를 팔았을 때 얻을 수 있는 최대 이익을 출력\n",
    "\n",
    "- 시간 제한: 1초\n",
    "- 메모리 제한: 256 MB"
   ]
  },
  {
   "cell_type": "code",
   "execution_count": null,
   "metadata": {},
   "outputs": [],
   "source": [
    "\"\"\"\n",
    "입출력 예시)\n",
    "\n",
    "4\n",
    "4 2 8 9\n",
    "        -> 34\n",
    "\"\"\""
   ]
  },
  {
   "cell_type": "code",
   "execution_count": null,
   "metadata": {},
   "outputs": [],
   "source": [
    "# 호반우의 품질이 [1, 2, 3, 4]\n",
    "# -> 중간값인 3으로 모든 호반우의 품질을 계산\n",
    "\n",
    "# => 이 묶음의 총 가격은 3 × 4 = 12"
   ]
  },
  {
   "cell_type": "code",
   "execution_count": null,
   "metadata": {},
   "outputs": [],
   "source": [
    "# 품질이 [6, 3, 9] \n",
    "# -> 중간값인 6으로 모든 호반우의 품질을 계산\n",
    "\n",
    "# => 이 묶음의 총 가격은 6 × 3 = 18"
   ]
  },
  {
   "attachments": {},
   "cell_type": "markdown",
   "metadata": {},
   "source": [
    "## 2023/04/20"
   ]
  },
  {
   "cell_type": "code",
   "execution_count": null,
   "metadata": {},
   "outputs": [],
   "source": [
    "## 의사코드 ##\n",
    "\n",
    "# 오름차순 정렬\n",
    "\n",
    "# n이 짝수 -> 중앙값: (n/2+1)번째 호반우\n",
    "\n",
    "# n이 홀수 -> 중앙값: ((n+1)/2)번째 호반우\n",
    "\n",
    "# 최대 이익 = 중앙값 * n"
   ]
  },
  {
   "attachments": {},
   "cell_type": "markdown",
   "metadata": {},
   "source": [
    "### 1)"
   ]
  },
  {
   "cell_type": "code",
   "execution_count": 8,
   "metadata": {},
   "outputs": [
    {
     "name": "stdout",
     "output_type": "stream",
     "text": [
      "32\n"
     ]
    }
   ],
   "source": [
    "# 호반우의 개수\n",
    "n = int(input()) \n",
    "# 호반우들의 품질\n",
    "hos = list(map(int, input().split()))\n",
    "\n",
    "# 호반우 품질을 오름차순 정렬\n",
    "hos.sort()\n",
    "\n",
    "# 짝수인 경우\n",
    "if n % 2 == 0:\n",
    "    # (n/2+1)번째 호반우 \n",
    "    mid = hos[(n//2)]\n",
    "# 홀수인 경우\n",
    "else:\n",
    "    # ((n+1)/2)번째 호반우\n",
    "    mid = hos[(n+1)//2 - 1]\n",
    "\n",
    "# 묶어서 판매할 경우 = 중앙값 * n \n",
    "# 개별적으로 판매할 경우 = 각 호반우의 품질만큼의 가격\n",
    "# 최대 이익 = 묶어서 판 금액과 개별적으로 판 금액 중 더 큰 값\n",
    "print(max(mid * n, sum(hos)))"
   ]
  },
  {
   "attachments": {},
   "cell_type": "markdown",
   "metadata": {},
   "source": [
    "-> 틀림 (묶음을 품질 리스트 전체인 묶음 하나만 만든다고 잘못 이해함)"
   ]
  },
  {
   "attachments": {},
   "cell_type": "markdown",
   "metadata": {},
   "source": [
    "### 통과)"
   ]
  },
  {
   "cell_type": "code",
   "execution_count": 21,
   "metadata": {},
   "outputs": [
    {
     "name": "stdout",
     "output_type": "stream",
     "text": [
      "34\n"
     ]
    }
   ],
   "source": [
    "# 호반우의 개수\n",
    "n = int(input())\n",
    "# 호반우들의 품질\n",
    "hos = list(map(int, input().split()))\n",
    "# 호반우 품질을 오름차순 정렬\n",
    "hos.sort()\n",
    "\n",
    "# 가장 작은 값과 가장 큰 값을 하나의 묶음으로 만들어 가장 작은 값을 가장 큰 값으로 바꿔서 더하기\n",
    "# -> 품질 리스트의 끝 값들만 필요\n",
    "# 작은 값들을 모두 큰 값들로 바꿔줄 것이기 때문에 큰 값들만 더한 다음 곱하기 2\n",
    "ans = sum(hos[(n+1)//2:]) * 2\n",
    "\n",
    "# 개수가 홀수인 경우\n",
    "if n % 2 == 1:\n",
    "    # 마지막 남은 품질 리스트의 가운데에 위치한 값 더해주기\n",
    "    ans += hos[n//2]\n",
    "\n",
    "print(ans)"
   ]
  },
  {
   "attachments": {},
   "cell_type": "markdown",
   "metadata": {},
   "source": [
    "-> 가장 작은 값과 가장 큰 값을 하나의 묶음으로 만들면 중앙값이 적용되는 계산법으로 인해 가장 작은 값이 가장 큰 값으로 바뀜 "
   ]
  },
  {
   "cell_type": "code",
   "execution_count": null,
   "metadata": {},
   "outputs": [],
   "source": [
    "# 과정 확인"
   ]
  },
  {
   "cell_type": "code",
   "execution_count": 24,
   "metadata": {},
   "outputs": [
    {
     "name": "stdout",
     "output_type": "stream",
     "text": [
      "호반우의 개수(n): 4\n",
      "정렬된 품질 리스트(hos): [2, 4, 8, 9] \n",
      "\n",
      "인덱스((n+1)//2): 2\n",
      "품질 리스트의 끝 값들: [8, 9]\n",
      "최대 이익 = 품질 리스트의 끝 값들을 더한 값(17) * 2\n",
      "  =>  34 \n",
      "\n",
      "34\n"
     ]
    }
   ],
   "source": [
    "# 호반우의 개수\n",
    "n = int(input())\n",
    "print('호반우의 개수(n):', n)\n",
    "# 호반우들의 품질\n",
    "hos = list(map(int, input().split()))\n",
    "# 호반우 품질을 오름차순 정렬\n",
    "hos.sort()\n",
    "print('정렬된 품질 리스트(hos):', hos, '\\n')\n",
    "\n",
    "# 가장 작은 값과 가장 큰 값을 하나의 묶음으로 만들어 가장 작은 값을 가장 큰 값으로 바꿔서 더하기\n",
    "# -> 품질 리스트의 끝 값들만 필요\n",
    "# 작은 값들을 모두 큰 값들로 바꿔줄 것이기 때문에 큰 값들만 더한 다음 곱하기 2\n",
    "\n",
    "print('인덱스((n+1)//2):', (n+1)//2)\n",
    "print('품질 리스트의 끝 값들:', hos[(n+1)//2:])\n",
    "ans = sum(hos[(n+1)//2:]) * 2\n",
    "print(f'최대 이익 = 품질 리스트의 끝 값들을 더한 값({sum(hos[(n+1)//2:])}) * 2')\n",
    "print('  => ', ans, '\\n')\n",
    "\n",
    "# 개수가 홀수인 경우\n",
    "if n % 2 == 1:\n",
    "    print('개수가 홀수인 경우')\n",
    "    # 마지막 남은 품질 리스트의 가운데에 위치한 값 더해주기\n",
    "    print(f'마지막 남은 품질 리스트의 가운데에 위치한 값 ({hos[n//2]}) 더해주기')\n",
    "    ans += hos[n//2]\n",
    "    print(f'최대 이익 = {ans}', '\\n')\n",
    "\n",
    "print(ans)"
   ]
  }
 ],
 "metadata": {
  "kernelspec": {
   "display_name": "base",
   "language": "python",
   "name": "python3"
  },
  "language_info": {
   "codemirror_mode": {
    "name": "ipython",
    "version": 3
   },
   "file_extension": ".py",
   "mimetype": "text/x-python",
   "name": "python",
   "nbconvert_exporter": "python",
   "pygments_lexer": "ipython3",
   "version": "3.9.7"
  },
  "orig_nbformat": 4
 },
 "nbformat": 4,
 "nbformat_minor": 2
}

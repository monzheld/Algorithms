{
 "cells": [
  {
   "attachments": {},
   "cell_type": "markdown",
   "metadata": {},
   "source": [
    "1931번\n",
    "\n",
    "[문제](https://www.acmicpc.net/problem/1931)"
   ]
  },
  {
   "attachments": {},
   "cell_type": "markdown",
   "metadata": {},
   "source": [
    "### 탐욕(Greedy)"
   ]
  },
  {
   "attachments": {},
   "cell_type": "markdown",
   "metadata": {},
   "source": [
    "- 한 개의 회의실이 있는데 이를 사용하고자 하는 N개의 회의에 대하여 회의실 사용표를 만들려고 함\n",
    "- 각 회의 I에 대해 시작시간과 끝나는 시간이 주어져 있고, **각 회의가 겹치지 않게 하면서 회의실을 사용할 수 있는 회의의 최대 개수** 찾기\n",
    "- 단, 회의는 한번 시작하면 중간에 중단될 수 없으며 **한 회의가 끝나는 것과 동시에 다음 회의가 시작될 수 있음**\n",
    "- 회의의 **시작시간과 끝나는 시간이 같을 수도** 있음\n",
    "    - 이 경우에는 시작하자마자 끝나는 것\n"
   ]
  },
  {
   "attachments": {},
   "cell_type": "markdown",
   "metadata": {},
   "source": [
    "- 입력\n",
    "    - 첫째 줄에 회의의 수 N(1 ≤ N ≤ 100,000)이 주어짐\n",
    "    - 둘째 줄부터 N+1 줄까지 각 회의의 정보가 주어지는데 이것은 공백을 사이에 두고 회의의 시작시간과 끝나는 시간이 주어짐\n",
    "    - 시작 시간과 끝나는 시간은 231-1보다 작거나 같은 자연수 또는 0\n",
    "- 출력\n",
    "    - 첫째 줄에 최대 사용할 수 있는 회의의 최대 개수를 출력\n",
    "\n",
    "- 시간 제한: 2초\n",
    "- 메모리 제한: 128 MB"
   ]
  },
  {
   "cell_type": "code",
   "execution_count": null,
   "metadata": {},
   "outputs": [],
   "source": [
    "\"\"\"\n",
    "입출력 예시)\n",
    "\n",
    "11\n",
    "1 4\n",
    "3 5\n",
    "0 6\n",
    "5 7\n",
    "3 8\n",
    "5 9\n",
    "6 10\n",
    "8 11\n",
    "8 12\n",
    "2 13\n",
    "12 14\n",
    "    -> 4\n",
    "\"\"\""
   ]
  },
  {
   "cell_type": "code",
   "execution_count": null,
   "metadata": {},
   "outputs": [],
   "source": [
    "# -> (1,4), (5,7), (8,11), (12,14) 이용 가능\n",
    "# => 사용 가능한 회의의 최대 개수: 4"
   ]
  },
  {
   "attachments": {},
   "cell_type": "markdown",
   "metadata": {},
   "source": [
    "## 2023/02/08"
   ]
  },
  {
   "cell_type": "code",
   "execution_count": null,
   "metadata": {},
   "outputs": [],
   "source": [
    "## 의사코드 ##\n",
    "\n",
    "# 다음 회의의 시작 시간이 이전 회의의 끝나는 시간보다 작으면 사용 불가\n",
    "# -> 다음 회의의 시작 시간과 사용 가능한 이전 회의의 끝나는 시간 비교\n",
    "\n",
    "# cnt = 1 # 사용 가능한 회의의 최대 개수(맨 첫 번째 회의는 사용 가능)\n",
    "# time = [] # 전체 회의 시간을 담을 리스트\n",
    "# available = [] # 사용 가능한 회의를 담을 리스트\n",
    "\n",
    "# for i in range(1, n):\n",
    "#     end_time = available[-1][1] # 사용 가능한 이전 회의의 끝나는 시간 \n",
    "#     # 다음 회의 시작 시간이 사용 가능한 이전 회의의 끝나는 시간 보다 작은 경우 continue\n",
    "#     if time[i][0] < end_time:\n",
    "#         continue\n",
    "#     # 다음 회의가 사용 가능한 경우\n",
    "#     else:\n",
    "#         cnt += 1 # 사용 가능한 회의의 최대 개수 + 1\n",
    "#         available.append(time[i]) # 사용 가능 리스트에 time[i](다음 회의) 삽입"
   ]
  },
  {
   "attachments": {},
   "cell_type": "markdown",
   "metadata": {},
   "source": [
    "### 1)"
   ]
  },
  {
   "cell_type": "code",
   "execution_count": 25,
   "metadata": {},
   "outputs": [
    {
     "name": "stdout",
     "output_type": "stream",
     "text": [
      "4\n"
     ]
    }
   ],
   "source": [
    "n = int(input())\n",
    "\n",
    "cnt = 1 # 사용 가능한 회의의 최대 개수(맨 첫 번째 회의는 사용 가능)\n",
    "time = [] # 전체 회의 시간을 담을 리스트\n",
    "available = [] # 사용 가능한 회의를 담을 리스트\n",
    "\n",
    "# 회의 시간을 time 리스트에 담기\n",
    "for i in range(n):\n",
    "    start, end = map(int, input().split())\n",
    "    time.append((start, end)) # [(시작 시간, 끝나는 시간)]\n",
    "\n",
    "# 맨 첫 번째 회의를 사용 가능 리스트에 삽입\n",
    "available.append(time[0])\n",
    "\n",
    "for i in range(1, n):\n",
    "    # 사용 가능한 이전 회의의 끝나는 시간 \n",
    "    end_time = available[-1][1] # 사용 가능 리스트의 맨 마지막 원소의 index 1\n",
    "    # 다음 회의 시작 시간이 사용 가능한 이전 회의의 끝나는 시간 보다 작은 경우 continue\n",
    "    if time[i][0] < end_time:\n",
    "        continue\n",
    "    # 다음 회의가 사용 가능한 경우\n",
    "    else:\n",
    "        cnt += 1 # 사용 가능한 회의의 최대 개수 + 1\n",
    "        available.append(time[i]) # 사용 가능 리스트에 time[i](다음 회의) 삽입\n",
    "\n",
    "print(cnt)"
   ]
  },
  {
   "attachments": {},
   "cell_type": "markdown",
   "metadata": {},
   "source": [
    "-> 틀림"
   ]
  },
  {
   "cell_type": "code",
   "execution_count": null,
   "metadata": {},
   "outputs": [],
   "source": [
    "# time 리스트 저장 예시\n",
    "time = [(1, 4), (3, 5), (0, 6), (5, 7), (3, 8), (5, 9), (6, 10), (8, 11), (8, 12), (2, 13), (12, 14)]"
   ]
  },
  {
   "attachments": {},
   "cell_type": "markdown",
   "metadata": {},
   "source": [
    "### 통과)"
   ]
  },
  {
   "cell_type": "code",
   "execution_count": null,
   "metadata": {},
   "outputs": [],
   "source": [
    "n = int(input())\n",
    "\n",
    "time = [] # 전체 회의 시간을 담을 리스트\n",
    "\n",
    "# 회의 시간을 time 리스트에 담기\n",
    "for i in range(n):\n",
    "    start, end = map(int, input().split())\n",
    "    time.append((start, end)) # [(시작 시간, 끝나는 시간)]\n",
    "\n",
    "# 끝나는 시간을 오름차순으로 정렬한 후, 시작 시간을 오름차순 정렬\n",
    "time.sort(key=lambda x: (x[1], x[0]))\n",
    "\n",
    "cur_end_time = 0 # 현재 회의의 끝나는 시간\n",
    "cnt = 0 # 사용 가능한 회의의 최대 개수\n",
    "for start, end in time:\n",
    "    # 현재 끝나는 시간이 다음 회의의 시작 시간과 같거나 작은 경우\n",
    "    if cur_end_time <= start:\n",
    "        cur_end_time = end # 현재 끝나는 시간을 다음 회의의 끝나는 시간으로 변경\n",
    "        cnt += 1 # 사용 가능한 회의의 최대 개수 + 1\n",
    "\n",
    "print(cnt)"
   ]
  },
  {
   "attachments": {},
   "cell_type": "markdown",
   "metadata": {},
   "source": [
    "-> 끝나는 시간을 오름차순으로 정렬 후, 시작 시간 오름차순 정렬 추가, 사용 가능한 회의의 끝나는 시간을 리스트에 따로 저장하지 않고 조건에 맞으면 새로운 끝나는 시간으로 변경"
   ]
  },
  {
   "cell_type": "code",
   "execution_count": 31,
   "metadata": {},
   "outputs": [
    {
     "name": "stdout",
     "output_type": "stream",
     "text": [
      "[(1, 3), (3, 3)]\n"
     ]
    }
   ],
   "source": [
    "# 끝나는 시간을 오름차순으로 정렬한 후, 시작 시간을 오름차순 정렬\n",
    "time = [(3, 3), (1, 3)]\n",
    "time.sort(key=lambda x: (x[1], x[0]))\n",
    "print(time)"
   ]
  },
  {
   "attachments": {},
   "cell_type": "markdown",
   "metadata": {},
   "source": [
    "-> 두 회의의 끝나는 시간이 같은 경우, 시작 시간이 더 빠른 순서대로 정렬되어야 함\n",
    "\n",
    "그래서 끝나는 시간을 기준으로 먼저 오름차순 정렬 후, 다시 시작 시간을 기준으로 오름차순으로 한 번 더 정렬"
   ]
  },
  {
   "cell_type": "code",
   "execution_count": null,
   "metadata": {},
   "outputs": [],
   "source": [
    "# 과정 확인"
   ]
  },
  {
   "cell_type": "code",
   "execution_count": 37,
   "metadata": {},
   "outputs": [
    {
     "name": "stdout",
     "output_type": "stream",
     "text": [
      "현재 끝나는 시간: 0\n",
      "다음 회의의 시작 시간: 1\n",
      "사용 가능한 회의의 최대 개수: 0 \n",
      "\n",
      "--------------------------------------------------\n",
      "변경된 현재 끝나는 시간: 4\n",
      "사용 가능한 회의의 최대 개수: 1\n",
      "--------------------------------------------------\n",
      "\n",
      "현재 끝나는 시간: 4\n",
      "다음 회의의 시작 시간: 3\n",
      "사용 가능한 회의의 최대 개수: 1 \n",
      "\n",
      "현재 끝나는 시간: 4\n",
      "다음 회의의 시작 시간: 0\n",
      "사용 가능한 회의의 최대 개수: 1 \n",
      "\n",
      "현재 끝나는 시간: 4\n",
      "다음 회의의 시작 시간: 5\n",
      "사용 가능한 회의의 최대 개수: 1 \n",
      "\n",
      "--------------------------------------------------\n",
      "변경된 현재 끝나는 시간: 7\n",
      "사용 가능한 회의의 최대 개수: 2\n",
      "--------------------------------------------------\n",
      "\n",
      "현재 끝나는 시간: 7\n",
      "다음 회의의 시작 시간: 3\n",
      "사용 가능한 회의의 최대 개수: 2 \n",
      "\n",
      "현재 끝나는 시간: 7\n",
      "다음 회의의 시작 시간: 5\n",
      "사용 가능한 회의의 최대 개수: 2 \n",
      "\n",
      "현재 끝나는 시간: 7\n",
      "다음 회의의 시작 시간: 6\n",
      "사용 가능한 회의의 최대 개수: 2 \n",
      "\n",
      "현재 끝나는 시간: 7\n",
      "다음 회의의 시작 시간: 8\n",
      "사용 가능한 회의의 최대 개수: 2 \n",
      "\n",
      "--------------------------------------------------\n",
      "변경된 현재 끝나는 시간: 11\n",
      "사용 가능한 회의의 최대 개수: 3\n",
      "--------------------------------------------------\n",
      "\n",
      "현재 끝나는 시간: 11\n",
      "다음 회의의 시작 시간: 8\n",
      "사용 가능한 회의의 최대 개수: 3 \n",
      "\n",
      "현재 끝나는 시간: 11\n",
      "다음 회의의 시작 시간: 2\n",
      "사용 가능한 회의의 최대 개수: 3 \n",
      "\n",
      "현재 끝나는 시간: 11\n",
      "다음 회의의 시작 시간: 12\n",
      "사용 가능한 회의의 최대 개수: 3 \n",
      "\n",
      "--------------------------------------------------\n",
      "변경된 현재 끝나는 시간: 14\n",
      "사용 가능한 회의의 최대 개수: 4\n",
      "--------------------------------------------------\n",
      "\n",
      "4\n"
     ]
    }
   ],
   "source": [
    "n = 11\n",
    "time = [(1, 4), (3, 5), (0, 6), (5, 7), (3, 8), (5, 9), (6, 10), (8, 11), (8, 12), (2, 13), (12, 14)]\n",
    "\n",
    "# # 회의 시간을 time 리스트에 담기\n",
    "# for i in range(n):\n",
    "#     start, end = map(int, input().split())\n",
    "#     time.append((start, end)) # [(시작 시간, 끝나는 시간)]\n",
    "\n",
    "# 끝나는 시간을 오름차순으로 정렬한 후, 시작 시간을 오름차순 정렬\n",
    "time.sort(key=lambda x: (x[1], x[0]))\n",
    "\n",
    "cur_end_time = 0 # 현재 회의의 끝나는 시간\n",
    "cnt = 0 # 사용 가능한 회의의 최대 개수\n",
    "for start, end in time:\n",
    "    print('현재 끝나는 시간:', cur_end_time)\n",
    "    print('다음 회의의 시작 시간:', start)\n",
    "    print('사용 가능한 회의의 최대 개수:', cnt, '\\n')\n",
    "    # 현재 끝나는 시간이 다음 회의의 시작 시간과 같거나 작은 경우\n",
    "    if cur_end_time <= start:\n",
    "        cur_end_time = end # 현재 끝나는 시간을 다음 회의의 끝나는 시간으로 변경\n",
    "        cnt += 1 # 사용 가능한 회의의 최대 개수 + 1\n",
    "        print('-'*50)\n",
    "        print('변경된 현재 끝나는 시간:', cur_end_time)\n",
    "        print('사용 가능한 회의의 최대 개수:', cnt)\n",
    "        print('-'*50)\n",
    "        print()\n",
    "\n",
    "print(cnt)"
   ]
  }
 ],
 "metadata": {
  "kernelspec": {
   "display_name": "cp2",
   "language": "python",
   "name": "python3"
  },
  "language_info": {
   "codemirror_mode": {
    "name": "ipython",
    "version": 3
   },
   "file_extension": ".py",
   "mimetype": "text/x-python",
   "name": "python",
   "nbconvert_exporter": "python",
   "pygments_lexer": "ipython3",
   "version": "3.9.12"
  },
  "orig_nbformat": 4,
  "vscode": {
   "interpreter": {
    "hash": "5ca59c31ddc1bb1d3e926feef50b5ca0d1eacb2093eee1a1a79c0269dbb49758"
   }
  }
 },
 "nbformat": 4,
 "nbformat_minor": 2
}

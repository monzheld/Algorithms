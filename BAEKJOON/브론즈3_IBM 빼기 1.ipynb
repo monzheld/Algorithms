{
 "cells": [
  {
   "attachments": {},
   "cell_type": "markdown",
   "metadata": {},
   "source": [
    "6321번\n",
    "\n",
    "[문제](https://www.acmicpc.net/problem/6321)"
   ]
  },
  {
   "attachments": {},
   "cell_type": "markdown",
   "metadata": {},
   "source": [
    "### 문자열"
   ]
  },
  {
   "attachments": {},
   "cell_type": "markdown",
   "metadata": {},
   "source": [
    "- HAL은 휴리스틱 알고리즘 (Heuristic ALgorithm)의 약자\n",
    "- 하지만, HAL의 각 글자를 알파벳 다음 순서로 쓰면 IBM이 되기 때문에, IBM과 연관이 있다고 믿는 사람이 매우 많음\n",
    "- 컴퓨터의 이름이 주어졌을 때, 각 글자를 알파벳 다음 순서로 써서 출력하기"
   ]
  },
  {
   "attachments": {},
   "cell_type": "markdown",
   "metadata": {},
   "source": [
    "- 입력\n",
    "    - 첫째 줄에 컴퓨터의 개수 n이 주어짐\n",
    "    - 다음 줄부터 n개의 줄에는 컴퓨터의 이름이 주어짐\n",
    "    - 컴퓨터의 이름은 최대 50글자이며, 알파벳 대문자로만 이루어져 있음\n",
    "- 출력\n",
    "    - 입력으로 주어진 컴퓨터 이름에 대해서, 한 줄에 하나씩 **각 글자를 알파벳 다음 순서로 써서 출력**\n",
    "    - 각각의 **컴퓨터 이름 사이에는 빈 줄을 하나씩** 출력\n",
    "    - 알파벳 **Z의 다음 순서는 A**\n",
    "\n",
    "- 시간 제한: 1초\n",
    "- 메모리 제한: 128 MB"
   ]
  },
  {
   "cell_type": "code",
   "execution_count": null,
   "metadata": {},
   "outputs": [],
   "source": [
    "\"\"\"\n",
    "입출력 예시)\n",
    "\n",
    "2\n",
    "HAL\n",
    "SWERC\n",
    "        -> String #1\n",
    "           IBM\n",
    "\n",
    "           String #2\n",
    "           TXFSD\n",
    "\"\"\""
   ]
  },
  {
   "attachments": {},
   "cell_type": "markdown",
   "metadata": {},
   "source": [
    "## 2023/05/20"
   ]
  },
  {
   "cell_type": "code",
   "execution_count": null,
   "metadata": {},
   "outputs": [],
   "source": [
    "## 의사코드 ##\n",
    "\n",
    "# 아스키코드로 다음 알파벳으로 변환\n",
    "# string[j] = chr(ord(string[j]) + 1)\n",
    "\n",
    "# 알파벳 Z는 A로 변환\n",
    "# if string[j] == 'Z':\n",
    "#     string[j] = 'A'"
   ]
  },
  {
   "attachments": {},
   "cell_type": "markdown",
   "metadata": {},
   "source": [
    "### 통과)"
   ]
  },
  {
   "cell_type": "code",
   "execution_count": 2,
   "metadata": {},
   "outputs": [
    {
     "name": "stdout",
     "output_type": "stream",
     "text": [
      "String #1\n",
      "IBM\n",
      "\n",
      "String #2\n",
      "TXFSD\n"
     ]
    }
   ],
   "source": [
    "n = int(input())\n",
    "for i in range(n):\n",
    "    string = list(input())\n",
    "    for j in range(len(string)):\n",
    "        # 알파벳 Z의 다음 순서는 A\n",
    "        if string[j] == 'Z':\n",
    "            string[j] = 'A'\n",
    "        else: \n",
    "            # 다음 순서의 알파벳으로 변환\n",
    "            string[j] = chr(ord(string[j]) + 1)\n",
    "    print(f'String #{i+1}')\n",
    "    print(''.join(string))\n",
    "    # 각 컴퓨터 이름 사이에 빈 줄 하나 출력\n",
    "    if i+1 == n:\n",
    "        break \n",
    "    else:\n",
    "        print()"
   ]
  }
 ],
 "metadata": {
  "kernelspec": {
   "display_name": "base",
   "language": "python",
   "name": "python3"
  },
  "language_info": {
   "codemirror_mode": {
    "name": "ipython",
    "version": 3
   },
   "file_extension": ".py",
   "mimetype": "text/x-python",
   "name": "python",
   "nbconvert_exporter": "python",
   "pygments_lexer": "ipython3",
   "version": "3.9.7"
  },
  "orig_nbformat": 4
 },
 "nbformat": 4,
 "nbformat_minor": 2
}

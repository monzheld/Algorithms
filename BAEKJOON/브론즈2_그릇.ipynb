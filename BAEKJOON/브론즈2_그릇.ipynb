{
 "cells": [
  {
   "attachments": {},
   "cell_type": "markdown",
   "metadata": {},
   "source": [
    "7567번\n",
    "\n",
    "[문제](https://www.acmicpc.net/problem/7567)"
   ]
  },
  {
   "attachments": {},
   "cell_type": "markdown",
   "metadata": {},
   "source": [
    "### 문자열"
   ]
  },
  {
   "attachments": {},
   "cell_type": "markdown",
   "metadata": {},
   "source": [
    "- 그릇을 **바닥에 놓았을 때 그 높이는 10cm**\n",
    "- 그런데 두 개의 그릇을 **같은 방향으로 포개면 그 높이는 5cm만 증가**\n",
    "- 만일 그릇이 **서로 반대방향으로 쌓이면 높이는 그릇만큼, 즉 10cm 늘어남**\n",
    "- 그릇을 괄호 기호로 나타내어 설명\n",
    "- 편의상 그릇이 쌓여지는 방향은 왼쪽에서 오른쪽이라고 가정\n",
    "- 그림에서 **‘(’은 그릇이 바닥에 바로 놓인 상태**를 나타내며, **‘)’은 그릇이 거꾸로 놓인 상태**\n",
    "- 만일 그릇이 포개진 모양이 ((((와 같다면 전체의 높이는 25cm\n",
    "    - 처음 바닥에 있는 그릇의 높이가 10cm\n",
    "    - 이후 같은 방향으로 3개의 그릇이 포개져 있으므로 늘어난 높이는 5+5+5=15\n",
    "- ()()와 같은 경우라면\n",
    "    - 높이는 10*4=40cm\n",
    "- 입력에 **주어진 모양대로 그릇을 쌓을 때 최종의 전체 그릇 높이**를 계산\n",
    "- 처음 입력으로 주어진 각 그릇의 방향은 바꿀 수 없음"
   ]
  },
  {
   "attachments": {},
   "cell_type": "markdown",
   "metadata": {},
   "source": [
    "- 입력\n",
    "    - 첫 줄에는 괄호문자로만 이루어진 문자열이 주어짐\n",
    "    - 입력 문자열에서 열린 괄호 ‘(’은 바로 놓인 그릇, 닫힌 괄호 ‘)’은 거꾸로 놓인 그릇을 나타냄\n",
    "    - 문자열의 길이는 3이상 50 이하\n",
    "- 출력\n",
    "    - 그릇 방향이 괄호 문자로 표시된 문자열을 읽어서 그 최종의 높이를 정수로 출력\n",
    "\n",
    "- 시간 제한: 1초\n",
    "- 메모리 제한: 128 MB"
   ]
  },
  {
   "cell_type": "code",
   "execution_count": null,
   "metadata": {},
   "outputs": [],
   "source": [
    "\"\"\"\n",
    "입출력 예시)\n",
    "\n",
    "(예제 입력 1) \n",
    "(((( -> 25\n",
    "\n",
    "(예제 입력 2)\n",
    "()()()))( -> 80\n",
    "\"\"\""
   ]
  },
  {
   "attachments": {},
   "cell_type": "markdown",
   "metadata": {},
   "source": [
    "## 2023/02/02"
   ]
  },
  {
   "cell_type": "code",
   "execution_count": null,
   "metadata": {},
   "outputs": [],
   "source": [
    "## 의사코드 ##\n",
    "\n",
    "# res = 10 # 처음 놓인 그릇의 높이\n",
    "\n",
    "# for i in range(1, len(plates)): # 인덱스 0(맨 처음 놓인 그릇)을 제외한 나머지 그릇\n",
    "#     # 현재 그릇이 '('인 경우 \n",
    "#     if plates[i] == '(':\n",
    "#         if plates[i-1] == '(':\n",
    "#             res += 5\n",
    "#         else:\n",
    "#             res += 10 \n",
    "#     # 현재 그릇이 ')'인 경우 \n",
    "#     else:\n",
    "#         if plates[i-1] == ')':\n",
    "#             res += 5\n",
    "#         else: \n",
    "#             res += 10 "
   ]
  },
  {
   "attachments": {},
   "cell_type": "markdown",
   "metadata": {},
   "source": [
    "### 통과)"
   ]
  },
  {
   "cell_type": "code",
   "execution_count": 10,
   "metadata": {},
   "outputs": [
    {
     "name": "stdout",
     "output_type": "stream",
     "text": [
      "80\n"
     ]
    }
   ],
   "source": [
    "plates = str(input()) \n",
    "res = 10 # 맨 처음 놓인 그릇의 높이\n",
    "\n",
    "# 인덱스 0(맨 처음 놓인 그릇)을 제외한 나머지 그릇\n",
    "for i in range(1, len(plates)): \n",
    "    # 현재 그릇이 '('인 경우 \n",
    "    if plates[i] == '(':\n",
    "        if plates[i-1] == '(':\n",
    "            res += 5\n",
    "        else:\n",
    "            res += 10 \n",
    "    # 현재 그릇이 ')'인 경우 \n",
    "    else:\n",
    "        if plates[i-1] == ')':\n",
    "            res += 5\n",
    "        else: \n",
    "            res += 10 \n",
    "\n",
    "print(res)"
   ]
  },
  {
   "cell_type": "code",
   "execution_count": null,
   "metadata": {},
   "outputs": [],
   "source": [
    "# 과정 확인"
   ]
  },
  {
   "cell_type": "code",
   "execution_count": 11,
   "metadata": {},
   "outputs": [],
   "source": [
    "plates = \"()()()))(\""
   ]
  },
  {
   "cell_type": "code",
   "execution_count": 12,
   "metadata": {},
   "outputs": [
    {
     "name": "stdout",
     "output_type": "stream",
     "text": [
      "i: 1\n",
      "plates[i]: )\n",
      "plates[i-1]: (\n",
      "res: 20 \n",
      "\n",
      "i: 2\n",
      "plates[i]: (\n",
      "plates[i-1]: )\n",
      "res: 30 \n",
      "\n",
      "i: 3\n",
      "plates[i]: )\n",
      "plates[i-1]: (\n",
      "res: 40 \n",
      "\n",
      "i: 4\n",
      "plates[i]: (\n",
      "plates[i-1]: )\n",
      "res: 50 \n",
      "\n",
      "i: 5\n",
      "plates[i]: )\n",
      "plates[i-1]: (\n",
      "res: 60 \n",
      "\n",
      "i: 6\n",
      "plates[i]: )\n",
      "plates[i-1]: )\n",
      "res: 65 \n",
      "\n",
      "i: 7\n",
      "plates[i]: )\n",
      "plates[i-1]: )\n",
      "res: 70 \n",
      "\n",
      "i: 8\n",
      "plates[i]: (\n",
      "plates[i-1]: )\n",
      "res: 80 \n",
      "\n",
      "80\n"
     ]
    }
   ],
   "source": [
    "res = 10 # 맨 처음 놓인 그릇의 높이\n",
    "\n",
    "# 인덱스 0(맨 처음 놓인 그릇)을 제외한 나머지 그릇\n",
    "for i in range(1, len(plates)): \n",
    "    print('i:', i)\n",
    "    print('plates[i]:', plates[i])\n",
    "    print('plates[i-1]:', plates[i-1])\n",
    "\n",
    "    # 현재 그릇이 '('인 경우 \n",
    "    if plates[i] == '(':\n",
    "        if plates[i-1] == '(':\n",
    "            res += 5\n",
    "        else:\n",
    "            res += 10 \n",
    "    # 현재 그릇이 ')'인 경우 \n",
    "    else:\n",
    "        if plates[i-1] == ')':\n",
    "            res += 5\n",
    "        else: \n",
    "            res += 10 \n",
    "    print('res:', res, '\\n')\n",
    "\n",
    "print(res)"
   ]
  }
 ],
 "metadata": {
  "kernelspec": {
   "display_name": "cp2",
   "language": "python",
   "name": "python3"
  },
  "language_info": {
   "codemirror_mode": {
    "name": "ipython",
    "version": 3
   },
   "file_extension": ".py",
   "mimetype": "text/x-python",
   "name": "python",
   "nbconvert_exporter": "python",
   "pygments_lexer": "ipython3",
   "version": "3.9.12 (main, Apr  5 2022, 01:53:17) \n[Clang 12.0.0 ]"
  },
  "orig_nbformat": 4,
  "vscode": {
   "interpreter": {
    "hash": "5ca59c31ddc1bb1d3e926feef50b5ca0d1eacb2093eee1a1a79c0269dbb49758"
   }
  }
 },
 "nbformat": 4,
 "nbformat_minor": 2
}

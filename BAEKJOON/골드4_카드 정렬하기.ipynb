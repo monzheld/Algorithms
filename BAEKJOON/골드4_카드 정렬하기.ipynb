{
 "cells": [
  {
   "attachments": {},
   "cell_type": "markdown",
   "metadata": {},
   "source": [
    "1715번\n",
    "\n",
    "[문제](https://www.acmicpc.net/problem/1715)"
   ]
  },
  {
   "attachments": {},
   "cell_type": "markdown",
   "metadata": {},
   "source": [
    "### 힙(Heap), 탐욕(Greedy)"
   ]
  },
  {
   "attachments": {},
   "cell_type": "markdown",
   "metadata": {},
   "source": [
    "- 정렬된 두 묶음의 숫자 카드가 있음\n",
    "- 각 묶음의 카드의 수를 A, B라 하면 보통 두 묶음을 합쳐서 하나로 만드는 데에는 A+B 번의 비교를 해야 함\n",
    "- ex) 20장의 숫자 카드 묶음과 30장의 숫자 카드 묶음을 합치려면 50번의 비교가 필요\n",
    "\n",
    "- 매우 많은 숫자 카드 묶음이 책상 위에 놓여 있음\n",
    "- 이들을 두 묶음씩 골라 서로 합쳐나간다면, 고르는 순서에 따라서 비교 횟수가 매우 달라짐\n",
    "- ex) 10장, 20장, 40장의 묶음이 있다면\n",
    "    - 10장과 20장을 합친 뒤, 합친 30장 묶음과 40장을 합친다면 (10 + 20) + (30 + 40) = 100번의 비교가 필요\n",
    "    - 그러나 10장과 40장을 합친 뒤, 합친 50장 묶음과 20장을 합친다면 (10 + 40) + (50 + 20) = 120 번의 비교가 필요\n",
    "- N개의 숫자 카드 묶음의 각각의 크기가 주어질 때, **최소한 몇 번의 비교**가 필요한지 구하기"
   ]
  },
  {
   "attachments": {},
   "cell_type": "markdown",
   "metadata": {},
   "source": [
    "- 입력\n",
    "    - 첫째 줄에 N이 주어짐 (1 ≤ N ≤ 100,000)\n",
    "    - 이어서 N개의 줄에 걸쳐 숫자 카드 묶음의 각각의 크기가 주어짐\n",
    "        - 숫자 카드 묶음의 크기는 1,000보다 작거나 같은 양의 정수\n",
    "- 출력\n",
    "    - 첫째 줄에 최소 비교 횟수를 출력\n",
    "\n",
    "- 시간 제한: 2초\n",
    "- 메모리 제한: 128 MB\n"
   ]
  },
  {
   "cell_type": "code",
   "execution_count": null,
   "metadata": {},
   "outputs": [],
   "source": [
    "\"\"\"\n",
    "입출력 예시)\n",
    "\n",
    "3\n",
    "10\n",
    "20\n",
    "40\n",
    "    -> 100\n",
    "\"\"\""
   ]
  },
  {
   "attachments": {},
   "cell_type": "markdown",
   "metadata": {},
   "source": [
    "## 2023/01/24"
   ]
  },
  {
   "cell_type": "code",
   "execution_count": null,
   "metadata": {},
   "outputs": [],
   "source": [
    "## 의사코드 ##\n",
    "\n",
    "# 최소 비교 횟수를 구하기 위해서는 가장 작은 묶음부터 합쳐야 함\n",
    "# -> heapq로 최소 힙 구현\n",
    "\n",
    "# 두 묶음씩 비교\n",
    "# result = 0\n",
    "# while heap:\n",
    "#   두 묶음을 합쳐서 하나의 묶음으로 만들기\n",
    "#   data1 = heapq.heappop(heap)\n",
    "#   data2 = heapq.heappop(heap)\n",
    "#   new_data = data1 + data2 \n",
    "#   result += new_data"
   ]
  },
  {
   "attachments": {},
   "cell_type": "markdown",
   "metadata": {},
   "source": [
    "### 1) "
   ]
  },
  {
   "cell_type": "code",
   "execution_count": 4,
   "metadata": {},
   "outputs": [
    {
     "ename": "IndexError",
     "evalue": "index out of range",
     "output_type": "error",
     "traceback": [
      "\u001b[0;31m---------------------------------------------------------------------------\u001b[0m",
      "\u001b[0;31mIndexError\u001b[0m                                Traceback (most recent call last)",
      "\u001b[1;32m/Users/hsh/Desktop/algorithms/Algorithms/BAEKJOON/골드4_카드 정렬하기.ipynb 셀 8\u001b[0m in \u001b[0;36m<cell line: 10>\u001b[0;34m()\u001b[0m\n\u001b[1;32m     <a href='vscode-notebook-cell:/Users/hsh/Desktop/algorithms/Algorithms/BAEKJOON/%EA%B3%A8%EB%93%9C4_%EC%B9%B4%EB%93%9C%20%EC%A0%95%EB%A0%AC%ED%95%98%EA%B8%B0.ipynb#X11sZmlsZQ%3D%3D?line=9'>10</a>\u001b[0m \u001b[39mwhile\u001b[39;00m heap: \n\u001b[1;32m     <a href='vscode-notebook-cell:/Users/hsh/Desktop/algorithms/Algorithms/BAEKJOON/%EA%B3%A8%EB%93%9C4_%EC%B9%B4%EB%93%9C%20%EC%A0%95%EB%A0%AC%ED%95%98%EA%B8%B0.ipynb#X11sZmlsZQ%3D%3D?line=10'>11</a>\u001b[0m     data1 \u001b[39m=\u001b[39m heapq\u001b[39m.\u001b[39mheappop(heap)\n\u001b[0;32m---> <a href='vscode-notebook-cell:/Users/hsh/Desktop/algorithms/Algorithms/BAEKJOON/%EA%B3%A8%EB%93%9C4_%EC%B9%B4%EB%93%9C%20%EC%A0%95%EB%A0%AC%ED%95%98%EA%B8%B0.ipynb#X11sZmlsZQ%3D%3D?line=11'>12</a>\u001b[0m     data2 \u001b[39m=\u001b[39m heapq\u001b[39m.\u001b[39;49mheappop(heap)\n\u001b[1;32m     <a href='vscode-notebook-cell:/Users/hsh/Desktop/algorithms/Algorithms/BAEKJOON/%EA%B3%A8%EB%93%9C4_%EC%B9%B4%EB%93%9C%20%EC%A0%95%EB%A0%AC%ED%95%98%EA%B8%B0.ipynb#X11sZmlsZQ%3D%3D?line=12'>13</a>\u001b[0m     \u001b[39m# 두 묶음을 합쳐서 하나의 묶음으로 만들기\u001b[39;00m\n\u001b[1;32m     <a href='vscode-notebook-cell:/Users/hsh/Desktop/algorithms/Algorithms/BAEKJOON/%EA%B3%A8%EB%93%9C4_%EC%B9%B4%EB%93%9C%20%EC%A0%95%EB%A0%AC%ED%95%98%EA%B8%B0.ipynb#X11sZmlsZQ%3D%3D?line=13'>14</a>\u001b[0m     new_data \u001b[39m=\u001b[39m data1 \u001b[39m+\u001b[39m data2 \n",
      "\u001b[0;31mIndexError\u001b[0m: index out of range"
     ]
    }
   ],
   "source": [
    "import heapq \n",
    "n = int(input())\n",
    "heap = []\n",
    "# 데이터 삽입\n",
    "for i in range(n):\n",
    "    data = int(input())\n",
    "    heapq.heappush(heap, data)\n",
    "\n",
    "result = 0 # 비교 횟수\n",
    "while heap: \n",
    "    data1 = heapq.heappop(heap)\n",
    "    data2 = heapq.heappop(heap)\n",
    "    # 두 묶음을 합쳐서 하나의 묶음으로 만들기\n",
    "    new_data = data1 + data2 \n",
    "    # 비교 횟수 갱신\n",
    "    result += new_data \n",
    "    # heap에 두 묶음을 합친 값 추가\n",
    "    heapq.heappush(heap, new_data) \n",
    "\n",
    "print(result)"
   ]
  },
  {
   "attachments": {},
   "cell_type": "markdown",
   "metadata": {},
   "source": [
    "-> heap에 데이터가 하나만 남은 경우 때문에 IndexError: index out of range 발생"
   ]
  },
  {
   "attachments": {},
   "cell_type": "markdown",
   "metadata": {},
   "source": [
    "### 통과)"
   ]
  },
  {
   "cell_type": "code",
   "execution_count": 5,
   "metadata": {},
   "outputs": [
    {
     "name": "stdout",
     "output_type": "stream",
     "text": [
      "100\n"
     ]
    }
   ],
   "source": [
    "import heapq \n",
    "n = int(input())\n",
    "heap = []\n",
    "# 데이터 삽입\n",
    "for i in range(n):\n",
    "    data = int(input())\n",
    "    heapq.heappush(heap, data)\n",
    "\n",
    "result = 0 # 비교 횟수\n",
    "# 두 묶음씩 비교\n",
    "while len(heap) != 1: \n",
    "    data1 = heapq.heappop(heap)\n",
    "    data2 = heapq.heappop(heap)\n",
    "    # 두 묶음을 합쳐서 하나의 묶음으로 만들기\n",
    "    new_data = data1 + data2 \n",
    "    # 비교 횟수 갱신\n",
    "    result += new_data \n",
    "    # heap에 두 묶음을 합친 값 추가\n",
    "    heapq.heappush(heap, new_data) \n",
    "\n",
    "print(result)"
   ]
  },
  {
   "attachments": {},
   "cell_type": "markdown",
   "metadata": {},
   "source": [
    "-> while문을 len(heap) != 1일때만 수행하도록 변경 "
   ]
  }
 ],
 "metadata": {
  "kernelspec": {
   "display_name": "cp2",
   "language": "python",
   "name": "python3"
  },
  "language_info": {
   "codemirror_mode": {
    "name": "ipython",
    "version": 3
   },
   "file_extension": ".py",
   "mimetype": "text/x-python",
   "name": "python",
   "nbconvert_exporter": "python",
   "pygments_lexer": "ipython3",
   "version": "3.9.12"
  },
  "orig_nbformat": 4,
  "vscode": {
   "interpreter": {
    "hash": "5ca59c31ddc1bb1d3e926feef50b5ca0d1eacb2093eee1a1a79c0269dbb49758"
   }
  }
 },
 "nbformat": 4,
 "nbformat_minor": 2
}

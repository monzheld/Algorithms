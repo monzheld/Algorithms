{
 "cells": [
  {
   "attachments": {},
   "cell_type": "markdown",
   "metadata": {},
   "source": [
    "1439번\n",
    "\n",
    "[문제](https://www.acmicpc.net/problem/1439)"
   ]
  },
  {
   "attachments": {},
   "cell_type": "markdown",
   "metadata": {},
   "source": [
    "### 탐욕(Greedy)"
   ]
  },
  {
   "attachments": {},
   "cell_type": "markdown",
   "metadata": {},
   "source": [
    "- 다솜이는 0과 1로만 이루어진 문자열 S를 가지고 있음\n",
    "- 이 **문자열 S에 있는 모든 숫자를 전부 같게 만들려고** 함\n",
    "- 다솜이가 할 수 있는 행동은 S에서 **연속된 하나 이상의 숫자를 잡고 모두 뒤집는 것**\n",
    "- 뒤집는 것은 1을 0으로, 0을 1로 바꾸는 것을 의미\n",
    "- 예를 들어 S=0001100 일 때,\n",
    "    - 1) 전체를 뒤집으면 1110011이 됨\n",
    "    - 2) 4번째 문자부터 5번째 문자까지 뒤집으면 1111111이 되어서 2번 만에 모두 같은 숫자로 만들 수 있음\n",
    "    - 하지만, 처음부터 4번째 문자부터 5번째 문자까지 문자를 뒤집으면 한 번에 0000000이 되어서 1번 만에 모두 같은 숫자로 만들 수 있음\n",
    "- 문자열 S가 주어졌을 때, 다솜이가 해야하는 **행동의 최소 횟수**를 출력"
   ]
  },
  {
   "attachments": {},
   "cell_type": "markdown",
   "metadata": {},
   "source": [
    "- 입력\n",
    "    - 첫째 줄에 문자열 S가 주어짐. S의 길이는 100만보다 작음\n",
    "- 출력\n",
    "    - 첫째 줄에 다솜이가 해야하는 행동의 최소 횟수를 출력\n",
    "\n",
    "- 시간 제한: 2초\n",
    "- 메모리 제한: 128 MB"
   ]
  },
  {
   "cell_type": "code",
   "execution_count": null,
   "metadata": {},
   "outputs": [],
   "source": [
    "\"\"\"\n",
    "입출력 예시)\n",
    "\n",
    "(예제 입력 1) \n",
    "0001100 -> 1\n",
    "\n",
    "(예제 입력 2)\n",
    "11111 -> 0\n",
    "\n",
    "(예제 입력 3)\n",
    "00000001 -> 1\n",
    "\n",
    "(예제 입력 4)\n",
    "11001100110011000001 -> 4\n",
    "\n",
    "(예제 입력 5)\n",
    "11101101 -> 2\n",
    "\"\"\""
   ]
  },
  {
   "attachments": {},
   "cell_type": "markdown",
   "metadata": {},
   "source": [
    "## 2023/02/21"
   ]
  },
  {
   "cell_type": "code",
   "execution_count": null,
   "metadata": {},
   "outputs": [],
   "source": [
    "## 의사코드 ##\n",
    "\n",
    "# 뒤집기 -> 연속된 하나 이상의 숫자만 가능 \n",
    "\n",
    "# # cur = 0 # 현재 숫자\n",
    "# # cnt = 0 # 뒤집기 횟수\n",
    "# for i in s:\n",
    "#     if i == cur:\n",
    "#         continue\n",
    "#     else:\n",
    "#         cnt += 1 # 뒤집기 횟수 + 1\n",
    "#         cur = i # 현재 숫자를 i로 변경\n",
    "\n",
    "# print(cnt//2) # 행동의 최소 횟수"
   ]
  },
  {
   "attachments": {},
   "cell_type": "markdown",
   "metadata": {},
   "source": [
    "### 1)"
   ]
  },
  {
   "cell_type": "code",
   "execution_count": 5,
   "metadata": {},
   "outputs": [
    {
     "name": "stdout",
     "output_type": "stream",
     "text": [
      "4\n"
     ]
    }
   ],
   "source": [
    "s = str(input())\n",
    "\n",
    "cur = '0' # 현재 숫자\n",
    "cnt = 0 # 뒤집기 횟수\n",
    "\n",
    "for i in s:\n",
    "    if i == cur:\n",
    "        continue\n",
    "    else:\n",
    "        cnt += 1 # 뒤집기 횟수 + 1\n",
    "        cur = i # 현재 숫자를 i로 변경\n",
    "\n",
    "print(cnt//2) # 행동의 최소 횟수"
   ]
  },
  {
   "attachments": {},
   "cell_type": "markdown",
   "metadata": {},
   "source": [
    "-> 틀림"
   ]
  },
  {
   "cell_type": "code",
   "execution_count": null,
   "metadata": {},
   "outputs": [],
   "source": [
    "# ex) s = '0101'"
   ]
  },
  {
   "cell_type": "code",
   "execution_count": 8,
   "metadata": {},
   "outputs": [],
   "source": [
    "s = '0101'"
   ]
  },
  {
   "cell_type": "code",
   "execution_count": 9,
   "metadata": {},
   "outputs": [
    {
     "name": "stdout",
     "output_type": "stream",
     "text": [
      "1\n"
     ]
    }
   ],
   "source": [
    "cur = '0' # 현재 숫자\n",
    "cnt = 0 # 뒤집기 횟수\n",
    "\n",
    "for i in s:\n",
    "    if i == cur:\n",
    "        continue\n",
    "    else:\n",
    "        cnt += 1 # 뒤집기 횟수 + 1\n",
    "        cur = i # 현재 숫자를 i로 변경\n",
    "\n",
    "print(cnt//2) # 행동의 최소 횟수"
   ]
  },
  {
   "attachments": {},
   "cell_type": "markdown",
   "metadata": {},
   "source": [
    "-> s = '0101'인 경우, cnt는 3이고, 행동의 최소 횟수는 2가 정답인데 위 코드로는 1이 나옴"
   ]
  },
  {
   "attachments": {},
   "cell_type": "markdown",
   "metadata": {},
   "source": [
    "### 통과)"
   ]
  },
  {
   "cell_type": "code",
   "execution_count": 14,
   "metadata": {},
   "outputs": [
    {
     "name": "stdout",
     "output_type": "stream",
     "text": [
      "4\n"
     ]
    }
   ],
   "source": [
    "s = str(input())\n",
    "\n",
    "cur = '0' # 현재 숫자\n",
    "cnt = 0 # 뒤집기 횟수\n",
    "\n",
    "for i in s:\n",
    "    if i == cur:\n",
    "        continue\n",
    "    else:\n",
    "        cnt += 1 # 뒤집기 횟수 + 1\n",
    "        cur = i # 현재 숫자를 i로 변경\n",
    "\n",
    "# s가 1로 시작하는 경우, 뒤집기 횟수에서 1을 뺌 \n",
    "if s[0] == '1':\n",
    "    cnt -= 1 # 처음 시작 숫자를 0으로 해서 카운트 했기 때문에 1을 빼줘야 함\n",
    "\n",
    "print((cnt+1)//2) # 행동의 최소 횟수"
   ]
  },
  {
   "cell_type": "code",
   "execution_count": null,
   "metadata": {},
   "outputs": [],
   "source": [
    "# ex) s = '0101'"
   ]
  },
  {
   "cell_type": "code",
   "execution_count": 15,
   "metadata": {},
   "outputs": [],
   "source": [
    "s = '0101'"
   ]
  },
  {
   "cell_type": "code",
   "execution_count": 16,
   "metadata": {},
   "outputs": [
    {
     "name": "stdout",
     "output_type": "stream",
     "text": [
      "2\n"
     ]
    }
   ],
   "source": [
    "cur = '0' # 현재 숫자\n",
    "cnt = 0 # 뒤집기 횟수\n",
    "\n",
    "for i in s:\n",
    "    if i == cur:\n",
    "        continue\n",
    "    else:\n",
    "        cnt += 1 # 뒤집기 횟수 + 1\n",
    "        cur = i # 현재 숫자를 i로 변경\n",
    "\n",
    "# s가 1로 시작하는 경우, 뒤집기 횟수에서 1을 뺌 \n",
    "if s[0] == '1':\n",
    "    cnt -= 1 # 처음 시작 숫자를 0으로 해서 카운트 했기 때문에 1을 빼줘야 함\n",
    "\n",
    "print((cnt+1)//2) # 행동의 최소 횟수"
   ]
  },
  {
   "attachments": {},
   "cell_type": "markdown",
   "metadata": {},
   "source": [
    "### 다른 풀이"
   ]
  },
  {
   "cell_type": "code",
   "execution_count": null,
   "metadata": {},
   "outputs": [],
   "source": [
    "s = input()\n",
    "\n",
    "cnt = 0 \n",
    "for i in range(len(s)-1):\n",
    "    if s[i] != s[i+1]:\n",
    "        cnt += 1\n",
    "\n",
    "print((cnt+1)//2)"
   ]
  },
  {
   "attachments": {},
   "cell_type": "markdown",
   "metadata": {},
   "source": [
    "-> 현재 숫자를 따로 변수로 선언하지 않고 인덱스로 현재 숫자와 다음 숫자가 다르면 뒤집기 횟수 + 1"
   ]
  }
 ],
 "metadata": {
  "kernelspec": {
   "display_name": "cp2",
   "language": "python",
   "name": "python3"
  },
  "language_info": {
   "codemirror_mode": {
    "name": "ipython",
    "version": 3
   },
   "file_extension": ".py",
   "mimetype": "text/x-python",
   "name": "python",
   "nbconvert_exporter": "python",
   "pygments_lexer": "ipython3",
   "version": "3.9.12"
  },
  "orig_nbformat": 4,
  "vscode": {
   "interpreter": {
    "hash": "5ca59c31ddc1bb1d3e926feef50b5ca0d1eacb2093eee1a1a79c0269dbb49758"
   }
  }
 },
 "nbformat": 4,
 "nbformat_minor": 2
}

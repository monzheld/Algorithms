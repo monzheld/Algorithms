{
 "cells": [
  {
   "attachments": {},
   "cell_type": "markdown",
   "metadata": {},
   "source": [
    "14720번\n",
    "\n",
    "[문제](https://www.acmicpc.net/problem/14720)"
   ]
  },
  {
   "attachments": {},
   "cell_type": "markdown",
   "metadata": {},
   "source": [
    "### 탐욕(Greedy)"
   ]
  },
  {
   "attachments": {},
   "cell_type": "markdown",
   "metadata": {},
   "source": [
    "- 영학이는 자신만의 우유를 마시는 규칙이 있음\n",
    "    - 1) 맨 처음에는 딸기우유를 한 팩 마심\n",
    "    - 2) 딸기우유를 한 팩 마신 후에는 초코우유를 한 팩 마심\n",
    "    - 3) 초코우유를 한 팩 마신 후에는 바나나우유를 한 팩 마심\n",
    "    - 4) 바나나우유를 한 팩 마신 후에는 딸기우유를 한 팩 마심\n",
    "- 우유 거리에는 우유 가게들이 일렬로 늘어서 있음\n",
    "- 영학이는 우유 거리의 시작부터 끝까지 걸으면서 우유를 사먹고자 함\n",
    "- 각각의 우유 가게는 딸기, 초코, 바나나 중 한 종류의 우유만을 취급\n",
    "- 각각의 우유 가게 앞에서, 영학이는 우유를 사마시거나, 사마시지 않음\n",
    "- 우유거리에는 사람이 많기 때문에 한 번 지나친 우유 가게에는 다시 갈 수 없음\n",
    "- 영학이가 **마실 수 있는 우유의 최대 개수** 구하기"
   ]
  },
  {
   "attachments": {},
   "cell_type": "markdown",
   "metadata": {},
   "source": [
    "- 입력\n",
    "    - 첫째 줄에 우유 가게의 수 N이 주어짐 (1 ≤ N ≤ 1000)\n",
    "    - 둘째 줄에는 우유 가게 정보가 우유 거리의 시작부터 끝까지 순서대로 N개의 정수로 주어짐\n",
    "    - **0은 딸기우유만을 파는 가게, 1은 초코우유만을 파는 가게, 2는 바나나우유만을 파는 가게**를 뜻하며, 0, 1, 2 외의 정수는 주어지지 않음\n",
    "- 출력\n",
    "    - 영학이가 마실 수 있는 우유의 최대 개수를 출력\n",
    "\n",
    "- 시간 제한: 1초\n",
    "- 메모리 제한: 256 MB"
   ]
  },
  {
   "cell_type": "code",
   "execution_count": null,
   "metadata": {},
   "outputs": [],
   "source": [
    "\"\"\"\n",
    "입출력 예시)\n",
    "\n",
    "7\n",
    "0 1 2 0 1 2 0\n",
    "            -> 7\n",
    "\"\"\""
   ]
  },
  {
   "attachments": {},
   "cell_type": "markdown",
   "metadata": {},
   "source": [
    "## 2023/02/10"
   ]
  },
  {
   "cell_type": "code",
   "execution_count": null,
   "metadata": {},
   "outputs": [],
   "source": [
    "## 의사코드 ##\n",
    "\n",
    "# 맨 처음 마실 우유는 딸기우유(0)\n",
    "# 그 다음부터 초코우유(1) -> 바나나우유(2) -> 딸기우유(0) 순서대로 마심\n",
    "\n",
    "# 0 -> 1 -> 2 순서\n",
    "# => 3으로 나눈 나머지 \n",
    "\n",
    "# 현재 우유가 마실 수 있는 우유의 개수를 3으로 나눈 나머지와 같으면 \n",
    "# 우유 개수 + 1"
   ]
  },
  {
   "attachments": {},
   "cell_type": "markdown",
   "metadata": {},
   "source": [
    "### 통과)"
   ]
  },
  {
   "cell_type": "code",
   "execution_count": 5,
   "metadata": {},
   "outputs": [
    {
     "name": "stdout",
     "output_type": "stream",
     "text": [
      "7\n"
     ]
    }
   ],
   "source": [
    "n = int(input())\n",
    "stores = list(map(int, input().split()))\n",
    "cnt = 0 # 마실 수 있는 우유의 개수\n",
    "for s in stores:\n",
    "    # 현재 우유가 마실 수 있는 우유의 개수를 3으로 나눈 나머지와 같으면 우유 개수 + 1\n",
    "    if s == cnt % 3:\n",
    "        cnt += 1\n",
    "print(cnt)"
   ]
  }
 ],
 "metadata": {
  "kernelspec": {
   "display_name": "cp2",
   "language": "python",
   "name": "python3"
  },
  "language_info": {
   "codemirror_mode": {
    "name": "ipython",
    "version": 3
   },
   "file_extension": ".py",
   "mimetype": "text/x-python",
   "name": "python",
   "nbconvert_exporter": "python",
   "pygments_lexer": "ipython3",
   "version": "3.9.12"
  },
  "orig_nbformat": 4,
  "vscode": {
   "interpreter": {
    "hash": "5ca59c31ddc1bb1d3e926feef50b5ca0d1eacb2093eee1a1a79c0269dbb49758"
   }
  }
 },
 "nbformat": 4,
 "nbformat_minor": 2
}

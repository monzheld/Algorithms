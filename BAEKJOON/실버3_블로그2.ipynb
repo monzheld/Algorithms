{
 "cells": [
  {
   "attachments": {},
   "cell_type": "markdown",
   "metadata": {},
   "source": [
    "20365번\n",
    "\n",
    "[문제](https://www.acmicpc.net/problem/20365)"
   ]
  },
  {
   "attachments": {},
   "cell_type": "markdown",
   "metadata": {},
   "source": [
    "### 탐욕(Greedy)"
   ]
  },
  {
   "attachments": {},
   "cell_type": "markdown",
   "metadata": {},
   "source": [
    "- neighbor 블로그를 운영하는 일우는 매일 아침 풀고 싶은 문제를 미리 정해놓고 글을 올림\n",
    "- 그리고 매일 밤 각각의 문제에 대하여, 해결한 경우 파란색, 해결하지 못한 경우 빨간색으로 칠함\n",
    "- 일우는 각 문제를 칠할 때 아래와 같은 과정을 한 번의 작업으로 수행\n",
    "    - 1) 연속된 임의의 문제들을 선택\n",
    "    - 2) 선택된 문제들을 전부 원하는 같은 색으로 칠함\n",
    "- 일우를 도와 각 문제를 주어진 색으로 칠할 때 필요한 **최소한의 작업 횟수** 구하기"
   ]
  },
  {
   "attachments": {},
   "cell_type": "markdown",
   "metadata": {},
   "source": [
    "- 예를 들어, 각 문제를 아래와 같은 색으로 칠하려고 할 때,\n",
    "    - 1~2번 문제를 파란색, 3번을 빨간색, 4번을 파란색, 5번을 빨간색, 6~7번을 파란색, 8번을 빨간색으로 칠하는 작업을 순서대로 수행하면 6번의 작업을 거쳐야 함\n",
    "    - 하지만, 1~7번 문제를 파란색, 3번을 빨간색, 5번을 빨간색, 8번을 빨간색으로 순서대로 칠한다면 작업 횟수는 4번으로 가장 적음"
   ]
  },
  {
   "attachments": {},
   "cell_type": "markdown",
   "metadata": {},
   "source": [
    "<img width=\"274\" alt=\"스크린샷 2023-02-25 22 19 18\" src=\"https://user-images.githubusercontent.com/93971420/221359095-dc5164bb-29a5-498d-add9-a102c7d15ffb.png\">"
   ]
  },
  {
   "attachments": {},
   "cell_type": "markdown",
   "metadata": {},
   "source": [
    "- 입력\n",
    "    - 첫째 줄에 색을 칠해야 하는 문제의 수 N (1 ≤ N ≤ 500,000)이 주어짐\n",
    "    - 둘째 줄에 N개의 문자가 공백 없이 순서대로 주어짐\n",
    "    - 각 문자는 i번째 문제를 어떤 색으로 칠해야 하는지를 의미하며, R은 빨간색, B는 파란색을 나타냄\n",
    "    - 그 외에 다른 문자는 주어지지 않음\n",
    "- 출력\n",
    "    - 첫째 줄에 일우가 주어진 모든 문제를 원하는 색으로 칠할 때까지 필요한 작업 횟수의 최솟값을 출력\n"
   ]
  },
  {
   "cell_type": "code",
   "execution_count": null,
   "metadata": {},
   "outputs": [],
   "source": [
    "\"\"\"\n",
    "입출력 예시)\n",
    "\n",
    "8\n",
    "BBRBRBBR\n",
    "    -> 4\n",
    "\"\"\""
   ]
  },
  {
   "attachments": {},
   "cell_type": "markdown",
   "metadata": {},
   "source": [
    "## 2023/02/25"
   ]
  },
  {
   "cell_type": "code",
   "execution_count": null,
   "metadata": {},
   "outputs": [],
   "source": [
    "## 의사코드 ##\n",
    "\n",
    "# 최소한의 작업 횟수 -> 개수가 많은 색을 한 번에 먼저 다 칠한 다음, 남은 색의 개수만큼 칠하기\n",
    "\n",
    "# red_n = colors.count('R') # 빨간색의 개수\n",
    "# blue_n = colors.count('B') # 파란색의 개수 \n",
    "\n",
    "# 최소한의 작업 횟수 = 빨간색과 파란색의 개수 중 더 작은 것 + 1\n",
    "# min(red_n, blue_n) + 1"
   ]
  },
  {
   "attachments": {},
   "cell_type": "markdown",
   "metadata": {},
   "source": [
    "### 1) "
   ]
  },
  {
   "cell_type": "code",
   "execution_count": 2,
   "metadata": {},
   "outputs": [
    {
     "name": "stdout",
     "output_type": "stream",
     "text": [
      "4\n"
     ]
    }
   ],
   "source": [
    "n = int(input())\n",
    "colors = input()\n",
    "\n",
    "# 빨간색의 개수\n",
    "red_n = colors.count('R')\n",
    "# 파란색의 개수 \n",
    "blue_n = colors.count('B')\n",
    "\n",
    "# 최소한의 작업 횟수 = 빨간색과 파란색의 개수 중 더 작은 것 + 1\n",
    "print(min(red_n, blue_n) + 1)"
   ]
  },
  {
   "attachments": {},
   "cell_type": "markdown",
   "metadata": {},
   "source": [
    "-> 틀림"
   ]
  },
  {
   "attachments": {},
   "cell_type": "markdown",
   "metadata": {},
   "source": [
    "### 2)"
   ]
  },
  {
   "cell_type": "code",
   "execution_count": null,
   "metadata": {},
   "outputs": [],
   "source": [
    "## 의사코드 ##\n",
    "\n",
    "# 최소한의 작업 횟수 -> 개수가 많은 색을 한 번에 먼저 다 칠한 다음, 남은 색의 개수만큼 칠하기\n",
    "\n",
    "# 시작 색상 지정\n",
    "# start_clor = 'R' # 시작 색상 \n",
    "\n",
    "# 파란색의 개수가 더 많은 경우, 시작 색상을 'B'로 변경 \n",
    "# if colors.count('B') > colors.count('R'):\n",
    "#     start_clor = 'B'\n",
    "\n",
    "# cnt = 1 # 작업 횟수 (맨 처음, 가장 많은 개수의 색상으로 칠해놓기 때문에 1부터 시작)\n",
    "\n",
    "# for c in colors:\n",
    "#     # 현재 색상이 시작 색상과 다르면 작업 횟수 + 1\n",
    "#     if c != start_clor:\n",
    "#         cnt += 1\n",
    "# print(cnt)"
   ]
  },
  {
   "cell_type": "code",
   "execution_count": 4,
   "metadata": {},
   "outputs": [
    {
     "name": "stdout",
     "output_type": "stream",
     "text": [
      "4\n"
     ]
    }
   ],
   "source": [
    "n = int(input())\n",
    "colors = input()\n",
    "\n",
    "start_clor = 'R' # 시작 색상 \n",
    "# 파란색의 개수가 더 많은 경우, 시작 색상을 'B'로 변경 \n",
    "if colors.count('B') > colors.count('R'):\n",
    "    start_clor = 'B'\n",
    "\n",
    "cnt = 1 # 작업 횟수 (맨 처음, 가장 많은 개수의 색상으로 칠해놓기 때문에 1부터 시작)\n",
    "\n",
    "for c in colors:\n",
    "    # 현재 색상이 시작 색상과 다르면 작업 횟수 + 1\n",
    "    if c != start_clor:\n",
    "        cnt += 1\n",
    "print(cnt)"
   ]
  },
  {
   "attachments": {},
   "cell_type": "markdown",
   "metadata": {},
   "source": [
    "-> 틀림"
   ]
  },
  {
   "attachments": {},
   "cell_type": "markdown",
   "metadata": {},
   "source": [
    "### 통과)"
   ]
  },
  {
   "cell_type": "code",
   "execution_count": null,
   "metadata": {},
   "outputs": [],
   "source": [
    "## 의사코드 ##\n",
    "\n",
    "# 최소한의 작업 횟수 -> 개수가 많은 색을 한 번에 먼저 다 칠한 다음, 남은 색의 개수만큼 칠하기\n",
    "\n",
    "# 두 가지 색상의 작업 횟수를 모두 구해서 둘 중 더 작은 것 + 1\n",
    "\n",
    "# dic = {'R':0, 'B':0} # 두 색상의 작업 횟수를 담을 딕셔너리\n",
    "# 시작 색상의 작업 횟수 + 1\n",
    "# dic[colors[0]] += 1 \n",
    "\n",
    "# for i in range(1, n):\n",
    "#     # 현재 색상이 이전 색상과 다른 경우, 현재 색상의 작업 횟수 + 1\n",
    "#     if colors[i] != colors[i-1]:\n",
    "#         dic[colors[i]] += 1\n",
    "\n",
    "# 두 가지 색상의 작업 횟수 중 더 작은 값 + 1\n",
    "# min(dic['R'], dic['B']) + 1\n"
   ]
  },
  {
   "cell_type": "code",
   "execution_count": null,
   "metadata": {},
   "outputs": [],
   "source": [
    "n = int(input())\n",
    "colors = input()\n",
    "\n",
    "# 두 색상의 작업 횟수를 담을 딕셔너리\n",
    "dic = {'R':0, 'B':0} \n",
    "# 시작 색상의 작업 횟수 + 1\n",
    "dic[colors[0]] += 1 \n",
    "\n",
    "for i in range(1, n):\n",
    "    # 현재 색상이 이전 색상과 다른 경우, 현재 색상의 작업 횟수 + 1\n",
    "    if colors[i] != colors[i-1]:\n",
    "        dic[colors[i]] += 1\n",
    "\n",
    "# 두 가지 색상의 작업 횟수 중 더 작은 값 + 1\n",
    "print(min(dic['R'], dic['B']) + 1)"
   ]
  },
  {
   "attachments": {},
   "cell_type": "markdown",
   "metadata": {},
   "source": [
    "-> 딕셔너리를 사용해서 두 색상의 작업 횟수를 저장하고, 둘 중 더 작은 값에 1을 더한 것이 최소 작업 횟수"
   ]
  },
  {
   "cell_type": "code",
   "execution_count": null,
   "metadata": {},
   "outputs": [],
   "source": [
    "# 과정 확인"
   ]
  },
  {
   "cell_type": "code",
   "execution_count": 6,
   "metadata": {},
   "outputs": [],
   "source": [
    "n = 8\n",
    "colors = 'BBRBRBBR'"
   ]
  },
  {
   "cell_type": "code",
   "execution_count": 7,
   "metadata": {},
   "outputs": [
    {
     "name": "stdout",
     "output_type": "stream",
     "text": [
      "딕셔너리에 시작 색상의 작업 횟수 + 1: {'R': 0, 'B': 1} \n",
      "\n",
      "이전 색상: B\n",
      "현재 색상: B\n",
      "dic: {'R': 0, 'B': 1} \n",
      "\n",
      "이전 색상: B\n",
      "현재 색상: R\n",
      "현재 색상의 작업 횟수 + 1\n",
      "dic: {'R': 1, 'B': 1} \n",
      "\n",
      "이전 색상: R\n",
      "현재 색상: B\n",
      "현재 색상의 작업 횟수 + 1\n",
      "dic: {'R': 1, 'B': 2} \n",
      "\n",
      "이전 색상: B\n",
      "현재 색상: R\n",
      "현재 색상의 작업 횟수 + 1\n",
      "dic: {'R': 2, 'B': 2} \n",
      "\n",
      "이전 색상: R\n",
      "현재 색상: B\n",
      "현재 색상의 작업 횟수 + 1\n",
      "dic: {'R': 2, 'B': 3} \n",
      "\n",
      "이전 색상: B\n",
      "현재 색상: B\n",
      "dic: {'R': 2, 'B': 3} \n",
      "\n",
      "이전 색상: B\n",
      "현재 색상: R\n",
      "현재 색상의 작업 횟수 + 1\n",
      "dic: {'R': 3, 'B': 3} \n",
      "\n",
      "최종 dic: {'R': 3, 'B': 3} \n",
      "\n",
      "4\n"
     ]
    }
   ],
   "source": [
    "# 두 색상의 작업 횟수를 담을 딕셔너리\n",
    "dic = {'R':0, 'B':0}\n",
    "# 시작 색상의 작업 횟수 + 1\n",
    "dic[colors[0]] += 1 \n",
    "print('딕셔너리에 시작 색상의 작업 횟수 + 1:', dic, '\\n')\n",
    "\n",
    "for i in range(1, n):\n",
    "    # 현재 색상이 이전 색상과 다른 경우, 현재 색상의 작업 횟수 + 1\n",
    "    print('이전 색상:', colors[i-1])\n",
    "    print('현재 색상:', colors[i])\n",
    "    if colors[i] != colors[i-1]:\n",
    "        dic[colors[i]] += 1\n",
    "        print('현재 색상의 작업 횟수 + 1')\n",
    "    print('dic:', dic, '\\n')\n",
    "\n",
    "print('최종 dic:', dic, '\\n')\n",
    "\n",
    "# 두 가지 색상의 작업 횟수 중 더 작은 값 + 1\n",
    "print(min(dic['R'], dic['B']) + 1)"
   ]
  }
 ],
 "metadata": {
  "kernelspec": {
   "display_name": "cp2",
   "language": "python",
   "name": "python3"
  },
  "language_info": {
   "codemirror_mode": {
    "name": "ipython",
    "version": 3
   },
   "file_extension": ".py",
   "mimetype": "text/x-python",
   "name": "python",
   "nbconvert_exporter": "python",
   "pygments_lexer": "ipython3",
   "version": "3.9.12"
  },
  "orig_nbformat": 4,
  "vscode": {
   "interpreter": {
    "hash": "5ca59c31ddc1bb1d3e926feef50b5ca0d1eacb2093eee1a1a79c0269dbb49758"
   }
  }
 },
 "nbformat": 4,
 "nbformat_minor": 2
}

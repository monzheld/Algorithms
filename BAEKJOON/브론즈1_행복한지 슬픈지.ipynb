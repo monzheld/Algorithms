{
 "cells": [
  {
   "attachments": {},
   "cell_type": "markdown",
   "metadata": {},
   "source": [
    "10769번\n",
    "\n",
    "[문제](https://www.acmicpc.net/problem/10769)"
   ]
  },
  {
   "attachments": {},
   "cell_type": "markdown",
   "metadata": {},
   "source": [
    "### 문자열"
   ]
  },
  {
   "attachments": {},
   "cell_type": "markdown",
   "metadata": {},
   "source": [
    "- 승엽이가 보내는 이모티콘은 세 개의 문자가 붙어있는 구조로 이루어져 있으며, 행복한 얼굴을 나타내는 :-) 와 슬픈 얼굴을 나타내는 :-( 가 있음\n",
    "- 승엽이의 문자가 오면 전체적인 분위기만 판단하기"
   ]
  },
  {
   "attachments": {},
   "cell_type": "markdown",
   "metadata": {},
   "source": [
    "- 입력\n",
    "    - 첫 줄에 최소 1개에서 최대 255개의 문자들이 입력\n",
    "- 출력\n",
    "    - 어떤 이모티콘도 포함되어 있지 않으면, none 을 출력\n",
    "    - 행복한 이모티콘과 슬픈 이모티콘의 수가 동일하게 포함되어 있으면, unsure 를 출력\n",
    "    - 행복한 이모티콘이 슬픈 이모티콘보다 많이 포함되어 있으면, happy 를 출력\n",
    "    - 슬픈 이모티콘이 행복한 이모티콘보다 많이 포함되어 있으면, sad 를 출력\n",
    "\n",
    "- 시간 제한: 1초\n",
    "- 메모리 제한: 256 MB"
   ]
  },
  {
   "cell_type": "code",
   "execution_count": null,
   "metadata": {},
   "outputs": [],
   "source": [
    "\"\"\"\n",
    "입출력 예시)\n",
    "\n",
    "(예제 입력 1) \n",
    "How are you :-) doing :-( today :-)?\n",
    "                                        -> happy\n",
    "\n",
    "(예제 입력 2) \n",
    ":)\n",
    "    -> none\n",
    "\n",
    "(예제 입력 3) \n",
    "This:-(is str:-(:-(ange te:-)xt.\n",
    "                                    -> sad\n",
    "\"\"\""
   ]
  },
  {
   "attachments": {},
   "cell_type": "markdown",
   "metadata": {},
   "source": [
    "## 2023/06/04"
   ]
  },
  {
   "cell_type": "code",
   "execution_count": null,
   "metadata": {},
   "outputs": [],
   "source": [
    "## 의사코드 ##\n",
    "\n",
    "# 전체 문자열을 3글자씩으로 파싱\n",
    "# for i in range(len(string)):\n",
    "#     string[i:i+3]\n",
    "\n",
    "# ':-)'이면 행복 개수 + 1\n",
    "# ':-('이면 슬픔 개수 + 1"
   ]
  },
  {
   "attachments": {},
   "cell_type": "markdown",
   "metadata": {},
   "source": [
    "### 통과)"
   ]
  },
  {
   "cell_type": "code",
   "execution_count": 5,
   "metadata": {},
   "outputs": [
    {
     "name": "stdout",
     "output_type": "stream",
     "text": [
      "sad\n"
     ]
    }
   ],
   "source": [
    "string = input()\n",
    "happy = 0 # 행복한 이모티콘 개수\n",
    "sad = 0 # 슬픈 이모티콘 개수\n",
    "\n",
    "# 이모티콘 개수 카운트\n",
    "for i in range(len(string)):\n",
    "    if string[i:i+3] == ':-)':\n",
    "        happy += 1\n",
    "    elif string[i:i+3] == ':-(':\n",
    "        sad += 1\n",
    "\n",
    "# 어떤 이모티콘도 포함되어 있지 않으면, none \n",
    "if happy == 0 and sad ==0:\n",
    "    print('none')\n",
    "# 행복한 이모티콘과 슬픈 이모티콘의 수가 동일하게 포함되어 있으면, unsure \n",
    "elif happy == sad:\n",
    "    print('unsure')\n",
    "# 행복한 이모티콘이 슬픈 이모티콘보다 많이 포함되어 있으면, happy \n",
    "elif happy > sad:\n",
    "    print('happy')\n",
    "# 슬픈 이모티콘이 행복한 이모티콘보다 많이 포함되어 있으면, sad\n",
    "else:\n",
    "    print('sad')"
   ]
  }
 ],
 "metadata": {
  "kernelspec": {
   "display_name": "base",
   "language": "python",
   "name": "python3"
  },
  "language_info": {
   "codemirror_mode": {
    "name": "ipython",
    "version": 3
   },
   "file_extension": ".py",
   "mimetype": "text/x-python",
   "name": "python",
   "nbconvert_exporter": "python",
   "pygments_lexer": "ipython3",
   "version": "3.9.7"
  },
  "orig_nbformat": 4
 },
 "nbformat": 4,
 "nbformat_minor": 2
}

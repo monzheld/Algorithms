{
 "cells": [
  {
   "attachments": {},
   "cell_type": "markdown",
   "metadata": {},
   "source": [
    "2587번\n",
    "\n",
    "[문제](https://www.acmicpc.net/problem/2587)"
   ]
  },
  {
   "attachments": {},
   "cell_type": "markdown",
   "metadata": {},
   "source": [
    "### 정렬"
   ]
  },
  {
   "attachments": {},
   "cell_type": "markdown",
   "metadata": {},
   "source": [
    "- 어떤 수들이 있을 때, 그 수들을 대표하는 값으로 가장 흔하게 쓰이는 것은 평균\n",
    "- 평균은 주어진 모든 수의 합을 수의 개수로 나눈 것\n",
    "    - 예를 들어 10, 40, 30, 60, 30의 평균은 (10 + 40 + 30 + 60 + 30) / 5 = 170 / 5 = 34\n",
    "- 평균 이외의 또 다른 대표값으로 중앙값이라는 것이 있음\n",
    "- 중앙값은 주어진 수를 크기 순서대로 늘어 놓았을 때 가장 중앙에 놓인 값\n",
    "    - 예를 들어 10, 40, 30, 60, 30의 경우, 크기 순서대로 늘어 놓으면 10, 30, 30, 40, 60이 되고, 중앙값은 30\n",
    "- **다섯 개의 자연수가 주어질 때 이들의 평균과 중앙값** 구하기"
   ]
  },
  {
   "attachments": {},
   "cell_type": "markdown",
   "metadata": {},
   "source": [
    "- 입력\n",
    "    - 첫째 줄부터 다섯 번째 줄까지 한 줄에 하나씩 자연수가 주어짐\n",
    "    - 주어지는 자연수는 100 보다 작은 10의 배수\n",
    "- 출력\n",
    "    - **첫째 줄에는 평균을 출력하고, 둘째 줄에는 중앙값**을 출력\n",
    "    - 평균과 중앙값은 모두 자연수\n",
    "\n",
    "- 시간 제한: 1초\n",
    "- 메모리 제한: 128 MB"
   ]
  },
  {
   "cell_type": "code",
   "execution_count": null,
   "metadata": {},
   "outputs": [],
   "source": [
    "\"\"\"\n",
    "입출력 예시)\n",
    "\n",
    "10\n",
    "40\n",
    "30\n",
    "60\n",
    "30\n",
    "    -> 34\n",
    "       30\n",
    "\"\"\""
   ]
  },
  {
   "attachments": {},
   "cell_type": "markdown",
   "metadata": {},
   "source": [
    "## 2023/03/21"
   ]
  },
  {
   "cell_type": "code",
   "execution_count": null,
   "metadata": {},
   "outputs": [],
   "source": [
    "## 의사코드 ##\n",
    "\n",
    "# nums = [] # 자연수를 저장할 리스트\n",
    "\n",
    "# 자연수 리스트를 크기 순서대로 정렬\n",
    "# nums.sort() \n",
    "\n",
    "# 평균\n",
    "# sum(nums) // 5\n",
    "\n",
    "# 5개의 자연수에서의 중앙값 \n",
    "# index=2 인 값 (0, 1, 2, 3, 4)\n",
    "# nums[2]"
   ]
  },
  {
   "attachments": {},
   "cell_type": "markdown",
   "metadata": {},
   "source": [
    "### 통과)"
   ]
  },
  {
   "cell_type": "code",
   "execution_count": 1,
   "metadata": {},
   "outputs": [
    {
     "name": "stdout",
     "output_type": "stream",
     "text": [
      "34\n",
      "30\n"
     ]
    }
   ],
   "source": [
    "nums = []\n",
    "for _ in range(5):\n",
    "    n = int(input())\n",
    "    nums.append(n)\n",
    "# 자연수 리스트를 크기 순서대로 정렬\n",
    "nums.sort() \n",
    "# 평균\n",
    "print(sum(nums) // 5)\n",
    "# 5개의 자연수에서의 중앙값 \n",
    "print(nums[2])"
   ]
  }
 ],
 "metadata": {
  "kernelspec": {
   "display_name": "base",
   "language": "python",
   "name": "python3"
  },
  "language_info": {
   "codemirror_mode": {
    "name": "ipython",
    "version": 3
   },
   "file_extension": ".py",
   "mimetype": "text/x-python",
   "name": "python",
   "nbconvert_exporter": "python",
   "pygments_lexer": "ipython3",
   "version": "3.9.7"
  },
  "orig_nbformat": 4
 },
 "nbformat": 4,
 "nbformat_minor": 2
}

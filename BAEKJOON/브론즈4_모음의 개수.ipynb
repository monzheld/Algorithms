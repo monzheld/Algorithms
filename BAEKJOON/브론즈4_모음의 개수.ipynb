{
 "cells": [
  {
   "attachments": {},
   "cell_type": "markdown",
   "metadata": {},
   "source": [
    "1264번\n",
    "\n",
    "[문제](https://www.acmicpc.net/problem/1264)"
   ]
  },
  {
   "attachments": {},
   "cell_type": "markdown",
   "metadata": {},
   "source": [
    "### 문자열"
   ]
  },
  {
   "attachments": {},
   "cell_type": "markdown",
   "metadata": {},
   "source": [
    "- 영문 문장을 입력받아 모음의 개수를 세기\n",
    "- 모음은 'a', 'e', 'i', 'o', 'u'이며 대문자 또는 소문자"
   ]
  },
  {
   "attachments": {},
   "cell_type": "markdown",
   "metadata": {},
   "source": [
    "- 입력\n",
    "    - 입력은 여러 개의 테스트 케이스로 이루어져 있으며, 각 줄마다 영어 대소문자, ',', '.', '!', '?', 공백으로 이루어진 문장이 주어짐\n",
    "    - 각 줄은 최대 255글자로 이루어져 있음\n",
    "    - 입력의 끝에는 한 줄에 '#' 한 글자만이 주어짐\n",
    "- 출력\n",
    "    - 각 줄마다 모음의 개수를 세서 출력\n",
    "\n",
    "- 시간 제한: 1초\n",
    "- 메모리 제한: 128 MB"
   ]
  },
  {
   "cell_type": "code",
   "execution_count": null,
   "metadata": {},
   "outputs": [],
   "source": [
    "\"\"\"\n",
    "입출력 예시)\n",
    "\n",
    "How are you today?\n",
    "Quite well, thank you, how about yourself?\n",
    "I live at number twenty four.\n",
    "#\n",
    "    -> 7\n",
    "       14\n",
    "       9\n",
    "\"\"\""
   ]
  },
  {
   "attachments": {},
   "cell_type": "markdown",
   "metadata": {},
   "source": [
    "## 2023/03/12"
   ]
  },
  {
   "cell_type": "code",
   "execution_count": null,
   "metadata": {},
   "outputs": [],
   "source": [
    "## 의사코드 ##\n",
    "\n",
    "# 각 문장 소문자로 변환\n",
    "# s.lower()\n",
    "\n",
    "# 모음 리스트\n",
    "# vowel = [ 'a', 'e', 'i', 'o', 'u']\n",
    "\n",
    "# cnt = 0 # 모음의 개수\n",
    "\n",
    "# 문장을 리스트로 변환\n",
    "# s = list(s)\n",
    "\n",
    "# for chr in s:\n",
    "#     if chr in vowel:\n",
    "#         cnt += 1"
   ]
  },
  {
   "attachments": {},
   "cell_type": "markdown",
   "metadata": {},
   "source": [
    "### 통과)"
   ]
  },
  {
   "cell_type": "code",
   "execution_count": 4,
   "metadata": {},
   "outputs": [
    {
     "name": "stdout",
     "output_type": "stream",
     "text": [
      "7\n",
      "14\n",
      "9\n"
     ]
    }
   ],
   "source": [
    "while True:\n",
    "    s = input().lower()\n",
    "    if s == '#':\n",
    "        break\n",
    "    else:\n",
    "        s = list(s)\n",
    "        vowel = [ 'a', 'e', 'i', 'o', 'u']\n",
    "        cnt = 0\n",
    "        for chr in s:\n",
    "            if chr in vowel:\n",
    "                cnt += 1\n",
    "        print(cnt)"
   ]
  }
 ],
 "metadata": {
  "kernelspec": {
   "display_name": "base",
   "language": "python",
   "name": "python3"
  },
  "language_info": {
   "codemirror_mode": {
    "name": "ipython",
    "version": 3
   },
   "file_extension": ".py",
   "mimetype": "text/x-python",
   "name": "python",
   "nbconvert_exporter": "python",
   "pygments_lexer": "ipython3",
   "version": "3.9.7"
  },
  "orig_nbformat": 4
 },
 "nbformat": 4,
 "nbformat_minor": 2
}

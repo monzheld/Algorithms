{
 "cells": [
  {
   "attachments": {},
   "cell_type": "markdown",
   "metadata": {},
   "source": [
    "9946번\n",
    "\n",
    "[문제](https://www.acmicpc.net/problem/9946)"
   ]
  },
  {
   "attachments": {},
   "cell_type": "markdown",
   "metadata": {},
   "source": [
    "### 정렬"
   ]
  },
  {
   "attachments": {},
   "cell_type": "markdown",
   "metadata": {},
   "source": [
    "- 단어 퍼즐게임이란, 주어진 알파벳들을 섞어서 단어를 만드는 게임\n",
    "- 천재 준하는 알파벳을 임의로 조합하여, 사전과 매칭된 단어를 만드는 프로그램을 만들어 단어를 완성시켰음\n",
    "- 그러나 완성된 단어를 원장님에게 가져가려는 순간, 지나가던 강민이와 부딫혀서 단어조각을 땅에 떨어뜨림\n",
    "- 준하는 어찌어찌 조각을 회수했지만, 순서는 뒤죽박죽이 되었고, 알파벳이 부족하거나 다른 알파벳이 섞였을 수도 있음\n",
    "- 준하가 처음에 완성한 단어와 나중에 회수한 알파벳들이 주어질 때, 준하가 알파벳을 제대로 회수했는지 안했는지 판단하기"
   ]
  },
  {
   "attachments": {},
   "cell_type": "markdown",
   "metadata": {},
   "source": [
    "- 입력\n",
    "    - 입력은 케이스마다 두줄로 이루어져있음\n",
    "    - 첫째 줄은 준하가 처음 완성한 단어이고, 둘째 줄은 떨어뜨린 다음 회수한 알파벳들\n",
    "    - 각 줄은 알파벳 소문자로 이루어져 있고, 길이는 1000을 넘지 않음\n",
    "    - 마지막에 END라는 단어가 두줄 주어지는데, 이는 케이스의 끝을 의미\n",
    "- 출력\n",
    "    - 케이스마다 번호를 붙여서 예제출력과 같은 형식으로 출력\n",
    "    - 준하가 **알파벳을 제대로 회수했다면 same 을, 잘못 회수했다면 different** 를 출력\n",
    "\n",
    "- 시간 제한: 3초\n",
    "- 메모리 제한: 256 MB"
   ]
  },
  {
   "cell_type": "code",
   "execution_count": null,
   "metadata": {},
   "outputs": [],
   "source": [
    "\"\"\"\n",
    "입출력 예시)\n",
    "\n",
    "testing\n",
    "intestg\n",
    "abc\n",
    "aabbbcccc\n",
    "abcabcbcc\n",
    "aabbbcccc\n",
    "abc\n",
    "xyz\n",
    "END\n",
    "END\n",
    "        -> Case 1: same\n",
    "           Case 2: different\n",
    "           Case 3: same\n",
    "           Case 4: different\n",
    "\"\"\""
   ]
  },
  {
   "attachments": {},
   "cell_type": "markdown",
   "metadata": {},
   "source": [
    "## 2023/03/27"
   ]
  },
  {
   "cell_type": "code",
   "execution_count": null,
   "metadata": {},
   "outputs": [],
   "source": [
    "## 의사코드 ##\n",
    "\n",
    "# 두 문자열을 정렬 후 같으면 same\n",
    "# if sorted(first) == sorted(second):\n",
    "#             print(f'Case {i}: same')"
   ]
  },
  {
   "attachments": {},
   "cell_type": "markdown",
   "metadata": {},
   "source": [
    "### 통과)"
   ]
  },
  {
   "cell_type": "code",
   "execution_count": 4,
   "metadata": {},
   "outputs": [
    {
     "name": "stdout",
     "output_type": "stream",
     "text": [
      "Case 1: same\n",
      "Case 2: different\n",
      "Case 3: same\n",
      "Case 4: different\n"
     ]
    }
   ],
   "source": [
    "i = 0 \n",
    "while True:\n",
    "    first = input()\n",
    "    second = input()\n",
    "    if first == 'END' and second == 'END':\n",
    "        break\n",
    "    else:\n",
    "        i += 1\n",
    "        if sorted(first) == sorted(second):\n",
    "            print(f'Case {i}: same')\n",
    "        else:\n",
    "            print(f'Case {i}: different')"
   ]
  }
 ],
 "metadata": {
  "kernelspec": {
   "display_name": "base",
   "language": "python",
   "name": "python3"
  },
  "language_info": {
   "codemirror_mode": {
    "name": "ipython",
    "version": 3
   },
   "file_extension": ".py",
   "mimetype": "text/x-python",
   "name": "python",
   "nbconvert_exporter": "python",
   "pygments_lexer": "ipython3",
   "version": "3.9.7"
  },
  "orig_nbformat": 4
 },
 "nbformat": 4,
 "nbformat_minor": 2
}

{
 "cells": [
  {
   "attachments": {},
   "cell_type": "markdown",
   "metadata": {},
   "source": [
    "19564번\n",
    "\n",
    "[문제](https://www.acmicpc.net/problem/19564)"
   ]
  },
  {
   "attachments": {},
   "cell_type": "markdown",
   "metadata": {},
   "source": [
    "### 탐욕(Greedy)"
   ]
  },
  {
   "attachments": {},
   "cell_type": "markdown",
   "metadata": {},
   "source": [
    "- muse는 키보드가 고장나서, **어떤 키를 누르든 abcdefghijklmnopqrstuvwxyz가 입력**됨\n",
    "- 원하는 글을 쓰기 위해서는 아래와 같은 작업을 해야 함\n",
    "    - 1) abcdefghijklmnopqrstuvwxyz를 $K$번 반복해서 입력\n",
    "    - 2) 원하는 글자를 마우스로 지워, 최종 글을 완성\n",
    "- muse는 많은 글자를 지우는 일이 귀찮기 때문에, **$K$를 최소화**하려 함\n",
    "- muse가 원하는 글을 입력하려면 **abcdefghijklmnopqrstuvwxyz를 몇 번 입력해야 하는지** 구하기"
   ]
  },
  {
   "attachments": {},
   "cell_type": "markdown",
   "metadata": {},
   "source": [
    "- 입력\n",
    "    - muse가 입력하고자 하는 글 $S$가 주어짐\n",
    "    - 이 글은 알파벳 소문자만으로 이루어져 있으며, 길이는 $L$ ($1 \\le L \\le 10^5$)\n",
    "- 출력\n",
    "    -  $K$의 최솟값을 출력\n",
    "\n",
    "- 시간 제한: 1초\n",
    "- 메모리 제한: 256 MB"
   ]
  },
  {
   "cell_type": "code",
   "execution_count": null,
   "metadata": {},
   "outputs": [],
   "source": [
    "\"\"\"\n",
    "입출력 예시)\n",
    "\n",
    "polymath -> 6\n",
    "\"\"\""
   ]
  },
  {
   "attachments": {},
   "cell_type": "markdown",
   "metadata": {},
   "source": [
    "## 2023/02/14"
   ]
  },
  {
   "cell_type": "code",
   "execution_count": null,
   "metadata": {},
   "outputs": [],
   "source": [
    "## 의사코드 ##\n",
    "\n",
    "# k = 1 # 맨 처음 키보드를 눌러야 함\n",
    "\n",
    "# for i in range(1, len(s)):\n",
    "#     # 현재 문자가 이전 문자보다 작거나 같은 경우, k+1 \n",
    "#       -> 같은 문자인 경우에도 +1 해야 함(두번 눌러야 하니까)\n",
    "#     if s[i] <= s[i-1]: # 현재 문자가 이전 문자보다 사전에서 앞에 있으면\n",
    "#         k += 1 \n",
    "#     # 현재 문자가 이전 문자보다 큰 경우, 통과\n",
    "#      -> 현재 문자가 이전 문자보다 사전에서 뒤에 있는 경우"
   ]
  },
  {
   "cell_type": "code",
   "execution_count": null,
   "metadata": {},
   "outputs": [],
   "source": [
    "# ex) \n",
    "# p o l y m a t h \n",
    "\n",
    "# k=1) p y (+ p, y)\n",
    "# k=2) p o y (+ o)\n",
    "# k=3) p o l y (+ l)\n",
    "# k=4) p o l y m t (+ m, t)\n",
    "# k=5) p o l y m a t (+ a)\n",
    "# k=6) p o l y m a t h (+ h)  \n",
    "\n",
    "# -> 현재 문자가 이전 문자보다 사전 순에서 뒤에 있으면 k 추가 x\n",
    "#    (현재 문자가 이전 문자보다 사전 순에서 앞에 있는 경우에만 k+1)"
   ]
  },
  {
   "cell_type": "code",
   "execution_count": 26,
   "metadata": {},
   "outputs": [
    {
     "name": "stdout",
     "output_type": "stream",
     "text": [
      "o가 p보다 크다: False\n",
      "o는 p보다 작다: True\n"
     ]
    }
   ],
   "source": [
    "# 문자열 사전순 비교\n",
    "# -> 아스키코드 값으로 대소비교\n",
    "print('o가 p보다 크다:', 'o' > 'p')\n",
    "print('o는 p보다 작다:', 'o' < 'p')"
   ]
  },
  {
   "attachments": {},
   "cell_type": "markdown",
   "metadata": {},
   "source": [
    "### 통과)"
   ]
  },
  {
   "cell_type": "code",
   "execution_count": 27,
   "metadata": {},
   "outputs": [
    {
     "name": "stdout",
     "output_type": "stream",
     "text": [
      "6\n"
     ]
    }
   ],
   "source": [
    "s = input()\n",
    "k = 1 # 맨 처음 키보드를 눌러야 함\n",
    "for i in range(1, len(s)):\n",
    "    # 현재 문자가 이전 문자보다 작거나 같은 경우, k+1 \n",
    "    if s[i] <= s[i-1]: # 현재 문자가 이전 문자보다 사전에서 앞에 있으면\n",
    "        k += 1\n",
    "print(k)"
   ]
  }
 ],
 "metadata": {
  "kernelspec": {
   "display_name": "cp2",
   "language": "python",
   "name": "python3"
  },
  "language_info": {
   "codemirror_mode": {
    "name": "ipython",
    "version": 3
   },
   "file_extension": ".py",
   "mimetype": "text/x-python",
   "name": "python",
   "nbconvert_exporter": "python",
   "pygments_lexer": "ipython3",
   "version": "3.9.12"
  },
  "orig_nbformat": 4,
  "vscode": {
   "interpreter": {
    "hash": "5ca59c31ddc1bb1d3e926feef50b5ca0d1eacb2093eee1a1a79c0269dbb49758"
   }
  }
 },
 "nbformat": 4,
 "nbformat_minor": 2
}

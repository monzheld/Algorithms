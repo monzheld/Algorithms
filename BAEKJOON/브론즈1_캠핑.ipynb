{
 "cells": [
  {
   "attachments": {},
   "cell_type": "markdown",
   "metadata": {},
   "source": [
    "4796번\n",
    "\n",
    "[문제](https://www.acmicpc.net/problem/4796)"
   ]
  },
  {
   "attachments": {},
   "cell_type": "markdown",
   "metadata": {},
   "source": [
    "### 탐욕(Greedy)"
   ]
  },
  {
   "attachments": {},
   "cell_type": "markdown",
   "metadata": {},
   "source": [
    "- 캠핑장을 연속하는 P일 중, L일동안만 사용할 수 있음\n",
    "- 강산이는 이제 막 V일짜리 휴가를 시작\n",
    "- **강산이가 캠핑장을 최대 며칠동안 사용**할 수 있을까? (1 < L < P < V)"
   ]
  },
  {
   "attachments": {},
   "cell_type": "markdown",
   "metadata": {},
   "source": [
    "- 입력\n",
    "    - 여러 개의 테스트 케이스로 이루어져 있음\n",
    "    - 각 테스트 케이스는 한 줄로 이루어져 있고, **L, P, V를 순서대로** 포함\n",
    "    - 모든 입력 정수는 int범위\n",
    "    - 마지막 줄에는 0이 3개 주어짐\n",
    "- 출력\n",
    "    - 각 테스트 케이스에 대해서, 강산이가 캠핑장을 최대 며칠동안 사용할 수 있는지 예제 출력처럼 출력\n",
    "\n",
    "- 시간 제한: 1초\n",
    "- 메모리 제한: 128 MB"
   ]
  },
  {
   "cell_type": "code",
   "execution_count": null,
   "metadata": {},
   "outputs": [],
   "source": [
    "\"\"\"\n",
    "입출력 예시)\n",
    "\n",
    "5 8 20\n",
    "5 8 17\n",
    "0 0 0\n",
    "    -> Case 1: 14\n",
    "       Case 2: 11\n",
    "\"\"\""
   ]
  },
  {
   "attachments": {},
   "cell_type": "markdown",
   "metadata": {},
   "source": [
    "## 2023/02/07"
   ]
  },
  {
   "cell_type": "code",
   "execution_count": null,
   "metadata": {},
   "outputs": [],
   "source": [
    "## 의사코드 ##\n",
    "\n",
    "# ex) \n",
    "# 5 8 20 -> Case 1: 14\n",
    "\n",
    "# L = 5, P = 8, V =20\n",
    "# -> 연속하는 8일 중 5일동안만 사용 가능, 강산이 휴가는 20일짜리 \n",
    "\n",
    "#     - 첫 번째 8일 중 5일 사용\n",
    "#      -> 남은 휴가: (20 - 8) = 12 / 캠핑장 사용 일수: 5 \n",
    "#     - 두 번째 8일 중 5일 사용\n",
    "#      -> 남은 휴가: (12 - 8) = 4 / 캠핑장 사용 일수: 5 + 5\n",
    "#     - 남은 4일 중 4일 모두 사용\n",
    "#      -> 남은 휴가: 0 / 캠핑장 사용 일수: 5 + 5 + 4\n",
    "\n",
    "\n",
    "# => 몫 = V // P \n",
    "#    나머지 = V % P\n",
    "#    캠핑장 사용 일수 = L * 몫 + 나머지 "
   ]
  },
  {
   "attachments": {},
   "cell_type": "markdown",
   "metadata": {},
   "source": [
    "### 1)"
   ]
  },
  {
   "cell_type": "code",
   "execution_count": null,
   "metadata": {},
   "outputs": [],
   "source": [
    "i = 0 # Case number\n",
    "while True:\n",
    "    L, V, P = map(int, input().split())\n",
    "    if L == 0 and V == 0 and P == 0:\n",
    "        break \n",
    "    i += 1 # Case number + 1\n",
    "    res = (L * (V // P)) + (V % P)\n",
    "    print(f\"Case {i}:\", res)"
   ]
  },
  {
   "attachments": {},
   "cell_type": "markdown",
   "metadata": {},
   "source": [
    "-> 틀림 (L, P, V 순서를 잘못 씀)"
   ]
  },
  {
   "cell_type": "code",
   "execution_count": 8,
   "metadata": {},
   "outputs": [
    {
     "name": "stdout",
     "output_type": "stream",
     "text": [
      "Case 1: 14\n",
      "Case 2: 11\n"
     ]
    }
   ],
   "source": [
    "i = 0 # Case number\n",
    "while True:\n",
    "    L, P, V = map(int, input().split())\n",
    "    if L == 0 and V == 0 and P == 0:\n",
    "        break \n",
    "    i += 1 # Case number + 1\n",
    "    res = (L * (V // P)) + (V % P)\n",
    "    print(f\"Case {i}:\", res)"
   ]
  },
  {
   "attachments": {},
   "cell_type": "markdown",
   "metadata": {},
   "source": [
    "-> 틀림"
   ]
  },
  {
   "attachments": {},
   "cell_type": "markdown",
   "metadata": {},
   "source": [
    "### 통과)"
   ]
  },
  {
   "cell_type": "code",
   "execution_count": 9,
   "metadata": {},
   "outputs": [
    {
     "name": "stdout",
     "output_type": "stream",
     "text": [
      "Case 1: 14\n",
      "Case 2: 11\n"
     ]
    }
   ],
   "source": [
    "i = 0 # Case number\n",
    "while True:\n",
    "    L, P, V = map(int, input().split())\n",
    "    if L == 0 and V == 0 and P == 0:\n",
    "        break \n",
    "    i += 1 # Case number + 1\n",
    "    n = V // P\n",
    "    r = V % P\n",
    "    # 나머지가 L보다 작은 경우, 나머지를 더함\n",
    "    if r < L:\n",
    "        res = (L*n) + r\n",
    "    # 나머지가 L보다 크거나 같은 경우, L을 더함\n",
    "    else:\n",
    "        res = (L*n) + L \n",
    "    print(f\"Case {i}:\", res)"
   ]
  },
  {
   "attachments": {},
   "cell_type": "markdown",
   "metadata": {},
   "source": [
    "-> 나머지가 L보다 큰 경우, 나머지를 더하는 게 아니라 L을 더해야 함"
   ]
  }
 ],
 "metadata": {
  "kernelspec": {
   "display_name": "cp2",
   "language": "python",
   "name": "python3"
  },
  "language_info": {
   "codemirror_mode": {
    "name": "ipython",
    "version": 3
   },
   "file_extension": ".py",
   "mimetype": "text/x-python",
   "name": "python",
   "nbconvert_exporter": "python",
   "pygments_lexer": "ipython3",
   "version": "3.9.12"
  },
  "orig_nbformat": 4,
  "vscode": {
   "interpreter": {
    "hash": "5ca59c31ddc1bb1d3e926feef50b5ca0d1eacb2093eee1a1a79c0269dbb49758"
   }
  }
 },
 "nbformat": 4,
 "nbformat_minor": 2
}

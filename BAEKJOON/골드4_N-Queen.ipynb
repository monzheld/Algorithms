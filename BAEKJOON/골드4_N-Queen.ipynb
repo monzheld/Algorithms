{
 "cells": [
  {
   "attachments": {},
   "cell_type": "markdown",
   "metadata": {},
   "source": [
    "9663번\n",
    "\n",
    "[문제](https://www.acmicpc.net/problem/9663)"
   ]
  },
  {
   "attachments": {},
   "cell_type": "markdown",
   "metadata": {},
   "source": [
    "### 백트래킹"
   ]
  },
  {
   "attachments": {},
   "cell_type": "markdown",
   "metadata": {},
   "source": [
    "- N-Queen 문제는 크기가 N × N인 체스판 위에 퀸 N개를 서로 공격할 수 없게 놓는 문제\n",
    "- N이 주어졌을 때, 퀸을 놓는 방법의 수 구하기"
   ]
  },
  {
   "attachments": {},
   "cell_type": "markdown",
   "metadata": {},
   "source": [
    "- 입력\n",
    "    - 첫째 줄에 N이 주어짐 (1 ≤ N < 15)\n",
    "- 출력\n",
    "    - 첫째 줄에 **퀸 N개를 서로 공격할 수 없게 놓는 경우의 수**를 출력\n",
    "\n",
    "- 시간 제한: 10초\n",
    "- 메모리 제한: 128 MB"
   ]
  },
  {
   "cell_type": "code",
   "execution_count": null,
   "metadata": {},
   "outputs": [],
   "source": [
    "\"\"\"\n",
    "입출력 예시)\n",
    "\n",
    "8 -> 92\n",
    "\"\"\""
   ]
  },
  {
   "attachments": {},
   "cell_type": "markdown",
   "metadata": {},
   "source": [
    "## 2023/01/20"
   ]
  },
  {
   "cell_type": "code",
   "execution_count": null,
   "metadata": {},
   "outputs": [],
   "source": [
    "## 의사코드 ##\n",
    "\n",
    "# 백트래킹 -> dfs\n",
    "# 체스에서의 퀸: 수직, 수평, 대각선으로 이동 가능\n",
    "\n",
    "# Pruning (가지치기)\n",
    "# 한 행에는 하나의 퀸만 배치 가능\n",
    "# 맨 위의 행부터 dfs로 탐색\n",
    "\n",
    "# Promising (조건 체크)\n",
    "# 수직 체크\n",
    "#   -> 열의 값이 같은 경우\n",
    "# 대각선 체크\n",
    "#   -> abs(퀸의 열 - 현재 열) == 1\n",
    "# -> 둘 다 만족하지 않는 경우만 True"
   ]
  },
  {
   "attachments": {},
   "cell_type": "markdown",
   "metadata": {},
   "source": [
    "### 1)"
   ]
  },
  {
   "cell_type": "code",
   "execution_count": 4,
   "metadata": {},
   "outputs": [
    {
     "ename": "IndexError",
     "evalue": "list assignment index out of range",
     "output_type": "error",
     "traceback": [
      "\u001b[0;31m---------------------------------------------------------------------------\u001b[0m",
      "\u001b[0;31mIndexError\u001b[0m                                Traceback (most recent call last)",
      "\u001b[1;32m/Users/hsh/Desktop/algorithms/Algorithms/BAEKJOON/골드4_N-Queen.ipynb 셀 9\u001b[0m in \u001b[0;36m<cell line: 28>\u001b[0;34m()\u001b[0m\n\u001b[1;32m     <a href='vscode-notebook-cell:/Users/hsh/Desktop/algorithms/Algorithms/BAEKJOON/%EA%B3%A8%EB%93%9C4_N-Queen.ipynb#X11sZmlsZQ%3D%3D?line=23'>24</a>\u001b[0m             \u001b[39mif\u001b[39;00m check(x):\n\u001b[1;32m     <a href='vscode-notebook-cell:/Users/hsh/Desktop/algorithms/Algorithms/BAEKJOON/%EA%B3%A8%EB%93%9C4_N-Queen.ipynb#X11sZmlsZQ%3D%3D?line=24'>25</a>\u001b[0m                 \u001b[39m# 다음 행으로 넘어가기 \u001b[39;00m\n\u001b[1;32m     <a href='vscode-notebook-cell:/Users/hsh/Desktop/algorithms/Algorithms/BAEKJOON/%EA%B3%A8%EB%93%9C4_N-Queen.ipynb#X11sZmlsZQ%3D%3D?line=25'>26</a>\u001b[0m                 dfs(x\u001b[39m+\u001b[39m\u001b[39m1\u001b[39m) \n\u001b[0;32m---> <a href='vscode-notebook-cell:/Users/hsh/Desktop/algorithms/Algorithms/BAEKJOON/%EA%B3%A8%EB%93%9C4_N-Queen.ipynb#X11sZmlsZQ%3D%3D?line=27'>28</a>\u001b[0m dfs(\u001b[39m0\u001b[39;49m)\n\u001b[1;32m     <a href='vscode-notebook-cell:/Users/hsh/Desktop/algorithms/Algorithms/BAEKJOON/%EA%B3%A8%EB%93%9C4_N-Queen.ipynb#X11sZmlsZQ%3D%3D?line=28'>29</a>\u001b[0m \u001b[39mprint\u001b[39m(result)\n",
      "\u001b[1;32m/Users/hsh/Desktop/algorithms/Algorithms/BAEKJOON/골드4_N-Queen.ipynb 셀 9\u001b[0m in \u001b[0;36mdfs\u001b[0;34m(x)\u001b[0m\n\u001b[1;32m     <a href='vscode-notebook-cell:/Users/hsh/Desktop/algorithms/Algorithms/BAEKJOON/%EA%B3%A8%EB%93%9C4_N-Queen.ipynb#X11sZmlsZQ%3D%3D?line=18'>19</a>\u001b[0m \u001b[39melse\u001b[39;00m:\n\u001b[1;32m     <a href='vscode-notebook-cell:/Users/hsh/Desktop/algorithms/Algorithms/BAEKJOON/%EA%B3%A8%EB%93%9C4_N-Queen.ipynb#X11sZmlsZQ%3D%3D?line=19'>20</a>\u001b[0m     \u001b[39m# x번째 행의 각 열에 대해 검증\u001b[39;00m\n\u001b[1;32m     <a href='vscode-notebook-cell:/Users/hsh/Desktop/algorithms/Algorithms/BAEKJOON/%EA%B3%A8%EB%93%9C4_N-Queen.ipynb#X11sZmlsZQ%3D%3D?line=20'>21</a>\u001b[0m     \u001b[39mfor\u001b[39;00m i \u001b[39min\u001b[39;00m \u001b[39mrange\u001b[39m(n):\n\u001b[0;32m---> <a href='vscode-notebook-cell:/Users/hsh/Desktop/algorithms/Algorithms/BAEKJOON/%EA%B3%A8%EB%93%9C4_N-Queen.ipynb#X11sZmlsZQ%3D%3D?line=21'>22</a>\u001b[0m         row[x] \u001b[39m=\u001b[39m i \u001b[39m# row[x] => 열 \u001b[39;00m\n\u001b[1;32m     <a href='vscode-notebook-cell:/Users/hsh/Desktop/algorithms/Algorithms/BAEKJOON/%EA%B3%A8%EB%93%9C4_N-Queen.ipynb#X11sZmlsZQ%3D%3D?line=22'>23</a>\u001b[0m         \u001b[39m# 해당 위치에 퀸을 배치할 수 있는 경우\u001b[39;00m\n\u001b[1;32m     <a href='vscode-notebook-cell:/Users/hsh/Desktop/algorithms/Algorithms/BAEKJOON/%EA%B3%A8%EB%93%9C4_N-Queen.ipynb#X11sZmlsZQ%3D%3D?line=23'>24</a>\u001b[0m         \u001b[39mif\u001b[39;00m check(x):\n\u001b[1;32m     <a href='vscode-notebook-cell:/Users/hsh/Desktop/algorithms/Algorithms/BAEKJOON/%EA%B3%A8%EB%93%9C4_N-Queen.ipynb#X11sZmlsZQ%3D%3D?line=24'>25</a>\u001b[0m             \u001b[39m# 다음 행으로 넘어가기 \u001b[39;00m\n",
      "\u001b[0;31mIndexError\u001b[0m: list assignment index out of range"
     ]
    }
   ],
   "source": [
    "n = int(input())\n",
    "row = [] * n # N x N 체스판\n",
    "result = 0 # 퀸을 배치하는 경우의 수\n",
    "\n",
    "# Promising (조건 체크)\n",
    "def check(x): \n",
    "    # x번째 행의 이전 행에 놓은 퀸에 대해 검증\n",
    "    for i in range(x):\n",
    "        # 수직 체크 혹은 대각선 체크 중 하나라도 만족하는 경우\n",
    "        if row[x] == row[i] or abs(row[x] - row[i]) == 1:\n",
    "            return False # False\n",
    "    return True # 둘 다 만족하지 않는 경우 \n",
    "\n",
    "# Pruning (가지치기)\n",
    "def dfs(x):\n",
    "    global result \n",
    "    if x == n:\n",
    "        result += 1\n",
    "    else:\n",
    "        # x번째 행의 각 열에 대해 검증\n",
    "        for i in range(n):\n",
    "            row[x] = i # row[x] => 열 \n",
    "            # 해당 위치에 퀸을 배치할 수 있는 경우\n",
    "            if check(x):\n",
    "                # 다음 행으로 넘어가기 \n",
    "                dfs(x+1) \n",
    "\n",
    "dfs(0)\n",
    "print(result)"
   ]
  },
  {
   "attachments": {},
   "cell_type": "markdown",
   "metadata": {},
   "source": [
    "-> 런타임 에러 (PyPy3로 제출)"
   ]
  },
  {
   "attachments": {},
   "cell_type": "markdown",
   "metadata": {},
   "source": [
    "-> IndexError 발생 (row = [] * n 때문)"
   ]
  },
  {
   "attachments": {},
   "cell_type": "markdown",
   "metadata": {},
   "source": [
    "### 통과)"
   ]
  },
  {
   "cell_type": "code",
   "execution_count": 5,
   "metadata": {},
   "outputs": [
    {
     "name": "stdout",
     "output_type": "stream",
     "text": [
      "92\n"
     ]
    }
   ],
   "source": [
    "n = int(input())\n",
    "row = [0] * n # N x N 체스판\n",
    "result = 0 # 퀸을 배치하는 경우의 수\n",
    "\n",
    "# Promising (조건 체크)\n",
    "def check(x): \n",
    "    # x번째 행의 이전 행에 놓은 퀸에 대해 검증\n",
    "    for i in range(x):\n",
    "        # 수직 체크 혹은 대각선 체크 중 하나라도 만족하는 경우\n",
    "        if row[x] == row[i] or abs(row[x] - row[i]) == x-i:\n",
    "            return False # False\n",
    "    return True # 둘 다 만족하지 않는 경우 \n",
    "\n",
    "# Pruning (가지치기)\n",
    "def dfs(x):\n",
    "    global result \n",
    "    if x == n:\n",
    "        result += 1\n",
    "        return \n",
    "    else:\n",
    "        # x번째 행의 각 열에 대해 검증\n",
    "        for i in range(n):\n",
    "            row[x] = i # row[x] => 열 \n",
    "            # 해당 위치에 퀸을 배치할 수 있는 경우\n",
    "            if check(x):\n",
    "                # 다음 행으로 넘어가기 \n",
    "                dfs(x+1) \n",
    "\n",
    "dfs(0)\n",
    "print(result)"
   ]
  },
  {
   "attachments": {},
   "cell_type": "markdown",
   "metadata": {},
   "source": [
    "-> 대각선 체크 조건을 abs(row[x] - row[i]) == 1 에서 'abs(row[x] - row[i]) == x-i' 로 수정, \n",
    "'row = [0] * n' 으로 수정"
   ]
  },
  {
   "attachments": {},
   "cell_type": "markdown",
   "metadata": {},
   "source": [
    "-> PyPy3로 제출해야 통과"
   ]
  },
  {
   "attachments": {},
   "cell_type": "markdown",
   "metadata": {},
   "source": [
    "### cf) 이전에 작성했던 코드"
   ]
  },
  {
   "cell_type": "code",
   "execution_count": null,
   "metadata": {},
   "outputs": [],
   "source": [
    "n = int(input()) # 체스판 크기: n × n\n",
    "answer = 0\n",
    "row = [0]*n # 1차원으로 좌표 표현 ex) row[1] = 2 -> (1,2)\n",
    "\n",
    "# 동일한 열 또는 대각선에 위치한 경우, 탐색하지 않음\n",
    "def is_promising(x): # x: 말을 두는 위치\n",
    "  for i in range(x):\n",
    "    # 동일한 열 또는 대각선에 위치하면  \n",
    "    if row[x] == row[i] or abs(row[x]-row[i]) == abs(x-i): # abs(row[x]-row[i]) == abs(x-i) -> 대각선\n",
    "      return False # 퀸을 놓지 못함\n",
    "  return True # 퀸을 놓을 수 있음\n",
    "\n",
    "def solution(x):\n",
    "  global answer\n",
    "\n",
    "  # n번째 칸에 닿으면 (= 탐색이 완료되면)\n",
    "  if x == n: \n",
    "    answer += 1 \n",
    "    return \n",
    "    \n",
    "  # n번째 칸에 안 닿았을 때  \n",
    "  else:\n",
    "    for i in range(n):\n",
    "      row[x] = i # (x,i)에 퀸을 놓음\n",
    "      # is_promising 로직 실행\n",
    "      if is_promising(x):\n",
    "        # 재귀적으로 한칸씩 키워서 탐색 진행\n",
    "        solution(x+1)\n",
    "  \n",
    "solution(0)\n",
    "print(answer)"
   ]
  }
 ],
 "metadata": {
  "kernelspec": {
   "display_name": "cp2",
   "language": "python",
   "name": "python3"
  },
  "language_info": {
   "codemirror_mode": {
    "name": "ipython",
    "version": 3
   },
   "file_extension": ".py",
   "mimetype": "text/x-python",
   "name": "python",
   "nbconvert_exporter": "python",
   "pygments_lexer": "ipython3",
   "version": "3.9.12"
  },
  "orig_nbformat": 4,
  "vscode": {
   "interpreter": {
    "hash": "5ca59c31ddc1bb1d3e926feef50b5ca0d1eacb2093eee1a1a79c0269dbb49758"
   }
  }
 },
 "nbformat": 4,
 "nbformat_minor": 2
}

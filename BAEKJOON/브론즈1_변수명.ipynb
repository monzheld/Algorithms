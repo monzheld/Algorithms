{
 "cells": [
  {
   "attachments": {},
   "cell_type": "markdown",
   "metadata": {},
   "source": [
    "16205번\n",
    "\n",
    "[문제](https://www.acmicpc.net/problem/16205)"
   ]
  },
  {
   "attachments": {},
   "cell_type": "markdown",
   "metadata": {},
   "source": [
    "### 문자열"
   ]
  },
  {
   "attachments": {},
   "cell_type": "markdown",
   "metadata": {},
   "source": [
    "- 변수명을 정하는 표기법은 여러 가지가 있음\n",
    "    - 카멜 표기법 (Camel Case): 각 단어의 첫 글자를 대문자로 적음. 단, 가장 첫 글자는 소문자를 사용\n",
    "        - 예시: camelCase, variableN, thisIsCamelCase, howToSolveThisProblem\n",
    "    - 스네이크 표기법 (Snake Case): 소문자만 사용하고, 각 단어의 사이에 언더바(_)를 넣어서 적음\n",
    "        - 예시: snake_case, variable_n, this_is_snake_case, how_to_solve_this_problem\n",
    "    - 파스칼 표기법 (Pascal Case): 카멜 표기법과 같지만, 가장 첫 글자도 대문자를 사용\n",
    "        - 예시: PascalCase, VariableN, ThisIsPascalCase, HowToSolveThisProblem\n",
    "- 한 표기법을 사용한 변수명이 주어졌을 때, 이를 다른 표기법으로 변환하기"
   ]
  },
  {
   "attachments": {},
   "cell_type": "markdown",
   "metadata": {},
   "source": [
    "- 입력\n",
    "    - 첫째 줄에 사용한 표기법의 번호와 변수명이 주어짐\n",
    "    - **번호가 1인 경우는 카멜 표기법, 2인 경우는 스네이크 표기법, 3인 경우는 파스칼 표기법**\n",
    "    - 입력으로 주어지는 변수명의 길이는 100을 넘지 않음\n",
    "    - 카멜 표기법, 파스칼 표기법을 사용한 변수명은 알파벳 소문자와 대문자로만 이루어져 있고, 스네이크 표기법을 사용한 변수명은 알파벳 소문자와 언더바(_)로만 이루어져 있음\n",
    "    - 또, 스네이크 표기법을 사용한 변수명의 첫 글자와 마지막 글자는 언더바가 아니고, 언더바가 연속해서 두 개 이상 사용하는 경우는 없음\n",
    "- 출력\n",
    "    - 첫째 줄에 카멜 표기법을 사용한 경우, 둘째 줄에 스네이크 표기법을 사용한 경우, 셋째 줄에 파스칼 표기법을 사용한 경우를 출력\n",
    "\n",
    "- 시간 제한: 2초\n",
    "- 메모리 제한: 512 MB"
   ]
  },
  {
   "cell_type": "code",
   "execution_count": null,
   "metadata": {},
   "outputs": [],
   "source": [
    "\"\"\"\n",
    "입출력 예시)\n",
    "\n",
    "(예제 입력 1) \n",
    "2 variable_n\n",
    "            -> variableN\n",
    "               variable_n\n",
    "               VariableN\n",
    "\n",
    "(예제 입력 2) \n",
    "1 camelCase\n",
    "            -> camelCase\n",
    "               camel_case\n",
    "               CamelCase\n",
    "\n",
    "(예제 입력 3) \n",
    "3 HowToSolveThisProblem\n",
    "            -> howToSolveThisProblem\n",
    "               how_to_solve_this_problem\n",
    "               HowToSolveThisProblem\n",
    "\n",
    "(예제 입력 4) \n",
    "2 good\n",
    "            -> good\n",
    "               good\n",
    "               Good\n",
    "\"\"\""
   ]
  },
  {
   "attachments": {},
   "cell_type": "markdown",
   "metadata": {},
   "source": [
    "## 2023/05/09"
   ]
  },
  {
   "cell_type": "code",
   "execution_count": null,
   "metadata": {},
   "outputs": [],
   "source": [
    "## 의사코드 ##\n",
    "\n",
    "# 카멜, 파스칼 표기법 -> 대문자를 기준으로 자르기\n",
    "# import re\n",
    "# re.findall('[A-Z][a-z]*', string)\n",
    "\n",
    "# 스네이크 표기법 -> 언더바를 기준으로 자르기\n",
    "# string.split('_')"
   ]
  },
  {
   "attachments": {},
   "cell_type": "markdown",
   "metadata": {},
   "source": [
    "### 1)"
   ]
  },
  {
   "cell_type": "code",
   "execution_count": 10,
   "metadata": {},
   "outputs": [
    {
     "name": "stdout",
     "output_type": "stream",
     "text": [
      "variablen\n",
      "variable_n\n",
      "variablen\n"
     ]
    }
   ],
   "source": [
    "import re\n",
    "n, string = input().split()\n",
    "\n",
    "# 표기법 번호에 따라 단어 나누기\n",
    "# 카멜 표기법\n",
    "if n == '1':\n",
    "    variables = re.findall('[A-Z][a-z]*', string)\n",
    "# 스네이크 표기법\n",
    "elif n == '2':\n",
    "    variables = string.split('_')\n",
    "# 파스칼 표기법\n",
    "else:\n",
    "    variables = re.findall('[A-Z][a-z]*', string)\n",
    "\n",
    "# 다른 표기법으로 변환\n",
    "# 파스칼 표기법: 가장 첫 글자도 대문자, 나머지도 각 단어의 첫 글자를 대문자로\n",
    "for v in variables:\n",
    "    v = v.title()\n",
    "pascal = ''.join(variables)\n",
    "\n",
    "# 카멜 표기법: 첫 번째 단어의 가장 첫 글자는 소문자, 나머지는 각 단어의 첫 글자를 대문자로\n",
    "variables[0] = variables[0].lower()\n",
    "camel = ''.join(variables)\n",
    "\n",
    "# 스네이크 표기법: 소문자만 사용, 각 단어 사이에 언더바\n",
    "for i in range(1, len(variables)):\n",
    "    variables[i] = variables[i].lower()\n",
    "snake = '_'.join(variables)\n",
    "\n",
    "print(camel)\n",
    "print(snake)\n",
    "print(pascal)"
   ]
  },
  {
   "attachments": {},
   "cell_type": "markdown",
   "metadata": {},
   "source": [
    "-> 틀림 ('title()'을 사용한 부분에서 리스트 요소가 변경되지 않아서 틀림)"
   ]
  },
  {
   "attachments": {},
   "cell_type": "markdown",
   "metadata": {},
   "source": [
    "### 2)"
   ]
  },
  {
   "cell_type": "code",
   "execution_count": 8,
   "metadata": {},
   "outputs": [
    {
     "name": "stdout",
     "output_type": "stream",
     "text": [
      "variableN\n",
      "variable_n\n",
      "VariableN\n"
     ]
    }
   ],
   "source": [
    "import re\n",
    "import sys\n",
    "n, string = sys.stdin.readline().split()\n",
    "\n",
    "# 표기법 번호에 따라 단어 나누기\n",
    "# 카멜 표기법\n",
    "if n == '1':\n",
    "    variables = re.findall('[A-Z][a-z]*', string)\n",
    "# 스네이크 표기법\n",
    "elif n == '2':\n",
    "    variables = string.split('_')\n",
    "# 파스칼 표기법\n",
    "else:\n",
    "    variables = re.findall('[A-Z][a-z]*', string)\n",
    "\n",
    "# 다른 표기법으로 변환\n",
    "# 파스칼 표기법: 가장 첫 글자도 대문자, 나머지도 각 단어의 첫 글자를 대문자로\n",
    "for i in range(len(variables)):\n",
    "    variables[i] = variables[i].title()\n",
    "pascal = ''.join(variables)\n",
    "\n",
    "# 카멜 표기법: 첫 번째 단어의 가장 첫 글자는 소문자, 나머지는 각 단어의 첫 글자를 대문자로\n",
    "variables[0] = variables[0].lower()\n",
    "camel = ''.join(variables)\n",
    "\n",
    "# 스네이크 표기법: 소문자만 사용, 각 단어 사이에 언더바\n",
    "for i in range(1, len(variables)):\n",
    "    variables[i] = variables[i].lower()\n",
    "snake = '_'.join(variables)\n",
    "\n",
    "print(camel)\n",
    "print(snake)\n",
    "print(pascal)"
   ]
  },
  {
   "attachments": {},
   "cell_type": "markdown",
   "metadata": {},
   "source": [
    "-> 인덱스로 리스트 요소 값 변경"
   ]
  },
  {
   "attachments": {},
   "cell_type": "markdown",
   "metadata": {},
   "source": [
    "-> 틀림 (런타임 에러 + 카멜 표기법인 경우 틀림)"
   ]
  },
  {
   "attachments": {},
   "cell_type": "markdown",
   "metadata": {},
   "source": [
    "### 통과)"
   ]
  },
  {
   "cell_type": "code",
   "execution_count": null,
   "metadata": {},
   "outputs": [],
   "source": [
    "import re\n",
    "import sys\n",
    "n, string = sys.stdin.readline().split()\n",
    "\n",
    "# 첫 번째 단어의 가장 첫 글자\n",
    "firstWord = [string[0]] \n",
    "\n",
    "# 표기법 번호에 따라 단어 나누기\n",
    "# 카멜 표기법\n",
    "if n == '1':\n",
    "    variables = re.findall('[A-Z][a-z]*', string)\n",
    "    # 소문자로 이뤄진 단어 하나 분리\n",
    "    for i in range(1,len(string)):\n",
    "        if string[i].isupper():\n",
    "            break\n",
    "        else:\n",
    "            firstWord[-1] += string[i]\n",
    "    variables = firstWord + variables\n",
    "# 스네이크 표기법\n",
    "elif n == '2':\n",
    "    variables = string.split('_')\n",
    "# 파스칼 표기법\n",
    "elif n == '3':\n",
    "    variables = re.findall('[A-Z][a-z]*', string)\n",
    "\n",
    "# 다른 표기법으로 변환\n",
    "# 파스칼 표기법: 가장 첫 글자도 대문자, 나머지도 각 단어의 첫 글자를 대문자로\n",
    "for i in range(len(variables)):\n",
    "    variables[i] = variables[i].title()\n",
    "pascal = ''.join(variables)\n",
    "\n",
    "# 카멜 표기법: 첫 번째 단어의 가장 첫 글자는 소문자, 나머지는 각 단어의 첫 글자를 대문자로\n",
    "variables[0] = variables[0].lower()\n",
    "camel = ''.join(variables)\n",
    "\n",
    "# 스네이크 표기법: 소문자만 사용, 각 단어 사이에 언더바\n",
    "for i in range(1, len(variables)):\n",
    "    variables[i] = variables[i].lower()\n",
    "snake = '_'.join(variables)\n",
    "\n",
    "print(camel)\n",
    "print(snake)\n",
    "print(pascal)"
   ]
  },
  {
   "attachments": {},
   "cell_type": "markdown",
   "metadata": {},
   "source": [
    "-> 're.findall('[A-Z][a-z]*', string)' 은 대문자, 소문자의 순서로 분리하기 때문에 첫 번째 단어가 variables에 들어가지 않음. 따라서 첫 번째 단어의 가장 첫 글자를 따로 분리해서 역순으로 첫 번째 단어를 다시 합쳐줘야 함"
   ]
  },
  {
   "cell_type": "code",
   "execution_count": null,
   "metadata": {},
   "outputs": [],
   "source": [
    "# 과정 확인"
   ]
  },
  {
   "cell_type": "code",
   "execution_count": 13,
   "metadata": {},
   "outputs": [
    {
     "name": "stdout",
     "output_type": "stream",
     "text": [
      "firstWord: ['c'] \n",
      "\n",
      "카멜 표기법\n",
      "variables: ['Case'] \n",
      "\n",
      "string[i]: a\n",
      "firstWord[-1]: c\n",
      "firstWord[-1] += string[i]: ca \n",
      "\n",
      "string[i]: m\n",
      "firstWord[-1]: ca\n",
      "firstWord[-1] += string[i]: cam \n",
      "\n",
      "string[i]: e\n",
      "firstWord[-1]: cam\n",
      "firstWord[-1] += string[i]: came \n",
      "\n",
      "string[i]: l\n",
      "firstWord[-1]: came\n",
      "firstWord[-1] += string[i]: camel \n",
      "\n",
      "variables: ['camel', 'Case'] \n",
      "\n",
      "--------------------------------------------------------------------------------\n",
      "camelCase\n",
      "camel_case\n",
      "CamelCase\n"
     ]
    }
   ],
   "source": [
    "import re\n",
    "n, string = input().split()\n",
    "\n",
    "# 첫 번째 단어의 가장 첫 글자\n",
    "firstWord = [string[0]] \n",
    "print('firstWord:', firstWord, '\\n')\n",
    "\n",
    "# 표기법 번호에 따라 단어 나누기\n",
    "# 카멜 표기법\n",
    "if n == '1':\n",
    "    print('카멜 표기법')\n",
    "    variables = re.findall('[A-Z][a-z]*', string)\n",
    "    print('variables:', variables, '\\n')\n",
    "    # 소문자로 이뤄진 단어 하나 분리\n",
    "    for i in range(1,len(string)):\n",
    "        if string[i].isupper():\n",
    "            break\n",
    "        else:\n",
    "            print('string[i]:', string[i])\n",
    "            print('firstWord[-1]:', firstWord[-1])\n",
    "            firstWord[-1] += string[i]\n",
    "            print('firstWord[-1] += string[i]:', firstWord[-1], '\\n')\n",
    "    variables = firstWord + variables\n",
    "    print('variables:', variables, '\\n')\n",
    "    print('-' * 80)\n",
    "# 스네이크 표기법\n",
    "elif n == '2':\n",
    "    variables = string.split('_')\n",
    "# 파스칼 표기법\n",
    "elif n == '3':\n",
    "    variables = re.findall('[A-Z][a-z]*', string)\n",
    "\n",
    "# 다른 표기법으로 변환\n",
    "# 파스칼 표기법: 가장 첫 글자도 대문자, 나머지도 각 단어의 첫 글자를 대문자로\n",
    "for i in range(len(variables)):\n",
    "    variables[i] = variables[i].title()\n",
    "pascal = ''.join(variables)\n",
    "\n",
    "# 카멜 표기법: 첫 번째 단어의 가장 첫 글자는 소문자, 나머지는 각 단어의 첫 글자를 대문자로\n",
    "variables[0] = variables[0].lower()\n",
    "camel = ''.join(variables)\n",
    "\n",
    "# 스네이크 표기법: 소문자만 사용, 각 단어 사이에 언더바\n",
    "for i in range(1, len(variables)):\n",
    "    variables[i] = variables[i].lower()\n",
    "snake = '_'.join(variables)\n",
    "\n",
    "print(camel)\n",
    "print(snake)\n",
    "print(pascal)"
   ]
  }
 ],
 "metadata": {
  "kernelspec": {
   "display_name": "base",
   "language": "python",
   "name": "python3"
  },
  "language_info": {
   "codemirror_mode": {
    "name": "ipython",
    "version": 3
   },
   "file_extension": ".py",
   "mimetype": "text/x-python",
   "name": "python",
   "nbconvert_exporter": "python",
   "pygments_lexer": "ipython3",
   "version": "3.9.7"
  },
  "orig_nbformat": 4
 },
 "nbformat": 4,
 "nbformat_minor": 2
}

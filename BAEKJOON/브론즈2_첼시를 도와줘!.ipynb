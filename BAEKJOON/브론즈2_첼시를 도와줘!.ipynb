{
 "cells": [
  {
   "attachments": {},
   "cell_type": "markdown",
   "metadata": {},
   "source": [
    "11098번\n",
    "\n",
    "[문제](https://www.acmicpc.net/problem/11098)"
   ]
  },
  {
   "attachments": {},
   "cell_type": "markdown",
   "metadata": {},
   "source": [
    "### 문자열"
   ]
  },
  {
   "attachments": {},
   "cell_type": "markdown",
   "metadata": {},
   "source": [
    "- 현재 첼시는 프리미어 리그에서 헤매고 있고, 결국 새로운 선수를 사기로 결정\n",
    "- 새로운 선수를 찾는 방법은 단순히 구단들에게 전화를 걸어 그들의 가장 비싼 선수를 사는 것\n",
    "- 첼시가 리스트에서 가장 비싼 선수를 찾아낼 수 있도록 하기"
   ]
  },
  {
   "attachments": {},
   "cell_type": "markdown",
   "metadata": {},
   "source": [
    "- 입력\n",
    "    - 첫 번째 줄에는 테스트 케이스의 개수 n이 주어짐 (n≤100)\n",
    "    - 각 테스트 케이스의 첫 번째 줄 p는 고려해야될 선수의 수 (1≤p≤100)\n",
    "    - 그 아래 p개의 줄에는 선수의 정보가 표시됨\n",
    "    - 각각의 줄은 선수의 가격 C 와 이름을 입력 (C<2*109)\n",
    "        - 모든 선수의 가격은 서로 다름\n",
    "        - 선수의 이름은 20자 이하여야 하며, 사이에 공백이 있어서는 안 됨\n",
    "- 출력\n",
    "    - 각각의 테스트 케이스에서 **가장 비싼 선수의 이름을 출력**\n",
    "\n",
    "- 시간 제한: 1초\n",
    "- 메모리 제한: 256 MB"
   ]
  },
  {
   "cell_type": "code",
   "execution_count": null,
   "metadata": {},
   "outputs": [],
   "source": [
    "\"\"\"\n",
    "입출력 예시)\n",
    "\n",
    "2\n",
    "3\n",
    "10 Iversen\n",
    "1000000 Nannskog\n",
    "2000000 Ronaldinho\n",
    "2\n",
    "1000000 Maradona\n",
    "999999 Batistuta\n",
    "                    -> Ronaldinho\n",
    "                       Maradona\n",
    "\"\"\""
   ]
  },
  {
   "attachments": {},
   "cell_type": "markdown",
   "metadata": {},
   "source": [
    "## 2023/04/23"
   ]
  },
  {
   "cell_type": "code",
   "execution_count": null,
   "metadata": {},
   "outputs": [],
   "source": [
    "## 의사코드 ##\n",
    "\n",
    "# 딕셔너리에 선수의 이름과 가격을 저장\n",
    "# dic[name] = int(price)\n",
    "\n",
    "# 가격을 기준으로 내림차순 정렬\n",
    "# li = sorted(dic.items(), key=lambda x:-x[1])\n",
    "\n",
    "# 가장 비싼 선수의 이름\n",
    "# li[0][0]"
   ]
  },
  {
   "attachments": {},
   "cell_type": "markdown",
   "metadata": {},
   "source": [
    "### 통과)"
   ]
  },
  {
   "cell_type": "code",
   "execution_count": 10,
   "metadata": {},
   "outputs": [
    {
     "name": "stdout",
     "output_type": "stream",
     "text": [
      "Ronaldinho\n",
      "Maradona\n"
     ]
    }
   ],
   "source": [
    "t = int(input())\n",
    "for _ in range(t):\n",
    "    p = int(input()) # 고려해야 할 선수의 수\n",
    "    dic = {}\n",
    "    for _ in range(p):\n",
    "        price, name = input().split()\n",
    "        dic[name] = int(price)\n",
    "    # 가격을 기준으로 내림차순 정렬한 리스트\n",
    "    li = sorted(dic.items(), key=lambda x:-x[1])\n",
    "    # 가장 비싼 선수의 이름 출력\n",
    "    print(li[0][0])"
   ]
  }
 ],
 "metadata": {
  "kernelspec": {
   "display_name": "base",
   "language": "python",
   "name": "python3"
  },
  "language_info": {
   "codemirror_mode": {
    "name": "ipython",
    "version": 3
   },
   "file_extension": ".py",
   "mimetype": "text/x-python",
   "name": "python",
   "nbconvert_exporter": "python",
   "pygments_lexer": "ipython3",
   "version": "3.9.7"
  },
  "orig_nbformat": 4
 },
 "nbformat": 4,
 "nbformat_minor": 2
}

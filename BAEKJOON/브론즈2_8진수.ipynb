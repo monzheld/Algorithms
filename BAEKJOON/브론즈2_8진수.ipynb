{
 "cells": [
  {
   "attachments": {},
   "cell_type": "markdown",
   "metadata": {},
   "source": [
    "2998번\n",
    "\n",
    "[문제](https://www.acmicpc.net/problem/2998)"
   ]
  },
  {
   "attachments": {},
   "cell_type": "markdown",
   "metadata": {},
   "source": [
    "### 문자열"
   ]
  },
  {
   "attachments": {},
   "cell_type": "markdown",
   "metadata": {},
   "source": [
    "- 2진법 수를 8진법 수로 변환하려고 함\n",
    "- 창영이가 사용한 방법은 다음과 같음\n",
    "    - 1) 2진수의 길이가 3으로 나누어 떨어질 때 까지 수의 앞에 0을 붙임\n",
    "    - 2) 그 다음, 3자리씩 그룹을 나눔\n",
    "    - 3) 아래의 표를 참고해 8진수로 바꿈\n",
    "- 2진수가 주어졌을 때, 창영이가 사용한 방법을 이용해 8진수로 바꾸기"
   ]
  },
  {
   "attachments": {},
   "cell_type": "markdown",
   "metadata": {},
   "source": [
    "<img width=\"237\" alt=\"스크린샷 2023-06-15 20 33 51\" src=\"https://github.com/monzheld/Algorithms/assets/93971420/051dfb33-86ec-4284-93f2-15a87378e692\">"
   ]
  },
  {
   "attachments": {},
   "cell_type": "markdown",
   "metadata": {},
   "source": [
    "- 입력\n",
    "    - 첫째 줄에 2진수가 주어짐\n",
    "    - 이 수는 100자리 이내이고, 첫 번째 자리는 1\n",
    "- 출력\n",
    "    - 첫째 줄에 8진수 출력\n",
    "\n",
    "- 시간 제한: 1초\n",
    "- 메모리 제한: 128 MB"
   ]
  },
  {
   "cell_type": "code",
   "execution_count": null,
   "metadata": {},
   "outputs": [],
   "source": [
    "\"\"\"\n",
    "입출력 예시)\n",
    "\n",
    "(예제 입력 1) \n",
    "1010\n",
    "    -> 12\n",
    "\n",
    "(예제 입력 2) \n",
    "11001100\n",
    "        -> 314\n",
    "\"\"\""
   ]
  },
  {
   "attachments": {},
   "cell_type": "markdown",
   "metadata": {},
   "source": [
    "## 2023/06/15"
   ]
  },
  {
   "cell_type": "code",
   "execution_count": null,
   "metadata": {},
   "outputs": [],
   "source": [
    "## 의사코드 ##\n",
    "\n",
    "# 2진수의 길이가 3으로 나누어 떨어질 때까지 0 붙이기\n",
    "# while len(num) % 3 != 0:\n",
    "#     num = '0' + num\n",
    "\n",
    "# 3자리씩 나눠서 표에 나온 수로 변환\n",
    "# res = ''\n",
    "# while num:\n",
    "#     # 3자리씩 나누기\n",
    "#     res += str(dic[num[0:3]])\n",
    "#     # 변환한 3자리 제외\n",
    "#     num = num[3:]"
   ]
  },
  {
   "attachments": {},
   "cell_type": "markdown",
   "metadata": {},
   "source": [
    "### 통과)"
   ]
  },
  {
   "cell_type": "code",
   "execution_count": 1,
   "metadata": {},
   "outputs": [
    {
     "name": "stdout",
     "output_type": "stream",
     "text": [
      "314\n"
     ]
    }
   ],
   "source": [
    "num = input()\n",
    "# 2진수의 길이가 3으로 나누어 떨어질 때까지 0 붙이기\n",
    "while len(num) % 3 != 0:\n",
    "    num = '0' + num\n",
    "\n",
    "dic = {'000':0, '001':1, '010':2, '011':3, '100':4, '101':5, '110':6, '111':7}\n",
    "\n",
    "res = ''\n",
    "while num:\n",
    "    # 3자리씩 나누기\n",
    "    res += str(dic[num[0:3]])\n",
    "    # 변환한 3자리 제외\n",
    "    num = num[3:]\n",
    "\n",
    "print(res)"
   ]
  }
 ],
 "metadata": {
  "kernelspec": {
   "display_name": "base",
   "language": "python",
   "name": "python3"
  },
  "language_info": {
   "codemirror_mode": {
    "name": "ipython",
    "version": 3
   },
   "file_extension": ".py",
   "mimetype": "text/x-python",
   "name": "python",
   "nbconvert_exporter": "python",
   "pygments_lexer": "ipython3",
   "version": "3.9.7"
  },
  "orig_nbformat": 4
 },
 "nbformat": 4,
 "nbformat_minor": 2
}

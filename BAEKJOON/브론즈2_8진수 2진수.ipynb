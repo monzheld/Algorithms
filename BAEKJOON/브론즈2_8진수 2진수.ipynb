{
 "cells": [
  {
   "attachments": {},
   "cell_type": "markdown",
   "metadata": {},
   "source": [
    "1212번\n",
    "\n",
    "[문제](https://www.acmicpc.net/problem/1212)"
   ]
  },
  {
   "attachments": {},
   "cell_type": "markdown",
   "metadata": {},
   "source": [
    "### 문자열"
   ]
  },
  {
   "attachments": {},
   "cell_type": "markdown",
   "metadata": {},
   "source": [
    "- 8진수가 주어졌을 때, 2진수로 변환하기"
   ]
  },
  {
   "attachments": {},
   "cell_type": "markdown",
   "metadata": {},
   "source": [
    "- 입력\n",
    "    - 첫째 줄에 8진수가 주어짐\n",
    "    - 주어지는 수의 길이는 333,334을 넘지 않음\n",
    "- 출력\n",
    "    - 첫째 줄에 주어진 수를 2진수로 변환하여 출력\n",
    "    - **수가 0인 경우를 제외하고는 반드시 1로 시작해야** 함\n",
    "\n",
    "- 시간 제한: 1초\n",
    "- 메모리 제한: 256 MB"
   ]
  },
  {
   "cell_type": "code",
   "execution_count": null,
   "metadata": {},
   "outputs": [],
   "source": [
    "\"\"\"\n",
    "입출력 예시)\n",
    "\n",
    "314 -> 11001100\n",
    "\"\"\""
   ]
  },
  {
   "attachments": {},
   "cell_type": "markdown",
   "metadata": {},
   "source": [
    "## 2023/05/05"
   ]
  },
  {
   "cell_type": "code",
   "execution_count": null,
   "metadata": {},
   "outputs": [],
   "source": [
    "## 의사코드 ##\n",
    "\n",
    "# 8진수 -> 10진수\n",
    "# to_ten = int('8진수', 8)\n",
    "\n",
    "# 10진수 -> 2진수\n",
    "# bin(to_ten)"
   ]
  },
  {
   "attachments": {},
   "cell_type": "markdown",
   "metadata": {},
   "source": [
    "### 1)"
   ]
  },
  {
   "cell_type": "code",
   "execution_count": 3,
   "metadata": {},
   "outputs": [
    {
     "name": "stdout",
     "output_type": "stream",
     "text": [
      "11001100\n"
     ]
    }
   ],
   "source": [
    "n = input()\n",
    "\n",
    "# 8진수 -> 10진수\n",
    "to_ten = int(n, 8)\n",
    "\n",
    "# 10진수 -> 2진수\n",
    "# 맨 앞의'0b' 제외\n",
    "two = list(str(bin(to_ten)[2:]))\n",
    "\n",
    "# 수가 0인 경우를 제외하고는 반드시 1로 시작\n",
    "while two:\n",
    "    if two[0] == '0':\n",
    "        two.pop(0)\n",
    "    else:\n",
    "        print(''.join(two))\n",
    "        break"
   ]
  },
  {
   "attachments": {},
   "cell_type": "markdown",
   "metadata": {},
   "source": [
    "-> 틀림"
   ]
  },
  {
   "attachments": {},
   "cell_type": "markdown",
   "metadata": {},
   "source": [
    "### 통과)"
   ]
  },
  {
   "cell_type": "code",
   "execution_count": 4,
   "metadata": {},
   "outputs": [
    {
     "name": "stdout",
     "output_type": "stream",
     "text": [
      "11001100\n"
     ]
    }
   ],
   "source": [
    "n = input()\n",
    "\n",
    "# 8진수 -> 10진수\n",
    "to_ten = int(n, 8)\n",
    "\n",
    "# 10진수 -> 2진수\n",
    "# 맨 앞의'0b' 제외\n",
    "print(bin(to_ten)[2:])"
   ]
  },
  {
   "attachments": {},
   "cell_type": "markdown",
   "metadata": {},
   "source": [
    "-> 그냥 맨 앞의 '0b'만 제외하고 출력"
   ]
  }
 ],
 "metadata": {
  "kernelspec": {
   "display_name": "base",
   "language": "python",
   "name": "python3"
  },
  "language_info": {
   "codemirror_mode": {
    "name": "ipython",
    "version": 3
   },
   "file_extension": ".py",
   "mimetype": "text/x-python",
   "name": "python",
   "nbconvert_exporter": "python",
   "pygments_lexer": "ipython3",
   "version": "3.9.7"
  },
  "orig_nbformat": 4
 },
 "nbformat": 4,
 "nbformat_minor": 2
}

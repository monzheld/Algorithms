{
 "cells": [
  {
   "attachments": {},
   "cell_type": "markdown",
   "metadata": {},
   "source": [
    "13985번\n",
    "\n",
    "[문제](https://www.acmicpc.net/problem/13985)"
   ]
  },
  {
   "attachments": {},
   "cell_type": "markdown",
   "metadata": {},
   "source": [
    "### 문자열"
   ]
  },
  {
   "attachments": {},
   "cell_type": "markdown",
   "metadata": {},
   "source": [
    "- The quiz asks a student for the sum of the numbers\n",
    "- Determine if the student taking the quiz got the question correct"
   ]
  },
  {
   "attachments": {},
   "cell_type": "markdown",
   "metadata": {},
   "source": [
    "- 입력\n",
    "    - The first and the only line of input contains a string of the form: a + b = c\n",
    "    - It is guaranteed that a, b, and c are single-digit positive integers\n",
    "    - The input line will have exactly 9 characters, formatted exactly as shown, with a single space separating each number and arithmetic operator\n",
    "- 출력\n",
    "    - Print, on a single line, YES if the sum is correct; otherwise, print NO\n",
    "\n",
    "- 시간 제한: 1초\n",
    "- 메모리 제한: 512 MB"
   ]
  },
  {
   "cell_type": "code",
   "execution_count": null,
   "metadata": {},
   "outputs": [],
   "source": [
    "\"\"\"\n",
    "입출력 예시)\n",
    "\n",
    "(예제 입력 1) \n",
    "1 + 2 = 3\n",
    "            -> YES\n",
    "\n",
    "(예제 입력 2) \n",
    "2 + 2 = 5\n",
    "            -> NO\n",
    "\"\"\""
   ]
  },
  {
   "attachments": {},
   "cell_type": "markdown",
   "metadata": {},
   "source": [
    "## 2023/06/21"
   ]
  },
  {
   "cell_type": "code",
   "execution_count": null,
   "metadata": {},
   "outputs": [],
   "source": [
    "## 의사코드 ##\n",
    "\n",
    "# a, b, c는 모두 한 자리 양의 정수\n",
    "\n",
    "# a + b = c 이면 yes \n",
    "# 아니면 no \n",
    "\n",
    "# '='으로 split해서 eval() 함수로 계산한 값이 같은지 확인\n",
    "# string = input().split('=')\n",
    "# if eval(string[0]) == int(string[1]):"
   ]
  },
  {
   "attachments": {},
   "cell_type": "markdown",
   "metadata": {},
   "source": [
    "### 통과)"
   ]
  },
  {
   "cell_type": "code",
   "execution_count": 12,
   "metadata": {},
   "outputs": [
    {
     "name": "stdout",
     "output_type": "stream",
     "text": [
      "NO\n"
     ]
    }
   ],
   "source": [
    "string = input().split('=')\n",
    "if eval(string[0]) == int(string[1]):\n",
    "    print('YES')\n",
    "else:\n",
    "    print('NO')"
   ]
  }
 ],
 "metadata": {
  "kernelspec": {
   "display_name": "base",
   "language": "python",
   "name": "python3"
  },
  "language_info": {
   "codemirror_mode": {
    "name": "ipython",
    "version": 3
   },
   "file_extension": ".py",
   "mimetype": "text/x-python",
   "name": "python",
   "nbconvert_exporter": "python",
   "pygments_lexer": "ipython3",
   "version": "3.9.7"
  },
  "orig_nbformat": 4
 },
 "nbformat": 4,
 "nbformat_minor": 2
}

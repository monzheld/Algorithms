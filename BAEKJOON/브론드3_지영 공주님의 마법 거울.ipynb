{
 "cells": [
  {
   "attachments": {},
   "cell_type": "markdown",
   "metadata": {},
   "source": [
    "11586번\n",
    "\n",
    "[문제](https://www.acmicpc.net/problem/11586)"
   ]
  },
  {
   "attachments": {},
   "cell_type": "markdown",
   "metadata": {},
   "source": [
    "### 문자열"
   ]
  },
  {
   "attachments": {},
   "cell_type": "markdown",
   "metadata": {},
   "source": [
    "- 마법거울은 매일 자신의 심리상태에 따라 거울에 비친 공주님의 모습을 좌/우 또는 상/하로 반전시켜 비추기로 함\n",
    "- 마법거울의 심리상태는 1부터 3까지의 자연수로 표현할 수 있으며, 숫자가 클수록 더 화가 난 상태를 의미\n",
    "- 마법거울의 심리상태가 **1일 때는 지영 공주님의 모습을 있는 그대로 표현하고, 2일 때는 좌/우로 반전된 모습을, 3일 때는 상/하로 반전**된 모습을 표현\n",
    "- 정사각형 형태의 마법거울의 크기와 거울에 비친 지영 공주님의 원래 모습, 마법거울의 심리상태가 주어졌을 때, 마법거울에 비친 지영 공주님의 모습을 출력"
   ]
  },
  {
   "attachments": {},
   "cell_type": "markdown",
   "metadata": {},
   "source": [
    "- 입력\n",
    "    - 첫 번째 줄에 정사각형 모양의 마법거울의 크기를 나타내는 자연수 N(2 ≤ N ≤ 100)이 입력\n",
    "    - 그 다음 N개의 줄에 걸쳐 거울에 비친 지영 공주님의 원래 모습이 각 줄에 N개의 문자로 표현\n",
    "    - 마법거울은 알파벳 대소문자로만 거울에 비친 상을 표현할 수 있음\n",
    "    - 마지막 줄에 마법거울의 심리상태를 나타내는 정수 K(1 ≤ K ≤ 3)가 주어짐\n",
    "- 출력\n",
    "    - 마법거울의 심리상태에 따라 거울에 비친 지영공주님의 모습을 N×N크기의 정사각형 형태로 출력\n",
    "    - 반전된 모습은 입력으로 주어진 문자의 위치를 반전시키는 것을 의미\n",
    "\n",
    "- 시간 제한: 2초\n",
    "- 메모리 제한: 256 MB"
   ]
  },
  {
   "cell_type": "code",
   "execution_count": null,
   "metadata": {},
   "outputs": [],
   "source": [
    "\"\"\"\n",
    "입출력 예시)\n",
    "\n",
    "(예제 입력 1) \n",
    "20:00:00\n",
    "04:00:00\n",
    "        -> 08:00:00\n",
    "\n",
    "(예제 입력 2) \n",
    "12:34:56\n",
    "14:36:22\n",
    "        -> 02:01:26\n",
    "\"\"\""
   ]
  },
  {
   "attachments": {},
   "cell_type": "markdown",
   "metadata": {},
   "source": [
    "## 2023/05/31"
   ]
  },
  {
   "cell_type": "code",
   "execution_count": null,
   "metadata": {},
   "outputs": [],
   "source": [
    "## 의사코드 ##\n",
    "\n",
    "# 마법거울의 심리상태가 1 -> 그대로 \n",
    "\n",
    "# 마법거울의 심리상태가 2 -> 좌/우 반전\n",
    "# if mirror == 2:\n",
    "#     for i in range(n):\n",
    "#         # 문자열 뒤집기\n",
    "#         princess[i] = princess[i][::-1]\n",
    "\n",
    "# 마법거울의 심리상태가 3 -> 상/하 반전\n",
    "# elif mirror == 3:\n",
    "#     # 리스트 순서 뒤집기\n",
    "#     princess.reverse()"
   ]
  },
  {
   "attachments": {},
   "cell_type": "markdown",
   "metadata": {},
   "source": [
    "### 통과)"
   ]
  },
  {
   "cell_type": "code",
   "execution_count": 2,
   "metadata": {},
   "outputs": [
    {
     "name": "stdout",
     "output_type": "stream",
     "text": [
      "OOOOOOOO\n",
      "OOAAAAOO\n",
      "OAOOOOAO\n",
      "OOOSSOOO\n",
      "OOOSSOOO\n",
      "OKKOOEEO\n",
      "OKKOOEEO\n",
      "OOOOOOOO\n"
     ]
    }
   ],
   "source": [
    "n = int(input())\n",
    "princess = []\n",
    "for _ in range(n):\n",
    "    princess.append(input())\n",
    "mirror = int(input())\n",
    "\n",
    "# 마법거울의 심리상태가 1 -> 그대로 \n",
    "\n",
    "# 마법거울의 심리상태가 2 -> 좌/우 반전\n",
    "if mirror == 2:\n",
    "    for i in range(n):\n",
    "        # 문자열 뒤집기\n",
    "        princess[i] = princess[i][::-1]\n",
    "# 마법거울의 심리상태가 3 -> 상/하 반전\n",
    "elif mirror == 3:\n",
    "    # 리스트 순서 뒤집기\n",
    "    princess.reverse()\n",
    "\n",
    "for i in range(n):\n",
    "    print(princess[i])"
   ]
  },
  {
   "cell_type": "code",
   "execution_count": null,
   "metadata": {},
   "outputs": [],
   "source": []
  }
 ],
 "metadata": {
  "kernelspec": {
   "display_name": "base",
   "language": "python",
   "name": "python3"
  },
  "language_info": {
   "codemirror_mode": {
    "name": "ipython",
    "version": 3
   },
   "file_extension": ".py",
   "mimetype": "text/x-python",
   "name": "python",
   "nbconvert_exporter": "python",
   "pygments_lexer": "ipython3",
   "version": "3.9.7"
  },
  "orig_nbformat": 4
 },
 "nbformat": 4,
 "nbformat_minor": 2
}

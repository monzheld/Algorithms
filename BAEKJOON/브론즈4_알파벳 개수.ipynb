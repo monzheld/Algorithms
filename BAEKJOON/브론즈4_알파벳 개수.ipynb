{
 "cells": [
  {
   "attachments": {},
   "cell_type": "markdown",
   "metadata": {},
   "source": [
    "10808번\n",
    "\n",
    "[문제](https://www.acmicpc.net/problem/10808)"
   ]
  },
  {
   "attachments": {},
   "cell_type": "markdown",
   "metadata": {},
   "source": [
    "### 문자열"
   ]
  },
  {
   "attachments": {},
   "cell_type": "markdown",
   "metadata": {},
   "source": [
    "- 알파벳 소문자로만 이루어진 단어 S가 주어짐\n",
    "- 각 알파벳이 단어에 몇 개가 포함되어 있는지 구하기"
   ]
  },
  {
   "attachments": {},
   "cell_type": "markdown",
   "metadata": {},
   "source": [
    "- 입력\n",
    "    - 첫째 줄에 단어 S가 주어짐\n",
    "    - 단어의 길이는 100을 넘지 않으며, 알파벳 소문자로만 이루어져 있음\n",
    "- 출력\n",
    "    - **단어에 포함되어 있는 a의 개수, b의 개수, …, z의 개수를 공백으로 구분해서 출력**\n",
    "\n",
    "- 시간 제한: 1초\n",
    "- 메모리 제한: 256 MB"
   ]
  },
  {
   "cell_type": "code",
   "execution_count": null,
   "metadata": {},
   "outputs": [],
   "source": [
    "\"\"\"\n",
    "입출력 예시)\n",
    "\n",
    "baekjoon\n",
    "  -> 1 1 0 0 1 0 0 0 0 1 1 0 0 1 2 0 0 0 0 0 0 0 0 0 0 0\n",
    "\"\"\""
   ]
  },
  {
   "attachments": {},
   "cell_type": "markdown",
   "metadata": {},
   "source": [
    "## 2023/04/02"
   ]
  },
  {
   "cell_type": "code",
   "execution_count": null,
   "metadata": {},
   "outputs": [],
   "source": [
    "## 의사코드 ##\n",
    "\n",
    "# a-z까지 각 알파벳의 개수를 담을 리스트\n",
    "# alphas = [0*i for i in range(97, 123)]\n",
    "\n",
    "# a-z까지 알파벳을 하나씩 돌며 단어 s에 포함되어 있는지 확인\n",
    "# for i in range(len(alphas)):\n",
    "    # for j in range(len(s)):\n",
    "        # 현재 알파벳이 단어 s에 포함되어 있으면 개수 + 1\n",
    "        # if chr(i+97) == s[j]:\n",
    "            # alphas[i] += 1\n",
    "\n",
    "# 알파벳 리스트의 모든 요소 출력\n",
    "# print(*alphas)"
   ]
  },
  {
   "attachments": {},
   "cell_type": "markdown",
   "metadata": {},
   "source": [
    "### 통과)"
   ]
  },
  {
   "cell_type": "code",
   "execution_count": 9,
   "metadata": {},
   "outputs": [
    {
     "name": "stdout",
     "output_type": "stream",
     "text": [
      "1 1 0 0 1 0 0 0 0 1 1 0 0 1 2 0 0 0 0 0 0 0 0 0 0 0\n"
     ]
    }
   ],
   "source": [
    "s = input()\n",
    "# a-z까지 각 알파벳의 개수를 담을 리스트\n",
    "alphas = [0*i for i in range(97, 123)]\n",
    "for i in range(len(alphas)):\n",
    "    for j in range(len(s)):\n",
    "        # 현재 알파벳이 단어 s에 포함되어 있으면 개수 + 1\n",
    "        if chr(i+97) == s[j]:\n",
    "            alphas[i] += 1\n",
    "# 알파벳 리스트의 모든 요소 출력\n",
    "print(*alphas)"
   ]
  }
 ],
 "metadata": {
  "kernelspec": {
   "display_name": "base",
   "language": "python",
   "name": "python3"
  },
  "language_info": {
   "codemirror_mode": {
    "name": "ipython",
    "version": 3
   },
   "file_extension": ".py",
   "mimetype": "text/x-python",
   "name": "python",
   "nbconvert_exporter": "python",
   "pygments_lexer": "ipython3",
   "version": "3.9.7"
  },
  "orig_nbformat": 4
 },
 "nbformat": 4,
 "nbformat_minor": 2
}

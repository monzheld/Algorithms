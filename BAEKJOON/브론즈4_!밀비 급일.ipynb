{
 "cells": [
  {
   "attachments": {},
   "cell_type": "markdown",
   "metadata": {},
   "source": [
    "11365번\n",
    "\n",
    "[문제](https://www.acmicpc.net/problem/11365)"
   ]
  },
  {
   "attachments": {},
   "cell_type": "markdown",
   "metadata": {},
   "source": [
    "### 문자열"
   ]
  },
  {
   "attachments": {},
   "cell_type": "markdown",
   "metadata": {},
   "source": [
    "- 쪽지에는 암호가 적혀 있었는데, 똑똑한 당신은 암호가 뒤집으면 해독된다는 것을 발견\n",
    "- 이 암호를 해독하기"
   ]
  },
  {
   "attachments": {},
   "cell_type": "markdown",
   "metadata": {},
   "source": [
    "- 입력\n",
    "    - 한 줄에 하나의 암호가 주어짐\n",
    "    - 암호의 길이는 500을 넘지 않음\n",
    "    - 마지막 줄에는 \"END\"가 주어짐 (END는 해독하지 않음)\n",
    "- 출력\n",
    "    - 각 암호가 해독된 것을 한 줄에 하나씩 출력\n",
    "\n",
    "- 시간 제한: 1초\n",
    "- 메모리 제한: 256 MB"
   ]
  },
  {
   "cell_type": "code",
   "execution_count": null,
   "metadata": {},
   "outputs": [],
   "source": [
    "\"\"\"\n",
    "입출력 예시)\n",
    "\n",
    "!edoc doog a tahW\n",
    "noitacitsufbo\n",
    "erafraw enirambus detcirtsernu yraurbeF fo tsrif eht no nigeb ot dnetni eW\n",
    "lla sees rodroM fo drol eht ,ssertrof sih nihtiw delaecnoC\n",
    "END\n",
    "\n",
    "    -> What a good code!\n",
    "       obfustication\n",
    "       We intend to begin on the first of February unrestricted submarine warfare\n",
    "       Concealed within his fortress, the lord of Mordor sees all\n",
    "\"\"\""
   ]
  },
  {
   "attachments": {},
   "cell_type": "markdown",
   "metadata": {},
   "source": [
    "## 2023/03/05"
   ]
  },
  {
   "cell_type": "code",
   "execution_count": null,
   "metadata": {},
   "outputs": [],
   "source": [
    "## 의사코드 ##\n",
    "\n",
    "# 암호를 뒤집어서 출력\n",
    "# s[::-1]"
   ]
  },
  {
   "attachments": {},
   "cell_type": "markdown",
   "metadata": {},
   "source": [
    "### 통과)"
   ]
  },
  {
   "cell_type": "code",
   "execution_count": 1,
   "metadata": {},
   "outputs": [
    {
     "name": "stdout",
     "output_type": "stream",
     "text": [
      "What a good code!\n",
      "obfustication\n",
      "We intend to begin on the first of February unrestricted submarine warfare\n",
      "Concealed within his fortress, the lord of Mordor sees all\n"
     ]
    }
   ],
   "source": [
    "while True:\n",
    "    s = input()\n",
    "    if s == 'END':\n",
    "        break\n",
    "    else:\n",
    "        print(s[::-1])"
   ]
  }
 ],
 "metadata": {
  "kernelspec": {
   "display_name": "base",
   "language": "python",
   "name": "python3"
  },
  "language_info": {
   "codemirror_mode": {
    "name": "ipython",
    "version": 3
   },
   "file_extension": ".py",
   "mimetype": "text/x-python",
   "name": "python",
   "nbconvert_exporter": "python",
   "pygments_lexer": "ipython3",
   "version": "3.9.7"
  },
  "orig_nbformat": 4
 },
 "nbformat": 4,
 "nbformat_minor": 2
}

{
 "cells": [
  {
   "attachments": {},
   "cell_type": "markdown",
   "metadata": {},
   "source": [
    "1919번\n",
    "\n",
    "[문제](https://www.acmicpc.net/problem/1919)"
   ]
  },
  {
   "attachments": {},
   "cell_type": "markdown",
   "metadata": {},
   "source": [
    "### 문자열"
   ]
  },
  {
   "attachments": {},
   "cell_type": "markdown",
   "metadata": {},
   "source": [
    "- 두 영어 단어가 철자의 순서를 뒤바꾸어 같아질 수 있을 때, 그러한 두 단어를 서로 애너그램 관계에 있다고 함\n",
    "- 예를 들면 occurs 라는 영어 단어와 succor 는 서로 애너그램 관계에 있는데, occurs의 각 문자들의 순서를 잘 바꾸면 succor이 되기 때문\n",
    "- 한 편, dared와 bread는 서로 애너그램 관계에 있지 않음\n",
    "    - 하지만 dared에서 맨 앞의 d를 제거하고, bread에서 제일 앞의 b를 제거하면, ared와 read라는 서로 애너그램 관계에 있는 단어가 남게 됨\n",
    "- 두 개의 영어 단어가 주어졌을 때, 두 단어가 서로 **애너그램 관계에 있도록 만들기 위해서 제거해야 하는 최소 개수의 문자 수** 구하기\n",
    "- 문자를 제거할 때에는 아무 위치에 있는 문자든지 제거 가능"
   ]
  },
  {
   "attachments": {},
   "cell_type": "markdown",
   "metadata": {},
   "source": [
    "- 입력\n",
    "    - 첫째 줄과 둘째 줄에 영어 단어가 소문자로 주어짐\n",
    "    - 각각의 길이는 1,000자를 넘지 않으며, 적어도 한 글자로 이루어진 단어가 주어짐\n",
    "- 출력\n",
    "    - 첫째 줄에 답을 출력\n",
    "\n",
    "- 시간 제한: 2초\n",
    "- 메모리 제한: \t128 MB"
   ]
  },
  {
   "cell_type": "code",
   "execution_count": null,
   "metadata": {},
   "outputs": [],
   "source": [
    "\"\"\"\n",
    "입출력 예시)\n",
    "\n",
    "aabbcc\n",
    "xxyybb\n",
    "        -> 8\n",
    "\"\"\""
   ]
  },
  {
   "attachments": {},
   "cell_type": "markdown",
   "metadata": {},
   "source": [
    "## 2023/03/04"
   ]
  },
  {
   "cell_type": "code",
   "execution_count": null,
   "metadata": {},
   "outputs": [],
   "source": [
    "## 의사코드 ##\n",
    "\n",
    "# 애너그램이 되도록 제거해야 하는 최소 개수\n",
    "# -> 두 단어에 공통으로 존재하는 알파벳의 개수를 len(a)와 len(b)에서 각각 빼서 더한 값\n",
    "\n",
    "# 두 단어에 모두 존재하는 알파벳의 개수\n",
    "# common = 0\n",
    "# for s in a:\n",
    "#     if s in b:\n",
    "#         common += 1\n",
    "\n",
    "# 제거해야 하는 최소 문자의 수 = (len(a) - common) + (len(b) - common)"
   ]
  },
  {
   "attachments": {},
   "cell_type": "markdown",
   "metadata": {},
   "source": [
    "### 1) "
   ]
  },
  {
   "cell_type": "code",
   "execution_count": 2,
   "metadata": {},
   "outputs": [
    {
     "name": "stdout",
     "output_type": "stream",
     "text": [
      "8\n"
     ]
    }
   ],
   "source": [
    "a = input()\n",
    "b = input()\n",
    "\n",
    "common = 0 \n",
    "for s in a:\n",
    "    if s in b:\n",
    "        common += 1\n",
    "\n",
    "print((len(a) - common) + (len(b) - common))"
   ]
  },
  {
   "attachments": {},
   "cell_type": "markdown",
   "metadata": {},
   "source": [
    "-> 틀림"
   ]
  },
  {
   "attachments": {},
   "cell_type": "markdown",
   "metadata": {},
   "source": [
    "### 통과)"
   ]
  },
  {
   "cell_type": "code",
   "execution_count": 4,
   "metadata": {},
   "outputs": [
    {
     "name": "stdout",
     "output_type": "stream",
     "text": [
      "8\n"
     ]
    }
   ],
   "source": [
    "from collections import Counter\n",
    "a = Counter(input())\n",
    "b = Counter(input())\n",
    "\n",
    "print(sum((a-b).values()) + sum((b-a).values()))"
   ]
  },
  {
   "attachments": {},
   "cell_type": "markdown",
   "metadata": {},
   "source": [
    "-> Counter()로 두 단어의 알파벳 개수를 각각 카운트하고, 두 딕셔너리의 차집합을 더한 값이 정답"
   ]
  },
  {
   "cell_type": "code",
   "execution_count": null,
   "metadata": {},
   "outputs": [],
   "source": [
    "# 과정 확인"
   ]
  },
  {
   "cell_type": "code",
   "execution_count": 3,
   "metadata": {},
   "outputs": [
    {
     "name": "stdout",
     "output_type": "stream",
     "text": [
      "a: Counter({'a': 2, 'b': 2, 'c': 2})\n",
      "b: Counter({'x': 2, 'y': 2, 'b': 2}) \n",
      "\n",
      "a-b: dict_values([2, 2])\n",
      "b-a: dict_values([2, 2]) \n",
      "\n",
      "8\n"
     ]
    }
   ],
   "source": [
    "from collections import Counter\n",
    "a = Counter(input())\n",
    "b = Counter(input())\n",
    "print('a:', a)\n",
    "print('b:', b, '\\n')\n",
    "\n",
    "print('a-b:', (a-b).values())\n",
    "print('b-a:', (b-a).values(), '\\n')\n",
    "\n",
    "print(sum((a-b).values()) + sum((b-a).values()))"
   ]
  }
 ],
 "metadata": {
  "kernelspec": {
   "display_name": "base",
   "language": "python",
   "name": "python3"
  },
  "language_info": {
   "codemirror_mode": {
    "name": "ipython",
    "version": 3
   },
   "file_extension": ".py",
   "mimetype": "text/x-python",
   "name": "python",
   "nbconvert_exporter": "python",
   "pygments_lexer": "ipython3",
   "version": "3.9.7"
  },
  "orig_nbformat": 4
 },
 "nbformat": 4,
 "nbformat_minor": 2
}

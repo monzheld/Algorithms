{
 "cells": [
  {
   "attachments": {},
   "cell_type": "markdown",
   "metadata": {},
   "source": [
    "2745번\n",
    "\n",
    "[문제](https://www.acmicpc.net/problem/2745)"
   ]
  },
  {
   "attachments": {},
   "cell_type": "markdown",
   "metadata": {},
   "source": [
    "### 문자열"
   ]
  },
  {
   "attachments": {},
   "cell_type": "markdown",
   "metadata": {},
   "source": [
    "- B진법 수 N이 주어짐\n",
    "- 이 수를 10진법으로 바꿔 출력하기\n",
    "- 10진법을 넘어가는 진법은 숫자로 표시할 수 없는 자리가 있음\n",
    "- 이런 경우에는 다음과 같이 알파벳 대문자를 사용\n",
    "    - A: 10, B: 11, ..., F: 15, ..., Y: 34, Z: 35"
   ]
  },
  {
   "attachments": {},
   "cell_type": "markdown",
   "metadata": {},
   "source": [
    "- 입력\n",
    "    - 첫째 줄에 N과 B가 주어짐 (2 ≤ B ≤ 36)\n",
    "    - B진법 수 N을 10진법으로 바꾸면, 항상 10억보다 작거나 같음\n",
    "- 출력\n",
    "    - 첫째 줄에 B진법 수 N을 10진법으로 출력\n",
    "\n",
    "- 시간 제한: 1초\n",
    "- 메모리 제한: 128 MB"
   ]
  },
  {
   "cell_type": "code",
   "execution_count": null,
   "metadata": {},
   "outputs": [],
   "source": [
    "\"\"\"\n",
    "입출력 예시)\n",
    "\n",
    "ZZZZZ 36\n",
    "            -> 60466175\n",
    "\"\"\""
   ]
  },
  {
   "attachments": {},
   "cell_type": "markdown",
   "metadata": {},
   "source": [
    "## 2023/06/14"
   ]
  },
  {
   "cell_type": "code",
   "execution_count": null,
   "metadata": {},
   "outputs": [],
   "source": [
    "## 의사코드 ##\n",
    "\n",
    "# n진법 -> 10진법\n",
    "# int('숫자 문자열', n)"
   ]
  },
  {
   "attachments": {},
   "cell_type": "markdown",
   "metadata": {},
   "source": [
    "### 통과)"
   ]
  },
  {
   "cell_type": "code",
   "execution_count": 12,
   "metadata": {},
   "outputs": [
    {
     "name": "stdout",
     "output_type": "stream",
     "text": [
      "60466175\n"
     ]
    }
   ],
   "source": [
    "n, b = input().split()\n",
    "print(int(n, int(b)))"
   ]
  },
  {
   "attachments": {},
   "cell_type": "markdown",
   "metadata": {},
   "source": [
    "### 다른 풀이"
   ]
  },
  {
   "cell_type": "code",
   "execution_count": null,
   "metadata": {},
   "outputs": [],
   "source": [
    "# 36진법\n",
    "# ZZZZZ \n",
    "#     -> (Z x 36**4) + (Z x 36**3) + (Z x 36**2) + (Z x 36**1)+ (Z x 36**0)"
   ]
  },
  {
   "cell_type": "code",
   "execution_count": 15,
   "metadata": {},
   "outputs": [
    {
     "name": "stdout",
     "output_type": "stream",
     "text": [
      "60466175\n"
     ]
    }
   ],
   "source": [
    "n, b = input().split()\n",
    "n = n[::-1]\n",
    "arr = '0123456789ABCDEFGHIJKLMNOPQRSTUVWXYZ'\n",
    "res = 0\n",
    "for i, num in enumerate(n):\n",
    "    res += ((int(b)**i) * (arr.index(num)))\n",
    "print(res)"
   ]
  },
  {
   "attachments": {},
   "cell_type": "markdown",
   "metadata": {},
   "source": [
    "-> 통과 O"
   ]
  },
  {
   "attachments": {},
   "cell_type": "markdown",
   "metadata": {},
   "source": [
    "cf) 문자열로만 arr를 만든 후 index + 10 "
   ]
  },
  {
   "cell_type": "code",
   "execution_count": 20,
   "metadata": {},
   "outputs": [
    {
     "name": "stdout",
     "output_type": "stream",
     "text": [
      "60466175\n"
     ]
    }
   ],
   "source": [
    "n, b = input().split()\n",
    "n = n[::-1]\n",
    "arr = 'ABCDEFGHIJKLMNOPQRSTUVWXYZ'\n",
    "res = 0\n",
    "for i, num in enumerate(n):\n",
    "    res += ((int(b)**i) * (arr.index(num)+10))\n",
    "print(res)"
   ]
  },
  {
   "attachments": {},
   "cell_type": "markdown",
   "metadata": {},
   "source": [
    "-> 런타임 에러로 통과 x"
   ]
  }
 ],
 "metadata": {
  "kernelspec": {
   "display_name": "base",
   "language": "python",
   "name": "python3"
  },
  "language_info": {
   "codemirror_mode": {
    "name": "ipython",
    "version": 3
   },
   "file_extension": ".py",
   "mimetype": "text/x-python",
   "name": "python",
   "nbconvert_exporter": "python",
   "pygments_lexer": "ipython3",
   "version": "3.9.7"
  },
  "orig_nbformat": 4
 },
 "nbformat": 4,
 "nbformat_minor": 2
}

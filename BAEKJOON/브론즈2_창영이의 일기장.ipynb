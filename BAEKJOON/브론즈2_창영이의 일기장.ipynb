{
 "cells": [
  {
   "attachments": {},
   "cell_type": "markdown",
   "metadata": {},
   "source": [
    "2954번\n",
    "\n",
    "[문제](https://www.acmicpc.net/problem/2954)"
   ]
  },
  {
   "attachments": {},
   "cell_type": "markdown",
   "metadata": {},
   "source": [
    "### 문자열"
   ]
  },
  {
   "attachments": {},
   "cell_type": "markdown",
   "metadata": {},
   "source": [
    "- 창영이는 남들이 자신의 일기장을 보는 것을 막기 위해서 **모음('a','e','i','o','u')의 다음에 'p'를 하나 쓰고,  그 모음을 하나 더** 씀\n",
    "- 예를 들어, \"kemija\" 는 \"kepemipijapa\"가 되고, \"paprika\"는 \"papapripikapa\"\n",
    "- 창영이가 일기장에 작성한 문장이 하나 주어졌을 때, 원래 문장은 무엇인지 구하기"
   ]
  },
  {
   "attachments": {},
   "cell_type": "markdown",
   "metadata": {},
   "source": [
    "- 입력\n",
    "    - 첫째 줄에 알파벳 소문자와 공백으로만 이루어진 문장이 하나 주어짐\n",
    "    - 모든 단어는 공백 하나로 구분되어져 있음\n",
    "    - 문장의 길이는 최대 100\n",
    "- 출력\n",
    "    - 첫째 줄에 창영이가 일기장에 작성한 문장을 원래 문장으로 바꾸어 출력\n",
    "\n",
    "- 시간 제한: 1 초\n",
    "- 메모리 제한: 128 MB"
   ]
  },
  {
   "cell_type": "code",
   "execution_count": null,
   "metadata": {},
   "outputs": [],
   "source": [
    "\"\"\"\n",
    "입출력 예시)\n",
    "\n",
    "(예제 입력 1) \n",
    "zepelepenapa papapripikapa\n",
    "    -> zelena paprika\n",
    "\n",
    "(예제 입력 2) \n",
    "bapas jepe doposapadnapa opovapa kepemipijapa \n",
    "    -> bas je dosadna ova kemija\n",
    "\"\"\""
   ]
  },
  {
   "attachments": {},
   "cell_type": "markdown",
   "metadata": {},
   "source": [
    "## 2023/04/30"
   ]
  },
  {
   "cell_type": "code",
   "execution_count": null,
   "metadata": {},
   "outputs": [],
   "source": [
    "## 의사코드 ##\n",
    "\n",
    "# 모음('a','e','i','o','u')의 다음에 'p'를 하나 쓰고,  그 모음을 하나 더 씀\n",
    "# -> 모음이면 두 글자 뛰어넘기 \n",
    "\n",
    "# i = 0\n",
    "# while i < len(string):\n",
    "#     print(string[i], end=\"\")\n",
    "#     # 현재 글자가 모음이면 두 글자 뛰어넘기\n",
    "#     if string[i] in vowel:\n",
    "#         i += 2\n",
    "#     i += 1"
   ]
  },
  {
   "attachments": {},
   "cell_type": "markdown",
   "metadata": {},
   "source": [
    "### 통과)"
   ]
  },
  {
   "cell_type": "code",
   "execution_count": 10,
   "metadata": {},
   "outputs": [
    {
     "name": "stdout",
     "output_type": "stream",
     "text": [
      "bas je dosadna ova kemija "
     ]
    }
   ],
   "source": [
    "import sys\n",
    "string = sys.stdin.readline()\n",
    "\n",
    "# 모음 리스트\n",
    "vowel = ['a','e','i','o','u']\n",
    "\n",
    "i = 0\n",
    "while i < len(string):\n",
    "    print(string[i], end=\"\")\n",
    "    # 현재 글자가 모음이면 두 글자 뛰어넘기\n",
    "    if string[i] in vowel:\n",
    "        i += 2\n",
    "    i += 1"
   ]
  }
 ],
 "metadata": {
  "kernelspec": {
   "display_name": "base",
   "language": "python",
   "name": "python3"
  },
  "language_info": {
   "codemirror_mode": {
    "name": "ipython",
    "version": 3
   },
   "file_extension": ".py",
   "mimetype": "text/x-python",
   "name": "python",
   "nbconvert_exporter": "python",
   "pygments_lexer": "ipython3",
   "version": "3.9.7"
  },
  "orig_nbformat": 4
 },
 "nbformat": 4,
 "nbformat_minor": 2
}

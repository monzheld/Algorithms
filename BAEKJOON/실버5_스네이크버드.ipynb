{
 "cells": [
  {
   "attachments": {},
   "cell_type": "markdown",
   "metadata": {},
   "source": [
    "16435번\n",
    "\n",
    "[문제](https://www.acmicpc.net/problem/16435)"
   ]
  },
  {
   "attachments": {},
   "cell_type": "markdown",
   "metadata": {},
   "source": [
    "### 탐욕(Greedy)"
   ]
  },
  {
   "attachments": {},
   "cell_type": "markdown",
   "metadata": {},
   "source": [
    "- 스네이크버드의 주요 먹이는 과일이며 **과일 하나를 먹으면 길이가 1만큼 늘어남**\n",
    "- 과일들은 지상으로부터 일정 높이를 두고 떨어져 있으며 i (1 ≤ i ≤ N) 번째 과일의 높이는 hi\n",
    "- 스네이크버드는 **자신의 길이보다 작거나 같은 높이에 있는 과일들**을 먹을 수 있음\n",
    "- 스네이크버드의 처음 길이가 L일때 과일들을 먹어 늘릴 수 있는 최대 길이 구하기"
   ]
  },
  {
   "attachments": {},
   "cell_type": "markdown",
   "metadata": {},
   "source": [
    "- 입력\n",
    "    - 첫 번째 줄에 과일의 개수 N (1 ≤ N ≤ 1,000) 과 스네이크버드의 초기 길이 정수 L (1 ≤ L ≤ 10,000) 이 주어짐\n",
    "    - 두 번째 줄에는 정수 h1, h2, ..., hN (1 ≤ hi ≤ 10,000) 이 주어짐\n",
    "- 출력\n",
    "    - 첫 번째 줄에 스네이크버드의 최대 길이를 출력\n",
    "\n",
    "- 시간 제한: 1초\n",
    "- 메모리 제한: 128 MB"
   ]
  },
  {
   "cell_type": "code",
   "execution_count": null,
   "metadata": {},
   "outputs": [],
   "source": [
    "\"\"\"\n",
    "입출력 예시)\n",
    "\n",
    "(예제 입력 1) \n",
    "3 10\n",
    "10 11 13\n",
    "        -> 12\n",
    "\n",
    "(예제 입력 2)\n",
    "9 1\n",
    "9 5 8 1 3 2 7 6 4\n",
    "                -> 10\n",
    "\"\"\""
   ]
  },
  {
   "attachments": {},
   "cell_type": "markdown",
   "metadata": {},
   "source": [
    "## 2023/02/26"
   ]
  },
  {
   "cell_type": "code",
   "execution_count": null,
   "metadata": {},
   "outputs": [],
   "source": [
    "## 의사코드 ##\n",
    "\n",
    "# 과일 리스트를 오름차순 정렬\n",
    "# 과일.sort()\n",
    "\n",
    "# for i in range(n):\n",
    "#     # 현재 과일의 높이가 스네이크버드의 길이보다 작거나 같은 경우, 과일을 먹고 길이 + 1\n",
    "#     if 과일[i] <= l:\n",
    "#         l += 1 \n",
    "\n",
    "# 스네이크버드의 최대 길이 \n",
    "# print(l)"
   ]
  },
  {
   "attachments": {},
   "cell_type": "markdown",
   "metadata": {},
   "source": [
    "### 통과)"
   ]
  },
  {
   "cell_type": "code",
   "execution_count": 3,
   "metadata": {},
   "outputs": [
    {
     "name": "stdout",
     "output_type": "stream",
     "text": [
      "10\n"
     ]
    }
   ],
   "source": [
    "n, l = map(int, input().split())\n",
    "fruits = list(map(int, input().split()))\n",
    "\n",
    "# 과일 리스트를 오름차순 정렬\n",
    "fruits.sort()\n",
    "\n",
    "for i in range(n):\n",
    "    # 현재 과일의 높이가 스네이크버드의 길이보다 작거나 같은 경우, 과일을 먹고 길이 + 1\n",
    "    if fruits[i] <= l:\n",
    "        l += 1\n",
    "\n",
    "# 스네이크버드의 최대 길이 \n",
    "print(l)"
   ]
  },
  {
   "cell_type": "code",
   "execution_count": null,
   "metadata": {},
   "outputs": [],
   "source": [
    "# 과정 확인"
   ]
  },
  {
   "cell_type": "code",
   "execution_count": 7,
   "metadata": {},
   "outputs": [],
   "source": [
    "n = 9\n",
    "l = 1\n",
    "fruits = [9, 5, 8, 1, 3, 2, 7, 6, 4]"
   ]
  },
  {
   "cell_type": "code",
   "execution_count": 8,
   "metadata": {},
   "outputs": [
    {
     "name": "stdout",
     "output_type": "stream",
     "text": [
      "현재 과일의 높이: 1\n",
      "스네이크버드의 길이: 1 \n",
      "\n",
      "과일을 먹은 후의 길이: 2\n",
      "__________________________________________________\n",
      "현재 과일의 높이: 2\n",
      "스네이크버드의 길이: 2 \n",
      "\n",
      "과일을 먹은 후의 길이: 3\n",
      "__________________________________________________\n",
      "현재 과일의 높이: 3\n",
      "스네이크버드의 길이: 3 \n",
      "\n",
      "과일을 먹은 후의 길이: 4\n",
      "__________________________________________________\n",
      "현재 과일의 높이: 4\n",
      "스네이크버드의 길이: 4 \n",
      "\n",
      "과일을 먹은 후의 길이: 5\n",
      "__________________________________________________\n",
      "현재 과일의 높이: 5\n",
      "스네이크버드의 길이: 5 \n",
      "\n",
      "과일을 먹은 후의 길이: 6\n",
      "__________________________________________________\n",
      "현재 과일의 높이: 6\n",
      "스네이크버드의 길이: 6 \n",
      "\n",
      "과일을 먹은 후의 길이: 7\n",
      "__________________________________________________\n",
      "현재 과일의 높이: 7\n",
      "스네이크버드의 길이: 7 \n",
      "\n",
      "과일을 먹은 후의 길이: 8\n",
      "__________________________________________________\n",
      "현재 과일의 높이: 8\n",
      "스네이크버드의 길이: 8 \n",
      "\n",
      "과일을 먹은 후의 길이: 9\n",
      "__________________________________________________\n",
      "현재 과일의 높이: 9\n",
      "스네이크버드의 길이: 9 \n",
      "\n",
      "과일을 먹은 후의 길이: 10\n",
      "__________________________________________________\n",
      "10\n"
     ]
    }
   ],
   "source": [
    "# 과일 리스트를 오름차순 정렬\n",
    "fruits.sort()\n",
    "\n",
    "for i in range(n):\n",
    "    print('현재 과일의 높이:', fruits[i])\n",
    "    print('스네이크버드의 길이:', l, '\\n')\n",
    "    # 현재 과일의 높이가 스네이크버드의 길이보다 작거나 같은 경우, 과일을 먹고 길이 + 1\n",
    "    if fruits[i] <= l:\n",
    "        l += 1\n",
    "        print('과일을 먹은 후의 길이:', l)\n",
    "        print('_'*50)\n",
    "\n",
    "# 스네이크버드의 최대 길이 \n",
    "print(l)"
   ]
  }
 ],
 "metadata": {
  "kernelspec": {
   "display_name": "cp2",
   "language": "python",
   "name": "python3"
  },
  "language_info": {
   "codemirror_mode": {
    "name": "ipython",
    "version": 3
   },
   "file_extension": ".py",
   "mimetype": "text/x-python",
   "name": "python",
   "nbconvert_exporter": "python",
   "pygments_lexer": "ipython3",
   "version": "3.9.12"
  },
  "orig_nbformat": 4,
  "vscode": {
   "interpreter": {
    "hash": "5ca59c31ddc1bb1d3e926feef50b5ca0d1eacb2093eee1a1a79c0269dbb49758"
   }
  }
 },
 "nbformat": 4,
 "nbformat_minor": 2
}

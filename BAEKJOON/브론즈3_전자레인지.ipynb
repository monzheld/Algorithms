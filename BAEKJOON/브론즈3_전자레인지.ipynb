{
 "cells": [
  {
   "attachments": {},
   "cell_type": "markdown",
   "metadata": {},
   "source": [
    "10162번\n",
    "\n",
    "[문제](https://www.acmicpc.net/problem/10162)"
   ]
  },
  {
   "attachments": {},
   "cell_type": "markdown",
   "metadata": {},
   "source": [
    "### 탐욕(Greedy)"
   ]
  },
  {
   "attachments": {},
   "cell_type": "markdown",
   "metadata": {},
   "source": [
    "- 3개의 시간조절용 버튼 A B C가 달린 전자레인지가 있음\n",
    "- 각 버튼마다 일정한 시간이 지정되어 있어 해당 버튼을 한번 누를 때마다 그 시간이 동작시간에 더해짐\n",
    "- 버튼 **A, B, C에 지정된 시간은 각각 5분, 1분, 10초**\n",
    "- 냉동음식마다 전자레인지로 **요리해야할 시간 T가 초단위**로 표시되어 있음\n",
    "- A, B, C 3개의 버튼을 적절히 눌러서 그 시간의 합이 정확히 T초가 되도록 해야 함\n",
    "- 단 버튼 **A, B, C를 누른 횟수의 합은 항상 최소**가 되어야 함 => 최소버튼 조작\n",
    "- 만일 요리시간이 100초라고 하면(T=100) B를 1번, C는 4번 누르면 됨\n",
    "    - C를 10번 눌러도 100초가 되지만 이 경우 10번은 최소 횟수가 아니기 때문이 답이 될 수 없음\n",
    "    - => B 1번, C 4번, 총 5번이 최소버튼 조작\n",
    "- T=234와 같이 **3개의 버튼으로 시간을 정확히 맞출 수 없는 경우도 있음**\n",
    "- 주어진 요리시간 T초를 맞추기 위한 최소버튼 조작 방법을 구하기"
   ]
  },
  {
   "attachments": {},
   "cell_type": "markdown",
   "metadata": {},
   "source": [
    "- 입력\n",
    "    - 첫 번째 줄에는 요리시간 T(초)가 정수로 주어져 있으며 그 범위는 1 ≤ T ≤ 10,000\n",
    "- 출력\n",
    "    - T초를 위한 **최소버튼 조작의 A B C 횟수를 첫 줄에 차례대로 출력**\n",
    "    - 각각의 횟수 사이에는 빈 칸을 두기\n",
    "    - **해당 버튼을 누르지 않는 경우에는 숫자 0**을 출력\n",
    "    - 제시된 **3개의 버튼으로 T초를 맞출 수 없으면 음수 -1**을 첫 줄에 출력\n",
    "\n",
    "- 시간 제한: 1초\n",
    "- 메모리 제한: 64 MB"
   ]
  },
  {
   "attachments": {},
   "cell_type": "markdown",
   "metadata": {},
   "source": [
    "- 서브태스크\n",
    "    - 1) 배점: 30 / 제한: T <= 60\n",
    "    - 2) 배점: 30 / 제한: T <= 300\n",
    "    - 3) 배점: 40 / 제한: T <= 10,000"
   ]
  },
  {
   "cell_type": "code",
   "execution_count": null,
   "metadata": {},
   "outputs": [],
   "source": [
    "\"\"\"\n",
    "입출력 예시)\n",
    "\n",
    "(예제 입력 1) \n",
    "100 -> 0 1 4\n",
    "\n",
    "(예제 입력 2)\n",
    "189 -> -1\n",
    "\"\"\""
   ]
  },
  {
   "attachments": {},
   "cell_type": "markdown",
   "metadata": {},
   "source": [
    "## 2023/04/18"
   ]
  },
  {
   "cell_type": "code",
   "execution_count": null,
   "metadata": {},
   "outputs": [],
   "source": [
    "## 의사코드 ##\n",
    "\n",
    "# 최소버튼 -> 동작시간이 긴 버튼부터 차감\n",
    "\n",
    "# 각 버튼의 동작시간을 초단위로 변경\n",
    "# button = [5*60, 60, 10] \n",
    "\n",
    "# 각 버튼을 누른 횟수 \n",
    "# a, b, c = 0, 0, 0\n",
    "\n",
    "# 3개의 버튼으로 T초를 맞출 수 없으면 -1\n",
    "# -> t가 10으로 나누어떨어지지 않는 경우 \n",
    "\n",
    "# 현재 버튼의 동작시간이 t보다 작거나 같은 경우\n",
    "# t에서 해당 시간 차감, 해당 버튼을 누른 횟수 + 1\n"
   ]
  },
  {
   "attachments": {},
   "cell_type": "markdown",
   "metadata": {},
   "source": [
    "### 1)"
   ]
  },
  {
   "cell_type": "code",
   "execution_count": 17,
   "metadata": {},
   "outputs": [
    {
     "name": "stdout",
     "output_type": "stream",
     "text": [
      "-1\n"
     ]
    }
   ],
   "source": [
    "t = int(input())\n",
    "\n",
    "# 각 버튼의 동작시간을 초단위로 변경\n",
    "button = [5*60, 60, 10] \n",
    "# 각 버튼을 누른 횟수 \n",
    "a, b, c = 0, 0, 0\n",
    "\n",
    "# 3개의 버튼으로 T초를 맞출 수 없으면 -1\n",
    "if t % 10 != 0:\n",
    "    print(-1)\n",
    "\n",
    "else:\n",
    "    while t >= 0:\n",
    "        if t == 0:\n",
    "            break \n",
    "        else:\n",
    "            for i in range(3):\n",
    "                # 현재 버튼의 동작시간이 t보다 작거나 같은 경우\n",
    "                # t에서 해당 시간 차감, 해당 버튼을 누른 횟수 + 1\n",
    "                if button[i] <= t:\n",
    "                    t -= button[i]\n",
    "                    if i == 0:\n",
    "                        a += 1\n",
    "                    elif i == 1:\n",
    "                        b += 1\n",
    "                    else:\n",
    "                        c += 1\n",
    "    print(a, b, c)\n",
    "            "
   ]
  },
  {
   "attachments": {},
   "cell_type": "markdown",
   "metadata": {},
   "source": [
    "-> 30점 (부분 성공)"
   ]
  },
  {
   "attachments": {},
   "cell_type": "markdown",
   "metadata": {},
   "source": [
    "### 통과)"
   ]
  },
  {
   "cell_type": "code",
   "execution_count": 23,
   "metadata": {},
   "outputs": [
    {
     "name": "stdout",
     "output_type": "stream",
     "text": [
      "0 1 4\n"
     ]
    }
   ],
   "source": [
    "t = int(input())\n",
    "\n",
    "# 각 버튼의 동작시간을 초단위로 변경\n",
    "button = [5*60, 60, 10] \n",
    "# 각 버튼을 누른 횟수를 담을 배열\n",
    "ans = []\n",
    "# 버튼을 누른 횟수\n",
    "cnt = 0\n",
    "\n",
    "# 3개의 버튼으로 T초를 맞출 수 없으면 -1\n",
    "if t % 10 != 0:\n",
    "    print(-1)\n",
    "\n",
    "else:\n",
    "    for i in button:\n",
    "        # 버튼을 누른 횟수(cnt) = t를 현재 버튼의 동작시간으로 나눈 몫\n",
    "        # 남은 t값 = t를 현재 버튼의 동작시간으로 나눈 나머지 \n",
    "        cnt, t = divmod(t, i)\n",
    "        ans.append(cnt)\n",
    "    print(*ans)"
   ]
  },
  {
   "attachments": {},
   "cell_type": "markdown",
   "metadata": {},
   "source": [
    "-> 100점"
   ]
  },
  {
   "attachments": {},
   "cell_type": "markdown",
   "metadata": {},
   "source": [
    "-> divmod()를 활용해 t를 현재 버튼의 동작시간으로 나눈 몫은 버튼을 누른 횟수, 나머지는 남은 t값으로 계산"
   ]
  }
 ],
 "metadata": {
  "kernelspec": {
   "display_name": "base",
   "language": "python",
   "name": "python3"
  },
  "language_info": {
   "codemirror_mode": {
    "name": "ipython",
    "version": 3
   },
   "file_extension": ".py",
   "mimetype": "text/x-python",
   "name": "python",
   "nbconvert_exporter": "python",
   "pygments_lexer": "ipython3",
   "version": "3.9.7"
  },
  "orig_nbformat": 4
 },
 "nbformat": 4,
 "nbformat_minor": 2
}

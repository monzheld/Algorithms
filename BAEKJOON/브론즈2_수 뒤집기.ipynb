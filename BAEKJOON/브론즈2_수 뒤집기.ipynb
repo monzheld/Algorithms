{
 "cells": [
  {
   "attachments": {},
   "cell_type": "markdown",
   "metadata": {},
   "source": [
    "3062번\n",
    "\n",
    "[문제](https://www.acmicpc.net/problem/3062)"
   ]
  },
  {
   "attachments": {},
   "cell_type": "markdown",
   "metadata": {},
   "source": [
    "### 문자열"
   ]
  },
  {
   "attachments": {},
   "cell_type": "markdown",
   "metadata": {},
   "source": [
    "- 수 124를 뒤집으면 421이 되고 이 두 수를 합하면 545가 됨\n",
    "- 124와 같이 원래 수와 뒤집은 수를 합한 수가 좌우 대칭이 되는지 테스트 하기"
   ]
  },
  {
   "attachments": {},
   "cell_type": "markdown",
   "metadata": {},
   "source": [
    "- 입력\n",
    "    - 첫 줄에는 테스트 케이스의 개수 T가 주어짐\n",
    "    - 각 테스트 케이스는 한 줄에 하나의 정수 N(10 ≤ N ≤ 100000)이 주어짐\n",
    "- 출력\n",
    "    - 각 테스트 케이스에 대해서 **원래 수와 뒤집은 수를 합한 수가 좌우 대칭이 되면 YES를 아니면 NO**를 한 줄에 하나씩 출력\n",
    "\n",
    "- 시간 제한: 1초\n",
    "- 메모리 제한: 128 MB"
   ]
  },
  {
   "cell_type": "code",
   "execution_count": null,
   "metadata": {},
   "outputs": [],
   "source": [
    "\"\"\"\n",
    "입출력 예시)\n",
    "\n",
    "4\n",
    "13\n",
    "58\n",
    "120\n",
    "5056\n",
    "    -> YES\n",
    "       NO\n",
    "       YES\n",
    "       NO\n",
    "\"\"\""
   ]
  },
  {
   "attachments": {},
   "cell_type": "markdown",
   "metadata": {},
   "source": [
    "## 2023/04/05"
   ]
  },
  {
   "cell_type": "code",
   "execution_count": null,
   "metadata": {},
   "outputs": [],
   "source": [
    "## 의사코드 ##\n",
    "\n",
    "# 원래 수와 뒤집은 수를 합한 수\n",
    "# new_n = str(int(n) + int(n[::-1]))\n",
    "\n",
    "# 원래 수와 뒤집은 수를 합한 수가 좌우 대칭이 되는지 \n",
    "# mid = (len(new_n) // 2) \n",
    "# if new_n[:mid] == new_n[mid:]:\n",
    "#     print('YES')"
   ]
  },
  {
   "attachments": {},
   "cell_type": "markdown",
   "metadata": {},
   "source": [
    "### 1) "
   ]
  },
  {
   "cell_type": "code",
   "execution_count": 13,
   "metadata": {},
   "outputs": [
    {
     "name": "stdout",
     "output_type": "stream",
     "text": [
      "YES\n",
      "NO\n",
      "NO\n",
      "NO\n"
     ]
    }
   ],
   "source": [
    "t = int(input())\n",
    "for _ in range(t):\n",
    "    n = str(input())\n",
    "    new_n = str(int(n) + int(n[::-1]))\n",
    "    mid = (len(new_n) // 2) \n",
    "    if new_n[:mid] == new_n[mid:]:\n",
    "        print('YES')\n",
    "    else:\n",
    "        print('NO')"
   ]
  },
  {
   "attachments": {},
   "cell_type": "markdown",
   "metadata": {},
   "source": [
    "-> 틀림"
   ]
  },
  {
   "attachments": {},
   "cell_type": "markdown",
   "metadata": {},
   "source": [
    "### 통과)"
   ]
  },
  {
   "cell_type": "code",
   "execution_count": 14,
   "metadata": {},
   "outputs": [
    {
     "name": "stdout",
     "output_type": "stream",
     "text": [
      "YES\n",
      "NO\n",
      "YES\n",
      "NO\n"
     ]
    }
   ],
   "source": [
    "t = int(input())\n",
    "for _ in range(t):\n",
    "    n = str(input())\n",
    "    new_n = str(int(n) + int(n[::-1]))\n",
    "    if new_n == new_n[::-1]:\n",
    "        print('YES')\n",
    "    else:\n",
    "        print('NO')"
   ]
  },
  {
   "attachments": {},
   "cell_type": "markdown",
   "metadata": {},
   "source": [
    "-> 좌우 대칭인지 판별할 때, 합한 수와 합한 수를 뒤집은 수가 같은지로 판별"
   ]
  }
 ],
 "metadata": {
  "kernelspec": {
   "display_name": "base",
   "language": "python",
   "name": "python3"
  },
  "language_info": {
   "codemirror_mode": {
    "name": "ipython",
    "version": 3
   },
   "file_extension": ".py",
   "mimetype": "text/x-python",
   "name": "python",
   "nbconvert_exporter": "python",
   "pygments_lexer": "ipython3",
   "version": "3.9.7"
  },
  "orig_nbformat": 4
 },
 "nbformat": 4,
 "nbformat_minor": 2
}

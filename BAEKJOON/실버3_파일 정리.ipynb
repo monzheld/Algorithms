{
 "cells": [
  {
   "attachments": {},
   "cell_type": "markdown",
   "metadata": {},
   "source": [
    "20291번\n",
    "\n",
    "[문제](https://www.acmicpc.net/problem/20291)"
   ]
  },
  {
   "attachments": {},
   "cell_type": "markdown",
   "metadata": {},
   "source": [
    "### 문자열"
   ]
  },
  {
   "attachments": {},
   "cell_type": "markdown",
   "metadata": {},
   "source": [
    "- 스브러스의 요청\n",
    "    - 파일을 **확장자 별로 정리해서 몇 개씩 있는지** 알려줘\n",
    "    - 보기 편하게 **확장자들을 사전 순으로 정렬**해 줘"
   ]
  },
  {
   "attachments": {},
   "cell_type": "markdown",
   "metadata": {},
   "source": [
    "- 입력\n",
    "    - 첫째 줄에 바탕화면에 있는 파일의 개수 $N$이 주어짐 ($1 \\leq N \\leq 50\\ 000$)\n",
    "    - 둘째 줄부터 $N$개 줄에 바탕화면에 있는 파일의 이름이 주어짐\n",
    "    - 파일의 이름은 알파벳 소문자와 점(.)으로만 구성되어 있음\n",
    "    - 점은 정확히 한 번 등장하며, 파일 이름의 첫 글자 또는 마지막 글자로 오지 않음\n",
    "    - 각 파일의 이름의 길이는 최소 $3$, 최대 $100$\n",
    "- 출력\n",
    "    - 확장자의 이름과 그 확장자 파일의 개수를 한 줄에 하나씩 출력\n",
    "    - 확장자가 여러 개 있는 경우 확장자 이름의 사전순으로 출력\n",
    "\n",
    "- 시간 제한: 3초\n",
    "- 메모리 제한: 1024 MB"
   ]
  },
  {
   "cell_type": "code",
   "execution_count": null,
   "metadata": {},
   "outputs": [],
   "source": [
    "\"\"\"\n",
    "입출력 예시)\n",
    "\n",
    "8\n",
    "sbrus.txt\n",
    "spc.spc\n",
    "acm.icpc\n",
    "korea.icpc\n",
    "sample.txt\n",
    "hello.world\n",
    "sogang.spc\n",
    "example.txt\n",
    "            -> icpc 2\n",
    "               spc 2\n",
    "               txt 3\n",
    "               world 1\n",
    "\"\"\""
   ]
  },
  {
   "attachments": {},
   "cell_type": "markdown",
   "metadata": {},
   "source": [
    "## 2023/03/16"
   ]
  },
  {
   "cell_type": "code",
   "execution_count": null,
   "metadata": {},
   "outputs": [],
   "source": [
    "## 의사코드 ##\n",
    "\n",
    "# 파일의 확장자 별로 정리\n",
    "# 확장자 = 입력.split('.')[1]\n",
    "\n",
    "# 확장자들만 리스트에 저장\n",
    "\n",
    "# 확장자 별 개수 카운트\n",
    "# from collections import Counter\n",
    "\n",
    "# 확장자들 이름으로 사전 순으로 정렬\n",
    "# sorted(Counter(확장자 리스트).items())"
   ]
  },
  {
   "attachments": {},
   "cell_type": "markdown",
   "metadata": {},
   "source": [
    "### 통과)"
   ]
  },
  {
   "cell_type": "code",
   "execution_count": 3,
   "metadata": {},
   "outputs": [
    {
     "name": "stdout",
     "output_type": "stream",
     "text": [
      "icpc 2\n",
      "spc 2\n",
      "txt 3\n",
      "world 1\n"
     ]
    }
   ],
   "source": [
    "from collections import Counter\n",
    "n = int(input())\n",
    "extension_list = [] # 확장자들을 저장할 리스트 \n",
    "for _ in range(n):\n",
    "    # 입력의 확장자만 가져오기\n",
    "    extension = input().split('.')[1]\n",
    "    extension_list.append(extension)\n",
    "\n",
    "# 확장자의 개수를 카운트하고, 확장자들을 사전 순으로 정렬\n",
    "cnt = sorted(Counter(extension_list).items())\n",
    "for c in cnt:\n",
    "    print(c[0], c[1])"
   ]
  },
  {
   "attachments": {},
   "cell_type": "markdown",
   "metadata": {},
   "source": [
    "-> PyPy3로 제출 시 시간 단축 가능 "
   ]
  }
 ],
 "metadata": {
  "kernelspec": {
   "display_name": "base",
   "language": "python",
   "name": "python3"
  },
  "language_info": {
   "codemirror_mode": {
    "name": "ipython",
    "version": 3
   },
   "file_extension": ".py",
   "mimetype": "text/x-python",
   "name": "python",
   "nbconvert_exporter": "python",
   "pygments_lexer": "ipython3",
   "version": "3.9.7"
  },
  "orig_nbformat": 4
 },
 "nbformat": 4,
 "nbformat_minor": 2
}

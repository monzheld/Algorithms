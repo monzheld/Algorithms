{
 "cells": [
  {
   "attachments": {},
   "cell_type": "markdown",
   "metadata": {},
   "source": [
    "11047번\n",
    "\n",
    "[문제](https://www.acmicpc.net/problem/11047)"
   ]
  },
  {
   "attachments": {},
   "cell_type": "markdown",
   "metadata": {},
   "source": [
    "### 탐욕(Greedy)"
   ]
  },
  {
   "attachments": {},
   "cell_type": "markdown",
   "metadata": {},
   "source": [
    "- 준규가 가지고 있는 동전은 총 N종류이고, 각각의 동전을 매우 많이 가지고 있음\n",
    "- 동전을 적절히 사용해서 그 가치의 합을 K로 만들려고 함\n",
    "- 이때 **필요한 동전 개수의 최솟값**을 구하기"
   ]
  },
  {
   "attachments": {},
   "cell_type": "markdown",
   "metadata": {},
   "source": [
    "- 입력\n",
    "    - 첫째 줄에 N과 K가 주어짐 (1 ≤ N ≤ 10, 1 ≤ K ≤ 100,000,000)\n",
    "    - 둘째 줄부터 N개의 줄에 동전의 가치 Ai가 오름차순으로 주어짐 (1 ≤ Ai ≤ 1,000,000, A1 = 1, i ≥ 2인 경우에 Ai는 Ai-1의 배수)\n",
    "- 출력\n",
    "    - 첫째 줄에 K원을 만드는데 필요한 동전 개수의 최솟값을 출력\n",
    "\n",
    "- 시간 제한: 1초\n",
    "- 메모리 제한: 256 MB"
   ]
  },
  {
   "cell_type": "code",
   "execution_count": null,
   "metadata": {},
   "outputs": [],
   "source": [
    "\"\"\"\n",
    "입출력 예시)\n",
    "\n",
    "(예제 입력 1) \n",
    "10 4200\n",
    "1\n",
    "5\n",
    "10\n",
    "50\n",
    "100\n",
    "500\n",
    "1000\n",
    "5000\n",
    "10000\n",
    "50000\n",
    "    -> 6\n",
    "\n",
    "(예제 입력 2)\n",
    "10 4790\n",
    "1\n",
    "5\n",
    "10\n",
    "50\n",
    "100\n",
    "500\n",
    "1000\n",
    "5000\n",
    "10000\n",
    "50000\n",
    "    -> 12\n",
    "\"\"\""
   ]
  },
  {
   "attachments": {},
   "cell_type": "markdown",
   "metadata": {},
   "source": [
    "## 2023/02/20"
   ]
  },
  {
   "cell_type": "code",
   "execution_count": null,
   "metadata": {},
   "outputs": [],
   "source": [
    "## 의사코드 ##\n",
    "\n",
    "# 동전 개수를 최소로 -> 가장 큰 가치를 가진 동전부터 차감\n",
    "\n",
    "# 동전의 가치를 큰 값부터 내림차순 정렬\n",
    "# coins.sort(reverse=True)\n",
    "\n",
    "# cnt = 0 # 동전의 개수\n",
    "# for c in coins:\n",
    "#     # 동전의 가치가 k보다 큰 경우, 그냥 통과\n",
    "#     if c > k:\n",
    "#         continue \n",
    "#     else:\n",
    "#         # 동전의 개수 + k를 동전으로 나눈 몫\n",
    "#         cnt += k // c\n",
    "#         # 남은 k = k를 동전으로 나눈 나머지\n",
    "#         k %= c"
   ]
  },
  {
   "attachments": {},
   "cell_type": "markdown",
   "metadata": {},
   "source": [
    "### 통과)"
   ]
  },
  {
   "cell_type": "code",
   "execution_count": 1,
   "metadata": {},
   "outputs": [
    {
     "name": "stdout",
     "output_type": "stream",
     "text": [
      "6\n"
     ]
    }
   ],
   "source": [
    "n, k = map(int, input().split())\n",
    "coins = [] # 동전의 가치를 담을 리스트\n",
    "for _ in range(n):\n",
    "    coin = int(input())\n",
    "    coins.append(coin)\n",
    "\n",
    "# 동전의 가치를 큰 값부터 내림차순 정렬\n",
    "coins.sort(reverse=True)\n",
    "\n",
    "# 동전의 개수\n",
    "cnt = 0\n",
    "for c in coins:\n",
    "    # 동전의 가치가 k보다 큰 경우, 그냥 통과\n",
    "    if c > k:\n",
    "        continue \n",
    "    else:\n",
    "        # 동전의 개수 + k를 동전으로 나눈 몫\n",
    "        cnt += k // c\n",
    "        # 남은 k = k를 동전으로 나눈 나머지\n",
    "        k %= c\n",
    "print(cnt)"
   ]
  }
 ],
 "metadata": {
  "kernelspec": {
   "display_name": "cp2",
   "language": "python",
   "name": "python3"
  },
  "language_info": {
   "codemirror_mode": {
    "name": "ipython",
    "version": 3
   },
   "file_extension": ".py",
   "mimetype": "text/x-python",
   "name": "python",
   "nbconvert_exporter": "python",
   "pygments_lexer": "ipython3",
   "version": "3.9.12"
  },
  "orig_nbformat": 4,
  "vscode": {
   "interpreter": {
    "hash": "5ca59c31ddc1bb1d3e926feef50b5ca0d1eacb2093eee1a1a79c0269dbb49758"
   }
  }
 },
 "nbformat": 4,
 "nbformat_minor": 2
}

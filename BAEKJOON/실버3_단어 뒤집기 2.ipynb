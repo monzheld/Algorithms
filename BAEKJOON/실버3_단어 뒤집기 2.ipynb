{
 "cells": [
  {
   "attachments": {},
   "cell_type": "markdown",
   "metadata": {},
   "source": [
    "17413번\n",
    "\n",
    "[문제](https://www.acmicpc.net/problem/17413)"
   ]
  },
  {
   "attachments": {},
   "cell_type": "markdown",
   "metadata": {},
   "source": [
    "### 문자열"
   ]
  },
  {
   "attachments": {},
   "cell_type": "markdown",
   "metadata": {},
   "source": [
    "- 문자열 S가 주어졌을 때, 이 문자열에서 **단어만 뒤집으려고** 함\n",
    "- 문자열 S는 아래와과 같은 규칙을 지킴\n",
    "    - 1) 알파벳 소문자('a'-'z'), 숫자('0'-'9'), 공백(' '), 특수 문자('<', '>')로만 이루어져 있음\n",
    "    - 2) 문자열의 시작과 끝은 공백이 아님\n",
    "    - 3) '<'와 '>'가 문자열에 있는 경우 번갈아가면서 등장하며, '<'이 먼저 등장. 두 문자의 개수는 같음\n",
    "- 태그는 '<'로 시작해서 '>'로 끝나는 길이가 3 이상인 부분 문자열이고, '<'와 '>' 사이에는 알파벳 소문자와 공백만 있음\n",
    "- 단어는 알파벳 소문자와 숫자로 이루어진 부분 문자열이고, 연속하는 두 단어는 공백 하나로 구분\n",
    "- **태그는 단어가 아니며**, **태그와 단어 사이에는 공백이 없음**"
   ]
  },
  {
   "attachments": {},
   "cell_type": "markdown",
   "metadata": {},
   "source": [
    "- 입력\n",
    "    - 첫째 줄에 문자열 S가 주어짐. S의 길이는 100,000 이하\n",
    "- 출력\n",
    "    - 첫째 줄에 **문자열 S의 단어를 뒤집어서** 출력\n",
    "\n",
    "- 시간 제한: 1초\n",
    "- 메모리 제한: 512 MB"
   ]
  },
  {
   "cell_type": "code",
   "execution_count": null,
   "metadata": {},
   "outputs": [],
   "source": [
    "\"\"\"\n",
    "입출력 예시)\n",
    "\n",
    "(예제 입력 1) \n",
    "baekjoon online judge -> noojkeab enilno egduj\n",
    "\n",
    "(예제 입력 2)\n",
    "<open>tag<close> -> <open>gat<close>\n",
    "\n",
    "(예제 입력 3)\n",
    "<ab cd>ef gh<ij kl> -> <ab cd>fe hg<ij kl>\n",
    "\n",
    "(예제 입력 4)\n",
    "one1 two2 three3 4fourr 5five 6six -> 1eno 2owt 3eerht rruof4 evif5 xis6\n",
    "\n",
    "(예제 입력 5)\n",
    "<int><max>2147483647<long long><max>9223372036854775807 -> <int><max>7463847412<long long><max>7085774586302733229\n",
    "\n",
    "(예제 입력 6)\n",
    "<problem>17413<is hardest>problem ever<end> -> <problem>31471<is hardest>melborp reve<end>\n",
    "\n",
    "(예제 입력 7)\n",
    "<   space   >space space space<    spa   c e> -> <   space   >ecaps ecaps ecaps<    spa   c e>\n",
    "\n",
    "\"\"\""
   ]
  },
  {
   "attachments": {},
   "cell_type": "markdown",
   "metadata": {},
   "source": [
    "## 2023/01/31"
   ]
  },
  {
   "cell_type": "code",
   "execution_count": null,
   "metadata": {},
   "outputs": [],
   "source": [
    "## 의사코드 ##\n",
    "\n",
    "# 단어만 뒤집기 \n",
    "# -> 태그인 < > 사이의 문자열은 뒤집기 x\n",
    "\n",
    "# stack 생성\n",
    "# 단어인 경우에만 알파벳 하나씩 스택에 삽입\n",
    "# 스택.pop()으로 단어 거꾸로 출력\n",
    "\n",
    "# tag == True인 경우\n",
    "# 그대로 출력 "
   ]
  },
  {
   "attachments": {},
   "cell_type": "markdown",
   "metadata": {},
   "source": [
    "### 통과)"
   ]
  },
  {
   "cell_type": "code",
   "execution_count": 20,
   "metadata": {},
   "outputs": [
    {
     "name": "stdout",
     "output_type": "stream",
     "text": [
      "<open>gat<close>\n"
     ]
    }
   ],
   "source": [
    "string = str(input())\n",
    "stack = []\n",
    "tag = False\n",
    "result = ''\n",
    "\n",
    "for s in string:\n",
    "    # 공백인 경우\n",
    "    if s == ' ':\n",
    "        # stack에서 pop -> 거꾸로 출력\n",
    "        while stack:\n",
    "            result += stack.pop()\n",
    "        result += s\n",
    "    # 태그 시작인 경우\n",
    "    elif s == '<':\n",
    "        # 태그 사이에 있는 단어 거꾸로 출력 \n",
    "        while stack:\n",
    "            result += stack.pop()\n",
    "        tag = True\n",
    "        result += s\n",
    "    # 태그 끝인 경우  \n",
    "    elif s == '>':\n",
    "        tag = False # 태그 = False \n",
    "        result += s \n",
    "    # 태그인 경우 \n",
    "    elif tag:\n",
    "        result += s # 그대로 출력\n",
    "    # 공백이 아니거나 태그 밖의 단어인 경우   \n",
    "    else:\n",
    "        stack.append(s) # stack에 삽입 \n",
    "\n",
    "while stack:\n",
    "    result += stack.pop()\n",
    "    \n",
    "print(result)"
   ]
  },
  {
   "cell_type": "code",
   "execution_count": null,
   "metadata": {},
   "outputs": [],
   "source": [
    "# 과정 확인"
   ]
  },
  {
   "cell_type": "code",
   "execution_count": 18,
   "metadata": {},
   "outputs": [
    {
     "name": "stdout",
     "output_type": "stream",
     "text": [
      "s: <\n",
      "stack: []\n",
      "result: <\n",
      "s: o\n",
      "result: <o\n",
      "s: p\n",
      "result: <op\n",
      "s: e\n",
      "result: <ope\n",
      "s: n\n",
      "result: <open\n",
      "s: >\n",
      "result: <open>\n",
      "s: t\n",
      "stack: ['t']\n",
      "s: a\n",
      "stack: ['t', 'a']\n",
      "s: g\n",
      "stack: ['t', 'a', 'g']\n",
      "s: <\n",
      "stack: ['t', 'a', 'g']\n",
      "result: <open>g\n",
      "result: <open>ga\n",
      "result: <open>gat\n",
      "result: <open>gat<\n",
      "s: c\n",
      "result: <open>gat<c\n",
      "s: l\n",
      "result: <open>gat<cl\n",
      "s: o\n",
      "result: <open>gat<clo\n",
      "s: s\n",
      "result: <open>gat<clos\n",
      "s: e\n",
      "result: <open>gat<close\n",
      "s: >\n",
      "result: <open>gat<close>\n",
      "stack: []\n",
      "<open>gat<close>\n"
     ]
    }
   ],
   "source": [
    "string = str(input())\n",
    "stack = []\n",
    "tag = False\n",
    "result = ''\n",
    "\n",
    "for s in string:\n",
    "    print('s:', s)\n",
    "    \n",
    "    # 공백인 경우\n",
    "    if s == ' ':\n",
    "        print('stack:', stack)\n",
    "        # stack에서 pop -> 거꾸로 출력\n",
    "        while stack:\n",
    "            result += stack.pop()\n",
    "            print('result:', result)\n",
    "        result += s\n",
    "        print('result:', result)\n",
    "    # 태그 시작인 경우\n",
    "    elif s == '<':\n",
    "        print('stack:', stack)\n",
    "        # 태그 사이에 있는 단어 거꾸로 출력 \n",
    "        while stack:\n",
    "            result += stack.pop()\n",
    "            print('result:', result)\n",
    "        tag = True\n",
    "        result += s\n",
    "        print('result:', result)\n",
    "    # 태그 끝인 경우  \n",
    "    elif s == '>':\n",
    "        tag = False # 태그 = False \n",
    "        result += s \n",
    "        print('result:', result)\n",
    "    # 태그인 경우 \n",
    "    elif tag:\n",
    "        result += s # 그대로 출력\n",
    "        print('result:', result)\n",
    "    # 공백이 아니거나 태그 밖의 단어인 경우   \n",
    "    else:\n",
    "        stack.append(s) # stack에 삽입 \n",
    "        print('stack:', stack)\n",
    "\n",
    "print('stack:', stack)\n",
    "while stack:\n",
    "    result += stack.pop()\n",
    "    print('result:', result)\n",
    "\n",
    "print(result)"
   ]
  }
 ],
 "metadata": {
  "kernelspec": {
   "display_name": "cp2",
   "language": "python",
   "name": "python3"
  },
  "language_info": {
   "codemirror_mode": {
    "name": "ipython",
    "version": 3
   },
   "file_extension": ".py",
   "mimetype": "text/x-python",
   "name": "python",
   "nbconvert_exporter": "python",
   "pygments_lexer": "ipython3",
   "version": "3.9.12"
  },
  "orig_nbformat": 4,
  "vscode": {
   "interpreter": {
    "hash": "5ca59c31ddc1bb1d3e926feef50b5ca0d1eacb2093eee1a1a79c0269dbb49758"
   }
  }
 },
 "nbformat": 4,
 "nbformat_minor": 2
}

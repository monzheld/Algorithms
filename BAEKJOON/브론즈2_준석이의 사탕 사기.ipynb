{
 "cells": [
  {
   "attachments": {},
   "cell_type": "markdown",
   "metadata": {},
   "source": [
    "28062번\n",
    "\n",
    "[문제](https://www.acmicpc.net/problem/28062)"
   ]
  },
  {
   "attachments": {},
   "cell_type": "markdown",
   "metadata": {},
   "source": [
    "### 탐욕(Greedy)"
   ]
  },
  {
   "attachments": {},
   "cell_type": "markdown",
   "metadata": {},
   "source": [
    "- 준석이는 두 동생을 위해 사탕 가게에서 사탕을 최대한 많이 사 가려고 함\n",
    "- 사탕 가게에는 $N$개의 사탕 묶음이 있으며 $i$번째 사탕 묶음에는 $a_i$개의 사탕이 있음\n",
    "- 준석이가 사간 총 사탕의 개수가 홀수가 되면 두 동생이 사탕을 한 개라도 더 갖기 위해 서로 싸울 것이라 **총 짝수 개의 사탕**을 가져가려고 함\n",
    "- 준석이를 위해서 **최대로 가져갈 수 있는 사탕의 개수**를 구하기"
   ]
  },
  {
   "attachments": {},
   "cell_type": "markdown",
   "metadata": {},
   "source": [
    "- 입력\n",
    "    - 첫째 줄에 사탕 묶음의 개수 $N$이 주어짐 (1 <= N <= 1000) \n",
    "    - 둘째 줄에 각각의 사탕 묶음에 담겨있는 사탕의 개수 $a_1,a_2, \\cdots, a_N$가 주어짐 (1 <= ai <= 1000) \n",
    "    - 입력으로 주어지는 모든 수는 정수\n",
    "- 출력\n",
    "    - 준석이가 최대로 가져갈 수 있는 사탕의 개수를 출력\n",
    "    - 사탕을 **홀수 개로만 가져갈 수 있으면 $0$을 출력**\n",
    "\n",
    "- 시간 제한: 1초\n",
    "- 메모리 제한: 1024 MB"
   ]
  },
  {
   "cell_type": "code",
   "execution_count": null,
   "metadata": {},
   "outputs": [],
   "source": [
    "\"\"\"\n",
    "입출력 예시)\n",
    "\n",
    "(예제 입력 1) \n",
    "5\n",
    "8 3 6 7 5\n",
    "            -> 26\n",
    "\n",
    "(예제 입력 2) \n",
    "1\n",
    "5\n",
    "    -> 0\n",
    "\"\"\""
   ]
  },
  {
   "attachments": {},
   "cell_type": "markdown",
   "metadata": {},
   "source": [
    "## 2023/06/07"
   ]
  },
  {
   "cell_type": "code",
   "execution_count": null,
   "metadata": {},
   "outputs": [],
   "source": [
    "## 의사코드 ##\n",
    "\n",
    "# 최대한 많은 수의 사탕을 가져가야 함\n",
    "# 총 짝수 개의 사탕을 가져가야 함\n",
    "\n",
    "# -> 전체 사탕 개수의 총합(total)을 구해서 짝수이면 출력\n",
    "# -> 총합이 홀수이면 가장 작은 홀수 개의 사탕부터 빼기"
   ]
  },
  {
   "attachments": {},
   "cell_type": "markdown",
   "metadata": {},
   "source": [
    "### 통과)"
   ]
  },
  {
   "cell_type": "code",
   "execution_count": 4,
   "metadata": {},
   "outputs": [
    {
     "name": "stdout",
     "output_type": "stream",
     "text": [
      "26\n"
     ]
    }
   ],
   "source": [
    "n = int(input())\n",
    "candy = list(map(int, input().split()))\n",
    "\n",
    "# 사탕 개수 오름차순 정렬\n",
    "candy.sort()\n",
    "# 전체 사탕 개수 총합\n",
    "total = sum(candy)\n",
    "rest = 0 # 나머지\n",
    "for i in range(n):\n",
    "    # 총합이 짝수이면 총합 출력\n",
    "    if total % 2 == 0:\n",
    "        print(total)\n",
    "        rest = 1\n",
    "        break\n",
    "    # 총합이 홀수인 경우\n",
    "    # 현재 사탕의 개수가 홀수이면 총합에서 현재 사탕 개수 빼기\n",
    "    if candy[i] % 2 == 1:\n",
    "        total -= candy[i]\n",
    "        print(total)\n",
    "        rest = 1\n",
    "        break\n",
    "# 나머지가 0이면 사탕을 홀수 개로만 가져갈 수 있으므로 0 출력\n",
    "if rest == 0:\n",
    "    print('0')\n"
   ]
  }
 ],
 "metadata": {
  "kernelspec": {
   "display_name": "base",
   "language": "python",
   "name": "python3"
  },
  "language_info": {
   "codemirror_mode": {
    "name": "ipython",
    "version": 3
   },
   "file_extension": ".py",
   "mimetype": "text/x-python",
   "name": "python",
   "nbconvert_exporter": "python",
   "pygments_lexer": "ipython3",
   "version": "3.9.7"
  },
  "orig_nbformat": 4
 },
 "nbformat": 4,
 "nbformat_minor": 2
}

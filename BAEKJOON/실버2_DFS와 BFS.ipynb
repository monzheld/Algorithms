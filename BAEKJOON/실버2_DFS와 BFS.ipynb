{
 "cells": [
  {
   "attachments": {},
   "cell_type": "markdown",
   "metadata": {},
   "source": [
    "1260번\n",
    "\n",
    "[문제](https://www.acmicpc.net/problem/1260)"
   ]
  },
  {
   "attachments": {},
   "cell_type": "markdown",
   "metadata": {},
   "source": [
    "### DFS/BFS"
   ]
  },
  {
   "attachments": {},
   "cell_type": "markdown",
   "metadata": {},
   "source": [
    "- 그래프를 **DFS로 탐색한 결과와 BFS로 탐색한 결과**를 출력하기\n",
    "- 방문할 수 있는 정점이 여러 개인 경우에는 **정점 번호가 작은 것을 먼저** 방문\n",
    "- 더 이상 방문할 수 있는 점이 없는 경우 종료\n",
    "- 정점 번호는 1번부터 N번까지"
   ]
  },
  {
   "attachments": {},
   "cell_type": "markdown",
   "metadata": {},
   "source": [
    "- 입력\n",
    "    - 첫째 줄에 정점의 개수 N(1 ≤ N ≤ 1,000), 간선의 개수 M(1 ≤ M ≤ 10,000), 탐색을 시작할 정점의 번호 V가 주어짐\n",
    "    - 다음 M개의 줄에는 간선이 연결하는 두 정점의 번호가 주어짐\n",
    "    - 어떤 두 정점 사이에 여러 개의 간선이 있을 수 있음\n",
    "    - 입력으로 주어지는 간선은 양방향\n",
    "- 출력\n",
    "    - **첫째 줄에 DFS**를 수행한 결과를, **그 다음 줄에는 BFS**를 수행한 결과를 출력\n",
    "    - **V부터** 방문된 점을 순서대로 출력\n",
    "\n",
    "- 시간 제한: 2초\n",
    "- 메모리 제한: 128 MB"
   ]
  },
  {
   "cell_type": "code",
   "execution_count": null,
   "metadata": {},
   "outputs": [],
   "source": [
    "\"\"\"\n",
    "입출력 예시)\n",
    "\n",
    "(예제 입력 1) \n",
    "4 5 1\n",
    "1 2\n",
    "1 3\n",
    "1 4\n",
    "2 4\n",
    "3 4\n",
    "    -> 1 2 4 3\n",
    "       1 2 3 4\n",
    "\n",
    "(예제 입력 2)\n",
    "5 5 3\n",
    "5 4\n",
    "5 2\n",
    "1 2\n",
    "3 4\n",
    "3 1\n",
    "    -> 3 1 2 5 4\n",
    "       3 1 4 2 5\n",
    "\n",
    "(예제 입력 3)\n",
    "1000 1 1000\n",
    "999 1000\n",
    "    -> 1000 999\n",
    "       1000 999\n",
    "\"\"\""
   ]
  },
  {
   "attachments": {},
   "cell_type": "markdown",
   "metadata": {},
   "source": [
    "## 2023/01/18"
   ]
  },
  {
   "cell_type": "code",
   "execution_count": null,
   "metadata": {},
   "outputs": [],
   "source": [
    "## 의사코드 ##\n",
    "\n",
    "# DFS -> 재귀\n",
    "#    # 해당 노드 방문 처리\n",
    "#    visited[node] = True\n",
    "#    # 탐색 순서 출력\n",
    "#     print(node, end = ' ')\n",
    "#     # 탐색\n",
    "#     for i in graph[node]:\n",
    "#         if not visited[i]:\n",
    "#             dfs(graph, i, visited)\n",
    "\n",
    "# BFS -> deque\n",
    "#     # 큐에 시작 정점 삽입\n",
    "#     q = deque[v]\n",
    "#     # 시작 정점 방문 처리\n",
    "#     visited[v] = True\n",
    "#     # 탐색 순서 출력\n",
    "#     print(node, end = ' ')\n",
    "#     # 탐색\n",
    "#     while q:\n",
    "#         node = q.popleft()\n",
    "#         for i in graph[node]:\n",
    "#             if not visited[i]:\n",
    "#                 visited[i] = True\n",
    "#                 q.append(i)\n"
   ]
  },
  {
   "attachments": {},
   "cell_type": "markdown",
   "metadata": {},
   "source": [
    "### 1) "
   ]
  },
  {
   "cell_type": "code",
   "execution_count": null,
   "metadata": {},
   "outputs": [],
   "source": [
    "import sys\n",
    "input = sys.stdin.readline\n",
    "from collections import deque\n",
    "\n",
    "# 정점의 개수(n), 간선의 개수(m), 시작 정점(v)\n",
    "n, m, v = map(int, input().split())\n",
    "\n",
    "# 그래프에 값 입력\n",
    "graph = [[] for _ in range(n+1)]\n",
    "for _ in range(1, m+1):\n",
    "    a, b = map(int, input().split())\n",
    "    graph[a].append(b)\n",
    "    graph[b].append(a) # 주어진 간선은 양방향\n",
    "\n",
    "# 방문할 수 있는 정점이 여러 개인 경우에는 정점 번호가 작은 것을 먼저 방문하기 위해 오름차순 정렬\n",
    "graph.sort() \n",
    "\n",
    "# DFS 함수\n",
    "def dfs(graph, node, visited):\n",
    "    print(node, end=' ')\n",
    "    visited[node] = True \n",
    "    for i in graph[node]:\n",
    "        if not visited[i]:\n",
    "            dfs(graph, i, visited)\n",
    "\n",
    "# BFS 함수\n",
    "def bfs(graph, start, visited):\n",
    "    q = deque([start])\n",
    "    visited[start] = True\n",
    "    while q:\n",
    "        node = q.popleft()\n",
    "        for i in graph[node]:\n",
    "            if not visited[i]:\n",
    "                visited[i] = True\n",
    "                print(i, end=' ')\n",
    "                q.append(i)\n",
    "\n",
    "# visited 초기화\n",
    "visited = [False] * (n+1)\n",
    "# DFS 수행\n",
    "dfs(graph, v, visited) # v = 시작 정점\n",
    "\n",
    "print()\n",
    "\n",
    "# visited 초기화\n",
    "visited = [False] * (n+1)\n",
    "# BFS 수행\n",
    "bfs(graph, v, visited) # v = 시작 정점"
   ]
  },
  {
   "attachments": {},
   "cell_type": "markdown",
   "metadata": {},
   "source": [
    "-> 틀림"
   ]
  },
  {
   "cell_type": "code",
   "execution_count": null,
   "metadata": {},
   "outputs": [],
   "source": [
    "# 출력 확인"
   ]
  },
  {
   "cell_type": "code",
   "execution_count": 23,
   "metadata": {},
   "outputs": [],
   "source": [
    "n = 4\n",
    "m = 5\n",
    "v = 1\n",
    "graph = [[], [2, 3, 4], [1, 4], [1, 4], [1, 2, 3], []]"
   ]
  },
  {
   "cell_type": "code",
   "execution_count": 24,
   "metadata": {},
   "outputs": [
    {
     "name": "stdout",
     "output_type": "stream",
     "text": [
      "1 \n"
     ]
    }
   ],
   "source": [
    "# import sys\n",
    "# input = sys.stdin.readline\n",
    "from collections import deque\n",
    "\n",
    "# # 정점의 개수(n), 간선의 개수(m), 시작 정점(v)\n",
    "# n, m, v = map(int, input().split())\n",
    "\n",
    "# # 그래프에 값 입력\n",
    "# graph = [[] for _ in range(n+1)]\n",
    "# for _ in range(1, m+1):\n",
    "#     a, b = map(int, input().split())\n",
    "#     graph[a].append(b)\n",
    "#     graph[b].append(a) # 주어진 간선은 양방향\n",
    "\n",
    "# 방문할 수 있는 정점이 여러 개인 경우에는 정점 번호가 작은 것을 먼저 방문하기 위해 오름차순 정렬\n",
    "graph.sort() \n",
    "\n",
    "# DFS 함수\n",
    "def dfs(graph, node, visited):\n",
    "    print(node, end=' ')\n",
    "    visited[node] = True \n",
    "    for i in graph[node]:\n",
    "        if not visited[i]:\n",
    "            dfs(graph, i, visited)\n",
    "\n",
    "# BFS 함수\n",
    "def bfs(graph, start, visited):\n",
    "    q = deque([start])\n",
    "    visited[start] = True\n",
    "    while q:\n",
    "        node = q.popleft()\n",
    "        for i in graph[node]:\n",
    "            if not visited[i]:\n",
    "                visited[i] = True\n",
    "                print(i, end=' ')\n",
    "                q.append(i)\n",
    "\n",
    "# visited 초기화\n",
    "visited = [False] * (n+1)\n",
    "# DFS 수행\n",
    "dfs(graph, v, visited) # v = 시작 정점\n",
    "\n",
    "print()\n",
    "\n",
    "# visited 초기화\n",
    "visited = [False] * (n+1)\n",
    "# BFS 수행\n",
    "bfs(graph, v, visited) # v = 시작 정점"
   ]
  },
  {
   "attachments": {},
   "cell_type": "markdown",
   "metadata": {},
   "source": [
    "-> dfs(), bfs() 둘 다 출력값 틀림"
   ]
  },
  {
   "attachments": {},
   "cell_type": "markdown",
   "metadata": {},
   "source": [
    "### 2)"
   ]
  },
  {
   "cell_type": "code",
   "execution_count": null,
   "metadata": {},
   "outputs": [],
   "source": [
    "import sys\n",
    "input = sys.stdin.readline\n",
    "from collections import deque\n",
    "\n",
    "# 정점의 개수(n), 간선의 개수(m), 시작 정점(v)\n",
    "n, m, v = map(int, input().split())\n",
    "\n",
    "# 그래프에 값 입력\n",
    "graph = [[] for _ in range(n+1)]\n",
    "for _ in range(m):\n",
    "    a, b = map(int, input().split())\n",
    "    graph[a].append(b)\n",
    "    graph[b].append(a) # 주어진 간선은 양방향\n",
    "\n",
    "# 방문할 수 있는 정점이 여러 개인 경우에는 정점 번호가 작은 것을 먼저 방문하기 위해 오름차순 정렬\n",
    "for adj in graph:\n",
    "    adj.sort()\n",
    "\n",
    "# DFS 함수\n",
    "def dfs(node):\n",
    "    print(node, end=' ')\n",
    "    visited[node] = True \n",
    "    for i in graph[node]:\n",
    "        if not visited[i]:\n",
    "            dfs(i)\n",
    "\n",
    "# BFS 함수\n",
    "def bfs(start):\n",
    "    q = deque([start])\n",
    "    visited[start] = True\n",
    "    while q:\n",
    "        node = q.popleft()\n",
    "        for i in graph[node]:\n",
    "            if not visited[i]:\n",
    "                visited[i] = True\n",
    "                print(i, end=' ')\n",
    "                q.append(i)\n",
    "\n",
    "# visited 초기화\n",
    "visited = [False] * (n+1)\n",
    "# DFS 수행\n",
    "dfs(v) # v = 시작 정점\n",
    "\n",
    "print()\n",
    "\n",
    "# visited 초기화\n",
    "visited = [False] * (n+1)\n",
    "# BFS 수행\n",
    "bfs(v) # v = 시작 정점"
   ]
  },
  {
   "attachments": {},
   "cell_type": "markdown",
   "metadata": {},
   "source": [
    "-> 그래프를 정렬할 때 그래프의 각 원소들을 정렬하는 것으로 변경"
   ]
  },
  {
   "attachments": {},
   "cell_type": "markdown",
   "metadata": {},
   "source": [
    "-> 틀림"
   ]
  },
  {
   "cell_type": "code",
   "execution_count": null,
   "metadata": {},
   "outputs": [],
   "source": [
    "# 출력 확인"
   ]
  },
  {
   "cell_type": "code",
   "execution_count": 19,
   "metadata": {},
   "outputs": [],
   "source": [
    "n = 4\n",
    "m = 5\n",
    "v = 1\n",
    "graph = [[], [2, 3, 4], [1, 4], [1, 4], [1, 2, 3], []]"
   ]
  },
  {
   "cell_type": "code",
   "execution_count": 20,
   "metadata": {},
   "outputs": [
    {
     "name": "stdout",
     "output_type": "stream",
     "text": [
      "1 2 4 3 \n",
      "2 3 4 "
     ]
    }
   ],
   "source": [
    "# import sys\n",
    "# input = sys.stdin.readline\n",
    "from collections import deque\n",
    "\n",
    "# # 정점의 개수(n), 간선의 개수(m), 시작 정점(v)\n",
    "# n, m, v = map(int, input().split())\n",
    "\n",
    "# # 그래프에 값 입력\n",
    "# graph = [[] for _ in range(n+1)]\n",
    "# for _ in range(m):\n",
    "#     a, b = map(int, input().split())\n",
    "#     graph[a].append(b)\n",
    "#     graph[b].append(a) # 주어진 간선은 양방향\n",
    "\n",
    "# 방문할 수 있는 정점이 여러 개인 경우에는 정점 번호가 작은 것을 먼저 방문하기 위해 오름차순 정렬\n",
    "for adj in graph:\n",
    "    adj.sort()\n",
    "\n",
    "# DFS 함수\n",
    "def dfs(node):\n",
    "    print(node, end=' ')\n",
    "    visited[node] = True \n",
    "    for i in graph[node]:\n",
    "        if not visited[i]:\n",
    "            dfs(i)\n",
    "\n",
    "# BFS 함수\n",
    "def bfs(start):\n",
    "    q = deque([start])\n",
    "    visited[start] = True\n",
    "    while q:\n",
    "        node = q.popleft()\n",
    "        for i in graph[node]:\n",
    "            if not visited[i]:\n",
    "                visited[i] = True\n",
    "                print(i, end=' ')\n",
    "                q.append(i)\n",
    "\n",
    "# visited 초기화\n",
    "visited = [False] * (n+1)\n",
    "# DFS 수행\n",
    "dfs(v) # v = 시작 정점\n",
    "\n",
    "print()\n",
    "\n",
    "# visited 초기화\n",
    "visited = [False] * (n+1)\n",
    "# BFS 수행\n",
    "bfs(v) # v = 시작 정점"
   ]
  },
  {
   "attachments": {},
   "cell_type": "markdown",
   "metadata": {},
   "source": [
    "-> bfs()에서 시작 정점이 출력되지 않아서 틀림"
   ]
  },
  {
   "attachments": {},
   "cell_type": "markdown",
   "metadata": {},
   "source": [
    "### 통과)"
   ]
  },
  {
   "cell_type": "code",
   "execution_count": null,
   "metadata": {},
   "outputs": [],
   "source": [
    "import sys\n",
    "input = sys.stdin.readline\n",
    "from collections import deque\n",
    "\n",
    "# 정점의 개수(n), 간선의 개수(m), 시작 정점(v)\n",
    "n, m, v = map(int, input().split())\n",
    "\n",
    "# 그래프에 값 입력\n",
    "graph = [[] for _ in range(n+1)]\n",
    "for _ in range(m):\n",
    "    a, b = map(int, input().split())\n",
    "    graph[a].append(b)\n",
    "    graph[b].append(a) # 주어진 간선은 양방향\n",
    "\n",
    "# 방문할 수 있는 정점이 여러 개인 경우에는 정점 번호가 작은 것을 먼저 방문하기 위해 오름차순 정렬\n",
    "for adj in graph:\n",
    "    adj.sort()\n",
    "\n",
    "# DFS 함수\n",
    "def dfs(node):\n",
    "    print(node, end=' ')\n",
    "    visited[node] = True \n",
    "    for i in graph[node]:\n",
    "        if not visited[i]:\n",
    "            dfs(i)\n",
    "\n",
    "# BFS 함수\n",
    "def bfs(start):\n",
    "    q = deque([start])\n",
    "    while q:\n",
    "        node = q.popleft()\n",
    "        # 시작 정점부터 출력하기 위해 시작 정점의 방문처리를 여기서 진행\n",
    "        if not visited[node]:\n",
    "            visited[node] = True \n",
    "            print(node, end=' ') \n",
    "            for i in graph[node]:\n",
    "                if not visited[i]:\n",
    "                    q.append(i)\n",
    "\n",
    "# visited 초기화\n",
    "visited = [False] * (n+1)\n",
    "# DFS 수행\n",
    "dfs(v) # v = 시작 정점\n",
    "\n",
    "print()\n",
    "\n",
    "# visited 초기화\n",
    "visited = [False] * (n+1)\n",
    "# BFS 수행\n",
    "bfs(v) # v = 시작 정점"
   ]
  },
  {
   "attachments": {},
   "cell_type": "markdown",
   "metadata": {},
   "source": [
    "-> bfs() 함수에서 visited[start] = True를 삭제"
   ]
  },
  {
   "cell_type": "code",
   "execution_count": null,
   "metadata": {},
   "outputs": [],
   "source": [
    "# 출력 확인"
   ]
  },
  {
   "cell_type": "code",
   "execution_count": 25,
   "metadata": {},
   "outputs": [],
   "source": [
    "n = 4\n",
    "m = 5\n",
    "v = 1\n",
    "graph = [[], [2, 3, 4], [1, 4], [1, 4], [1, 2, 3], []]"
   ]
  },
  {
   "cell_type": "code",
   "execution_count": null,
   "metadata": {},
   "outputs": [],
   "source": [
    "\"\"\"\n",
    "1 2 4 3 \n",
    "1 2 3 4 \n",
    "\"\"\""
   ]
  },
  {
   "cell_type": "code",
   "execution_count": 27,
   "metadata": {},
   "outputs": [],
   "source": [
    "n = 5\n",
    "m = 5\n",
    "v = 3\n",
    "graph = [[], [2, 3], [5, 1], [4, 1], [5, 3], [4, 2], []]"
   ]
  },
  {
   "cell_type": "code",
   "execution_count": null,
   "metadata": {},
   "outputs": [],
   "source": [
    "\"\"\"\n",
    "3 1 2 5 4 \n",
    "3 1 4 2 5 \n",
    "\"\"\""
   ]
  },
  {
   "cell_type": "code",
   "execution_count": 28,
   "metadata": {},
   "outputs": [
    {
     "name": "stdout",
     "output_type": "stream",
     "text": [
      "3 1 2 5 4 \n",
      "3 1 4 2 5 "
     ]
    }
   ],
   "source": [
    "# import sys\n",
    "# input = sys.stdin.readline\n",
    "from collections import deque\n",
    "\n",
    "# # 정점의 개수(n), 간선의 개수(m), 시작 정점(v)\n",
    "# n, m, v = map(int, input().split())\n",
    "\n",
    "# # 그래프에 값 입력\n",
    "# graph = [[] for _ in range(n+1)]\n",
    "# for _ in range(m):\n",
    "#     a, b = map(int, input().split())\n",
    "#     graph[a].append(b)\n",
    "#     graph[b].append(a) # 주어진 간선은 양방향\n",
    "\n",
    "# 방문할 수 있는 정점이 여러 개인 경우에는 정점 번호가 작은 것을 먼저 방문하기 위해 오름차순 정렬\n",
    "for adj in graph:\n",
    "    adj.sort()\n",
    "\n",
    "# DFS 함수\n",
    "def dfs(node):\n",
    "    print(node, end=' ')\n",
    "    visited[node] = True \n",
    "    for i in graph[node]:\n",
    "        if not visited[i]:\n",
    "            dfs(i)\n",
    "\n",
    "# BFS 함수\n",
    "def bfs(start):\n",
    "    q = deque([start])\n",
    "    while q:\n",
    "        node = q.popleft()\n",
    "        if not visited[node]:\n",
    "            visited[node] = True \n",
    "            print(node, end=' ')\n",
    "            for i in graph[node]:\n",
    "                if not visited[i]:\n",
    "                    q.append(i)\n",
    "\n",
    "# visited 초기화\n",
    "visited = [False] * (n+1)\n",
    "# DFS 수행\n",
    "dfs(v) # v = 시작 정점\n",
    "\n",
    "print()\n",
    "\n",
    "# visited 초기화\n",
    "visited = [False] * (n+1)\n",
    "# BFS 수행\n",
    "bfs(v) # v = 시작 정점"
   ]
  }
 ],
 "metadata": {
  "kernelspec": {
   "display_name": "base",
   "language": "python",
   "name": "python3"
  },
  "language_info": {
   "codemirror_mode": {
    "name": "ipython",
    "version": 3
   },
   "file_extension": ".py",
   "mimetype": "text/x-python",
   "name": "python",
   "nbconvert_exporter": "python",
   "pygments_lexer": "ipython3",
   "version": "3.9.7"
  },
  "orig_nbformat": 4,
  "vscode": {
   "interpreter": {
    "hash": "023ab38ef701cca529efce9465407c28b5ba779ced3f1a89865b89edb313b240"
   }
  }
 },
 "nbformat": 4,
 "nbformat_minor": 2
}

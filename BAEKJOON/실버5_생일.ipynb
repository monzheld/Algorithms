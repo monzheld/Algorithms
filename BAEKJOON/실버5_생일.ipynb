{
 "cells": [
  {
   "attachments": {},
   "cell_type": "markdown",
   "metadata": {},
   "source": [
    "5635번\n",
    "\n",
    "[문제](https://www.acmicpc.net/problem/5635)"
   ]
  },
  {
   "attachments": {},
   "cell_type": "markdown",
   "metadata": {},
   "source": [
    "### 정렬"
   ]
  },
  {
   "attachments": {},
   "cell_type": "markdown",
   "metadata": {},
   "source": [
    "- 어떤 반에 있는 학생들의 생일이 주어졌을 때, **가장 나이가 적은 사람과 가장 많은 사람**을 구하기"
   ]
  },
  {
   "attachments": {},
   "cell_type": "markdown",
   "metadata": {},
   "source": [
    "- 입력\n",
    "    - 첫째 줄에 반에 있는 학생의 수 n이 주어짐 (1 ≤ n ≤ 100)\n",
    "    - 다음 n개 줄에는 각 학생의 이름과 생일이 \"이름 dd mm yyyy\"와 같은 형식으로 주어짐\n",
    "    - 이름은 그 학생의 이름이며, 최대 15글자로 이루어져 있음\n",
    "    - dd mm yyyy는 생일 일, 월, 연도 (1990 ≤ yyyy ≤ 2010, 1 ≤ mm ≤ 12, 1 ≤ dd ≤ 31)\n",
    "    - 주어지는 생일은 올바른 날짜이며, 연, 월 일은 0으로 시작하지 않음\n",
    "    - 이름이 같거나, 생일이 같은 사람은 없음\n",
    "- 출력\n",
    "    - **첫째 줄에 가장 나이가 적은 사람의 이름, 둘째 줄에 가장 나이가 많은 사람 이름**을 출력\n",
    "\n",
    "- 시간 제한: 1초\n",
    "- 메모리 제한: 128 MB"
   ]
  },
  {
   "cell_type": "code",
   "execution_count": null,
   "metadata": {},
   "outputs": [],
   "source": [
    "\"\"\"\n",
    "입출력 예시)\n",
    "\n",
    "5\n",
    "Mickey 1 10 1991\n",
    "Alice 30 12 1990\n",
    "Tom 15 8 1993\n",
    "Jerry 18 9 1990\n",
    "Garfield 20 9 1990\n",
    "                    -> Tom\n",
    "                       Jerry\n",
    "\"\"\""
   ]
  },
  {
   "attachments": {},
   "cell_type": "markdown",
   "metadata": {},
   "source": [
    "## 2023/03/23"
   ]
  },
  {
   "cell_type": "code",
   "execution_count": null,
   "metadata": {},
   "outputs": [],
   "source": [
    "## 의사코드 ##\n",
    "\n",
    "# 리스트에 저장 (이름, 일, 월, 연도)\n",
    "#li.append((name, int(day), int(month), int(year)))\n",
    "\n",
    "# 생일 순으로 오름차순 정렬: 연도 -> 월 -> 일 순서\n",
    "#li.sort(key=lambda x: (x[3], x[2], x[1]))\n",
    "\n",
    "# 가장 나이가 적은 사람의 이름\n",
    "#print(li[-1][0])\n",
    "# 가장 나이가 많은 사람의 이름\n",
    "#print(li[0][0])"
   ]
  },
  {
   "attachments": {},
   "cell_type": "markdown",
   "metadata": {},
   "source": [
    "### 통과)"
   ]
  },
  {
   "cell_type": "code",
   "execution_count": 3,
   "metadata": {},
   "outputs": [
    {
     "name": "stdout",
     "output_type": "stream",
     "text": [
      "Tom\n",
      "Jerry\n"
     ]
    }
   ],
   "source": [
    "n = int(input())\n",
    "li = [] \n",
    "for _ in range(n):\n",
    "    name, day, month, year = input().split()\n",
    "    li.append((name, int(day), int(month), int(year)))\n",
    "\n",
    "# 생일 순으로 오름차순 정렬\n",
    "li.sort(key=lambda x: (x[3], x[2], x[1]))\n",
    "\n",
    "# 가장 나이가 적은 사람의 이름\n",
    "print(li[-1][0])\n",
    "# 가장 나이가 많은 사람의 이름\n",
    "print(li[0][0])"
   ]
  }
 ],
 "metadata": {
  "kernelspec": {
   "display_name": "base",
   "language": "python",
   "name": "python3"
  },
  "language_info": {
   "codemirror_mode": {
    "name": "ipython",
    "version": 3
   },
   "file_extension": ".py",
   "mimetype": "text/x-python",
   "name": "python",
   "nbconvert_exporter": "python",
   "pygments_lexer": "ipython3",
   "version": "3.9.7"
  },
  "orig_nbformat": 4
 },
 "nbformat": 4,
 "nbformat_minor": 2
}

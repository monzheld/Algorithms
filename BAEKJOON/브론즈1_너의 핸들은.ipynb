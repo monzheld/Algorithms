{
 "cells": [
  {
   "attachments": {},
   "cell_type": "markdown",
   "metadata": {},
   "source": [
    "15819번\n",
    "\n",
    "[문제](https://www.acmicpc.net/problem/15819)"
   ]
  },
  {
   "attachments": {},
   "cell_type": "markdown",
   "metadata": {},
   "source": [
    "### 문자열"
   ]
  },
  {
   "attachments": {},
   "cell_type": "markdown",
   "metadata": {},
   "source": [
    "- 현정이는 사람의 이름과 사람을 매칭시키는 능력은 매우 떨어지지만, 어떤 핸들이 자신이 아는 핸들 중 사전 순으로 몇 번째인지 기억하는 쓸데없는 능력을 가지고 있음\n",
    "- 이를 이용해 상민이는 현정이가 아는 핸들 목록 중 자신이 몇 번째인지를 알아내어 앞으로 번호를 붙여 다니려고 함\n",
    "- 정체성을 지키고 싶은 상민이를 위해 현정이의 어지러운 머리속에서 임의의 순서를 가지는 핸들을 찾아보기"
   ]
  },
  {
   "attachments": {},
   "cell_type": "markdown",
   "metadata": {},
   "source": [
    "- 입력\n",
    "    - 첫 줄에 현정이가 기억하고 있는 핸들의 개수 N과 I(1 ≤ I, N ≤ 100)이 주어짐\n",
    "    - 이후 N개의 줄에 걸쳐 현정이 기억하는 핸들이 무작위 순서로 주어짐\n",
    "    - 모든 핸들은 영어 소문자와 숫자로만 이루어져 있으며 길이는 20보다 짧거나 같음\n",
    "    - 입력되는 핸들 중 완전히 같은 핸들은 없음이 보장됨\n",
    "- 출력\n",
    "    - 현정이가 기억하고 있는 핸들 중 **사전 순으로 I번째인 핸들**을 한 줄에 출력\n",
    "    - 이 문제에서 정의하는 **사전 순이란 숫자가 알파벳보다 먼저이며, 숫자는 작을 수일수록 먼저이고, 알파벳은 순서가 빠를수록 먼저**\n",
    "    - 또한 'abcd'와 'abc' 같이 **어떤 한 문자열이 다른 문자열의 접두사가 될 때에는 길이가 더 짧은 쪽이 먼저**\n",
    "\n",
    "- 시간 제한: 1초\n",
    "- 메모리 제한: 512 MB"
   ]
  },
  {
   "cell_type": "code",
   "execution_count": null,
   "metadata": {},
   "outputs": [],
   "source": [
    "\"\"\"\n",
    "입출력 예시)\n",
    "\n",
    "(예제 입력 1) \n",
    "4 1\n",
    "acka1357\n",
    "spectaclehong\n",
    "mitslll\n",
    "luke0201\n",
    "            -> acka1357\n",
    "\n",
    "(예제 입력 2) \n",
    "9 7\n",
    "tourist\n",
    "petr\n",
    "qilip\n",
    "won0114\n",
    "hmy3743\n",
    "jujh97\n",
    "hjhj97\n",
    "bio8641\n",
    "kangjieun9843\n",
    "                -> qilip\n",
    "\"\"\"\n"
   ]
  },
  {
   "attachments": {},
   "cell_type": "markdown",
   "metadata": {},
   "source": [
    "## 2023/04/26"
   ]
  },
  {
   "cell_type": "code",
   "execution_count": null,
   "metadata": {},
   "outputs": [],
   "source": [
    "## 의사코드 ##\n",
    "\n",
    "# 사전 순으로 정렬\n",
    "# 리스트.sort()"
   ]
  },
  {
   "attachments": {},
   "cell_type": "markdown",
   "metadata": {},
   "source": [
    "### 통과)"
   ]
  },
  {
   "cell_type": "code",
   "execution_count": 4,
   "metadata": {},
   "outputs": [
    {
     "name": "stdout",
     "output_type": "stream",
     "text": [
      "acka1357\n"
     ]
    }
   ],
   "source": [
    "n, i = map(int, input().split())\n",
    "ids = []\n",
    "for _ in range(n):\n",
    "    ids.append(input())\n",
    "\n",
    "# 사전 순으로 정렬\n",
    "ids.sort()\n",
    "# i번째 핸들 출력\n",
    "print(ids[i-1])"
   ]
  }
 ],
 "metadata": {
  "kernelspec": {
   "display_name": "base",
   "language": "python",
   "name": "python3"
  },
  "language_info": {
   "codemirror_mode": {
    "name": "ipython",
    "version": 3
   },
   "file_extension": ".py",
   "mimetype": "text/x-python",
   "name": "python",
   "nbconvert_exporter": "python",
   "pygments_lexer": "ipython3",
   "version": "3.9.7"
  },
  "orig_nbformat": 4
 },
 "nbformat": 4,
 "nbformat_minor": 2
}

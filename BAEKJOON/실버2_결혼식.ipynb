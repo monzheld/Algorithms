{
 "cells": [
  {
   "attachments": {},
   "cell_type": "markdown",
   "metadata": {},
   "source": [
    "5567번\n",
    "\n",
    "[문제](https://www.acmicpc.net/problem/5567)"
   ]
  },
  {
   "attachments": {},
   "cell_type": "markdown",
   "metadata": {},
   "source": [
    "### BFS"
   ]
  },
  {
   "attachments": {},
   "cell_type": "markdown",
   "metadata": {},
   "source": [
    "- 상근이는 자신의 결혼식에 학교 동기 중 **자신의 친구와 친구의 친구**를 초대\n",
    "- 상근이의 동기는 모두 N명이고, 이 학생들의 학번은 모두 1부터 N까지\n",
    "- 상근이의 학번은 1 \n",
    "- 상근이는 동기들의 친구 관계를 모두 조사한 리스트를 가지고 있음\n",
    "- 리스트를 바탕으로 **결혼식에 초대할 사람의 수** 구하기"
   ]
  },
  {
   "attachments": {},
   "cell_type": "markdown",
   "metadata": {},
   "source": [
    "- 입력\n",
    "    - 첫째 줄에 상근이의 **동기의 수 n** (2 ≤ n ≤ 500)이 주어짐\n",
    "    - 둘째 줄에는 **리스트의 길이 m** (1 ≤ m ≤ 10000)이 주어짐\n",
    "    - 다음 줄부터 m개 줄에는 **친구 관계 ai bi** (1 ≤ ai < bi ≤ n)가 주어짐\n",
    "        - ai와 bi가 친구라는 뜻, bi와 ai도 친구관계\n",
    "- 출력\n",
    "    - 첫째 줄에 **상근이의 결혼식에 초대하는 동기의 수**를 출력\n",
    "\n",
    "- 시간 제한: 1초\n",
    "- 메모리 제한: 128 MB"
   ]
  },
  {
   "cell_type": "code",
   "execution_count": null,
   "metadata": {},
   "outputs": [],
   "source": [
    "\"\"\"\n",
    "입출력 예시)\n",
    "\n",
    "(예제 입력 1) \n",
    "n = 6\n",
    "m = 5\n",
    "1 2\n",
    "1 3\n",
    "3 4\n",
    "2 3\n",
    "4 5\n",
    "    -> 3\n",
    "\n",
    "(예제 입력 2)\n",
    "n = 6\n",
    "m = 5\n",
    "2 3\n",
    "3 4\n",
    "4 5\n",
    "5 6\n",
    "2 5\n",
    "    -> 0\n",
    "\"\"\""
   ]
  },
  {
   "cell_type": "code",
   "execution_count": null,
   "metadata": {},
   "outputs": [],
   "source": [
    "# (예제 입력 1)\n",
    "# n = 6\n",
    "# m = 5\n",
    "# 1 2\n",
    "# 1 3\n",
    "# 3 4\n",
    "# 2 3\n",
    "# 4 5\n",
    "\n",
    "# -> 2와 3은 상근이 친구\n",
    "# -> 3과 4는 친구이기 때문에 4는 상근이의 친구의 친구\n",
    "# -> 5, 6은 상근이 친구도 x, 친구의 친구도 x\n",
    "\n",
    "# => 3명의 친구(2, 3, 4)를 결혼식에 초대"
   ]
  },
  {
   "attachments": {},
   "cell_type": "markdown",
   "metadata": {},
   "source": [
    "## 2023/01/15"
   ]
  },
  {
   "cell_type": "code",
   "execution_count": null,
   "metadata": {},
   "outputs": [],
   "source": [
    "## 의사코드 ##\n",
    "\n",
    "# 자신의 친구와 친구의 친구를 초대 -> BFS (형제 노드 탐색)\n",
    "\n",
    "# 입력 값 받기\n",
    "#   sys.stdin.readline()\n",
    "\n",
    "# 1) BFS로 탐색하면서 거리를 구함\n",
    "#   -> deque \n",
    "#   visited 큐 대신 distance 큐(친구에 대한 거리) 사용 \n",
    "\n",
    "# 2) 친구의 친구 까지만 초대 -> 거리가 2보다 작거나 같은 경우인 노드의 수를 카운트\n",
    "# 3) 카운트한 수 - 1(자기 자신)"
   ]
  },
  {
   "attachments": {},
   "cell_type": "markdown",
   "metadata": {},
   "source": [
    "### 1) "
   ]
  },
  {
   "cell_type": "code",
   "execution_count": null,
   "metadata": {},
   "outputs": [],
   "source": [
    "import sys\n",
    "from collections import deque\n",
    "\n",
    "n = int(input()) # 동기의 수\n",
    "m = int(input()) # 리스트의 길이 m\n",
    "\n",
    "# 그래프에 친구 관계 입력\n",
    "graph = [[] for _ in range(n+1)]\n",
    "for _ in range(m):\n",
    "    a, b = map(int, sys.stdin.readline().split())\n",
    "    graph[a].append(b)\n",
    "    graph[b].append(a)\n",
    "\n",
    "# 모든 친구에 대한 거리 초기화\n",
    "distance = [-1] * (n+1)\n",
    "# 시작점까지의 거리는 0으로 설정\n",
    "distance[1] = 0\n",
    "\n",
    "# BFS\n",
    "q = deque([1]) # 상근이(1)부터 출발 \n",
    "while q:\n",
    "    x = q.popleft() # 현재 노드\n",
    "    # 현재 노드에서 이동할 수 있는 모든 노드 확인\n",
    "    for y in graph[x]:\n",
    "        # 방문하지 않은 노드인 경우\n",
    "        if distance[y] == -1:\n",
    "            distance[y] = distance[x] + 1 # 방문처리 (현재 노드의 distance + 1)\n",
    "            q.append(y)\n",
    "\n",
    "result = 0 # 초대할 사람의 수 \n",
    "for i in range(1, n+1): # 1부터 n까지 \n",
    "    # i가 방문처리 되어 있고, distance[i]가 2 이하인 경우\n",
    "    if distance[i] != -1 and distance[i] <= 2:\n",
    "        result += 1 # 초대 \n",
    "\n",
    "print(result - 1) # 자기 자신 제외\n"
   ]
  },
  {
   "attachments": {},
   "cell_type": "markdown",
   "metadata": {},
   "source": [
    "-> 런타임 에러"
   ]
  },
  {
   "cell_type": "code",
   "execution_count": null,
   "metadata": {},
   "outputs": [],
   "source": [
    "# graph 입력 예시 "
   ]
  },
  {
   "cell_type": "code",
   "execution_count": 6,
   "metadata": {},
   "outputs": [
    {
     "data": {
      "text/plain": [
       "[[], [], [], [], [], [], []]"
      ]
     },
     "execution_count": 6,
     "metadata": {},
     "output_type": "execute_result"
    }
   ],
   "source": [
    "n=6\n",
    "m=5\n",
    "\n",
    "graph = [[] for _ in range(n+1)]\n",
    "graph "
   ]
  },
  {
   "cell_type": "code",
   "execution_count": 7,
   "metadata": {},
   "outputs": [
    {
     "data": {
      "text/plain": [
       "[[], [2], [1], [], [], [], []]"
      ]
     },
     "execution_count": 7,
     "metadata": {},
     "output_type": "execute_result"
    }
   ],
   "source": [
    "graph[1].append(2)\n",
    "graph[2].append(1)\n",
    "graph"
   ]
  },
  {
   "attachments": {},
   "cell_type": "markdown",
   "metadata": {},
   "source": [
    "### 통과)"
   ]
  },
  {
   "cell_type": "code",
   "execution_count": null,
   "metadata": {},
   "outputs": [],
   "source": [
    "import sys\n",
    "from collections import deque\n",
    "input = sys.stdin.readline\n",
    "\n",
    "n = int(input()) # 동기의 수\n",
    "m = int(input()) # 리스트의 길이 m\n",
    "\n",
    "# 그래프에 친구 관계 입력\n",
    "graph = [[] for _ in range(n+1)]\n",
    "for _ in range(m):\n",
    "    a, b = map(int, input().split())\n",
    "    graph[a].append(b)\n",
    "    graph[b].append(a)\n",
    "\n",
    "# 모든 친구에 대한 거리 초기화\n",
    "distance = [-1] * (n+1)\n",
    "# 시작점까지의 거리는 0으로 설정\n",
    "distance[1] = 0\n",
    "\n",
    "# BFS\n",
    "q = deque([1]) # 상근이(1)부터 출발 \n",
    "while q:\n",
    "    x = q.popleft() # 현재 노드\n",
    "    # 현재 노드에서 이동할 수 있는 모든 노드 확인\n",
    "    for y in graph[x]:\n",
    "        # 방문하지 않은 노드인 경우\n",
    "        if distance[y] == -1:\n",
    "            distance[y] = distance[x] + 1 # 방문처리 (현재 노드의 distance + 1)\n",
    "            q.append(y)\n",
    "\n",
    "result = 0 # 초대할 사람의 수 \n",
    "for i in range(1, n+1): # 1부터 n까지 \n",
    "    # i가 방문처리 되어 있고, distance[i]가 2 이하인 경우\n",
    "    if distance[i] != -1 and distance[i] <= 2:\n",
    "        result += 1 # 초대 \n",
    "\n",
    "print(result - 1) # 자기 자신 제외"
   ]
  },
  {
   "attachments": {},
   "cell_type": "markdown",
   "metadata": {},
   "source": [
    "-> 모든 입력을 sys.stdin.readline()으로 받는 것으로 바꿈"
   ]
  }
 ],
 "metadata": {
  "kernelspec": {
   "display_name": "base",
   "language": "python",
   "name": "python3"
  },
  "language_info": {
   "codemirror_mode": {
    "name": "ipython",
    "version": 3
   },
   "file_extension": ".py",
   "mimetype": "text/x-python",
   "name": "python",
   "nbconvert_exporter": "python",
   "pygments_lexer": "ipython3",
   "version": "3.9.7"
  },
  "orig_nbformat": 4,
  "vscode": {
   "interpreter": {
    "hash": "023ab38ef701cca529efce9465407c28b5ba779ced3f1a89865b89edb313b240"
   }
  }
 },
 "nbformat": 4,
 "nbformat_minor": 2
}

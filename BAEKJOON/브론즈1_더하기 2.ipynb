{
 "cells": [
  {
   "attachments": {},
   "cell_type": "markdown",
   "metadata": {},
   "source": [
    "10823번\n",
    "\n",
    "[문제](https://www.acmicpc.net/problem/10823)"
   ]
  },
  {
   "attachments": {},
   "cell_type": "markdown",
   "metadata": {},
   "source": [
    "### 문자열"
   ]
  },
  {
   "attachments": {},
   "cell_type": "markdown",
   "metadata": {},
   "source": [
    "- 숫자와 콤마로만 이루어진 문자열 S가 주어짐\n",
    "- 이때, S에 포함되어있는 자연수의 합을 구하기\n",
    "- S의 첫 문자와 마지막 문자는 항상 숫자이고, 콤마는 연속해서 주어지지 않음\n",
    "- 주어지는 수는 항상 자연수"
   ]
  },
  {
   "attachments": {},
   "cell_type": "markdown",
   "metadata": {},
   "source": [
    "- 입력\n",
    "    - 문자열 S가 여러 줄에 걸쳐서 주어짐\n",
    "    - S의 길이는 최대 10,000\n",
    "    - 포함되어있는 정수는 1,000,000보다 작거나 같은 자연수\n",
    "- 출력\n",
    "    - 문자열 S에 포함되어 있는 자연수의 합 출력\n",
    "\n",
    "- 시간 제한: 1초\n",
    "- 메모리 제한: 256 MB"
   ]
  },
  {
   "cell_type": "code",
   "execution_count": null,
   "metadata": {},
   "outputs": [],
   "source": [
    "\"\"\"\n",
    "입출력 예시)\n",
    "\n",
    "10,20,\n",
    "3\n",
    "0,50\n",
    ",1\n",
    "00\n",
    "    -> 210\n",
    "\"\"\""
   ]
  },
  {
   "attachments": {},
   "cell_type": "markdown",
   "metadata": {},
   "source": [
    "## 2023/06/18"
   ]
  },
  {
   "cell_type": "code",
   "execution_count": null,
   "metadata": {},
   "outputs": [],
   "source": [
    "## 의사코드 ##\n",
    "\n",
    "# 종료 조건 주어지지 않음 -> eof 에러\n",
    "# try\n",
    "# except EOFError:\n",
    "#     break \n",
    "\n",
    "# 일단 입력 받은 문자열들을 하나의 문자열로 합치기\n",
    "# res = ''\n",
    "# res += input() \n",
    "\n",
    "# 콤마로 파싱 \n",
    "# list(map(int, res.split(',')))"
   ]
  },
  {
   "attachments": {},
   "cell_type": "markdown",
   "metadata": {},
   "source": [
    "### 통과)"
   ]
  },
  {
   "cell_type": "code",
   "execution_count": 1,
   "metadata": {},
   "outputs": [],
   "source": [
    "res = ''\n",
    "while True:\n",
    "    try:\n",
    "        res += input()\n",
    "    except EOFError:\n",
    "        break\n",
    "\n",
    "nums = list(map(int, res.split(',')))\n",
    "print(sum(nums))"
   ]
  }
 ],
 "metadata": {
  "kernelspec": {
   "display_name": "base",
   "language": "python",
   "name": "python3"
  },
  "language_info": {
   "codemirror_mode": {
    "name": "ipython",
    "version": 3
   },
   "file_extension": ".py",
   "mimetype": "text/x-python",
   "name": "python",
   "nbconvert_exporter": "python",
   "pygments_lexer": "ipython3",
   "version": "3.9.7"
  },
  "orig_nbformat": 4
 },
 "nbformat": 4,
 "nbformat_minor": 2
}

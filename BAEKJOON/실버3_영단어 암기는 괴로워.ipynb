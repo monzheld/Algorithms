{
 "cells": [
  {
   "attachments": {},
   "cell_type": "markdown",
   "metadata": {},
   "source": [
    "20920번\n",
    "\n",
    "[문제](https://www.acmicpc.net/problem/20920)"
   ]
  },
  {
   "attachments": {},
   "cell_type": "markdown",
   "metadata": {},
   "source": [
    "### 문자열"
   ]
  },
  {
   "attachments": {},
   "cell_type": "markdown",
   "metadata": {},
   "source": [
    "- 효율적으로 영어 단어를 외우기 위해 영어 단어장을 만들려 함\n",
    "- 단어장의 단어 순서는 다음과 같은 우선순위를 차례로 적용하여 만들어짐\n",
    "    - 1) 자주 나오는 단어일수록 앞에 배치\n",
    "    - 2) 해당 단어의 길이가 길수록 앞에 배치\n",
    "    - 3) 알파벳 사전 순으로 앞에 있는 단어일수록 앞에 배치\n",
    "-  $M$보다 짧은 길이의 단어의 경우 읽는 것만으로도 외울 수 있기 때문에 **길이가 $M$이상인 단어들만 외움**\n",
    "- 영단어 암기를 효율적으로 할 수 있도록 단어장을 만들어 주기"
   ]
  },
  {
   "attachments": {},
   "cell_type": "markdown",
   "metadata": {},
   "source": [
    "- 입력\n",
    "    - 첫째 줄에는 영어 지문에 나오는 단어의 개수 $N$과 외울 단어의 길이 기준이 되는 $M$이 공백으로 구분되어 주어짐 ($1 \\leq N \\leq 100\\,000$, $1 \\leq M \\leq 10$)\n",
    "    - 둘째 줄부터 $N+1$번째 줄까지 외울 단어를 입력받음. 입력은 알파벳 소문자로만 주어지며 단어의 길이는 $10$을 넘지 않음\n",
    "    - 단어장에 단어가 반드시 1개 이상 존재하는 입력만 주어짐\n",
    "- 출력\n",
    "    - 화은이의 단어장에 들어 있는 단어를 단어장의 앞에 위치한 단어부터 한 줄에 한 단어씩 순서대로 출력\n",
    "\n",
    "- 시간 제한: 1초\n",
    "- 메모리 제한: 1024 MB"
   ]
  },
  {
   "cell_type": "code",
   "execution_count": null,
   "metadata": {},
   "outputs": [],
   "source": [
    "\"\"\"\n",
    "입출력 예시)\n",
    "\n",
    "(예제 입력 1) \n",
    "7 4\n",
    "apple\n",
    "ant\n",
    "sand\n",
    "apple\n",
    "append\n",
    "sand\n",
    "sand\n",
    "        -> sand\n",
    "           apple\n",
    "           append\n",
    "\n",
    "(예제 입력 2)\n",
    "12 5\n",
    "appearance\n",
    "append\n",
    "attendance\n",
    "swim\n",
    "swift\n",
    "swift\n",
    "swift\n",
    "mouse\n",
    "wallet\n",
    "mouse\n",
    "ice\n",
    "age\n",
    "        -> swift\n",
    "           mouse\n",
    "           appearance\n",
    "           attendance\n",
    "           append\n",
    "           wallet\n",
    "\"\"\""
   ]
  },
  {
   "attachments": {},
   "cell_type": "markdown",
   "metadata": {},
   "source": [
    "## 2023/03/08"
   ]
  },
  {
   "cell_type": "code",
   "execution_count": null,
   "metadata": {},
   "outputs": [],
   "source": [
    "## 의사코드 ##\n",
    "\n",
    "# 길이가 m이상인 단어만 단어장에 저장\n",
    "\n",
    "# 단어장 -> 딕셔너리 key: 단어, value: [개수, 길이, 단어]\n",
    "\n",
    "# 1) 자주 나오는 단어일수록 앞에 배치 -> 내림차순 정렬: -x[1][0]\n",
    "# 2) 단어의 길이가 길수록 앞에 배치 -> 내림차순 정렬: -x[1][1]\n",
    "# 3) 알파벳 사전 순으로 앞에 있는 단어일수록 앞에 배치 -> 오름차순 정렬: x[1][2]"
   ]
  },
  {
   "attachments": {},
   "cell_type": "markdown",
   "metadata": {},
   "source": [
    "### 통과)"
   ]
  },
  {
   "cell_type": "code",
   "execution_count": null,
   "metadata": {},
   "outputs": [],
   "source": [
    "import sys\n",
    "input = sys.stdin.readline\n",
    "n, m = map(int, input().split())\n",
    "\n",
    "note = {} # 단어장\n",
    "for _ in range(n):\n",
    "    word = input().rstrip()\n",
    "    # 길이가 m이상인 단어만 단어장에 저장\n",
    "    if len(word) >= m:\n",
    "        # 해당 단어가 단어장에 존재하면 개수 + 1\n",
    "        if note.get(word):\n",
    "            note[word][0] += 1\n",
    "        # 단어장에 존재하지 않으면 [개수, 길이, 단어] 저장\n",
    "        else:\n",
    "            note[word] = [1, len(word), word]\n",
    "\n",
    "# 자주 나오는 단어일수록, 단어의 길이가 길수록, 알파벳 사전 순으로 앞에 있는 단어일수록 앞에 배치\n",
    "sorted_note = sorted(note.items(), key=lambda x: (-x[1][0], -x[1][1], x[1][2]))\n",
    "\n",
    "for w in sorted_note:\n",
    "    print(w[0])"
   ]
  }
 ],
 "metadata": {
  "kernelspec": {
   "display_name": "base",
   "language": "python",
   "name": "python3"
  },
  "language_info": {
   "codemirror_mode": {
    "name": "ipython",
    "version": 3
   },
   "file_extension": ".py",
   "mimetype": "text/x-python",
   "name": "python",
   "nbconvert_exporter": "python",
   "pygments_lexer": "ipython3",
   "version": "3.9.7"
  },
  "orig_nbformat": 4
 },
 "nbformat": 4,
 "nbformat_minor": 2
}

{
 "cells": [
  {
   "attachments": {},
   "cell_type": "markdown",
   "metadata": {},
   "source": [
    "2711번\n",
    "\n",
    "[문제](https://www.acmicpc.net/problem/2711)"
   ]
  },
  {
   "attachments": {},
   "cell_type": "markdown",
   "metadata": {},
   "source": [
    "### 문자열"
   ]
  },
  {
   "attachments": {},
   "cell_type": "markdown",
   "metadata": {},
   "source": [
    "- 창영이가 오타를 낸 문장과 오타를 낸 위치가 주어졌을 때, **오타를 지운 문자열**을 출력하기\n",
    "- 창영이는 오타를 반드시 1개만 냄"
   ]
  },
  {
   "attachments": {},
   "cell_type": "markdown",
   "metadata": {},
   "source": [
    "- 입력\n",
    "    - 첫째 줄에 테스트 케이스의 개수 T(1<=T<=1,000)가 주어짐\n",
    "    - 각 테스트 케이스는 한 줄로 구성되어 있음\n",
    "    - 첫 숫자는 창영이가 오타를 낸 위치이고, 두 번째 문자열은 창영이가 친 문자열\n",
    "    - 문자열의 **가장 첫 문자는 1번째** 문자이고, 문자열의 길이는 80을 넘지 않고, 대문자로만 이루어져 있음\n",
    "    - 오타를 낸 위치는 문자열 길이보다 작거나 같음\n",
    "- 출력\n",
    "    - 각 테스트 케이스에 대해 오타를 지운 문자열을 출력\n",
    "\n",
    "- 시간 제한: 1초\n",
    "- 메모리 제한: 128 MB"
   ]
  },
  {
   "cell_type": "code",
   "execution_count": null,
   "metadata": {},
   "outputs": [],
   "source": [
    "\"\"\"\n",
    "입출력 예시)\n",
    "\n",
    "4\n",
    "4 MISSPELL\n",
    "1 PROGRAMMING\n",
    "7 CONTEST\n",
    "3 BALLOON\n",
    "            -> MISPELL\n",
    "               ROGRAMMING\n",
    "               CONTES\n",
    "               BALOON\n",
    "\"\"\""
   ]
  },
  {
   "attachments": {},
   "cell_type": "markdown",
   "metadata": {},
   "source": [
    "## 2023/05/27"
   ]
  },
  {
   "cell_type": "code",
   "execution_count": null,
   "metadata": {},
   "outputs": [],
   "source": [
    "## 의사코드 ##\n",
    "\n",
    "# 오타를 낸 문자를 제거\n",
    "# 문자열.replace(문자열[int(인덱스)-1], '')"
   ]
  },
  {
   "attachments": {},
   "cell_type": "markdown",
   "metadata": {},
   "source": [
    "### 1)"
   ]
  },
  {
   "cell_type": "code",
   "execution_count": null,
   "metadata": {},
   "outputs": [],
   "source": [
    "t = int(input())\n",
    "for _ in range(t):\n",
    "    idx, s = input().split()\n",
    "    print(s.replace(s[int(idx)-1], ''))"
   ]
  },
  {
   "attachments": {},
   "cell_type": "markdown",
   "metadata": {},
   "source": [
    "-> replace() 사용 시 변환하려는 문자가 문자열 내에서 모두 변환되어버림 (오타 낸 문자와 동일한 문자가 있는 경우 틀림)"
   ]
  },
  {
   "attachments": {},
   "cell_type": "markdown",
   "metadata": {},
   "source": [
    "### 통과)"
   ]
  },
  {
   "cell_type": "code",
   "execution_count": 12,
   "metadata": {},
   "outputs": [
    {
     "name": "stdout",
     "output_type": "stream",
     "text": [
      "MISPELL\n",
      "ROGRAMMING\n",
      "CONTES\n",
      "BALOON\n"
     ]
    }
   ],
   "source": [
    "t = int(input())\n",
    "for _ in range(t):\n",
    "    idx, string = input().split()\n",
    "    string = list(string)\n",
    "    string.pop(int(idx)-1)\n",
    "    print(''.join(string))"
   ]
  },
  {
   "attachments": {},
   "cell_type": "markdown",
   "metadata": {},
   "source": [
    "-> 문자열을 리스트로 변환 후, pop(위치)로 오타 제거"
   ]
  }
 ],
 "metadata": {
  "kernelspec": {
   "display_name": "base",
   "language": "python",
   "name": "python3"
  },
  "language_info": {
   "codemirror_mode": {
    "name": "ipython",
    "version": 3
   },
   "file_extension": ".py",
   "mimetype": "text/x-python",
   "name": "python",
   "nbconvert_exporter": "python",
   "pygments_lexer": "ipython3",
   "version": "3.9.7"
  },
  "orig_nbformat": 4
 },
 "nbformat": 4,
 "nbformat_minor": 2
}

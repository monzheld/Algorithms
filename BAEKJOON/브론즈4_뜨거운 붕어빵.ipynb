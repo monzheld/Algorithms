{
 "cells": [
  {
   "attachments": {},
   "cell_type": "markdown",
   "metadata": {},
   "source": [
    "11945번\n",
    "\n",
    "[문제](https://www.acmicpc.net/problem/11945)"
   ]
  },
  {
   "attachments": {},
   "cell_type": "markdown",
   "metadata": {},
   "source": [
    "### 문자열"
   ]
  },
  {
   "attachments": {},
   "cell_type": "markdown",
   "metadata": {},
   "source": [
    "- 붕어빵은 자유 낙하운동을 하면서 땅에 떨어졌는데 신기하게도 **좌우가 뒤집힌 모양**으로 착지\n",
    "- 호돌이가 붕어빵을 한 입 물기 전의 모양이 입력으로 주어지면, **땅에 떨어졌을 때에는 어떤 모양일지** 출력"
   ]
  },
  {
   "attachments": {},
   "cell_type": "markdown",
   "metadata": {},
   "source": [
    "<img width=\"355\" alt=\"스크린샷 2023-05-28 22 03 19\" src=\"https://github.com/monzheld/Algorithms/assets/93971420/94005eaf-83ee-47bd-bd99-f52279ecd866\">"
   ]
  },
  {
   "attachments": {},
   "cell_type": "markdown",
   "metadata": {},
   "source": [
    "- 입력\n",
    "    - 첫째 줄에는 두 개의 정수 N과 M(0≤N,M≤10)이 주어짐\n",
    "    - 둘째 줄부터 N개의 줄에 걸쳐 붕어빵의 모양이 주어짐\n",
    "    - 각 행에는 공백을 나타내는 ‘0‘ 또는 붕어빵을 나타내는 ‘1’이 총 M개 주어짐\n",
    "- 출력\n",
    "    - 입력으로 주어진 붕어빵이 좌우로 뒤집힌 모양을 출력\n",
    "\n",
    "- 시간 제한: 1초\n",
    "- 메모리 제한: 32 MB"
   ]
  },
  {
   "attachments": {},
   "cell_type": "markdown",
   "metadata": {},
   "source": [
    "- 힌트\n",
    "    - 입력으로 주어지는 **각 행을 반전시켜서 출력**\n",
    "    - 입력의 N행 M열은 출력의 N행 1열로 출력\n",
    "        - 입력의 1행 1열은 출력의 1행 M열로, 입력의 1행 2열은 출력의 1행 M-1열로 … 입력의 1행 M열은 출력의 1행 1열로 … "
   ]
  },
  {
   "cell_type": "code",
   "execution_count": null,
   "metadata": {},
   "outputs": [],
   "source": [
    "\"\"\"\n",
    "입출력 예시)\n",
    "\n",
    "5 7\n",
    "0010000\n",
    "0111010\n",
    "1111111\n",
    "0111010\n",
    "0010000\n",
    "        -> 0000100\n",
    "           0101110\n",
    "           1111111\n",
    "           0101110\n",
    "           0000100\n",
    "\"\"\""
   ]
  },
  {
   "attachments": {},
   "cell_type": "markdown",
   "metadata": {},
   "source": [
    "## 2023/05/28"
   ]
  },
  {
   "cell_type": "code",
   "execution_count": null,
   "metadata": {},
   "outputs": [],
   "source": [
    "## 의사코드 ##\n",
    "\n",
    "# 입력으로 주어진 붕어빵 뒤집기\n",
    "# 붕어빵[::-1]\n",
    "\n",
    "# 입력으로 주어지는 각 행을 반전시켜서 출력\n",
    "# 1) 리스트에 각 붕어빵을 뒤집은 문자열을 입력 순서대로 저장\n",
    "# 2) 리스트 순서 뒤집기 -> 리스트.reverse()\n",
    "# 3) 리스트 요소 하나씩 출력 "
   ]
  },
  {
   "attachments": {},
   "cell_type": "markdown",
   "metadata": {},
   "source": [
    "### 1) "
   ]
  },
  {
   "cell_type": "code",
   "execution_count": 3,
   "metadata": {},
   "outputs": [
    {
     "name": "stdout",
     "output_type": "stream",
     "text": [
      "0000100\n",
      "0101110\n",
      "1111111\n",
      "0101110\n",
      "0000100\n"
     ]
    }
   ],
   "source": [
    "n, m = map(int, input().split())\n",
    "li = [] # 붕어빵을 저장할 리스트\n",
    "for _ in range(n):\n",
    "    # 리스트에 붕어빵 뒤집은 문자열 저장\n",
    "    li.append(input()[::-1])\n",
    "# 붕어빵 리스트 순서 뒤집기\n",
    "li.reverse()\n",
    "# 각 행 거꾸로 출력\n",
    "for i in range(n):\n",
    "    print(li[i])"
   ]
  },
  {
   "attachments": {},
   "cell_type": "markdown",
   "metadata": {},
   "source": [
    "-> 틀림"
   ]
  },
  {
   "attachments": {},
   "cell_type": "markdown",
   "metadata": {},
   "source": [
    "### 통과)"
   ]
  },
  {
   "cell_type": "code",
   "execution_count": null,
   "metadata": {},
   "outputs": [],
   "source": [
    "n, m = map(int, input().split())\n",
    "for _ in range(n):\n",
    "    print(input()[::-1])"
   ]
  },
  {
   "attachments": {},
   "cell_type": "markdown",
   "metadata": {},
   "source": [
    "-> 힌트를 보고 입력으로 주어진 행의 순서도 거꾸로 출력해야 한다고 잘못 이해함... 그냥 붕어빵만 뒤집어서 출력하는 게 정답"
   ]
  }
 ],
 "metadata": {
  "kernelspec": {
   "display_name": "base",
   "language": "python",
   "name": "python3"
  },
  "language_info": {
   "codemirror_mode": {
    "name": "ipython",
    "version": 3
   },
   "file_extension": ".py",
   "mimetype": "text/x-python",
   "name": "python",
   "nbconvert_exporter": "python",
   "pygments_lexer": "ipython3",
   "version": "3.9.7"
  },
  "orig_nbformat": 4
 },
 "nbformat": 4,
 "nbformat_minor": 2
}

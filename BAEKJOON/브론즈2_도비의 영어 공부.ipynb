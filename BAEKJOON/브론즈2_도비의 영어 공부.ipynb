{
 "cells": [
  {
   "attachments": {},
   "cell_type": "markdown",
   "metadata": {},
   "source": [
    "2386번\n",
    "\n",
    "[문제](https://www.acmicpc.net/problem/2386)"
   ]
  },
  {
   "attachments": {},
   "cell_type": "markdown",
   "metadata": {},
   "source": [
    "### 문자열"
   ]
  },
  {
   "attachments": {},
   "cell_type": "markdown",
   "metadata": {},
   "source": [
    "- 꿍은 도비의 자유를 위해 영어를 가르치기로 결심\n",
    "- 영어 문장과 알파벳 하나가 주어지면 **그 알파벳이 문장에서 몇 번 나타나는지**를 세는 문제들을 내주었음\n",
    "- 도비를 위해 문제의 답을 알려주기"
   ]
  },
  {
   "attachments": {},
   "cell_type": "markdown",
   "metadata": {},
   "source": [
    "- 입력\n",
    "    - 입력은 몇 개의 줄들로 이루어짐\n",
    "    - 각 줄에는 하나의 소문자와 영어 문장이 공백으로 구분되어 주어짐\n",
    "    - 각 문장은 길이가 1에서 250이며 입력의 마지막은 #\n",
    "- 출력\n",
    "    - 출력의 각 줄은 입력으로 주어진 소문자와 그 소문자 알파벳이 나타난 횟수로 이루어짐\n",
    "    - 이때 문장에서 해당 알파벳이 소문자로 나타나던 대문자로 나타나던 모두 세야 함\n",
    "\n",
    "- 시간 제한: 1초\n",
    "- 메모리 제한: 128 MB\n"
   ]
  },
  {
   "cell_type": "code",
   "execution_count": null,
   "metadata": {},
   "outputs": [],
   "source": [
    "\"\"\"\n",
    "입출력 예시)\n",
    "\n",
    "g Programming Contest\n",
    "n New Zealand\n",
    "x This is quite a simple problem.\n",
    "#\n",
    "    -> g 2\n",
    "       n 2\n",
    "       x 0\n",
    "\"\"\""
   ]
  },
  {
   "attachments": {},
   "cell_type": "markdown",
   "metadata": {},
   "source": [
    "## 2023/04/01"
   ]
  },
  {
   "cell_type": "code",
   "execution_count": null,
   "metadata": {},
   "outputs": [],
   "source": [
    "## 의사코드 ##\n",
    "\n",
    "# 주어진 문장에서 각 문자별 개수 카운트\n",
    "# from collections import Counter"
   ]
  },
  {
   "attachments": {},
   "cell_type": "markdown",
   "metadata": {},
   "source": [
    "### 통과)"
   ]
  },
  {
   "cell_type": "code",
   "execution_count": 6,
   "metadata": {},
   "outputs": [
    {
     "name": "stdout",
     "output_type": "stream",
     "text": [
      "g 2\n",
      "n 2\n",
      "x 0\n"
     ]
    }
   ],
   "source": [
    "from collections import Counter\n",
    "while True:\n",
    "    string = list(input().lower().split()) # 문장의 모든 문자를 소문자로 변환\n",
    "    if string == ['#']:\n",
    "        break\n",
    "    else:\n",
    "        # 주어진 알파벳\n",
    "        alpha = string[0]\n",
    "        # 주어진 문장을 하나의 문자열로 변환\n",
    "        string = ''.join(string[1:])\n",
    "        # 주어진 문장에서 각 문자별 개수 카운트\n",
    "        cnt = Counter(string)\n",
    "        # 주어진 알파벳, 문장에서 나타난 횟수 출력\n",
    "        print(alpha, cnt[alpha])"
   ]
  }
 ],
 "metadata": {
  "kernelspec": {
   "display_name": "base",
   "language": "python",
   "name": "python3"
  },
  "language_info": {
   "codemirror_mode": {
    "name": "ipython",
    "version": 3
   },
   "file_extension": ".py",
   "mimetype": "text/x-python",
   "name": "python",
   "nbconvert_exporter": "python",
   "pygments_lexer": "ipython3",
   "version": "3.9.7"
  },
  "orig_nbformat": 4
 },
 "nbformat": 4,
 "nbformat_minor": 2
}

{
 "cells": [
  {
   "attachments": {},
   "cell_type": "markdown",
   "metadata": {},
   "source": [
    "11508번\n",
    "\n",
    "[문제](https://www.acmicpc.net/problem/11508)"
   ]
  },
  {
   "attachments": {},
   "cell_type": "markdown",
   "metadata": {},
   "source": [
    "### 탐욕(Greedy)"
   ]
  },
  {
   "attachments": {},
   "cell_type": "markdown",
   "metadata": {},
   "source": [
    "- KSG 편의점에서는 과일우유, 드링킹요구르트 등의 유제품을 '2+1 세일'하는 행사를 하고 있음\n",
    "- KSG 편의점에서 유제품 **3개를 한 번에 산다면 그중에서 가장 싼 것은 무료로 지불하고 나머지 두 개의 제품 가격만 지불**하면 됨\n",
    "- **한 번에 3개의 유제품을 사지 않는다면 할인 없이 정가를 지불**해야 함\n",
    "- 예를 들어, 7개의 유제품이 있어서 각 제품의 가격이 10, 9, 4, 2, 6, 4, 3이고 재현이가 (10, 3, 2), (4, 6, 4), (9)로 총 3번에 걸쳐서 물건을 산다면\n",
    "    - 첫 번째 꾸러미에서는 13원\n",
    "    - 두 번째 꾸러미에서는 10원\n",
    "    - 세 번째 꾸러미에서는 9원을 지불\n",
    "- 재현이는 KSG 편의점에서 친구들과 같이 먹을 총 N팩의 유제품을 구입하려고 함\n",
    "- **최소비용**으로 유제품을 구입할 수 있도록 하기"
   ]
  },
  {
   "attachments": {},
   "cell_type": "markdown",
   "metadata": {},
   "source": [
    "- 입력\n",
    "    - 첫 번째 줄에는 유제품의 수 N (1 ≤ N ≤ 100,000)이 주어짐\n",
    "    - 두 번째 줄부터 N개의 줄에는 각 유제품의 가격 Ci (1 ≤ Ci ≤ 100,000)가 주어짐\n",
    "- 출력\n",
    "    - 재현이가 **N개의 유제품을 모두 살 때 필요한 최소비용**을 출력\n",
    "    - 정답은 231-1보다 작거나 같음\n",
    "\n",
    "- 시간 제한: 1초\n",
    "- 메모리 제한: \t64 MB"
   ]
  },
  {
   "cell_type": "code",
   "execution_count": null,
   "metadata": {},
   "outputs": [],
   "source": [
    "\"\"\"\n",
    "입출력 예시)\n",
    "\n",
    "(예제 입력 1) \n",
    "4\n",
    "3\n",
    "2\n",
    "3\n",
    "2\n",
    "    -> 8\n",
    "\n",
    "(예제 입력 2)\n",
    "6\n",
    "6\n",
    "4\n",
    "5\n",
    "5\n",
    "5\n",
    "5\n",
    "    -> 21\n",
    "\"\"\""
   ]
  },
  {
   "cell_type": "code",
   "execution_count": null,
   "metadata": {},
   "outputs": [],
   "source": [
    "# 예제 1 : 재현이가 (3, 2, 2), (3)으로 총 2번에 걸쳐서 유제품을 사면 됨\n",
    "# 예제 2 : 재현이가 (6, 4, 5), (5, 5, 5)로 총 2번에 걸쳐서 유제품을 사면 됨"
   ]
  },
  {
   "attachments": {},
   "cell_type": "markdown",
   "metadata": {},
   "source": [
    "## 2023/02/23"
   ]
  },
  {
   "cell_type": "code",
   "execution_count": null,
   "metadata": {},
   "outputs": [],
   "source": [
    "## 의사코드 ##\n",
    "\n",
    "# 3개를 한 번에 산다면 그중에서 가장 싼 것은 무료로 지불하고 나머지 두 개의 제품 가격만 지불\n",
    "# 한 번에 3개의 유제품을 사지 않는다면 할인 없이 정가를 지불\n",
    "\n",
    "# 가격 리스트를 작은 값부터 오름차순 정렬\n",
    "# 가격 리스트.sort()\n",
    "\n",
    "# total = 0 # 비용\n",
    "\n",
    "# while prices:\n",
    "#     # 가격 리스트의 길이를 3으로 나눈 몫이 1이상인 경우\n",
    "#     if (len(prices) // 3) >= 1:\n",
    "#         min_price = prices.pop(0) # 3개 중 가장 싼 값\n",
    "#         # total = total + 가격 리스트의 가장 왼쪽 가격 + 가격 리스트의 가장 오른쪽 가격\n",
    "#         total += (prices.pop(0) + prices.pop()) \n",
    "#     # 가격 리스트의 길이를 3으로 나눈 몫이 1미만인 경우\n",
    "#     else:\n",
    "#         # total = total + 가격 리스트의 가장 왼쪽 가격\n",
    "#         total += prices.pop(0)"
   ]
  },
  {
   "attachments": {},
   "cell_type": "markdown",
   "metadata": {},
   "source": [
    "### 1)"
   ]
  },
  {
   "cell_type": "code",
   "execution_count": 13,
   "metadata": {},
   "outputs": [
    {
     "name": "stdout",
     "output_type": "stream",
     "text": [
      "21\n"
     ]
    }
   ],
   "source": [
    "n = int(input())\n",
    "prices = []\n",
    "for _ in range(n):\n",
    "    price = int(input())\n",
    "    prices.append(price)\n",
    "\n",
    "# 가격 리스트를 오름차순 정렬\n",
    "prices.sort()\n",
    "\n",
    "total = 0 # 비용\n",
    "while prices:\n",
    "    # 가격 리스트의 길이를 3으로 나눈 몫이 1이상인 경우\n",
    "    if (len(prices) // 3) >= 1:\n",
    "        min_price = prices.pop(0) # 3개 중 가장 싼 값\n",
    "        # total = total + 가격 리스트의 가장 왼쪽 가격 + 가격 리스트의 가장 오른쪽 가격\n",
    "        total += (prices.pop(0) + prices.pop()) \n",
    "    # 가격 리스트의 길이를 3으로 나눈 몫이 1미만인 경우\n",
    "    else:\n",
    "        # total = total + 가격 리스트의 가장 왼쪽 가격\n",
    "        total += prices.pop(0)\n",
    "print(total)\n"
   ]
  },
  {
   "attachments": {},
   "cell_type": "markdown",
   "metadata": {},
   "source": [
    "-> 틀림"
   ]
  },
  {
   "cell_type": "code",
   "execution_count": null,
   "metadata": {},
   "outputs": [],
   "source": [
    "# 과정 확인"
   ]
  },
  {
   "cell_type": "code",
   "execution_count": 16,
   "metadata": {},
   "outputs": [
    {
     "name": "stdout",
     "output_type": "stream",
     "text": [
      "prices: [4, 5, 5, 5, 5, 6]\n",
      "len(prices): 6 \n",
      "\n",
      "min_price: 4\n",
      "prices[0]: 5\n",
      "prices[-1]: 6\n",
      "total: 11\n",
      "--------------------------------------------------\n",
      "prices: [5, 5, 5]\n",
      "len(prices): 3 \n",
      "\n",
      "min_price: 5\n",
      "prices[0]: 5\n",
      "prices[-1]: 5\n",
      "total: 21\n",
      "--------------------------------------------------\n"
     ]
    }
   ],
   "source": [
    "prices = [4, 5, 5, 5, 5, 6]\n",
    "\n",
    "total = 0 # 비용\n",
    "while prices:\n",
    "    print('prices:', prices)\n",
    "    print('len(prices):', len(prices), '\\n')\n",
    "    if (len(prices) // 3) >= 1:\n",
    "        min_price = prices.pop(0) # 3개 중 가장 싼 값\n",
    "        print('min_price:', min_price)\n",
    "        print('prices[0]:', prices[0])\n",
    "        print('prices[-1]:', prices[-1])\n",
    "        total += (prices.pop(0) + prices.pop())\n",
    "        print('total:', total)\n",
    "        print('-'*50)\n",
    "    else:\n",
    "        print('prices[0]:', prices[0])\n",
    "        total += prices.pop(0)\n",
    "        print('total:', total)\n",
    "        print('-'*50)"
   ]
  },
  {
   "attachments": {},
   "cell_type": "markdown",
   "metadata": {},
   "source": [
    "### 통과)"
   ]
  },
  {
   "cell_type": "code",
   "execution_count": null,
   "metadata": {},
   "outputs": [],
   "source": [
    "## 의사코드 ##\n",
    "\n",
    "# 3개를 한 번에 산다면 그중에서 가장 싼 것은 무료로 지불하고 나머지 두 개의 제품 가격만 지불\n",
    "# -> 최소비용이 되려면 무료로 지불할 가장 싼 것이 최대한 비싼 물건이 되도록 해야 함\n",
    "# 한 번에 3개의 유제품을 사지 않는다면 할인 없이 정가를 지불\n",
    "\n",
    "# 가격 리스트를 큰 값부터 내림차순 정렬\n",
    "# 가격 리스트.sort(reverse=True)\n",
    "\n",
    "# min_prices = 0 # 무료로 지불할 가장 싼 가격들의 합\n",
    "\n",
    "# # 내림차순으로 정렬된 가격 리스트에서 3의 배수 번째 가격을 더함 \n",
    "# for i in range(2, n, 3): # n = len(prices)\n",
    "#     min_prices += prices[i]\n",
    "\n",
    "# # 최소 비용 = 전체 가격의 합 - 무료로 지불할 가장 싼 가격들의 합\n",
    "# sum(prices) - min_prices"
   ]
  },
  {
   "cell_type": "code",
   "execution_count": 23,
   "metadata": {},
   "outputs": [
    {
     "name": "stdout",
     "output_type": "stream",
     "text": [
      "21\n"
     ]
    }
   ],
   "source": [
    "n = int(input())\n",
    "prices = []\n",
    "for _ in range(n):\n",
    "    prices.append(int(input()))\n",
    "\n",
    "# 가격 리스트를 내림차순 정렬\n",
    "prices.sort(reverse=True)\n",
    "\n",
    "# 무료로 지불할 가장 싼 가격들의 합\n",
    "min_prices = 0 \n",
    "\n",
    "# 내림차순으로 정렬된 가격 리스트에서 3의 배수 번째 가격을 더함 \n",
    "for i in range(2, n, 3): # n = len(prices)\n",
    "    min_prices += prices[i]\n",
    "\n",
    "# 최소 비용 = 전체 가격의 합 - 무료로 지불할 가장 싼 가격들의 합\n",
    "print(sum(prices) - min_prices)"
   ]
  },
  {
   "attachments": {},
   "cell_type": "markdown",
   "metadata": {},
   "source": [
    "-> 가격 리스트를 큰 값부터 내림차순 정렬하면 3의 배수 번째 가격들이 무료로 지불할 가장 싼 가격들이 됨\n",
    "\n",
    "이 무료로 지불할 가장 싼 가격들의 합을 구해서 전체 가격의 합에서 빼준 값이 최소 비용"
   ]
  },
  {
   "attachments": {},
   "cell_type": "markdown",
   "metadata": {},
   "source": [
    "- cf) `for i in range(2, n, 3)` 에서 n 대신 len(prices)를 사용하면 시간 초과 뜸"
   ]
  },
  {
   "cell_type": "code",
   "execution_count": null,
   "metadata": {},
   "outputs": [],
   "source": [
    "# 과정 확인"
   ]
  },
  {
   "cell_type": "code",
   "execution_count": 21,
   "metadata": {},
   "outputs": [
    {
     "name": "stdout",
     "output_type": "stream",
     "text": [
      "i: 2\n",
      "prices[i]: 5\n",
      "min_prices: 5 \n",
      "\n",
      "i: 5\n",
      "prices[i]: 4\n",
      "min_prices: 9 \n",
      "\n",
      "21\n"
     ]
    }
   ],
   "source": [
    "prices = [6, 5, 5, 5, 5, 4]\n",
    "\n",
    "# 무료로 지불할 가장 싼 가격들의 합\n",
    "min_prices = 0 \n",
    "\n",
    "# 내림차순으로 정렬된 가격 리스트에서 3의 배수 번째 가격을 더함 \n",
    "for i in range(2, len(prices), 3): # n = len(prices)\n",
    "    print('i:', i)\n",
    "    print('prices[i]:', prices[i])\n",
    "    min_prices += prices[i]\n",
    "    print('min_prices:', min_prices, '\\n')\n",
    "\n",
    "# 최소 비용 = 전체 가격의 합 - 무료로 지불할 가장 싼 가격들의 합\n",
    "print(sum(prices) - min_prices)"
   ]
  }
 ],
 "metadata": {
  "kernelspec": {
   "display_name": "cp2",
   "language": "python",
   "name": "python3"
  },
  "language_info": {
   "codemirror_mode": {
    "name": "ipython",
    "version": 3
   },
   "file_extension": ".py",
   "mimetype": "text/x-python",
   "name": "python",
   "nbconvert_exporter": "python",
   "pygments_lexer": "ipython3",
   "version": "3.9.12"
  },
  "orig_nbformat": 4,
  "vscode": {
   "interpreter": {
    "hash": "5ca59c31ddc1bb1d3e926feef50b5ca0d1eacb2093eee1a1a79c0269dbb49758"
   }
  }
 },
 "nbformat": 4,
 "nbformat_minor": 2
}

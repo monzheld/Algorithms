{
 "cells": [
  {
   "attachments": {},
   "cell_type": "markdown",
   "metadata": {},
   "source": [
    "2789번\n",
    "\n",
    "[문제](https://www.acmicpc.net/problem/2789)"
   ]
  },
  {
   "attachments": {},
   "cell_type": "markdown",
   "metadata": {},
   "source": [
    "### 문자열"
   ]
  },
  {
   "attachments": {},
   "cell_type": "markdown",
   "metadata": {},
   "source": [
    "- 가장 많은 학생들이 유학을 가는 대학교는 영국의 캠브리지 대학교\n",
    "- 정부는 인터넷 검열을 통해서 해외로 나가는 이메일의 내용 중 일부를 삭제하기로 함\n",
    "- 이메일의 각 단어 중에서 **CAMBRIDGE에 포함된 알파벳은 모두 지우기로** 함\n",
    "- 어떤 이메일에 LOVA란 단어가 있다면, A는 CAMBRIDGE에 포함된 알파벳이기 때문에, 받아보는 사람은 LOV로 받음\n",
    "- 어떤 단어가 주어졌을 때, 검열을 거친 후에는 어떤 단어가 되는지 구하기"
   ]
  },
  {
   "attachments": {},
   "cell_type": "markdown",
   "metadata": {},
   "source": [
    "- 입력\n",
    "    - 첫째 줄에 알파벳 대문자로 이루어진 단어가 주어짐\n",
    "    - 이 단어는 적어도 3글자이며, 많아야 100글자\n",
    "- 출력\n",
    "    - 입력으로 주어진 단어를 정부가 검열을 하면 어떻게 변하는지를 출력\n",
    "    - 즉, 단어에서 CAMBRIDGE에 포함된 알파벳을 모두 지운 뒤 출력\n",
    "    - 항상 정답의 길이는 0보다 큼\n",
    "\n",
    "- 시간 제한: 1초\n",
    "- 메모리 제한: 128 MB"
   ]
  },
  {
   "cell_type": "code",
   "execution_count": null,
   "metadata": {},
   "outputs": [],
   "source": [
    "\"\"\"\n",
    "입출력 예시)\n",
    "\n",
    "(예제 입력 1) \n",
    "LOVA -> LOV\n",
    "\n",
    "(예제 입력 2)\n",
    "KARIJERA -> KJ\n",
    "\"\"\""
   ]
  },
  {
   "attachments": {},
   "cell_type": "markdown",
   "metadata": {},
   "source": [
    "## 2023/03/14"
   ]
  },
  {
   "cell_type": "code",
   "execution_count": null,
   "metadata": {},
   "outputs": [],
   "source": [
    "## 의사코드 ##\n",
    "\n",
    "# CAMBRIDGE에 포함된 단어 제거\n",
    "\n",
    "# cam_li = list('CAMBRIDGE')\n",
    "\n",
    "# for chr in s:\n",
    "#     # 현재 단어가 CAMBRIDGE에 포함된 단어이면 제거 \n",
    "#     if chr in cam_li:\n",
    "#         s = s.replace(chr, '')"
   ]
  },
  {
   "attachments": {},
   "cell_type": "markdown",
   "metadata": {},
   "source": [
    "### 통과)"
   ]
  },
  {
   "cell_type": "code",
   "execution_count": 2,
   "metadata": {},
   "outputs": [
    {
     "name": "stdout",
     "output_type": "stream",
     "text": [
      "KJ\n"
     ]
    }
   ],
   "source": [
    "cam_li = list('CAMBRIDGE')\n",
    "s = input()\n",
    "for chr in s:\n",
    "    # 현재 단어가 CAMBRIDGE에 포함된 단어이면 제거\n",
    "    if chr in cam_li:\n",
    "        s = s.replace(chr, '')\n",
    "print(s)"
   ]
  }
 ],
 "metadata": {
  "kernelspec": {
   "display_name": "base",
   "language": "python",
   "name": "python3"
  },
  "language_info": {
   "codemirror_mode": {
    "name": "ipython",
    "version": 3
   },
   "file_extension": ".py",
   "mimetype": "text/x-python",
   "name": "python",
   "nbconvert_exporter": "python",
   "pygments_lexer": "ipython3",
   "version": "3.9.7"
  },
  "orig_nbformat": 4
 },
 "nbformat": 4,
 "nbformat_minor": 2
}

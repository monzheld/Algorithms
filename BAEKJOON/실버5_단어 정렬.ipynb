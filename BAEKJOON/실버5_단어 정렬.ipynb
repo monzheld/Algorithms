{
 "cells": [
  {
   "attachments": {},
   "cell_type": "markdown",
   "metadata": {},
   "source": [
    "1181번\n",
    "\n",
    "[문제](https://www.acmicpc.net/problem/1181)"
   ]
  },
  {
   "attachments": {},
   "cell_type": "markdown",
   "metadata": {},
   "source": [
    "### 정렬"
   ]
  },
  {
   "attachments": {},
   "cell_type": "markdown",
   "metadata": {},
   "source": [
    "- 알파벳 소문자로 이루어진 N개의 단어가 들어오면 아래와 같은 조건에 따라 정렬\n",
    "    - 1) 길이가 짧은 것부터\n",
    "    - 2) 길이가 같으면 사전 순으로"
   ]
  },
  {
   "attachments": {},
   "cell_type": "markdown",
   "metadata": {},
   "source": [
    "- 입력\n",
    "    - 첫째 줄에 단어의 개수 N (1 ≤ N ≤ 20,000)\n",
    "    - 둘째 줄부터 N개의 줄에 걸쳐 알파벳 소문자로 이루어진 단어가 한 줄에 하나씩 주어짐\n",
    "    - 주어지는 문자열의 길이는 50을 넘지 않음\n",
    "- 출력\n",
    "    - 조건에 따라 정렬하여 단어들을 출력\n",
    "    - 단, **같은 단어가 여러 번 입력된 경우에는 한 번씩만** 출력\n",
    "\n",
    "- 시간 제한: 2초\n",
    "- 메모리 제한: 256 MB"
   ]
  },
  {
   "cell_type": "code",
   "execution_count": null,
   "metadata": {},
   "outputs": [],
   "source": [
    "\"\"\"\n",
    "입출력 예시)\n",
    "\n",
    "13\n",
    "but\n",
    "i\n",
    "wont\n",
    "hesitate\n",
    "no\n",
    "more\n",
    "no\n",
    "more\n",
    "it\n",
    "cannot\n",
    "wait\n",
    "im\n",
    "yours\n",
    "\n",
    "    -> i\n",
    "       im\n",
    "       it\n",
    "       no\n",
    "       but\n",
    "       more\n",
    "       wait\n",
    "       wont\n",
    "       yours\n",
    "       cannot\n",
    "       hesitate\n",
    "\"\"\""
   ]
  },
  {
   "attachments": {},
   "cell_type": "markdown",
   "metadata": {},
   "source": [
    "## 2023/01/26"
   ]
  },
  {
   "cell_type": "code",
   "execution_count": null,
   "metadata": {},
   "outputs": [],
   "source": [
    "## 의사코드 ##\n",
    "\n",
    "# 길이가 짧은 것부터 출력 -> 길이를 우선순위로 우선순위 큐\n",
    "# heapq.heappush(heap, (len(s), s)) # (문자의 길이, 문자)\n",
    "\n",
    "# 같은 단어가 여러 번 입력된 경우에는 한 번씩만 출력\n",
    "# -> answer라는 리스트를 생성하고, heappop한 문자를 answer에 저장\n",
    "# if 문자 in answer: continue"
   ]
  },
  {
   "attachments": {},
   "cell_type": "markdown",
   "metadata": {},
   "source": [
    "### 통과)"
   ]
  },
  {
   "cell_type": "code",
   "execution_count": 5,
   "metadata": {},
   "outputs": [
    {
     "name": "stdout",
     "output_type": "stream",
     "text": [
      "i\n",
      "im\n",
      "it\n",
      "no\n",
      "but\n",
      "more\n",
      "wait\n",
      "wont\n",
      "yours\n",
      "cannot\n",
      "hesitate\n"
     ]
    }
   ],
   "source": [
    "import heapq\n",
    "n = int(input())\n",
    "heap = [] # 우선순위 큐 \n",
    "answer = []\n",
    "for i in range(n):\n",
    "    s = str(input())\n",
    "    heapq.heappush(heap, (len(s), s)) # (문자의 길이, 문자)\n",
    "\n",
    "# 우선순위 큐에서 데이터 꺼내기\n",
    "while heap:\n",
    "    len_temp, temp = heapq.heappop(heap)\n",
    "    # 같은 단어가 여러 번 입력된 경우에는 한 번씩만 출력\n",
    "    if temp in answer:\n",
    "        continue \n",
    "    answer.append(temp)\n",
    "    print(temp)"
   ]
  },
  {
   "attachments": {},
   "cell_type": "markdown",
   "metadata": {},
   "source": [
    "### 다른 풀이"
   ]
  },
  {
   "cell_type": "code",
   "execution_count": null,
   "metadata": {},
   "outputs": [],
   "source": [
    "import sys\n",
    "\n",
    "n = int(sys.stdin.readline())\n",
    "lst = []\n",
    "\n",
    "for i in range(n):\n",
    "    lst.append(sys.stdin.readline().strip())\n",
    "set_lst = set(lst)\n",
    "lst = list(set_lst)\n",
    "lst.sort()\n",
    "lst.sort(key = len)\n",
    "\n",
    "for i in lst:\n",
    "    print(i)"
   ]
  },
  {
   "attachments": {},
   "cell_type": "markdown",
   "metadata": {},
   "source": [
    "-> set()으로 중복 제거 후, sort() 함수의 key를 len으로 설정해서 문자의 길이를 기준으로 정렬 "
   ]
  }
 ],
 "metadata": {
  "kernelspec": {
   "display_name": "cp2",
   "language": "python",
   "name": "python3"
  },
  "language_info": {
   "codemirror_mode": {
    "name": "ipython",
    "version": 3
   },
   "file_extension": ".py",
   "mimetype": "text/x-python",
   "name": "python",
   "nbconvert_exporter": "python",
   "pygments_lexer": "ipython3",
   "version": "3.9.12"
  },
  "orig_nbformat": 4,
  "vscode": {
   "interpreter": {
    "hash": "5ca59c31ddc1bb1d3e926feef50b5ca0d1eacb2093eee1a1a79c0269dbb49758"
   }
  }
 },
 "nbformat": 4,
 "nbformat_minor": 2
}

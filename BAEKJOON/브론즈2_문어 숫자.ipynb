{
 "cells": [
  {
   "attachments": {},
   "cell_type": "markdown",
   "metadata": {},
   "source": [
    "1864번\n",
    "\n",
    "[문제](https://www.acmicpc.net/problem/1864)"
   ]
  },
  {
   "attachments": {},
   "cell_type": "markdown",
   "metadata": {},
   "source": [
    "### 문자열"
   ]
  },
  {
   "attachments": {},
   "cell_type": "markdown",
   "metadata": {},
   "source": [
    "- 각 기호와 대응하는 숫자는 다음과 같음\n",
    "    - -는 0에 대응\n",
    "    - \\는 1에 대응\n",
    "    - (는 2에 대응\n",
    "    - @는 3에 대응\n",
    "    - ?는 4에 대응\n",
    "    - '>'는 5에 대응\n",
    "    - &는 6에 대응\n",
    "    - %는 7에 대응\n",
    "    - /는 -1에 대응\n",
    "- 문어의 수 체계는 **8진법에 기반**함\n",
    "    - (@&는 2 × 8**2 + 3 × 8 + 6 = 158\n",
    "    - ?/--는 4 × (8**3) + −1 × (8**2) + 0 × 8 + 0 = 1984\n",
    "    - /(\\는 −1 × 8**2 + 2 × 8 + 1 = −47\n",
    "- 당신에게 주어진 문제는 문어 숫자를 입력 받아 십진수로 나타내는 것"
   ]
  },
  {
   "attachments": {},
   "cell_type": "markdown",
   "metadata": {},
   "source": [
    "- 입력\n",
    "    - 한 줄에 하나씩 문어 숫자가 입력으로 주어짐\n",
    "    - 각 숫자는 최소 한 개, 최대 여덟 개의 문어 숫자 기호로 이루어져있음\n",
    "    - 입력으로 '#'이 들어오면 입력을 종료\n",
    "- 출력\n",
    "    - 입력 받은 문어 숫자에 대응하는 십진수를 한 줄에 하나씩 출력\n",
    "\n",
    "- 시간 제한: 1초\n",
    "- 메모리 제한: 128 MB"
   ]
  },
  {
   "cell_type": "code",
   "execution_count": null,
   "metadata": {},
   "outputs": [],
   "source": [
    "\"\"\"\n",
    "입출력 예시)\n",
    "\n",
    "(@&\n",
    "?/--\n",
    "/(\\\n",
    "?\n",
    "#\n",
    "    -> 158\n",
    "       1984\n",
    "       -47\n",
    "       4\n",
    "\"\"\""
   ]
  },
  {
   "attachments": {},
   "cell_type": "markdown",
   "metadata": {},
   "source": [
    "## 2023/06/19"
   ]
  },
  {
   "cell_type": "code",
   "execution_count": null,
   "metadata": {},
   "outputs": [],
   "source": [
    "## 의사코드 ##\n",
    "\n",
    "# 입력으로 '#'이 들어오면 입력을 종료\n",
    "\n",
    "# '\\' 입력 -> \"\\\\\"\n",
    "\n",
    "\n",
    "# dic에는 string의 순서 그대로 들어가야 하고, 8진법에는 순서 거꾸로 들어가야 함\n",
    "# res = 0\n",
    "# for i in range(len(string)):\n",
    "#     res += dic[string[i]] * (8**(len(string)-i-1))"
   ]
  },
  {
   "attachments": {},
   "cell_type": "markdown",
   "metadata": {},
   "source": [
    "### 통과)"
   ]
  },
  {
   "cell_type": "code",
   "execution_count": 19,
   "metadata": {},
   "outputs": [
    {
     "name": "stdout",
     "output_type": "stream",
     "text": [
      "158\n",
      "1984\n",
      "-47\n",
      "4\n"
     ]
    }
   ],
   "source": [
    "dic = {'-':0, \"\\\\\":1, \"(\":2, \"@\":3, \"?\":4, \">\":5, \"&\":6, \"%\":7, \"/\":-1}\n",
    "while True:\n",
    "    string = input()\n",
    "    if string == '#':\n",
    "        break\n",
    "    res = 0\n",
    "    for i in range(len(string)):\n",
    "        res += dic[string[i]] * (8**(len(string)-i-1))\n",
    "    print(res)"
   ]
  }
 ],
 "metadata": {
  "kernelspec": {
   "display_name": "base",
   "language": "python",
   "name": "python3"
  },
  "language_info": {
   "codemirror_mode": {
    "name": "ipython",
    "version": 3
   },
   "file_extension": ".py",
   "mimetype": "text/x-python",
   "name": "python",
   "nbconvert_exporter": "python",
   "pygments_lexer": "ipython3",
   "version": "3.9.7"
  },
  "orig_nbformat": 4
 },
 "nbformat": 4,
 "nbformat_minor": 2
}

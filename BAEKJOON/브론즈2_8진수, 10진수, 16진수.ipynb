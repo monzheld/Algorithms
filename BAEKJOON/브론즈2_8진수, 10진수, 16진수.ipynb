{
 "cells": [
  {
   "attachments": {},
   "cell_type": "markdown",
   "metadata": {},
   "source": [
    "11816번\n",
    "\n",
    "[문제](https://www.acmicpc.net/problem/11816)"
   ]
  },
  {
   "attachments": {},
   "cell_type": "markdown",
   "metadata": {},
   "source": [
    "### 문자열"
   ]
  },
  {
   "attachments": {},
   "cell_type": "markdown",
   "metadata": {},
   "source": [
    "- 정수 X가 주어짐\n",
    "- 정수 X는 항상 8진수, 10진수, 16진수 중에 하나\n",
    "- **8진수인 경우에는 수의 앞에 0이 주어지고, 16진수인 경우에는 0x**가 주어짐\n",
    "- **X를 10진수로 바꿔서 출력**하기"
   ]
  },
  {
   "attachments": {},
   "cell_type": "markdown",
   "metadata": {},
   "source": [
    "- 입력\n",
    "    - 첫째 줄에 X가 주어짐\n",
    "    - X는 10진수로 바꿨을 때, 1,000,000보다 작거나 같은 자연수\n",
    "    - 16진수인 경우 알파벳은 소문자로만 이루어져 있음\n",
    "- 출력\n",
    "    - 첫째 줄에 입력받은 X를 10진수로 바꿔서 출력\n",
    "\n",
    "- 시간 제한: 1초\n",
    "- 메모리 제한: 256 MB"
   ]
  },
  {
   "cell_type": "code",
   "execution_count": null,
   "metadata": {},
   "outputs": [],
   "source": [
    "\"\"\"\n",
    "입출력 예시)\n",
    "\n",
    "(예제 입력 1) \n",
    "10 -> 10\n",
    "\n",
    "(예제 입력 2) \n",
    "010 -> 8\n",
    "\n",
    "(예제 입력 3) \n",
    "0x10 -> 16\n",
    "\n",
    "(예제 입력 4) \n",
    "0x3f6 -> 1014\n",
    "\"\"\""
   ]
  },
  {
   "attachments": {},
   "cell_type": "markdown",
   "metadata": {},
   "source": [
    "## 2023/04/25"
   ]
  },
  {
   "cell_type": "code",
   "execution_count": null,
   "metadata": {},
   "outputs": [],
   "source": [
    "## 의사코드 ##\n",
    "\n",
    "# 16진수를 10진수로\n",
    "# int('문자열', 16)\n",
    "\n",
    "# 8진수를 10진수로\n",
    "# int('문자열', 8)"
   ]
  },
  {
   "attachments": {},
   "cell_type": "markdown",
   "metadata": {},
   "source": [
    "### 통과)"
   ]
  },
  {
   "cell_type": "code",
   "execution_count": 10,
   "metadata": {},
   "outputs": [
    {
     "name": "stdout",
     "output_type": "stream",
     "text": [
      "1014\n"
     ]
    }
   ],
   "source": [
    "x = input()\n",
    "\n",
    "# 16진수인 경우\n",
    "if x[1] == 'x':\n",
    "    print(int(x, 16))\n",
    "# 8진수인 경우\n",
    "elif x[0] == '0': \n",
    "    print(int(x, 8))\n",
    "# 10진수인 경우\n",
    "else:\n",
    "    print(int(x))"
   ]
  }
 ],
 "metadata": {
  "kernelspec": {
   "display_name": "base",
   "language": "python",
   "name": "python3"
  },
  "language_info": {
   "codemirror_mode": {
    "name": "ipython",
    "version": 3
   },
   "file_extension": ".py",
   "mimetype": "text/x-python",
   "name": "python",
   "nbconvert_exporter": "python",
   "pygments_lexer": "ipython3",
   "version": "3.9.7"
  },
  "orig_nbformat": 4
 },
 "nbformat": 4,
 "nbformat_minor": 2
}

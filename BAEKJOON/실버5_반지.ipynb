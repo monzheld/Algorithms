{
 "cells": [
  {
   "attachments": {},
   "cell_type": "markdown",
   "metadata": {},
   "source": [
    "5555번\n",
    "\n",
    "[문제](https://www.acmicpc.net/problem/5555)"
   ]
  },
  {
   "attachments": {},
   "cell_type": "markdown",
   "metadata": {},
   "source": [
    "### 문자열"
   ]
  },
  {
   "attachments": {},
   "cell_type": "markdown",
   "metadata": {},
   "source": [
    "- 당신은 N개의 반지를 가지고 있음\n",
    "- 각각의 반지는 대문자 10 문자로 이루어진 문자열이 새겨져 있음\n",
    "- 반지는 문자열의 시작과 끝이 연결된 형태로 문자가 새겨져 있음\n",
    "- 반지에 각인된 문자열을 거꾸로 읽는 걱정은 없음\n",
    "- 찾고자하는 문자열이 주어졌을 때 **그 문자열을 포함하는 반지가 몇 개인지**를 발견하기"
   ]
  },
  {
   "attachments": {},
   "cell_type": "markdown",
   "metadata": {},
   "source": [
    "- 입력\n",
    "    - 입력은 총 2 + N 줄\n",
    "    - 첫 번째 줄에는 1 자 이상 10 자 이하의 대문자로 구성된 찾고자 하는 문자열이 적혀있음\n",
    "    - 두 번째 줄에는 반지의 개수 N (1 ≦ N ≦ 100)이 적혀있음\n",
    "    - 2+i 줄(1 ≦ i ≦ N)엔 i개의 반지에 새겨져있고, 10 문자로 이루어진 문자열이 적혀있음\n",
    "- 출력\n",
    "    - 찾고자하는 문자열을 포함 반지의 개수를 나타내는 정수를 한 줄로 출력\n",
    "\n",
    "- 시간 제한: 1초\n",
    "- 메모리 제한: 128 MB"
   ]
  },
  {
   "cell_type": "code",
   "execution_count": null,
   "metadata": {},
   "outputs": [],
   "source": [
    "\"\"\"\n",
    "입출력 예시)\n",
    "\n",
    "(예제 입력 1) \n",
    "ABCD\n",
    "3\n",
    "ABCDXXXXXX\n",
    "YYYYABCDXX\n",
    "DCBAZZZZZZ\n",
    "            -> 2\n",
    "\n",
    "(예제 입력 2) \n",
    "XYZ\n",
    "1\n",
    "ZAAAAAAAXY\n",
    "            -> 1\n",
    "\n",
    "(예제 입력 3) \n",
    "PQR\n",
    "3\n",
    "PQRAAAAPQR\n",
    "BBPQRBBBBB\n",
    "CCCCCCCCCC\n",
    "            -> 2\n",
    "\"\"\""
   ]
  },
  {
   "cell_type": "code",
   "execution_count": null,
   "metadata": {},
   "outputs": [],
   "source": [
    "# (예제 입력 2) \n",
    "# -> 반지의 문자열의 시작과 끝이 연결되어 있기 때문에 'ZAAAAAAAXY'에 'XYZ'가 포함됨"
   ]
  },
  {
   "attachments": {},
   "cell_type": "markdown",
   "metadata": {},
   "source": [
    "## 2023/05/19"
   ]
  },
  {
   "cell_type": "code",
   "execution_count": null,
   "metadata": {},
   "outputs": [],
   "source": [
    "## 의사코드 ##\n",
    "\n",
    "# 문자열의 길이부터 0까지 역순으로\n",
    "# for i in range(len(string), 0, -1):\n",
    "      # 반지에서 (10 - (i-1))인 값의 인덱스부터 끝까지 + 반지의 처음부터 (문자열의 길이 - i)인 값의 인덱스까지 \n",
    "#     if ring[10-(i-1):] + ring[:len(string)-i] == string:\n",
    "#         cnt += 1"
   ]
  },
  {
   "attachments": {},
   "cell_type": "markdown",
   "metadata": {},
   "source": [
    "### 1) "
   ]
  },
  {
   "cell_type": "code",
   "execution_count": null,
   "metadata": {},
   "outputs": [],
   "source": [
    "string = input()\n",
    "n = int(input())\n",
    "cnt = 0 # 찾고자하는 문자열이 포함된 반지의 개수\n",
    "for _ in range(n):\n",
    "    ring = input()\n",
    "    # 찾고자하는 문자열이 원래 반지에 포함되어 있으면 개수 + 1\n",
    "    if string in ring:\n",
    "        cnt += 1\n",
    "    else:\n",
    "        # 문자열의 길이부터 0까지 역순으로\n",
    "        for i in range(len(string), 0, -1):\n",
    "            # 반지에서 (10 - (i-1))인 값의 인덱스부터 끝까지 + 반지의 처음부터 (문자열의 길이 - i)인 값의 인덱스까지 \n",
    "            if ring[10-(i-1):] + ring[:len(string)-i] == string:\n",
    "                cnt += 1\n",
    "    print(cnt)"
   ]
  },
  {
   "attachments": {},
   "cell_type": "markdown",
   "metadata": {},
   "source": [
    "-> 틀림"
   ]
  },
  {
   "attachments": {},
   "cell_type": "markdown",
   "metadata": {},
   "source": [
    "### 통과)"
   ]
  },
  {
   "cell_type": "code",
   "execution_count": null,
   "metadata": {},
   "outputs": [],
   "source": [
    "string = input()\n",
    "n = int(input())\n",
    "cnt = 0 # 찾고자하는 문자열이 포함된 반지의 개수\n",
    "for _ in range(n):\n",
    "    ring = input()\n",
    "    # 반지를 하나 더 연결\n",
    "    ring += ring\n",
    "    for i in range(20):\n",
    "        if string == ring[i:len(string)+i]:\n",
    "            cnt += 1\n",
    "            break\n",
    "print(cnt)"
   ]
  },
  {
   "attachments": {},
   "cell_type": "markdown",
   "metadata": {},
   "source": [
    "-> 처음부터 반지를 하나 더 연결해서 인덱스로 슬라이싱"
   ]
  },
  {
   "cell_type": "code",
   "execution_count": null,
   "metadata": {},
   "outputs": [],
   "source": [
    "# 과정 확인"
   ]
  },
  {
   "cell_type": "code",
   "execution_count": 15,
   "metadata": {},
   "outputs": [
    {
     "name": "stdout",
     "output_type": "stream",
     "text": [
      "찾고자 하는 문자열: YZA\n",
      "개수: 0 \n",
      "\n",
      "반지: ZAAAAAAAXY\n",
      "연결된 반지: ZAAAAAAAXYZAAAAAAAXY \n",
      "\n",
      "ring[i:len(string)+i]: YZA\n",
      "개수: 1 \n",
      "\n",
      "1\n"
     ]
    }
   ],
   "source": [
    "string = input()\n",
    "print('찾고자 하는 문자열:', string)\n",
    "n = int(input())\n",
    "cnt = 0 # 찾고자하는 문자열이 포함된 반지의 개수\n",
    "for _ in range(n):\n",
    "    print('개수:', cnt, '\\n')\n",
    "    ring = input()\n",
    "    print('반지:', ring)\n",
    "    ring += ring\n",
    "    print('연결된 반지:', ring, '\\n')\n",
    "    for i in range(20):\n",
    "        if string == ring[i:len(string)+i]:\n",
    "            print('ring[i:len(string)+i]:', ring[i:len(string)+i])\n",
    "            cnt += 1\n",
    "            print('개수:', cnt, '\\n')\n",
    "            break\n",
    "print(cnt)"
   ]
  }
 ],
 "metadata": {
  "kernelspec": {
   "display_name": "base",
   "language": "python",
   "name": "python3"
  },
  "language_info": {
   "codemirror_mode": {
    "name": "ipython",
    "version": 3
   },
   "file_extension": ".py",
   "mimetype": "text/x-python",
   "name": "python",
   "nbconvert_exporter": "python",
   "pygments_lexer": "ipython3",
   "version": "3.9.7"
  },
  "orig_nbformat": 4
 },
 "nbformat": 4,
 "nbformat_minor": 2
}

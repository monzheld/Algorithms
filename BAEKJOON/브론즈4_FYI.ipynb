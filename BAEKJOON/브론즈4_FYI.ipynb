{
 "cells": [
  {
   "attachments": {},
   "cell_type": "markdown",
   "metadata": {},
   "source": [
    "17863번\n",
    "\n",
    "[문제](https://www.acmicpc.net/problem/17863)"
   ]
  },
  {
   "attachments": {},
   "cell_type": "markdown",
   "metadata": {},
   "source": [
    "### 문자열"
   ]
  },
  {
   "attachments": {},
   "cell_type": "markdown",
   "metadata": {},
   "source": [
    "- In the United States of America, telephone numbers within an area code consist of 7 digits\n",
    "    - the **prefix number is the first 3 digits** and the line number is the last 4 digits\n",
    "- Traditionally, the 555 prefix number has been used to provide directory information\n",
    "    - 555-1212\n",
    "    - 555-9876\n",
    "    - 555-5000\n",
    "    - 555-7777\n",
    "- Telephone company switching hardware would detect the 555 prefix and route the call to a directory information operator. \n",
    "- write a program that determines if a supplied 7-digit telephone number should be routed to the directory information operator, that is, **the prefix number is 555**."
   ]
  },
  {
   "attachments": {},
   "cell_type": "markdown",
   "metadata": {},
   "source": [
    "- 입력\n",
    "    - The input consists of a single line containing a 7-digit positive integer N (1000000 <= N <= 9999999)\n",
    "- 출력\n",
    "    - The single output line consists of the word YES if the number should be routed to the directory information operator or NO if the number should not be routed to the directory information operator.\n",
    "\n",
    "- 시간 제한: 1초\n",
    "- 메모리 제한: 512 MB"
   ]
  },
  {
   "cell_type": "code",
   "execution_count": null,
   "metadata": {},
   "outputs": [],
   "source": [
    "\"\"\"\n",
    "입출력 예시)\n",
    "\n",
    "(예제 입력 1) \n",
    "5551212\n",
    "        -> YES\n",
    "\n",
    "(예제 입력 2) \n",
    "5519876\n",
    "        -> NO\n",
    "\n",
    "(예제 입력 3) \n",
    "5055555\n",
    "        -> NO\n",
    "\n",
    "(예제 입력 4) \n",
    "5550000\n",
    "        -> YES\n",
    "\"\"\""
   ]
  },
  {
   "attachments": {},
   "cell_type": "markdown",
   "metadata": {},
   "source": [
    "## 2023/06/28"
   ]
  },
  {
   "cell_type": "code",
   "execution_count": null,
   "metadata": {},
   "outputs": [],
   "source": [
    "## 의사코드 ##\n",
    "\n",
    "# 맨 앞 3자리가 555이면 yes\n",
    "\n",
    "# int는 슬라이싱 불가\n",
    "# -> 문자열로 입력 받기"
   ]
  },
  {
   "attachments": {},
   "cell_type": "markdown",
   "metadata": {},
   "source": [
    "### 통과)"
   ]
  },
  {
   "cell_type": "code",
   "execution_count": 4,
   "metadata": {},
   "outputs": [
    {
     "name": "stdout",
     "output_type": "stream",
     "text": [
      "NO\n"
     ]
    }
   ],
   "source": [
    "phone = input()\n",
    "print('YES' if phone[:3]=='555' else 'NO')"
   ]
  }
 ],
 "metadata": {
  "kernelspec": {
   "display_name": "base",
   "language": "python",
   "name": "python3"
  },
  "language_info": {
   "codemirror_mode": {
    "name": "ipython",
    "version": 3
   },
   "file_extension": ".py",
   "mimetype": "text/x-python",
   "name": "python",
   "nbconvert_exporter": "python",
   "pygments_lexer": "ipython3",
   "version": "3.9.7"
  },
  "orig_nbformat": 4
 },
 "nbformat": 4,
 "nbformat_minor": 2
}

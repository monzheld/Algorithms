{
 "cells": [
  {
   "attachments": {},
   "cell_type": "markdown",
   "metadata": {},
   "source": [
    "17249번\n",
    "\n",
    "[문제](https://www.acmicpc.net/problem/17249)"
   ]
  },
  {
   "attachments": {},
   "cell_type": "markdown",
   "metadata": {},
   "source": [
    "### 문자열"
   ]
  },
  {
   "attachments": {},
   "cell_type": "markdown",
   "metadata": {},
   "source": [
    "- 태보(TaeBo)란, 태권도와 복싱을 조합한 운동\n",
    "- 복싱의 공격 기술로는 민첩하게 앞주먹을 뻗으면서 가볍게 치는 잽, 옆으로 치는 펀치인 훅이 있음\n",
    "- 선풍적인 인기에 태보 강의를 들으며 태보를 마스터한 혜정이는 이제 펀치 속도가 워낙 빨라서 잽과 훅을 반복하다보면 잔상이 남음\n",
    "- 얼굴의 왼편에 왼손의 잔상이, 오른편에는 오른손이 잔상이 남을 때 혜정이는 주먹을 몇 번 뻗었는지 구하기\n",
    "- 주먹의 잔상은 =로 시작하여 @로 끝나고, 잔상이 남지 않는 경우는 없음\n",
    "- 얼굴 형태가 (^0^) 꼴이고, 주먹의 잔상이 같은 곳에 위치하지 않음"
   ]
  },
  {
   "attachments": {},
   "cell_type": "markdown",
   "metadata": {},
   "source": [
    "- 입력\n",
    "    - 문자열의 길이는 1,000을 넘지 않음\n",
    "- 출력\n",
    "    - 첫째 줄에 **왼손의 잔상의 수와 오른손의 잔상의 수를 출력**\n",
    "\n",
    "- 시간 제한: 1초\n",
    "- 메모리 제한: 256 MB\n"
   ]
  },
  {
   "cell_type": "code",
   "execution_count": null,
   "metadata": {},
   "outputs": [],
   "source": [
    "\"\"\"\n",
    "입출력 예시)\n",
    "\n",
    "@===@==@=@==(^0^)==@=@===@\n",
    "                            -> 4 3\n",
    "\"\"\""
   ]
  },
  {
   "attachments": {},
   "cell_type": "markdown",
   "metadata": {},
   "source": [
    "## 2023/05/26"
   ]
  },
  {
   "cell_type": "code",
   "execution_count": null,
   "metadata": {},
   "outputs": [],
   "source": [
    "## 의사코드 ##\n",
    "\n",
    "# 얼굴을 기준으로 왼쪽과 오른쪽으로 분리\n",
    "# left_s, right_s = sys.stdin.readline().split('(^0^)')\n",
    "\n",
    "# left = 0 # 왼쪽 잔상의 수 \n",
    "# right = 0 # 오른쪽 잔상의 수\n",
    "\n",
    "# 왼쪽과 오른쪽 각각 for문을 돌면서 '@'가 나오면 카운트"
   ]
  },
  {
   "attachments": {},
   "cell_type": "markdown",
   "metadata": {},
   "source": [
    "### 통과)"
   ]
  },
  {
   "cell_type": "code",
   "execution_count": 6,
   "metadata": {},
   "outputs": [
    {
     "name": "stdout",
     "output_type": "stream",
     "text": [
      "4 3\n"
     ]
    }
   ],
   "source": [
    "import sys\n",
    "# 얼굴을 기준으로 왼쪽과 오른쪽으로 분리\n",
    "left_s, right_s = sys.stdin.readline().split('(^0^)')\n",
    "\n",
    "left = 0 # 왼쪽 잔상의 수 \n",
    "right = 0 # 오른쪽 잔상의 수\n",
    "\n",
    "# 왼쪽\n",
    "for l in left_s:\n",
    "    if l == '@':\n",
    "        left += 1\n",
    "\n",
    "# 오른쪽\n",
    "for r in right_s:\n",
    "    if r == '@':\n",
    "        right += 1\n",
    "\n",
    "print(left, right)"
   ]
  }
 ],
 "metadata": {
  "kernelspec": {
   "display_name": "base",
   "language": "python",
   "name": "python3"
  },
  "language_info": {
   "codemirror_mode": {
    "name": "ipython",
    "version": 3
   },
   "file_extension": ".py",
   "mimetype": "text/x-python",
   "name": "python",
   "nbconvert_exporter": "python",
   "pygments_lexer": "ipython3",
   "version": "3.9.7"
  },
  "orig_nbformat": 4
 },
 "nbformat": 4,
 "nbformat_minor": 2
}

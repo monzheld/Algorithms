{
 "cells": [
  {
   "attachments": {},
   "cell_type": "markdown",
   "metadata": {},
   "source": [
    "2693번\n",
    "\n",
    "[문제](https://www.acmicpc.net/problem/2693)"
   ]
  },
  {
   "attachments": {},
   "cell_type": "markdown",
   "metadata": {},
   "source": [
    "### 정렬"
   ]
  },
  {
   "attachments": {},
   "cell_type": "markdown",
   "metadata": {},
   "source": [
    "- 배열 A가 주어졌을 때, N번째 큰 값을 출력하기\n",
    "- 배열 A의 크기는 항상 10이고, 자연수만 가지고 있음\n",
    "- **N은 항상 3**"
   ]
  },
  {
   "attachments": {},
   "cell_type": "markdown",
   "metadata": {},
   "source": [
    "- 입력\n",
    "    - 첫째 줄에 테스트 케이스의 개수 T(1 ≤ T ≤ 1,000)가 주어짐\n",
    "    - 각 테스트 케이스는 한 줄로 이루어져 있고, 배열 A의 원소 10개가 공백으로 구분되어 주어짐\n",
    "    - 이 원소는 1보다 크거나 같고, 1,000보다 작거나 같은 자연수\n",
    "- 출력\n",
    "    - 각 테스트 케이스에 대해 한 줄에 하나씩 **배열 A에서 3번째 큰 값**을 출력\n",
    "\n",
    "- 시간 제한: 1초\n",
    "- 메모리 제한: 32 MB"
   ]
  },
  {
   "cell_type": "code",
   "execution_count": null,
   "metadata": {},
   "outputs": [],
   "source": [
    "\"\"\"\n",
    "입출력 예시)\n",
    "\n",
    "4\n",
    "1 2 3 4 5 6 7 8 9 1000\n",
    "338 304 619 95 343 496 489 116 98 127\n",
    "931 240 986 894 826 640 965 833 136 138\n",
    "940 955 364 188 133 254 501 122 768 408\n",
    "                                        -> 8\n",
    "                                           489\n",
    "                                           931\n",
    "                                           768\n",
    "\"\"\""
   ]
  },
  {
   "attachments": {},
   "cell_type": "markdown",
   "metadata": {},
   "source": [
    "## 2023/03/24"
   ]
  },
  {
   "cell_type": "code",
   "execution_count": null,
   "metadata": {},
   "outputs": [],
   "source": [
    "## 의사코드 ##\n",
    "\n",
    "# 배열 A에서 3번째 큰 값\n",
    "\n",
    "# 배열 내림차순 정렬\n",
    "#nums.sort(reverse=True)\n",
    "\n",
    "# 3번째 큰 값\n",
    "#nums[2]"
   ]
  },
  {
   "attachments": {},
   "cell_type": "markdown",
   "metadata": {},
   "source": [
    "### 통과)"
   ]
  },
  {
   "cell_type": "code",
   "execution_count": 1,
   "metadata": {},
   "outputs": [
    {
     "name": "stdout",
     "output_type": "stream",
     "text": [
      "8\n",
      "489\n",
      "931\n",
      "768\n"
     ]
    }
   ],
   "source": [
    "t = int(input())\n",
    "for _ in range(t):\n",
    "    nums = list(map(int, input().split()))\n",
    "    # 내림차순 정렬\n",
    "    nums.sort(reverse=True)\n",
    "    # 3번째 큰 값 출력\n",
    "    print(nums[2])"
   ]
  }
 ],
 "metadata": {
  "kernelspec": {
   "display_name": "base",
   "language": "python",
   "name": "python3"
  },
  "language_info": {
   "codemirror_mode": {
    "name": "ipython",
    "version": 3
   },
   "file_extension": ".py",
   "mimetype": "text/x-python",
   "name": "python",
   "nbconvert_exporter": "python",
   "pygments_lexer": "ipython3",
   "version": "3.9.7"
  },
  "orig_nbformat": 4
 },
 "nbformat": 4,
 "nbformat_minor": 2
}

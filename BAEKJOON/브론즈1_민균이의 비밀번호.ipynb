{
 "cells": [
  {
   "attachments": {},
   "cell_type": "markdown",
   "metadata": {},
   "source": [
    "9933번\n",
    "\n",
    "[문제](https://www.acmicpc.net/problem/9933)"
   ]
  },
  {
   "attachments": {},
   "cell_type": "markdown",
   "metadata": {},
   "source": [
    "### 문자열"
   ]
  },
  {
   "attachments": {},
   "cell_type": "markdown",
   "metadata": {},
   "source": [
    "- 민균이의 **비밀번호는 목록에 포함되어 있으며, 비밀번호를 뒤집어서 쓴 문자열도 포함**되어 있음\n",
    "- 예를 들어, 민균이의 비밀번호가 \"tulipan\"인 경우에 목록에는 \"napilut\"도 존재해야 함\n",
    "- 민균이의 파일에 적혀있는 단어가 모두 주어졌을 때, 비밀번호의 길이와 가운데 글자를 출력하기"
   ]
  },
  {
   "attachments": {},
   "cell_type": "markdown",
   "metadata": {},
   "source": [
    "- 입력\n",
    "    - 첫째 줄에 단어의 수 N (2 ≤ N ≤ 100)이 주어짐\n",
    "    - 다음 N개 줄에는 파일에 적혀있는 단어가 한 줄에 하나씩 주어짐\n",
    "    - 단어는 알파벳 소문자로만 이루어져 있으며, 길이는 2보다 크고 14보다 작은 홀수\n",
    "- 출력\n",
    "    - 첫째 줄에 **비밀번호의 길이와 가운데 글자를 출력**\n",
    "    - 항상 답이 유일한 경우만 입력으로 주어짐\n",
    "\n",
    "- 시간 제한: 1초\n",
    "- 메모리 제한: 128 MB"
   ]
  },
  {
   "cell_type": "code",
   "execution_count": null,
   "metadata": {},
   "outputs": [],
   "source": [
    "\"\"\"\n",
    "입출력 예시)\n",
    "\n",
    "(예제 입력 1) \n",
    "4\n",
    "las\n",
    "god\n",
    "psala\n",
    "sal\n",
    "    -> 3 a\n",
    "\n",
    "(예제 입력 2) \n",
    "4\n",
    "kisik\n",
    "ptq\n",
    "tttrp\n",
    "tulipan\n",
    "        -> 5 s\n",
    "\"\"\""
   ]
  },
  {
   "attachments": {},
   "cell_type": "markdown",
   "metadata": {},
   "source": [
    "## 2023/05/13"
   ]
  },
  {
   "cell_type": "code",
   "execution_count": null,
   "metadata": {},
   "outputs": [],
   "source": [
    "## 의사코드 ##\n",
    "\n",
    "# 목록에 포함되어 있는 단어이면서 뒤집어서 쓴 문자열도 목록에 포함되어있는 단어가 비밀번호\n",
    "# for w in words:\n",
    "#     if w[::-1] in words:\n",
    "#         password = w\n",
    "\n",
    "# 단어의 길이는 2보다 크고 14보다 작은 홀수\n",
    "    # -> 항상 홀수만 주어짐\n",
    "# 비밀번호의 가운데 글자 \n",
    "# password[len(password)//2]"
   ]
  },
  {
   "attachments": {},
   "cell_type": "markdown",
   "metadata": {},
   "source": [
    "### 통과)"
   ]
  },
  {
   "cell_type": "code",
   "execution_count": 3,
   "metadata": {},
   "outputs": [
    {
     "name": "stdout",
     "output_type": "stream",
     "text": [
      "5 s\n"
     ]
    }
   ],
   "source": [
    "n = int(input())\n",
    "words = [] # 단어를 담은 리스트\n",
    "for _ in range(n):\n",
    "    words.append(input())\n",
    "\n",
    "# 목록에 포함되어 있는 단어이면서 뒤집어서 쓴 문자열도 목록에 포함되어있는 단어가 비밀번호\n",
    "for w in words:\n",
    "    if w[::-1] in words:\n",
    "        password = w\n",
    "\n",
    "# 비밀번호의 길이와 가운데 글자 출력\n",
    "print(len(password), password[len(password)//2])"
   ]
  }
 ],
 "metadata": {
  "kernelspec": {
   "display_name": "base",
   "language": "python",
   "name": "python3"
  },
  "language_info": {
   "codemirror_mode": {
    "name": "ipython",
    "version": 3
   },
   "file_extension": ".py",
   "mimetype": "text/x-python",
   "name": "python",
   "nbconvert_exporter": "python",
   "pygments_lexer": "ipython3",
   "version": "3.9.7"
  },
  "orig_nbformat": 4
 },
 "nbformat": 4,
 "nbformat_minor": 2
}

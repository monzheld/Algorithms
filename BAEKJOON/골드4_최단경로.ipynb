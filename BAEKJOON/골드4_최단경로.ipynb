{
 "cells": [
  {
   "attachments": {},
   "cell_type": "markdown",
   "metadata": {},
   "source": [
    "1753번\n",
    "\n",
    "[문제](https://www.acmicpc.net/problem/1753)"
   ]
  },
  {
   "attachments": {},
   "cell_type": "markdown",
   "metadata": {},
   "source": [
    "### 다익스트라"
   ]
  },
  {
   "attachments": {},
   "cell_type": "markdown",
   "metadata": {},
   "source": [
    "- 방향그래프가 주어지면 **주어진 시작점에서 다른 모든 정점으로의 최단 경로** 구하기\n",
    "- 단, 모든 간선의 가중치는 10 이하의 자연수"
   ]
  },
  {
   "attachments": {},
   "cell_type": "markdown",
   "metadata": {},
   "source": [
    "- 입력\n",
    "    - 첫째 줄에 정점의 개수 V와 간선의 개수 E가 주어짐 (1 ≤ V ≤ 20,000, 1 ≤ E ≤ 300,000)\n",
    "        - 모든 정점에는 1부터 V까지 번호가 매겨져 있다고 가정\n",
    "    - 둘째 줄에는 시작 정점의 번호 K (1 ≤ K ≤ V)가 주어짐\n",
    "    - 셋째 줄부터 E개의 줄에 걸쳐 각 간선을 나타내는 세 개의 정수 (u, v, w)가 순서대로 주어짐\n",
    "        - u에서 v로 가는 가중치 w인 간선이 존재한다는 뜻\n",
    "        - u와 v는 서로 다르며 w는 10 이하의 자연수\n",
    "    - 서로 다른 두 정점 사이에 **여러 개의 간선이 존재할 수도 있음에 유의**\n",
    "- 출력\n",
    "    - 첫째 줄부터 V개의 줄에 걸쳐, i번째 줄에 **i번 정점으로의 최단 경로의 경로값**을 출력\n",
    "    - 시작점 자신은 0으로 출력하고, 경로가 존재하지 않는 경우에는 INF를 출력\n",
    "\n",
    "- 시간 제한: 1초\n",
    "- 메모리 제한: 256 MB"
   ]
  },
  {
   "cell_type": "code",
   "execution_count": null,
   "metadata": {},
   "outputs": [],
   "source": [
    "\"\"\"\n",
    "입출력 예시)\n",
    "\n",
    "5 6\n",
    "1\n",
    "5 1 1\n",
    "1 2 2\n",
    "1 3 3\n",
    "2 3 4\n",
    "2 4 5\n",
    "3 4 6\n",
    "\n",
    "    -> 0\n",
    "       2\n",
    "       3\n",
    "       7\n",
    "       INF\n",
    "\"\"\""
   ]
  },
  {
   "attachments": {},
   "cell_type": "markdown",
   "metadata": {},
   "source": [
    "## 2023/01/17"
   ]
  },
  {
   "cell_type": "code",
   "execution_count": null,
   "metadata": {},
   "outputs": [],
   "source": [
    "## 의사코드 ##\n",
    "\n",
    "# 주어진 시작점에서 다른 모든 정점으로의 최단 경로 -> 다익스트라\n",
    "# -> heapq로 구현\n",
    "\n",
    "# 첫 정점을 기준으로 배열을 선언하여 첫 정점에서 각 정점까지의 거리 저장\n",
    "#     첫 정점의 거리는 0, 나머지는 무한대\n",
    "# -> distances = {node: float('inf') for node in graph}\n",
    "# -> distances[start] = 0\n",
    "\n",
    "# 우선순위 큐에 [거리, 첫 정점] 저장\n",
    "# -> q = []\n",
    "# -> heapq.heappush(q, [distances[start], start])\n",
    "\n",
    "# while q:\n",
    "#     # 우선순위 큐에서 최소 거리를 가진 노드를 pop\n",
    "#     현재 거리, 현재 노드 = heapq.heappop(q)\n",
    "#     # 배열에 기록된 현재까지 발견된 가장 짧은 거리보다 더 긴 거리를 가진 경우, 해당 노드와 인접한 노드간의 거리 계산을 하지 않고 skip \n",
    "#     if distances[현재 노드] < 현재 거리:\n",
    "#         continue\n",
    "#     # 주어진 시작점에서 해당 노드로 가는 거리 비교\n",
    "#     for adj, weight in graph[현재 노드].items():\n",
    "#         distance = 현재 거리 + weight\n",
    "#         # 배열에 저장되어 있는 거리보다 주어진 시작점에서 해당 노드로 가는 거리가 더 짧을 경우, 배열에 해당 노드의 거리를 업데이트\n",
    "#         if distance < distances[adj]:\n",
    "#             # 최단 거리로 업데이트\n",
    "#             distances[adj] = distance\n",
    "#             # 우선순위 큐에 삽입\n",
    "#             heapq.heappush(q, [distance, adj])\n",
    "\n",
    "# for i in range(1, V+1):\n",
    "#     # 경로가 존재하지 않는 경우 INF 출력\n",
    "#     if distances[i] == float('inf'):\n",
    "#         distances[i] = 'INF'\n",
    "#     print(distances[i])"
   ]
  },
  {
   "attachments": {},
   "cell_type": "markdown",
   "metadata": {},
   "source": [
    "### 1)"
   ]
  },
  {
   "cell_type": "code",
   "execution_count": null,
   "metadata": {},
   "outputs": [],
   "source": [
    "import sys \n",
    "import heapq\n",
    "input = sys.stdin.readline\n",
    "\n",
    "V, E = map(int, input().split())\n",
    "k = int(input()) # 시작 정점의 번호(start)\n",
    "\n",
    "# 그래프에 값 입력\n",
    "graph = {}\n",
    "for i in range(E):\n",
    "    u, v, w = map(int, input().split())\n",
    "    graph[u].append([v, w]) # [노드, 가중치]\n",
    "\n",
    "# 시작 정점에서 각 정점까지의 거리 초기화 (무한대)\n",
    "distances = {node:float('inf') for node in graph}\n",
    "# 시작 정점의 거리는 0\n",
    "distances[k] = 0\n",
    "\n",
    "# 우선순위 큐에 [거리, 시작 정점] 저장\n",
    "q = []\n",
    "heapq.heappush(q, [distances[k], k])\n",
    "\n",
    "while q:\n",
    "    current_distance, current_node = heapq.heappop(q)\n",
    "    if distances[current_node] < current_distance:\n",
    "        continue \n",
    "    for adj, weight in graph[current_node].items():\n",
    "        distance = current_distance + weight\n",
    "        if distance < distances[adj]:\n",
    "            distances[adj] = distance\n",
    "            heapq.heappush(q, [distance, adj])\n",
    "\n",
    "for i in range(1, V+1):\n",
    "    if distances[i] == float('inf'):\n",
    "        distances[i] = 'INF'\n",
    "    print(distances[i], end=' ')"
   ]
  },
  {
   "attachments": {},
   "cell_type": "markdown",
   "metadata": {},
   "source": [
    "-> 런타임 에러"
   ]
  },
  {
   "attachments": {},
   "cell_type": "markdown",
   "metadata": {},
   "source": [
    "for문으로 출력하는 거니까 end=' '할 필요 없음"
   ]
  },
  {
   "attachments": {},
   "cell_type": "markdown",
   "metadata": {},
   "source": [
    "### 통과)"
   ]
  },
  {
   "cell_type": "code",
   "execution_count": null,
   "metadata": {},
   "outputs": [],
   "source": [
    "import sys \n",
    "import heapq\n",
    "input = sys.stdin.readline\n",
    "\n",
    "V, E = map(int, input().split())\n",
    "k = int(input()) # 시작 정점의 번호(start)\n",
    "\n",
    "# 그래프에 값 입력\n",
    "graph = [[] for i in range(V+1)]\n",
    "for i in range(E):\n",
    "    u, v, w = map(int, input().split())\n",
    "    graph[u].append((v, w)) # [노드, 가중치]\n",
    "\n",
    "# 시작 정점에서 각 정점까지의 거리 초기화 (무한대)\n",
    "distances = [float('inf')] * (V+1)\n",
    "# 시작 정점의 거리는 0\n",
    "distances[k] = 0\n",
    "\n",
    "# 우선순위 큐에 [거리, 시작 정점] 저장\n",
    "q = []\n",
    "heapq.heappush(q, (distances[k], k))\n",
    "\n",
    "while q:\n",
    "    # 우선순위 큐에서 최소 거리를 가진 노드를 pop\n",
    "    current_distance, current_node = heapq.heappop(q)\n",
    "    # distances에 기록된 현재까지 발견된 가장 짧은 거리보다 더 긴 거리를 가진 경우, 해당 노드와 인접한 노드간의 거리 계산을 하지 않고 skip \n",
    "    if distances[current_node] < current_distance:\n",
    "        continue \n",
    "    # 주어진 시작점에서 해당 노드로 가는 거리 비교\n",
    "    for adj, weight in graph[current_node]:\n",
    "        distance = current_distance + weight\n",
    "        # distances에 저장되어 있는 거리보다 주어진 시작점에서 해당 노드로 가는 거리가 더 짧을 경우, 배열에 해당 노드의 거리를 업데이트\n",
    "        if distance < distances[adj]:\n",
    "            # 최단 거리로 업데이트\n",
    "            distances[adj] = distance\n",
    "            # 우선순위 큐에 삽입\n",
    "            heapq.heappush(q, (distance, adj))\n",
    "\n",
    "for i in range(1, V+1):\n",
    "    # 경로가 존재하지 않는 경우 INF 출력\n",
    "    if distances[i] == float('inf'):\n",
    "        distances[i] = 'INF'\n",
    "    print(distances[i])"
   ]
  },
  {
   "attachments": {},
   "cell_type": "markdown",
   "metadata": {},
   "source": [
    "-> graph와 distances를 길이가 정해진 리스트로 구현"
   ]
  },
  {
   "attachments": {},
   "cell_type": "markdown",
   "metadata": {},
   "source": [
    "-> 튜플로 삽입: 메모리 68224 KB / 시간: 700 ms"
   ]
  },
  {
   "cell_type": "code",
   "execution_count": 10,
   "metadata": {},
   "outputs": [
    {
     "name": "stdout",
     "output_type": "stream",
     "text": [
      "graph: [[], [(2, 2), (3, 3)], [(3, 4)], [], [], [(1, 1)]]\n",
      "graph[5]: [(1, 1)]\n"
     ]
    }
   ],
   "source": [
    "# graph 입력 예시 \n",
    "V = 5\n",
    "graph = [[] for i in range(V+1)]\n",
    "\n",
    "graph[5].append((1, 1))\n",
    "graph[1].append((2, 2))\n",
    "graph[1].append((3, 3))\n",
    "graph[2].append((3, 4))\n",
    "\n",
    "print('graph:', graph)\n",
    "print('graph[5]:', graph[5])"
   ]
  },
  {
   "cell_type": "code",
   "execution_count": null,
   "metadata": {},
   "outputs": [],
   "source": [
    "# cf) 리스트로 삽입하는 경우"
   ]
  },
  {
   "cell_type": "code",
   "execution_count": null,
   "metadata": {},
   "outputs": [],
   "source": [
    "import sys \n",
    "import heapq\n",
    "input = sys.stdin.readline\n",
    "\n",
    "V, E = map(int, input().split())\n",
    "k = int(input()) # 시작 정점의 번호(start)\n",
    "\n",
    "# 그래프에 값 입력\n",
    "graph = [[] for i in range(V+1)]\n",
    "for i in range(E):\n",
    "    u, v, w = map(int, input().split())\n",
    "    graph[u].append([v, w]) # [노드, 가중치]\n",
    "\n",
    "# 시작 정점에서 각 정점까지의 거리 초기화 (무한대)\n",
    "distances = [float('inf')] * (V+1)\n",
    "# 시작 정점의 거리는 0\n",
    "distances[k] = 0\n",
    "\n",
    "# 우선순위 큐에 [거리, 시작 정점] 저장\n",
    "q = []\n",
    "heapq.heappush(q, [distances[k], k])\n",
    "\n",
    "while q:\n",
    "    current_distance, current_node = heapq.heappop(q)\n",
    "    if distances[current_node] < current_distance:\n",
    "        continue \n",
    "    for adj, weight in graph[current_node]:\n",
    "        distance = current_distance + weight\n",
    "        if distance < distances[adj]:\n",
    "            distances[adj] = distance\n",
    "            heapq.heappush(q, [distance, adj])\n",
    "\n",
    "for i in range(1, V+1):\n",
    "    if distances[i] == float('inf'):\n",
    "        distances[i] = 'INF'\n",
    "    print(distances[i])"
   ]
  },
  {
   "attachments": {},
   "cell_type": "markdown",
   "metadata": {},
   "source": [
    "-> 리스트로 삽입: 메모리 73388 KB / 시간: 912 ms"
   ]
  },
  {
   "attachments": {},
   "cell_type": "markdown",
   "metadata": {},
   "source": [
    "### 다른 풀이"
   ]
  },
  {
   "cell_type": "code",
   "execution_count": null,
   "metadata": {},
   "outputs": [],
   "source": [
    "import sys\n",
    "input = sys.stdin.readline\n",
    "import heapq \n",
    "INF = int(1e9) # 무한대의 값으로 10억 설정\n",
    "\n",
    "def dijkstra():\n",
    "    q = []\n",
    "    heapq.heappush(q, (0, start))\n",
    "    distance[start] = 0\n",
    "    while q: # 큐기 비어있지 않다면\n",
    "        # 최단 거리가 가장 짧은 노드에 대한 정보 꺼내기\n",
    "        dist, now = heapq.heappop(q)\n",
    "        # 현재 노드가 이미 처리된 적이 있는 노드라면 무시\n",
    "        if distance[now] < dist:\n",
    "            continue\n",
    "        # 현재 노드와 연결된 다른 인접한 노드들 확인\n",
    "        for i in graph[now]:\n",
    "            cost = dist + i[1]\n",
    "            # 현재 노드를 거쳐 다른 노드로 가는 거리가 더 짧다면\n",
    "            if cost < distance[i[0]]:\n",
    "                distance[i[0]] = cost\n",
    "                heapq.heappush(q, (cost, i[0]))\n",
    "\n",
    "# 노드의 개수, 간선의 개수\n",
    "n, m = map(int, input().split())\n",
    "# 시작 노드\n",
    "start = int(input())\n",
    "# 각 노드에 연결되어 있는 노드에 대한 정보를 담는 리스트\n",
    "graph = [[] for i in range(n+1)]\n",
    "# 최단 거리 테이블을 모두 무한으로 초기화\n",
    "distance = [INF] * (n+1)\n",
    "\n",
    "# 모든 간선 정보 입력받기\n",
    "for _ in range(m):\n",
    "    a, b, c = map(int, input().split())\n",
    "    # a번 노드에서 b번 노드로 가는 비용이 c\n",
    "    graph[a].append((b, c))\n",
    "\n",
    "# 다익스트라 알고리즘 수행\n",
    "dijkstra()\n",
    "\n",
    "# 각 노드로 가기 위한 최단 거리 출력\n",
    "for i in range(1, n+1):\n",
    "    if distance[i] == 1e9:\n",
    "        print('INF')\n",
    "    else:\n",
    "        print(distance[i])"
   ]
  }
 ],
 "metadata": {
  "kernelspec": {
   "display_name": "base",
   "language": "python",
   "name": "python3"
  },
  "language_info": {
   "codemirror_mode": {
    "name": "ipython",
    "version": 3
   },
   "file_extension": ".py",
   "mimetype": "text/x-python",
   "name": "python",
   "nbconvert_exporter": "python",
   "pygments_lexer": "ipython3",
   "version": "3.9.7"
  },
  "orig_nbformat": 4,
  "vscode": {
   "interpreter": {
    "hash": "023ab38ef701cca529efce9465407c28b5ba779ced3f1a89865b89edb313b240"
   }
  }
 },
 "nbformat": 4,
 "nbformat_minor": 2
}

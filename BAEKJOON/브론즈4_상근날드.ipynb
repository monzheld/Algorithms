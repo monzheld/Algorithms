{
 "cells": [
  {
   "attachments": {},
   "cell_type": "markdown",
   "metadata": {},
   "source": [
    "5543번\n",
    "\n",
    "[문제](https://www.acmicpc.net/problem/5543)"
   ]
  },
  {
   "attachments": {},
   "cell_type": "markdown",
   "metadata": {},
   "source": [
    "### 수학"
   ]
  },
  {
   "attachments": {},
   "cell_type": "markdown",
   "metadata": {},
   "source": [
    "- 주문할 때, 자신이 원하는 **햄버거와 음료를 하나씩 골라, 세트로 구매하면, 가격의 합계에서 50원을 뺀 가격이 세트 메뉴의 가격**\n",
    "- 햄버거는 총 3종류 상덕버거, 중덕버거, 하덕버거가 있고, 음료는 콜라와 사이다 두 종류가 있음\n",
    "- 햄버거와 음료의 가격이 주어졌을 때, **가장 싼 세트 메뉴의 가격을 출력**하기"
   ]
  },
  {
   "attachments": {},
   "cell_type": "markdown",
   "metadata": {},
   "source": [
    "- 입력\n",
    "    - 입력은 총 다섯 줄\n",
    "    - 첫째 줄에는 상덕버거, 둘째 줄에는 중덕버거, 셋째 줄에는 하덕버거의 가격이 주어짐\n",
    "    - 넷째 줄에는 콜라의 가격, 다섯째 줄에는 사이다의 가격이 주어짐\n",
    "    - 모든 가격은 100원 이상, 2000원 이하\n",
    "- 출력\n",
    "    - 첫째 줄에 가장 싼 세트 메뉴의 가격을 출력"
   ]
  },
  {
   "cell_type": "code",
   "execution_count": null,
   "metadata": {},
   "outputs": [],
   "source": [
    "\"\"\"\n",
    "입출력 예시)\n",
    "\n",
    "(예제 입력 1) \n",
    "800\n",
    "700\n",
    "900\n",
    "198\n",
    "330\n",
    "    -> 848\n",
    "\n",
    "(예제 입력 2) \n",
    "1999\n",
    "1999\n",
    "100\n",
    "189\n",
    "100\n",
    "    -> 150   \n",
    "\"\"\""
   ]
  },
  {
   "attachments": {},
   "cell_type": "markdown",
   "metadata": {},
   "source": [
    "## 2023/05/23"
   ]
  },
  {
   "cell_type": "code",
   "execution_count": null,
   "metadata": {},
   "outputs": [],
   "source": [
    "## 의사코드 ##\n",
    "\n",
    "# 햄버거와 음료 리스트를 오름차순 정렬\n",
    "# burger.sort()\n",
    "# drink.sort()\n",
    "\n",
    "# 가장 싼 세트 메뉴 = 가장 싼 햄버거 + 가장 싼 음료 - 50\n",
    "# print(burger[0] + drink[0] - 50)"
   ]
  },
  {
   "attachments": {},
   "cell_type": "markdown",
   "metadata": {},
   "source": [
    "### 통과)"
   ]
  },
  {
   "cell_type": "code",
   "execution_count": 4,
   "metadata": {},
   "outputs": [
    {
     "name": "stdout",
     "output_type": "stream",
     "text": [
      "150\n"
     ]
    }
   ],
   "source": [
    "burger = []\n",
    "drink = []\n",
    "for i in range(5):\n",
    "    price = int(input())\n",
    "    if i < 3:\n",
    "        burger.append(price)\n",
    "    else:\n",
    "        drink.append(price)\n",
    "\n",
    "# 햄버거와 음료 리스트를 오름차순 정렬\n",
    "burger.sort()\n",
    "drink.sort()\n",
    "# 가장 싼 세트 메뉴 = 가장 싼 햄버거 + 가장 싼 음료 - 50\n",
    "print(burger[0] + drink[0] - 50)"
   ]
  }
 ],
 "metadata": {
  "kernelspec": {
   "display_name": "base",
   "language": "python",
   "name": "python3"
  },
  "language_info": {
   "codemirror_mode": {
    "name": "ipython",
    "version": 3
   },
   "file_extension": ".py",
   "mimetype": "text/x-python",
   "name": "python",
   "nbconvert_exporter": "python",
   "pygments_lexer": "ipython3",
   "version": "3.9.7"
  },
  "orig_nbformat": 4
 },
 "nbformat": 4,
 "nbformat_minor": 2
}

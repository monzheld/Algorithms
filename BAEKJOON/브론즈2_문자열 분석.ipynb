{
 "cells": [
  {
   "attachments": {},
   "cell_type": "markdown",
   "metadata": {},
   "source": [
    "10820번\n",
    "\n",
    "[문제](https://www.acmicpc.net/problem/10820)"
   ]
  },
  {
   "attachments": {},
   "cell_type": "markdown",
   "metadata": {},
   "source": [
    "### 문자열"
   ]
  },
  {
   "attachments": {},
   "cell_type": "markdown",
   "metadata": {},
   "source": [
    "- 문자열 N개가 주어질 때, 문자열에 포함되어 있는 **소문자, 대문자, 숫자, 공백의 개수** 구하기\n",
    "- 각 문자열은 알파벳 소문자, 대문자, 숫자, 공백으로만 이루어져 있음"
   ]
  },
  {
   "attachments": {},
   "cell_type": "markdown",
   "metadata": {},
   "source": [
    "- 입력\n",
    "    - 첫째 줄부터 N번째 줄까지 문자열이 주어짐 (1 ≤ N ≤ 100)\n",
    "    - 문자열의 길이는 100을 넘지 않음\n",
    "- 출력\n",
    "    - 첫째 줄부터 N번째 줄까지 **각각의 문자열에 대해서 소문자, 대문자, 숫자, 공백의 개수를 공백으로 구분**해 출력\n",
    "\n",
    "- 시간 제한: 1초\n",
    "- 메모리 제한: 256 MB"
   ]
  },
  {
   "cell_type": "code",
   "execution_count": null,
   "metadata": {},
   "outputs": [],
   "source": [
    "\"\"\"\n",
    "입출력 예시)\n",
    "\n",
    "This is String \n",
    "SPACE    1    SPACE \n",
    " S a M p L e I n P u T     \n",
    "0L1A2S3T4L5I6N7E8\n",
    "\n",
    "            -> 10 2 0 2\n",
    "               0 10 1 8\n",
    "               5 6 0 16\n",
    "               0 8 9 0\n",
    "\"\"\""
   ]
  },
  {
   "attachments": {},
   "cell_type": "markdown",
   "metadata": {},
   "source": [
    "## 2023/01/27"
   ]
  },
  {
   "cell_type": "code",
   "execution_count": null,
   "metadata": {},
   "outputs": [],
   "source": [
    "## 의사코드 ##\n",
    "\n",
    "# 소문자 -> islower()\n",
    "# 대문자 -> isupper()\n",
    "# 숫자 -> isdigit()\n",
    "# 공백 -> \" \"\n",
    "\n",
    "# cnt += 1"
   ]
  },
  {
   "attachments": {},
   "cell_type": "markdown",
   "metadata": {},
   "source": [
    "### 1) "
   ]
  },
  {
   "cell_type": "code",
   "execution_count": 26,
   "metadata": {},
   "outputs": [
    {
     "name": "stdout",
     "output_type": "stream",
     "text": [
      "0 0 0 0\n"
     ]
    }
   ],
   "source": [
    "import sys\n",
    "input = sys.stdin.readline\n",
    "input_str = input().split('\\n') \n",
    "\n",
    "lower, upper, digit, space = 0, 0, 0, 0\n",
    "\n",
    "for i in input_str:\n",
    "    for j in range(len(i)):\n",
    "        if i[j].islower():\n",
    "            lower += 1\n",
    "        elif i[j].isupper():\n",
    "            upper += 1\n",
    "        elif i[j].isdigit():\n",
    "            digit += 1\n",
    "        elif i[j] == \" \":\n",
    "            space += 1\n",
    "    print(lower, upper, digit, space)\n"
   ]
  },
  {
   "attachments": {},
   "cell_type": "markdown",
   "metadata": {},
   "source": [
    "-> 틀림"
   ]
  },
  {
   "attachments": {},
   "cell_type": "markdown",
   "metadata": {},
   "source": [
    "-> N개의 문자열을 한 번에 입력받아서 줄바꿈으로 나눈다고 생각했는데 문제에서는 문자열이 한 줄씩 주어짐"
   ]
  },
  {
   "attachments": {},
   "cell_type": "markdown",
   "metadata": {},
   "source": [
    "### 통과)"
   ]
  },
  {
   "cell_type": "code",
   "execution_count": 28,
   "metadata": {},
   "outputs": [],
   "source": [
    "import sys\n",
    "\n",
    "while True:\n",
    "    # 한 줄씩 입력\n",
    "    s = sys.stdin.readline().rstrip('\\n') # 문자열 맨 오른쪽의 줄바꿈 삭제\n",
    "    # 입력되는 값이 없으면 break \n",
    "    if not s:\n",
    "        break \n",
    "    lower, upper, digit, space = 0, 0, 0, 0\n",
    "    # 문자열 분석\n",
    "    for i in range(len(s)):\n",
    "        if s[i].islower():\n",
    "            lower += 1\n",
    "        elif s[i].isupper():\n",
    "            upper += 1\n",
    "        elif s[i].isdigit():\n",
    "            digit += 1\n",
    "        elif s[i] == \" \":\n",
    "            space += 1\n",
    "    print(lower, upper, digit, space)"
   ]
  },
  {
   "attachments": {},
   "cell_type": "markdown",
   "metadata": {},
   "source": [
    "-> while문으로 한 줄씩 입력받기 "
   ]
  }
 ],
 "metadata": {
  "kernelspec": {
   "display_name": "cp2",
   "language": "python",
   "name": "python3"
  },
  "language_info": {
   "codemirror_mode": {
    "name": "ipython",
    "version": 3
   },
   "file_extension": ".py",
   "mimetype": "text/x-python",
   "name": "python",
   "nbconvert_exporter": "python",
   "pygments_lexer": "ipython3",
   "version": "3.9.12"
  },
  "orig_nbformat": 4,
  "vscode": {
   "interpreter": {
    "hash": "5ca59c31ddc1bb1d3e926feef50b5ca0d1eacb2093eee1a1a79c0269dbb49758"
   }
  }
 },
 "nbformat": 4,
 "nbformat_minor": 2
}

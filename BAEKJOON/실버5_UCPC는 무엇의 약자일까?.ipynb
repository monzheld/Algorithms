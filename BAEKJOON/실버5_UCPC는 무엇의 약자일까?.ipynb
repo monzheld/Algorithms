{
 "cells": [
  {
   "attachments": {},
   "cell_type": "markdown",
   "metadata": {},
   "source": [
    "15904번\n",
    "\n",
    "[문제](https://www.acmicpc.net/problem/15904)"
   ]
  },
  {
   "attachments": {},
   "cell_type": "markdown",
   "metadata": {},
   "source": [
    "### 문자열, 탐욕(Greedy)"
   ]
  },
  {
   "attachments": {},
   "cell_type": "markdown",
   "metadata": {},
   "source": [
    "- 문자열이 주어지면 이 **문자열을 적절히 축약해서 \"UCPC\"로 만들 수 있는지** 확인하기\n",
    "- 축약이라는 것은 문자열에서 임의의 문자들을 제거하는 행동을 뜻함\n",
    "    - 예를 들면, \"apple\"에서 a와 e를 지워 \"ppl\"로 만들 수 있음\n",
    "    - \"University Computer Programming Contest\"에서 공백과 소문자를 모두 지워 \"UCPC\"로 만들 수 있음\n",
    "- 문자열을 비교할 때는 **대소문자를 구분**해 정확히 비교\n",
    "    - 예를 들어 \"UCPC\"와 \"UCpC\"는 다른 문자열\n",
    "    - 따라서 \"University Computer programming Contest\"를 \"UCPC\"로 축약할 수 있는 방법은 없음\n"
   ]
  },
  {
   "attachments": {},
   "cell_type": "markdown",
   "metadata": {},
   "source": [
    "- 입력\n",
    "    - 첫 번째 줄에 알파벳 대소문자, 공백으로 구성된 문자열이 주어짐\n",
    "    - 문자열의 길이는 최대 1,000자\n",
    "    - 문자열의 맨 앞과 맨 끝에 공백이 있는 경우는 없고, 공백이 연속해서 2번 이상 주어지는 경우도 없음\n",
    "- 출력\n",
    "    - 첫 번째 줄에 입력으로 **주어진 문자열을 적절히 축약해 \"UCPC\"로 만들 수 있으면 \"I love UCPC\"를 출력하고, 만들 수 없으면 \"I hate UCPC\"를 출력**\n",
    "\n",
    "- 시간 제한: 1초\n",
    "- 메모리 제한: 512 MB"
   ]
  },
  {
   "cell_type": "code",
   "execution_count": null,
   "metadata": {},
   "outputs": [],
   "source": [
    "\"\"\"\n",
    "입출력 예시)\n",
    "\n",
    "(예제 입력 1) \n",
    "Union of Computer Programming Contest club contest\n",
    "    -> I love UCPC\n",
    "\n",
    "(예제 입력 2) \n",
    "University Computer Programming\n",
    "    -> I hate UCPC\n",
    "\"\"\""
   ]
  },
  {
   "attachments": {},
   "cell_type": "markdown",
   "metadata": {},
   "source": [
    "## 2023/05/16"
   ]
  },
  {
   "cell_type": "code",
   "execution_count": null,
   "metadata": {},
   "outputs": [],
   "source": [
    "## 의사코드 ##\n",
    "\n",
    "# 주어진 문자열에서 대문자만 추출\n",
    "# import re\n",
    "# re.findall('[A-Z]', string)\n",
    "\n",
    "# 대문자만 추출한 문자열이 'UCPC'와 동일한지 확인"
   ]
  },
  {
   "attachments": {},
   "cell_type": "markdown",
   "metadata": {},
   "source": [
    "### 1) "
   ]
  },
  {
   "cell_type": "code",
   "execution_count": 4,
   "metadata": {},
   "outputs": [
    {
     "name": "stdout",
     "output_type": "stream",
     "text": [
      "I hate UCPC\n"
     ]
    }
   ],
   "source": [
    "import re\n",
    "string = input()\n",
    "# 주어진 문자열에서 대문자만 추출한 줄임말\n",
    "short = ''.join(re.findall('[A-Z]', string))\n",
    "# 대문자만 추출한 문자열이 'UCPC'와 동일한지 확인\n",
    "if short == 'UCPC':\n",
    "    print('I love UCPC')\n",
    "else:\n",
    "    print('I hate UCPC')"
   ]
  },
  {
   "attachments": {},
   "cell_type": "markdown",
   "metadata": {},
   "source": [
    "-> 틀림"
   ]
  },
  {
   "attachments": {},
   "cell_type": "markdown",
   "metadata": {},
   "source": [
    "### 2) "
   ]
  },
  {
   "cell_type": "code",
   "execution_count": 6,
   "metadata": {},
   "outputs": [
    {
     "name": "stdout",
     "output_type": "stream",
     "text": [
      "I hate UCPC\n"
     ]
    }
   ],
   "source": [
    "string = input()\n",
    "short = '' # 줄임말\n",
    "for s in string:\n",
    "    # 현재 문자가 'UCPC'에 해당하면 줄임말에 추가\n",
    "    if s in 'UCPC':\n",
    "        short += s\n",
    "# 줄임말이 'UCPC'와 동일한지 확인\n",
    "if short == 'UCPC':\n",
    "    print('I love UCPC')\n",
    "else:\n",
    "    print('I hate UCPC')"
   ]
  },
  {
   "attachments": {},
   "cell_type": "markdown",
   "metadata": {},
   "source": [
    "-> 틀림 "
   ]
  },
  {
   "attachments": {},
   "cell_type": "markdown",
   "metadata": {},
   "source": [
    "-> 대문자만 남겼을 때 'UCPC'가 되는지 보는 게 아니고 줄임말이 'UCPC'와 정확히 일치하는지를 보는 것도 아니여서 틀림."
   ]
  },
  {
   "attachments": {},
   "cell_type": "markdown",
   "metadata": {},
   "source": [
    "-> 문자열에서 임의의 문자들을 제거해도 'UCPC'가 되는지를 확인해야 함\n",
    "\n",
    "\n",
    "- 아래의 예시들도 모두 'I love UCPC'가 정답\n",
    "    - 'UUCPC'\n",
    "    - 'UCASDFPC'\n",
    "    - 'ASDFUCPC'\n",
    "    - 'UCPCASDF'\n",
    "    - 'AUBCCPDC'"
   ]
  },
  {
   "attachments": {},
   "cell_type": "markdown",
   "metadata": {},
   "source": [
    "### 통과)"
   ]
  },
  {
   "cell_type": "code",
   "execution_count": 9,
   "metadata": {},
   "outputs": [
    {
     "name": "stdout",
     "output_type": "stream",
     "text": [
      "I love UCPC\n"
     ]
    }
   ],
   "source": [
    "import re\n",
    "string = input()\n",
    "# 주어진 문자열에서 대문자만 추출한 줄임말\n",
    "short = ''.join(re.findall('[A-Z]', string))\n",
    "ucpc = 'UCPC'\n",
    "idx = 0 # 인덱스\n",
    "for s in short:\n",
    "    # 현재 문자가 'UCPC'의 idx번째 문자와 같다면 인덱스+1\n",
    "    if s == ucpc[idx]:\n",
    "        idx += 1\n",
    "    # 인덱스가 4이면 'UCPC'를 모두 찾은 것이므로 'I love UCPC' 출력\n",
    "    if idx == 4:\n",
    "        print('I love UCPC')\n",
    "        break\n",
    "else:\n",
    "    print('I hate UCPC')"
   ]
  },
  {
   "attachments": {},
   "cell_type": "markdown",
   "metadata": {},
   "source": [
    "-> 인덱스를 활용해서 현재 문자가 'UCPC'의 인덱스 번째 문자와 같으면 인덱스에 1을 더하는 형식으로 확인"
   ]
  },
  {
   "cell_type": "code",
   "execution_count": null,
   "metadata": {},
   "outputs": [],
   "source": [
    "# 과정 확인"
   ]
  },
  {
   "cell_type": "code",
   "execution_count": 14,
   "metadata": {},
   "outputs": [],
   "source": [
    "string = 'ASDFUCPC'"
   ]
  },
  {
   "cell_type": "code",
   "execution_count": 15,
   "metadata": {},
   "outputs": [
    {
     "name": "stdout",
     "output_type": "stream",
     "text": [
      "대문자만 추출한 줄임말: ASDFUCPC \n",
      "\n",
      "현재 문자: A, 현재 인덱스: 0 \n",
      "\n",
      "현재 문자: S, 현재 인덱스: 0 \n",
      "\n",
      "현재 문자: D, 현재 인덱스: 0 \n",
      "\n",
      "현재 문자: F, 현재 인덱스: 0 \n",
      "\n",
      "현재 문자: U, 현재 인덱스: 0 \n",
      "\n",
      "현재 문자가 \"UCPC\"의 idx번째 문자와 같으므로 인덱스+1\n",
      "-------------------------------------------------------------------------------- \n",
      "\n",
      "현재 문자: C, 현재 인덱스: 1 \n",
      "\n",
      "현재 문자가 \"UCPC\"의 idx번째 문자와 같으므로 인덱스+1\n",
      "-------------------------------------------------------------------------------- \n",
      "\n",
      "현재 문자: P, 현재 인덱스: 2 \n",
      "\n",
      "현재 문자가 \"UCPC\"의 idx번째 문자와 같으므로 인덱스+1\n",
      "-------------------------------------------------------------------------------- \n",
      "\n",
      "현재 문자: C, 현재 인덱스: 3 \n",
      "\n",
      "현재 문자가 \"UCPC\"의 idx번째 문자와 같으므로 인덱스+1\n",
      "-------------------------------------------------------------------------------- \n",
      "\n",
      "I love UCPC\n"
     ]
    }
   ],
   "source": [
    "import re\n",
    "# 주어진 문자열에서 대문자만 추출한 줄임말\n",
    "short = ''.join(re.findall('[A-Z]', string))\n",
    "print('대문자만 추출한 줄임말:', short, '\\n')\n",
    "ucpc = 'UCPC'\n",
    "idx = 0 # 인덱스\n",
    "for s in short:\n",
    "    print(f'현재 문자: {s}, 현재 인덱스: {idx}', '\\n')\n",
    "    # 현재 문자가 'UCPC'의 idx번째 문자와 같다면 인덱스+1\n",
    "    if s == ucpc[idx]:\n",
    "        idx += 1\n",
    "        print('현재 문자가 \"UCPC\"의 idx번째 문자와 같으므로 인덱스+1')\n",
    "        print('-'*80, '\\n')\n",
    "    # 인덱스가 4이면 'UCPC'를 모두 찾은 것이므로 'I love UCPC' 출력\n",
    "    if idx == 4:\n",
    "        print('I love UCPC')\n",
    "        break\n",
    "else:\n",
    "    print('I hate UCPC')"
   ]
  }
 ],
 "metadata": {
  "kernelspec": {
   "display_name": "base",
   "language": "python",
   "name": "python3"
  },
  "language_info": {
   "codemirror_mode": {
    "name": "ipython",
    "version": 3
   },
   "file_extension": ".py",
   "mimetype": "text/x-python",
   "name": "python",
   "nbconvert_exporter": "python",
   "pygments_lexer": "ipython3",
   "version": "3.9.7"
  },
  "orig_nbformat": 4
 },
 "nbformat": 4,
 "nbformat_minor": 2
}

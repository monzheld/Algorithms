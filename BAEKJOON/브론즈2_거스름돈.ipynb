{
 "cells": [
  {
   "attachments": {},
   "cell_type": "markdown",
   "metadata": {},
   "source": [
    "5585번\n",
    "\n",
    "[문제](https://www.acmicpc.net/problem/5585)"
   ]
  },
  {
   "attachments": {},
   "cell_type": "markdown",
   "metadata": {},
   "source": [
    "### 탐욕(Greedy)"
   ]
  },
  {
   "attachments": {},
   "cell_type": "markdown",
   "metadata": {},
   "source": [
    "- JOI잡화점에는 잔돈으로 500엔, 100엔, 50엔, 10엔, 5엔, 1엔이 충분히 있고, 언제나 **거스름돈 개수가 가장 적게** 잔돈을 줌\n",
    "- **1000엔 지폐를 한장** 냈을 때, **받을 잔돈에 포함된 잔돈의 개수** 구하기"
   ]
  },
  {
   "attachments": {},
   "cell_type": "markdown",
   "metadata": {},
   "source": [
    "- 입력\n",
    "    - 한줄로 이루어져있고, 타로가 **지불할 돈**(1 이상 1000미만의 정수) 1개가 쓰여져있음\n",
    "- 출력\n",
    "    - 제출할 출력 파일은 1행으로만 되어 있고, 잔돈에 포함된 매수를 출력\n",
    "\n",
    "- 시간 제한: 1초\n",
    "- 메모리 제한: 128 MB"
   ]
  },
  {
   "cell_type": "code",
   "execution_count": null,
   "metadata": {},
   "outputs": [],
   "source": [
    "\"\"\"\n",
    "입출력 예시)\n",
    "\n",
    "(예제 입력 1) \n",
    "380 -> 4\n",
    "\n",
    "(예제 입력 2)\n",
    "1 -> 15\n",
    "\"\"\""
   ]
  },
  {
   "attachments": {},
   "cell_type": "markdown",
   "metadata": {},
   "source": [
    "## 2023/01/16"
   ]
  },
  {
   "cell_type": "code",
   "execution_count": null,
   "metadata": {},
   "outputs": [],
   "source": [
    "## 의사코드 ##\n",
    "\n",
    "# 거스름돈 개수가 가장 적게 -> 금액이 가장 큰 잔돈부터 차감\n",
    "\n",
    "# 잔돈 리스트(coins) = [500, 100, 50, 10, 5, 1]\n",
    "# 잔돈 리스트를 내림차순 정렬 -> 가장 큰 값부터\n",
    "\n",
    "# 거스름돈 = 1000 - 타로가 지불할 돈(입력)\n",
    "# 잔돈 개수 = 0\n",
    "# for c in coins:\n",
    "#   n = 거스름돈 // c # 동전이 필요한 개수\n",
    "#   거스름돈 -= c * n \n",
    "#   잔돈 개수 += n \n",
    "\n",
    "# print(잔돈 개수)"
   ]
  },
  {
   "attachments": {},
   "cell_type": "markdown",
   "metadata": {},
   "source": [
    "### 통과)"
   ]
  },
  {
   "cell_type": "code",
   "execution_count": null,
   "metadata": {},
   "outputs": [],
   "source": [
    "price = int(input()) # 타로가 지불할 돈\n",
    "coins = [500, 100, 50, 10, 5, 1] # 잔돈 리스트\n",
    "\n",
    "# 거스름돈 계산\n",
    "change = 1000 - price\n",
    "# 잔돈 리스트 내림차순 정렬\n",
    "coins.sort(reverse=True)\n",
    "\n",
    "change_n = 0 # 잔돈 개수 \n",
    "for c in coins:\n",
    "    n = change // c # 필요한 동전의 개수\n",
    "    change_n += n # 잔돈 개수 + n\n",
    "    change -= c * n # 남은 거스름돈 계산 \n",
    "\n",
    "print(change_n)"
   ]
  },
  {
   "attachments": {},
   "cell_type": "markdown",
   "metadata": {},
   "source": [
    "-> 잔돈 리스트가 이미 내림차순 정렬되어 있으므로 굳이 다시 정렬하지 않아도 될 듯 "
   ]
  },
  {
   "cell_type": "code",
   "execution_count": null,
   "metadata": {},
   "outputs": [],
   "source": [
    "# 출력값 확인"
   ]
  },
  {
   "cell_type": "code",
   "execution_count": 6,
   "metadata": {},
   "outputs": [],
   "source": [
    "price = 380 # 타로가 지불할 돈"
   ]
  },
  {
   "cell_type": "code",
   "execution_count": 7,
   "metadata": {},
   "outputs": [
    {
     "name": "stdout",
     "output_type": "stream",
     "text": [
      "4\n"
     ]
    }
   ],
   "source": [
    "coins = [500, 100, 50, 10, 5, 1] # 잔돈 리스트\n",
    "\n",
    "# 거스름돈 계산\n",
    "change = 1000 - price\n",
    "# 잔돈 리스트 내림차순 정렬\n",
    "coins.sort(reverse=True)\n",
    "\n",
    "change_n = 0 # 잔돈 개수 \n",
    "for c in coins:\n",
    "    n = change // c # 필요한 동전의 개수\n",
    "    change_n += n # 잔돈 개수 + n\n",
    "    change -= c * n # 남은 거스름돈 계산 \n",
    "\n",
    "print(change_n)"
   ]
  },
  {
   "cell_type": "code",
   "execution_count": 8,
   "metadata": {},
   "outputs": [],
   "source": [
    "price = 1 # 타로가 지불할 돈"
   ]
  },
  {
   "cell_type": "code",
   "execution_count": 9,
   "metadata": {},
   "outputs": [
    {
     "name": "stdout",
     "output_type": "stream",
     "text": [
      "15\n"
     ]
    }
   ],
   "source": [
    "coins = [500, 100, 50, 10, 5, 1] # 잔돈 리스트\n",
    "\n",
    "# 거스름돈 계산\n",
    "change = 1000 - price\n",
    "# 잔돈 리스트 내림차순 정렬\n",
    "coins.sort(reverse=True)\n",
    "\n",
    "change_n = 0 # 잔돈 개수 \n",
    "for c in coins:\n",
    "    n = change // c # 필요한 동전의 개수\n",
    "    change_n += n # 잔돈 개수 + n\n",
    "    change -= c * n # 남은 거스름돈 계산 \n",
    "\n",
    "print(change_n)"
   ]
  },
  {
   "attachments": {},
   "cell_type": "markdown",
   "metadata": {},
   "source": [
    "### 다른 풀이"
   ]
  },
  {
   "cell_type": "code",
   "execution_count": null,
   "metadata": {},
   "outputs": [],
   "source": [
    "change = 1000 - int(input())\n",
    "count = 0\n",
    "\n",
    "for i in [500, 100, 50, 10, 5, 1]:\n",
    "    count += change // i\n",
    "    change %= i \n",
    "\n",
    "print(count)"
   ]
  },
  {
   "attachments": {},
   "cell_type": "markdown",
   "metadata": {},
   "source": [
    "-> 잔돈을 input() 받아온 값으로 바로 계산하고, 남은 거스름돈을 동전으로 나눈 나머지로 계산"
   ]
  },
  {
   "cell_type": "code",
   "execution_count": null,
   "metadata": {},
   "outputs": [],
   "source": [
    "# 과정 확인"
   ]
  },
  {
   "cell_type": "code",
   "execution_count": 14,
   "metadata": {},
   "outputs": [
    {
     "name": "stdout",
     "output_type": "stream",
     "text": [
      "원래 change: 999 \n",
      "\n",
      "i: 500\n",
      "필요한 동전의 개수: 1\n",
      "전체 잔돈의 개수(count): 1\n",
      "남은 change: 499 \n",
      "\n",
      "i: 100\n",
      "필요한 동전의 개수: 4\n",
      "전체 잔돈의 개수(count): 5\n",
      "남은 change: 99 \n",
      "\n",
      "i: 50\n",
      "필요한 동전의 개수: 1\n",
      "전체 잔돈의 개수(count): 6\n",
      "남은 change: 49 \n",
      "\n",
      "i: 10\n",
      "필요한 동전의 개수: 4\n",
      "전체 잔돈의 개수(count): 10\n",
      "남은 change: 9 \n",
      "\n",
      "i: 5\n",
      "필요한 동전의 개수: 1\n",
      "전체 잔돈의 개수(count): 11\n",
      "남은 change: 4 \n",
      "\n",
      "i: 1\n",
      "필요한 동전의 개수: 4\n",
      "전체 잔돈의 개수(count): 15\n",
      "남은 change: 0 \n",
      "\n",
      "15\n"
     ]
    }
   ],
   "source": [
    "change = 1000 - 1\n",
    "print('원래 change:', change, '\\n')\n",
    "count = 0\n",
    "\n",
    "for i in [500, 100, 50, 10, 5, 1]:\n",
    "    print('i:', i)\n",
    "    count += change // i\n",
    "    print('필요한 동전의 개수:', change // i)\n",
    "    print('전체 잔돈의 개수(count):', count)\n",
    "    change %= i \n",
    "    print('남은 change:', change, '\\n')\n",
    "\n",
    "print(count)"
   ]
  }
 ],
 "metadata": {
  "kernelspec": {
   "display_name": "base",
   "language": "python",
   "name": "python3"
  },
  "language_info": {
   "codemirror_mode": {
    "name": "ipython",
    "version": 3
   },
   "file_extension": ".py",
   "mimetype": "text/x-python",
   "name": "python",
   "nbconvert_exporter": "python",
   "pygments_lexer": "ipython3",
   "version": "3.9.7"
  },
  "orig_nbformat": 4,
  "vscode": {
   "interpreter": {
    "hash": "023ab38ef701cca529efce9465407c28b5ba779ced3f1a89865b89edb313b240"
   }
  }
 },
 "nbformat": 4,
 "nbformat_minor": 2
}

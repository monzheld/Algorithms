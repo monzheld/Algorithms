{
 "cells": [
  {
   "attachments": {},
   "cell_type": "markdown",
   "metadata": {},
   "source": [
    "10173번\n",
    "\n",
    "[문제](https://www.acmicpc.net/problem/10173)"
   ]
  },
  {
   "attachments": {},
   "cell_type": "markdown",
   "metadata": {},
   "source": [
    "- 영어 문장속 숨어있는 니모(Nemo) 찾기\n",
    "- 니모를 찾는데 있어서 **대소문자는 중요하지 않음**"
   ]
  },
  {
   "attachments": {},
   "cell_type": "markdown",
   "metadata": {},
   "source": [
    "- 입력\n",
    "    - 여러 문장이 각 줄로 입력되며, 입력의 마지막에는 \"EOI\"가 입력됨\n",
    "    - 한 줄은 최대 80개의 글자로 이루어져 있음\n",
    "- 출력\n",
    "    - 숨겨진 니모를 찾으면 “Found”, 못찾으면 “Missing”를 각 줄에 맞게 출력\n",
    "\n",
    "- 시간 제한: 1초\n",
    "- 메모리 제한: 256 MB"
   ]
  },
  {
   "cell_type": "code",
   "execution_count": null,
   "metadata": {},
   "outputs": [],
   "source": [
    "\"\"\"\n",
    "입출력 예시)\n",
    "\n",
    "Marlin names this last egg Nemo, a name that Coral liked.\n",
    "While attempting to save nemo, Marlin meets Dory,\n",
    "a good-hearted and optimistic regal blue tang with short-term memory loss. \n",
    "Upon leaving the East Australian Current,(888*%$^&%0928375)Marlin and Dory\n",
    "NEMO leaves for school and Marlin watches NeMo swim away.\n",
    "EOI\n",
    "    -> Found\n",
    "       Found\n",
    "       Missing\n",
    "       Missing\n",
    "       Found\n",
    "\"\"\""
   ]
  },
  {
   "attachments": {},
   "cell_type": "markdown",
   "metadata": {},
   "source": [
    "## 2023/02/06"
   ]
  },
  {
   "cell_type": "code",
   "execution_count": null,
   "metadata": {},
   "outputs": [],
   "source": [
    "## 의사코드 ##\n",
    "\n",
    "# 대소문자 상관 x -> 입력받은 문장.lower()로 소문자로 만들기\n",
    "# if \"nemo\" in 문장:\n",
    "#   print(\"Found\")\n",
    "# else:\n",
    "#   print(\"Missing\")"
   ]
  },
  {
   "attachments": {},
   "cell_type": "markdown",
   "metadata": {},
   "source": [
    "### 1) "
   ]
  },
  {
   "cell_type": "code",
   "execution_count": null,
   "metadata": {},
   "outputs": [],
   "source": [
    "import sys\n",
    "while True:\n",
    "    s = sys.stdin.readline().lower()\n",
    "    if s == \"eoi\":\n",
    "        break \n",
    "    print(\"Found\" if \"nemo\" in s else \"Missing\")"
   ]
  },
  {
   "attachments": {},
   "cell_type": "markdown",
   "metadata": {},
   "source": [
    "-> 출력 초과"
   ]
  },
  {
   "attachments": {},
   "cell_type": "markdown",
   "metadata": {},
   "source": [
    "### 통과)"
   ]
  },
  {
   "cell_type": "code",
   "execution_count": null,
   "metadata": {},
   "outputs": [],
   "source": [
    "while True:\n",
    "    s = input()\n",
    "    if s == \"EOI\":\n",
    "        break\n",
    "    s = s.lower() \n",
    "    print(\"Found\" if \"nemo\" in s else \"Missing\")"
   ]
  },
  {
   "attachments": {},
   "cell_type": "markdown",
   "metadata": {},
   "source": [
    "-> 입력받을 때 sys.stdin.readline() 말고 그냥 input() 사용"
   ]
  }
 ],
 "metadata": {
  "kernelspec": {
   "display_name": "cp2",
   "language": "python",
   "name": "python3"
  },
  "language_info": {
   "codemirror_mode": {
    "name": "ipython",
    "version": 3
   },
   "file_extension": ".py",
   "mimetype": "text/x-python",
   "name": "python",
   "nbconvert_exporter": "python",
   "pygments_lexer": "ipython3",
   "version": "3.9.12"
  },
  "orig_nbformat": 4,
  "vscode": {
   "interpreter": {
    "hash": "5ca59c31ddc1bb1d3e926feef50b5ca0d1eacb2093eee1a1a79c0269dbb49758"
   }
  }
 },
 "nbformat": 4,
 "nbformat_minor": 2
}

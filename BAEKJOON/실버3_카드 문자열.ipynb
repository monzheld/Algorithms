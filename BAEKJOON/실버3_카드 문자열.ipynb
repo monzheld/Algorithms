{
 "cells": [
  {
   "attachments": {},
   "cell_type": "markdown",
   "metadata": {},
   "source": [
    "13417번\n",
    "\n",
    "[문제](https://www.acmicpc.net/problem/13417)"
   ]
  },
  {
   "attachments": {},
   "cell_type": "markdown",
   "metadata": {},
   "source": [
    "### 탐욕(Greedy)"
   ]
  },
  {
   "attachments": {},
   "cell_type": "markdown",
   "metadata": {},
   "source": [
    "- N장의 카드가 일렬로 놓여있음\n",
    "- 각 카드에는 알파벳이 하나씩 적혀있음\n",
    "- 태욱이는 **가장 왼쪽에 있는 카드부터 차례대로 한 장씩** 가져올 수 있음\n",
    "- **가장 처음에 가져온 카드는 자신의 앞에** 놓음\n",
    "- 그다음부터는 가져온 카드를 **자신의 앞에 놓인 카드들의 가장 왼쪽, 또는 가장 오른쪽에** 놓음\n",
    "- 태욱이는 모든 카드를 다 가져온 후에 자신의 앞에 놓인 카드를 순서대로 이어 붙여 카드 문자열을 만들려고 함\n",
    "- 예를 들어 3장의 카드가 [M, K, U] 순으로 놓여있다면\n",
    "    - 태욱이는 먼저 가장 왼쪽에 있는 “M”이 적힌 카드를 가져와서 자신의 앞에 놓음\n",
    "    - 다음으로 남은 카드 중 가장 왼쪽에 있는 “K”가 적힌 카드를 가져와서 가장 왼쪽에 두고, 이어서 “U”가 적힌 카드를 가져와서 다시 가장 왼쪽에 두면 “UKM”이라는 문자열을 만들 수 있음\n",
    "    - 만약 “K”가 적힌 카드를 가져와서 가장 왼쪽에 두고, 이어서 “U”가 적힌 카드를 가져와서 가장 오른쪽에 두면 “KMU”라는 문자열을 만들 수 있음\n",
    "    - 이때, 태욱이가 만들 수 있는 문자열 중 사전 순으로 가장 빠른 문자열은 “KMU”\n",
    "- N장의 카드에 적혀있는 알파벳의 처음 순서가 주어질 때, 태욱이가 만들 수 있는 카드 문자열 중 **사전 순으로 가장 빠른 문자열**을 출력"
   ]
  },
  {
   "attachments": {},
   "cell_type": "markdown",
   "metadata": {},
   "source": [
    "- 입력\n",
    "    - 입력은 T개의 테스트 데이터로 구성\n",
    "    - 첫째 줄에 테스트 케이스의 개수를 나타내는 자연수 T가 주어짐\n",
    "    - 각각의 테스트 케이스의 첫째 줄에 처음에 놓여있는 카드의 개수 N(1 ≤ N ≤ 1,000)이 주어짐\n",
    "    - 두 번째 줄에는 N장의 카드에 적힌 알파벳의 초기 순서가 주어짐\n",
    "    - 가장 왼쪽에 있는 카드에 적혀있는 알파벳부터 순서대로 N개가 공백으로 구분되어 주어짐\n",
    "    - 모든 카드에는 한 개씩의 알파벳이 적혀있으며, 모두 대문자\n",
    "- 출력\n",
    "    - 입력받은 데이터에 대해, 한 줄에 1개씩 태욱이가 만들 수 있는 문자열 중에서 사전 순으로 가장 빠른 문자열을 출력\n",
    "\n",
    "- 시간 제한: 1초\n",
    "- 메모리 제한: \t256 MB"
   ]
  },
  {
   "cell_type": "code",
   "execution_count": null,
   "metadata": {},
   "outputs": [],
   "source": [
    "\"\"\"\n",
    "입출력 예시)\n",
    "\n",
    "3\n",
    "3\n",
    "M K U\n",
    "5\n",
    "A S D F G\n",
    "7\n",
    "B A C A B A C\n",
    "            -> KMU\n",
    "               ASDFG\n",
    "               AAABCBC\n",
    "\"\"\""
   ]
  },
  {
   "attachments": {},
   "cell_type": "markdown",
   "metadata": {},
   "source": [
    "## 2023/02/22"
   ]
  },
  {
   "cell_type": "code",
   "execution_count": null,
   "metadata": {},
   "outputs": [],
   "source": [
    "## 의사코드 ##\n",
    "\n",
    "# 가장 왼쪽에 있는 카드부터 가져옴 -> 큐(FIFO)\n",
    "# from collections import deque \n",
    "\n",
    "# 생성할 문자열 = ''\n",
    "\n",
    "# 방금 뽑은 카드 \n",
    "# deque.popleft()\n",
    "\n",
    "# 가져온 카드를 앞에서 뽑은 카드들의 가장 왼쪽 또는 가장 오른쪽에 놓음\n",
    "# -> 방금 뽑은 카드와 지금까지 생성된 문자열의 크기 비교\n",
    "\n",
    "# 사전 순으로 더 빠른 알파벳을 생성할 문자열에 추가"
   ]
  },
  {
   "attachments": {},
   "cell_type": "markdown",
   "metadata": {},
   "source": [
    "### 통과)"
   ]
  },
  {
   "cell_type": "code",
   "execution_count": 6,
   "metadata": {},
   "outputs": [
    {
     "name": "stdout",
     "output_type": "stream",
     "text": [
      "KMU\n",
      "ASDFG\n",
      "AAABCBC\n"
     ]
    }
   ],
   "source": [
    "from collections import deque\n",
    "\n",
    "t = int(input())\n",
    "for _ in range(t):\n",
    "    n = int(input())\n",
    "    cards = deque(input().split())\n",
    "    res = '' # 생성할 문자열\n",
    "    while cards:\n",
    "        # 가장 왼쪽에 있는 카드 가져오기\n",
    "        s = cards.popleft()\n",
    "        # 생성할 문자열이 비어있으면 s 추가 (첫 번째 카드인 경우)\n",
    "        if res == '':\n",
    "            res += s\n",
    "        # 두 번째 카드부터\n",
    "        else:\n",
    "            # 방금 뽑은 카드가 지금까지 생성된 문자열보다 사전 순에서 더 빠르거나 같은 경우, 가장 왼쪽에 추가\n",
    "            if s <= res:\n",
    "                res = s + res \n",
    "            # 방금 뽑은 카드가 지금까지 생성된 문자열보다 사전 순에서 더 늦는 경우, 가장 오른쪽에 추가\n",
    "            else:\n",
    "                res = res + s\n",
    "    print(res)"
   ]
  },
  {
   "cell_type": "code",
   "execution_count": 7,
   "metadata": {},
   "outputs": [
    {
     "name": "stdout",
     "output_type": "stream",
     "text": [
      "s + res: KMU\n",
      "res + s: MUK\n"
     ]
    }
   ],
   "source": [
    "# cf) 문자열 더하기 순서\n",
    "res = 'MU'\n",
    "s = 'K'\n",
    "print('s + res:', s + res)\n",
    "print('res + s:', res + s)"
   ]
  }
 ],
 "metadata": {
  "kernelspec": {
   "display_name": "cp2",
   "language": "python",
   "name": "python3"
  },
  "language_info": {
   "codemirror_mode": {
    "name": "ipython",
    "version": 3
   },
   "file_extension": ".py",
   "mimetype": "text/x-python",
   "name": "python",
   "nbconvert_exporter": "python",
   "pygments_lexer": "ipython3",
   "version": "3.9.12"
  },
  "orig_nbformat": 4,
  "vscode": {
   "interpreter": {
    "hash": "5ca59c31ddc1bb1d3e926feef50b5ca0d1eacb2093eee1a1a79c0269dbb49758"
   }
  }
 },
 "nbformat": 4,
 "nbformat_minor": 2
}

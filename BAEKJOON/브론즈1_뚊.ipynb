{
 "cells": [
  {
   "attachments": {},
   "cell_type": "markdown",
   "metadata": {},
   "source": [
    "11383번\n",
    "\n",
    "[문제](https://www.acmicpc.net/problem/11383)"
   ]
  },
  {
   "attachments": {},
   "cell_type": "markdown",
   "metadata": {},
   "source": [
    "### 문자열"
   ]
  },
  {
   "attachments": {},
   "cell_type": "markdown",
   "metadata": {},
   "source": [
    "<img width=\"458\" alt=\"스크린샷 2023-06-01 18 31 45\" src=\"https://github.com/monzheld/Algorithms/assets/93971420/19c3bfd8-7843-47bf-b30a-c15207962479\">"
   ]
  },
  {
   "attachments": {},
   "cell_type": "markdown",
   "metadata": {},
   "source": [
    "- N× M 크기의 이미지와 N ×2 M 크기의 이미지가 주어질 때 **첫 번째 이미지를 가로로 두 배로 늘이면 두 번째 이미지가 되는지** 검사하기"
   ]
  },
  {
   "attachments": {},
   "cell_type": "markdown",
   "metadata": {},
   "source": [
    "- 입력\n",
    "    - 입력의 첫 번째 줄에 N, M (1 ≤ N, M ≤ 10)이 주어짐\n",
    "    - 다음 N개의 줄의 각 줄에는 M개의 문자가 주어짐\n",
    "    - 다음 N개의 줄의 각 줄에는 2M개의 문자가 주어짐\n",
    "    - 모든 문자는 영문 알파벳 대문자 혹은 소문자\n",
    "- 출력\n",
    "    - 첫 번째로 주어진 이미지를 가로로 두 배로 늘렸을 때 두 번째 이미지가 된다면 \"Eyfa\"을 출력하고, 되지 않는다면 \"Not Eyfa\"을 출력\n",
    "\n",
    "- 시간 제한: 1초\n",
    "- 메모리 제한: 512 MB"
   ]
  },
  {
   "cell_type": "code",
   "execution_count": null,
   "metadata": {},
   "outputs": [],
   "source": [
    "\"\"\"\n",
    "입출력 예시)\n",
    "\n",
    "(예제 입력 1) \n",
    "1 5\n",
    "ABCDE\n",
    "AABBCCDDEE\n",
    "            -> Eyfa\n",
    "\n",
    "(예제 입력 2) \n",
    "1 5\n",
    "ABCDE\n",
    "AABBCCDDEF\n",
    "            -> Not Eyfa\n",
    "\n",
    "(예제 입력 3) \n",
    "2 2\n",
    "AB\n",
    "CD\n",
    "AABB\n",
    "CCDD\n",
    "    -> Eyfa\n",
    "\"\"\""
   ]
  },
  {
   "attachments": {},
   "cell_type": "markdown",
   "metadata": {},
   "source": [
    "## 2023/06/01"
   ]
  },
  {
   "cell_type": "code",
   "execution_count": null,
   "metadata": {},
   "outputs": [],
   "source": [
    "## 의사코드 ##\n",
    "\n",
    "# 원본 문자열의 각 문자*2 한 것과 일치하면 Eyfa"
   ]
  },
  {
   "attachments": {},
   "cell_type": "markdown",
   "metadata": {},
   "source": [
    "### 통과)"
   ]
  },
  {
   "cell_type": "code",
   "execution_count": 10,
   "metadata": {},
   "outputs": [
    {
     "name": "stdout",
     "output_type": "stream",
     "text": [
      "Not Eyfa\n"
     ]
    }
   ],
   "source": [
    "n, m = map(int, input().split())\n",
    "original = [] # 원본 문자열\n",
    "two_m = [] # 2배 문자열\n",
    "\n",
    "for i in range(1, (n*2)+1):\n",
    "    # n까지는 원본 문자열에 저장\n",
    "    if i <= n:\n",
    "        original.append(input())\n",
    "    # n 이후에는 2배 문자열에 저장\n",
    "    else:\n",
    "        two_m.append(input())\n",
    "\n",
    "# 원본 문자열의 각 문자를 2배로 늘리기    \n",
    "for j in range(n):\n",
    "    new = ''\n",
    "    for s in original[j]:\n",
    "        new += s*2\n",
    "    original[j] = new\n",
    "\n",
    "# 모든 원본 문자열이 모든 2배 문자열과 일치하면 Eyfa\n",
    "if original == two_m:\n",
    "    print('Eyfa')\n",
    "else:\n",
    "    print('Not Eyfa')"
   ]
  }
 ],
 "metadata": {
  "kernelspec": {
   "display_name": "base",
   "language": "python",
   "name": "python3"
  },
  "language_info": {
   "codemirror_mode": {
    "name": "ipython",
    "version": 3
   },
   "file_extension": ".py",
   "mimetype": "text/x-python",
   "name": "python",
   "nbconvert_exporter": "python",
   "pygments_lexer": "ipython3",
   "version": "3.9.7"
  },
  "orig_nbformat": 4
 },
 "nbformat": 4,
 "nbformat_minor": 2
}

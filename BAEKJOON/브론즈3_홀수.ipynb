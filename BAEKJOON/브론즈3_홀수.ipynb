{
 "cells": [
  {
   "attachments": {},
   "cell_type": "markdown",
   "metadata": {},
   "source": [
    "2576번\n",
    "\n",
    "[문제](https://www.acmicpc.net/problem/2576)"
   ]
  },
  {
   "attachments": {},
   "cell_type": "markdown",
   "metadata": {},
   "source": [
    "### 수학"
   ]
  },
  {
   "attachments": {},
   "cell_type": "markdown",
   "metadata": {},
   "source": [
    "- 7개의 자연수가 주어질 때, 이들 중 홀수인 자연수들을 모두 골라 그 합을 구하고, 고른 홀수들 중 최솟값을 찾기\n",
    "- 예를 들어, 7개의 자연수 12, 77, 38, 41, 53, 92, 85가 주어지면\n",
    "    - 이들 중 홀수는 77, 41, 53, 85이므로\n",
    "    - 그 합은 77 + 41 + 53 + 85 = 256\n",
    "    - 41 < 53 < 77 < 85 이므로 홀수들 중 최솟값은 41"
   ]
  },
  {
   "attachments": {},
   "cell_type": "markdown",
   "metadata": {},
   "source": [
    "- 입력\n",
    "    - 입력의 첫째 줄부터 일곱 번째 줄까지 한 줄에 하나의 자연수가 주어짐\n",
    "    - 주어지는 자연수는 100보다 작음\n",
    "- 출력\n",
    "    - 홀수가 존재하지 않는 경우에는 첫째 줄에 -1을 출력\n",
    "    - 홀수가 존재하는 경우 첫째 줄에 홀수들의 합을 출력하고, 둘째 줄에 홀수들 중 최솟값을 출력\n",
    "\n",
    "- 시간 제한: 1초\n",
    "- 메모리 제한: 128 MB"
   ]
  },
  {
   "cell_type": "code",
   "execution_count": null,
   "metadata": {},
   "outputs": [],
   "source": [
    "\"\"\"\n",
    "입출력 예시)\n",
    "\n",
    "(예제 입력 1) \n",
    "12\n",
    "77\n",
    "38\n",
    "41\n",
    "53\n",
    "92\n",
    "85\n",
    "    -> 256\n",
    "       41\n",
    "\n",
    "(예제 입력 2) \n",
    "2\n",
    "4\n",
    "20\n",
    "32\n",
    "6\n",
    "10\n",
    "8\n",
    "    -> -1\n",
    "\"\"\""
   ]
  },
  {
   "attachments": {},
   "cell_type": "markdown",
   "metadata": {},
   "source": [
    "## 2023/05/14"
   ]
  },
  {
   "cell_type": "code",
   "execution_count": null,
   "metadata": {},
   "outputs": [],
   "source": [
    "## 의사코드 ##\n",
    "\n",
    "# 입력받은 수가 홀수인 경우, 홀수 리스트에 삽입하고 홀수들의 합에 더함\n",
    "# if num % 2 != 0:\n",
    "#     odd.append(num)\n",
    "#     total += num \n",
    "\n",
    "# 홀수가 존재하지 않으면 -1 출력\n",
    "# if total == 0:\n",
    "#     print(-1)\n",
    "# 홀수가 존재하면 홀수들의 합과 홀수들 중 최솟값 출력\n",
    "# else:\n",
    "#     print(total)\n",
    "#     print(min(odd))"
   ]
  },
  {
   "attachments": {},
   "cell_type": "markdown",
   "metadata": {},
   "source": [
    "### 통과)"
   ]
  },
  {
   "cell_type": "code",
   "execution_count": 2,
   "metadata": {},
   "outputs": [
    {
     "name": "stdout",
     "output_type": "stream",
     "text": [
      "-1\n"
     ]
    }
   ],
   "source": [
    "odd = [] # 홀수를 담을 리스트\n",
    "total = 0 # 홀수들의 합\n",
    "\n",
    "for _ in range(7):\n",
    "    num = int(input())\n",
    "    # 홀수인 경우, 홀수 리스트에 삽입하고 홀수들의 합에 더함\n",
    "    if num % 2 != 0:\n",
    "        odd.append(num)\n",
    "        total += num \n",
    "\n",
    "# 홀수가 존재하지 않으면 -1 출력\n",
    "if total == 0:\n",
    "    print(-1)\n",
    "# 홀수가 존재하면 홀수들의 합과 홀수들 중 최솟값 출력\n",
    "else:\n",
    "    print(total)\n",
    "    print(min(odd))"
   ]
  }
 ],
 "metadata": {
  "kernelspec": {
   "display_name": "base",
   "language": "python",
   "name": "python3"
  },
  "language_info": {
   "codemirror_mode": {
    "name": "ipython",
    "version": 3
   },
   "file_extension": ".py",
   "mimetype": "text/x-python",
   "name": "python",
   "nbconvert_exporter": "python",
   "pygments_lexer": "ipython3",
   "version": "3.9.7"
  },
  "orig_nbformat": 4
 },
 "nbformat": 4,
 "nbformat_minor": 2
}

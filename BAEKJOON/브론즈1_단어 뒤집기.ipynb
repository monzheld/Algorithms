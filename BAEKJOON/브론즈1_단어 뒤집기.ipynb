{
 "cells": [
  {
   "attachments": {},
   "cell_type": "markdown",
   "metadata": {},
   "source": [
    "9093번\n",
    "\n",
    "[문제](https://www.acmicpc.net/problem/9093)"
   ]
  },
  {
   "attachments": {},
   "cell_type": "markdown",
   "metadata": {},
   "source": [
    "### 문자열"
   ]
  },
  {
   "attachments": {},
   "cell_type": "markdown",
   "metadata": {},
   "source": [
    "- 문장이 주어졌을 때, 단어를 모두 뒤집어서 출력\n",
    "- 단, **단어의 순서는 바꿀 수 없음**\n",
    "- 단어는 영어 알파벳으로만 이루어져 있음"
   ]
  },
  {
   "attachments": {},
   "cell_type": "markdown",
   "metadata": {},
   "source": [
    "- 입력\n",
    "    - 첫째 줄에 테스트 케이스의 개수 T가 주어짐\n",
    "    - 각 테스트 케이스는 한 줄로 이루어져 있으며, 문장이 하나 주어짐\n",
    "    - 단어의 길이는 최대 20, 문장의 길이는 최대 1000\n",
    "    - 단어와 단어 사이에는 공백이 하나 있음\n",
    "- 출력\n",
    "    - 각 테스트 케이스에 대해서, 입력으로 주어진 문장의 단어를 모두 뒤집어 출력\n",
    "\n",
    "- 시간 제한: 1초\n",
    "- 메모리 제한: 128 MB"
   ]
  },
  {
   "cell_type": "code",
   "execution_count": null,
   "metadata": {},
   "outputs": [],
   "source": [
    "\"\"\"\n",
    "입출력 예시)\n",
    "\n",
    "2\n",
    "I am happy today\n",
    "We want to win the first prize\n",
    "\n",
    "            -> I ma yppah yadot\n",
    "               eW tnaw ot niw eht tsrif ezirp\n",
    "\"\"\""
   ]
  },
  {
   "attachments": {},
   "cell_type": "markdown",
   "metadata": {},
   "source": [
    "## 2023/01/29"
   ]
  },
  {
   "cell_type": "code",
   "execution_count": null,
   "metadata": {},
   "outputs": [],
   "source": [
    "## 의사코드 ##\n",
    "\n",
    "# for sentence in range(t):\n",
    "#     # sentence 입력 받기\n",
    "#     input().split() # 공백으로 split\n",
    "#     for s in sentence:\n",
    "#         reversed(s) # 단어 뒤집기\n",
    "#         print(''.join(reversed(s)), end=' ') "
   ]
  },
  {
   "attachments": {},
   "cell_type": "markdown",
   "metadata": {},
   "source": [
    "### 통과)"
   ]
  },
  {
   "cell_type": "code",
   "execution_count": 35,
   "metadata": {},
   "outputs": [],
   "source": [
    "import sys\n",
    "t = int(input())\n",
    "for sentence in range(t):\n",
    "    sentence = sys.stdin.readline().split()\n",
    "    for s in sentence:\n",
    "        print(''.join(reversed(s)), end=' ')"
   ]
  },
  {
   "attachments": {},
   "cell_type": "markdown",
   "metadata": {},
   "source": [
    "-> reversed() 활용"
   ]
  },
  {
   "cell_type": "code",
   "execution_count": null,
   "metadata": {},
   "outputs": [],
   "source": [
    "# 출력 확인"
   ]
  },
  {
   "cell_type": "code",
   "execution_count": 36,
   "metadata": {},
   "outputs": [
    {
     "name": "stdout",
     "output_type": "stream",
     "text": [
      "eW tnaw ot niw eht tsrif ezirp "
     ]
    }
   ],
   "source": [
    "sentence = \"We want to win the first prize\".split()\n",
    "for s in sentence:\n",
    "    print(''.join(reversed(s)), end=' ')"
   ]
  },
  {
   "attachments": {},
   "cell_type": "markdown",
   "metadata": {},
   "source": [
    "### 다른 풀이"
   ]
  },
  {
   "cell_type": "code",
   "execution_count": null,
   "metadata": {},
   "outputs": [],
   "source": [
    "t = int(input())\n",
    "for i in range(t):\n",
    "    string = input().split()\n",
    "    for j in string:\n",
    "        print(j[::-1], end=' ')"
   ]
  },
  {
   "attachments": {},
   "cell_type": "markdown",
   "metadata": {},
   "source": [
    "-> 리스트 슬라이싱 활용"
   ]
  },
  {
   "cell_type": "code",
   "execution_count": 28,
   "metadata": {},
   "outputs": [
    {
     "data": {
      "text/plain": [
       "'ezirp tsrif eht niw ot tnaw eW'"
      ]
     },
     "execution_count": 28,
     "metadata": {},
     "output_type": "execute_result"
    }
   ],
   "source": [
    "# cf) 그냥 str[::-1]\n",
    "# -> 문자열 순서 뒤집기\n",
    "sentence = \"We want to win the first prize\"\n",
    "sentence[::-1]"
   ]
  },
  {
   "cell_type": "code",
   "execution_count": null,
   "metadata": {},
   "outputs": [],
   "source": [
    "t = int(input())\n",
    "for i in range(t):\n",
    "    string = input()\n",
    "    string += \" \"\n",
    "    stack = []\n",
    "    # 하나의 알파벳씩 확인\n",
    "    for j in string: \n",
    "        # 공백이 아닌 경우 stack에 append\n",
    "        if j != ' ':\n",
    "            stack.append(j)\n",
    "        # 공백인 경우 stack이 빌 때까지 pop\n",
    "        else:\n",
    "            while stack:\n",
    "                print(stack.pop(), end='')\n",
    "            print(' ', end='')"
   ]
  },
  {
   "attachments": {},
   "cell_type": "markdown",
   "metadata": {},
   "source": [
    "-> stack 활용"
   ]
  },
  {
   "cell_type": "code",
   "execution_count": null,
   "metadata": {},
   "outputs": [],
   "source": [
    "# 과정 확인"
   ]
  },
  {
   "cell_type": "code",
   "execution_count": 44,
   "metadata": {},
   "outputs": [
    {
     "name": "stdout",
     "output_type": "stream",
     "text": [
      "j: W\n",
      "append된 stack: ['W']\n",
      "j: e\n",
      "append된 stack: ['W', 'e']\n",
      "j:  \n",
      "eW \n",
      "--------------------------------------------------\n",
      "j: w\n",
      "append된 stack: ['w']\n",
      "j: a\n",
      "append된 stack: ['w', 'a']\n",
      "j: n\n",
      "append된 stack: ['w', 'a', 'n']\n",
      "j: t\n",
      "append된 stack: ['w', 'a', 'n', 't']\n",
      "j:  \n",
      "tnaw \n",
      "--------------------------------------------------\n",
      "j: t\n",
      "append된 stack: ['t']\n",
      "j: o\n",
      "append된 stack: ['t', 'o']\n",
      "j:  \n",
      "ot \n",
      "--------------------------------------------------\n",
      "j: w\n",
      "append된 stack: ['w']\n",
      "j: i\n",
      "append된 stack: ['w', 'i']\n",
      "j: n\n",
      "append된 stack: ['w', 'i', 'n']\n",
      "j:  \n",
      "niw \n",
      "--------------------------------------------------\n",
      "j: t\n",
      "append된 stack: ['t']\n",
      "j: h\n",
      "append된 stack: ['t', 'h']\n",
      "j: e\n",
      "append된 stack: ['t', 'h', 'e']\n",
      "j:  \n",
      "eht \n",
      "--------------------------------------------------\n",
      "j: f\n",
      "append된 stack: ['f']\n",
      "j: i\n",
      "append된 stack: ['f', 'i']\n",
      "j: r\n",
      "append된 stack: ['f', 'i', 'r']\n",
      "j: s\n",
      "append된 stack: ['f', 'i', 'r', 's']\n",
      "j: t\n",
      "append된 stack: ['f', 'i', 'r', 's', 't']\n",
      "j:  \n",
      "tsrif \n",
      "--------------------------------------------------\n",
      "j: p\n",
      "append된 stack: ['p']\n",
      "j: r\n",
      "append된 stack: ['p', 'r']\n",
      "j: i\n",
      "append된 stack: ['p', 'r', 'i']\n",
      "j: z\n",
      "append된 stack: ['p', 'r', 'i', 'z']\n",
      "j: e\n",
      "append된 stack: ['p', 'r', 'i', 'z', 'e']\n",
      "j:  \n",
      "ezirp \n",
      "--------------------------------------------------\n"
     ]
    }
   ],
   "source": [
    "string = \"We want to win the first prize\"\n",
    "string += \" \"\n",
    "stack = []\n",
    "# 한 글자씩 확인\n",
    "for j in string:\n",
    "    print('j:', j)\n",
    "    # 공백이 아닌 경우 stack에 append\n",
    "    if j != ' ':\n",
    "        stack.append(j)\n",
    "        print('append된 stack:', stack)\n",
    "    # 공백인 경우 stack이 빌 때까지 pop\n",
    "    else:\n",
    "        while stack:\n",
    "            print(stack.pop(), end='')\n",
    "        print(' ', end='')\n",
    "        print()\n",
    "        print('-'*50)"
   ]
  }
 ],
 "metadata": {
  "kernelspec": {
   "display_name": "cp2",
   "language": "python",
   "name": "python3"
  },
  "language_info": {
   "codemirror_mode": {
    "name": "ipython",
    "version": 3
   },
   "file_extension": ".py",
   "mimetype": "text/x-python",
   "name": "python",
   "nbconvert_exporter": "python",
   "pygments_lexer": "ipython3",
   "version": "3.9.12"
  },
  "orig_nbformat": 4,
  "vscode": {
   "interpreter": {
    "hash": "5ca59c31ddc1bb1d3e926feef50b5ca0d1eacb2093eee1a1a79c0269dbb49758"
   }
  }
 },
 "nbformat": 4,
 "nbformat_minor": 2
}

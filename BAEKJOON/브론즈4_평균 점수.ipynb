{
 "cells": [
  {
   "attachments": {},
   "cell_type": "markdown",
   "metadata": {},
   "source": [
    "10039번\n",
    "\n",
    "[문제](https://www.acmicpc.net/problem/10039)"
   ]
  },
  {
   "attachments": {},
   "cell_type": "markdown",
   "metadata": {},
   "source": [
    "### 수학"
   ]
  },
  {
   "attachments": {},
   "cell_type": "markdown",
   "metadata": {},
   "source": [
    "- 기말고사 점수가 40점 이상인 학생들은 그 점수 그대로 자신의 성적이 됨\n",
    "- 하지만, 40점 미만인 학생들은 보충학습을 듣는 조건을 수락하면 40점을 받게 됨\n",
    "- 보충학습은 거부할 수 없기 때문에, **40점 미만인 학생들은 항상 40점을 받게 됨**\n",
    "- 학생 **5명의 점수가 주어졌을 때, 평균 점수**를 구하기"
   ]
  },
  {
   "attachments": {},
   "cell_type": "markdown",
   "metadata": {},
   "source": [
    "- 입력\n",
    "    - 입력은 총 5줄로 이루어져 있고, 원섭이의 점수, 세희의 점수, 상근이의 점수, 숭이의 점수, 강수의 점수가 순서대로 주어짐\n",
    "    - 점수는 모두 0점 이상, 100점 이하인 5의 배수\n",
    "    - 따라서, 평균 점수는 항상 정수\n",
    "- 출력\n",
    "    - 첫째 줄에 학생 5명의 평균 점수를 출력\n",
    "\n",
    "- 시간 제한: 1초\n",
    "- 메모리 제한: 128 MB"
   ]
  },
  {
   "cell_type": "code",
   "execution_count": null,
   "metadata": {},
   "outputs": [],
   "source": [
    "\"\"\"\n",
    "입출력 예시)\n",
    "\n",
    "10\n",
    "65\n",
    "100\n",
    "30\n",
    "95\n",
    "    -> 68\n",
    "\"\"\""
   ]
  },
  {
   "cell_type": "code",
   "execution_count": null,
   "metadata": {},
   "outputs": [],
   "source": [
    "# -> 숭과 원섭이는 40점 미만이고, 보충학습에 참여할 예정이기 때문에 40점을 받게 됨\n",
    "# => 따라서, 점수의 합은 340점이고, 평균은 68점"
   ]
  },
  {
   "attachments": {},
   "cell_type": "markdown",
   "metadata": {},
   "source": [
    "## 2023/06/20"
   ]
  },
  {
   "cell_type": "code",
   "execution_count": null,
   "metadata": {},
   "outputs": [],
   "source": [
    "## 의사코드 ##\n",
    "\n",
    "# 입력이 40점 미만이면 40점으로 계산"
   ]
  },
  {
   "attachments": {},
   "cell_type": "markdown",
   "metadata": {},
   "source": [
    "### 통과)"
   ]
  },
  {
   "cell_type": "code",
   "execution_count": 1,
   "metadata": {},
   "outputs": [
    {
     "name": "stdout",
     "output_type": "stream",
     "text": [
      "68\n"
     ]
    }
   ],
   "source": [
    "total = 0\n",
    "for _ in range(5):\n",
    "    score = int(input())\n",
    "    # 점수가 40점 미만이면 40점으로 계산\n",
    "    if score < 40:\n",
    "        score = 40\n",
    "    # 총합 구하기\n",
    "    total += score\n",
    "# 5명의 점수 평균\n",
    "print(total // 5)"
   ]
  }
 ],
 "metadata": {
  "kernelspec": {
   "display_name": "base",
   "language": "python",
   "name": "python3"
  },
  "language_info": {
   "codemirror_mode": {
    "name": "ipython",
    "version": 3
   },
   "file_extension": ".py",
   "mimetype": "text/x-python",
   "name": "python",
   "nbconvert_exporter": "python",
   "pygments_lexer": "ipython3",
   "version": "3.9.7"
  },
  "orig_nbformat": 4
 },
 "nbformat": 4,
 "nbformat_minor": 2
}

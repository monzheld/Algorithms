{
 "cells": [
  {
   "attachments": {},
   "cell_type": "markdown",
   "metadata": {},
   "source": [
    "14916번\n",
    "\n",
    "[문제](https://www.acmicpc.net/problem/14916)"
   ]
  },
  {
   "attachments": {},
   "cell_type": "markdown",
   "metadata": {},
   "source": [
    "### 탐욕(Greedy)"
   ]
  },
  {
   "attachments": {},
   "cell_type": "markdown",
   "metadata": {},
   "source": [
    "- 손님이 2원짜리와 5원짜리로만 거스름돈을 달라고 함\n",
    "- 2원짜리 동전과 5원짜리 동전은 무한정 많이 가지고 있음\n",
    "- 동전의 개수가 최소가 되도록 거슬러 주어야 함\n",
    "- 거스름돈이 n인 경우, **최소 동전의 개수가 몇 개인지** 알려주기\n",
    "- 예를 들어, 거스름돈이 15원이면 5원짜리 3개를\n",
    "    - 거스름돈이 14원이면 5원짜리 2개와 2원짜리 2개로 총 4개를\n",
    "    - 거스름돈이 13원이면 5원짜리 1개와 2원짜리 4개로 총 5개를 주어야 함"
   ]
  },
  {
   "attachments": {},
   "cell_type": "markdown",
   "metadata": {},
   "source": [
    "- 입력\n",
    "    - 첫째 줄에 거스름돈 액수 n(1 ≤ n ≤ 100,000)이 주어짐\n",
    "- 출력\n",
    "    - 거스름돈 동전의 최소 개수를 출력\n",
    "    - 만약 거슬러 줄 수 없으면 -1을 출력\n",
    "\n",
    "- 시간 제한: 2초\n",
    "- 메모리 제한: 512 MB"
   ]
  },
  {
   "cell_type": "code",
   "execution_count": null,
   "metadata": {},
   "outputs": [],
   "source": [
    "\"\"\"\n",
    "입출력 예시)\n",
    "\n",
    "(예제 입력 1) \n",
    "13 -> 5\n",
    "\n",
    "(예제 입력 2)\n",
    "14 -> 4\n",
    "\"\"\""
   ]
  },
  {
   "attachments": {},
   "cell_type": "markdown",
   "metadata": {},
   "source": [
    "## 2023/06/08"
   ]
  },
  {
   "cell_type": "code",
   "execution_count": null,
   "metadata": {},
   "outputs": [],
   "source": [
    "## 의사코드 ##\n",
    "\n",
    "# 잔돈은 5원과 2원으로만\n",
    "# for c in [5, 2]:\n",
    "#     n = change // c # 필요한 동전의 개수\n",
    "#     # 남은 거스름돈이 없으면 잔돈 개수 + n 하고 중지\n",
    "#     if change - (c*n) == 0:\n",
    "#         cnt += n\n",
    "#         break \n",
    "#     # 남은 거스름돈이 홀수이면 동전 개수 - 1\n",
    "#     elif change - (c*n) % 2 != 0:\n",
    "#         n -= 1\n",
    "#         cnt += n \n",
    "#     # 짝수로 나눠 떨어지면 잔돈 개수 + n\n",
    "#     else:\n",
    "#         cnt += n\n",
    "#     change -= c * n # 남은 거스름돈 계산 "
   ]
  },
  {
   "attachments": {},
   "cell_type": "markdown",
   "metadata": {},
   "source": [
    "### 1)"
   ]
  },
  {
   "cell_type": "code",
   "execution_count": 15,
   "metadata": {},
   "outputs": [
    {
     "name": "stdout",
     "output_type": "stream",
     "text": [
      "4\n"
     ]
    }
   ],
   "source": [
    "# 거스름돈 \n",
    "change = int(input())\n",
    "# 잔돈 개수 \n",
    "cnt = 0 \n",
    "for c in [5, 2]:\n",
    "    n = change // c # 필요한 동전의 개수\n",
    "    # 남은 거스름돈이 없으면 잔돈 개수 + n 하고 중지\n",
    "    if change - (c*n) == 0:\n",
    "        cnt += n\n",
    "        break \n",
    "    # 남은 거스름돈이 홀수이면 동전 개수 - 1\n",
    "    elif change - (c*n) % 2 != 0:\n",
    "        n -= 1\n",
    "        cnt += n \n",
    "    # 짝수로 나눠 떨어지면 잔돈 개수 + n\n",
    "    else:\n",
    "        cnt += n\n",
    "    change -= c * n # 남은 거스름돈 계산 \n",
    "print(cnt)"
   ]
  },
  {
   "attachments": {},
   "cell_type": "markdown",
   "metadata": {},
   "source": [
    "-> 틀림 (거슬러 줄 수 없으면 -1 출력해야한다는 것 깜빡함)"
   ]
  },
  {
   "attachments": {},
   "cell_type": "markdown",
   "metadata": {},
   "source": [
    "### 통과)"
   ]
  },
  {
   "cell_type": "code",
   "execution_count": 17,
   "metadata": {},
   "outputs": [
    {
     "name": "stdout",
     "output_type": "stream",
     "text": [
      "4\n"
     ]
    }
   ],
   "source": [
    "# 거스름돈 \n",
    "change = int(input())\n",
    "# 잔돈 개수 \n",
    "cnt = 0 \n",
    "\n",
    "while True:\n",
    "    # 거스름돈이 5로 나누어 떨어지면 잔돈 개수는 거스름돈을 5로 나눈 수\n",
    "    if change % 5 == 0:\n",
    "        cnt += change // 5\n",
    "        break\n",
    "    # 5로 나누어 떨어지지 않으면 거스름돈에서 2씩 차감하면서 잔돈 개수 + 1\n",
    "    else:\n",
    "        change -= 2\n",
    "        cnt += 1\n",
    "    # 거스름돈이 음수가 되면 중지\n",
    "    if change < 0:\n",
    "        break\n",
    "# 거슬러 줄 수 없으면 -1 \n",
    "if change < 0:\n",
    "    print(-1)\n",
    "# 거슬러 줄 수 있으면 잔돈 개수 출력\n",
    "else:\n",
    "    print(cnt)"
   ]
  },
  {
   "attachments": {},
   "cell_type": "markdown",
   "metadata": {},
   "source": [
    "-> for문으로 돌지 않고 5로 나누어 떨어지지 않으면 2원씩 차감하기"
   ]
  }
 ],
 "metadata": {
  "kernelspec": {
   "display_name": "base",
   "language": "python",
   "name": "python3"
  },
  "language_info": {
   "codemirror_mode": {
    "name": "ipython",
    "version": 3
   },
   "file_extension": ".py",
   "mimetype": "text/x-python",
   "name": "python",
   "nbconvert_exporter": "python",
   "pygments_lexer": "ipython3",
   "version": "3.9.7"
  },
  "orig_nbformat": 4
 },
 "nbformat": 4,
 "nbformat_minor": 2
}

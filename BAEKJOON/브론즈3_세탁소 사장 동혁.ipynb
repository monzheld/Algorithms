{
 "cells": [
  {
   "attachments": {},
   "cell_type": "markdown",
   "metadata": {},
   "source": [
    "2720번\n",
    "\n",
    "[문제](https://www.acmicpc.net/problem/2720)"
   ]
  },
  {
   "attachments": {},
   "cell_type": "markdown",
   "metadata": {},
   "source": [
    "### 탐욕(Greedy)"
   ]
  },
  {
   "attachments": {},
   "cell_type": "markdown",
   "metadata": {},
   "source": [
    "- 거스름돈의 액수가 주어지면 리암이 줘야할 **쿼터(Quarter, $0.25)의 개수, 다임(Dime, $0.10)의 개수, 니켈(Nickel, $0.05)의 개수, 페니(Penny, $0.01)의 개수** 구하기\n",
    "- 거스름돈은 항상 $5.00 이하이고, 손님이 받는 **동전의 개수를 최소**로 하려고 함\n",
    "- 예를 들어, $1.24를 거슬러 주어야 한다면,\n",
    "    - 손님은 4쿼터, 2다임, 0니켈, 4페니를 받게 됨"
   ]
  },
  {
   "attachments": {},
   "cell_type": "markdown",
   "metadata": {},
   "source": [
    "- 입력\n",
    "    - 첫째 줄에 테스트 케이스의 개수 T가 주어짐\n",
    "    - 각 테스트 케이스는 거스름돈 C를 나타내는 정수 하나로 이루어져 있음\n",
    "    - C의 단위는 센트 (1달러 = 100센트) (1<=C<=500)\n",
    "- 출력\n",
    "    - 각 테스트케이스에 대해 필요한 쿼터의 개수, 다임의 개수, 니켈의 개수, 페니의 개수를 공백으로 구분하여 출력\n",
    "\n",
    "- 시간 제한: 1초\n",
    "- 메모리 제한: 128 MB"
   ]
  },
  {
   "cell_type": "code",
   "execution_count": null,
   "metadata": {},
   "outputs": [],
   "source": [
    "\"\"\"\n",
    "입출력 예시)\n",
    "\n",
    "3\n",
    "124\n",
    "25\n",
    "194\n",
    "    -> 4 2 0 4\n",
    "       1 0 0 0\n",
    "       7 1 1 4\n",
    "\"\"\""
   ]
  },
  {
   "attachments": {},
   "cell_type": "markdown",
   "metadata": {},
   "source": [
    "## 2023/02/17"
   ]
  },
  {
   "cell_type": "code",
   "execution_count": null,
   "metadata": {},
   "outputs": [],
   "source": [
    "## 의사코드 ##\n",
    "\n",
    "# 거스름돈 동전의 개수를 최소로 -> 금액이 가장 큰 잔돈부터 차감\n",
    "\n",
    "# 동전 리스트 = 쿼터(Quarter, $0.25), 다임(Dime, $0.10), 니켈(Nickel, $0.05), 페니(Penny, $0.01)\n",
    "# [25, 10, 5, 1]\n",
    "\n",
    "# for _ in range(t):\n",
    "#     c = int(input()) # 거스름돈\n",
    "#     for coin in coins:\n",
    "#         n = c // coin # 필요한 동전의 개수\n",
    "#         c -= coin * n # 남은 거스름돈 계산\n",
    "#         print(n, end=\" \") "
   ]
  },
  {
   "attachments": {},
   "cell_type": "markdown",
   "metadata": {},
   "source": [
    "### 통과)"
   ]
  },
  {
   "cell_type": "code",
   "execution_count": 3,
   "metadata": {},
   "outputs": [
    {
     "name": "stdout",
     "output_type": "stream",
     "text": [
      "4 2 0 4 1 0 0 0 7 1 1 4 "
     ]
    }
   ],
   "source": [
    "t = int(input())\n",
    "# 동전 리스트\n",
    "coins = [25, 10, 5, 1]\n",
    "\n",
    "for _ in range(t):\n",
    "    # 거스름돈\n",
    "    c = int(input())\n",
    "    for coin in coins:\n",
    "        n = c // coin # 필요한 동전의 개수\n",
    "        c -= coin * n # 남은 거스름돈 계산\n",
    "        print(n, end=\" \") "
   ]
  },
  {
   "attachments": {},
   "cell_type": "markdown",
   "metadata": {},
   "source": [
    "### 다른 풀이"
   ]
  },
  {
   "cell_type": "code",
   "execution_count": null,
   "metadata": {},
   "outputs": [],
   "source": [
    "n = int(input())\n",
    "\n",
    "for _ in range(n):\n",
    "\tmoney = int(input())\n",
    "\tfor i in [25, 10, 5, 1]:\n",
    "\t\tprint(money//i, end=' ')\n",
    "\t\tmoney = money%i"
   ]
  },
  {
   "attachments": {},
   "cell_type": "markdown",
   "metadata": {},
   "source": [
    "-> 남은 거스름돈을 동전으로 나눈 나머지로 계산"
   ]
  }
 ],
 "metadata": {
  "kernelspec": {
   "display_name": "cp2",
   "language": "python",
   "name": "python3"
  },
  "language_info": {
   "codemirror_mode": {
    "name": "ipython",
    "version": 3
   },
   "file_extension": ".py",
   "mimetype": "text/x-python",
   "name": "python",
   "nbconvert_exporter": "python",
   "pygments_lexer": "ipython3",
   "version": "3.9.12"
  },
  "orig_nbformat": 4,
  "vscode": {
   "interpreter": {
    "hash": "5ca59c31ddc1bb1d3e926feef50b5ca0d1eacb2093eee1a1a79c0269dbb49758"
   }
  }
 },
 "nbformat": 4,
 "nbformat_minor": 2
}

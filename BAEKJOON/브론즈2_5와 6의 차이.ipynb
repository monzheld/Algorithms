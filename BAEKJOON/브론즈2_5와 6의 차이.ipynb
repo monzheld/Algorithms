{
 "cells": [
  {
   "attachments": {},
   "cell_type": "markdown",
   "metadata": {},
   "source": [
    "2864번\n",
    "\n",
    "[문제](https://www.acmicpc.net/problem/2864)"
   ]
  },
  {
   "attachments": {},
   "cell_type": "markdown",
   "metadata": {},
   "source": [
    "### 탐욕(Greedy)"
   ]
  },
  {
   "attachments": {},
   "cell_type": "markdown",
   "metadata": {},
   "source": [
    "- 상근이가 숫자 5를 볼 때, 5로 볼 때도 있지만, 6으로 잘못 볼 수도 있고, 6을 볼 때는, 6으로 볼 때도 있지만, 5로 잘못 볼 수도 있음\n",
    "- 두 수 A와 B가 주어졌을 때, 상근이는 이 두 수를 더하려고 함\n",
    "- 상근이가 구할 수 있는 **두 수의 가능한 합 중, 최솟값과 최댓값**을 구하기"
   ]
  },
  {
   "attachments": {},
   "cell_type": "markdown",
   "metadata": {},
   "source": [
    "- 입력\n",
    "    - 첫째 줄에 두 정수 A와 B가 주어짐 (1 <= A,B <= 1,000,000)\n",
    "- 출력\n",
    "    - 첫째 줄에 상근이가 구할 수 있는 두 수의 합 중 최솟값과 최댓값을 출력\n",
    "\n",
    "- 시간 제한: 1초\n",
    "- 메모리 제한: 128 MB"
   ]
  },
  {
   "cell_type": "code",
   "execution_count": null,
   "metadata": {},
   "outputs": [],
   "source": [
    "\"\"\"\n",
    "입출력 예시)\n",
    "\n",
    "(예제 입력 1) \n",
    "11 25 -> 36 37\n",
    "\n",
    "(예제 입력 2)\n",
    "1430 4862 -> 6282 6292\n",
    "\n",
    "(예제 입력 3)\n",
    "16796 58786 -> 74580 85582\n",
    "\"\"\""
   ]
  },
  {
   "attachments": {},
   "cell_type": "markdown",
   "metadata": {},
   "source": [
    "## 2023/02/18"
   ]
  },
  {
   "cell_type": "code",
   "execution_count": null,
   "metadata": {},
   "outputs": [],
   "source": [
    "## 의사코드 ##\n",
    "\n",
    "# 두 수의 합 중 최솟값 -> 6을 5로 바꾼 수들의 합\n",
    "# 두 수의 합 중 최댓값 -> 5를 6으로 바꾼 수들의 합\n",
    "\n",
    "# min = int(a.replace('6', '5')) + int(b.replace('6', '5'))\n",
    "# max = int(a.replace('5', '6')) + int(b.replace('5', '6'))"
   ]
  },
  {
   "attachments": {},
   "cell_type": "markdown",
   "metadata": {},
   "source": [
    "### 통과)"
   ]
  },
  {
   "cell_type": "code",
   "execution_count": 7,
   "metadata": {},
   "outputs": [
    {
     "name": "stdout",
     "output_type": "stream",
     "text": [
      "6282 6292\n"
     ]
    }
   ],
   "source": [
    "a, b = input().split()\n",
    "# min = 6을 5로 바꾼 수들의 합, max = 5를 6으로 바꾼 수들의 합\n",
    "print(int(a.replace('6', '5')) + int(b.replace('6', '5')), int(a.replace('5', '6')) + int(b.replace('5', '6')))"
   ]
  },
  {
   "cell_type": "code",
   "execution_count": 10,
   "metadata": {},
   "outputs": [
    {
     "data": {
      "text/plain": [
       "'1430'"
      ]
     },
     "execution_count": 10,
     "metadata": {},
     "output_type": "execute_result"
    }
   ],
   "source": [
    "# cf) str.replace('변경하고 싶은 문자', '변경 후 문자')\n",
    "# str에 '변경하고 싶은 문자'가 존재하지 않는 경우, replace 되지 않고 str을 그대로 반환\n",
    "a = '1430'\n",
    "a.replace('6', '5')"
   ]
  }
 ],
 "metadata": {
  "kernelspec": {
   "display_name": "cp2",
   "language": "python",
   "name": "python3"
  },
  "language_info": {
   "codemirror_mode": {
    "name": "ipython",
    "version": 3
   },
   "file_extension": ".py",
   "mimetype": "text/x-python",
   "name": "python",
   "nbconvert_exporter": "python",
   "pygments_lexer": "ipython3",
   "version": "3.9.12"
  },
  "orig_nbformat": 4,
  "vscode": {
   "interpreter": {
    "hash": "5ca59c31ddc1bb1d3e926feef50b5ca0d1eacb2093eee1a1a79c0269dbb49758"
   }
  }
 },
 "nbformat": 4,
 "nbformat_minor": 2
}

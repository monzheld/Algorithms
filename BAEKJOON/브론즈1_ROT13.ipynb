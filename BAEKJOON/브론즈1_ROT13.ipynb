{
 "cells": [
  {
   "attachments": {},
   "cell_type": "markdown",
   "metadata": {},
   "source": [
    "11655번\n",
    "\n",
    "[문제](https://www.acmicpc.net/problem/11655)"
   ]
  },
  {
   "attachments": {},
   "cell_type": "markdown",
   "metadata": {},
   "source": [
    "- ROT13은 카이사르 암호의 일종으로 **영어 알파벳을 13글자씩 밀어서** 만듦\n",
    "- 예를 들어, \"Baekjoon Online Judge\"를 ROT13으로 암호화하면 \"Onrxwbba Bayvar Whqtr\"\n",
    "- ROT13으로 암호화한 내용을 원래 내용으로 바꾸려면 암호화한 문자열을 다시 ROT13하면 됨\n",
    "- 앞에서 암호화한 문자열 \"Onrxwbba Bayvar Whqtr\"에 다시 ROT13을 적용하면 \"Baekjoon Online Judge\"\n",
    "- ROT13은 **알파벳 대문자와 소문자에만 적용**할 수 있음\n",
    "- 알파벳이 아닌 글자는 원래 글자 그대로 남아 있어야 함\n",
    "- 예를 들어, \"One is 1\"을 ROT13으로 암호화하면 \"Bar vf 1\"\n",
    "- 문자열이 주어졌을 때, \"ROT13\"으로 암호화한 다음 출력하기"
   ]
  },
  {
   "attachments": {},
   "cell_type": "markdown",
   "metadata": {},
   "source": [
    "- 입력\n",
    "    - 첫째 줄에 알파벳 대문자, 소문자, 공백, 숫자로만 이루어진 문자열 S가 주어짐\n",
    "    - S의 길이는 100을 넘지 않음\n",
    "- 출력\n",
    "    - 첫째 줄에 S를 ROT13으로 암호화한 내용을 출력\n",
    "\n",
    "- 시간 제한: 1초\n",
    "- 메모리 제한: 256 MB"
   ]
  },
  {
   "cell_type": "code",
   "execution_count": null,
   "metadata": {},
   "outputs": [],
   "source": [
    "\"\"\"\n",
    "입출력 예시)\n",
    "\n",
    "(예제 입력 1) \n",
    "Baekjoon Online Judge\n",
    "                        -> Onrxwbba Bayvar Whqtr\n",
    "\n",
    "(예제 입력 2) \n",
    "One is 1\n",
    "        -> Bar vf 1\n",
    "\"\"\""
   ]
  },
  {
   "attachments": {},
   "cell_type": "markdown",
   "metadata": {},
   "source": [
    "## 2023/06/02"
   ]
  },
  {
   "cell_type": "code",
   "execution_count": null,
   "metadata": {},
   "outputs": [],
   "source": [
    "## 의사코드 ##\n",
    "\n",
    "# # 알파벳인 경우, ROT13으로 변경\n",
    "# if s.isalpha():\n",
    "#     # z를 넘어가면 다시 a부터 시작\n",
    "#     if ord(s) + 13 > ord('z'):\n",
    "#         new += chr((ord('a')-1) + (ord(s) + 13) - (ord('z')))\n",
    "#     # Z를 넘어가면 다시 A부터 시작\n",
    "#     elif ord(s) + 13 > ord('Z') and ord(s) < (ord('Z')+1):\n",
    "#         new += chr((ord('A')-1) + (ord(s) + 13) - (ord('Z')))\n",
    "#     else:\n",
    "#         new += chr(ord(s) + 13)\n",
    "# # 알파벳이 아닌 경우, 변경 x\n",
    "# else:\n",
    "#     new += s"
   ]
  },
  {
   "attachments": {},
   "cell_type": "markdown",
   "metadata": {},
   "source": [
    "### 통과)"
   ]
  },
  {
   "cell_type": "code",
   "execution_count": 6,
   "metadata": {},
   "outputs": [
    {
     "name": "stdout",
     "output_type": "stream",
     "text": [
      "Bar vf 1\n"
     ]
    }
   ],
   "source": [
    "string = input()\n",
    "new = ''\n",
    "for s in string:\n",
    "    # 알파벳인 경우, ROT13으로 변경\n",
    "    if s.isalpha():\n",
    "        # z를 넘어가면 다시 a부터 시작\n",
    "        if ord(s) + 13 > ord('z'):\n",
    "            new += chr((ord('a')-1) + (ord(s) + 13) - (ord('z')))\n",
    "        # Z를 넘어가면 다시 A부터 시작\n",
    "        elif ord(s) + 13 > ord('Z') and ord(s) < (ord('Z')+1):\n",
    "            new += chr((ord('A')-1) + (ord(s) + 13) - (ord('Z')))\n",
    "        else:\n",
    "            new += chr(ord(s) + 13)\n",
    "    # 알파벳이 아닌 경우, 변경 x\n",
    "    else:\n",
    "        new += s\n",
    "\n",
    "print(new)"
   ]
  }
 ],
 "metadata": {
  "kernelspec": {
   "display_name": "base",
   "language": "python",
   "name": "python3"
  },
  "language_info": {
   "codemirror_mode": {
    "name": "ipython",
    "version": 3
   },
   "file_extension": ".py",
   "mimetype": "text/x-python",
   "name": "python",
   "nbconvert_exporter": "python",
   "pygments_lexer": "ipython3",
   "version": "3.9.7"
  },
  "orig_nbformat": 4
 },
 "nbformat": 4,
 "nbformat_minor": 2
}

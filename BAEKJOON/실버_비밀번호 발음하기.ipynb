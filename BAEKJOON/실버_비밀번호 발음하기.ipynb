{
 "cells": [
  {
   "attachments": {},
   "cell_type": "markdown",
   "metadata": {},
   "source": [
    "4659번\n",
    "\n",
    "[문제](https://www.acmicpc.net/problem/4659)"
   ]
  },
  {
   "attachments": {},
   "cell_type": "markdown",
   "metadata": {},
   "source": [
    "### 문자열"
   ]
  },
  {
   "attachments": {},
   "cell_type": "markdown",
   "metadata": {},
   "source": [
    "- 회사 FnordCom은 그런 패스워드 생성기를 만들려고 계획 중\n",
    "- 당신은 그 회사 품질 관리 부서의 직원으로 생성기를 테스트해보고 생성되는 패스워드의 품질을 평가하여야 함\n",
    "- 높은 품질을 가진 비밀번호의 조건은 다음과 같음\n",
    "    - 1) **모음(a,e,i,o,u) 하나를 반드시 포함**하여야 함\n",
    "    - 2) **모음이 3개 혹은 자음이 3개 연속으로 오면 안 됨**\n",
    "    - 3) 같은 글자가 연속적으로 두번 오면 안되나, **ee 와 oo는 허용**"
   ]
  },
  {
   "attachments": {},
   "cell_type": "markdown",
   "metadata": {},
   "source": [
    "- 입력\n",
    "    - 입력은 여러개의 테스트 케이스로 이루어져 있음\n",
    "    - 각 테스트 케이스는 한 줄로 이루어져 있으며, 각 줄에 테스트할 패스워드가 주어짐\n",
    "    - 마지막 테스트 케이스는 end이며, 패스워드는 한글자 이상 20글자 이하의 문자열\n",
    "    - 또한 패스워드는 대문자를 포함하지 않음\n",
    "- 출력\n",
    "    - 각 테스트 케이스를 '예제 출력'의 형태에 기반하여 품질을 평가\n",
    "\n",
    "- 시간 제한: 1초\n",
    "- 메모리 제한: 128 MB"
   ]
  },
  {
   "cell_type": "code",
   "execution_count": null,
   "metadata": {},
   "outputs": [],
   "source": [
    "\"\"\"\n",
    "입출력 예시)\n",
    "\n",
    "a\n",
    "tv\n",
    "ptoui\n",
    "bontres\n",
    "zoggax\n",
    "wiinq\n",
    "eep\n",
    "houctuh\n",
    "end\n",
    "        -> <a> is acceptable.\n",
    "           <tv> is not acceptable.\n",
    "           <ptoui> is not acceptable.\n",
    "           <bontres> is not acceptable.\n",
    "           <zoggax> is not acceptable.\n",
    "           <wiinq> is not acceptable.\n",
    "           <eep> is acceptable.\n",
    "           <houctuh> is acceptable.\n",
    "\"\"\""
   ]
  },
  {
   "attachments": {},
   "cell_type": "markdown",
   "metadata": {},
   "source": [
    "## 2023/06/09"
   ]
  },
  {
   "cell_type": "code",
   "execution_count": null,
   "metadata": {},
   "outputs": [],
   "source": [
    "## 의사코드 ##\n",
    "\n",
    "# 1) 모음(a,e,i,o,u) 하나를 반드시 포함\n",
    "\n",
    "# 2) 모음이 3개 혹은 자음이 3개 연속으로 오면 안 됨\n",
    "\n",
    "# 3) 같은 글자가 연속적으로 두번 오면 안되나, ee 와 oo는 허용\n",
    "\n",
    "# 조건 2와 조건 3 -> 객체로 따로 저장해서 조건 체크\n",
    "# rule2, rule3 = 0, 0"
   ]
  },
  {
   "attachments": {},
   "cell_type": "markdown",
   "metadata": {},
   "source": [
    "### 통과)"
   ]
  },
  {
   "cell_type": "code",
   "execution_count": 6,
   "metadata": {},
   "outputs": [
    {
     "name": "stdout",
     "output_type": "stream",
     "text": [
      "<a> is acceptable.\n",
      "<tv> is not acceptable.\n",
      "<ptoui> is not acceptable.\n",
      "<bontres> is not acceptable.\n",
      "<zoggax> is not acceptable.\n",
      "<wiinq> is not acceptable.\n",
      "<eep> is acceptable.\n",
      "<houctuh> is acceptable.\n"
     ]
    }
   ],
   "source": [
    "# 모음 리스트\n",
    "vowel = ['a','e','i','o','u']\n",
    "\n",
    "while True:\n",
    "    rule1, rule2, rule3 = 0, 0, 0\n",
    "    password = input()\n",
    "    if password == 'end':\n",
    "        break\n",
    "    # 1) 모음(a,e,i,o,u) 하나를 반드시 포함 \n",
    "    for v in vowel:\n",
    "        if v in password:\n",
    "            rule1 += 1\n",
    "    # 모음이 하나도 들어있지 않으면 부적합\n",
    "    if rule1 < 1:\n",
    "        print(f'<{password}> is not acceptable.')\n",
    "        continue\n",
    "    # 2) 모음이 3개 혹은 자음이 3개 연속으로 오면 안 됨\n",
    "    for i in range(len(password)-2):\n",
    "        # 모음이 3개 연속 오는 경우\n",
    "        if password[i] in vowel and password[i+1] in vowel and password[i+2] in vowel:\n",
    "            rule2 += 1\n",
    "        # 자음이 3개 연속 오는 경우\n",
    "        elif not(password[i] in vowel) and not(password[i+1] in vowel) and not(password[i+2] in vowel):\n",
    "            rule2 += 1\n",
    "    # 연속으로 모음이 3개 혹은 자음이 3개 오는 경우 부적합\n",
    "    if rule2 == 1:\n",
    "        print(f'<{password}> is not acceptable.')\n",
    "        continue\n",
    "    # 3) 같은 글자가 연속적으로 두번 오면 안되나, ee 와 oo는 허용\n",
    "    for i in range(len(password)-1):\n",
    "        if password[i] == password[i+1]:\n",
    "            if password[i] == 'e' or password[i] == 'o':\n",
    "                continue\n",
    "            # 'ee', 'oo' 제외 같은 글자가 연속으로 오는 경우  \n",
    "            else:\n",
    "                rule3 += 1\n",
    "    # 'ee', 'oo' 제외 같은 글자가 연속으로 오는 경우 부적합\n",
    "    if rule3 == 1:\n",
    "        print(f'<{password}> is not acceptable.')\n",
    "        continue\n",
    "    \n",
    "    # 조건을 다 통과한 경우, 적합한 비밀번호\n",
    "    print(f'<{password}> is acceptable.')\n"
   ]
  }
 ],
 "metadata": {
  "kernelspec": {
   "display_name": "base",
   "language": "python",
   "name": "python3"
  },
  "language_info": {
   "codemirror_mode": {
    "name": "ipython",
    "version": 3
   },
   "file_extension": ".py",
   "mimetype": "text/x-python",
   "name": "python",
   "nbconvert_exporter": "python",
   "pygments_lexer": "ipython3",
   "version": "3.9.7"
  },
  "orig_nbformat": 4
 },
 "nbformat": 4,
 "nbformat_minor": 2
}

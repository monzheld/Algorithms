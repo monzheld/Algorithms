{
 "cells": [
  {
   "attachments": {},
   "cell_type": "markdown",
   "metadata": {},
   "source": [
    "3059번\n",
    "\n",
    "[문제](https://www.acmicpc.net/problem/3059)"
   ]
  },
  {
   "attachments": {},
   "cell_type": "markdown",
   "metadata": {},
   "source": [
    "### 문자열"
   ]
  },
  {
   "attachments": {},
   "cell_type": "markdown",
   "metadata": {},
   "source": [
    "- 알파벳 대문자로 구성되어있는 문자열 S가 주어졌을 때, S에 등장하지 않는 알파벳 대문자의 아스키 코드 값의 합 구하기\n",
    "- 문자열 S가 “ABCDEFGHIJKLMNOPQRSTUVW” 일 때, S에 등장하지 않는 알파벳 대문자는 X, Y, Z\n",
    "    - X의 아스키 코드 값은 88, Y는 89, Z는 90이므로 이 아스키 코드 값의 합은 267"
   ]
  },
  {
   "attachments": {},
   "cell_type": "markdown",
   "metadata": {},
   "source": [
    "- 입력\n",
    "    - 입력은 T개의 테스트 데이터로 구성\n",
    "    - 입력의 첫 번째 줄에는 입력 데이터의 수를 나타내는 정수 T가 주어짐\n",
    "    - 각 테스트 데이터는 한 줄로 구성되어 있고, 문자열 S가 주어짐\n",
    "    - S는 알파벳 대문자로만 구성되어 있고, 최대 1000글자\n",
    "- 출력\n",
    "    - 각 테스트 데이터에 대해, 입력으로 주어진 문자열 S에 등장하지 않는 알파벳 대문자의 아스키 코드 값의 합을 한 줄에 하나씩 출력\n",
    "\n",
    "- 시간 제한: 1초\n",
    "- 메모리 제한: 128 MB"
   ]
  },
  {
   "cell_type": "code",
   "execution_count": null,
   "metadata": {},
   "outputs": [],
   "source": [
    "\"\"\"\n",
    "입출력 예시)\n",
    "\n",
    "2\n",
    "ABCDEFGHIJKLMNOPQRSTUVW\n",
    "A\n",
    "        -> 267\n",
    "           1950\n",
    "\"\"\""
   ]
  },
  {
   "attachments": {},
   "cell_type": "markdown",
   "metadata": {},
   "source": [
    "## 2023/03/01"
   ]
  },
  {
   "cell_type": "code",
   "execution_count": null,
   "metadata": {},
   "outputs": [],
   "source": [
    "## 의사코드 ##\n",
    "\n",
    "# 아스키코드 값 -> ord(str)\n",
    "\n",
    "# 전체 알파벳을 담은 리스트\n",
    "# alphabet = ['A', 'B', 'C', 'D', 'E', 'F', 'G', 'H', 'I', 'J', 'K', 'L', 'M', 'N', 'O', 'P', 'Q', 'R', 'S', 'T', 'U', 'V', 'W', 'X', 'Y', 'Z']\n",
    "\n",
    "# res = 0 \n",
    "# for i in alphabet:\n",
    "#     # 현재 알파벳이 문자열 s에 등장하지 않으면 아스키코드 값 더하기\n",
    "#     if i not in s:\n",
    "#         res += ord(i)\n",
    "\n",
    "# print(res)"
   ]
  },
  {
   "attachments": {},
   "cell_type": "markdown",
   "metadata": {},
   "source": [
    "### 통과)"
   ]
  },
  {
   "cell_type": "code",
   "execution_count": 3,
   "metadata": {},
   "outputs": [
    {
     "name": "stdout",
     "output_type": "stream",
     "text": [
      "267\n",
      "1950\n"
     ]
    }
   ],
   "source": [
    "t = int(input())\n",
    "\n",
    "for _ in range(t):\n",
    "    s = input()\n",
    "    # 전체 알파벳을 담은 리스트\n",
    "    alphabet = ['A', 'B', 'C', 'D', 'E', 'F', 'G', 'H', 'I', 'J', 'K', 'L', 'M', 'N', 'O', 'P', 'Q', 'R', 'S', 'T', 'U', 'V', 'W', 'X', 'Y', 'Z']\n",
    "    res = 0 \n",
    "    for i in alphabet:\n",
    "        # 현재 알파벳이 문자열 s에 등장하지 않으면 아스키코드 값 더하기\n",
    "        if i not in s:\n",
    "            res += ord(i)\n",
    "\n",
    "    print(res)"
   ]
  },
  {
   "attachments": {},
   "cell_type": "markdown",
   "metadata": {},
   "source": [
    "### 다른 풀이"
   ]
  },
  {
   "cell_type": "code",
   "execution_count": null,
   "metadata": {},
   "outputs": [],
   "source": [
    "def get_not_appearing_word_sum(input_list):\n",
    "    input_str_ascii_list = set([ord(char) for char in input_list])\n",
    "    \n",
    "    not_appearing = [num for num in range(ord('A'), ord('Z') + 1) if num not in input_str_ascii_list]\n",
    "    \n",
    "    return sum(not_appearing)\n",
    "    \n",
    "\n",
    "if __name__ == \"__main__\":\n",
    "    for i in range(int(input())):\n",
    "        input_list = list(input())\n",
    "    \n",
    "        print(get_not_appearing_word_sum(input_list))"
   ]
  },
  {
   "attachments": {},
   "cell_type": "markdown",
   "metadata": {},
   "source": [
    "-> 입력받은 문자열에서 각 문자를 하나씩 가져와 ord()로 아스키코드로 변환한 다음, set()으로 중복 제거. ord('A')부터 ord('Z')까지 반복문을 돌면서 입력받은 아스키코드가 아닌 값들만 모아서 sum()으로 총합을 구함"
   ]
  }
 ],
 "metadata": {
  "kernelspec": {
   "display_name": "cp2",
   "language": "python",
   "name": "python3"
  },
  "language_info": {
   "codemirror_mode": {
    "name": "ipython",
    "version": 3
   },
   "file_extension": ".py",
   "mimetype": "text/x-python",
   "name": "python",
   "nbconvert_exporter": "python",
   "pygments_lexer": "ipython3",
   "version": "3.9.12"
  },
  "orig_nbformat": 4,
  "vscode": {
   "interpreter": {
    "hash": "5ca59c31ddc1bb1d3e926feef50b5ca0d1eacb2093eee1a1a79c0269dbb49758"
   }
  }
 },
 "nbformat": 4,
 "nbformat_minor": 2
}

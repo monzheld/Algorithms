{
 "cells": [
  {
   "attachments": {},
   "cell_type": "markdown",
   "metadata": {},
   "source": [
    "5704번\n",
    "\n",
    "[문제](https://www.acmicpc.net/problem/5704)"
   ]
  },
  {
   "attachments": {},
   "cell_type": "markdown",
   "metadata": {},
   "source": [
    "### 문자열"
   ]
  },
  {
   "attachments": {},
   "cell_type": "markdown",
   "metadata": {},
   "source": [
    "- 팬그램은 **알파벳의 모든 글자들을 사용해서 만든 문장**\n",
    "- \"the quick brown fox jumps over a lazy dog\"과 \"jackdaws loves my big sphinx of quartz\"은 팬그램\n",
    "- 문장이 주어졌을 때, 팬그램인지 아닌지를 알아내기"
   ]
  },
  {
   "attachments": {},
   "cell_type": "markdown",
   "metadata": {},
   "source": [
    "- 입력\n",
    "    - 입력은 여러 테스트 케이스로 이루어져 있음\n",
    "    - 각 테스트 케이스는 많아야 200글자로 이루어져 있는 문장\n",
    "    - 단어는 공백 하나로 구분되어 있음\n",
    "    - 또, 단어는 알파벳 소문자로만 이루어져 있음\n",
    "    - 입력의 마지막 줄에는 별표(*)가 하나 주어짐\n",
    "- 출력\n",
    "    - 각 테스트 케이스에 대해서, 입력으로 주어진 문장이 팬그램이라면 'Y', 아니라면 'N'를 출력\n",
    "\n",
    "- 시간 제한: 1초\n",
    "- 메모리 제한: 128 MB"
   ]
  },
  {
   "cell_type": "code",
   "execution_count": null,
   "metadata": {},
   "outputs": [],
   "source": [
    "\"\"\"\n",
    "입출력 예시)\n",
    "\n",
    "jackdawf loves my big quartz sphinx\n",
    "abcdefghijklmnopqrstuvwxyz\n",
    "hello world\n",
    "*\n",
    "                                    -> Y\n",
    "                                       Y\n",
    "                                       N\n",
    "\"\"\""
   ]
  },
  {
   "attachments": {},
   "cell_type": "markdown",
   "metadata": {},
   "source": [
    "## 2023/06/23"
   ]
  },
  {
   "cell_type": "code",
   "execution_count": null,
   "metadata": {},
   "outputs": [],
   "source": [
    "## 의사코드 ##\n",
    "\n",
    "# str.find()로 알파벳 존재 여부 판단\n",
    "\n",
    "# 팬그램 여부 Y로 초기화\n",
    "# res = 'Y'\n",
    "# a-z까지 탐색 \n",
    "# for alpha in range(ord('a'), ord('z')+1):\n",
    "#     # 입력 문장에 현재 알파벳이 없다면 팬그램 여부 N으로 변경\n",
    "#     if string.find(chr(alpha)) == -1:\n",
    "#         res = 'N'\n",
    "#         break "
   ]
  },
  {
   "attachments": {},
   "cell_type": "markdown",
   "metadata": {},
   "source": [
    "### 통과)"
   ]
  },
  {
   "cell_type": "code",
   "execution_count": 10,
   "metadata": {},
   "outputs": [
    {
     "name": "stdout",
     "output_type": "stream",
     "text": [
      "Y\n",
      "Y\n",
      "N\n"
     ]
    }
   ],
   "source": [
    "while True:\n",
    "    string = input()\n",
    "    if string == '*':\n",
    "        break\n",
    "    \n",
    "    # 팬그램 여부 Y로 초기화\n",
    "    res = 'Y'\n",
    "    # a-z까지 탐색 \n",
    "    for alpha in range(ord('a'), ord('z')+1):\n",
    "        # 입력 문장에 현재 알파벳이 없다면 팬그램 여부 N으로 변경\n",
    "        if string.find(chr(alpha)) == -1:\n",
    "            res = 'N'\n",
    "            break \n",
    "    \n",
    "    print(res)"
   ]
  }
 ],
 "metadata": {
  "kernelspec": {
   "display_name": "base",
   "language": "python",
   "name": "python3"
  },
  "language_info": {
   "codemirror_mode": {
    "name": "ipython",
    "version": 3
   },
   "file_extension": ".py",
   "mimetype": "text/x-python",
   "name": "python",
   "nbconvert_exporter": "python",
   "pygments_lexer": "ipython3",
   "version": "3.9.7"
  },
  "orig_nbformat": 4
 },
 "nbformat": 4,
 "nbformat_minor": 2
}

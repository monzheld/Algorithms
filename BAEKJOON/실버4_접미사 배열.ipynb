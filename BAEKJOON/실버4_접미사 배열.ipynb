{
 "cells": [
  {
   "attachments": {},
   "cell_type": "markdown",
   "metadata": {},
   "source": [
    "11656번\n",
    "\n",
    "[문제](https://www.acmicpc.net/problem/11656)"
   ]
  },
  {
   "attachments": {},
   "cell_type": "markdown",
   "metadata": {},
   "source": [
    "### 문자열"
   ]
  },
  {
   "attachments": {},
   "cell_type": "markdown",
   "metadata": {},
   "source": [
    "- 접미사 배열은 문자열 S의 모든 접미사를 사전순으로 정렬해 놓은 배열\n",
    "- baekjoon의 접미사는 baekjoon, aekjoon, ekjoon, kjoon, joon, oon, on, n 으로 총 8가지가 있고\n",
    "    - 이를 사전순으로 정렬하면, aekjoon, baekjoon, ekjoon, joon, kjoon, n, on, oon\n",
    "- 문자열 S가 주어졌을 때, **모든 접미사를 사전순으로 정렬한 다음 출력**"
   ]
  },
  {
   "attachments": {},
   "cell_type": "markdown",
   "metadata": {},
   "source": [
    "- 입력\n",
    "    - 첫째 줄에 문자열 S가 주어짐\n",
    "    - S는 알파벳 소문자로만 이루어져 있고, 길이는 1,000보다 작거나 같음\n",
    "- 출력\n",
    "    - 첫째 줄부터 S의 접미사를 사전순으로 한 줄에 하나씩 출력\n",
    "\n",
    "- 시간 제한: 1초\n",
    "- 메모리 제한: 256 MB"
   ]
  },
  {
   "cell_type": "code",
   "execution_count": null,
   "metadata": {},
   "outputs": [],
   "source": [
    "\"\"\"\n",
    "입출력 예시)\n",
    "\n",
    "baekjoon\n",
    "        -> aekjoon\n",
    "           baekjoon\n",
    "           ekjoon\n",
    "           joon\n",
    "           kjoon\n",
    "           n\n",
    "           on\n",
    "           oon\n",
    "\"\"\""
   ]
  },
  {
   "attachments": {},
   "cell_type": "markdown",
   "metadata": {},
   "source": [
    "## 2023/02/27"
   ]
  },
  {
   "cell_type": "code",
   "execution_count": null,
   "metadata": {},
   "outputs": [],
   "source": [
    "## 의사코드 ##\n",
    "\n",
    "# 접미사 생성 -> 인덱스로 슬라이싱 \n",
    "\n",
    "# suffixs = [] # 접미사를 담을 리스트\n",
    "# for i in range(1, len(s)):\n",
    "#     suffixs.append(s[i:])\n",
    "\n",
    "# 접미사 리스트 사전순으로 정렬\n",
    "# suffixs.sort() \n",
    "\n",
    "# for suffix in suffixs:\n",
    "#     print(suffix )"
   ]
  },
  {
   "attachments": {},
   "cell_type": "markdown",
   "metadata": {},
   "source": [
    "### 1)"
   ]
  },
  {
   "cell_type": "code",
   "execution_count": 1,
   "metadata": {},
   "outputs": [
    {
     "name": "stdout",
     "output_type": "stream",
     "text": [
      "aekjoon\n",
      "ekjoon\n",
      "joon\n",
      "kjoon\n",
      "n\n",
      "on\n",
      "oon\n"
     ]
    }
   ],
   "source": [
    "s = input()\n",
    "\n",
    "suffixs = [] # 접미사를 담을 리스트\n",
    "# 접미사 생성\n",
    "for i in range(1, len(s)):\n",
    "    suffixs.append(s[i:])\n",
    "\n",
    "# 접미사 리스트 사전순으로 정렬\n",
    "suffixs.sort() \n",
    "# 접미사 순서대로 출력\n",
    "for suffix in suffixs:\n",
    "    print(suffix)"
   ]
  },
  {
   "attachments": {},
   "cell_type": "markdown",
   "metadata": {},
   "source": [
    "-> 틀림"
   ]
  },
  {
   "cell_type": "code",
   "execution_count": null,
   "metadata": {},
   "outputs": [],
   "source": [
    "# 과정 확인"
   ]
  },
  {
   "cell_type": "code",
   "execution_count": 3,
   "metadata": {},
   "outputs": [
    {
     "name": "stdout",
     "output_type": "stream",
     "text": [
      "aekjoon\n",
      "ekjoon\n",
      "kjoon\n",
      "joon\n",
      "oon\n",
      "on\n",
      "n\n"
     ]
    }
   ],
   "source": [
    "s = 'baekjoon'\n",
    "\n",
    "# 접미사 생성\n",
    "for i in range(1, len(s)):\n",
    "    print(s[i:])"
   ]
  },
  {
   "attachments": {},
   "cell_type": "markdown",
   "metadata": {},
   "source": [
    "-> baekjoon의 접미사는 baekjoon도 포함되어야 하는데 맨 첫 번째 글자를 제외한 것을 접미사로 생성해서 틀림 (문제를 잘못 읽음)"
   ]
  },
  {
   "attachments": {},
   "cell_type": "markdown",
   "metadata": {},
   "source": [
    "### 통과)"
   ]
  },
  {
   "cell_type": "code",
   "execution_count": 4,
   "metadata": {},
   "outputs": [
    {
     "name": "stdout",
     "output_type": "stream",
     "text": [
      "aekjoon\n",
      "baekjoon\n",
      "ekjoon\n",
      "joon\n",
      "kjoon\n",
      "n\n",
      "on\n",
      "oon\n"
     ]
    }
   ],
   "source": [
    "s = input()\n",
    "\n",
    "suffixs = [] # 접미사를 담을 리스트\n",
    "# 접미사 생성 (자기 자신도 접미사에 포함)\n",
    "for i in range(len(s)):\n",
    "    suffixs.append(s[i:])\n",
    "\n",
    "# 접미사 리스트 사전순으로 정렬\n",
    "suffixs.sort() \n",
    "# 접미사 순서대로 출력\n",
    "for suffix in suffixs:\n",
    "    print(suffix)"
   ]
  },
  {
   "attachments": {},
   "cell_type": "markdown",
   "metadata": {},
   "source": [
    "-> 접미사를 생성할 때, 자기 자신도 포함하기 위해 `for i in range(len(s))` 로 수정"
   ]
  }
 ],
 "metadata": {
  "kernelspec": {
   "display_name": "cp2",
   "language": "python",
   "name": "python3"
  },
  "language_info": {
   "codemirror_mode": {
    "name": "ipython",
    "version": 3
   },
   "file_extension": ".py",
   "mimetype": "text/x-python",
   "name": "python",
   "nbconvert_exporter": "python",
   "pygments_lexer": "ipython3",
   "version": "3.9.12"
  },
  "orig_nbformat": 4,
  "vscode": {
   "interpreter": {
    "hash": "5ca59c31ddc1bb1d3e926feef50b5ca0d1eacb2093eee1a1a79c0269dbb49758"
   }
  }
 },
 "nbformat": 4,
 "nbformat_minor": 2
}

{
 "cells": [
  {
   "attachments": {},
   "cell_type": "markdown",
   "metadata": {},
   "source": [
    "4470번\n",
    "\n",
    "[문제](https://www.acmicpc.net/problem/4470)"
   ]
  },
  {
   "attachments": {},
   "cell_type": "markdown",
   "metadata": {},
   "source": [
    "### 문자열"
   ]
  },
  {
   "attachments": {},
   "cell_type": "markdown",
   "metadata": {},
   "source": [
    "- 텍스트에서 줄을 입력받은 뒤, 줄 번호를 출력하기"
   ]
  },
  {
   "attachments": {},
   "cell_type": "markdown",
   "metadata": {},
   "source": [
    "- 입력\n",
    "    - 첫째 줄에 줄의 수 N이 주어짐\n",
    "    - 둘째 줄부터 N개의 줄에 각 줄의 내용이 주어짐\n",
    "    - 각 줄에 있는 글자의 개수는 50글자를 넘지 않음\n",
    "- 출력\n",
    "    - 각 문장의 앞에 줄 번호를 추가한 뒤 출력\n",
    "    - 줄 번호는 1번부터 시작\n",
    "\n",
    "- 시간 제한: 1초\n",
    "- 메모리 제한: 128 MB"
   ]
  },
  {
   "cell_type": "code",
   "execution_count": null,
   "metadata": {},
   "outputs": [],
   "source": [
    "\"\"\"\n",
    "입출력 예시)\n",
    "\n",
    "5\n",
    "Lionel Cosgrove\n",
    "Alice\n",
    "Columbus and Tallahassee\n",
    "Shaun and Ed\n",
    "Fido\n",
    "        -> 1. Lionel Cosgrove\n",
    "           2. Alice\n",
    "           3. Columbus and Tallahassee\n",
    "           4. Shaun and Ed\n",
    "           5. Fido\n",
    "\"\"\""
   ]
  },
  {
   "attachments": {},
   "cell_type": "markdown",
   "metadata": {},
   "source": [
    "## 2023/05/01"
   ]
  },
  {
   "cell_type": "code",
   "execution_count": null,
   "metadata": {},
   "outputs": [],
   "source": [
    "## 의사코드 ##\n",
    "\n",
    "# for i in range(n):\n",
    "#     s = input()\n",
    "#     print(f'{i+1}. {s}')"
   ]
  },
  {
   "attachments": {},
   "cell_type": "markdown",
   "metadata": {},
   "source": [
    "### 통과)"
   ]
  },
  {
   "cell_type": "code",
   "execution_count": 2,
   "metadata": {},
   "outputs": [
    {
     "name": "stdout",
     "output_type": "stream",
     "text": [
      "1. Lionel Cosgrove\n",
      "2. Alice\n",
      "3. Columbus and Tallahassee\n",
      "4. Shaun and Ed\n",
      "5. Fido\n"
     ]
    }
   ],
   "source": [
    "n = int(input())\n",
    "for i in range(n):\n",
    "    s = input()\n",
    "    print(f'{i+1}. {s}')"
   ]
  }
 ],
 "metadata": {
  "kernelspec": {
   "display_name": "base",
   "language": "python",
   "name": "python3"
  },
  "language_info": {
   "codemirror_mode": {
    "name": "ipython",
    "version": 3
   },
   "file_extension": ".py",
   "mimetype": "text/x-python",
   "name": "python",
   "nbconvert_exporter": "python",
   "pygments_lexer": "ipython3",
   "version": "3.9.7"
  },
  "orig_nbformat": 4
 },
 "nbformat": 4,
 "nbformat_minor": 2
}

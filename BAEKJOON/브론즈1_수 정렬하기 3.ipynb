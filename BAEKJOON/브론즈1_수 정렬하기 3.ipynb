{
 "cells": [
  {
   "attachments": {},
   "cell_type": "markdown",
   "metadata": {},
   "source": [
    "10989번\n",
    "\n",
    "[문제](https://www.acmicpc.net/problem/10989)"
   ]
  },
  {
   "attachments": {},
   "cell_type": "markdown",
   "metadata": {},
   "source": [
    "### 정렬"
   ]
  },
  {
   "attachments": {},
   "cell_type": "markdown",
   "metadata": {},
   "source": [
    "- N개의 수가 주어졌을 때, 이를 **오름차순으로 정렬**하기"
   ]
  },
  {
   "attachments": {},
   "cell_type": "markdown",
   "metadata": {},
   "source": [
    "- 입력\n",
    "    - 첫째 줄에 수의 개수 N(1 ≤ N ≤ 10,000,000)이 주어짐\n",
    "    - 둘째 줄부터 N개의 줄에는 수가 주어짐\n",
    "    - 이 수는 10,000보다 작거나 같은 자연수\n",
    "- 출력\n",
    "    - 첫째 줄부터 N개의 줄에 오름차순으로 정렬한 결과를 한 줄에 하나씩 출력\n",
    "\n",
    "- 시간 제한: 5초\n",
    "- 메모리 제한: 8 MB"
   ]
  },
  {
   "cell_type": "code",
   "execution_count": null,
   "metadata": {},
   "outputs": [],
   "source": [
    "\"\"\"\n",
    "입출력 예시)\n",
    "\n",
    "10\n",
    "5\n",
    "2\n",
    "3\n",
    "1\n",
    "4\n",
    "2\n",
    "3\n",
    "5\n",
    "1\n",
    "7\n",
    "    -> 1\n",
    "       1\n",
    "       2\n",
    "       2\n",
    "       3\n",
    "       3\n",
    "       4\n",
    "       5\n",
    "       5\n",
    "       7\n",
    "\"\"\""
   ]
  },
  {
   "attachments": {},
   "cell_type": "markdown",
   "metadata": {},
   "source": [
    "## 2023/03/28"
   ]
  },
  {
   "cell_type": "code",
   "execution_count": null,
   "metadata": {},
   "outputs": [],
   "source": [
    "## 의사코드 ##\n",
    "\n",
    "# 오름차순 정렬\n",
    "#sort()"
   ]
  },
  {
   "attachments": {},
   "cell_type": "markdown",
   "metadata": {},
   "source": [
    "### 1)"
   ]
  },
  {
   "cell_type": "code",
   "execution_count": 1,
   "metadata": {},
   "outputs": [
    {
     "name": "stdout",
     "output_type": "stream",
     "text": [
      "1\n",
      "1\n",
      "2\n",
      "2\n",
      "3\n",
      "3\n",
      "4\n",
      "5\n",
      "5\n",
      "7\n"
     ]
    }
   ],
   "source": [
    "n = int(input())\n",
    "nums = []\n",
    "for _ in range(n):\n",
    "    nums.append(int(input()))\n",
    "\n",
    "nums.sort()\n",
    "for i in nums:\n",
    "    print(i)"
   ]
  },
  {
   "attachments": {},
   "cell_type": "markdown",
   "metadata": {},
   "source": [
    "-> 메모리 초과"
   ]
  },
  {
   "attachments": {},
   "cell_type": "markdown",
   "metadata": {},
   "source": [
    "### 통과)"
   ]
  },
  {
   "cell_type": "code",
   "execution_count": null,
   "metadata": {},
   "outputs": [],
   "source": [
    "import sys\n",
    "input = sys.stdin.readline\n",
    "num = int(input())\n",
    "arr = [0]*10000 # 입력으로 받을 수 있는 10,000개의 수를 담을 수 있는 배열\n",
    "\n",
    "# 입력받을 때마다 그 수에 해당하는 인덱스에 +1을 한 값으로 그 수의 개수 담기\n",
    "for i in range(num):\n",
    "    a = int(input())\n",
    "    arr[a-1] += 1\n",
    "\n",
    "# 배열을 돌면서 값이 0이 아닌 경우, 값만큼 인덱스에 해당하는 숫자를 출력\n",
    "for i in range(10000):\n",
    "    if arr[i] != 0:\n",
    "        for j in range(arr[i]):\n",
    "            print(i+1)"
   ]
  },
  {
   "attachments": {},
   "cell_type": "markdown",
   "metadata": {},
   "source": [
    "-> 계수정렬 활용"
   ]
  }
 ],
 "metadata": {
  "kernelspec": {
   "display_name": "base",
   "language": "python",
   "name": "python3"
  },
  "language_info": {
   "codemirror_mode": {
    "name": "ipython",
    "version": 3
   },
   "file_extension": ".py",
   "mimetype": "text/x-python",
   "name": "python",
   "nbconvert_exporter": "python",
   "pygments_lexer": "ipython3",
   "version": "3.9.7"
  },
  "orig_nbformat": 4
 },
 "nbformat": 4,
 "nbformat_minor": 2
}

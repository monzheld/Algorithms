{
 "cells": [
  {
   "attachments": {},
   "cell_type": "markdown",
   "metadata": {},
   "source": [
    "27889번\n",
    "\n",
    "[문제](https://www.acmicpc.net/problem/27889)"
   ]
  },
  {
   "attachments": {},
   "cell_type": "markdown",
   "metadata": {},
   "source": [
    "### 문자열"
   ]
  },
  {
   "attachments": {},
   "cell_type": "markdown",
   "metadata": {},
   "source": [
    "- 각 학교의 약칭과 정식 명칭은 다음과 같음\n",
    "    - NLCS: North London Collegiate School\n",
    "    - BHA: Branksome Hall Asia\n",
    "    - KIS: Korea International School\n",
    "    - SJA: St. Johnsbury Academy\n",
    "- 학교 이름을 좋아하는 규빈이는, 학교 이름을 짧게 부르는 것을 싫어하기 때문에, **각 학교의 약칭이 주어졌을 때 정식 명칭을 출력**하기 "
   ]
  },
  {
   "attachments": {},
   "cell_type": "markdown",
   "metadata": {},
   "source": [
    "- 입력\n",
    "    - 첫 번째 줄에 학교의 약칭 중 하나가 주어짐\n",
    "- 출력\n",
    "    - 첫 번째 줄에 입력된 학교의 정식 명칭을 출력\n",
    "\n",
    "- 시간 제한: 1초\n",
    "- 메모리 제한: 512 MB"
   ]
  },
  {
   "cell_type": "code",
   "execution_count": null,
   "metadata": {},
   "outputs": [],
   "source": [
    "\"\"\"\n",
    "입출력 예시)\n",
    "\n",
    "(예제 입력 1) \n",
    "NLCS -> North London Collegiate School\n",
    "\"\"\""
   ]
  },
  {
   "attachments": {},
   "cell_type": "markdown",
   "metadata": {},
   "source": [
    "## 2023/05/18"
   ]
  },
  {
   "cell_type": "code",
   "execution_count": null,
   "metadata": {},
   "outputs": [],
   "source": [
    "## 의사코드 ##\n",
    "\n",
    "# 학교 명칭 -> 딕셔너리에 저장 \n",
    "\n",
    "# 학교 정식 명칭 출력 \n",
    "# print(dic[short])"
   ]
  },
  {
   "attachments": {},
   "cell_type": "markdown",
   "metadata": {},
   "source": [
    "### 통과)"
   ]
  },
  {
   "cell_type": "code",
   "execution_count": 1,
   "metadata": {},
   "outputs": [
    {
     "name": "stdout",
     "output_type": "stream",
     "text": [
      "North London Collegiate School\n"
     ]
    }
   ],
   "source": [
    "# 학교 명칭 딕셔너리\n",
    "dic = {'NLCS': 'North London Collegiate School', 'BHA': 'Branksome Hall Asia', \n",
    "       'KIS': 'Korea International School', 'SJA': 'St. Johnsbury Academy'}\n",
    "# 학교의 약칭\n",
    "short = input()\n",
    "# 학교 정식 명칭 출력 \n",
    "print(dic[short])"
   ]
  }
 ],
 "metadata": {
  "kernelspec": {
   "display_name": "base",
   "language": "python",
   "name": "python3"
  },
  "language_info": {
   "codemirror_mode": {
    "name": "ipython",
    "version": 3
   },
   "file_extension": ".py",
   "mimetype": "text/x-python",
   "name": "python",
   "nbconvert_exporter": "python",
   "pygments_lexer": "ipython3",
   "version": "3.9.7"
  },
  "orig_nbformat": 4
 },
 "nbformat": 4,
 "nbformat_minor": 2
}

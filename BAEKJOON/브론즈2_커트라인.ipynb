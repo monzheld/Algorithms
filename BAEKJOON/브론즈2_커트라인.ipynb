{
 "cells": [
  {
   "attachments": {},
   "cell_type": "markdown",
   "metadata": {},
   "source": [
    "25305번\n",
    "\n",
    "[문제](https://www.acmicpc.net/problem/25305)"
   ]
  },
  {
   "attachments": {},
   "cell_type": "markdown",
   "metadata": {},
   "source": [
    "### 정렬"
   ]
  },
  {
   "attachments": {},
   "cell_type": "markdown",
   "metadata": {},
   "source": [
    "- 2022 연세대학교 미래캠퍼스 슬기로운 코딩생활에 $N$명의 학생들이 응시\n",
    "- 이들 중 점수가 가장 높은 $k$명은 상을 받을 것\n",
    "- 이 때, 상을 받는 커트라인이 몇 점인지 구하기\n",
    "- 커트라인이란 상을 받는 사람들 중 점수가 가장 가장 낮은 사람의 점수를 말함"
   ]
  },
  {
   "attachments": {},
   "cell_type": "markdown",
   "metadata": {},
   "source": [
    "- 입력  \n",
    "    - 첫째 줄에는 응시자의 수 $N$과 상을 받는 사람의 수 $k$가 공백을 사이에 두고 주어짐\n",
    "    - 둘째 줄에는 각 학생의 점수 $x$가 공백을 사이에 두고 주어짐\n",
    "- 출력\n",
    "    - 상을 받는 커트라인을 출력\n",
    "- 제한\n",
    "    -  $1 ≤ N ≤ 1\\,000$ \n",
    "    -  $1 ≤ k ≤ N$ \n",
    "    -  $0 ≤ x ≤ 10\\,000$ \n",
    "\n",
    "- 시간 제한: 1초\n",
    "- 메모리 제한: 1024 MB"
   ]
  },
  {
   "cell_type": "code",
   "execution_count": null,
   "metadata": {},
   "outputs": [],
   "source": [
    "\"\"\"\n",
    "입출력 예시)\n",
    "\n",
    "5 2\n",
    "100 76 85 93 98\n",
    "                -> 98\n",
    "\"\"\""
   ]
  },
  {
   "attachments": {},
   "cell_type": "markdown",
   "metadata": {},
   "source": [
    "## 2023/03/29"
   ]
  },
  {
   "cell_type": "code",
   "execution_count": null,
   "metadata": {},
   "outputs": [],
   "source": [
    "## 의사코드 ##\n",
    "\n",
    "# 학생들의 점수를 내림차순으로 정렬\n",
    "#.sort(reverse=True)\n",
    "# 커트라인\n",
    "#리스트[k-1]"
   ]
  },
  {
   "attachments": {},
   "cell_type": "markdown",
   "metadata": {},
   "source": [
    "### 통과)"
   ]
  },
  {
   "cell_type": "code",
   "execution_count": 2,
   "metadata": {},
   "outputs": [
    {
     "name": "stdout",
     "output_type": "stream",
     "text": [
      "98\n"
     ]
    }
   ],
   "source": [
    "n, k = map(int, input().split())\n",
    "scores = list(map(int, input().split()))\n",
    "\n",
    "# 내림차순으로 정렬\n",
    "scores.sort(reverse=True)\n",
    "\n",
    "# 커트라인\n",
    "print(scores[k-1])"
   ]
  }
 ],
 "metadata": {
  "kernelspec": {
   "display_name": "base",
   "language": "python",
   "name": "python3"
  },
  "language_info": {
   "codemirror_mode": {
    "name": "ipython",
    "version": 3
   },
   "file_extension": ".py",
   "mimetype": "text/x-python",
   "name": "python",
   "nbconvert_exporter": "python",
   "pygments_lexer": "ipython3",
   "version": "3.9.7"
  },
  "orig_nbformat": 4
 },
 "nbformat": 4,
 "nbformat_minor": 2
}

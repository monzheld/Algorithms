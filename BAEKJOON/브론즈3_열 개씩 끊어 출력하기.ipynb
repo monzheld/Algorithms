{
 "cells": [
  {
   "attachments": {},
   "cell_type": "markdown",
   "metadata": {},
   "source": [
    "11721번\n",
    "\n",
    "[문제](https://www.acmicpc.net/problem/11721)"
   ]
  },
  {
   "attachments": {},
   "cell_type": "markdown",
   "metadata": {},
   "source": [
    "### 문자열"
   ]
  },
  {
   "attachments": {},
   "cell_type": "markdown",
   "metadata": {},
   "source": [
    "- 알파벳 소문자와 대문자로만 이루어진 길이가 N인 단어가 주어짐\n",
    "- **한 줄에 10글자씩 끊어서 출력**하기"
   ]
  },
  {
   "attachments": {},
   "cell_type": "markdown",
   "metadata": {},
   "source": [
    "- 입력\n",
    "    - 첫째 줄에 단어가 주어짐\n",
    "    - 단어는 알파벳 소문자와 대문자로만 이루어져 있으며, 길이는 100을 넘지 않음\n",
    "    - 길이가 0인 단어는 주어지지 않음\n",
    "- 출력\n",
    "    - 입력으로 주어진 단어를 열 개씩 끊어서 한 줄에 하나씩 출력\n",
    "    - 단어의 길이가 10의 배수가 아닌 경우에는 마지막 줄에는 10개 미만의 글자만 출력할 수도 있음\n",
    "\n",
    "- 시간 제한: 1초\n",
    "- 메모리 제한: 256 MB"
   ]
  },
  {
   "cell_type": "code",
   "execution_count": null,
   "metadata": {},
   "outputs": [],
   "source": [
    "\"\"\"\n",
    "입출력 예시)\n",
    "\n",
    "(예제 입력 1) \n",
    "BaekjoonOnlineJudge\n",
    "    -> BaekjoonOn\n",
    "       lineJudge\n",
    "\n",
    "(예제 입력 2) \n",
    "OneTwoThreeFourFiveSixSevenEightNineTen\n",
    "    -> OneTwoThre\n",
    "       eFourFiveS\n",
    "       ixSevenEig\n",
    "       htNineTen\n",
    "\"\"\""
   ]
  },
  {
   "attachments": {},
   "cell_type": "markdown",
   "metadata": {},
   "source": [
    "## 2023/04/29"
   ]
  },
  {
   "cell_type": "code",
   "execution_count": null,
   "metadata": {},
   "outputs": [],
   "source": [
    "## 의사코드 ##\n",
    "\n",
    "# 10글자씩 끊어서 출력\n",
    "# for i in range(0, len(string), 10):\n",
    "#     print(string[i:i+10])"
   ]
  },
  {
   "attachments": {},
   "cell_type": "markdown",
   "metadata": {},
   "source": [
    "### 통과)"
   ]
  },
  {
   "cell_type": "code",
   "execution_count": 2,
   "metadata": {},
   "outputs": [
    {
     "name": "stdout",
     "output_type": "stream",
     "text": [
      "OneTwoThre\n",
      "eFourFiveS\n",
      "ixSevenEig\n",
      "htNineTen\n"
     ]
    }
   ],
   "source": [
    "string = input()\n",
    "# 10글자씩 끊어서 출력\n",
    "for i in range(0, len(string), 10):\n",
    "    print(string[i:i+10])"
   ]
  }
 ],
 "metadata": {
  "kernelspec": {
   "display_name": "base",
   "language": "python",
   "name": "python3"
  },
  "language_info": {
   "codemirror_mode": {
    "name": "ipython",
    "version": 3
   },
   "file_extension": ".py",
   "mimetype": "text/x-python",
   "name": "python",
   "nbconvert_exporter": "python",
   "pygments_lexer": "ipython3",
   "version": "3.9.7"
  },
  "orig_nbformat": 4
 },
 "nbformat": 4,
 "nbformat_minor": 2
}

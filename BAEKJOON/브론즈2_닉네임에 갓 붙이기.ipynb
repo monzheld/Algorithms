{
 "cells": [
  {
   "attachments": {},
   "cell_type": "markdown",
   "metadata": {},
   "source": [
    "13163번\n",
    "\n",
    "[문제](https://www.acmicpc.net/problem/13163)"
   ]
  },
  {
   "attachments": {},
   "cell_type": "markdown",
   "metadata": {},
   "source": [
    "### 문자열"
   ]
  },
  {
   "attachments": {},
   "cell_type": "markdown",
   "metadata": {},
   "source": [
    "- 찬우는 모든 회원의 닉네임 앞에 ‘갓’을 붙이려고 함\n",
    "- 찬우가 ‘koosaga’라는 닉네임을 가진 회원을 갓으로 바꿔 부른다면 ‘godsaga’, ‘acka’라는 닉네임을 가진 회원을 갓으로 바꿔 부른다면 ‘godka’가 될 것\n",
    "- 닉네임을 갓으로 바꾸는 알고리즘\n",
    "    - 닉네임을 음절 단위로 쪼갬\n",
    "    - **가장 첫 음절을 ‘god’으로 바꾼 후 쪼갠 음절을 합침**\n",
    "- 찬우는 수작업으로 N명의 닉네임을 모두 음절 단위로 쪼갰음. \n",
    "- 이 닉네임들에 갓을 붙이기"
   ]
  },
  {
   "attachments": {},
   "cell_type": "markdown",
   "metadata": {},
   "source": [
    "- 입력\n",
    "    - 첫 번째 줄에는 닉네임의 수 N(1 ≤ N ≤ 100)이 주어짐\n",
    "    - 두 번째 줄부터 N개의 줄에는 음절 단위로 쪼갠 닉네임이 주어짐\n",
    "    - 각 줄은 알파벳 소문자와 공백만으로 이루어지며, 쪼갠 닉네임의 총 길이(공백 포함)는 100을 넘지 않음\n",
    "    - 쪼갠 닉네임에는 1개 이상의 공백이 존재\n",
    "- 출력\n",
    "    - 각 줄에 하나씩 갓을 붙인 닉네임을 출력\n",
    "\n",
    "- 시간 제한: 1초\n",
    " - 메모리 제한: 512 MB"
   ]
  },
  {
   "cell_type": "code",
   "execution_count": null,
   "metadata": {},
   "outputs": [],
   "source": [
    "\"\"\"\n",
    "입출력 예시)\n",
    "\n",
    "5\n",
    "baek joon\n",
    "koo sa ga\n",
    "ac ka\n",
    "yu ka ri ko\n",
    "ke sa ki yo\n",
    "            -> godjoon\n",
    "               godsaga\n",
    "               godka\n",
    "               godkariko\n",
    "               godsakiyo\n",
    "\"\"\""
   ]
  },
  {
   "attachments": {},
   "cell_type": "markdown",
   "metadata": {},
   "source": [
    "## 2023/03/17"
   ]
  },
  {
   "cell_type": "code",
   "execution_count": null,
   "metadata": {},
   "outputs": [],
   "source": [
    "## 의사코드 ##\n",
    "\n",
    "# 공백으로 분리\n",
    "# nickname = input().split()\n",
    "\n",
    "# 닉네임의 첫 음절을 'god'으로 변경\n",
    "# nickname[0] = 'god'\n",
    "\n",
    "# 쪼갠 음절 합치기\n",
    "# print(''.join(nickname))"
   ]
  },
  {
   "attachments": {},
   "cell_type": "markdown",
   "metadata": {},
   "source": [
    "### 통과)"
   ]
  },
  {
   "cell_type": "code",
   "execution_count": 1,
   "metadata": {},
   "outputs": [
    {
     "name": "stdout",
     "output_type": "stream",
     "text": [
      "godjoon\n",
      "godsaga\n",
      "godka\n",
      "godkariko\n",
      "godsakiyo\n"
     ]
    }
   ],
   "source": [
    "n = int(input())\n",
    "for _ in range(n):\n",
    "    nickname = input().split()\n",
    "    # 첫 음절을 'god'으로 변경\n",
    "    nickname[0] = 'god'\n",
    "    # 쪼갠 음절 합치기\n",
    "    print(''.join(nickname))"
   ]
  }
 ],
 "metadata": {
  "kernelspec": {
   "display_name": "base",
   "language": "python",
   "name": "python3"
  },
  "language_info": {
   "codemirror_mode": {
    "name": "ipython",
    "version": 3
   },
   "file_extension": ".py",
   "mimetype": "text/x-python",
   "name": "python",
   "nbconvert_exporter": "python",
   "pygments_lexer": "ipython3",
   "version": "3.9.7"
  },
  "orig_nbformat": 4
 },
 "nbformat": 4,
 "nbformat_minor": 2
}

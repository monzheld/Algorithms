{
 "cells": [
  {
   "attachments": {},
   "cell_type": "markdown",
   "metadata": {},
   "source": [
    "20540번\n",
    "\n",
    "[문제](https://www.acmicpc.net/problem/20540)"
   ]
  },
  {
   "attachments": {},
   "cell_type": "markdown",
   "metadata": {},
   "source": [
    "### 문자열"
   ]
  },
  {
   "attachments": {},
   "cell_type": "markdown",
   "metadata": {},
   "source": [
    "- MBTI의 **네가지 지표가 모두 자신과 반대인 사람이 연길이의 이상형**\n",
    "- MBTI는 다음과 같은 네 가지 척도로 성격을 표시\n",
    "- 각각의 척도는 두 가지 극이 되는 성격으로 이루어져 있음"
   ]
  },
  {
   "attachments": {},
   "cell_type": "markdown",
   "metadata": {},
   "source": [
    "<img width=\"658\" alt=\"스크린샷 2023-06-30 13 47 04\" src=\"https://github.com/monzheld/Algorithms/assets/93971420/5a4419bc-eda6-4d74-b077-0f77dd703363\">"
   ]
  },
  {
   "attachments": {},
   "cell_type": "markdown",
   "metadata": {},
   "source": [
    "- 네 가지 척도마다 두 가지 경우가 존재하므로, 총 16가지의 유형이 만들어짐\n",
    "- 유형은 각 경우를 나타내는 알파벳 한 글자씩을 따서 네 글자로 표시\n",
    "- 다음은 MBTI의 유형들"
   ]
  },
  {
   "attachments": {},
   "cell_type": "markdown",
   "metadata": {},
   "source": [
    "<img width=\"658\" alt=\"스크린샷 2023-06-30 13 47 17\" src=\"https://github.com/monzheld/Algorithms/assets/93971420/16876797-4d23-414a-87a6-8fd413b6de03\">"
   ]
  },
  {
   "attachments": {},
   "cell_type": "markdown",
   "metadata": {},
   "source": [
    "- 입력\n",
    "    - 연길이의 MBTI 4글자가 대문자로 주어짐\n",
    "- 출력\n",
    "    - 연길이의 이상형에 해당하는 MBTI 4글자를  대문자로 출력\n",
    "\n",
    "- 시간 제한: 1초\n",
    "- 메모리 제한: 512 MB"
   ]
  },
  {
   "cell_type": "code",
   "execution_count": null,
   "metadata": {},
   "outputs": [],
   "source": [
    "\"\"\"\n",
    "입출력 예시)\n",
    "\n",
    "(예제 입력 1) \n",
    "ESTJ -> INFP\n",
    "\n",
    "(예제 입력 1) \n",
    "INFP -> ESTJ\n",
    "\"\"\""
   ]
  },
  {
   "attachments": {},
   "cell_type": "markdown",
   "metadata": {},
   "source": [
    "## 2023/06/30"
   ]
  },
  {
   "cell_type": "code",
   "execution_count": null,
   "metadata": {},
   "outputs": [],
   "source": [
    "## 의사코드 ##\n",
    "\n",
    "# 딕셔너리로 반대 지표 출력\n",
    "\n",
    "# mbti = {'E':'I', 'S':'N', 'T':'F', 'J':'P'}\n",
    "# 반대 \n",
    "# mbti_rev = {v:k for k, v in mbti.items()}"
   ]
  },
  {
   "attachments": {},
   "cell_type": "markdown",
   "metadata": {},
   "source": [
    "### 통과)"
   ]
  },
  {
   "cell_type": "code",
   "execution_count": 6,
   "metadata": {},
   "outputs": [
    {
     "name": "stdout",
     "output_type": "stream",
     "text": [
      "ESTJ\n"
     ]
    }
   ],
   "source": [
    "mbti = {'E':'I', 'S':'N', 'T':'F', 'J':'P'}\n",
    "mbti_rev = {v:k for k, v in mbti.items()}\n",
    "# 연길이의 mbti\n",
    "yg = input()\n",
    "res = '' # 연길이의 이상형\n",
    "for c in yg:\n",
    "    if c in mbti.keys():\n",
    "        res += mbti[c]\n",
    "    else:\n",
    "        res += mbti_rev[c]\n",
    "print(res)"
   ]
  }
 ],
 "metadata": {
  "kernelspec": {
   "display_name": "base",
   "language": "python",
   "name": "python3"
  },
  "language_info": {
   "codemirror_mode": {
    "name": "ipython",
    "version": 3
   },
   "file_extension": ".py",
   "mimetype": "text/x-python",
   "name": "python",
   "nbconvert_exporter": "python",
   "pygments_lexer": "ipython3",
   "version": "3.9.7"
  },
  "orig_nbformat": 4
 },
 "nbformat": 4,
 "nbformat_minor": 2
}

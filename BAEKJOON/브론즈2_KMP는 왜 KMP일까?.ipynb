{
 "cells": [
  {
   "attachments": {},
   "cell_type": "markdown",
   "metadata": {},
   "source": [
    "2902번\n",
    "\n",
    "[문제](https://www.acmicpc.net/problem/2902)"
   ]
  },
  {
   "attachments": {},
   "cell_type": "markdown",
   "metadata": {},
   "source": [
    "### 문자열"
   ]
  },
  {
   "attachments": {},
   "cell_type": "markdown",
   "metadata": {},
   "source": [
    "- KMP 알고리즘이 KMP인 이유는 이를 만든 사람의 성이 Knuth, Morris, Prett이기 때문\n",
    "- 이렇게 알고리즘에는 발견한 사람의 성을 따서 이름을 붙이는 경우가 많음\n",
    "- 또 다른 예로, 유명한 비대칭 암호화 알고리즘 RSA는 이를 만든 사람의 이름이 Rivest, Shamir, Adleman\n",
    "- 사람들은 이렇게 사람 성이 들어간 알고리즘을 두 가지 형태로 부름\n",
    "    - 1) 첫 번째는 성을 모두 쓰고, 이를 하이픈(-)으로 이어 붙인 것\n",
    "        - 예를 들면, Knuth-Morris-Pratt\n",
    "        - 이것을 긴 형태라고 부름\n",
    "    - 2) 두 번째로 짧은 형태는 만든 사람의 성의 첫 글자만 따서 부르는 것\n",
    "        - 예를 들면, KMP\n",
    "- 긴 형태의 알고리즘 이름이 주어졌을 때, 이를 **짧은 형태로 바꾸어 출력**하기"
   ]
  },
  {
   "attachments": {},
   "cell_type": "markdown",
   "metadata": {},
   "source": [
    "- 입력\n",
    "    - 입력은 한 줄로 이루어져 있고, 최대 100글자의 영어 알파벳 대문자, 소문자, 그리고 하이픈 ('-', 아스키코드 45)로만 이루어져 있음\n",
    "    - 첫 번째 글자는 항상 대문자\n",
    "    - 하이픈 뒤에는 반드시 대문자\n",
    "    - 그 외의 모든 문자는 모두 소문자\n",
    "- 출력\n",
    "    - 첫 줄에 짧은 형태 이름을 출력\n",
    "\n",
    "- 시간 제한: 1초\n",
    "- 메모리 제한: 128 MB"
   ]
  },
  {
   "cell_type": "code",
   "execution_count": null,
   "metadata": {},
   "outputs": [],
   "source": [
    "\"\"\"\n",
    "입출력 예시)\n",
    "\n",
    "(예제 입력 1) \n",
    "Knuth-Morris-Pratt -> KMP\n",
    "\n",
    "(예제 입력 2)\n",
    "Mirko-Slavko -> MS\n",
    "\n",
    "(예제 입력 3)\n",
    "Pasko-Patak -> PP\n",
    "\"\"\""
   ]
  },
  {
   "attachments": {},
   "cell_type": "markdown",
   "metadata": {},
   "source": [
    "## 2023/04/07"
   ]
  },
  {
   "cell_type": "code",
   "execution_count": null,
   "metadata": {},
   "outputs": [],
   "source": [
    "## 의사코드 ##\n",
    "\n",
    "# 하이픈으로 분리\n",
    "# long = input().split('-')\n",
    "\n",
    "# 첫 글자만 따오기\n",
    "# for i in range(len(long)):\n",
    "#     short += long[i][0] "
   ]
  },
  {
   "attachments": {},
   "cell_type": "markdown",
   "metadata": {},
   "source": [
    "### 통과)"
   ]
  },
  {
   "cell_type": "code",
   "execution_count": 3,
   "metadata": {},
   "outputs": [
    {
     "name": "stdout",
     "output_type": "stream",
     "text": [
      "PP\n"
     ]
    }
   ],
   "source": [
    "long = input().split('-')\n",
    "short = ''\n",
    "for i in range(len(long)):\n",
    "    short += long[i][0]\n",
    "print(short)"
   ]
  }
 ],
 "metadata": {
  "kernelspec": {
   "display_name": "base",
   "language": "python",
   "name": "python3"
  },
  "language_info": {
   "codemirror_mode": {
    "name": "ipython",
    "version": 3
   },
   "file_extension": ".py",
   "mimetype": "text/x-python",
   "name": "python",
   "nbconvert_exporter": "python",
   "pygments_lexer": "ipython3",
   "version": "3.9.7"
  },
  "orig_nbformat": 4
 },
 "nbformat": 4,
 "nbformat_minor": 2
}

{
 "cells": [
  {
   "attachments": {},
   "cell_type": "markdown",
   "metadata": {},
   "source": [
    "25640번\n",
    "\n",
    "[문제](https://www.acmicpc.net/problem/25640)"
   ]
  },
  {
   "attachments": {},
   "cell_type": "markdown",
   "metadata": {},
   "source": [
    "### 문자열"
   ]
  },
  {
   "attachments": {},
   "cell_type": "markdown",
   "metadata": {},
   "source": [
    "- 모든 MBTI 유형의 목록은 다음과 같음\n",
    "    - INFP, ENFP, ISFP, ESFP, INTP, ENTP, ISTP, ESTP, INFJ, ENFJ, ISFJ, ESFJ, INTJ, ENTJ, ISTJ, ESTJ\n",
    "- 진호는 N명의 친구들에게 MBTI 유형을 물어봄\n",
    "- 이 중에서 진호와 MBTI 유형이 같은 사람의 수는 얼마일지 구하기"
   ]
  },
  {
   "attachments": {},
   "cell_type": "markdown",
   "metadata": {},
   "source": [
    "- 입력\n",
    "    - 첫째 줄에 진호의 MBTI 유형이 주어짐\n",
    "    - 둘째 줄에 진호의 친구의 수 N (1 <= N <= 100)이 주어짐\n",
    "    - 셋째 줄부터 N개의 줄에 친구들의 MBTI 유형이 주어짐\n",
    "- 출력\n",
    "    - 진호와 MBTI 유형이 같은 사람의 수를 출력\n",
    "\n",
    "- 시간 제한: 1초\n",
    "- 메모리 제한: 512 MB"
   ]
  },
  {
   "cell_type": "code",
   "execution_count": null,
   "metadata": {},
   "outputs": [],
   "source": [
    "\"\"\"\n",
    "입출력 예시)\n",
    "\n",
    "(예제 입력 1) \n",
    "ESTJ\n",
    "5\n",
    "ISTP\n",
    "ESTJ\n",
    "INTP\n",
    "ESTJ\n",
    "ENTJ\n",
    "    -> 2\n",
    "\n",
    "(예제 입력 2) \n",
    "INTP\n",
    "6\n",
    "INTP\n",
    "INTP\n",
    "ESFP\n",
    "ISFP\n",
    "INFP\n",
    "INTP\n",
    "     -> 3\n",
    "\"\"\""
   ]
  },
  {
   "attachments": {},
   "cell_type": "markdown",
   "metadata": {},
   "source": [
    "## 2023/06/24"
   ]
  },
  {
   "cell_type": "code",
   "execution_count": null,
   "metadata": {},
   "outputs": [],
   "source": [
    "## 의사코드 ##\n",
    "\n",
    "# 진호와 MBTI가 같은 사람의 수 카운트\n",
    "# if input() == jinho:\n",
    "#     cnt += 1"
   ]
  },
  {
   "attachments": {},
   "cell_type": "markdown",
   "metadata": {},
   "source": [
    "### 통과)"
   ]
  },
  {
   "cell_type": "code",
   "execution_count": 1,
   "metadata": {},
   "outputs": [
    {
     "name": "stdout",
     "output_type": "stream",
     "text": [
      "2\n"
     ]
    }
   ],
   "source": [
    "jinho = input()\n",
    "n = int(input())\n",
    "cnt = 0 \n",
    "for _ in range(n):\n",
    "    if input() == jinho:\n",
    "        cnt += 1\n",
    "print(cnt)"
   ]
  }
 ],
 "metadata": {
  "kernelspec": {
   "display_name": "base",
   "language": "python",
   "name": "python3"
  },
  "language_info": {
   "codemirror_mode": {
    "name": "ipython",
    "version": 3
   },
   "file_extension": ".py",
   "mimetype": "text/x-python",
   "name": "python",
   "nbconvert_exporter": "python",
   "pygments_lexer": "ipython3",
   "version": "3.9.7"
  },
  "orig_nbformat": 4
 },
 "nbformat": 4,
 "nbformat_minor": 2
}

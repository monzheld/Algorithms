{
 "cells": [
  {
   "attachments": {},
   "cell_type": "markdown",
   "metadata": {},
   "source": [
    "9461번\n",
    "\n",
    "[문제](https://www.acmicpc.net/problem/9461)"
   ]
  },
  {
   "attachments": {},
   "cell_type": "markdown",
   "metadata": {},
   "source": [
    "### 다이나믹 프로그래밍(DP)"
   ]
  },
  {
   "attachments": {},
   "cell_type": "markdown",
   "metadata": {},
   "source": [
    "<img width=\"270\" alt=\"스크린샷 2023-01-08 22 04 50\" src=\"https://user-images.githubusercontent.com/93971420/211197539-6b664535-f58d-469e-9e3e-c1e836f5814e.png\">"
   ]
  },
  {
   "attachments": {},
   "cell_type": "markdown",
   "metadata": {},
   "source": [
    "- 그림과 같이 삼각형이 나선 모양으로 놓여져 있음\n",
    "- 첫 삼각형은 정삼각형으로 변의 길이는 1\n",
    "- 나선에서 **가장 긴 변의 길이를 k**라 했을 때, 그 변에 **길이가 k인 정삼각형을 추가**\n",
    "- 파도반 수열 **P(N)은 나선에 있는 정삼각형의 변의 길이**\n",
    "- P(1)부터 P(10)까지 첫 10개 숫자는 1, 1, 1, 2, 2, 3, 4, 5, 7, 9\n",
    "- N이 주어졌을 때, **P(N)** 구하기"
   ]
  },
  {
   "attachments": {},
   "cell_type": "markdown",
   "metadata": {},
   "source": [
    "- 입력\n",
    "    - 첫째 줄에 테스트 케이스의 개수 T가 주어짐\n",
    "    - 각 테스트 케이스는 한 줄로 이루어져 있고, N이 주어짐 (1 ≤ N ≤ 100)\n",
    "- 출력\n",
    "    - 각 테스트 케이스마다 P(N)을 출력\n",
    "\n",
    "- 시간 제한: 1초\n",
    "- 메모리 제한: 128 MB"
   ]
  },
  {
   "cell_type": "code",
   "execution_count": null,
   "metadata": {},
   "outputs": [],
   "source": [
    "\"\"\"\n",
    "입출력 예시)\n",
    "\n",
    "T = 2 (테스트 케이스의 개수 T)\n",
    "N = 6 -> 3\n",
    "N = 12 -> 16\n",
    "\"\"\""
   ]
  },
  {
   "attachments": {},
   "cell_type": "markdown",
   "metadata": {},
   "source": [
    "## 2023/01/08"
   ]
  },
  {
   "cell_type": "code",
   "execution_count": null,
   "metadata": {},
   "outputs": [],
   "source": [
    "## 의사코드 ##\n",
    "\n",
    "# DP: 작은 문제부터 값을 저장해두고 큰 문제 풀 때 그 값을 다시 활용\n",
    "# -> 점화식 구하기\n",
    "\n",
    "# 빈 리스트 생성 \n",
    "# -> 1<= N <= 100이니까 dp = [0] * 101\n",
    "\n",
    "# 초기값 설정\n",
    "# dp[1] = 1\n",
    "# dp[2] = 1\n",
    "# dp[3] = 1\n",
    "\n",
    "# 점화식 구현\n",
    "# P(N+3) = P(N) + P(N+1)"
   ]
  },
  {
   "cell_type": "code",
   "execution_count": null,
   "metadata": {},
   "outputs": [],
   "source": [
    "# 점화식 찾기"
   ]
  },
  {
   "cell_type": "code",
   "execution_count": null,
   "metadata": {},
   "outputs": [],
   "source": [
    "#  P(1) P(2) P(3) P(4) P(5) P(6) P(7) P(8) P(9) P(10)\n",
    "\n",
    "# -> 1,    1,   1,   2,   2,   3,   4,   5,   7,   9"
   ]
  },
  {
   "cell_type": "code",
   "execution_count": null,
   "metadata": {},
   "outputs": [],
   "source": [
    "# P(4) = 1+1 -> P(1) + P(2)\n",
    "# P(5) = 1+1 -> P(2) + P(3)\n",
    "# P(6) = 1+2 -> P(3) + P(4)\n",
    "# P(7) = 2+2 -> P(4) + P(5)\n",
    "# P(8) = 2+3 -> P(5) + P(6)\n",
    "# P(9) = 3+4 -> P(6) + P(7)\n",
    "# P(10) = 4+5 -> P(7) + P(8)\n",
    "\n",
    "# => P(N) = P(N-3) + P(N-2)\n",
    "# => P(N+3) = P(N) + P(N+1)"
   ]
  },
  {
   "attachments": {},
   "cell_type": "markdown",
   "metadata": {},
   "source": [
    "### 통과)"
   ]
  },
  {
   "cell_type": "code",
   "execution_count": 5,
   "metadata": {},
   "outputs": [
    {
     "name": "stdout",
     "output_type": "stream",
     "text": [
      "3\n",
      "16\n"
     ]
    }
   ],
   "source": [
    "T = int(input()) # 테스트 케이스 개수\n",
    "for _ in range(T):\n",
    "    N = int(input())\n",
    "\n",
    "    # 빈 리스트 생성\n",
    "    dp = [0] * 101\n",
    "    # 초기값 설정\n",
    "    dp[1], dp[2], dp[3] = 1, 1, 1\n",
    "    # 점화식 구현\n",
    "    for i in range(1, 98): # 1부터 97까지 실행 -> dp[4] ~ dp[100]\n",
    "        dp[i+3] = dp[i] + dp[i+1]\n",
    "    print(dp[N])"
   ]
  }
 ],
 "metadata": {
  "kernelspec": {
   "display_name": "base",
   "language": "python",
   "name": "python3"
  },
  "language_info": {
   "codemirror_mode": {
    "name": "ipython",
    "version": 3
   },
   "file_extension": ".py",
   "mimetype": "text/x-python",
   "name": "python",
   "nbconvert_exporter": "python",
   "pygments_lexer": "ipython3",
   "version": "3.9.7"
  },
  "orig_nbformat": 4,
  "vscode": {
   "interpreter": {
    "hash": "023ab38ef701cca529efce9465407c28b5ba779ced3f1a89865b89edb313b240"
   }
  }
 },
 "nbformat": 4,
 "nbformat_minor": 2
}

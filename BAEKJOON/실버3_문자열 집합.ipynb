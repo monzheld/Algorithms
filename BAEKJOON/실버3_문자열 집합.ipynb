{
 "cells": [
  {
   "attachments": {},
   "cell_type": "markdown",
   "metadata": {},
   "source": [
    "14425번\n",
    "\n",
    "[문제](https://www.acmicpc.net/problem/14425)"
   ]
  },
  {
   "attachments": {},
   "cell_type": "markdown",
   "metadata": {},
   "source": [
    "### 문자열"
   ]
  },
  {
   "attachments": {},
   "cell_type": "markdown",
   "metadata": {},
   "source": [
    "- 총 N개의 문자열로 이루어진 집합 S가 주어짐\n",
    "- 입력으로 주어지는 M개의 문자열 중에서 **집합 S에 포함되어 있는 것이 총 몇 개**인지 구하기"
   ]
  },
  {
   "attachments": {},
   "cell_type": "markdown",
   "metadata": {},
   "source": [
    "- 입력\n",
    "    - 첫째 줄에 문자열의 개수 N과 M (1 ≤ N ≤ 10,000, 1 ≤ M ≤ 10,000)이 주어짐\n",
    "    - **다음 N개의 줄에는 집합 S에 포함되어 있는 문자열**들이 주어짐\n",
    "    - **다음 M개의 줄에는 검사해야 하는 문자열들**이 주어짐\n",
    "    - 입력으로 주어지는 문자열은 알파벳 소문자로만 이루어져 있으며, 길이는 500을 넘지 않음\n",
    "    - 집합 S에 같은 문자열이 여러 번 주어지는 경우는 없음\n",
    "- 출력\n",
    "    - 첫째 줄에 M개의 문자열 중에 총 몇 개가 집합 S에 포함되어 있는지 출력\n",
    "\n",
    "- 시간 제한: 2초\n",
    "- 메모리 제한: 1536 MB"
   ]
  },
  {
   "cell_type": "code",
   "execution_count": null,
   "metadata": {},
   "outputs": [],
   "source": [
    "\"\"\"\n",
    "입출력 예시)\n",
    "\n",
    "5 11\n",
    "baekjoononlinejudge\n",
    "startlink\n",
    "codeplus\n",
    "sundaycoding\n",
    "codingsh\n",
    "baekjoon\n",
    "codeplus\n",
    "codeminus\n",
    "startlink\n",
    "starlink\n",
    "sundaycoding\n",
    "codingsh\n",
    "codinghs\n",
    "sondaycoding\n",
    "startrink\n",
    "icerink\n",
    "            -> 4\n",
    "\"\"\""
   ]
  },
  {
   "attachments": {},
   "cell_type": "markdown",
   "metadata": {},
   "source": [
    "## 2023/03/03"
   ]
  },
  {
   "cell_type": "code",
   "execution_count": null,
   "metadata": {},
   "outputs": [],
   "source": [
    "## 의사코드 ##\n",
    "\n",
    "# s = set() # 집합 S\n",
    "\n",
    "# n개의 줄에 집합 S에 포함되는 문자열\n",
    "# for _ in range(n):\n",
    "#     s.add(input()) # add() -> set()에 하나의 원소 추가\n",
    "\n",
    "# m개의 줄에 검사해야 하는 문자열\n",
    "# cnt = 0 \n",
    "# for _ in range(m):\n",
    "#     word = input() # 검사할 문자열 \n",
    "#     # 문자열이 집합 S에 있는 경우, cnt + 1\n",
    "#     if word in s:\n",
    "#         cnt += 1"
   ]
  },
  {
   "attachments": {},
   "cell_type": "markdown",
   "metadata": {},
   "source": [
    "### 통과)"
   ]
  },
  {
   "cell_type": "code",
   "execution_count": 2,
   "metadata": {},
   "outputs": [
    {
     "name": "stdout",
     "output_type": "stream",
     "text": [
      "4\n"
     ]
    }
   ],
   "source": [
    "n, m = map(int,input().split())\n",
    "\n",
    "# 집합 S\n",
    "s = set() \n",
    "for _ in range(n):\n",
    "    s.add(input()) \n",
    "\n",
    "# 집합 S에 포함되어 있는 문자열의 개수\n",
    "cnt = 0 \n",
    "for _ in range(m):\n",
    "    word = input() # 검사할 문자열 \n",
    "    # 문자열이 집합 S에 있는 경우, cnt + 1\n",
    "    if word in s:\n",
    "        cnt += 1\n",
    "print(cnt)"
   ]
  }
 ],
 "metadata": {
  "kernelspec": {
   "display_name": "base",
   "language": "python",
   "name": "python3"
  },
  "language_info": {
   "codemirror_mode": {
    "name": "ipython",
    "version": 3
   },
   "file_extension": ".py",
   "mimetype": "text/x-python",
   "name": "python",
   "nbconvert_exporter": "python",
   "pygments_lexer": "ipython3",
   "version": "3.9.7"
  },
  "orig_nbformat": 4
 },
 "nbformat": 4,
 "nbformat_minor": 2
}

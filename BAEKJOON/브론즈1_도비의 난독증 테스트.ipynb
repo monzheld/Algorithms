{
 "cells": [
  {
   "attachments": {},
   "cell_type": "markdown",
   "metadata": {},
   "source": [
    "2204번\n",
    "\n",
    "[문제](https://www.acmicpc.net/problem/2204)"
   ]
  },
  {
   "attachments": {},
   "cell_type": "markdown",
   "metadata": {},
   "source": [
    "### 정렬"
   ]
  },
  {
   "attachments": {},
   "cell_type": "markdown",
   "metadata": {},
   "source": [
    "- 꿍은 도비에게 영어단어들을 제시한 후 어떤 단어가 **대소문자를 구분하지 않고 사전순으로 가장 앞서는지** 맞추면 양말을 주어 자유를 얻게해준다고 함\n",
    "- 하지만 인성이 좋지 않은 꿍은 사실 그러고 싶지 않았기 때문에 대소문자를 마구 섞어가며 단어들을 제시\n",
    "    - 예를 들어, apPle은 Bat보다 앞서지만 AnT보다는 뒤에 있는 단어"
   ]
  },
  {
   "attachments": {},
   "cell_type": "markdown",
   "metadata": {},
   "source": [
    "- 입력\n",
    "    - 각 테스트케이스는 정수 n (2 ≤ n ≤ 1000) 으로 시작하며 주어지는 단어의 개수를 뜻함\n",
    "    - 다음 각 n줄은 길이가 최대 20인 단어가 주어지며 대소문자의 구분을 없앴을 때 똑같은 단어는 주어지지 않음\n",
    "    - 마지막 입력은 0\n",
    "- 출력\n",
    "    - 각 줄에 각 테스트케이스에서 사전상 가장 앞서는 단어를 출력\n",
    "\n",
    "- 시간 제한: 1초\n",
    "- 메모리 제한: 128 MB"
   ]
  },
  {
   "cell_type": "code",
   "execution_count": null,
   "metadata": {},
   "outputs": [],
   "source": [
    "\"\"\"\n",
    "입출력 예시)\n",
    "\n",
    "3\n",
    "Cat\n",
    "fat\n",
    "bAt\n",
    "4\n",
    "call\n",
    "ball\n",
    "All\n",
    "Hall\n",
    "0\n",
    "        -> bAt\n",
    "           All\n",
    "\"\"\""
   ]
  },
  {
   "attachments": {},
   "cell_type": "markdown",
   "metadata": {},
   "source": [
    "## 2023/03/26"
   ]
  },
  {
   "cell_type": "code",
   "execution_count": null,
   "metadata": {},
   "outputs": [],
   "source": [
    "## 의사코드 ##\n",
    "\n",
    "# 대소문자를 구분하지 않고 사전순으로 정렬\n",
    "# 리스트.sort(key=str.lower)"
   ]
  },
  {
   "attachments": {},
   "cell_type": "markdown",
   "metadata": {},
   "source": [
    "### 통과)"
   ]
  },
  {
   "cell_type": "code",
   "execution_count": 3,
   "metadata": {},
   "outputs": [
    {
     "name": "stdout",
     "output_type": "stream",
     "text": [
      "bAt\n",
      "All\n"
     ]
    }
   ],
   "source": [
    "while True:\n",
    "    n = int(input())\n",
    "    if n == 0:\n",
    "        break\n",
    "    else:\n",
    "        words = []\n",
    "        for _ in range(n):\n",
    "            words.append(input())\n",
    "        # 대소문자를 구분하지 않고 사전순으로 정렬\n",
    "        words.sort(key=str.lower)\n",
    "        print(words[0])"
   ]
  }
 ],
 "metadata": {
  "kernelspec": {
   "display_name": "base",
   "language": "python",
   "name": "python3"
  },
  "language_info": {
   "codemirror_mode": {
    "name": "ipython",
    "version": 3
   },
   "file_extension": ".py",
   "mimetype": "text/x-python",
   "name": "python",
   "nbconvert_exporter": "python",
   "pygments_lexer": "ipython3",
   "version": "3.9.7"
  },
  "orig_nbformat": 4
 },
 "nbformat": 4,
 "nbformat_minor": 2
}

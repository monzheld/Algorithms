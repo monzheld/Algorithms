{
 "cells": [
  {
   "attachments": {},
   "cell_type": "markdown",
   "metadata": {},
   "source": [
    "25206번\n",
    "\n",
    "[문제](https://www.acmicpc.net/problem/25206)"
   ]
  },
  {
   "attachments": {},
   "cell_type": "markdown",
   "metadata": {},
   "source": [
    "### 문자열"
   ]
  },
  {
   "attachments": {},
   "cell_type": "markdown",
   "metadata": {},
   "source": [
    "- 치훈이의 전공평점을 계산해주기\n",
    "- **전공평점은 전공과목별 (학점 × 과목평점)의 합을 학점의 총합으로 나눈 값**\n",
    "- 인하대학교 컴퓨터공학과의 등급에 따른 과목평점은 아래의 표와 같음\n",
    "- P/F 과목의 경우 등급이 P또는 F로 표시되는데, **등급이 P인 과목은 계산에서 제외**"
   ]
  },
  {
   "attachments": {},
   "cell_type": "markdown",
   "metadata": {},
   "source": [
    "<img width=\"155\" alt=\"스크린샷 2023-05-17 21 10 39\" src=\"https://github.com/monzheld/Algorithms/assets/93971420/ce4291eb-e987-4053-bc7a-08bbaab75acb\">"
   ]
  },
  {
   "attachments": {},
   "cell_type": "markdown",
   "metadata": {},
   "source": [
    "- 입력\n",
    "    - 20줄에 걸쳐 치훈이가 수강한 전공과목의 **과목명, 학점, 등급**이 공백으로 구분되어 주어짐\n",
    "- 출력\n",
    "    - 치훈이의 전공평점을 출력\n",
    "    - 정답과의 절대오차 또는 상대오차가 \\(10^{-4}\\) 이하이면 정답으로 인정\n",
    "\n",
    "- 제한\n",
    "    - 1 ≤ 과목명의 길이 ≤ 50\n",
    "    - 과목명은 알파벳 대소문자 또는 숫자로만 이루어져 있으며, 띄어쓰기 없이 주어짐. **입력으로 주어지는 모든 과목명은 서로 다름**.\n",
    "    - 학점은 1.0,2.0,3.0,4.0중 하나\n",
    "    - 등급은 A+,A0,B+,B0,C+,C0,D+,D0,F,P중 하나\n",
    "    - 적어도 한 과목은 등급이 P가 아님이 보장\n",
    "\n",
    "- 시간 제한: 1초\n",
    "- 메모리 제한: 1024 MB"
   ]
  },
  {
   "cell_type": "code",
   "execution_count": null,
   "metadata": {},
   "outputs": [],
   "source": [
    "\"\"\"\n",
    "입출력 예시)\n",
    "\n",
    "(예제 입력 1) \n",
    "ObjectOrientedProgramming1 3.0 A+\n",
    "IntroductiontoComputerEngineering 3.0 A+\n",
    "ObjectOrientedProgramming2 3.0 A0\n",
    "CreativeComputerEngineeringDesign 3.0 A+\n",
    "AssemblyLanguage 3.0 A+\n",
    "InternetProgramming 3.0 B0\n",
    "ApplicationProgramminginJava 3.0 A0\n",
    "SystemProgramming 3.0 B0\n",
    "OperatingSystem 3.0 B0\n",
    "WirelessCommunicationsandNetworking 3.0 C+\n",
    "LogicCircuits 3.0 B0\n",
    "DataStructure 4.0 A+\n",
    "MicroprocessorApplication 3.0 B+\n",
    "EmbeddedSoftware 3.0 C0\n",
    "ComputerSecurity 3.0 D+\n",
    "Database 3.0 C+\n",
    "Algorithm 3.0 B0\n",
    "CapstoneDesigninCSE 3.0 B+\n",
    "CompilerDesign 3.0 D0\n",
    "ProblemSolving 4.0 P\n",
    "                        -> 3.284483\n",
    "\n",
    "(예제 입력 2) \n",
    "BruteForce 3.0 F\n",
    "Greedy 1.0 F\n",
    "DivideandConquer 2.0 F\n",
    "DynamicProgramming 3.0 F\n",
    "DepthFirstSearch 4.0 F\n",
    "BreadthFirstSearch 3.0 F\n",
    "ShortestPath 4.0 F\n",
    "DisjointSet 2.0 F\n",
    "MinimumSpanningTree 2.0 F\n",
    "TopologicalSorting 1.0 F\n",
    "LeastCommonAncestor 2.0 F\n",
    "SegmentTree 4.0 F\n",
    "EulerTourTechnique 3.0 F\n",
    "StronglyConnectedComponent 2.0 F\n",
    "BipartiteMatching 2.0 F\n",
    "MaximumFlowProblem 3.0 F\n",
    "SuffixArray 1.0 F\n",
    "HeavyLightDecomposition 4.0 F\n",
    "CentroidDecomposition 3.0 F\n",
    "SplayTree 1.0 F\n",
    "                    -> 0.000000\n",
    "\"\"\""
   ]
  },
  {
   "attachments": {},
   "cell_type": "markdown",
   "metadata": {},
   "source": [
    "## 2023/05/17"
   ]
  },
  {
   "cell_type": "code",
   "execution_count": null,
   "metadata": {},
   "outputs": [],
   "source": [
    "## 의사코드 ##\n",
    "\n",
    "# 등급별 과목평점 -> 딕셔너리\n",
    "# grade_dic = {'A+':4.5, 'A0':4.0, 'B+':3.5, 'B0':3.0, 'C+':2.5, 'C0':2.0, 'D+':1.5, 'D0':1.0, 'F':0.0}]\n",
    "\n",
    "# total_score = 0 # 학점의 총합\n",
    "# total = 0 # (학점 x 과목평점)의 합\n",
    "\n",
    "# for _ in range(20):\n",
    "      # 등급이 P인 과목은 계산에서 제외\n",
    "#     if grade == 'P':\n",
    "#         continue\n",
    "#     else:\n",
    "          # 학점의 총합\n",
    "#         total_score += float(score)\n",
    "          # (학점 x 과목평점)의 합\n",
    "#         total += float(score) * float(grade_dic[grade])\n",
    "\n",
    "# 전공평점 = 전공과목별 (학점 × 과목평점)의 합 / 학점의 총합\n",
    "# print(format(total / total_score, \".6f\"))"
   ]
  },
  {
   "attachments": {},
   "cell_type": "markdown",
   "metadata": {},
   "source": [
    "### 통과)"
   ]
  },
  {
   "cell_type": "code",
   "execution_count": 5,
   "metadata": {},
   "outputs": [
    {
     "name": "stdout",
     "output_type": "stream",
     "text": [
      "0.000000\n"
     ]
    }
   ],
   "source": [
    "# 등급별 과목평점\n",
    "grade_dic = {'A+':4.5, 'A0':4.0, 'B+':3.5, 'B0':3.0, 'C+':2.5, 'C0':2.0, 'D+':1.5, 'D0':1.0, 'F':0.0}\n",
    "total_score = 0 # 학점의 총합\n",
    "total = 0 # (학점 x 과목평점)의 합\n",
    "for _ in range(20):\n",
    "    name, score, grade = input().split()\n",
    "    # 등급이 P인 과목은 계산에서 제외\n",
    "    if grade == 'P':\n",
    "        continue\n",
    "    else:\n",
    "        # 학점의 총합\n",
    "        total_score += float(score)\n",
    "        # (학점 x 과목평점)의 합\n",
    "        total += float(score) * float(grade_dic[grade])\n",
    "\n",
    "# 전공평점 = 전공과목별 (학점 × 과목평점)의 합 / 학점의 총합\n",
    "print(format(total / total_score, \".6f\"))"
   ]
  }
 ],
 "metadata": {
  "kernelspec": {
   "display_name": "base",
   "language": "python",
   "name": "python3"
  },
  "language_info": {
   "codemirror_mode": {
    "name": "ipython",
    "version": 3
   },
   "file_extension": ".py",
   "mimetype": "text/x-python",
   "name": "python",
   "nbconvert_exporter": "python",
   "pygments_lexer": "ipython3",
   "version": "3.9.7"
  },
  "orig_nbformat": 4
 },
 "nbformat": 4,
 "nbformat_minor": 2
}

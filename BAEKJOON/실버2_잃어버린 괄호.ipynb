{
 "cells": [
  {
   "attachments": {},
   "cell_type": "markdown",
   "metadata": {},
   "source": [
    "1541번\n",
    "\n",
    "[문제](https://www.acmicpc.net/problem/1541)"
   ]
  },
  {
   "attachments": {},
   "cell_type": "markdown",
   "metadata": {},
   "source": [
    "### 문자열, 탐욕(Greedy)"
   ]
  },
  {
   "attachments": {},
   "cell_type": "markdown",
   "metadata": {},
   "source": [
    "- 세준이는 양수와 +, -, 그리고 괄호를 가지고 식을 만들고 괄호를 모두 지웠음\n",
    "- 세준이는 괄호를 적절히 쳐서 이 식의 값을 최소로 만들려고 함\n",
    "- **괄호를 적절히 쳐서 이 식의 값을 최소로** 만들기"
   ]
  },
  {
   "attachments": {},
   "cell_type": "markdown",
   "metadata": {},
   "source": [
    "- 입력\n",
    "    - 첫째 줄에 식이 주어짐\n",
    "    - 식은 ‘0’~‘9’, ‘+’, 그리고 ‘-’만으로 이루어져 있고, 가장 처음과 마지막 문자는 숫자\n",
    "    - 연속해서 두 개 이상의 연산자가 나타나지 않고, 5자리보다 많이 연속되는 숫자는 없음\n",
    "    - 수는 0으로 시작할 수 있음\n",
    "    - 입력으로 주어지는 식의 길이는 50보다 작거나 같음\n",
    "- 출력\n",
    "    - 첫째 줄에 정답을 출력\n",
    "\n",
    "- 시간 제한: 2초\n",
    "- 메모리 제한: 128 MB"
   ]
  },
  {
   "cell_type": "code",
   "execution_count": null,
   "metadata": {},
   "outputs": [],
   "source": [
    "\"\"\"\n",
    "입출력 예시)\n",
    "\n",
    "(예제 입력 1) \n",
    "55-50+40 -> -35\n",
    "\n",
    "(예제 입력 2)\n",
    "10+20+30+40 -> 100\n",
    "\n",
    "(예제 입력 3)\n",
    "00009-00009 -> 0\n",
    "\"\"\""
   ]
  },
  {
   "attachments": {},
   "cell_type": "markdown",
   "metadata": {},
   "source": [
    "## 2023/02/03"
   ]
  },
  {
   "cell_type": "code",
   "execution_count": null,
   "metadata": {},
   "outputs": [],
   "source": [
    "## 의사코드 ##\n",
    "\n",
    "# 식의 값을 최소로 만들기 -> '-' 뒤의 값이 최대가 되도록 \n",
    "# '-'를 기준으로 split()\n",
    "# 다시 '+'를 기준으로 split()"
   ]
  },
  {
   "attachments": {},
   "cell_type": "markdown",
   "metadata": {},
   "source": [
    "### 통과)"
   ]
  },
  {
   "cell_type": "code",
   "execution_count": 4,
   "metadata": {},
   "outputs": [
    {
     "name": "stdout",
     "output_type": "stream",
     "text": [
      "-35\n"
     ]
    }
   ],
   "source": [
    "expression = input().split('-')\n",
    "res = 0\n",
    "# 전체 식에서 '-'가 나오기 전까지의 수식 계산 -> 덧셈\n",
    "for i in expression[0].split('+'):\n",
    "    res += int(i)\n",
    "# 전체 식에서 '-' 이후의 수식 계산\n",
    "for i in expression[1:]:\n",
    "    # 다시 '+'를 기준으로 나누고 빼기\n",
    "    for j in i.split('+'):\n",
    "        res -= int(j)\n",
    "print(res) "
   ]
  }
 ],
 "metadata": {
  "kernelspec": {
   "display_name": "cp2",
   "language": "python",
   "name": "python3"
  },
  "language_info": {
   "codemirror_mode": {
    "name": "ipython",
    "version": 3
   },
   "file_extension": ".py",
   "mimetype": "text/x-python",
   "name": "python",
   "nbconvert_exporter": "python",
   "pygments_lexer": "ipython3",
   "version": "3.9.12"
  },
  "orig_nbformat": 4,
  "vscode": {
   "interpreter": {
    "hash": "5ca59c31ddc1bb1d3e926feef50b5ca0d1eacb2093eee1a1a79c0269dbb49758"
   }
  }
 },
 "nbformat": 4,
 "nbformat_minor": 2
}

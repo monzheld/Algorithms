{
 "cells": [
  {
   "attachments": {},
   "cell_type": "markdown",
   "metadata": {},
   "source": [
    "1449번\n",
    "\n",
    "[문제](https://www.acmicpc.net/problem/1449)"
   ]
  },
  {
   "attachments": {},
   "cell_type": "markdown",
   "metadata": {},
   "source": [
    "### 탐욕(Greedy)"
   ]
  },
  {
   "attachments": {},
   "cell_type": "markdown",
   "metadata": {},
   "source": [
    "- 파이프에서 물이 새는 곳은 신기하게도 **가장 왼쪽에서 정수만큼 떨어진 거리만 물이 샘**\n",
    "- 항승이는 길이가 L인 테이프를 무한개 가지고 있음\n",
    "- 항승이는 테이프를 이용해서 물을 막으려고 하는데, 항상 물을 막을 때, **적어도 그 위치의 좌우 0.5만큼 간격을 줘야 물이 다시는 안 샌다고 생각**함\n",
    "- 물이 새는 곳의 위치와, 항승이가 가지고 있는 테이프의 길이 L이 주어졌을 때, 항승이가 **필요한 테이프의 최소 개수** 구하기\n",
    "- 테이프를 **자를 수 없고, 테이프를 겹쳐서 붙이는 것도 가능**"
   ]
  },
  {
   "attachments": {},
   "cell_type": "markdown",
   "metadata": {},
   "source": [
    "- 입력\n",
    "    - 첫째 줄에 물이 새는 곳의 개수 N과 테이프의 길이 L이 주어짐\n",
    "    - 둘째 줄에는 물이 새는 곳의 위치가 주어짐\n",
    "    - N과 L은 1,000보다 작거나 같은 자연수이고, 물이 새는 곳의 위치는 1,000보다 작거나 같은 자연수\n",
    "- 출력\n",
    "    - 첫째 줄에 항승이가 필요한 테이프의 개수를 출력\n",
    "\n",
    "- 시간 제한: 2초\n",
    "- 메모리 제한: 128 MB"
   ]
  },
  {
   "cell_type": "code",
   "execution_count": null,
   "metadata": {},
   "outputs": [],
   "source": [
    "\"\"\"\n",
    "입출력 예시)\n",
    "\n",
    "(예제 입력 1) \n",
    "4 2\n",
    "1 2 100 101\n",
    "        -> 2\n",
    "\n",
    "(예제 입력 2)\n",
    "4 3\n",
    "1 2 3 4\n",
    "        -> 2\n",
    "\n",
    "(예제 입력 3)\n",
    "3 1\n",
    "3 2 1\n",
    "        -> 3\n",
    "\"\"\""
   ]
  },
  {
   "attachments": {},
   "cell_type": "markdown",
   "metadata": {},
   "source": [
    "## 2023/02/19"
   ]
  },
  {
   "cell_type": "code",
   "execution_count": null,
   "metadata": {},
   "outputs": [],
   "source": [
    "## 의사코드 ##\n",
    "\n",
    "# 테이프의 최소 개수 = 물이 새는 곳의 개수(n)을 테이프의 길이(l)로 나눈 값을 올림한 값\n",
    "# import math \n",
    "# math.ceil(n/l)"
   ]
  },
  {
   "attachments": {},
   "cell_type": "markdown",
   "metadata": {},
   "source": [
    "### 1) "
   ]
  },
  {
   "cell_type": "code",
   "execution_count": 24,
   "metadata": {},
   "outputs": [
    {
     "name": "stdout",
     "output_type": "stream",
     "text": [
      "3\n"
     ]
    }
   ],
   "source": [
    "import math \n",
    "n, l = map(int, input().split())\n",
    "point = list(map(int, input().split()))\n",
    "\n",
    "# 테이프의 최소 개수 = 물이 새는 곳의 개수(n)을 테이프의 길이(l)로 나눈 값을 올림한 값\n",
    "print(math.ceil(n/l))"
   ]
  },
  {
   "attachments": {},
   "cell_type": "markdown",
   "metadata": {},
   "source": [
    "-> 틀림"
   ]
  },
  {
   "cell_type": "code",
   "execution_count": 22,
   "metadata": {},
   "outputs": [
    {
     "name": "stdout",
     "output_type": "stream",
     "text": [
      "4 / 3: 1.3333333333333333\n",
      "math.ceil(4/3): 2\n"
     ]
    }
   ],
   "source": [
    "# cf) math.ceil() -> 올림\n",
    "import math\n",
    "print('4 / 3:', 4 / 3)\n",
    "print('math.ceil(4/3):', math.ceil(4/3))"
   ]
  },
  {
   "attachments": {},
   "cell_type": "markdown",
   "metadata": {},
   "source": [
    "### 통과)"
   ]
  },
  {
   "cell_type": "code",
   "execution_count": null,
   "metadata": {},
   "outputs": [],
   "source": [
    "## 의사코드 ##\n",
    "\n",
    "# 물이 새는 곳의 위치를 오름차순 정렬\n",
    "# point.sort()\n",
    "\n",
    "# start = point[0] # 테이프를 붙인 시작점 \n",
    "# tape = 1 # 테이프의 개수\n",
    "\n",
    "# for p in point[1:]:\n",
    "#     # 현재 위치가 테이프를 붙일 범위 내에 있으면 통과\n",
    "#     if p in range(start, start+l):\n",
    "#         continue\n",
    "#     # 범위 내에 없으면 새로운 테이프 사용, 테이프를 붙인 시작점을 현재 위치로 변경\n",
    "#     else:\n",
    "#         tape += 1\n",
    "#         start = p "
   ]
  },
  {
   "cell_type": "code",
   "execution_count": 25,
   "metadata": {},
   "outputs": [
    {
     "name": "stdout",
     "output_type": "stream",
     "text": [
      "2\n"
     ]
    }
   ],
   "source": [
    "n, l = map(int, input().split())\n",
    "point = list(map(int, input().split()))\n",
    "\n",
    "#물이 새는 곳의 위치를 오름차순 정렬\n",
    "point.sort()\n",
    "\n",
    "# 테이프를 붙인 시작점 \n",
    "start = point[0] \n",
    "# 테이프의 개수\n",
    "tape = 1 \n",
    "\n",
    "for p in point[1:]:\n",
    "    # 현재 위치가 테이프를 붙일 범위 내에 있으면 통과\n",
    "    if p in range(start, start+l):\n",
    "        continue\n",
    "    # 범위 내에 없으면 새로운 테이프 사용, 테이프를 붙인 시작점을 현재 위치로 변경\n",
    "    else:\n",
    "        tape += 1\n",
    "        start = p \n",
    "print(tape)"
   ]
  },
  {
   "attachments": {},
   "cell_type": "markdown",
   "metadata": {},
   "source": [
    "-> 테이프를 붙인 시작점 변수를 활용해서 현재 위치가 테이프를 붙일 범위 내에 있으면 통과, 그렇지 않은 경우에는 테이프 추가 "
   ]
  },
  {
   "cell_type": "code",
   "execution_count": null,
   "metadata": {},
   "outputs": [],
   "source": [
    "# 과정 확인"
   ]
  },
  {
   "cell_type": "code",
   "execution_count": 31,
   "metadata": {},
   "outputs": [
    {
     "name": "stdout",
     "output_type": "stream",
     "text": [
      "start: 1\n",
      "테이프를 붙일 범위: 1 ~ 3\n",
      "현재 위치: 2\n",
      "통과 \n",
      "\n",
      "start: 1\n",
      "테이프를 붙일 범위: 1 ~ 3\n",
      "현재 위치: 100\n",
      "테이프 추가: 2\n",
      "\n",
      "start: 100\n",
      "테이프를 붙일 범위: 100 ~ 102\n",
      "현재 위치: 101\n",
      "통과 \n",
      "\n",
      "2\n"
     ]
    }
   ],
   "source": [
    "n, l = map(int, input().split())\n",
    "point = list(map(int, input().split()))\n",
    "\n",
    "#물이 새는 곳의 위치를 오름차순 정렬\n",
    "point.sort()\n",
    "\n",
    "# 테이프를 붙인 시작점 \n",
    "start = point[0] \n",
    "# 테이프의 개수\n",
    "tape = 1 \n",
    "\n",
    "for p in point[1:]:\n",
    "    # 현재 위치가 테이프를 붙일 범위 내에 있으면 통과\n",
    "    print('start:', start)\n",
    "    print(f'테이프를 붙일 범위: {start} ~ {start + l}')\n",
    "    print('현재 위치:', p)\n",
    "    if p in range(start, start+l):\n",
    "        print('통과', '\\n')\n",
    "        continue\n",
    "    # 범위 내에 없으면 새로운 테이프 사용, 테이프를 붙인 시작점을 현재 위치로 변경\n",
    "    else:\n",
    "        tape += 1\n",
    "        start = p \n",
    "        print('테이프 추가:', tape)\n",
    "    print()\n",
    "print(tape)"
   ]
  }
 ],
 "metadata": {
  "kernelspec": {
   "display_name": "cp2",
   "language": "python",
   "name": "python3"
  },
  "language_info": {
   "codemirror_mode": {
    "name": "ipython",
    "version": 3
   },
   "file_extension": ".py",
   "mimetype": "text/x-python",
   "name": "python",
   "nbconvert_exporter": "python",
   "pygments_lexer": "ipython3",
   "version": "3.9.12"
  },
  "orig_nbformat": 4,
  "vscode": {
   "interpreter": {
    "hash": "5ca59c31ddc1bb1d3e926feef50b5ca0d1eacb2093eee1a1a79c0269dbb49758"
   }
  }
 },
 "nbformat": 4,
 "nbformat_minor": 2
}

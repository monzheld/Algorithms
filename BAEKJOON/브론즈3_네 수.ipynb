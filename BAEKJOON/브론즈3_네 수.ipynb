{
 "cells": [
  {
   "attachments": {},
   "cell_type": "markdown",
   "metadata": {},
   "source": [
    "10824번\n",
    "\n",
    "[문제](https://www.acmicpc.net/problem/10824)"
   ]
  },
  {
   "attachments": {},
   "cell_type": "markdown",
   "metadata": {},
   "source": [
    "### 문자열"
   ]
  },
  {
   "attachments": {},
   "cell_type": "markdown",
   "metadata": {},
   "source": [
    "- 네 자연수 A, B, C, D가 주어졌을 때, **A와 B를 붙인 수와 C와 D를 붙인 수의 합** 구하기\n",
    "- 두 수 A와 B를 합치는 것은 A의 뒤에 B를 붙이는 것을 의미\n",
    "    - 20과 30을 붙이면 2030\n"
   ]
  },
  {
   "attachments": {},
   "cell_type": "markdown",
   "metadata": {},
   "source": [
    "- 입력\n",
    "    - 첫째 줄에 네 자연수 A, B, C, D가 주어짐 (1 ≤ A, B, C, D ≤ 1,000,000)\n",
    "- 출력\n",
    "    - A와 B를 붙인 수와 C와 D를 붙인 수의 합을 출력\n",
    "\n",
    "- 시간 제한: 1초\n",
    "- 메모리 제한: 256 MB"
   ]
  },
  {
   "cell_type": "code",
   "execution_count": null,
   "metadata": {},
   "outputs": [],
   "source": [
    "\"\"\"\n",
    "입출력 예시)\n",
    "\n",
    "10 20 30 40 -> 4060\n",
    "\"\"\""
   ]
  },
  {
   "attachments": {},
   "cell_type": "markdown",
   "metadata": {},
   "source": [
    "## 2023/03/11"
   ]
  },
  {
   "cell_type": "code",
   "execution_count": null,
   "metadata": {},
   "outputs": [],
   "source": [
    "## 의사코드 ##\n",
    "\n",
    "# 두 수 붙이기\n",
    "# ab = str(a) + str(b)\n",
    "# cd = str(c) + str(d)\n",
    "\n",
    "# A와 B를 붙인 수와 C와 D를 붙인 수의 합 구하기\n",
    "# int(ab) + int(cd)"
   ]
  },
  {
   "attachments": {},
   "cell_type": "markdown",
   "metadata": {},
   "source": [
    "### 통과)"
   ]
  },
  {
   "cell_type": "code",
   "execution_count": 2,
   "metadata": {},
   "outputs": [
    {
     "name": "stdout",
     "output_type": "stream",
     "text": [
      "4060\n"
     ]
    }
   ],
   "source": [
    "a, b, c, d = map(str, input().split())\n",
    "\n",
    "# A와 B를 붙인 수와 C와 D를 붙인 수의 합 \n",
    "print(int(a + b) + int(c + d))"
   ]
  }
 ],
 "metadata": {
  "kernelspec": {
   "display_name": "base",
   "language": "python",
   "name": "python3"
  },
  "language_info": {
   "codemirror_mode": {
    "name": "ipython",
    "version": 3
   },
   "file_extension": ".py",
   "mimetype": "text/x-python",
   "name": "python",
   "nbconvert_exporter": "python",
   "pygments_lexer": "ipython3",
   "version": "3.9.7"
  },
  "orig_nbformat": 4
 },
 "nbformat": 4,
 "nbformat_minor": 2
}

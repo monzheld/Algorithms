{
 "cells": [
  {
   "attachments": {},
   "cell_type": "markdown",
   "metadata": {},
   "source": [
    "1100번\n",
    "\n",
    "[문제](https://www.acmicpc.net/problem/1100)"
   ]
  },
  {
   "attachments": {},
   "cell_type": "markdown",
   "metadata": {},
   "source": [
    "### 문자열"
   ]
  },
  {
   "attachments": {},
   "cell_type": "markdown",
   "metadata": {},
   "source": [
    "- 체스판은 8×8크기이고, 검정 칸과 하얀 칸이 번갈아가면서 색칠되어 있음\n",
    "- 가장 왼쪽 위칸 **(0,0)은 하얀색**\n",
    "- 체스판의 상태가 주어졌을 때, **하얀 칸 위에 말이 몇 개 있는지** 출력하기"
   ]
  },
  {
   "attachments": {},
   "cell_type": "markdown",
   "metadata": {},
   "source": [
    "- 입력\n",
    "    - 첫째 줄부터 8개의 줄에 체스판의 상태가 주어짐\n",
    "    - ‘.’은 빈 칸이고, ‘F’는 위에 말이 있는 칸\n",
    "- 출력\n",
    "    - 첫째 줄에 문제의 정답을 출력\n",
    "\n",
    "- 시간 제한: 2초\n",
    "- 메모리 제한: 128 MB"
   ]
  },
  {
   "cell_type": "code",
   "execution_count": null,
   "metadata": {},
   "outputs": [],
   "source": [
    "\"\"\"\n",
    "입출력 예시)\n",
    "\n",
    "(예제 입력 1) \n",
    ".F.F...F\n",
    "F...F.F.\n",
    "...F.F.F\n",
    "F.F...F.\n",
    ".F...F..\n",
    "F...F.F.\n",
    ".F.F.F.F\n",
    "..FF..F.\n",
    "        -> 1\n",
    "\n",
    "(예제 입력 2) \n",
    "........\n",
    "........\n",
    "........\n",
    "........\n",
    "........\n",
    "........\n",
    "........\n",
    "........\n",
    "        -> 0\n",
    "\n",
    "(예제 입력 3) \n",
    "FFFFFFFF\n",
    "FFFFFFFF\n",
    "FFFFFFFF\n",
    "FFFFFFFF\n",
    "FFFFFFFF\n",
    "FFFFFFFF\n",
    "FFFFFFFF\n",
    "FFFFFFFF\n",
    "        -> 32\n",
    "\n",
    "(예제 입력 4) \n",
    "........\n",
    "..F.....\n",
    ".....F..\n",
    ".....F..\n",
    "........\n",
    "........\n",
    ".......F\n",
    ".F......\n",
    "        -> 2\n",
    "\"\"\""
   ]
  },
  {
   "attachments": {},
   "cell_type": "markdown",
   "metadata": {},
   "source": [
    "## 2023/06/12"
   ]
  },
  {
   "cell_type": "code",
   "execution_count": null,
   "metadata": {},
   "outputs": [],
   "source": [
    "## 의사코드 ##\n",
    "\n",
    "# 가장 왼쪽 위칸 (0,0)이 하얀색\n",
    "    # 짝수 줄은 2, 4, 6, 8번째\n",
    "    # 홀수 줄은 1, 2, 5, 7번째"
   ]
  },
  {
   "attachments": {},
   "cell_type": "markdown",
   "metadata": {},
   "source": [
    "### 통과)"
   ]
  },
  {
   "cell_type": "code",
   "execution_count": 8,
   "metadata": {},
   "outputs": [
    {
     "name": "stdout",
     "output_type": "stream",
     "text": [
      "2\n"
     ]
    }
   ],
   "source": [
    "arr = [] \n",
    "for _ in range(8):    \n",
    "\tarr.append(input())\n",
    "\t\n",
    "cnt = 0 # 하얀 칸 위에 있는 말의 개수\n",
    "for i in range(8):\n",
    "\tfor j in range(8):\n",
    "\t\t# 하얀 칸 위에 말이 있으면\n",
    "\t\tif i % 2 == j % 2 and arr[i][j] == 'F':\n",
    "\t\t\tcnt += 1\n",
    "\n",
    "print(cnt)\t"
   ]
  }
 ],
 "metadata": {
  "kernelspec": {
   "display_name": "base",
   "language": "python",
   "name": "python3"
  },
  "language_info": {
   "codemirror_mode": {
    "name": "ipython",
    "version": 3
   },
   "file_extension": ".py",
   "mimetype": "text/x-python",
   "name": "python",
   "nbconvert_exporter": "python",
   "pygments_lexer": "ipython3",
   "version": "3.9.7"
  },
  "orig_nbformat": 4
 },
 "nbformat": 4,
 "nbformat_minor": 2
}

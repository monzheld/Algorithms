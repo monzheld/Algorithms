{
 "cells": [
  {
   "attachments": {},
   "cell_type": "markdown",
   "metadata": {},
   "source": [
    "5218번\n",
    "\n",
    "[문제](https://www.acmicpc.net/problem/5218)"
   ]
  },
  {
   "attachments": {},
   "cell_type": "markdown",
   "metadata": {},
   "source": [
    "### 문자열"
   ]
  },
  {
   "attachments": {},
   "cell_type": "markdown",
   "metadata": {},
   "source": [
    "- 길이가 같은 두 단어가 주어졌을 때, 각 단어에 포함된 모든 글자의 알파벳 거리 구하기\n",
    "- 두 글자 x와 y 사이의 알파벳 거리를 구하려면, 먼저 각 알파벳에 숫자를 할당해야 함\n",
    "    - 'A'=1, 'B' = 2, ..., 'Z' = 26\n",
    "- 그 다음 **y ≥ x인 경우에는 y-x, y < x인 경우에는 (y+26) - x**가 알파벳 거리가 됨\n",
    "- 예를 들어, 'B'와 'D' 사이의 거리는 4 - 2 = 2이고, 'D'와 'B' 사이의 거리는 (2+26) - 4 = 24"
   ]
  },
  {
   "attachments": {},
   "cell_type": "markdown",
   "metadata": {},
   "source": [
    "- 입력\n",
    "    - 첫째 줄에 테스트 케이스의 수 (< 100)가 주어짐\n",
    "    - 각 테스트 케이스는 한 줄로 이루어져 있고, 두 단어가 공백으로 구분되어져 있음\n",
    "    - 단어의 길이는 4보다 크거나 같고, 20보다 작거나 같으며, 알파벳 대문자로만 이루어져 있음\n",
    "- 출력\n",
    "    - 각 테스트 케이스 마다 각 글자의 알파벳 거리를 공백으로 구분해 출력\n",
    "\n",
    "- 시간 제한: 1초\n",
    "- 메모리 제한: 128 MB"
   ]
  },
  {
   "cell_type": "code",
   "execution_count": null,
   "metadata": {},
   "outputs": [],
   "source": [
    "\"\"\"\n",
    "입출력 예시)\n",
    "\n",
    "5\n",
    "AAAA ABCD\n",
    "ABCD AAAA\n",
    "DARK LOKI\n",
    "STRONG THANOS\n",
    "DEADLY ULTIMO\n",
    "            -> Distances: 0 1 2 3\n",
    "               Distances: 0 25 24 23\n",
    "               Distances: 8 14 19 24\n",
    "               Distances: 1 14 9 25 1 12\n",
    "               Distances: 17 7 19 5 1 16\n",
    "\"\"\""
   ]
  },
  {
   "attachments": {},
   "cell_type": "markdown",
   "metadata": {},
   "source": [
    "## 2023/03/06"
   ]
  },
  {
   "cell_type": "code",
   "execution_count": null,
   "metadata": {},
   "outputs": [],
   "source": [
    "## 의사코드 ##\n",
    "\n",
    "# 각 알파벳에 숫자 할당 -> 아스키코드 활용\n",
    "    # A=1 ~ Z=26\n",
    "# ord('알파벳') - 64 \n",
    "\n",
    "# y >= x: y-x\n",
    "# y < x: (y+26) - x\n",
    "\n",
    "# 각 거리를 리스트에 담아서 한번에 출력\n",
    "    # print(*list)\n",
    "# distances = []\n",
    "# print('Distances:', *distances)"
   ]
  },
  {
   "attachments": {},
   "cell_type": "markdown",
   "metadata": {},
   "source": [
    "### 통과)"
   ]
  },
  {
   "cell_type": "code",
   "execution_count": 1,
   "metadata": {},
   "outputs": [
    {
     "name": "stdout",
     "output_type": "stream",
     "text": [
      "Distances: 0 1 2 3\n",
      "Distances: 0 25 24 23\n",
      "Distances: 8 14 19 24\n",
      "Distances: 1 14 9 25 1 12\n",
      "Distances: 17 7 19 5 1 16\n"
     ]
    }
   ],
   "source": [
    "t = int(input())\n",
    "for _ in range(t):\n",
    "    s1, s2 = map(str, input().split())\n",
    "    distances = []\n",
    "    for i in range(len(s1)):\n",
    "        x, y = s1[i], s2[i]\n",
    "        # y >= x인 경우의 거리 = y-x\n",
    "        if y >= x:\n",
    "            dis = (ord(y)-64) - (ord(x)-64)\n",
    "            distances.append(dis)\n",
    "        # y < x인 경우의 거리 = (y+26) - x\n",
    "        else:\n",
    "            dis = ((ord(y)-64)+26) - (ord(x)-64)\n",
    "            distances.append(dis)\n",
    "    print('Distances:', *distances)"
   ]
  }
 ],
 "metadata": {
  "kernelspec": {
   "display_name": "base",
   "language": "python",
   "name": "python3"
  },
  "language_info": {
   "codemirror_mode": {
    "name": "ipython",
    "version": 3
   },
   "file_extension": ".py",
   "mimetype": "text/x-python",
   "name": "python",
   "nbconvert_exporter": "python",
   "pygments_lexer": "ipython3",
   "version": "3.9.7"
  },
  "orig_nbformat": 4
 },
 "nbformat": 4,
 "nbformat_minor": 2
}

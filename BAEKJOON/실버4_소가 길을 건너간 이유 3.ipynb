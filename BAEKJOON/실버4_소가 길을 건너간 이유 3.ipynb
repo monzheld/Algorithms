{
 "cells": [
  {
   "attachments": {},
   "cell_type": "markdown",
   "metadata": {},
   "source": [
    "14469번\n",
    "\n",
    "[문제](https://www.acmicpc.net/problem/14469)"
   ]
  },
  {
   "attachments": {},
   "cell_type": "markdown",
   "metadata": {},
   "source": [
    "### 탐욕(Greedy)"
   ]
  },
  {
   "attachments": {},
   "cell_type": "markdown",
   "metadata": {},
   "source": [
    "- 존의 농장에 들어가는 문은 하나밖에 없고, 그 문을 통과하려면 감시관의 길고 긴 검문을 받아야 함\n",
    "- 여러 마리의 소가 한 번에 들어가려고 하면 줄이 그 만큼 길어짐\n",
    "- N마리의 소가 이 농장에 방문하러 왔음\n",
    "- 소가 도착한 시간과 검문받는 데 걸리는 시간은 소마다 다름 (같을 수도 있음)\n",
    "- 두 소가 **동시에 검문을 받을 수는 없음**\n",
    "    - 예를 들어, 한 소가 5초에 도착했고 7초 동안 검문을 받으면,\n",
    "    - 8초에 도착한 그 다음 소는 12초까지 줄을 서야 검문을 받을 수 있음\n",
    "- **모든 소가 농장에 입장하려면 얼마나 걸리는 지** 구하기"
   ]
  },
  {
   "attachments": {},
   "cell_type": "markdown",
   "metadata": {},
   "source": [
    "- 입력\n",
    "    - 첫 줄에 100 이하의 양의 정수 N이 주어짐\n",
    "    - 다음 N줄에는 한 줄에 하나씩 소의 도착 시각과 검문 시간이 주어짐\n",
    "    - 각각 1,000,000 이하의 양의 정수\n",
    "- 출력\n",
    "    - **모든 소가 농장에 입장하는 데 걸리는 최소 시간**을 출력\n",
    "\n",
    "- 시간 제한: 2초\n",
    "- 메모리 제한: 512 MB"
   ]
  },
  {
   "cell_type": "code",
   "execution_count": null,
   "metadata": {},
   "outputs": [],
   "source": [
    "\"\"\"\n",
    "입출력 예시)\n",
    "\n",
    "3\n",
    "2 1\n",
    "8 3\n",
    "5 7\n",
    "    -> 15\n",
    "\"\"\""
   ]
  },
  {
   "cell_type": "code",
   "execution_count": null,
   "metadata": {},
   "outputs": [],
   "source": [
    "# 첫 번째 소는 2초에 도착하고 3초에 농장 입장\n",
    "# 그 다음에는 세 번째 소가 5초에 도착하여 12초에 농장 입장\n",
    "# 마지막으로 두 번째 소가 8초에 오는데, 세 번째 소가 검문을 받고 있으므로 12초까지 기다린 뒤 15초에 농장 입장"
   ]
  },
  {
   "attachments": {},
   "cell_type": "markdown",
   "metadata": {},
   "source": [
    "## 2023/02/24"
   ]
  },
  {
   "cell_type": "code",
   "execution_count": null,
   "metadata": {},
   "outputs": [],
   "source": [
    "## 의사코드 ##\n",
    "\n",
    "# 도착 시간을 기준으로 오름차순 정렬 \n",
    "# cows.sort(key=lambda x: x[0])\n",
    "\n",
    "# 다음 소의 도착 시간이 이전 소의 도착 시간 + 검문 시간 보다 작으면 \n",
    "# 이전 소의 (도착 시간 + 검문 시간)에 다음 소의 검문 시간을 더함 \n",
    "\n",
    "# 다음 소의 도착 시간이 이전 소의 (도착 시간 + 검문 시간)보다 크거나 같으면\n",
    "# 다음 소의 (도착 시간 + 검문 시간)이 소요 시간"
   ]
  },
  {
   "attachments": {},
   "cell_type": "markdown",
   "metadata": {},
   "source": [
    "### 1) "
   ]
  },
  {
   "cell_type": "code",
   "execution_count": 22,
   "metadata": {},
   "outputs": [
    {
     "name": "stdout",
     "output_type": "stream",
     "text": [
      "15\n"
     ]
    }
   ],
   "source": [
    "n = int(input())\n",
    "\n",
    "cows = []\n",
    "for _ in range(n):\n",
    "    cows.append(tuple(map(int, input().split()))) # [(도착 시간, 검문 시간)]\n",
    "\n",
    "# 도착 시간을 기준으로 오름차순 정렬\n",
    "cows.sort(key=lambda x: x[0])\n",
    "\n",
    "total = 0 # 소요 시간\n",
    "for i in range(1, n):\n",
    "    # 다음 소의 도착 시간이 이전 소의 (도착 시간 + 검문 시간)보다 크거나 같은 경우, 소요 시간은 다음 소의 (도착 시간 + 검문 시간) \n",
    "    if cows[i][0] >= cows[i-1][0] + cows[i-1][1]:\n",
    "        total = cows[i][0] + cows[i][1]\n",
    "    # 다음 소의 도착 시간이 이전 소의 (도착 시간 + 검문 시간) 보다 작은 경우, 소요 시간은 이전 소의 (도착 시간 + 검문 시간) + 다음 소의 검문 시간\n",
    "    else:\n",
    "        total += cows[i][1]\n",
    "print(total)\n"
   ]
  },
  {
   "attachments": {},
   "cell_type": "markdown",
   "metadata": {},
   "source": [
    "-> 틀림"
   ]
  },
  {
   "cell_type": "code",
   "execution_count": null,
   "metadata": {},
   "outputs": [],
   "source": [
    "# 과정 확인"
   ]
  },
  {
   "cell_type": "code",
   "execution_count": 26,
   "metadata": {},
   "outputs": [],
   "source": [
    "cows = [(2, 1), (5, 7), (8, 3)]"
   ]
  },
  {
   "cell_type": "code",
   "execution_count": 27,
   "metadata": {},
   "outputs": [
    {
     "name": "stdout",
     "output_type": "stream",
     "text": [
      "i: 1\n",
      "이전 소의 (도착 시간 + 검문 시간): 3\n",
      "다음 소의 도착 시간이 이전 소의 (도착 시간 + 검문 시간)보다 크거나 같은 경우\n",
      "total: 12 \n",
      "\n",
      "i: 2\n",
      "이전 소의 (도착 시간 + 검문 시간): 12\n",
      "다음 소의 도착 시간이 이전 소의 (도착 시간 + 검문 시간) 보다 작은 경우\n",
      "total: 15 \n",
      "\n",
      "15\n"
     ]
    }
   ],
   "source": [
    "total = 0 \n",
    "for i in range(1, n):\n",
    "    print('i:', i)\n",
    "    print('이전 소의 (도착 시간 + 검문 시간):', cows[i-1][0] + cows[i-1][1])\n",
    "    if cows[i][0] >= cows[i-1][0] + cows[i-1][1]:\n",
    "        total = cows[i][0] + cows[i][1]\n",
    "        print('다음 소의 도착 시간이 이전 소의 (도착 시간 + 검문 시간)보다 크거나 같은 경우')\n",
    "        print('total:', total, '\\n')\n",
    "    else:\n",
    "        total += cows[i][1]\n",
    "        print('다음 소의 도착 시간이 이전 소의 (도착 시간 + 검문 시간) 보다 작은 경우')\n",
    "        print('total:', total, '\\n')\n",
    "print(total)"
   ]
  },
  {
   "attachments": {},
   "cell_type": "markdown",
   "metadata": {},
   "source": [
    "### 통과)"
   ]
  },
  {
   "cell_type": "code",
   "execution_count": 28,
   "metadata": {},
   "outputs": [
    {
     "name": "stdout",
     "output_type": "stream",
     "text": [
      "15\n"
     ]
    }
   ],
   "source": [
    "n = int(input())\n",
    "\n",
    "cows = []\n",
    "for _ in range(n):\n",
    "    cows.append(tuple(map(int, input().split()))) # [(도착 시간, 검문 시간)]\n",
    "\n",
    "# 도착 시간을 기준으로 오름차순 정렬\n",
    "cows.sort(key=lambda x: x[0])\n",
    "\n",
    "total = 0 # 소요 시간\n",
    "for i in range(n):\n",
    "    # 다음 소의 도착 시간이 이전 소의 (도착 시간 + 검문 시간)보다 크거나 같은 경우, 소요 시간은 다음 소의 (도착 시간 + 검문 시간) \n",
    "    if cows[i][0] >= total:\n",
    "        total = cows[i][0] + cows[i][1]\n",
    "    # 다음 소의 도착 시간이 이전 소의 (도착 시간 + 검문 시간) 보다 작은 경우, 소요 시간은 이전 소의 (도착 시간 + 검문 시간) + 다음 소의 검문 시간\n",
    "    else:\n",
    "        total += cows[i][1]\n",
    "print(total)"
   ]
  },
  {
   "attachments": {},
   "cell_type": "markdown",
   "metadata": {},
   "source": [
    "-> '다음 소의 도착 시간이 이전 소의 (도착 시간 + 검문 시간)보다 크거나 같은 경우' 를 이전 소의 (도착 시간 + 검문 시간)이 아닌 소요 시간(total)과 비교"
   ]
  }
 ],
 "metadata": {
  "kernelspec": {
   "display_name": "cp2",
   "language": "python",
   "name": "python3"
  },
  "language_info": {
   "codemirror_mode": {
    "name": "ipython",
    "version": 3
   },
   "file_extension": ".py",
   "mimetype": "text/x-python",
   "name": "python",
   "nbconvert_exporter": "python",
   "pygments_lexer": "ipython3",
   "version": "3.9.12"
  },
  "orig_nbformat": 4,
  "vscode": {
   "interpreter": {
    "hash": "5ca59c31ddc1bb1d3e926feef50b5ca0d1eacb2093eee1a1a79c0269dbb49758"
   }
  }
 },
 "nbformat": 4,
 "nbformat_minor": 2
}

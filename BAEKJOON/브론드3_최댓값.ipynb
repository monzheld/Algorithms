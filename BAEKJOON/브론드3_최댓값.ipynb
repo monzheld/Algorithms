{
 "cells": [
  {
   "attachments": {},
   "cell_type": "markdown",
   "metadata": {},
   "source": [
    "2566번\n",
    "\n",
    "[문제](https://www.acmicpc.net/problem/2566)"
   ]
  },
  {
   "attachments": {},
   "cell_type": "markdown",
   "metadata": {},
   "source": [
    "- **9×9 격자판**에 쓰여진 81개의 자연수 또는 0이 주어질 때,\n",
    "- 이들 중 **최댓값**을 찾고 그 최댓값이 **몇 행 몇 열**에 위치한 수인지 구하기"
   ]
  },
  {
   "attachments": {},
   "cell_type": "markdown",
   "metadata": {},
   "source": [
    "<img width=\"471\" alt=\"스크린샷 2023-01-28 20 51 46\" src=\"https://user-images.githubusercontent.com/93971420/215265016-448d5261-74e4-43e8-908e-966caa69c268.png\">"
   ]
  },
  {
   "attachments": {},
   "cell_type": "markdown",
   "metadata": {},
   "source": [
    "- 이들 중 최댓값은 90이고, 이 값은 5행 7열에 위치"
   ]
  },
  {
   "attachments": {},
   "cell_type": "markdown",
   "metadata": {},
   "source": [
    "- 입력\n",
    "    - 첫째 줄부터 아홉 번째 줄까지 한 줄에 아홉 개씩 수가 주어짐\n",
    "    - 주어지는 수는 100보다 작은 자연수 또는 0\n",
    "- 출력\n",
    "    - **첫째 줄에 최댓값**을 출력하고, **둘째 줄에 최댓값이 위치한 행 번호와 열 번호를 빈칸을 사이에 두고 차례로** 출력\n",
    "    - 최댓값이 두 개 이상인 경우 그 중 한 곳의 위치를 출력\n",
    "\n",
    "- 시간 제한: 1초\n",
    "- 메모리 제한: 128 MB"
   ]
  },
  {
   "cell_type": "code",
   "execution_count": null,
   "metadata": {},
   "outputs": [],
   "source": [
    "\"\"\"\n",
    "입출력 예시)\n",
    "\n",
    "3 23 85 34 17 74 25 52 65\n",
    "10 7 39 42 88 52 14 72 63\n",
    "87 42 18 78 53 45 18 84 53\n",
    "34 28 64 85 12 16 75 36 55\n",
    "21 77 45 35 28 75 90 76 1\n",
    "25 87 65 15 28 11 37 28 74\n",
    "65 27 75 41 7 89 78 64 39\n",
    "47 47 70 45 23 65 3 41 44\n",
    "87 13 82 38 31 12 29 29 80\n",
    "\n",
    "            -> 90\n",
    "               5 7\n",
    "\"\"\""
   ]
  },
  {
   "attachments": {},
   "cell_type": "markdown",
   "metadata": {},
   "source": [
    "## 2023/01/28"
   ]
  },
  {
   "cell_type": "code",
   "execution_count": null,
   "metadata": {},
   "outputs": [],
   "source": [
    "## 의사코드 ##\n",
    "\n",
    "# 숫자 입력\n",
    "# field = [list(map(int, input().split())) for _ in range(9)]\n",
    "\n",
    "# 격자판에서 최댓값 찾기\n",
    "# -> 숫자 하나씩 확인하면서 더 큰 값이 나오면 최댓값 갱신\n",
    "# for r in range(9):\n",
    "#     for c in range(9):\n",
    "#         if max_num < field[r][c]:"
   ]
  },
  {
   "attachments": {},
   "cell_type": "markdown",
   "metadata": {},
   "source": [
    "### 1)"
   ]
  },
  {
   "cell_type": "code",
   "execution_count": null,
   "metadata": {},
   "outputs": [],
   "source": [
    "import sys\n",
    "field = [list(map(int, sys.stdin.readline().split())) for _ in range(9)]\n",
    "\n",
    "max_n = 0\n",
    "row = 0\n",
    "col = 0\n",
    "for r in range(9):\n",
    "    for c in range(9):\n",
    "        if max_n < field[r][c]:\n",
    "            max_n = field[r][c]\n",
    "            row = r+1\n",
    "            col = c+1\n",
    "\n",
    "print(max_n)\n",
    "print(row, col)"
   ]
  },
  {
   "attachments": {},
   "cell_type": "markdown",
   "metadata": {},
   "source": [
    "-> 틀림"
   ]
  },
  {
   "attachments": {},
   "cell_type": "markdown",
   "metadata": {},
   "source": [
    "### 통과)"
   ]
  },
  {
   "cell_type": "code",
   "execution_count": null,
   "metadata": {},
   "outputs": [],
   "source": [
    "import sys\n",
    "field = [list(map(int, sys.stdin.readline().split())) for _ in range(9)]\n",
    "\n",
    "max_n = 0\n",
    "row = 0\n",
    "col = 0\n",
    "for r in range(9):\n",
    "    for c in range(9):\n",
    "        if max_n < field[r][c]:\n",
    "            max_n = field[r][c]\n",
    "            row = r\n",
    "            col = c\n",
    "\n",
    "print(max_n)\n",
    "print(row+1, col+1)"
   ]
  },
  {
   "attachments": {},
   "cell_type": "markdown",
   "metadata": {},
   "source": [
    "-> row+1, col+1을 for문 밖에서 하는 것으로 수정"
   ]
  },
  {
   "attachments": {},
   "cell_type": "markdown",
   "metadata": {},
   "source": [
    "### 다른 풀이"
   ]
  },
  {
   "cell_type": "code",
   "execution_count": null,
   "metadata": {},
   "outputs": [],
   "source": [
    "max_num=0\n",
    "col=0\n",
    "row=0\n",
    "for i in range(9):\n",
    "    line = list(map(int,input().split()))\n",
    "    if max(line)>max_num:\n",
    "        max_num=max(line)\n",
    "        col=i\n",
    "        row=line.index(max_num)\n",
    "print(max_num)\n",
    "print(col+1,row+1)"
   ]
  },
  {
   "attachments": {},
   "cell_type": "markdown",
   "metadata": {},
   "source": [
    "-> 한 줄마다 max()로 최댓값을 구해서 비교 "
   ]
  }
 ],
 "metadata": {
  "kernelspec": {
   "display_name": "cp2",
   "language": "python",
   "name": "python3"
  },
  "language_info": {
   "codemirror_mode": {
    "name": "ipython",
    "version": 3
   },
   "file_extension": ".py",
   "mimetype": "text/x-python",
   "name": "python",
   "nbconvert_exporter": "python",
   "pygments_lexer": "ipython3",
   "version": "3.9.12"
  },
  "orig_nbformat": 4,
  "vscode": {
   "interpreter": {
    "hash": "5ca59c31ddc1bb1d3e926feef50b5ca0d1eacb2093eee1a1a79c0269dbb49758"
   }
  }
 },
 "nbformat": 4,
 "nbformat_minor": 2
}

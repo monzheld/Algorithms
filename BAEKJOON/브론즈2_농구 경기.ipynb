{
 "cells": [
  {
   "attachments": {},
   "cell_type": "markdown",
   "metadata": {},
   "source": [
    "1159번\n",
    "\n",
    "[문제](https://www.acmicpc.net/problem/1159)"
   ]
  },
  {
   "attachments": {},
   "cell_type": "markdown",
   "metadata": {},
   "source": [
    "### 문자열"
   ]
  },
  {
   "attachments": {},
   "cell_type": "markdown",
   "metadata": {},
   "source": [
    "- 상근이는 내일 경기에 나설 선발 명단을 작성해야 함\n",
    "- 누가 선발인지 기억하기 쉽게 하기 위해 **성의 첫 글자가 같은 선수 5명을 선발**하려고 함\n",
    "- 만약, **성의 첫 글자가 같은 선수가 5명보다 적다면, 상근이는 내일 있을 친선 경기를 기권**\n",
    "- 상근이는 내일 경기를 위해 뽑을 수 있는 성의 첫 글자를 모두 구해보려고 함"
   ]
  },
  {
   "attachments": {},
   "cell_type": "markdown",
   "metadata": {},
   "source": [
    "- 입력\n",
    "    - 첫째 줄에 선수의 수 N (1 ≤ N ≤ 150)이 주어짐\n",
    "    - 다음 N개 줄에는 각 선수의 성이 주어짐\n",
    "    - (성은 알파벳 소문자로만 이루어져 있고, 최대 30글자)\n",
    "- 출력\n",
    "    - 상근이가 **선수 다섯 명을 선발할 수 없는 경우에는 \"PREDAJA\" (따옴표 없이)를 출력**\n",
    "        - PREDAJA는 크로아티아어로 항복을 의미\n",
    "    - **선발할 수 있는 경우에는 가능한 성의 첫 글자를 사전순으로 공백없이 모두 출력**\n",
    "\n",
    "- 시간 제한: 1초\n",
    "- 메모리 제한: 128 MB"
   ]
  },
  {
   "cell_type": "code",
   "execution_count": null,
   "metadata": {},
   "outputs": [],
   "source": [
    "\"\"\"\n",
    "입출력 예시)\n",
    "\n",
    "(예제 입력 1) \n",
    "18\n",
    "babic\n",
    "keksic\n",
    "boric\n",
    "bukic\n",
    "sarmic\n",
    "balic\n",
    "kruzic\n",
    "hrenovkic\n",
    "beslic\n",
    "boksic\n",
    "krafnic\n",
    "pecivic\n",
    "klavirkovic\n",
    "kukumaric\n",
    "sunkic\n",
    "kolacic\n",
    "kovacic\n",
    "prijestolonasljednikovi\n",
    "                        -> bk\n",
    "\n",
    "(예제 입력 2) \n",
    "6\n",
    "michael\n",
    "jordan\n",
    "lebron\n",
    "james\n",
    "kobe\n",
    "bryant\n",
    "        -> PREDAJA\n",
    "\"\"\""
   ]
  },
  {
   "attachments": {},
   "cell_type": "markdown",
   "metadata": {},
   "source": [
    "## 2023/05/11"
   ]
  },
  {
   "cell_type": "code",
   "execution_count": null,
   "metadata": {},
   "outputs": [],
   "source": [
    "## 의사코드 ##\n",
    "\n",
    "# 성의 첫 글자만 리스트에 저장\n",
    "\n",
    "# 각 성의 첫 글자의 개수 카운트\n",
    "# from collections import Counter\n",
    "\n",
    "# 성의 첫 글자를 사전순으로 정렬\n",
    "# sorted(Counter().items(), key=lambda x: x[0])\n",
    "\n",
    "# 성의 첫 글자가 같은 선수가 5명 이상이면 성의 첫 글자 추가"
   ]
  },
  {
   "attachments": {},
   "cell_type": "markdown",
   "metadata": {},
   "source": [
    "### 통과)"
   ]
  },
  {
   "cell_type": "code",
   "execution_count": 7,
   "metadata": {},
   "outputs": [
    {
     "name": "stdout",
     "output_type": "stream",
     "text": [
      "PREDAJA\n"
     ]
    }
   ],
   "source": [
    "from collections import Counter\n",
    "n = int(input())\n",
    "names = [] # 성의 첫 글자들을 담을 리스트\n",
    "for _ in range(n):\n",
    "    name = input()\n",
    "    # names 리스트에 성의 첫 글자만 담기\n",
    "    names.append(name[0])\n",
    "# 각 성의 첫 글자의 개수 카운트\n",
    "cnt = Counter(names)\n",
    "# 성의 첫 글자를 사전순으로 정렬\n",
    "sorted_c = sorted(cnt.items(), key=lambda x: x[0])\n",
    "res = '' # 선발 가능한 성의 첫 글자들 \n",
    "# 성의 첫 글자가 같은 선수가 5명 이상이면 성의 첫 글자 추가\n",
    "for k, v in sorted_c:\n",
    "    if v >= 5:\n",
    "        res += k\n",
    "\n",
    "# 선수 다섯 명을 선발할 수 없는 경우에는 \"PREDAJA\"\n",
    "if res == '':\n",
    "    print('PREDAJA')\n",
    "# 선발할 수 있는 경우, 정답 출력\n",
    "else:\n",
    "    print(res)"
   ]
  }
 ],
 "metadata": {
  "kernelspec": {
   "display_name": "base",
   "language": "python",
   "name": "python3"
  },
  "language_info": {
   "codemirror_mode": {
    "name": "ipython",
    "version": 3
   },
   "file_extension": ".py",
   "mimetype": "text/x-python",
   "name": "python",
   "nbconvert_exporter": "python",
   "pygments_lexer": "ipython3",
   "version": "3.9.7"
  },
  "orig_nbformat": 4
 },
 "nbformat": 4,
 "nbformat_minor": 2
}

{
 "cells": [
  {
   "attachments": {},
   "cell_type": "markdown",
   "metadata": {},
   "source": [
    "1357번\n",
    "\n",
    "[문제](https://www.acmicpc.net/problem/1357)"
   ]
  },
  {
   "attachments": {},
   "cell_type": "markdown",
   "metadata": {},
   "source": [
    "### 문자열"
   ]
  },
  {
   "attachments": {},
   "cell_type": "markdown",
   "metadata": {},
   "source": [
    "- 어떤 수 X가 주어졌을 때, X의 모든 자리수가 역순이 된 수를 얻을 수 있음\n",
    "- Rev(X)는 X의 모든 자리수를 역순으로 만드는 함수\n",
    "    - 예를 들어, X=123일 때, \n",
    "        - Rev(X) = 321\n",
    "    - X=100일 때, \n",
    "        - Rev(X) = 1\n",
    "- 두 양의 정수 X와 Y가 주어졌을 때, **Rev(Rev(X) + Rev(Y))** 구하기"
   ]
  },
  {
   "attachments": {},
   "cell_type": "markdown",
   "metadata": {},
   "source": [
    "- 입력\n",
    "    - 첫째 줄에 수 X와 Y가 주어짐\n",
    "    - X와 Y는 1,000보다 작거나 같은 자연수\n",
    "- 출력\n",
    "    - 첫째 줄에 문제의 정답을 출력\n",
    "\n",
    "- 시간 제한: 2초\n",
    "- 메모리 제한: 128 MB"
   ]
  },
  {
   "cell_type": "code",
   "execution_count": null,
   "metadata": {},
   "outputs": [],
   "source": [
    "\"\"\"\n",
    "입출력 예시)\n",
    "\n",
    "(예제 입력 1) \n",
    "123 100 -> 223\n",
    "\n",
    "(예제 입력 2)\n",
    "111 111 -> 222\n",
    "\n",
    "(예제 입력 3)\n",
    "5 5 -> 1\n",
    "\n",
    "(예제 입력 4)\n",
    "1000 1 -> 2\n",
    "\n",
    "(예제 입력 5)\n",
    "456 789 -> 1461\n",
    "\"\"\""
   ]
  },
  {
   "attachments": {},
   "cell_type": "markdown",
   "metadata": {},
   "source": [
    "## 2023/01/30"
   ]
  },
  {
   "cell_type": "code",
   "execution_count": null,
   "metadata": {},
   "outputs": [],
   "source": [
    "## 의사코드 ##\n",
    "\n",
    "# Rev(X)\n",
    "# -> int(X[::-1])\n",
    "\n",
    "# 출력\n",
    "# Rev(X) + Rev(Y)를 다시 역순으로 출력"
   ]
  },
  {
   "attachments": {},
   "cell_type": "markdown",
   "metadata": {},
   "source": [
    "### 1)"
   ]
  },
  {
   "cell_type": "code",
   "execution_count": 2,
   "metadata": {},
   "outputs": [
    {
     "ename": "TypeError",
     "evalue": "'int' object is not subscriptable",
     "output_type": "error",
     "traceback": [
      "\u001b[0;31m---------------------------------------------------------------------------\u001b[0m",
      "\u001b[0;31mTypeError\u001b[0m                                 Traceback (most recent call last)",
      "\u001b[1;32m/Users/hsh/Desktop/algorithms/Algorithms/BAEKJOON/브론즈1_뒤집힌 덧셈.ipynb 셀 8\u001b[0m in \u001b[0;36m<cell line: 4>\u001b[0;34m()\u001b[0m\n\u001b[1;32m      <a href='vscode-notebook-cell:/Users/hsh/Desktop/algorithms/Algorithms/BAEKJOON/%EB%B8%8C%EB%A1%A0%EC%A6%881_%EB%92%A4%EC%A7%91%ED%9E%8C%20%EB%8D%A7%EC%85%88.ipynb#X12sZmlsZQ%3D%3D?line=0'>1</a>\u001b[0m x, y \u001b[39m=\u001b[39m \u001b[39minput\u001b[39m()\u001b[39m.\u001b[39msplit()\n\u001b[1;32m      <a href='vscode-notebook-cell:/Users/hsh/Desktop/algorithms/Algorithms/BAEKJOON/%EB%B8%8C%EB%A1%A0%EC%A6%881_%EB%92%A4%EC%A7%91%ED%9E%8C%20%EB%8D%A7%EC%85%88.ipynb#X12sZmlsZQ%3D%3D?line=2'>3</a>\u001b[0m rev_xy \u001b[39m=\u001b[39m \u001b[39mint\u001b[39m(x[::\u001b[39m-\u001b[39m\u001b[39m1\u001b[39m]) \u001b[39m+\u001b[39m \u001b[39mint\u001b[39m(y[::\u001b[39m-\u001b[39m\u001b[39m1\u001b[39m])\n\u001b[0;32m----> <a href='vscode-notebook-cell:/Users/hsh/Desktop/algorithms/Algorithms/BAEKJOON/%EB%B8%8C%EB%A1%A0%EC%A6%881_%EB%92%A4%EC%A7%91%ED%9E%8C%20%EB%8D%A7%EC%85%88.ipynb#X12sZmlsZQ%3D%3D?line=3'>4</a>\u001b[0m \u001b[39mprint\u001b[39m(\u001b[39mint\u001b[39m(rev_xy[::\u001b[39m-\u001b[39;49m\u001b[39m1\u001b[39;49m]))\n",
      "\u001b[0;31mTypeError\u001b[0m: 'int' object is not subscriptable"
     ]
    }
   ],
   "source": [
    "x, y = input().split()\n",
    "\n",
    "rev_xy = int(x[::-1]) + int(y[::-1])\n",
    "print(int(rev_xy[::-1]))"
   ]
  },
  {
   "attachments": {},
   "cell_type": "markdown",
   "metadata": {},
   "source": [
    "-> TypeError (int는 슬라이싱 불가) "
   ]
  },
  {
   "attachments": {},
   "cell_type": "markdown",
   "metadata": {},
   "source": [
    "rev_xy가 int형이라 rev_xy[::-1]을 할 수 없음"
   ]
  },
  {
   "attachments": {},
   "cell_type": "markdown",
   "metadata": {},
   "source": [
    "### 통과)"
   ]
  },
  {
   "cell_type": "code",
   "execution_count": 3,
   "metadata": {},
   "outputs": [
    {
     "name": "stdout",
     "output_type": "stream",
     "text": [
      "223\n"
     ]
    }
   ],
   "source": [
    "x, y = input().split()\n",
    "\n",
    "rev_xy = int(x[::-1]) + int(y[::-1])\n",
    "print(int(str(rev_xy)[::-1]))"
   ]
  },
  {
   "attachments": {},
   "cell_type": "markdown",
   "metadata": {},
   "source": [
    "-> int인 rev_xy를 str으로 변환한 후 역순 출력"
   ]
  }
 ],
 "metadata": {
  "kernelspec": {
   "display_name": "cp2",
   "language": "python",
   "name": "python3"
  },
  "language_info": {
   "codemirror_mode": {
    "name": "ipython",
    "version": 3
   },
   "file_extension": ".py",
   "mimetype": "text/x-python",
   "name": "python",
   "nbconvert_exporter": "python",
   "pygments_lexer": "ipython3",
   "version": "3.9.12"
  },
  "orig_nbformat": 4,
  "vscode": {
   "interpreter": {
    "hash": "5ca59c31ddc1bb1d3e926feef50b5ca0d1eacb2093eee1a1a79c0269dbb49758"
   }
  }
 },
 "nbformat": 4,
 "nbformat_minor": 2
}

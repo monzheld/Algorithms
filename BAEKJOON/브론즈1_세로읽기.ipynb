{
 "cells": [
  {
   "attachments": {},
   "cell_type": "markdown",
   "metadata": {},
   "source": [
    "10798번\n",
    "\n",
    "[문제](https://www.acmicpc.net/problem/10798)"
   ]
  },
  {
   "attachments": {},
   "cell_type": "markdown",
   "metadata": {},
   "source": [
    "### 문자열"
   ]
  },
  {
   "attachments": {},
   "cell_type": "markdown",
   "metadata": {},
   "source": [
    "- 장난감에 있는 글자들은 영어 대문자 ‘A’부터 ‘Z’, 영어 소문자 ‘a’부터 ‘z’, 숫자 ‘0’부터 ‘9’\n",
    "- 영석이는 칠판에 글자들을 수평으로 일렬로 붙여서 단어를 만듦\n",
    "- 다시 그 아래쪽에 글자들을 붙여서 또 다른 단어를 만듦\n",
    "- 이런 식으로 다섯 개의 단어를 만듦\n",
    "- 한 줄의 단어는 글자들을 빈칸 없이 연속으로 나열해서 최대 15개의 글자들로 이루어짐\n",
    "- 또한 만들어진 다섯 개의 단어들의 글자 개수는 서로 다를 수 있음\n",
    "- 심심해진 영석이는 칠판에 만들어진 다섯 개의 단어를 세로로 읽으려 함\n",
    "- 세로로 읽을 때, **각 단어의 첫 번째 글자들을 위에서 아래로 세로로 읽음**\n",
    "- 다음에 두 번째 글자들을 세로로 읽음\n",
    "- 이런 식으로 왼쪽에서 오른쪽으로 한 자리씩 이동 하면서 동일한 자리의 글자들을 세로로 읽어 나감\n",
    "- 세로로 읽을 때 **해당 자리의 글자가 없으면, 읽지 않고 그 다음 글자를 계속 읽음**\n",
    "- 칠판에 붙여진 단어들이 주어질 때, 영석이가 세로로 읽은 순서대로 글자들을 출력하기"
   ]
  },
  {
   "attachments": {},
   "cell_type": "markdown",
   "metadata": {},
   "source": [
    "- 입력\n",
    "    - 총 다섯줄의 입력이 주어짐\n",
    "    - 각 줄에는 최소 1개, 최대 15개의 글자들이 빈칸 없이 연속으로 주어짐\n",
    "    - 주어지는 글자는 영어 대문자 ‘A’부터 ‘Z’, 영어 소문자 ‘a’부터 ‘z’, 숫자 ‘0’부터 ‘9’ 중 하나\n",
    "    - 각 줄의 시작과 마지막에 빈칸은 없음\n",
    "- 출력\n",
    "    - 영석이가 세로로 읽은 순서대로 글자들을 출력\n",
    "    - 이때, 글자들을 공백 없이 연속해서 출력\n",
    "\n",
    "- 시간 제한: 1초\n",
    "- 메모리 제한: 256 MB"
   ]
  },
  {
   "cell_type": "code",
   "execution_count": null,
   "metadata": {},
   "outputs": [],
   "source": [
    "\"\"\"\n",
    "입출력 예시)\n",
    "\n",
    "(예제 입력 1) \n",
    "ABCDE\n",
    "abcde\n",
    "01234\n",
    "FGHIJ\n",
    "fghij\n",
    "        -> Aa0FfBb1GgCc2HhDd3IiEe4Jj\n",
    "\n",
    "(예제 입력 2) \n",
    "AABCDD\n",
    "afzz\n",
    "09121\n",
    "a8EWg6\n",
    "P5h3kx\n",
    "        -> Aa0aPAf985Bz1EhCz2W3D1gkD6x\n",
    "\"\"\""
   ]
  },
  {
   "attachments": {},
   "cell_type": "markdown",
   "metadata": {},
   "source": [
    "## 2023/06/13"
   ]
  },
  {
   "cell_type": "code",
   "execution_count": null,
   "metadata": {},
   "outputs": [],
   "source": [
    "## 의사코드 ##\n",
    "\n",
    "# 각 단어 최대 길이: 15\n",
    "# 입력되는 단어 개수: 5\n",
    "\n",
    "# for j in range(15):\n",
    "#     for i in range(5):\n",
    "#         if j < len(arr[i]):\n",
    "#             res += arr[i][j]"
   ]
  },
  {
   "attachments": {},
   "cell_type": "markdown",
   "metadata": {},
   "source": [
    "### 통과)"
   ]
  },
  {
   "cell_type": "code",
   "execution_count": 6,
   "metadata": {},
   "outputs": [
    {
     "name": "stdout",
     "output_type": "stream",
     "text": [
      "Aa0aPAf985Bz1EhCz2W3D1gkD6x\n"
     ]
    }
   ],
   "source": [
    "arr = [input() for _ in range(5)]\n",
    "\n",
    "res = ''\n",
    "for j in range(15):\n",
    "    for i in range(5):\n",
    "        if j < len(arr[i]):\n",
    "            res += arr[i][j]\n",
    "print(res)"
   ]
  }
 ],
 "metadata": {
  "kernelspec": {
   "display_name": "base",
   "language": "python",
   "name": "python3"
  },
  "language_info": {
   "codemirror_mode": {
    "name": "ipython",
    "version": 3
   },
   "file_extension": ".py",
   "mimetype": "text/x-python",
   "name": "python",
   "nbconvert_exporter": "python",
   "pygments_lexer": "ipython3",
   "version": "3.9.7"
  },
  "orig_nbformat": 4
 },
 "nbformat": 4,
 "nbformat_minor": 2
}

{
 "cells": [
  {
   "attachments": {},
   "cell_type": "markdown",
   "metadata": {},
   "source": [
    "11478번\n",
    "\n",
    "[문제](https://www.acmicpc.net/problem/11478)"
   ]
  },
  {
   "attachments": {},
   "cell_type": "markdown",
   "metadata": {},
   "source": [
    "### 문자열"
   ]
  },
  {
   "attachments": {},
   "cell_type": "markdown",
   "metadata": {},
   "source": [
    "- 문자열 S가 주어졌을 때, S의 서로 다른 부분 문자열의 개수를 구하기\n",
    "- 부분 문자열은 S에서 연속된 일부분을 말하며, 길이가 1보다 크거나 같아야 함\n",
    "- 예를 들어, ababc의 부분 문자열은 \n",
    "    - a, b, a, b, c, ab, ba, ab, bc, aba, bab, abc, abab, babc, ababc가 있고\n",
    "    - 서로 다른것의 개수는 12개"
   ]
  },
  {
   "attachments": {},
   "cell_type": "markdown",
   "metadata": {},
   "source": [
    "- 입력\n",
    "    - 첫째 줄에 문자열 S가 주어짐\n",
    "    - S는 알파벳 소문자로만 이루어져 있고, 길이는 1,000 이하\n",
    "- 출력\n",
    "    - 첫째 줄에 S의 서로 다른 부분 문자열의 개수를 출력\n",
    "\n",
    "- 시간 제한: 1초\n",
    "- 메모리 제한: 512 MB"
   ]
  },
  {
   "cell_type": "code",
   "execution_count": null,
   "metadata": {},
   "outputs": [],
   "source": [
    "\"\"\"\n",
    "입출력 예시)\n",
    "\n",
    "ababc -> 12\n",
    "\"\"\""
   ]
  },
  {
   "attachments": {},
   "cell_type": "markdown",
   "metadata": {},
   "source": [
    "## 2023/06/17"
   ]
  },
  {
   "cell_type": "code",
   "execution_count": null,
   "metadata": {},
   "outputs": [],
   "source": [
    "## 의사코드 ##\n",
    "\n",
    "# 서로 달라야 함\n",
    "# set()\n",
    "\n",
    "# 부분 문자열\n",
    "# for i in range(len(string)):\n",
    "#     for j in range(i, len(string)):\n",
    "          #i번째 문자부터 부분문자열 구하기\n",
    "#         li.add(string[i:j+1])"
   ]
  },
  {
   "attachments": {},
   "cell_type": "markdown",
   "metadata": {},
   "source": [
    "### 통과)"
   ]
  },
  {
   "cell_type": "code",
   "execution_count": 3,
   "metadata": {},
   "outputs": [
    {
     "name": "stdout",
     "output_type": "stream",
     "text": [
      "12\n"
     ]
    }
   ],
   "source": [
    "string = input()\n",
    "li = set()\n",
    "\n",
    "for i in range(len(string)):\n",
    "    for j in range(i, len(string)):\n",
    "        #i번째 문자부터 부분문자열 구하기\n",
    "        li.add(string[i:j+1])\n",
    "\n",
    "print(len(li))"
   ]
  },
  {
   "cell_type": "code",
   "execution_count": null,
   "metadata": {},
   "outputs": [],
   "source": [
    "# 과정 확인"
   ]
  },
  {
   "cell_type": "code",
   "execution_count": 5,
   "metadata": {},
   "outputs": [
    {
     "name": "stdout",
     "output_type": "stream",
     "text": [
      "a \n",
      "\n",
      "{'a'} \n",
      "\n",
      "--------------------------------------------------\n",
      "ab \n",
      "\n",
      "{'a', 'ab'} \n",
      "\n",
      "--------------------------------------------------\n",
      "aba \n",
      "\n",
      "{'a', 'aba', 'ab'} \n",
      "\n",
      "--------------------------------------------------\n",
      "abab \n",
      "\n",
      "{'a', 'aba', 'ab', 'abab'} \n",
      "\n",
      "--------------------------------------------------\n",
      "ababc \n",
      "\n",
      "{'aba', 'ab', 'ababc', 'abab', 'a'} \n",
      "\n",
      "--------------------------------------------------\n",
      "b \n",
      "\n",
      "{'aba', 'ab', 'ababc', 'abab', 'b', 'a'} \n",
      "\n",
      "--------------------------------------------------\n",
      "ba \n",
      "\n",
      "{'aba', 'ba', 'ab', 'ababc', 'abab', 'b', 'a'} \n",
      "\n",
      "--------------------------------------------------\n",
      "bab \n",
      "\n",
      "{'aba', 'ba', 'ab', 'ababc', 'abab', 'bab', 'b', 'a'} \n",
      "\n",
      "--------------------------------------------------\n",
      "babc \n",
      "\n",
      "{'babc', 'aba', 'ba', 'ab', 'ababc', 'abab', 'bab', 'b', 'a'} \n",
      "\n",
      "--------------------------------------------------\n",
      "a \n",
      "\n",
      "{'babc', 'aba', 'ba', 'ab', 'ababc', 'abab', 'bab', 'b', 'a'} \n",
      "\n",
      "--------------------------------------------------\n",
      "ab \n",
      "\n",
      "{'babc', 'aba', 'ba', 'ab', 'ababc', 'abab', 'bab', 'b', 'a'} \n",
      "\n",
      "--------------------------------------------------\n",
      "abc \n",
      "\n",
      "{'babc', 'aba', 'ba', 'ab', 'ababc', 'abc', 'abab', 'bab', 'b', 'a'} \n",
      "\n",
      "--------------------------------------------------\n",
      "b \n",
      "\n",
      "{'babc', 'aba', 'ba', 'ab', 'ababc', 'abc', 'abab', 'bab', 'b', 'a'} \n",
      "\n",
      "--------------------------------------------------\n",
      "bc \n",
      "\n",
      "{'babc', 'aba', 'ba', 'ab', 'ababc', 'abc', 'abab', 'bab', 'b', 'bc', 'a'} \n",
      "\n",
      "--------------------------------------------------\n",
      "c \n",
      "\n",
      "{'babc', 'aba', 'ba', 'c', 'ab', 'ababc', 'abc', 'abab', 'bab', 'b', 'bc', 'a'} \n",
      "\n",
      "--------------------------------------------------\n"
     ]
    }
   ],
   "source": [
    "string = input()\n",
    "li = set()\n",
    "\n",
    "for i in range(len(string)):\n",
    "    for j in range(i, len(string)):\n",
    "        print(string[i:j+1], '\\n')\n",
    "        li.add(string[i:j+1])\n",
    "        print(li, '\\n')\n",
    "        print('-'*50)\n"
   ]
  }
 ],
 "metadata": {
  "kernelspec": {
   "display_name": "base",
   "language": "python",
   "name": "python3"
  },
  "language_info": {
   "codemirror_mode": {
    "name": "ipython",
    "version": 3
   },
   "file_extension": ".py",
   "mimetype": "text/x-python",
   "name": "python",
   "nbconvert_exporter": "python",
   "pygments_lexer": "ipython3",
   "version": "3.9.7"
  },
  "orig_nbformat": 4
 },
 "nbformat": 4,
 "nbformat_minor": 2
}

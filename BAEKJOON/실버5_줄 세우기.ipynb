{
 "cells": [
  {
   "attachments": {},
   "cell_type": "markdown",
   "metadata": {},
   "source": [
    "11536번\n",
    "\n",
    "[문제](https://www.acmicpc.net/problem/11536)"
   ]
  },
  {
   "attachments": {},
   "cell_type": "markdown",
   "metadata": {},
   "source": [
    "### 문자열"
   ]
  },
  {
   "attachments": {},
   "cell_type": "markdown",
   "metadata": {},
   "source": [
    "- 악독한 코치 주혁은 선수들을 이름 순으로 세우는 것을 좋아함\n",
    "- 더 악독한 것은 어떤 순서로 서야할지도 알려주지 않았음\n",
    "- 선수들의 이름이 주어질 때 어떤 순서로 이루어져있는지 확인하기"
   ]
  },
  {
   "attachments": {},
   "cell_type": "markdown",
   "metadata": {},
   "source": [
    "- 입력\n",
    "    - 첫째 줄에 N개의 이름이 주어짐 (2 ≤ N ≤ 20)\n",
    "    - 다음 N개의 줄에는 각 선수들의 이름이 주어짐\n",
    "    - 이름은 2 이상 12 이하의 대문자로만 이루어져있음\n",
    "    - 선수의 이름은 중복되지 않음\n",
    "- 출력\n",
    "    - 이름이 **증가하는 순으로 나타나면 INCREASING, 감소하는 순이면 DECREASING**을 한 줄에 출력\n",
    "    - 만약 **위의 두 경우가 아니라면 NEITHER**를 출력\n",
    "\n",
    "- 시간 제한: 1초\n",
    "- 메모리 제한: 256 MB"
   ]
  },
  {
   "cell_type": "code",
   "execution_count": null,
   "metadata": {},
   "outputs": [],
   "source": [
    "\"\"\"\n",
    "입출력 예시)\n",
    "\n",
    "(예제 입력 1) \n",
    "5\n",
    "JOE\n",
    "BOB\n",
    "ANDY\n",
    "AL\n",
    "ADAM\n",
    "        -> DECREASING\n",
    "\n",
    "(예제 입력 2) \n",
    "11\n",
    "HOPE\n",
    "ALI\n",
    "BECKY\n",
    "JULIE\n",
    "MEGHAN\n",
    "LAUREN\n",
    "MORGAN\n",
    "CARLI\n",
    "MEGAN\n",
    "ALEX\n",
    "TOBIN\n",
    "        -> NEITHER\n",
    "\n",
    "(예제 입력 3) \n",
    "4\n",
    "GEORGE\n",
    "JOHN\n",
    "PAUL\n",
    "RINGO\n",
    "        -> INCREASING\n",
    "\"\"\""
   ]
  },
  {
   "attachments": {},
   "cell_type": "markdown",
   "metadata": {},
   "source": [
    "## 2023/04/27"
   ]
  },
  {
   "cell_type": "code",
   "execution_count": null,
   "metadata": {},
   "outputs": [],
   "source": [
    "## 의사코드 ##\n",
    "\n",
    "# 원본 리스트와 정렬된 새로운 리스트를 비교해야 하기 때문에 sorted() 사용\n",
    "\n",
    "# 증가하는 순인지\n",
    "# if 리스트 == sorted(names)\n",
    "\n",
    "# 감소하는 순인지\n",
    "# elif 리스트 == sorted(names, reverse=True)"
   ]
  },
  {
   "attachments": {},
   "cell_type": "markdown",
   "metadata": {},
   "source": [
    "### 통과)"
   ]
  },
  {
   "cell_type": "code",
   "execution_count": 4,
   "metadata": {},
   "outputs": [
    {
     "name": "stdout",
     "output_type": "stream",
     "text": [
      "NEITHER\n"
     ]
    }
   ],
   "source": [
    "n = int(input())\n",
    "names = []\n",
    "for _ in range(n):\n",
    "    names.append(input())\n",
    "\n",
    "if names == sorted(names):\n",
    "    print(\"INCREASING\")\n",
    "elif names == sorted(names, reverse=True):\n",
    "    print(\"DECREASING\")\n",
    "else:\n",
    "    print(\"NEITHER\")"
   ]
  }
 ],
 "metadata": {
  "kernelspec": {
   "display_name": "base",
   "language": "python",
   "name": "python3"
  },
  "language_info": {
   "codemirror_mode": {
    "name": "ipython",
    "version": 3
   },
   "file_extension": ".py",
   "mimetype": "text/x-python",
   "name": "python",
   "nbconvert_exporter": "python",
   "pygments_lexer": "ipython3",
   "version": "3.9.7"
  },
  "orig_nbformat": 4
 },
 "nbformat": 4,
 "nbformat_minor": 2
}

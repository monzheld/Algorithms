{
 "cells": [
  {
   "attachments": {},
   "cell_type": "markdown",
   "metadata": {},
   "source": [
    "1302번\n",
    "\n",
    "[문제](https://www.acmicpc.net/problem/1302)"
   ]
  },
  {
   "attachments": {},
   "cell_type": "markdown",
   "metadata": {},
   "source": [
    "### 문자열"
   ]
  },
  {
   "attachments": {},
   "cell_type": "markdown",
   "metadata": {},
   "source": [
    "- 김형택은 그날 근무가 끝난 후에, 오늘 판매한 책의 제목을 보면서 가장 많이 팔린 책의 제목을 칠판에 써놓는 일을 하고 있음\n",
    "- 오늘 하루 동안 팔린 책의 제목이 입력으로 들어왔을 때, **가장 많이 팔린 책의 제목을 출력**"
   ]
  },
  {
   "attachments": {},
   "cell_type": "markdown",
   "metadata": {},
   "source": [
    "- 입력\n",
    "    - 첫째 줄에 오늘 하루 동안 팔린 책의 개수 N이 주어짐. 이 값은 1,000보다 작거나 같은 자연수\n",
    "    - 둘째부터 N개의 줄에 책의 제목이 입력으로 들어옴\n",
    "    - 책의 제목의 길이는 50보다 작거나 같고, 알파벳 소문자로만 이루어져 있음\n",
    "- 출력\n",
    "    - 첫째 줄에 가장 많이 팔린 책의 제목을 출력\n",
    "    - **만약 가장 많이 팔린 책이 여러 개일 경우에는 사전 순으로 가장 앞서는 제목을 출력**\n",
    "\n",
    "- 시간 제한: 2초\n",
    "- 메모리 제한: 128 MB"
   ]
  },
  {
   "cell_type": "code",
   "execution_count": null,
   "metadata": {},
   "outputs": [],
   "source": [
    "\"\"\"\n",
    "입출력 예시)\n",
    "\n",
    "(예제 입력 1) \n",
    "5\n",
    "top\n",
    "top\n",
    "top\n",
    "top\n",
    "kimtop\n",
    "        -> top\n",
    "\n",
    "(예제 입력 2)\n",
    "9\n",
    "table\n",
    "chair\n",
    "table\n",
    "table\n",
    "lamp\n",
    "door\n",
    "lamp\n",
    "table\n",
    "chair\n",
    "        -> table\n",
    "\n",
    "(예제 입력 3)\n",
    "6\n",
    "a\n",
    "a\n",
    "a\n",
    "b\n",
    "b\n",
    "b\n",
    "        -> a\n",
    "\n",
    "(예제 입력 4)\n",
    "8\n",
    "icecream\n",
    "peanuts\n",
    "peanuts\n",
    "chocolate\n",
    "candy\n",
    "chocolate\n",
    "icecream\n",
    "apple\n",
    "        -> chocolate\n",
    "\n",
    "(예제 입력 5)\n",
    "1\n",
    "soul\n",
    "        -> soul\n",
    "\"\"\""
   ]
  },
  {
   "attachments": {},
   "cell_type": "markdown",
   "metadata": {},
   "source": [
    "## 2023/02/28"
   ]
  },
  {
   "cell_type": "code",
   "execution_count": null,
   "metadata": {},
   "outputs": [],
   "source": [
    "## 의사코드 ##\n",
    "\n",
    "# 책별 판매 개수 세기\n",
    "# from collections import Counter\n",
    "# cnt = Counter(책 리스트)\n",
    "\n",
    "# 책 리스트를 사전 순으로 정렬하기 위해 오름차순 정렬\n",
    "# books.sort()\n",
    "\n",
    "# 책별 판매 개수를 카운트한 것에서 개수가 가장 많은 것의 제목 출력\n",
    "# Counter(books).most_common(1)[0][0]"
   ]
  },
  {
   "attachments": {},
   "cell_type": "markdown",
   "metadata": {},
   "source": [
    "### 통과)"
   ]
  },
  {
   "cell_type": "code",
   "execution_count": 7,
   "metadata": {},
   "outputs": [
    {
     "name": "stdout",
     "output_type": "stream",
     "text": [
      "a\n"
     ]
    }
   ],
   "source": [
    "from collections import Counter\n",
    "\n",
    "n = int(input())\n",
    "books = [] # 책 제목을 담을 리스트\n",
    "for _ in range(n):\n",
    "    books.append(input())\n",
    "\n",
    "# 책 리스트를 사전 순으로 정렬하기 위해 오름차순 정렬\n",
    "books.sort()\n",
    "\n",
    "# 책별 판매 개수를 카운트한 것에서 개수가 가장 많은 것의 제목 출력\n",
    "print(Counter(books).most_common(1)[0][0])"
   ]
  },
  {
   "attachments": {},
   "cell_type": "markdown",
   "metadata": {},
   "source": [
    "- `most_common()`: 개수가 많은 순으로 정렬된 튜플 배열 리스트를 반환\n",
    "    - `most_common(1)`: 개수가 가장 많은 튜플 1개만 출력"
   ]
  },
  {
   "cell_type": "code",
   "execution_count": null,
   "metadata": {},
   "outputs": [],
   "source": [
    "# 과정 확인"
   ]
  },
  {
   "cell_type": "code",
   "execution_count": 14,
   "metadata": {},
   "outputs": [],
   "source": [
    "books = ['table', 'chair', 'table', 'table', 'lamp', 'door', 'lamp', 'table', 'chair']"
   ]
  },
  {
   "cell_type": "code",
   "execution_count": 15,
   "metadata": {},
   "outputs": [
    {
     "name": "stdout",
     "output_type": "stream",
     "text": [
      "책 리스트: ['table', 'chair', 'table', 'table', 'lamp', 'door', 'lamp', 'table', 'chair']\n",
      "사전 순으로 정렬된 책 리스트: ['chair', 'chair', 'door', 'lamp', 'lamp', 'table', 'table', 'table', 'table'] \n",
      "\n",
      "책별 판매 개수 카운트: Counter({'table': 4, 'chair': 2, 'lamp': 2, 'door': 1})\n",
      "most_common(): [('table', 4), ('chair', 2), ('lamp', 2), ('door', 1)]\n",
      "most_common(1): [('table', 4)] \n",
      "\n",
      "가장 많이 팔린 책의 제목: table\n"
     ]
    }
   ],
   "source": [
    "print('책 리스트:', books)\n",
    "# 책 리스트를 사전 순으로 정렬하기 위해 오름차순 정렬\n",
    "books.sort()\n",
    "print('사전 순으로 정렬된 책 리스트:', books, '\\n')\n",
    "\n",
    "from collections import Counter\n",
    "print('책별 판매 개수 카운트:', Counter(books))\n",
    "print('most_common():', Counter(books).most_common())\n",
    "print('most_common(1):', Counter(books).most_common(1), '\\n')\n",
    "\n",
    "# 책별 판매 개수를 카운트한 것에서 개수가 가장 많은 것의 제목 출력\n",
    "print('가장 많이 팔린 책의 제목:', Counter(books).most_common(1)[0][0])"
   ]
  }
 ],
 "metadata": {
  "kernelspec": {
   "display_name": "cp2",
   "language": "python",
   "name": "python3"
  },
  "language_info": {
   "codemirror_mode": {
    "name": "ipython",
    "version": 3
   },
   "file_extension": ".py",
   "mimetype": "text/x-python",
   "name": "python",
   "nbconvert_exporter": "python",
   "pygments_lexer": "ipython3",
   "version": "3.9.12"
  },
  "orig_nbformat": 4,
  "vscode": {
   "interpreter": {
    "hash": "5ca59c31ddc1bb1d3e926feef50b5ca0d1eacb2093eee1a1a79c0269dbb49758"
   }
  }
 },
 "nbformat": 4,
 "nbformat_minor": 2
}

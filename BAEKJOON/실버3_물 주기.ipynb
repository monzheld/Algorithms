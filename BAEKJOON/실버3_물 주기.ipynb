{
 "cells": [
  {
   "attachments": {},
   "cell_type": "markdown",
   "metadata": {},
   "source": [
    "23351번\n",
    "\n",
    "[문제](https://www.acmicpc.net/problem/23351)"
   ]
  },
  {
   "attachments": {},
   "cell_type": "markdown",
   "metadata": {},
   "source": [
    "### 탐욕(Greedy)"
   ]
  },
  {
   "attachments": {},
   "cell_type": "markdown",
   "metadata": {},
   "source": [
    "- 일직선으로 놓여진 $N$개의 화분에 캣닢이 하나씩 심어져 있음\n",
    "- 각 화분은 초기에 $K$만큼의 수분을 머금고 있고, 매일 아래와 같은 일이 순서대로 일어남\n",
    "    - 1) 집사가 연속된 $A$개의 화분에 물을 줌. 이 때 물을 준 화분의 수분은 $B$만큼씩 증가\n",
    "    - 2) 모든 화분의 수분이 1씩 감소\n",
    "    - 3) 수분이 0이 된 화분에 있는 캣닢은 죽음\n",
    "- **모든 캣닢이 살아 있는 기간이 최대한 길어지도록** 물을 줄 때, **첫 캣닢이 죽는 날짜**를 출력\n",
    "- **첫 날은 1일**"
   ]
  },
  {
   "attachments": {},
   "cell_type": "markdown",
   "metadata": {},
   "source": [
    "- 입력\n",
    "    - 첫째 줄에 자연수 $N$, $K$, $A$, $B$가 공백을 사이에 두고 주어짐 ($2 \\le N \\le 100$, $1 \\le K \\le 100$, $1 \\le A \\times B < N$, $A$는 $N$의 약수)\n",
    "- 출력\n",
    "    - 모든 캣닢이 살아 있는 기간이 최대한 길어지도록 물을 줄 때, 첫 캣닢이 죽는 날짜를 출력\n",
    "\n",
    "- 시간 제한: 1초\n",
    "- 메모리 제한: 512 MB"
   ]
  },
  {
   "cell_type": "code",
   "execution_count": null,
   "metadata": {},
   "outputs": [],
   "source": [
    "\"\"\"\n",
    "입출력 예시)\n",
    "\n",
    "(예제 입력 1) \n",
    "6 3 2 2 -> 5\n",
    "\n",
    "(예제 입력 2)\n",
    "2 2 1 1 -> 3\n",
    "\"\"\""
   ]
  },
  {
   "attachments": {},
   "cell_type": "markdown",
   "metadata": {},
   "source": [
    "## 2023/02/11"
   ]
  },
  {
   "cell_type": "code",
   "execution_count": null,
   "metadata": {},
   "outputs": [],
   "source": [
    "## 의사코드 ##\n",
    "\n",
    "# 모든 캣닢이 살아 있는 기간이 최대한 길어지도록 물을 줄 때\n",
    "# -> 수분이 작은 순서대로 화분을 정렬\n",
    "\n",
    "# while 화분에 0이 없을 동안:\n",
    "#     모든 조건 수행 후 \n",
    "#     화분.sort()\n",
    "#     날짜 += 1"
   ]
  },
  {
   "attachments": {},
   "cell_type": "markdown",
   "metadata": {},
   "source": [
    "### 1) "
   ]
  },
  {
   "cell_type": "code",
   "execution_count": null,
   "metadata": {},
   "outputs": [],
   "source": [
    "n, k, a, b = map(int, input().split())\n",
    "# 각 화분은 초기에 k만큼의 수분을 머금고 있음\n",
    "pots = [k for _ in range(n)] \n",
    "day = 0 # 물을 준 날짜\n",
    "\n",
    "# 모든 캣닢이 살아 있을 동안 반복\n",
    "while 0 not in pots:\n",
    "    # 연속된 a개의 화분의 수분이 b만큼 증가 \n",
    "    for i in range(a):\n",
    "        pots[i] += b \n",
    "    # 모든 화분의 수분 1씩 감소\n",
    "    for p in pots:\n",
    "        p -= 1\n",
    "    # 수분이 작은 순서대로 화분을 오름차순 정렬\n",
    "    pots.sort()\n",
    "    # 날짜 + 1\n",
    "    day += 1\n",
    "\n",
    "print(day)"
   ]
  },
  {
   "attachments": {},
   "cell_type": "markdown",
   "metadata": {},
   "source": [
    "-> 시간 초과"
   ]
  },
  {
   "attachments": {},
   "cell_type": "markdown",
   "metadata": {},
   "source": [
    "### 통과) "
   ]
  },
  {
   "cell_type": "code",
   "execution_count": 5,
   "metadata": {},
   "outputs": [
    {
     "name": "stdout",
     "output_type": "stream",
     "text": [
      "5\n"
     ]
    }
   ],
   "source": [
    "n, k, a, b = map(int, input().split())\n",
    "# 각 화분은 초기에 k만큼의 수분을 머금고 있음\n",
    "pots = [k for _ in range(n)] \n",
    "day = 0 # 물을 준 날짜\n",
    "\n",
    "# 모든 캣닢이 살아 있을 동안 반복\n",
    "while 0 not in pots:\n",
    "    # 연속된 a개의 화분의 수분이 b만큼 증가 \n",
    "    for i in range(a):\n",
    "        pots[i] += b \n",
    "    # 모든 화분의 수분 1씩 감소\n",
    "    for i in range(n):\n",
    "        pots[i] -= 1\n",
    "    # 수분이 작은 순서대로 화분을 오름차순 정렬\n",
    "    pots.sort()\n",
    "    # 날짜 + 1\n",
    "    day += 1\n",
    "\n",
    "print(day)"
   ]
  },
  {
   "attachments": {},
   "cell_type": "markdown",
   "metadata": {},
   "source": [
    "-> 모든 화분의 수분 1씩 감소할 때, for p in pots가 아닌 for i in range(n)으로 수정"
   ]
  },
  {
   "attachments": {},
   "cell_type": "markdown",
   "metadata": {},
   "source": [
    "cf) `while min(pots) != 0` 이 `while 0 not in pots` 보다 4 ms 더 빠름"
   ]
  }
 ],
 "metadata": {
  "kernelspec": {
   "display_name": "cp2",
   "language": "python",
   "name": "python3"
  },
  "language_info": {
   "codemirror_mode": {
    "name": "ipython",
    "version": 3
   },
   "file_extension": ".py",
   "mimetype": "text/x-python",
   "name": "python",
   "nbconvert_exporter": "python",
   "pygments_lexer": "ipython3",
   "version": "3.9.12"
  },
  "orig_nbformat": 4,
  "vscode": {
   "interpreter": {
    "hash": "5ca59c31ddc1bb1d3e926feef50b5ca0d1eacb2093eee1a1a79c0269dbb49758"
   }
  }
 },
 "nbformat": 4,
 "nbformat_minor": 2
}

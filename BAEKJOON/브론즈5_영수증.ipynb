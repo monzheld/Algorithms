{
 "cells": [
  {
   "attachments": {},
   "cell_type": "markdown",
   "metadata": {},
   "source": [
    "25304번\n",
    "\n",
    "[문제](https://www.acmicpc.net/problem/25304)"
   ]
  },
  {
   "attachments": {},
   "cell_type": "markdown",
   "metadata": {},
   "source": [
    "### 수학"
   ]
  },
  {
   "attachments": {},
   "cell_type": "markdown",
   "metadata": {},
   "source": [
    "- 준원이는 영수증을 보면서 정확하게 계산된 것이 맞는지 확인해보려 함\n",
    "- 영수증에 적힌,\n",
    "    - 구매한 각 물건의 가격과 개수\n",
    "    - 구매한 물건들의 총 금액\n",
    "- 을 보고, 구매한 물건의 가격과 개수로 계산한 총 금액이 영수증에 적힌 총 금액과 일치하는지 검사해보기"
   ]
  },
  {
   "attachments": {},
   "cell_type": "markdown",
   "metadata": {},
   "source": [
    "- 입력\n",
    "    - 첫째 줄에는 영수증에 적힌 총 금액 $X$가 주어짐\n",
    "    - 둘째 줄에는 영수증에 적힌 구매한 물건의 종류의 수 $N$이 주어짐\n",
    "    - 이후 $N$개의 줄에는 각 물건의 가격 $a$와 개수 $b$가 공백을 사이에 두고 주어짐\n",
    "- 출력\n",
    "    - 구매한 물건의 가격과 개수로 계산한 총 금액이 영수증에 적힌 총 금액과 일치하면 Yes를 출력\n",
    "    - 일치하지 않는다면 No를 출력\n",
    "- 제한\n",
    "    - 1 <= X <= 1,000,000,000\n",
    "    - 1 <= N <= 100\n",
    "    - 1 <= a <= 1,000,000\n",
    "    - 1 <= b <= 10 \n",
    "\n",
    "- 시간 제한: 1초\n",
    "- 메모리 제한: 1024 MB"
   ]
  },
  {
   "cell_type": "code",
   "execution_count": null,
   "metadata": {},
   "outputs": [],
   "source": [
    "\"\"\"\n",
    "입출력 예시)\n",
    "\n",
    "(예제 입력 1) \n",
    "260000\n",
    "4\n",
    "20000 5\n",
    "30000 2\n",
    "10000 6\n",
    "5000 8\n",
    "        -> Yes\n",
    "\n",
    "(예제 입력 2) \n",
    "250000\n",
    "4\n",
    "20000 5\n",
    "30000 2\n",
    "10000 6\n",
    "5000 8\n",
    "        -> No\n",
    "\"\"\""
   ]
  },
  {
   "attachments": {},
   "cell_type": "markdown",
   "metadata": {},
   "source": [
    "## 2023/05/15"
   ]
  },
  {
   "cell_type": "code",
   "execution_count": null,
   "metadata": {},
   "outputs": [],
   "source": [
    "## 의사코드 ##\n",
    "\n",
    "# 딕셔너리에 물건의 가격과 개수를 저장해서 총 금액 계산\n",
    "\n",
    "# dic = {} # 영수증\n",
    "# for _ in range(n):\n",
    "#     # 물건의 가격과 개수\n",
    "#     a, b = map(int, input().split())\n",
    "#     dic[a] = b\n",
    "# # 총 금액 계산\n",
    "# total = 0 # 구매한 물건의 가격과 개수로 계산한 총 금액\n",
    "# for a, b in dic.items():\n",
    "#     total += a * b\n",
    "\n",
    "# if x == total:\n",
    "#     print('Yes')\n",
    "# else:\n",
    "#     print('No')"
   ]
  },
  {
   "attachments": {},
   "cell_type": "markdown",
   "metadata": {},
   "source": [
    "### 1)"
   ]
  },
  {
   "cell_type": "code",
   "execution_count": 2,
   "metadata": {},
   "outputs": [
    {
     "name": "stdout",
     "output_type": "stream",
     "text": [
      "No\n"
     ]
    }
   ],
   "source": [
    "x = int(input()) # 영수증에 적힌 총 금액\n",
    "n = int(input()) # 물건의 종류 수 \n",
    "dic = {} # 영수증\n",
    "for _ in range(n):\n",
    "    # 물건의 가격과 개수\n",
    "    a, b = map(int, input().split())\n",
    "    dic[a] = b\n",
    "# 총 금액 계산\n",
    "total = 0 # 구매한 물건의 가격과 개수로 계산한 총 금액\n",
    "for a, b in dic.items():\n",
    "    total += a * b\n",
    "\n",
    "if x == total:\n",
    "    print('Yes')\n",
    "else:\n",
    "    print('No')"
   ]
  },
  {
   "attachments": {},
   "cell_type": "markdown",
   "metadata": {},
   "source": [
    "-> 틀림"
   ]
  },
  {
   "attachments": {},
   "cell_type": "markdown",
   "metadata": {},
   "source": [
    "### 통과)"
   ]
  },
  {
   "cell_type": "code",
   "execution_count": 3,
   "metadata": {},
   "outputs": [
    {
     "name": "stdout",
     "output_type": "stream",
     "text": [
      "No\n"
     ]
    }
   ],
   "source": [
    "x = int(input()) # 영수증에 적힌 총 금액\n",
    "n = int(input()) # 물건의 종류 수 \n",
    "\n",
    "total = 0 # 구매한 물건의 가격과 개수로 계산한 총 금액\n",
    "for _ in range(n):\n",
    "    # 물건의 가격과 개수\n",
    "    a, b = map(int, input().split())\n",
    "    total += a * b\n",
    "\n",
    "if x == total:\n",
    "    print('Yes')\n",
    "else:\n",
    "    print('No')"
   ]
  },
  {
   "attachments": {},
   "cell_type": "markdown",
   "metadata": {},
   "source": [
    "-> 딕셔너리에 가격과 개수를 저장하지 않고 입력받은 후 바로 계산"
   ]
  }
 ],
 "metadata": {
  "kernelspec": {
   "display_name": "base",
   "language": "python",
   "name": "python3"
  },
  "language_info": {
   "codemirror_mode": {
    "name": "ipython",
    "version": 3
   },
   "file_extension": ".py",
   "mimetype": "text/x-python",
   "name": "python",
   "nbconvert_exporter": "python",
   "pygments_lexer": "ipython3",
   "version": "3.9.7"
  },
  "orig_nbformat": 4
 },
 "nbformat": 4,
 "nbformat_minor": 2
}

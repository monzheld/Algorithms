{
 "cells": [
  {
   "attachments": {},
   "cell_type": "markdown",
   "metadata": {},
   "source": [
    "5789번\n",
    "\n",
    "[문제](https://www.acmicpc.net/problem/5789)"
   ]
  },
  {
   "attachments": {},
   "cell_type": "markdown",
   "metadata": {},
   "source": [
    "### 문자열"
   ]
  },
  {
   "attachments": {},
   "cell_type": "markdown",
   "metadata": {},
   "source": [
    "- 먼저, 0과 1로 이루어진 문자열을 랜덤으로 하나 만듦\n",
    "- 그 다음 문자열의 양 끝에서 수를 하나씩 고르고, 두 수를 비교\n",
    "- 수가 같으면 \"한다\"이고, 다르면 \"안한다\"\n",
    "- 그 다음에는 고른 수를 버리고, 모든 수를 고를 때까지 이 작업을 반복\n",
    "- 따라서, **마지막으로 고르는 두 숫자로 결정을 내리는 것**\n",
    "- 0과 1로 이루어진 문자열이 주어졌을 때, 상근이가 내리는 결정 구하기"
   ]
  },
  {
   "attachments": {},
   "cell_type": "markdown",
   "metadata": {},
   "source": [
    "- 입력\n",
    "    - 첫째 줄에는 테스트 케이스의 개수 N이 주어짐(1 ≤ N ≤ 1000)\n",
    "    - 각 테스트 케이스는 한 줄로 이루어져 있으며, 0과 1로 이루어진 문자열이 주어짐\n",
    "    - 문자열의 길이는 항상 짝수이고, 1000보다 작음\n",
    "- 출력\n",
    "    - 각 테스트 케이스에 대해서 상근이가 내린 결정이 **한다이면 Do-it을, 안한다이면 Do-it-Not**을 출력\n",
    "\n",
    "- 시간 제한: 1초\n",
    "- 메모리 제한: 128 MB"
   ]
  },
  {
   "cell_type": "code",
   "execution_count": null,
   "metadata": {},
   "outputs": [],
   "source": [
    "\"\"\"\n",
    "입출력 예시)\n",
    "\n",
    "3\n",
    "00100010\n",
    "01010101\n",
    "100001\n",
    "    -> Do-it\n",
    "       Do-it-Not\n",
    "       Do-it\n",
    "\"\"\""
   ]
  },
  {
   "attachments": {},
   "cell_type": "markdown",
   "metadata": {},
   "source": [
    "## 2023/02/04"
   ]
  },
  {
   "cell_type": "code",
   "execution_count": null,
   "metadata": {},
   "outputs": [],
   "source": [
    "## 의사코드 ##\n",
    "\n",
    "# 마지막으로 고르는 두 수로 결정을 내림 \n",
    "# -> 마지막으로 고르는 두 숫자만 비교\n",
    "\n",
    "# mid = len(s) // 2\n",
    "# if s[mid-1] == s[mid]:\n",
    "#    print('Do-it')\n",
    "# else:\n",
    "#   print('Do-it-Not')"
   ]
  },
  {
   "attachments": {},
   "cell_type": "markdown",
   "metadata": {},
   "source": [
    "### 통과)"
   ]
  },
  {
   "cell_type": "code",
   "execution_count": 4,
   "metadata": {},
   "outputs": [
    {
     "name": "stdout",
     "output_type": "stream",
     "text": [
      "Do-it\n",
      "Do-it-Not\n",
      "Do-it\n"
     ]
    }
   ],
   "source": [
    "n = int(input())\n",
    "\n",
    "for i in range(n):\n",
    "    s = input()\n",
    "    mid = len(s) // 2\n",
    "    if s[mid-1] == s[mid]:\n",
    "        print('Do-it')\n",
    "    else:\n",
    "        print('Do-it-Not')"
   ]
  }
 ],
 "metadata": {
  "kernelspec": {
   "display_name": "cp2",
   "language": "python",
   "name": "python3"
  },
  "language_info": {
   "codemirror_mode": {
    "name": "ipython",
    "version": 3
   },
   "file_extension": ".py",
   "mimetype": "text/x-python",
   "name": "python",
   "nbconvert_exporter": "python",
   "pygments_lexer": "ipython3",
   "version": "3.9.12"
  },
  "orig_nbformat": 4,
  "vscode": {
   "interpreter": {
    "hash": "5ca59c31ddc1bb1d3e926feef50b5ca0d1eacb2093eee1a1a79c0269dbb49758"
   }
  }
 },
 "nbformat": 4,
 "nbformat_minor": 2
}

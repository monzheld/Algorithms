{
 "cells": [
  {
   "attachments": {},
   "cell_type": "markdown",
   "metadata": {},
   "source": [
    "1764번\n",
    "\n",
    "[문제](https://www.acmicpc.net/problem/1764)"
   ]
  },
  {
   "attachments": {},
   "cell_type": "markdown",
   "metadata": {},
   "source": [
    "### 문자열"
   ]
  },
  {
   "attachments": {},
   "cell_type": "markdown",
   "metadata": {},
   "source": [
    "- 김진영이 듣도 못한 사람의 명단과, 보도 못한 사람의 명단이 주어질 때, 듣도 보도 못한 사람의 명단을 구하기"
   ]
  },
  {
   "attachments": {},
   "cell_type": "markdown",
   "metadata": {},
   "source": [
    "- 입력\n",
    "    - 첫째 줄에 듣도 못한 사람의 수 N, 보도 못한 사람의 수 M이 주어짐\n",
    "    - 이어서 둘째 줄부터 N개의 줄에 걸쳐 듣도 못한 사람의 이름과, N+2째 줄부터 보도 못한 사람의 이름이 순서대로 주어짐\n",
    "    - 이름은 띄어쓰기 없이 알파벳 소문자로만 이루어지며, 그 길이는 20 이하\n",
    "    - N, M은 500,000 이하의 자연수\n",
    "    - 듣도 못한 사람의 명단에는 중복되는 이름이 없으며, 보도 못한 사람의 명단도 마찬가지\n",
    "- 출력\n",
    "    - 듣보잡의 수와 그 **명단을 사전순으로 출력**\n",
    "\n",
    "- 시간 제한: 2초\n",
    "- 메모리 제한: 256 MB"
   ]
  },
  {
   "cell_type": "code",
   "execution_count": null,
   "metadata": {},
   "outputs": [],
   "source": [
    "\"\"\"\n",
    "입출력 예시)\n",
    "\n",
    "3 4\n",
    "ohhenrie\n",
    "charlie\n",
    "baesangwook\n",
    "obama\n",
    "baesangwook\n",
    "ohhenrie\n",
    "clinton\n",
    "        -> 2\n",
    "           baesangwook\n",
    "           ohhenrie\n",
    "\"\"\""
   ]
  },
  {
   "attachments": {},
   "cell_type": "markdown",
   "metadata": {},
   "source": [
    "## 2023/06/11"
   ]
  },
  {
   "cell_type": "code",
   "execution_count": null,
   "metadata": {},
   "outputs": [],
   "source": [
    "## 의사코드 ##\n",
    "\n",
    "# 중복된 이름 없음 \n",
    "# -> 듣도 못한 사람, 보도 못한 사람 각각 set()으로 설정\n",
    "\n",
    "# set 집합에 요소 추가 \n",
    "# set().add()\n",
    "\n",
    "# 두 집합의 공통된 요소 추리기\n",
    "# list(듣도 못한 사람 & 보도 못한 사람)\n",
    "\n",
    "# 사전순으로 정렬"
   ]
  },
  {
   "attachments": {},
   "cell_type": "markdown",
   "metadata": {},
   "source": [
    "### 통과)"
   ]
  },
  {
   "cell_type": "code",
   "execution_count": 3,
   "metadata": {},
   "outputs": [
    {
     "name": "stdout",
     "output_type": "stream",
     "text": [
      "2\n",
      "baesangwook\n",
      "ohhenrie\n"
     ]
    }
   ],
   "source": [
    "n, m = map(int, input().split())\n",
    "listen = set() # 듣도 못한 사람 리스트\n",
    "see = set() # 보도 못한 사람 리스트\n",
    "for i in range(n+m):\n",
    "    if i < n:\n",
    "        listen.add(input())\n",
    "    else:\n",
    "        see.add(input())\n",
    "\n",
    "# 사전순으로 정렬 & 듣도 보도 못한 사람\n",
    "result = sorted(list(listen & see))\n",
    "\n",
    "print(len(result), *result, sep = '\\n')"
   ]
  }
 ],
 "metadata": {
  "kernelspec": {
   "display_name": "base",
   "language": "python",
   "name": "python3"
  },
  "language_info": {
   "codemirror_mode": {
    "name": "ipython",
    "version": 3
   },
   "file_extension": ".py",
   "mimetype": "text/x-python",
   "name": "python",
   "nbconvert_exporter": "python",
   "pygments_lexer": "ipython3",
   "version": "3.9.7"
  },
  "orig_nbformat": 4
 },
 "nbformat": 4,
 "nbformat_minor": 2
}

{
 "cells": [
  {
   "attachments": {},
   "cell_type": "markdown",
   "metadata": {},
   "source": [
    "18406번\n",
    "\n",
    "[문제](https://www.acmicpc.net/problem/18406)"
   ]
  },
  {
   "attachments": {},
   "cell_type": "markdown",
   "metadata": {},
   "source": [
    "### 문자열"
   ]
  },
  {
   "attachments": {},
   "cell_type": "markdown",
   "metadata": {},
   "source": [
    "- 어떤 게임의 아웃복서 캐릭터에게는 럭키 스트레이트라는 기술이 존재\n",
    "- 현재 게임 내에서 점수가 특정 조건을 만족할 때만 사용 가능\n",
    "- 특정 조건이란 현재 캐릭터의 점수를 N이라고 할 때 점수 **N을 자릿수를 기준으로 반으로 나누어 왼쪽 부분의 각 자릿수의 합과 오른쪽 부분의 각 자릿수의 합을 더한 값이 동일한 상황**\n",
    "- 예를 들어 현재 점수가 123,402라면\n",
    "    - 왼쪽 부분의 각 자릿수의 합은 1+2+3, 오른쪽 부분의 각 자릿수의 합은 4+0+2\n",
    "    - 두 합이 6으로 동일하여 럭키 스트레이트를 사용할 수 있음\n",
    "- 현재 점수 N이 주어졌을 때, 럭키 스트레이트를 사용할 수 있는 상태인지 아닌지를 구하기\n",
    "- **럭키 스트레이트를 사용할 수 있다면 \"LUCKY\"를, 사용할 수 없다면 \"READY\"라는 단어를 출력**\n",
    "- 점수 N의 자릿수는 항상 짝수 형태로만 주어짐"
   ]
  },
  {
   "attachments": {},
   "cell_type": "markdown",
   "metadata": {},
   "source": [
    "- 입력\n",
    "    - 첫째 줄에 점수 N이 정수로 주어짐 (10 ≤ N ≤ 99,999,999) \n",
    "    - 단, 점수 N의 자릿수는 항상 짝수 형태로만 주어짐\n",
    "- 출력\n",
    "    - 첫째 줄에 럭키 스트레이트를 사용할 수 있다면 \"LUCKY\"를, 사용할 수 없다면 \"READY\"라는 단어를 출력\n",
    "- 시간 제한: 1초\n",
    "- 메모리 제한: 256 MB"
   ]
  },
  {
   "cell_type": "code",
   "execution_count": null,
   "metadata": {},
   "outputs": [],
   "source": [
    "\"\"\"\n",
    "입출력 예시)\n",
    "\n",
    "(예제 입력 1) \n",
    "123402 -> LUCKY\n",
    "\n",
    "(예제 입력 2)\n",
    "7755 -> READY\n",
    "\"\"\""
   ]
  },
  {
   "attachments": {},
   "cell_type": "markdown",
   "metadata": {},
   "source": [
    "## 2023/03/02"
   ]
  },
  {
   "cell_type": "code",
   "execution_count": null,
   "metadata": {},
   "outputs": [],
   "source": [
    "## 의사코드 ##\n",
    "\n",
    "# N의 길이는 항상 짝수\n",
    "# 점수 N을 자릿수를 기준으로 반으로 나누어 왼쪽 자릿수의 합과 오른쪽 자릿수의 합 비교\n",
    "# -> mid 인덱스로 슬라이싱 \n",
    "\n",
    "# mid = len(n) // 2 # 점수 n의 자릿수 기준 절반\n",
    "# left = n[:mid] # 처음부터 절반까지\n",
    "# right = n[mid:] # 절반부터 마지막까지\n",
    "\n",
    "# 왼쪽 자릿수의 합과 오른쪽 자릿수의 합\n",
    "#     1) 각 자릿수가 들어간 리스트로 생성\n",
    "#         list(left)\n",
    "#     2) 리스트의 각 원소를 int로 변환\n",
    "#         map(int, list(left))\n",
    "#     3) 각 자릿수의 합 구하기\n",
    "#         sum(map(int, list(left)))"
   ]
  },
  {
   "attachments": {},
   "cell_type": "markdown",
   "metadata": {},
   "source": [
    "### 통과)"
   ]
  },
  {
   "cell_type": "code",
   "execution_count": 6,
   "metadata": {},
   "outputs": [
    {
     "name": "stdout",
     "output_type": "stream",
     "text": [
      "READY\n"
     ]
    }
   ],
   "source": [
    "n = str(input())\n",
    "\n",
    "# 점수 n의 자릿수 기준 절반의 인덱스\n",
    "mid = len(n) // 2 \n",
    "\n",
    "# 왼쪽 자릿수의 합\n",
    "left = sum(map(int, list(n[:mid]))) \n",
    "# 오른쪽 자릿수의 합\n",
    "right = sum(map(int, list(n[mid:]))) \n",
    "\n",
    "# 럭키 스트레이트를 사용할 수 있다면 \"LUCKY\", 사용할 수 없다면 \"READY\"\n",
    "if left == right:\n",
    "    print('LUCKY')\n",
    "else:\n",
    "    print('READY')"
   ]
  }
 ],
 "metadata": {
  "kernelspec": {
   "display_name": "cp2",
   "language": "python",
   "name": "python3"
  },
  "language_info": {
   "codemirror_mode": {
    "name": "ipython",
    "version": 3
   },
   "file_extension": ".py",
   "mimetype": "text/x-python",
   "name": "python",
   "nbconvert_exporter": "python",
   "pygments_lexer": "ipython3",
   "version": "3.9.12"
  },
  "orig_nbformat": 4
 },
 "nbformat": 4,
 "nbformat_minor": 2
}

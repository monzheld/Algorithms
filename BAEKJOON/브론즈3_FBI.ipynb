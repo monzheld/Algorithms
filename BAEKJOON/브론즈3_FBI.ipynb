{
 "cells": [
  {
   "attachments": {},
   "cell_type": "markdown",
   "metadata": {},
   "source": [
    "2857번\n",
    "\n",
    "[문제](https://www.acmicpc.net/problem/2857)"
   ]
  },
  {
   "attachments": {},
   "cell_type": "markdown",
   "metadata": {},
   "source": [
    "### 문자열"
   ]
  },
  {
   "attachments": {},
   "cell_type": "markdown",
   "metadata": {},
   "source": [
    "- 5명의 요원 중 FBI 요원을 찾기\n",
    "- FBI요원은 요원의 첩보원명에 FBI가 들어있음"
   ]
  },
  {
   "attachments": {},
   "cell_type": "markdown",
   "metadata": {},
   "source": [
    "- 입력\n",
    "    - 5개 줄에 요원의 첩보원명이 주어짐\n",
    "    - 첩보원명은 알파벳 대문자, 숫자 0~9, 대시 (-)로만 이루어져 있으며, 최대 10글자\n",
    "- 출력\n",
    "    - 첫째 줄에 FBI 요원을 출력\n",
    "    - 이때, 해당하는 요원이 몇 번째 입력인지를 공백으로 구분하여 출력해야 하며, 오름차순으로 출력해야 함\n",
    "    - 만약 FBI 요원이 없다면 \"HE GOT AWAY!\"를 출력\n",
    "\n",
    "- 시간 제한: 0.25초\n",
    "- 메모리 제한: 128 MB"
   ]
  },
  {
   "cell_type": "code",
   "execution_count": null,
   "metadata": {},
   "outputs": [],
   "source": [
    "\"\"\"\n",
    "입출력 예시)\n",
    "\n",
    "(예제 입력 1) \n",
    "N-FBI1\n",
    "9A-USKOK\n",
    "I-NTERPOL\n",
    "G-MI6\n",
    "RF-KGB1\n",
    "        -> 1\n",
    "\n",
    "(예제 입력 2) \n",
    "N321-CIA\n",
    "F3-B12I\n",
    "F-BI-12\n",
    "OVO-JE-CIA\n",
    "KRIJUMCAR1\n",
    "            -> HE GOT AWAY!\n",
    "\n",
    "(예제 입력 3) \n",
    "47-FBI\n",
    "BOND-007\n",
    "RF-FBI18\n",
    "MARICA-13\n",
    "13A-FBILL\n",
    "        -> 1 3 5\n",
    "\"\"\""
   ]
  },
  {
   "attachments": {},
   "cell_type": "markdown",
   "metadata": {},
   "source": [
    "## 2023/05/30"
   ]
  },
  {
   "cell_type": "code",
   "execution_count": null,
   "metadata": {},
   "outputs": [],
   "source": [
    "## 의사코드 ##\n",
    "\n",
    "# 입력 받은 문자열에 'FBI'가 들어있으면 (index+1)을 리스트에 저장\n",
    "\n",
    "# 저장한 리스트가 비어있으면 'HE GOT AWAY!' 출력\n",
    "# 아니라면 오름차순으로 출력 \n",
    "#     -> *리스트"
   ]
  },
  {
   "attachments": {},
   "cell_type": "markdown",
   "metadata": {},
   "source": [
    "### 통과)"
   ]
  },
  {
   "cell_type": "code",
   "execution_count": 4,
   "metadata": {},
   "outputs": [
    {
     "name": "stdout",
     "output_type": "stream",
     "text": [
      "HE GOT AWAY!\n"
     ]
    }
   ],
   "source": [
    "fbi = []\n",
    "for i in range(5):\n",
    "    name = input()\n",
    "    if 'FBI' in name:\n",
    "        fbi.append((i+1))\n",
    "if len(fbi) == 0:\n",
    "    print('HE GOT AWAY!')\n",
    "else:\n",
    "    print(*fbi)"
   ]
  }
 ],
 "metadata": {
  "kernelspec": {
   "display_name": "base",
   "language": "python",
   "name": "python3"
  },
  "language_info": {
   "codemirror_mode": {
    "name": "ipython",
    "version": 3
   },
   "file_extension": ".py",
   "mimetype": "text/x-python",
   "name": "python",
   "nbconvert_exporter": "python",
   "pygments_lexer": "ipython3",
   "version": "3.9.7"
  },
  "orig_nbformat": 4
 },
 "nbformat": 4,
 "nbformat_minor": 2
}

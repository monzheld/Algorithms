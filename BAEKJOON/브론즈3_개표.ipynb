{
 "cells": [
  {
   "attachments": {},
   "cell_type": "markdown",
   "metadata": {},
   "source": [
    "10102번\n",
    "\n",
    "[문제](https://www.acmicpc.net/problem/10102)"
   ]
  },
  {
   "attachments": {},
   "cell_type": "markdown",
   "metadata": {},
   "source": [
    "### 문자열"
   ]
  },
  {
   "attachments": {},
   "cell_type": "markdown",
   "metadata": {},
   "source": [
    "- A와 B가 한 오디션 프로의 결승전에 진출함\n",
    "- 결승전의 승자는 심사위원의 투표로 결정됨\n",
    "- 심사위원의 투표 결과가 주어졌을 때, 어떤 사람이 우승하는지 구하기"
   ]
  },
  {
   "attachments": {},
   "cell_type": "markdown",
   "metadata": {},
   "source": [
    "- 입력\n",
    "    - 입력은 총 두 줄로 이루어져 있음\n",
    "    - 첫째 줄에는 심사위원의 수 V (1 ≤  V ≤  15)가 주어지고, 둘째 줄에는 각 심사위원이 누구에게 투표했는지가 주어짐\n",
    "    - A와 B는 각각 그 참가자를 나타냄\n",
    "- 출력\n",
    "    - A가 받은 표가 B보다 많은 경우에는 A\n",
    "    - B가 받은 표가 A보다 많은 경우에는 B\n",
    "    - 같은 경우에는 Tie\n",
    "\n",
    "- 시간 제한: 1초\n",
    "- 메모리 제한: 256 MB"
   ]
  },
  {
   "cell_type": "code",
   "execution_count": null,
   "metadata": {},
   "outputs": [],
   "source": [
    "\"\"\"\n",
    "입출력 예시)\n",
    "\n",
    "6\n",
    "ABBABB\n",
    "      -> B\n",
    "\"\"\""
   ]
  },
  {
   "attachments": {},
   "cell_type": "markdown",
   "metadata": {},
   "source": [
    "## 2023/05/10"
   ]
  },
  {
   "cell_type": "code",
   "execution_count": null,
   "metadata": {},
   "outputs": [],
   "source": [
    "## 의사코드 ##\n",
    "\n",
    "# a, b = 0, 0 # A의 득표수, B의 득표수\n",
    "\n",
    "# for i in vote:\n",
    "#     if i == 'A':\n",
    "#         a += 1\n",
    "#     else:\n",
    "#         b += 1"
   ]
  },
  {
   "attachments": {},
   "cell_type": "markdown",
   "metadata": {},
   "source": [
    "### 통과)"
   ]
  },
  {
   "cell_type": "code",
   "execution_count": 13,
   "metadata": {},
   "outputs": [
    {
     "name": "stdout",
     "output_type": "stream",
     "text": [
      "B\n"
     ]
    }
   ],
   "source": [
    "v = int(input()) # 심사위원의 수\n",
    "vote = input() # 각 심사위원이 누구에게 투표했는지\n",
    "\n",
    "a, b = 0, 0 # A의 득표수, B의 득표수\n",
    "\n",
    "# 득표수 카운트\n",
    "for i in vote:\n",
    "    if i == 'A':\n",
    "        a += 1\n",
    "    else:\n",
    "        b += 1\n",
    "\n",
    "# 득표수가 같은 경우, Tie\n",
    "if a == b:\n",
    "    print('Tie')\n",
    "# A가 받은 표가 B보다 많은 경우, A\n",
    "elif a > b:\n",
    "    print('A')\n",
    "# B가 받은 표가 A보다 많은 경우, B\n",
    "else:\n",
    "    print('B')"
   ]
  }
 ],
 "metadata": {
  "kernelspec": {
   "display_name": "base",
   "language": "python",
   "name": "python3"
  },
  "language_info": {
   "codemirror_mode": {
    "name": "ipython",
    "version": 3
   },
   "file_extension": ".py",
   "mimetype": "text/x-python",
   "name": "python",
   "nbconvert_exporter": "python",
   "pygments_lexer": "ipython3",
   "version": "3.9.7"
  },
  "orig_nbformat": 4
 },
 "nbformat": 4,
 "nbformat_minor": 2
}

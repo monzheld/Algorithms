{
 "cells": [
  {
   "attachments": {},
   "cell_type": "markdown",
   "metadata": {},
   "source": [
    "5586번\n",
    "\n",
    "[문제](https://www.acmicpc.net/problem/5586)"
   ]
  },
  {
   "attachments": {},
   "cell_type": "markdown",
   "metadata": {},
   "source": [
    "### 문자열"
   ]
  },
  {
   "attachments": {},
   "cell_type": "markdown",
   "metadata": {},
   "source": [
    "- 입력으로 주어지는 문자열에서 연속으로 3개의 문자가 JOI 또는 IOI인 곳이 각각 몇 개 있는지 구하기\n",
    "- 문자열은 알파벳 대문자로만 이루어져 있음"
   ]
  },
  {
   "attachments": {},
   "cell_type": "markdown",
   "metadata": {},
   "source": [
    "<img width=\"238\" alt=\"스크린샷 2023-04-03 22 07 53\" src=\"https://user-images.githubusercontent.com/93971420/229518954-9471e65a-bd81-4c66-89d7-f25162a04aa8.png\">"
   ]
  },
  {
   "attachments": {},
   "cell_type": "markdown",
   "metadata": {},
   "source": [
    "- 예를 들어, \"JOIOIOI\"에는 JOI가 1개, IOI가 2개 있음"
   ]
  },
  {
   "attachments": {},
   "cell_type": "markdown",
   "metadata": {},
   "source": [
    "- 입력\n",
    "    - 첫째 줄에 알파벳 10000자 이내의 문자열이 주어짐\n",
    "- 출력\n",
    "    - 첫째 줄에 문자열에 포함되어 있는 JOI의 개수, 둘째 줄에 IOI의 개수를 출력\n",
    "\n",
    "- 시간 제한: 1초\n",
    "- 메모리 제한: 128 MB"
   ]
  },
  {
   "cell_type": "code",
   "execution_count": null,
   "metadata": {},
   "outputs": [],
   "source": [
    "\"\"\"\n",
    "입출력 예시)\n",
    "\n",
    "(예제 입력 1) \n",
    "JOIJOI\n",
    "        -> 2\n",
    "           0\n",
    "\n",
    "(예제 입력 2)\n",
    "JOIOIOIOI\n",
    "        -> 1\n",
    "           3\n",
    "\n",
    "(예제 입력 3)\n",
    "JOIOIJOINXNXJIOIOIOJ\n",
    "        -> 2\n",
    "           3\n",
    "\"\"\""
   ]
  },
  {
   "attachments": {},
   "cell_type": "markdown",
   "metadata": {},
   "source": [
    "## 2023/04/03"
   ]
  },
  {
   "cell_type": "code",
   "execution_count": null,
   "metadata": {},
   "outputs": [],
   "source": [
    "## 의사코드 ##\n",
    "\n",
    "# for i in range(len(str)):\n",
    "    # 연속으로 3개의 문자가 JOI이면 JOI의 개수 + 1\n",
    "    # if str[i:i+3] == 'JOI':\n",
    "        # joi += 1\n",
    "    # 연속으로 3개의 문자가 IOI이면 IOI의 개수 + 1\n",
    "    # elif str[i:i+3] == 'IOI':\n",
    "        # ioi += 1"
   ]
  },
  {
   "attachments": {},
   "cell_type": "markdown",
   "metadata": {},
   "source": [
    "### 통과)"
   ]
  },
  {
   "cell_type": "code",
   "execution_count": 4,
   "metadata": {},
   "outputs": [
    {
     "name": "stdout",
     "output_type": "stream",
     "text": [
      "2\n",
      "3\n"
     ]
    }
   ],
   "source": [
    "str = input()\n",
    "joi, ioi = 0, 0\n",
    "for i in range(len(str)):\n",
    "    # 연속으로 3개의 문자가 JOI이면 JOI의 개수 + 1\n",
    "    if str[i:i+3] == 'JOI':\n",
    "        joi += 1\n",
    "    # 연속으로 3개의 문자가 IOI이면 IOI의 개수 + 1\n",
    "    elif str[i:i+3] == 'IOI':\n",
    "        ioi += 1\n",
    "print(joi)\n",
    "print(ioi)"
   ]
  }
 ],
 "metadata": {
  "kernelspec": {
   "display_name": "base",
   "language": "python",
   "name": "python3"
  },
  "language_info": {
   "codemirror_mode": {
    "name": "ipython",
    "version": 3
   },
   "file_extension": ".py",
   "mimetype": "text/x-python",
   "name": "python",
   "nbconvert_exporter": "python",
   "pygments_lexer": "ipython3",
   "version": "3.9.7"
  },
  "orig_nbformat": 4
 },
 "nbformat": 4,
 "nbformat_minor": 2
}

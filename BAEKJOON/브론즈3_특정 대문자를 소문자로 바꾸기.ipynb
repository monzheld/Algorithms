{
 "cells": [
  {
   "attachments": {},
   "cell_type": "markdown",
   "metadata": {},
   "source": [
    "26040번\n",
    "\n",
    "[문제](https://www.acmicpc.net/problem/26040)"
   ]
  },
  {
   "attachments": {},
   "cell_type": "markdown",
   "metadata": {},
   "source": [
    "### 문자열"
   ]
  },
  {
   "attachments": {},
   "cell_type": "markdown",
   "metadata": {},
   "source": [
    "- 알파벳 대소문자로 구성된 문자열 A가 주어짐\n",
    "- 한 개 이상의 알파벳 대문자가 공백으로 구분된 문자 목록 B가 주어짐\n",
    "- 문자 목록 B에는 중복된 대문자가 존재하지 않음\n",
    "- 문자 목록 **B에 존재하는 모든 대문자 b에 대하여, 문자열 A에 존재하는 대문자 b를 대응하는 소문자로 치환**한 문자열을 C\n",
    "- 입력으로 문자열 A와 문자 목록 B가 주어지면 문자열 C를 출력하기"
   ]
  },
  {
   "attachments": {},
   "cell_type": "markdown",
   "metadata": {},
   "source": [
    "- 입력\n",
    "    - 첫 번째 줄에 문자열 A가 주어짐\n",
    "    - 두 번째 줄에 문자 목록 B가 주어짐\n",
    "- 출력\n",
    "    - 첫 번째 줄에 문자열 C를 출력\n",
    "\n",
    "- 시간 제한: 0.1초\n",
    "- 메모리 제한: 512 MB\n"
   ]
  },
  {
   "attachments": {},
   "cell_type": "markdown",
   "metadata": {},
   "source": [
    "- 제한\n",
    "    - 3 ≤ 문자열 A 길이 ≤ 100,000\n",
    "    - 1 ≤ 문자 목록 B에 있는 대문자의 개수 ≤ 26\n",
    "    - 문자 목록 B에는 중복된 대문자가 존재하지 않음"
   ]
  },
  {
   "cell_type": "code",
   "execution_count": null,
   "metadata": {},
   "outputs": [],
   "source": [
    "\"\"\"\n",
    "입출력 예시)\n",
    "\n",
    "(예제 입력 1) \n",
    "ABabC\n",
    "A\n",
    "        -> aBabC\n",
    "\n",
    "(예제 입력 2) \n",
    "ABabC\n",
    "A B D\n",
    "        -> ababC\n",
    "\"\"\""
   ]
  },
  {
   "attachments": {},
   "cell_type": "markdown",
   "metadata": {},
   "source": [
    "## 2023/06/05"
   ]
  },
  {
   "cell_type": "code",
   "execution_count": null,
   "metadata": {},
   "outputs": [],
   "source": [
    "## 의사코드 ##\n",
    "\n",
    "# 대문자 문자열 리스트에 있으면 소문자로 변환, 아니면 그대로 출력\n",
    "# res = ''\n",
    "# for s in string:\n",
    "#     대문자 문자열 리스트에 있는 문자이면 소문자로 변환\n",
    "#     if s in upper_list:\n",
    "#         res += s.lower()\n",
    "#     else:\n",
    "#         res += s"
   ]
  },
  {
   "attachments": {},
   "cell_type": "markdown",
   "metadata": {},
   "source": [
    "### 통과)"
   ]
  },
  {
   "cell_type": "code",
   "execution_count": 2,
   "metadata": {},
   "outputs": [
    {
     "name": "stdout",
     "output_type": "stream",
     "text": [
      "ababC\n"
     ]
    }
   ],
   "source": [
    "string = input()\n",
    "# 대문자 문자열 리스트\n",
    "upper_list = input().split()\n",
    "\n",
    "res = ''\n",
    "for s in string:\n",
    "    # 대문자 문자열 리스트에 있는 문자이면 소문자로 변환\n",
    "    if s in upper_list:\n",
    "        res += s.lower()\n",
    "    else:\n",
    "        res += s\n",
    "\n",
    "print(res)"
   ]
  }
 ],
 "metadata": {
  "kernelspec": {
   "display_name": "base",
   "language": "python",
   "name": "python3"
  },
  "language_info": {
   "codemirror_mode": {
    "name": "ipython",
    "version": 3
   },
   "file_extension": ".py",
   "mimetype": "text/x-python",
   "name": "python",
   "nbconvert_exporter": "python",
   "pygments_lexer": "ipython3",
   "version": "3.9.7"
  },
  "orig_nbformat": 4
 },
 "nbformat": 4,
 "nbformat_minor": 2
}
